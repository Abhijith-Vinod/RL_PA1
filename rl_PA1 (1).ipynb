{
  "nbformat": 4,
  "nbformat_minor": 0,
  "metadata": {
    "colab": {
      "provenance": []
    },
    "kernelspec": {
      "name": "python3",
      "display_name": "Python 3"
    },
    "language_info": {
      "name": "python"
    }
  },
  "cells": [
    {
      "cell_type": "code",
      "execution_count": 1,
      "metadata": {
        "colab": {
          "base_uri": "https://localhost:8080/"
        },
        "id": "jgkBMQY7lnED",
        "outputId": "88c38bb1-5dbf-465e-fc3e-d903aad298f2"
      },
      "outputs": [
        {
          "output_type": "stream",
          "name": "stdout",
          "text": [
            "Requirement already satisfied: numpy in /usr/local/lib/python3.11/dist-packages (2.0.2)\n",
            "Requirement already satisfied: gymnasium in /usr/local/lib/python3.11/dist-packages (1.1.1)\n",
            "Requirement already satisfied: wandb in /usr/local/lib/python3.11/dist-packages (0.19.8)\n",
            "Requirement already satisfied: matplotlib in /usr/local/lib/python3.11/dist-packages (3.10.0)\n",
            "Requirement already satisfied: cloudpickle>=1.2.0 in /usr/local/lib/python3.11/dist-packages (from gymnasium) (3.1.1)\n",
            "Requirement already satisfied: typing-extensions>=4.3.0 in /usr/local/lib/python3.11/dist-packages (from gymnasium) (4.12.2)\n",
            "Requirement already satisfied: farama-notifications>=0.0.1 in /usr/local/lib/python3.11/dist-packages (from gymnasium) (0.0.4)\n",
            "Requirement already satisfied: click!=8.0.0,>=7.1 in /usr/local/lib/python3.11/dist-packages (from wandb) (8.1.8)\n",
            "Requirement already satisfied: docker-pycreds>=0.4.0 in /usr/local/lib/python3.11/dist-packages (from wandb) (0.4.0)\n",
            "Requirement already satisfied: gitpython!=3.1.29,>=1.0.0 in /usr/local/lib/python3.11/dist-packages (from wandb) (3.1.44)\n",
            "Requirement already satisfied: platformdirs in /usr/local/lib/python3.11/dist-packages (from wandb) (4.3.7)\n",
            "Requirement already satisfied: protobuf!=4.21.0,!=5.28.0,<6,>=3.19.0 in /usr/local/lib/python3.11/dist-packages (from wandb) (5.29.4)\n",
            "Requirement already satisfied: psutil>=5.0.0 in /usr/local/lib/python3.11/dist-packages (from wandb) (5.9.5)\n",
            "Requirement already satisfied: pydantic<3,>=2.6 in /usr/local/lib/python3.11/dist-packages (from wandb) (2.10.6)\n",
            "Requirement already satisfied: pyyaml in /usr/local/lib/python3.11/dist-packages (from wandb) (6.0.2)\n",
            "Requirement already satisfied: requests<3,>=2.0.0 in /usr/local/lib/python3.11/dist-packages (from wandb) (2.32.3)\n",
            "Requirement already satisfied: sentry-sdk>=2.0.0 in /usr/local/lib/python3.11/dist-packages (from wandb) (2.24.0)\n",
            "Requirement already satisfied: setproctitle in /usr/local/lib/python3.11/dist-packages (from wandb) (1.3.5)\n",
            "Requirement already satisfied: setuptools in /usr/local/lib/python3.11/dist-packages (from wandb) (75.1.0)\n",
            "Requirement already satisfied: contourpy>=1.0.1 in /usr/local/lib/python3.11/dist-packages (from matplotlib) (1.3.1)\n",
            "Requirement already satisfied: cycler>=0.10 in /usr/local/lib/python3.11/dist-packages (from matplotlib) (0.12.1)\n",
            "Requirement already satisfied: fonttools>=4.22.0 in /usr/local/lib/python3.11/dist-packages (from matplotlib) (4.56.0)\n",
            "Requirement already satisfied: kiwisolver>=1.3.1 in /usr/local/lib/python3.11/dist-packages (from matplotlib) (1.4.8)\n",
            "Requirement already satisfied: packaging>=20.0 in /usr/local/lib/python3.11/dist-packages (from matplotlib) (24.2)\n",
            "Requirement already satisfied: pillow>=8 in /usr/local/lib/python3.11/dist-packages (from matplotlib) (11.1.0)\n",
            "Requirement already satisfied: pyparsing>=2.3.1 in /usr/local/lib/python3.11/dist-packages (from matplotlib) (3.2.1)\n",
            "Requirement already satisfied: python-dateutil>=2.7 in /usr/local/lib/python3.11/dist-packages (from matplotlib) (2.8.2)\n",
            "Requirement already satisfied: six>=1.4.0 in /usr/local/lib/python3.11/dist-packages (from docker-pycreds>=0.4.0->wandb) (1.17.0)\n",
            "Requirement already satisfied: gitdb<5,>=4.0.1 in /usr/local/lib/python3.11/dist-packages (from gitpython!=3.1.29,>=1.0.0->wandb) (4.0.12)\n",
            "Requirement already satisfied: annotated-types>=0.6.0 in /usr/local/lib/python3.11/dist-packages (from pydantic<3,>=2.6->wandb) (0.7.0)\n",
            "Requirement already satisfied: pydantic-core==2.27.2 in /usr/local/lib/python3.11/dist-packages (from pydantic<3,>=2.6->wandb) (2.27.2)\n",
            "Requirement already satisfied: charset-normalizer<4,>=2 in /usr/local/lib/python3.11/dist-packages (from requests<3,>=2.0.0->wandb) (3.4.1)\n",
            "Requirement already satisfied: idna<4,>=2.5 in /usr/local/lib/python3.11/dist-packages (from requests<3,>=2.0.0->wandb) (3.10)\n",
            "Requirement already satisfied: urllib3<3,>=1.21.1 in /usr/local/lib/python3.11/dist-packages (from requests<3,>=2.0.0->wandb) (2.3.0)\n",
            "Requirement already satisfied: certifi>=2017.4.17 in /usr/local/lib/python3.11/dist-packages (from requests<3,>=2.0.0->wandb) (2025.1.31)\n",
            "Requirement already satisfied: smmap<6,>=3.0.1 in /usr/local/lib/python3.11/dist-packages (from gitdb<5,>=4.0.1->gitpython!=3.1.29,>=1.0.0->wandb) (5.0.2)\n"
          ]
        }
      ],
      "source": [
        "!pip install numpy gymnasium wandb matplotlib"
      ]
    },
    {
      "cell_type": "code",
      "source": [
        "import numpy as np\n",
        "import gymnasium as gym\n",
        "import wandb\n",
        "import random\n",
        "import matplotlib.pyplot as plt\n",
        "from collections import defaultdict\n",
        "\n",
        "# Set random seed for reproducibility\n",
        "def set_seed(seed):\n",
        "    random.seed(seed)\n",
        "    np.random.seed(seed)\n",
        "    gym.utils.seeding.np_random(seed)\n",
        "    return seed\n",
        "\n",
        "# Discretize the continuous state space\n",
        "class StateDiscretizer:\n",
        "    def __init__(self, n_bins=10):\n",
        "        self.n_bins = n_bins\n",
        "        # CartPole-v1 state space bounds\n",
        "        self.cart_position_bins = np.linspace(-2.4, 2.4, n_bins)\n",
        "        self.cart_velocity_bins = np.linspace(-4, 4, n_bins)\n",
        "        self.pole_angle_bins = np.linspace(-0.2095, 0.2095, n_bins)\n",
        "        self.pole_velocity_bins = np.linspace(-4, 4, n_bins)\n",
        "\n",
        "    def discretize(self, state):\n",
        "        cart_pos, cart_vel, pole_angle, pole_vel = state\n",
        "\n",
        "        # Discretize each dimension\n",
        "        cart_pos_bin = np.digitize(cart_pos, self.cart_position_bins)\n",
        "        cart_vel_bin = np.digitize(cart_vel, self.cart_velocity_bins)\n",
        "        pole_angle_bin = np.digitize(pole_angle, self.pole_angle_bins)\n",
        "        pole_vel_bin = np.digitize(pole_vel, self.pole_velocity_bins)\n",
        "\n",
        "        # Combine into a single discrete state\n",
        "        return (cart_pos_bin, cart_vel_bin, pole_angle_bin, pole_vel_bin)\n",
        "\n",
        "# SARSA Agent with epsilon-greedy exploration\n",
        "class SARSAAgent:\n",
        "    def __init__(self, state_discretizer, action_space, alpha=0.1, gamma=0.99, epsilon=0.1):\n",
        "        self.state_discretizer = state_discretizer\n",
        "        self.action_space = action_space\n",
        "        self.alpha = alpha\n",
        "        self.gamma = gamma\n",
        "        self.epsilon = epsilon\n",
        "        self.q_table = defaultdict(lambda: np.zeros(action_space.n))\n",
        "\n",
        "    def select_action(self, state):\n",
        "        state = self.state_discretizer.discretize(state)\n",
        "\n",
        "        # Epsilon-greedy policy\n",
        "        if np.random.random() < self.epsilon:\n",
        "            return self.action_space.sample()  # Explore\n",
        "        else:\n",
        "            return np.argmax(self.q_table[state])  # Exploit\n",
        "\n",
        "    def update(self, state, action, reward, next_state, next_action, done):\n",
        "        state = self.state_discretizer.discretize(state)\n",
        "        next_state = self.state_discretizer.discretize(next_state)\n",
        "\n",
        "        # SARSA update rule\n",
        "        current_q = self.q_table[state][action]\n",
        "\n",
        "        if done:\n",
        "            target_q = reward\n",
        "        else:\n",
        "            target_q = reward + self.gamma * self.q_table[next_state][next_action]\n",
        "\n",
        "        # Update Q-value\n",
        "        self.q_table[state][action] += self.alpha * (target_q - current_q)\n",
        "\n",
        "# Q-Learning Agent with Softmax exploration\n",
        "class QLearningAgent:\n",
        "    def __init__(self, state_discretizer, action_space, alpha=0.1, gamma=0.99, temperature=1.0):\n",
        "        self.state_discretizer = state_discretizer\n",
        "        self.action_space = action_space\n",
        "        self.alpha = alpha\n",
        "        self.gamma = gamma\n",
        "        self.temperature = temperature\n",
        "        self.q_table = defaultdict(lambda: np.zeros(action_space.n))\n",
        "\n",
        "    def select_action(self, state):\n",
        "        state = self.state_discretizer.discretize(state)\n",
        "\n",
        "        # Softmax exploration\n",
        "        q_values = self.q_table[state]\n",
        "        exp_q = np.exp(q_values / self.temperature)\n",
        "        probabilities = exp_q / np.sum(exp_q)\n",
        "\n",
        "        # Sample action based on probabilities\n",
        "        return np.random.choice(self.action_space.n, p=probabilities)\n",
        "\n",
        "    def update(self, state, action, reward, next_state, done):\n",
        "        state = self.state_discretizer.discretize(state)\n",
        "        next_state = self.state_discretizer.discretize(next_state)\n",
        "\n",
        "        # Q-Learning update rule\n",
        "        current_q = self.q_table[state][action]\n",
        "\n",
        "        if done:\n",
        "            target_q = reward\n",
        "        else:\n",
        "            target_q = reward + self.gamma * np.max(self.q_table[next_state])\n",
        "\n",
        "        # Update Q-value\n",
        "        self.q_table[state][action] += self.alpha * (target_q - current_q)\n",
        "\n",
        "# Training function for SARSA\n",
        "def train_sarsa(config=None):\n",
        "    with wandb.init(config=config):\n",
        "        config = wandb.config\n",
        "\n",
        "        # Fixed seeds\n",
        "        seeds = [42, 123, 456, 789, 101]\n",
        "        all_final_rewards = []\n",
        "\n",
        "        for seed in seeds:\n",
        "            # Set environment\n",
        "            env = gym.make(\"CartPole-v1\")\n",
        "\n",
        "            # Set random seed\n",
        "            set_seed(seed)\n",
        "\n",
        "            # Initialize state discretizer\n",
        "            state_discretizer = StateDiscretizer(n_bins=config.n_bins)\n",
        "\n",
        "            # Initialize SARSA agent\n",
        "            agent = SARSAAgent(\n",
        "                state_discretizer=state_discretizer,\n",
        "                action_space=env.action_space,\n",
        "                alpha=config.alpha,\n",
        "                gamma=config.gamma,\n",
        "                epsilon=config.epsilon\n",
        "            )\n",
        "\n",
        "            # Training loop\n",
        "            episode_rewards = []\n",
        "\n",
        "            for episode in range(config.n_episodes):\n",
        "                state, _ = env.reset(seed=seed + episode)\n",
        "                action = agent.select_action(state)\n",
        "                done = False\n",
        "                episode_reward = 0\n",
        "\n",
        "                while not done:\n",
        "                    next_state, reward, terminated, truncated, _ = env.step(action)\n",
        "                    done = terminated or truncated\n",
        "                    episode_reward += reward\n",
        "\n",
        "                    # Select next action using current policy\n",
        "                    next_action = agent.select_action(next_state)\n",
        "\n",
        "                    # Update Q-values\n",
        "                    agent.update(state, action, reward, next_state, next_action, done)\n",
        "\n",
        "                    # Move to next state and action\n",
        "                    state = next_state\n",
        "                    action = next_action\n",
        "\n",
        "                episode_rewards.append(episode_reward)\n",
        "\n",
        "                # Log individual seed performance\n",
        "                wandb.log({\n",
        "                    f\"seed_{seed}_episode\": episode,\n",
        "                    f\"seed_{seed}_reward\": episode_reward,\n",
        "                })\n",
        "\n",
        "            # Store final performance (avg of last 50 episodes)\n",
        "            final_reward = np.mean(episode_rewards[-50:])\n",
        "            all_final_rewards.append(final_reward)\n",
        "            env.close()\n",
        "\n",
        "        # Calculate average performance across all seeds\n",
        "        avg_final_reward = np.mean(all_final_rewards)\n",
        "\n",
        "        # Log the average performance\n",
        "        wandb.log({\n",
        "            \"average_reward_across_seeds\": avg_final_reward\n",
        "        })\n",
        "\n",
        "        return avg_final_reward\n",
        "\n",
        "# Training function for Q-Learning\n",
        "# Modified training function for Q-Learning\n",
        "def train_qlearning(config=None):\n",
        "    with wandb.init(config=config):\n",
        "        config = wandb.config\n",
        "\n",
        "        # Fixed seeds\n",
        "        seeds = [42, 123, 456, 789, 101]\n",
        "        all_final_rewards = []\n",
        "\n",
        "        for seed in seeds:\n",
        "            # Set environment\n",
        "            env = gym.make(\"CartPole-v1\")\n",
        "\n",
        "            # Set random seed\n",
        "            set_seed(seed)\n",
        "\n",
        "            # Initialize state discretizer\n",
        "            state_discretizer = StateDiscretizer(n_bins=config.n_bins)\n",
        "\n",
        "            # Initialize Q-Learning agent\n",
        "            agent = QLearningAgent(\n",
        "                state_discretizer=state_discretizer,\n",
        "                action_space=env.action_space,\n",
        "                alpha=config.alpha,\n",
        "                gamma=config.gamma,\n",
        "                temperature=config.temperature\n",
        "            )\n",
        "\n",
        "            # Training loop\n",
        "            episode_rewards = []\n",
        "\n",
        "            for episode in range(config.n_episodes):\n",
        "                state, _ = env.reset(seed=seed + episode)\n",
        "                done = False\n",
        "                episode_reward = 0\n",
        "\n",
        "                while not done:\n",
        "                    action = agent.select_action(state)\n",
        "                    next_state, reward, terminated, truncated, _ = env.step(action)\n",
        "                    done = terminated or truncated\n",
        "                    episode_reward += reward\n",
        "\n",
        "                    # Update Q-values\n",
        "                    agent.update(state, action, reward, next_state, done)\n",
        "\n",
        "                    # Move to next state\n",
        "                    state = next_state\n",
        "\n",
        "                episode_rewards.append(episode_reward)\n",
        "\n",
        "                # Log individual seed performance\n",
        "                wandb.log({\n",
        "                    f\"seed_{seed}_episode\": episode,\n",
        "                    f\"seed_{seed}_reward\": episode_reward,\n",
        "                })\n",
        "\n",
        "            # Store final performance (avg of last 50 episodes)\n",
        "            final_reward = np.mean(episode_rewards[-50:])\n",
        "            all_final_rewards.append(final_reward)\n",
        "            env.close()\n",
        "\n",
        "        # Calculate average performance across all seeds\n",
        "        avg_final_reward = np.mean(all_final_rewards)\n",
        "\n",
        "        # Log the average performance\n",
        "        wandb.log({\n",
        "            \"average_reward_across_seeds\": avg_final_reward\n",
        "        })\n",
        "\n",
        "        return avg_final_reward\n",
        "\n",
        "\n",
        "# Sweep configuration for SARSA\n",
        "# Updated sweep configuration for SARSA\n",
        "sarsa_sweep_config = {\n",
        "    'method': 'bayes',\n",
        "    'metric': {\n",
        "        'name': 'average_reward_across_seeds',\n",
        "        'goal': 'maximize'\n",
        "    },\n",
        "    'parameters': {\n",
        "        'alpha': {\n",
        "            'min': 0.01,\n",
        "            'max': 0.5\n",
        "        },\n",
        "        'gamma': {\n",
        "            'value': 0.99\n",
        "        },\n",
        "        'epsilon': {\n",
        "            'min': 0.01,\n",
        "            'max': 0.3\n",
        "        },\n",
        "        'n_bins': {\n",
        "            'values': [10, 15, 20]\n",
        "        },\n",
        "        'n_episodes': {\n",
        "            'value': 1000\n",
        "        }\n",
        "    }\n",
        "}\n",
        "\n",
        "# Sweep configuration for Q-Learning\n",
        "qlearning_sweep_config = {\n",
        "    'method': 'bayes',  # Bayesian optimization\n",
        "    'metric': {\n",
        "        'name': 'average_reward',\n",
        "        'goal': 'maximize'\n",
        "    },\n",
        "    'parameters': {\n",
        "        'alpha': {\n",
        "            'min': 0.01,\n",
        "            'max': 0.5\n",
        "        },\n",
        "        'gamma': {\n",
        "            'value': 0.99  # Fixed as recommended\n",
        "        },\n",
        "        'temperature': {\n",
        "            'min': 0.1,\n",
        "            'max': 2.0\n",
        "        },\n",
        "        'n_bins': {\n",
        "            'values': [10, 15, 20]\n",
        "        },\n",
        "        'n_episodes': {\n",
        "            'value': 1000\n",
        "        },\n",
        "        'seed': {\n",
        "            'values': [42, 123, 456, 789, 101]  # 5 random seeds\n",
        "        }\n",
        "    }\n",
        "}\n",
        "\n",
        "\n",
        "\n",
        "\n",
        "\n"
      ],
      "metadata": {
        "id": "IARR_htNlws-"
      },
      "execution_count": 2,
      "outputs": []
    },
    {
      "cell_type": "code",
      "source": [
        "# Initialize and run the SARSA sweep\n",
        "def run_sarsa_sweep():\n",
        "    sweep_id = wandb.sweep(sarsa_sweep_config, project=\"RL_CartPole_SARSA\")\n",
        "    wandb.agent(sweep_id, function=train_sarsa, count=50)\n",
        "\n",
        "# Initialize and run the Q-Learning sweep\n",
        "def run_qlearning_sweep():\n",
        "    sweep_id = wandb.sweep(qlearning_sweep_config, project=\"RL_CartPole_QLearning\")\n",
        "    wandb.agent(sweep_id, function=train_qlearning, count=50)\n",
        "# Run the sweeps\n",
        "if __name__ == \"__main__\":\n",
        "    # Uncomment one of these to run the respective sweep\n",
        "    run_sarsa_sweep()"
      ],
      "metadata": {
        "colab": {
          "base_uri": "https://localhost:8080/",
          "height": 1000
        },
        "id": "F39v14Rfl4YH",
        "outputId": "51b5720e-a634-47b6-9a0d-c705a8baf9de"
      },
      "execution_count": 3,
      "outputs": [
        {
          "output_type": "stream",
          "name": "stderr",
          "text": [
            "\u001b[34m\u001b[1mwandb\u001b[0m: Using wandb-core as the SDK backend.  Please refer to https://wandb.me/wandb-core for more information.\n"
          ]
        },
        {
          "output_type": "display_data",
          "data": {
            "text/plain": [
              "<IPython.core.display.Javascript object>"
            ],
            "application/javascript": [
              "\n",
              "        window._wandbApiKey = new Promise((resolve, reject) => {\n",
              "            function loadScript(url) {\n",
              "            return new Promise(function(resolve, reject) {\n",
              "                let newScript = document.createElement(\"script\");\n",
              "                newScript.onerror = reject;\n",
              "                newScript.onload = resolve;\n",
              "                document.body.appendChild(newScript);\n",
              "                newScript.src = url;\n",
              "            });\n",
              "            }\n",
              "            loadScript(\"https://cdn.jsdelivr.net/npm/postmate/build/postmate.min.js\").then(() => {\n",
              "            const iframe = document.createElement('iframe')\n",
              "            iframe.style.cssText = \"width:0;height:0;border:none\"\n",
              "            document.body.appendChild(iframe)\n",
              "            const handshake = new Postmate({\n",
              "                container: iframe,\n",
              "                url: 'https://wandb.ai/authorize'\n",
              "            });\n",
              "            const timeout = setTimeout(() => reject(\"Couldn't auto authenticate\"), 5000)\n",
              "            handshake.then(function(child) {\n",
              "                child.on('authorize', data => {\n",
              "                    clearTimeout(timeout)\n",
              "                    resolve(data)\n",
              "                });\n",
              "            });\n",
              "            })\n",
              "        });\n",
              "    "
            ]
          },
          "metadata": {}
        },
        {
          "output_type": "stream",
          "name": "stderr",
          "text": [
            "\u001b[34m\u001b[1mwandb\u001b[0m: Logging into wandb.ai. (Learn how to deploy a W&B server locally: https://wandb.me/wandb-server)\n",
            "\u001b[34m\u001b[1mwandb\u001b[0m: You can find your API key in your browser here: https://wandb.ai/authorize\n",
            "wandb: Paste an API key from your profile and hit enter:"
          ]
        },
        {
          "name": "stdout",
          "output_type": "stream",
          "text": [
            " ··········\n"
          ]
        },
        {
          "output_type": "stream",
          "name": "stderr",
          "text": [
            "\u001b[34m\u001b[1mwandb\u001b[0m: \u001b[33mWARNING\u001b[0m If you're specifying your api key in code, ensure this code is not shared publicly.\n",
            "\u001b[34m\u001b[1mwandb\u001b[0m: \u001b[33mWARNING\u001b[0m Consider setting the WANDB_API_KEY environment variable, or running `wandb login` from the command line.\n",
            "\u001b[34m\u001b[1mwandb\u001b[0m: No netrc file found, creating one.\n",
            "\u001b[34m\u001b[1mwandb\u001b[0m: Appending key for api.wandb.ai to your netrc file: /root/.netrc\n"
          ]
        },
        {
          "output_type": "stream",
          "name": "stdout",
          "text": [
            "Create sweep with ID: axs367lv\n",
            "Sweep URL: https://wandb.ai/abhijithvinod-indian-institue-of-technology-madras/RL_CartPole_SARSA/sweeps/axs367lv\n"
          ]
        },
        {
          "output_type": "stream",
          "name": "stderr",
          "text": [
            "\u001b[34m\u001b[1mwandb\u001b[0m: Agent Starting Run: cu4cnh5n with config:\n",
            "\u001b[34m\u001b[1mwandb\u001b[0m: \talpha: 0.41040395202036256\n",
            "\u001b[34m\u001b[1mwandb\u001b[0m: \tepsilon: 0.21065430640253097\n",
            "\u001b[34m\u001b[1mwandb\u001b[0m: \tgamma: 0.99\n",
            "\u001b[34m\u001b[1mwandb\u001b[0m: \tn_bins: 20\n",
            "\u001b[34m\u001b[1mwandb\u001b[0m: \tn_episodes: 1000\n",
            "\u001b[34m\u001b[1mwandb\u001b[0m: Currently logged in as: \u001b[33mabhijithvinod\u001b[0m (\u001b[33mabhijithvinod-indian-institue-of-technology-madras\u001b[0m) to \u001b[32mhttps://api.wandb.ai\u001b[0m. Use \u001b[1m`wandb login --relogin`\u001b[0m to force relogin\n"
          ]
        },
        {
          "output_type": "display_data",
          "data": {
            "text/plain": [
              "<IPython.core.display.HTML object>"
            ],
            "text/html": [
              "Tracking run with wandb version 0.19.8"
            ]
          },
          "metadata": {}
        },
        {
          "output_type": "display_data",
          "data": {
            "text/plain": [
              "<IPython.core.display.HTML object>"
            ],
            "text/html": [
              "Run data is saved locally in <code>/content/wandb/run-20250331_142721-cu4cnh5n</code>"
            ]
          },
          "metadata": {}
        },
        {
          "output_type": "display_data",
          "data": {
            "text/plain": [
              "<IPython.core.display.HTML object>"
            ],
            "text/html": [
              "Syncing run <strong><a href='https://wandb.ai/abhijithvinod-indian-institue-of-technology-madras/RL_CartPole_SARSA/runs/cu4cnh5n' target=\"_blank\">sunny-sweep-1</a></strong> to <a href='https://wandb.ai/abhijithvinod-indian-institue-of-technology-madras/RL_CartPole_SARSA' target=\"_blank\">Weights & Biases</a> (<a href='https://wandb.me/developer-guide' target=\"_blank\">docs</a>)<br>Sweep page: <a href='https://wandb.ai/abhijithvinod-indian-institue-of-technology-madras/RL_CartPole_SARSA/sweeps/axs367lv' target=\"_blank\">https://wandb.ai/abhijithvinod-indian-institue-of-technology-madras/RL_CartPole_SARSA/sweeps/axs367lv</a>"
            ]
          },
          "metadata": {}
        },
        {
          "output_type": "display_data",
          "data": {
            "text/plain": [
              "<IPython.core.display.HTML object>"
            ],
            "text/html": [
              " View project at <a href='https://wandb.ai/abhijithvinod-indian-institue-of-technology-madras/RL_CartPole_SARSA' target=\"_blank\">https://wandb.ai/abhijithvinod-indian-institue-of-technology-madras/RL_CartPole_SARSA</a>"
            ]
          },
          "metadata": {}
        },
        {
          "output_type": "display_data",
          "data": {
            "text/plain": [
              "<IPython.core.display.HTML object>"
            ],
            "text/html": [
              " View sweep at <a href='https://wandb.ai/abhijithvinod-indian-institue-of-technology-madras/RL_CartPole_SARSA/sweeps/axs367lv' target=\"_blank\">https://wandb.ai/abhijithvinod-indian-institue-of-technology-madras/RL_CartPole_SARSA/sweeps/axs367lv</a>"
            ]
          },
          "metadata": {}
        },
        {
          "output_type": "display_data",
          "data": {
            "text/plain": [
              "<IPython.core.display.HTML object>"
            ],
            "text/html": [
              " View run at <a href='https://wandb.ai/abhijithvinod-indian-institue-of-technology-madras/RL_CartPole_SARSA/runs/cu4cnh5n' target=\"_blank\">https://wandb.ai/abhijithvinod-indian-institue-of-technology-madras/RL_CartPole_SARSA/runs/cu4cnh5n</a>"
            ]
          },
          "metadata": {}
        },
        {
          "output_type": "display_data",
          "data": {
            "text/plain": [
              "<IPython.core.display.HTML object>"
            ],
            "text/html": []
          },
          "metadata": {}
        },
        {
          "output_type": "display_data",
          "data": {
            "text/plain": [
              "<IPython.core.display.HTML object>"
            ],
            "text/html": [
              "<br>    <style><br>        .wandb-row {<br>            display: flex;<br>            flex-direction: row;<br>            flex-wrap: wrap;<br>            justify-content: flex-start;<br>            width: 100%;<br>        }<br>        .wandb-col {<br>            display: flex;<br>            flex-direction: column;<br>            flex-basis: 100%;<br>            flex: 1;<br>            padding: 10px;<br>        }<br>    </style><br><div class=\"wandb-row\"><div class=\"wandb-col\"><h3>Run history:</h3><br/><table class=\"wandb\"><tr><td>average_reward_across_seeds</td><td>▁</td></tr><tr><td>seed_101_episode</td><td>▁▂▂▂▂▃▃▃▃▃▃▃▃▄▄▄▄▄▄▄▅▅▅▅▅▅▅▅▅▆▆▆▆▆▆▇▇▇▇█</td></tr><tr><td>seed_101_reward</td><td>▁▁▁▁▂▁▃▂▂▂▂▂▃▃▂▅▃▂▂▂▃▁▂▂▂▄▁▅▃▃▃▃▃▂▂▂█▂▁▄</td></tr><tr><td>seed_123_episode</td><td>▁▁▁▁▁▂▂▂▃▃▃▃▄▄▄▄▄▄▄▄▅▅▅▅▅▅▆▆▆▆▆▆▆▇▇▇▇███</td></tr><tr><td>seed_123_reward</td><td>▁▂▁▂▁▂▂▂▂▃▄▂▄▃▂▃▄▂▇▂▅▅█▃▂▃▂▂▆▇▃▃▃▄▃▃▅▅▃▃</td></tr><tr><td>seed_42_episode</td><td>▁▁▁▂▂▂▂▂▂▂▂▃▃▃▃▄▄▄▄▄▄▅▅▅▅▅▅▆▆▆▇▇▇▇▇▇████</td></tr><tr><td>seed_42_reward</td><td>▁▁▁▁▂▁▂▂▂▃▂▂▂▃█▃▃▃▇▃▄▄▃▄▇▅▃▃▅▄▂▁▄▄▆▄▄▅▅▃</td></tr><tr><td>seed_456_episode</td><td>▁▁▂▂▂▂▃▃▃▃▃▄▄▄▄▄▄▄▄▅▅▅▅▅▆▆▆▆▆▆▆▇▇▇▇▇▇▇██</td></tr><tr><td>seed_456_reward</td><td>▁▁▁▁▁▁▃▂▁▂▂▂▂▂▁▂▂▆▂▁▂▄▂▃▃▂▁▂▃▃▂▂▃▂▃▂▃▃█▂</td></tr><tr><td>seed_789_episode</td><td>▁▁▂▂▂▂▂▃▃▃▃▃▄▄▄▄▄▄▄▄▅▅▅▅▅▆▆▆▆▆▇▇▇▇▇▇▇▇██</td></tr><tr><td>seed_789_reward</td><td>▁▁▁▂▁▂▂▄▃▂▃▂▃▄▆▇▂▂▂▆▄▄▅▆▆▄▄▂▆▅█▂▆▆▃▃▃▆▄▆</td></tr></table><br/></div><div class=\"wandb-col\"><h3>Run summary:</h3><br/><table class=\"wandb\"><tr><td>average_reward_across_seeds</td><td>88.148</td></tr><tr><td>seed_101_episode</td><td>999</td></tr><tr><td>seed_101_reward</td><td>133</td></tr><tr><td>seed_123_episode</td><td>999</td></tr><tr><td>seed_123_reward</td><td>112</td></tr><tr><td>seed_42_episode</td><td>999</td></tr><tr><td>seed_42_reward</td><td>100</td></tr><tr><td>seed_456_episode</td><td>999</td></tr><tr><td>seed_456_reward</td><td>123</td></tr><tr><td>seed_789_episode</td><td>999</td></tr><tr><td>seed_789_reward</td><td>93</td></tr></table><br/></div></div>"
            ]
          },
          "metadata": {}
        },
        {
          "output_type": "display_data",
          "data": {
            "text/plain": [
              "<IPython.core.display.HTML object>"
            ],
            "text/html": [
              " View run <strong style=\"color:#cdcd00\">sunny-sweep-1</strong> at: <a href='https://wandb.ai/abhijithvinod-indian-institue-of-technology-madras/RL_CartPole_SARSA/runs/cu4cnh5n' target=\"_blank\">https://wandb.ai/abhijithvinod-indian-institue-of-technology-madras/RL_CartPole_SARSA/runs/cu4cnh5n</a><br> View project at: <a href='https://wandb.ai/abhijithvinod-indian-institue-of-technology-madras/RL_CartPole_SARSA' target=\"_blank\">https://wandb.ai/abhijithvinod-indian-institue-of-technology-madras/RL_CartPole_SARSA</a><br>Synced 5 W&B file(s), 0 media file(s), 0 artifact file(s) and 0 other file(s)"
            ]
          },
          "metadata": {}
        },
        {
          "output_type": "display_data",
          "data": {
            "text/plain": [
              "<IPython.core.display.HTML object>"
            ],
            "text/html": [
              "Find logs at: <code>./wandb/run-20250331_142721-cu4cnh5n/logs</code>"
            ]
          },
          "metadata": {}
        },
        {
          "output_type": "stream",
          "name": "stderr",
          "text": [
            "\u001b[34m\u001b[1mwandb\u001b[0m: Agent Starting Run: 4jpgoygl with config:\n",
            "\u001b[34m\u001b[1mwandb\u001b[0m: \talpha: 0.17452136835253076\n",
            "\u001b[34m\u001b[1mwandb\u001b[0m: \tepsilon: 0.1599508038989445\n",
            "\u001b[34m\u001b[1mwandb\u001b[0m: \tgamma: 0.99\n",
            "\u001b[34m\u001b[1mwandb\u001b[0m: \tn_bins: 20\n",
            "\u001b[34m\u001b[1mwandb\u001b[0m: \tn_episodes: 1000\n"
          ]
        },
        {
          "output_type": "display_data",
          "data": {
            "text/plain": [
              "<IPython.core.display.HTML object>"
            ],
            "text/html": [
              "Tracking run with wandb version 0.19.8"
            ]
          },
          "metadata": {}
        },
        {
          "output_type": "display_data",
          "data": {
            "text/plain": [
              "<IPython.core.display.HTML object>"
            ],
            "text/html": [
              "Run data is saved locally in <code>/content/wandb/run-20250331_142806-4jpgoygl</code>"
            ]
          },
          "metadata": {}
        },
        {
          "output_type": "display_data",
          "data": {
            "text/plain": [
              "<IPython.core.display.HTML object>"
            ],
            "text/html": [
              "Syncing run <strong><a href='https://wandb.ai/abhijithvinod-indian-institue-of-technology-madras/RL_CartPole_SARSA/runs/4jpgoygl' target=\"_blank\">lilac-sweep-2</a></strong> to <a href='https://wandb.ai/abhijithvinod-indian-institue-of-technology-madras/RL_CartPole_SARSA' target=\"_blank\">Weights & Biases</a> (<a href='https://wandb.me/developer-guide' target=\"_blank\">docs</a>)<br>Sweep page: <a href='https://wandb.ai/abhijithvinod-indian-institue-of-technology-madras/RL_CartPole_SARSA/sweeps/axs367lv' target=\"_blank\">https://wandb.ai/abhijithvinod-indian-institue-of-technology-madras/RL_CartPole_SARSA/sweeps/axs367lv</a>"
            ]
          },
          "metadata": {}
        },
        {
          "output_type": "display_data",
          "data": {
            "text/plain": [
              "<IPython.core.display.HTML object>"
            ],
            "text/html": [
              " View project at <a href='https://wandb.ai/abhijithvinod-indian-institue-of-technology-madras/RL_CartPole_SARSA' target=\"_blank\">https://wandb.ai/abhijithvinod-indian-institue-of-technology-madras/RL_CartPole_SARSA</a>"
            ]
          },
          "metadata": {}
        },
        {
          "output_type": "display_data",
          "data": {
            "text/plain": [
              "<IPython.core.display.HTML object>"
            ],
            "text/html": [
              " View sweep at <a href='https://wandb.ai/abhijithvinod-indian-institue-of-technology-madras/RL_CartPole_SARSA/sweeps/axs367lv' target=\"_blank\">https://wandb.ai/abhijithvinod-indian-institue-of-technology-madras/RL_CartPole_SARSA/sweeps/axs367lv</a>"
            ]
          },
          "metadata": {}
        },
        {
          "output_type": "display_data",
          "data": {
            "text/plain": [
              "<IPython.core.display.HTML object>"
            ],
            "text/html": [
              " View run at <a href='https://wandb.ai/abhijithvinod-indian-institue-of-technology-madras/RL_CartPole_SARSA/runs/4jpgoygl' target=\"_blank\">https://wandb.ai/abhijithvinod-indian-institue-of-technology-madras/RL_CartPole_SARSA/runs/4jpgoygl</a>"
            ]
          },
          "metadata": {}
        },
        {
          "output_type": "display_data",
          "data": {
            "text/plain": [
              "<IPython.core.display.HTML object>"
            ],
            "text/html": []
          },
          "metadata": {}
        },
        {
          "output_type": "display_data",
          "data": {
            "text/plain": [
              "<IPython.core.display.HTML object>"
            ],
            "text/html": [
              "<br>    <style><br>        .wandb-row {<br>            display: flex;<br>            flex-direction: row;<br>            flex-wrap: wrap;<br>            justify-content: flex-start;<br>            width: 100%;<br>        }<br>        .wandb-col {<br>            display: flex;<br>            flex-direction: column;<br>            flex-basis: 100%;<br>            flex: 1;<br>            padding: 10px;<br>        }<br>    </style><br><div class=\"wandb-row\"><div class=\"wandb-col\"><h3>Run history:</h3><br/><table class=\"wandb\"><tr><td>average_reward_across_seeds</td><td>▁</td></tr><tr><td>seed_101_episode</td><td>▁▁▁▂▂▃▃▃▃▄▄▄▄▄▄▅▅▅▅▅▅▅▅▆▆▆▆▆▆▆▆▇▇▇▇▇████</td></tr><tr><td>seed_101_reward</td><td>▅▁▁▂▁▁▁▁▂▁▁▁▁▁▁▁▂▂▁▃▂▂▂▂▅▁▆▃▃▅▅▁▅▂▆▃▆█▇▆</td></tr><tr><td>seed_123_episode</td><td>▁▁▁▁▁▁▂▂▂▂▂▂▂▂▃▃▃▃▃▃▃▃▄▄▄▄▅▅▅▅▆▆▆▆▇▇▇▇▇█</td></tr><tr><td>seed_123_reward</td><td>▁▂▁▁▁▁▁▁▁▂▂▂▂▁▁▃▂▃▂▂▂▁▄▄▄▂▂▆▃█▅▄▅▂▇▅▅▁▅▄</td></tr><tr><td>seed_42_episode</td><td>▁▁▁▁▁▂▂▂▂▂▃▃▃▃▃▃▃▃▃▄▄▄▄▄▅▅▅▆▆▆▆▆▇▇▇▇████</td></tr><tr><td>seed_42_reward</td><td>▂▃▂▁▁▂▂▁▂▂▂▁▁▄▂▁▃▄▄▃▃▃▃▃▂▂▂▄▄▁▃▇▆▆▇▄█▇█▁</td></tr><tr><td>seed_456_episode</td><td>▁▁▁▁▂▂▂▂▂▂▃▃▃▃▃▄▄▄▄▄▅▅▅▅▅▅▆▆▆▇▇▇▇▇▇▇▇▇▇█</td></tr><tr><td>seed_456_reward</td><td>▁▁▂▂▁▁▁▁▂▁▂▁▁▁▁▁▁▁▁▁▁▁▁▁▁▃▁▂▃▂▄▅▃▆▅▃█▃▆▅</td></tr><tr><td>seed_789_episode</td><td>▁▁▁▁▁▂▂▂▂▃▃▃▃▃▄▄▄▄▅▅▅▅▅▆▆▆▆▆▆▆▇▇▇▇▇▇▇███</td></tr><tr><td>seed_789_reward</td><td>▁▁▂▁▁▁▁▃▁▁▁▂▂▁▁▂▃▁▁▂▅▅▄▄▂▅▃▂▂▄▂▃▃▄▅▄█▆▄▃</td></tr></table><br/></div><div class=\"wandb-col\"><h3>Run summary:</h3><br/><table class=\"wandb\"><tr><td>average_reward_across_seeds</td><td>49.2</td></tr><tr><td>seed_101_episode</td><td>999</td></tr><tr><td>seed_101_reward</td><td>57</td></tr><tr><td>seed_123_episode</td><td>999</td></tr><tr><td>seed_123_reward</td><td>79</td></tr><tr><td>seed_42_episode</td><td>999</td></tr><tr><td>seed_42_reward</td><td>59</td></tr><tr><td>seed_456_episode</td><td>999</td></tr><tr><td>seed_456_reward</td><td>27</td></tr><tr><td>seed_789_episode</td><td>999</td></tr><tr><td>seed_789_reward</td><td>21</td></tr></table><br/></div></div>"
            ]
          },
          "metadata": {}
        },
        {
          "output_type": "display_data",
          "data": {
            "text/plain": [
              "<IPython.core.display.HTML object>"
            ],
            "text/html": [
              " View run <strong style=\"color:#cdcd00\">lilac-sweep-2</strong> at: <a href='https://wandb.ai/abhijithvinod-indian-institue-of-technology-madras/RL_CartPole_SARSA/runs/4jpgoygl' target=\"_blank\">https://wandb.ai/abhijithvinod-indian-institue-of-technology-madras/RL_CartPole_SARSA/runs/4jpgoygl</a><br> View project at: <a href='https://wandb.ai/abhijithvinod-indian-institue-of-technology-madras/RL_CartPole_SARSA' target=\"_blank\">https://wandb.ai/abhijithvinod-indian-institue-of-technology-madras/RL_CartPole_SARSA</a><br>Synced 5 W&B file(s), 0 media file(s), 0 artifact file(s) and 0 other file(s)"
            ]
          },
          "metadata": {}
        },
        {
          "output_type": "display_data",
          "data": {
            "text/plain": [
              "<IPython.core.display.HTML object>"
            ],
            "text/html": [
              "Find logs at: <code>./wandb/run-20250331_142806-4jpgoygl/logs</code>"
            ]
          },
          "metadata": {}
        },
        {
          "output_type": "stream",
          "name": "stderr",
          "text": [
            "\u001b[34m\u001b[1mwandb\u001b[0m: Agent Starting Run: c8x1eqe8 with config:\n",
            "\u001b[34m\u001b[1mwandb\u001b[0m: \talpha: 0.026185772491887825\n",
            "\u001b[34m\u001b[1mwandb\u001b[0m: \tepsilon: 0.2980713188350562\n",
            "\u001b[34m\u001b[1mwandb\u001b[0m: \tgamma: 0.99\n",
            "\u001b[34m\u001b[1mwandb\u001b[0m: \tn_bins: 20\n",
            "\u001b[34m\u001b[1mwandb\u001b[0m: \tn_episodes: 1000\n"
          ]
        },
        {
          "output_type": "display_data",
          "data": {
            "text/plain": [
              "<IPython.core.display.HTML object>"
            ],
            "text/html": [
              "Tracking run with wandb version 0.19.8"
            ]
          },
          "metadata": {}
        },
        {
          "output_type": "display_data",
          "data": {
            "text/plain": [
              "<IPython.core.display.HTML object>"
            ],
            "text/html": [
              "Run data is saved locally in <code>/content/wandb/run-20250331_142827-c8x1eqe8</code>"
            ]
          },
          "metadata": {}
        },
        {
          "output_type": "display_data",
          "data": {
            "text/plain": [
              "<IPython.core.display.HTML object>"
            ],
            "text/html": [
              "Syncing run <strong><a href='https://wandb.ai/abhijithvinod-indian-institue-of-technology-madras/RL_CartPole_SARSA/runs/c8x1eqe8' target=\"_blank\">spring-sweep-3</a></strong> to <a href='https://wandb.ai/abhijithvinod-indian-institue-of-technology-madras/RL_CartPole_SARSA' target=\"_blank\">Weights & Biases</a> (<a href='https://wandb.me/developer-guide' target=\"_blank\">docs</a>)<br>Sweep page: <a href='https://wandb.ai/abhijithvinod-indian-institue-of-technology-madras/RL_CartPole_SARSA/sweeps/axs367lv' target=\"_blank\">https://wandb.ai/abhijithvinod-indian-institue-of-technology-madras/RL_CartPole_SARSA/sweeps/axs367lv</a>"
            ]
          },
          "metadata": {}
        },
        {
          "output_type": "display_data",
          "data": {
            "text/plain": [
              "<IPython.core.display.HTML object>"
            ],
            "text/html": [
              " View project at <a href='https://wandb.ai/abhijithvinod-indian-institue-of-technology-madras/RL_CartPole_SARSA' target=\"_blank\">https://wandb.ai/abhijithvinod-indian-institue-of-technology-madras/RL_CartPole_SARSA</a>"
            ]
          },
          "metadata": {}
        },
        {
          "output_type": "display_data",
          "data": {
            "text/plain": [
              "<IPython.core.display.HTML object>"
            ],
            "text/html": [
              " View sweep at <a href='https://wandb.ai/abhijithvinod-indian-institue-of-technology-madras/RL_CartPole_SARSA/sweeps/axs367lv' target=\"_blank\">https://wandb.ai/abhijithvinod-indian-institue-of-technology-madras/RL_CartPole_SARSA/sweeps/axs367lv</a>"
            ]
          },
          "metadata": {}
        },
        {
          "output_type": "display_data",
          "data": {
            "text/plain": [
              "<IPython.core.display.HTML object>"
            ],
            "text/html": [
              " View run at <a href='https://wandb.ai/abhijithvinod-indian-institue-of-technology-madras/RL_CartPole_SARSA/runs/c8x1eqe8' target=\"_blank\">https://wandb.ai/abhijithvinod-indian-institue-of-technology-madras/RL_CartPole_SARSA/runs/c8x1eqe8</a>"
            ]
          },
          "metadata": {}
        },
        {
          "output_type": "display_data",
          "data": {
            "text/plain": [
              "<IPython.core.display.HTML object>"
            ],
            "text/html": []
          },
          "metadata": {}
        },
        {
          "output_type": "display_data",
          "data": {
            "text/plain": [
              "<IPython.core.display.HTML object>"
            ],
            "text/html": [
              "<br>    <style><br>        .wandb-row {<br>            display: flex;<br>            flex-direction: row;<br>            flex-wrap: wrap;<br>            justify-content: flex-start;<br>            width: 100%;<br>        }<br>        .wandb-col {<br>            display: flex;<br>            flex-direction: column;<br>            flex-basis: 100%;<br>            flex: 1;<br>            padding: 10px;<br>        }<br>    </style><br><div class=\"wandb-row\"><div class=\"wandb-col\"><h3>Run history:</h3><br/><table class=\"wandb\"><tr><td>average_reward_across_seeds</td><td>▁</td></tr><tr><td>seed_101_episode</td><td>▁▁▁▁▂▂▂▂▂▃▃▃▄▄▄▄▄▄▄▄▅▅▅▅▅▅▅▆▆▆▆▇▇▇▇▇▇███</td></tr><tr><td>seed_101_reward</td><td>▁▁▂▃▂▂▃▂▆▁▂▃▂▃▄▆▁▁▁▁▄▁▁▃▄▅▅▁▅▂▂▁▂▃▃█▁▃▁▃</td></tr><tr><td>seed_123_episode</td><td>▁▁▁▁▁▂▂▂▂▃▃▃▃▃▃▃▄▄▄▄▄▄▄▄▄▅▅▅▅▅▅▆▆▆▆▆▇▇▇█</td></tr><tr><td>seed_123_reward</td><td>▂█▄▂▅▁▇▂▃▁▁▁▅▁▁▁▁▁▃▆▅▁▂▁▂▄▅▅▂▁▂▃▂▂▆▂▃▁▇▁</td></tr><tr><td>seed_42_episode</td><td>▁▁▁▁▁▂▂▂▂▂▃▃▃▃▃▄▄▄▄▄▄▅▅▅▆▆▆▆▆▇▇▇▇▇▇█████</td></tr><tr><td>seed_42_reward</td><td>▂▃▃▂▃▄▃▃▅▄▅▂▃▂▂▆▁▄▂▂▁▂▂█▂▃▂▂▃▄▂▂▂▂▁▁▂▃▃▂</td></tr><tr><td>seed_456_episode</td><td>▁▁▁▁▁▂▂▂▃▃▃▄▄▄▄▄▄▄▄▄▅▅▅▅▆▆▆▆▆▆▆▆▆▇▇▇▇▇██</td></tr><tr><td>seed_456_reward</td><td>▁▂▂▃▄▁▁▁▂▂▃▂▂▂▁█▂▄▁▂▃▃▁▂▂▂▃▂▁▃▁▂▁▁▂▁▂▆▁▃</td></tr><tr><td>seed_789_episode</td><td>▁▁▁▁▁▂▂▂▂▂▃▃▃▄▄▄▄▄▄▄▅▅▅▅▅▅▅▆▆▆▆▇▇▇▇▇▇███</td></tr><tr><td>seed_789_reward</td><td>▇▃▃▃▄▂▃▂▂▂▂▂▂▂▄▃▂▂▃▁▂▃▃▂▅█▃▃▄▃▂▃▅▁▂▃▂▃▁▂</td></tr></table><br/></div><div class=\"wandb-col\"><h3>Run summary:</h3><br/><table class=\"wandb\"><tr><td>average_reward_across_seeds</td><td>17.18</td></tr><tr><td>seed_101_episode</td><td>999</td></tr><tr><td>seed_101_reward</td><td>22</td></tr><tr><td>seed_123_episode</td><td>999</td></tr><tr><td>seed_123_reward</td><td>41</td></tr><tr><td>seed_42_episode</td><td>999</td></tr><tr><td>seed_42_reward</td><td>11</td></tr><tr><td>seed_456_episode</td><td>999</td></tr><tr><td>seed_456_reward</td><td>28</td></tr><tr><td>seed_789_episode</td><td>999</td></tr><tr><td>seed_789_reward</td><td>13</td></tr></table><br/></div></div>"
            ]
          },
          "metadata": {}
        },
        {
          "output_type": "display_data",
          "data": {
            "text/plain": [
              "<IPython.core.display.HTML object>"
            ],
            "text/html": [
              " View run <strong style=\"color:#cdcd00\">spring-sweep-3</strong> at: <a href='https://wandb.ai/abhijithvinod-indian-institue-of-technology-madras/RL_CartPole_SARSA/runs/c8x1eqe8' target=\"_blank\">https://wandb.ai/abhijithvinod-indian-institue-of-technology-madras/RL_CartPole_SARSA/runs/c8x1eqe8</a><br> View project at: <a href='https://wandb.ai/abhijithvinod-indian-institue-of-technology-madras/RL_CartPole_SARSA' target=\"_blank\">https://wandb.ai/abhijithvinod-indian-institue-of-technology-madras/RL_CartPole_SARSA</a><br>Synced 5 W&B file(s), 0 media file(s), 0 artifact file(s) and 0 other file(s)"
            ]
          },
          "metadata": {}
        },
        {
          "output_type": "display_data",
          "data": {
            "text/plain": [
              "<IPython.core.display.HTML object>"
            ],
            "text/html": [
              "Find logs at: <code>./wandb/run-20250331_142827-c8x1eqe8/logs</code>"
            ]
          },
          "metadata": {}
        },
        {
          "output_type": "stream",
          "name": "stderr",
          "text": [
            "\u001b[34m\u001b[1mwandb\u001b[0m: Agent Starting Run: eyatf8eq with config:\n",
            "\u001b[34m\u001b[1mwandb\u001b[0m: \talpha: 0.011566259510949136\n",
            "\u001b[34m\u001b[1mwandb\u001b[0m: \tepsilon: 0.24256618487479287\n",
            "\u001b[34m\u001b[1mwandb\u001b[0m: \tgamma: 0.99\n",
            "\u001b[34m\u001b[1mwandb\u001b[0m: \tn_bins: 20\n",
            "\u001b[34m\u001b[1mwandb\u001b[0m: \tn_episodes: 1000\n"
          ]
        },
        {
          "output_type": "display_data",
          "data": {
            "text/plain": [
              "<IPython.core.display.HTML object>"
            ],
            "text/html": [
              "Tracking run with wandb version 0.19.8"
            ]
          },
          "metadata": {}
        },
        {
          "output_type": "display_data",
          "data": {
            "text/plain": [
              "<IPython.core.display.HTML object>"
            ],
            "text/html": [
              "Run data is saved locally in <code>/content/wandb/run-20250331_142842-eyatf8eq</code>"
            ]
          },
          "metadata": {}
        },
        {
          "output_type": "display_data",
          "data": {
            "text/plain": [
              "<IPython.core.display.HTML object>"
            ],
            "text/html": [
              "Syncing run <strong><a href='https://wandb.ai/abhijithvinod-indian-institue-of-technology-madras/RL_CartPole_SARSA/runs/eyatf8eq' target=\"_blank\">smooth-sweep-4</a></strong> to <a href='https://wandb.ai/abhijithvinod-indian-institue-of-technology-madras/RL_CartPole_SARSA' target=\"_blank\">Weights & Biases</a> (<a href='https://wandb.me/developer-guide' target=\"_blank\">docs</a>)<br>Sweep page: <a href='https://wandb.ai/abhijithvinod-indian-institue-of-technology-madras/RL_CartPole_SARSA/sweeps/axs367lv' target=\"_blank\">https://wandb.ai/abhijithvinod-indian-institue-of-technology-madras/RL_CartPole_SARSA/sweeps/axs367lv</a>"
            ]
          },
          "metadata": {}
        },
        {
          "output_type": "display_data",
          "data": {
            "text/plain": [
              "<IPython.core.display.HTML object>"
            ],
            "text/html": [
              " View project at <a href='https://wandb.ai/abhijithvinod-indian-institue-of-technology-madras/RL_CartPole_SARSA' target=\"_blank\">https://wandb.ai/abhijithvinod-indian-institue-of-technology-madras/RL_CartPole_SARSA</a>"
            ]
          },
          "metadata": {}
        },
        {
          "output_type": "display_data",
          "data": {
            "text/plain": [
              "<IPython.core.display.HTML object>"
            ],
            "text/html": [
              " View sweep at <a href='https://wandb.ai/abhijithvinod-indian-institue-of-technology-madras/RL_CartPole_SARSA/sweeps/axs367lv' target=\"_blank\">https://wandb.ai/abhijithvinod-indian-institue-of-technology-madras/RL_CartPole_SARSA/sweeps/axs367lv</a>"
            ]
          },
          "metadata": {}
        },
        {
          "output_type": "display_data",
          "data": {
            "text/plain": [
              "<IPython.core.display.HTML object>"
            ],
            "text/html": [
              " View run at <a href='https://wandb.ai/abhijithvinod-indian-institue-of-technology-madras/RL_CartPole_SARSA/runs/eyatf8eq' target=\"_blank\">https://wandb.ai/abhijithvinod-indian-institue-of-technology-madras/RL_CartPole_SARSA/runs/eyatf8eq</a>"
            ]
          },
          "metadata": {}
        },
        {
          "output_type": "display_data",
          "data": {
            "text/plain": [
              "<IPython.core.display.HTML object>"
            ],
            "text/html": []
          },
          "metadata": {}
        },
        {
          "output_type": "display_data",
          "data": {
            "text/plain": [
              "<IPython.core.display.HTML object>"
            ],
            "text/html": [
              "<br>    <style><br>        .wandb-row {<br>            display: flex;<br>            flex-direction: row;<br>            flex-wrap: wrap;<br>            justify-content: flex-start;<br>            width: 100%;<br>        }<br>        .wandb-col {<br>            display: flex;<br>            flex-direction: column;<br>            flex-basis: 100%;<br>            flex: 1;<br>            padding: 10px;<br>        }<br>    </style><br><div class=\"wandb-row\"><div class=\"wandb-col\"><h3>Run history:</h3><br/><table class=\"wandb\"><tr><td>average_reward_across_seeds</td><td>▁</td></tr><tr><td>seed_101_episode</td><td>▁▁▁▂▂▂▂▃▃▃▃▃▃▄▄▄▄▄▅▅▅▅▅▅▆▆▆▆▆▆▆▆▇▇▇▇████</td></tr><tr><td>seed_101_reward</td><td>▁▃▁▅▂▄▂▃▄▄▂▆▂▁▂▂▂▄▂▂▃▄█▄▃▁▃▃▂▂▃▂▁▅▆▂▂▄▃█</td></tr><tr><td>seed_123_episode</td><td>▁▁▁▁▂▂▂▂▂▂▃▃▃▃▃▄▄▄▄▄▄▅▅▅▅▅▆▆▆▆▇▇▇▇▇▇▇▇██</td></tr><tr><td>seed_123_reward</td><td>▁▁▄▂▂▃▁▂▁▁▁▁▁▂▁▂▂▂▁▂▂▁█▂▁▂▁▁▁▁▁▃▁▂▁▂▂▂▁▁</td></tr><tr><td>seed_42_episode</td><td>▁▁▁▂▂▃▃▃▃▃▃▃▄▄▄▄▄▄▄▄▅▅▅▅▅▅▅▅▆▆▆▆▆▆▇▇▇███</td></tr><tr><td>seed_42_reward</td><td>▃▂▄▁▄▁▂▁▃▁▁▂▁▂▁▃▅▅▁▁▅▅▁▁▂▅▂▂▁▁▁▇▄▂▂▁▂█▂▁</td></tr><tr><td>seed_456_episode</td><td>▁▁▁▂▂▃▃▃▃▃▄▄▅▅▅▅▅▅▅▅▆▆▆▆▇▇▇▇▇▇▇▇▇▇██████</td></tr><tr><td>seed_456_reward</td><td>▁▃▁▂▃▁▂▃▂▁▃▄▂▂▁▂▃▁▂▃▁▃▃█▂▃▅▁▁▂▂▂▃▂▄▂▂▁▁▁</td></tr><tr><td>seed_789_episode</td><td>▁▁▁▁▁▁▁▁▁▁▂▂▃▃▃▃▃▃▃▄▄▄▄▄▅▅▅▅▅▅▆▆▆▆▆▆▆▆▇█</td></tr><tr><td>seed_789_reward</td><td>▃▃▅▂▂▂▂▂█▇▂▇▂▄▂▂▂▃▂▃▂▂▂▁▁▃▂▂▄▂▂▂▂▇▂▄▅▂▄▂</td></tr></table><br/></div><div class=\"wandb-col\"><h3>Run summary:</h3><br/><table class=\"wandb\"><tr><td>average_reward_across_seeds</td><td>13.608</td></tr><tr><td>seed_101_episode</td><td>999</td></tr><tr><td>seed_101_reward</td><td>25</td></tr><tr><td>seed_123_episode</td><td>999</td></tr><tr><td>seed_123_reward</td><td>9</td></tr><tr><td>seed_42_episode</td><td>999</td></tr><tr><td>seed_42_reward</td><td>9</td></tr><tr><td>seed_456_episode</td><td>999</td></tr><tr><td>seed_456_reward</td><td>14</td></tr><tr><td>seed_789_episode</td><td>999</td></tr><tr><td>seed_789_reward</td><td>10</td></tr></table><br/></div></div>"
            ]
          },
          "metadata": {}
        },
        {
          "output_type": "display_data",
          "data": {
            "text/plain": [
              "<IPython.core.display.HTML object>"
            ],
            "text/html": [
              " View run <strong style=\"color:#cdcd00\">smooth-sweep-4</strong> at: <a href='https://wandb.ai/abhijithvinod-indian-institue-of-technology-madras/RL_CartPole_SARSA/runs/eyatf8eq' target=\"_blank\">https://wandb.ai/abhijithvinod-indian-institue-of-technology-madras/RL_CartPole_SARSA/runs/eyatf8eq</a><br> View project at: <a href='https://wandb.ai/abhijithvinod-indian-institue-of-technology-madras/RL_CartPole_SARSA' target=\"_blank\">https://wandb.ai/abhijithvinod-indian-institue-of-technology-madras/RL_CartPole_SARSA</a><br>Synced 5 W&B file(s), 0 media file(s), 0 artifact file(s) and 0 other file(s)"
            ]
          },
          "metadata": {}
        },
        {
          "output_type": "display_data",
          "data": {
            "text/plain": [
              "<IPython.core.display.HTML object>"
            ],
            "text/html": [
              "Find logs at: <code>./wandb/run-20250331_142842-eyatf8eq/logs</code>"
            ]
          },
          "metadata": {}
        },
        {
          "output_type": "stream",
          "name": "stderr",
          "text": [
            "\u001b[34m\u001b[1mwandb\u001b[0m: Agent Starting Run: opv8ta4l with config:\n",
            "\u001b[34m\u001b[1mwandb\u001b[0m: \talpha: 0.4707214526307355\n",
            "\u001b[34m\u001b[1mwandb\u001b[0m: \tepsilon: 0.15893610149966508\n",
            "\u001b[34m\u001b[1mwandb\u001b[0m: \tgamma: 0.99\n",
            "\u001b[34m\u001b[1mwandb\u001b[0m: \tn_bins: 20\n",
            "\u001b[34m\u001b[1mwandb\u001b[0m: \tn_episodes: 1000\n"
          ]
        },
        {
          "output_type": "display_data",
          "data": {
            "text/plain": [
              "<IPython.core.display.HTML object>"
            ],
            "text/html": [
              "Tracking run with wandb version 0.19.8"
            ]
          },
          "metadata": {}
        },
        {
          "output_type": "display_data",
          "data": {
            "text/plain": [
              "<IPython.core.display.HTML object>"
            ],
            "text/html": [
              "Run data is saved locally in <code>/content/wandb/run-20250331_142858-opv8ta4l</code>"
            ]
          },
          "metadata": {}
        },
        {
          "output_type": "display_data",
          "data": {
            "text/plain": [
              "<IPython.core.display.HTML object>"
            ],
            "text/html": [
              "Syncing run <strong><a href='https://wandb.ai/abhijithvinod-indian-institue-of-technology-madras/RL_CartPole_SARSA/runs/opv8ta4l' target=\"_blank\">ancient-sweep-5</a></strong> to <a href='https://wandb.ai/abhijithvinod-indian-institue-of-technology-madras/RL_CartPole_SARSA' target=\"_blank\">Weights & Biases</a> (<a href='https://wandb.me/developer-guide' target=\"_blank\">docs</a>)<br>Sweep page: <a href='https://wandb.ai/abhijithvinod-indian-institue-of-technology-madras/RL_CartPole_SARSA/sweeps/axs367lv' target=\"_blank\">https://wandb.ai/abhijithvinod-indian-institue-of-technology-madras/RL_CartPole_SARSA/sweeps/axs367lv</a>"
            ]
          },
          "metadata": {}
        },
        {
          "output_type": "display_data",
          "data": {
            "text/plain": [
              "<IPython.core.display.HTML object>"
            ],
            "text/html": [
              " View project at <a href='https://wandb.ai/abhijithvinod-indian-institue-of-technology-madras/RL_CartPole_SARSA' target=\"_blank\">https://wandb.ai/abhijithvinod-indian-institue-of-technology-madras/RL_CartPole_SARSA</a>"
            ]
          },
          "metadata": {}
        },
        {
          "output_type": "display_data",
          "data": {
            "text/plain": [
              "<IPython.core.display.HTML object>"
            ],
            "text/html": [
              " View sweep at <a href='https://wandb.ai/abhijithvinod-indian-institue-of-technology-madras/RL_CartPole_SARSA/sweeps/axs367lv' target=\"_blank\">https://wandb.ai/abhijithvinod-indian-institue-of-technology-madras/RL_CartPole_SARSA/sweeps/axs367lv</a>"
            ]
          },
          "metadata": {}
        },
        {
          "output_type": "display_data",
          "data": {
            "text/plain": [
              "<IPython.core.display.HTML object>"
            ],
            "text/html": [
              " View run at <a href='https://wandb.ai/abhijithvinod-indian-institue-of-technology-madras/RL_CartPole_SARSA/runs/opv8ta4l' target=\"_blank\">https://wandb.ai/abhijithvinod-indian-institue-of-technology-madras/RL_CartPole_SARSA/runs/opv8ta4l</a>"
            ]
          },
          "metadata": {}
        },
        {
          "output_type": "display_data",
          "data": {
            "text/plain": [
              "<IPython.core.display.HTML object>"
            ],
            "text/html": []
          },
          "metadata": {}
        },
        {
          "output_type": "display_data",
          "data": {
            "text/plain": [
              "<IPython.core.display.HTML object>"
            ],
            "text/html": [
              "<br>    <style><br>        .wandb-row {<br>            display: flex;<br>            flex-direction: row;<br>            flex-wrap: wrap;<br>            justify-content: flex-start;<br>            width: 100%;<br>        }<br>        .wandb-col {<br>            display: flex;<br>            flex-direction: column;<br>            flex-basis: 100%;<br>            flex: 1;<br>            padding: 10px;<br>        }<br>    </style><br><div class=\"wandb-row\"><div class=\"wandb-col\"><h3>Run history:</h3><br/><table class=\"wandb\"><tr><td>average_reward_across_seeds</td><td>▁</td></tr><tr><td>seed_101_episode</td><td>▁▁▁▂▂▂▂▂▃▃▃▃▃▃▃▄▄▄▄▄▄▄▅▅▅▆▆▆▆▆▇▇▇▇▇▇▇███</td></tr><tr><td>seed_101_reward</td><td>▁▁▁▁▁▂▂▂▃▁▄▃▃▄▄▂█▁▆▃▃▃▂▃▂▃▂▃▂▃▃▂▂▃▂▃▃▄▃▆</td></tr><tr><td>seed_123_episode</td><td>▁▁▁▁▂▂▂▂▂▃▃▃▄▄▄▅▅▅▅▅▅▅▅▅▅▆▆▆▆▆▇▇▇▇▇▇▇▇▇█</td></tr><tr><td>seed_123_reward</td><td>▁▁▁▁▁▁▁▁▂▂▁▃▂▃▃▂▃▂▂▃▂▃▃▂▄▂▁▃▃▄▂▇█▂▄▇▄▂▃▃</td></tr><tr><td>seed_42_episode</td><td>▁▁▁▁▂▂▂▂▂▂▃▃▃▃▄▄▄▄▄▄▅▅▅▅▅▅▆▆▆▆▆▇▇▇▇▇▇███</td></tr><tr><td>seed_42_reward</td><td>▁▁▁▁▁▂▁▁▁▂▂▁▂▅▃▄▃▅▃▂▄▆▆▄▆▄▃▅▇▃▂▃█▄▅▄▄▄▄█</td></tr><tr><td>seed_456_episode</td><td>▁▁▁▁▂▂▂▂▂▂▃▃▃▃▃▄▄▄▅▅▅▅▅▅▅▆▆▆▆▇▇▇▇▇▇▇████</td></tr><tr><td>seed_456_reward</td><td>▁▁▁▁▁▂▂▃▃▃▂▅▄▃▃▃▃▄▅▆▄▄▄▂▄▇▆▅▅▅▅▄▅▂▅▅▃█▄▅</td></tr><tr><td>seed_789_episode</td><td>▁▁▁▁▁▂▂▂▂▃▃▃▄▄▄▄▄▄▄▄▄▅▅▅▅▅▅▅▅▆▆▆▆▇▇▇▇███</td></tr><tr><td>seed_789_reward</td><td>▁▁▁▁▁▁▁▁▁▁▁▁▁▁▁▂▂▂▃▂▂▁▂▂▁▃▁▂▃▃▄▃▃▃▃▅▃▂▃█</td></tr></table><br/></div><div class=\"wandb-col\"><h3>Run summary:</h3><br/><table class=\"wandb\"><tr><td>average_reward_across_seeds</td><td>98.136</td></tr><tr><td>seed_101_episode</td><td>999</td></tr><tr><td>seed_101_reward</td><td>51</td></tr><tr><td>seed_123_episode</td><td>999</td></tr><tr><td>seed_123_reward</td><td>86</td></tr><tr><td>seed_42_episode</td><td>999</td></tr><tr><td>seed_42_reward</td><td>84</td></tr><tr><td>seed_456_episode</td><td>999</td></tr><tr><td>seed_456_reward</td><td>54</td></tr><tr><td>seed_789_episode</td><td>999</td></tr><tr><td>seed_789_reward</td><td>84</td></tr></table><br/></div></div>"
            ]
          },
          "metadata": {}
        },
        {
          "output_type": "display_data",
          "data": {
            "text/plain": [
              "<IPython.core.display.HTML object>"
            ],
            "text/html": [
              " View run <strong style=\"color:#cdcd00\">ancient-sweep-5</strong> at: <a href='https://wandb.ai/abhijithvinod-indian-institue-of-technology-madras/RL_CartPole_SARSA/runs/opv8ta4l' target=\"_blank\">https://wandb.ai/abhijithvinod-indian-institue-of-technology-madras/RL_CartPole_SARSA/runs/opv8ta4l</a><br> View project at: <a href='https://wandb.ai/abhijithvinod-indian-institue-of-technology-madras/RL_CartPole_SARSA' target=\"_blank\">https://wandb.ai/abhijithvinod-indian-institue-of-technology-madras/RL_CartPole_SARSA</a><br>Synced 5 W&B file(s), 0 media file(s), 0 artifact file(s) and 0 other file(s)"
            ]
          },
          "metadata": {}
        },
        {
          "output_type": "display_data",
          "data": {
            "text/plain": [
              "<IPython.core.display.HTML object>"
            ],
            "text/html": [
              "Find logs at: <code>./wandb/run-20250331_142858-opv8ta4l/logs</code>"
            ]
          },
          "metadata": {}
        },
        {
          "output_type": "stream",
          "name": "stderr",
          "text": [
            "\u001b[34m\u001b[1mwandb\u001b[0m: Agent Starting Run: v83f71pd with config:\n",
            "\u001b[34m\u001b[1mwandb\u001b[0m: \talpha: 0.49880082540963705\n",
            "\u001b[34m\u001b[1mwandb\u001b[0m: \tepsilon: 0.061578102449030295\n",
            "\u001b[34m\u001b[1mwandb\u001b[0m: \tgamma: 0.99\n",
            "\u001b[34m\u001b[1mwandb\u001b[0m: \tn_bins: 15\n",
            "\u001b[34m\u001b[1mwandb\u001b[0m: \tn_episodes: 1000\n"
          ]
        },
        {
          "output_type": "display_data",
          "data": {
            "text/plain": [
              "<IPython.core.display.HTML object>"
            ],
            "text/html": [
              "Tracking run with wandb version 0.19.8"
            ]
          },
          "metadata": {}
        },
        {
          "output_type": "display_data",
          "data": {
            "text/plain": [
              "<IPython.core.display.HTML object>"
            ],
            "text/html": [
              "Run data is saved locally in <code>/content/wandb/run-20250331_142939-v83f71pd</code>"
            ]
          },
          "metadata": {}
        },
        {
          "output_type": "display_data",
          "data": {
            "text/plain": [
              "<IPython.core.display.HTML object>"
            ],
            "text/html": [
              "Syncing run <strong><a href='https://wandb.ai/abhijithvinod-indian-institue-of-technology-madras/RL_CartPole_SARSA/runs/v83f71pd' target=\"_blank\">avid-sweep-6</a></strong> to <a href='https://wandb.ai/abhijithvinod-indian-institue-of-technology-madras/RL_CartPole_SARSA' target=\"_blank\">Weights & Biases</a> (<a href='https://wandb.me/developer-guide' target=\"_blank\">docs</a>)<br>Sweep page: <a href='https://wandb.ai/abhijithvinod-indian-institue-of-technology-madras/RL_CartPole_SARSA/sweeps/axs367lv' target=\"_blank\">https://wandb.ai/abhijithvinod-indian-institue-of-technology-madras/RL_CartPole_SARSA/sweeps/axs367lv</a>"
            ]
          },
          "metadata": {}
        },
        {
          "output_type": "display_data",
          "data": {
            "text/plain": [
              "<IPython.core.display.HTML object>"
            ],
            "text/html": [
              " View project at <a href='https://wandb.ai/abhijithvinod-indian-institue-of-technology-madras/RL_CartPole_SARSA' target=\"_blank\">https://wandb.ai/abhijithvinod-indian-institue-of-technology-madras/RL_CartPole_SARSA</a>"
            ]
          },
          "metadata": {}
        },
        {
          "output_type": "display_data",
          "data": {
            "text/plain": [
              "<IPython.core.display.HTML object>"
            ],
            "text/html": [
              " View sweep at <a href='https://wandb.ai/abhijithvinod-indian-institue-of-technology-madras/RL_CartPole_SARSA/sweeps/axs367lv' target=\"_blank\">https://wandb.ai/abhijithvinod-indian-institue-of-technology-madras/RL_CartPole_SARSA/sweeps/axs367lv</a>"
            ]
          },
          "metadata": {}
        },
        {
          "output_type": "display_data",
          "data": {
            "text/plain": [
              "<IPython.core.display.HTML object>"
            ],
            "text/html": [
              " View run at <a href='https://wandb.ai/abhijithvinod-indian-institue-of-technology-madras/RL_CartPole_SARSA/runs/v83f71pd' target=\"_blank\">https://wandb.ai/abhijithvinod-indian-institue-of-technology-madras/RL_CartPole_SARSA/runs/v83f71pd</a>"
            ]
          },
          "metadata": {}
        },
        {
          "output_type": "display_data",
          "data": {
            "text/plain": [
              "<IPython.core.display.HTML object>"
            ],
            "text/html": []
          },
          "metadata": {}
        },
        {
          "output_type": "display_data",
          "data": {
            "text/plain": [
              "<IPython.core.display.HTML object>"
            ],
            "text/html": [
              "<br>    <style><br>        .wandb-row {<br>            display: flex;<br>            flex-direction: row;<br>            flex-wrap: wrap;<br>            justify-content: flex-start;<br>            width: 100%;<br>        }<br>        .wandb-col {<br>            display: flex;<br>            flex-direction: column;<br>            flex-basis: 100%;<br>            flex: 1;<br>            padding: 10px;<br>        }<br>    </style><br><div class=\"wandb-row\"><div class=\"wandb-col\"><h3>Run history:</h3><br/><table class=\"wandb\"><tr><td>average_reward_across_seeds</td><td>▁</td></tr><tr><td>seed_101_episode</td><td>▁▁▁▁▁▂▂▃▃▃▃▃▃▃▃▃▄▄▄▄▄▄▅▅▅▅▆▆▆▆▆▇▇▇▇▇▇▇██</td></tr><tr><td>seed_101_reward</td><td>▁▁▁▁▁▁▁▁▁▁▂▄▁▁▁▁▂▁▂▄▃▁▁▂▁▂▂▂▆█▃▁▃▄▇▄▅▄▆▄</td></tr><tr><td>seed_123_episode</td><td>▁▁▁▁▁▂▂▂▂▂▂▂▃▃▃▃▃▄▄▄▅▅▅▅▅▆▆▆▆▆▆▇▇▇▇▇████</td></tr><tr><td>seed_123_reward</td><td>▁▁▁▁▁▁▁▁▆▁▁▁▁▁▁▁▃▁▁▄▂▃▂█▇▆▄▂▂▂▁▇▄▂▄▃▆▄▆▃</td></tr><tr><td>seed_42_episode</td><td>▁▁▁▂▂▂▂▂▂▂▂▂▂▃▃▃▃▄▄▄▄▄▄▄▅▅▅▅▅▅▅▆▆▆▆▇▇▇██</td></tr><tr><td>seed_42_reward</td><td>▂▁▂▁▁▁▁▁▁▁▁▂▁▁▁▄▁▁▄▂█▇▆▁▃▅▅▁▄▆▇▆▄▅▇▂▃▃▇▅</td></tr><tr><td>seed_456_episode</td><td>▁▁▁▁▁▂▂▂▂▃▃▃▃▃▃▄▄▄▄▄▄▄▄▅▅▅▅▆▆▆▇▇▇▇▇█████</td></tr><tr><td>seed_456_reward</td><td>▂▁▁▁▁▁▁▁▁▁▁▁▁▂▁▁█▃▃▂▂▁▂▁▃▃▃▃▃▁▁▂▂▁▄▂▂▁▂▂</td></tr><tr><td>seed_789_episode</td><td>▁▁▁▁▁▂▂▂▂▂▃▃▃▄▄▄▄▄▄▄▅▅▅▅▅▆▆▆▆▆▆▇▇▇▇▇▇▇▇█</td></tr><tr><td>seed_789_reward</td><td>▁▁▁▁▁▁▁▁▁▁▁▂▁▁▂▁▁▁▁▁▂▁▁▁▄▁▂█▂▁▂▁▃▄▄▃▂█▅▇</td></tr></table><br/></div><div class=\"wandb-col\"><h3>Run summary:</h3><br/><table class=\"wandb\"><tr><td>average_reward_across_seeds</td><td>71.216</td></tr><tr><td>seed_101_episode</td><td>999</td></tr><tr><td>seed_101_reward</td><td>91</td></tr><tr><td>seed_123_episode</td><td>999</td></tr><tr><td>seed_123_reward</td><td>79</td></tr><tr><td>seed_42_episode</td><td>999</td></tr><tr><td>seed_42_reward</td><td>41</td></tr><tr><td>seed_456_episode</td><td>999</td></tr><tr><td>seed_456_reward</td><td>60</td></tr><tr><td>seed_789_episode</td><td>999</td></tr><tr><td>seed_789_reward</td><td>118</td></tr></table><br/></div></div>"
            ]
          },
          "metadata": {}
        },
        {
          "output_type": "display_data",
          "data": {
            "text/plain": [
              "<IPython.core.display.HTML object>"
            ],
            "text/html": [
              " View run <strong style=\"color:#cdcd00\">avid-sweep-6</strong> at: <a href='https://wandb.ai/abhijithvinod-indian-institue-of-technology-madras/RL_CartPole_SARSA/runs/v83f71pd' target=\"_blank\">https://wandb.ai/abhijithvinod-indian-institue-of-technology-madras/RL_CartPole_SARSA/runs/v83f71pd</a><br> View project at: <a href='https://wandb.ai/abhijithvinod-indian-institue-of-technology-madras/RL_CartPole_SARSA' target=\"_blank\">https://wandb.ai/abhijithvinod-indian-institue-of-technology-madras/RL_CartPole_SARSA</a><br>Synced 5 W&B file(s), 0 media file(s), 0 artifact file(s) and 0 other file(s)"
            ]
          },
          "metadata": {}
        },
        {
          "output_type": "display_data",
          "data": {
            "text/plain": [
              "<IPython.core.display.HTML object>"
            ],
            "text/html": [
              "Find logs at: <code>./wandb/run-20250331_142939-v83f71pd/logs</code>"
            ]
          },
          "metadata": {}
        },
        {
          "output_type": "stream",
          "name": "stderr",
          "text": [
            "\u001b[34m\u001b[1mwandb\u001b[0m: Agent Starting Run: m59i5398 with config:\n",
            "\u001b[34m\u001b[1mwandb\u001b[0m: \talpha: 0.497038972586999\n",
            "\u001b[34m\u001b[1mwandb\u001b[0m: \tepsilon: 0.16892771658108116\n",
            "\u001b[34m\u001b[1mwandb\u001b[0m: \tgamma: 0.99\n",
            "\u001b[34m\u001b[1mwandb\u001b[0m: \tn_bins: 20\n",
            "\u001b[34m\u001b[1mwandb\u001b[0m: \tn_episodes: 1000\n"
          ]
        },
        {
          "output_type": "display_data",
          "data": {
            "text/plain": [
              "<IPython.core.display.HTML object>"
            ],
            "text/html": [
              "Tracking run with wandb version 0.19.8"
            ]
          },
          "metadata": {}
        },
        {
          "output_type": "display_data",
          "data": {
            "text/plain": [
              "<IPython.core.display.HTML object>"
            ],
            "text/html": [
              "Run data is saved locally in <code>/content/wandb/run-20250331_143009-m59i5398</code>"
            ]
          },
          "metadata": {}
        },
        {
          "output_type": "display_data",
          "data": {
            "text/plain": [
              "<IPython.core.display.HTML object>"
            ],
            "text/html": [
              "Syncing run <strong><a href='https://wandb.ai/abhijithvinod-indian-institue-of-technology-madras/RL_CartPole_SARSA/runs/m59i5398' target=\"_blank\">fast-sweep-7</a></strong> to <a href='https://wandb.ai/abhijithvinod-indian-institue-of-technology-madras/RL_CartPole_SARSA' target=\"_blank\">Weights & Biases</a> (<a href='https://wandb.me/developer-guide' target=\"_blank\">docs</a>)<br>Sweep page: <a href='https://wandb.ai/abhijithvinod-indian-institue-of-technology-madras/RL_CartPole_SARSA/sweeps/axs367lv' target=\"_blank\">https://wandb.ai/abhijithvinod-indian-institue-of-technology-madras/RL_CartPole_SARSA/sweeps/axs367lv</a>"
            ]
          },
          "metadata": {}
        },
        {
          "output_type": "display_data",
          "data": {
            "text/plain": [
              "<IPython.core.display.HTML object>"
            ],
            "text/html": [
              " View project at <a href='https://wandb.ai/abhijithvinod-indian-institue-of-technology-madras/RL_CartPole_SARSA' target=\"_blank\">https://wandb.ai/abhijithvinod-indian-institue-of-technology-madras/RL_CartPole_SARSA</a>"
            ]
          },
          "metadata": {}
        },
        {
          "output_type": "display_data",
          "data": {
            "text/plain": [
              "<IPython.core.display.HTML object>"
            ],
            "text/html": [
              " View sweep at <a href='https://wandb.ai/abhijithvinod-indian-institue-of-technology-madras/RL_CartPole_SARSA/sweeps/axs367lv' target=\"_blank\">https://wandb.ai/abhijithvinod-indian-institue-of-technology-madras/RL_CartPole_SARSA/sweeps/axs367lv</a>"
            ]
          },
          "metadata": {}
        },
        {
          "output_type": "display_data",
          "data": {
            "text/plain": [
              "<IPython.core.display.HTML object>"
            ],
            "text/html": [
              " View run at <a href='https://wandb.ai/abhijithvinod-indian-institue-of-technology-madras/RL_CartPole_SARSA/runs/m59i5398' target=\"_blank\">https://wandb.ai/abhijithvinod-indian-institue-of-technology-madras/RL_CartPole_SARSA/runs/m59i5398</a>"
            ]
          },
          "metadata": {}
        },
        {
          "output_type": "display_data",
          "data": {
            "text/plain": [
              "<IPython.core.display.HTML object>"
            ],
            "text/html": []
          },
          "metadata": {}
        },
        {
          "output_type": "display_data",
          "data": {
            "text/plain": [
              "<IPython.core.display.HTML object>"
            ],
            "text/html": [
              "<br>    <style><br>        .wandb-row {<br>            display: flex;<br>            flex-direction: row;<br>            flex-wrap: wrap;<br>            justify-content: flex-start;<br>            width: 100%;<br>        }<br>        .wandb-col {<br>            display: flex;<br>            flex-direction: column;<br>            flex-basis: 100%;<br>            flex: 1;<br>            padding: 10px;<br>        }<br>    </style><br><div class=\"wandb-row\"><div class=\"wandb-col\"><h3>Run history:</h3><br/><table class=\"wandb\"><tr><td>average_reward_across_seeds</td><td>▁</td></tr><tr><td>seed_101_episode</td><td>▁▁▁▂▂▂▂▂▂▂▃▃▃▃▃▃▃▃▃▃▄▄▄▄▅▅▅▅▅▆▆▆▆▆▆▇▇▇██</td></tr><tr><td>seed_101_reward</td><td>▁▁▁▁▁▃▂▃▁▂▄▃▅▂▂▃▃▃▂▂▄▂▂▂▂▁▃▃▃▃▂▅▃▂▄▂▃▄█▃</td></tr><tr><td>seed_123_episode</td><td>▁▁▁▁▁▂▂▂▂▂▂▂▃▃▃▃▄▄▄▄▄▄▄▅▅▅▅▅▅▅▆▆▆▆▇▇▇▇▇█</td></tr><tr><td>seed_123_reward</td><td>▁▁▁▁▁▁▁▂▂▁▁▁▂▂▃▂▄▄▃▄▃▃▆▃▅▅▄▇▃▄▅▅▄▂▆▆▃▃█▅</td></tr><tr><td>seed_42_episode</td><td>▁▁▁▁▂▂▂▂▂▂▂▂▂▃▃▃▃▄▄▄▄▄▄▅▅▅▅▅▆▆▆▇▇▇▇▇▇███</td></tr><tr><td>seed_42_reward</td><td>▁▁▁▁▁▁▁▁▁▁▂▁▂▁▂▃▃▅▂▃▂▅▂▇▂▃▃▄▆█▄▄▅▃▅▄▃▅▆▆</td></tr><tr><td>seed_456_episode</td><td>▁▁▁▁▁▁▁▂▂▂▂▂▂▂▃▃▃▃▃▃▄▄▅▅▅▅▅▆▆▆▆▇▇▇▇▇▇███</td></tr><tr><td>seed_456_reward</td><td>▁▁▁▁▁▁▁▁▂▂▂▁▂▂▃▄▃▅▇▂▅▃▃▄▄▄▄▄▃▆▅▃▄▆▆▄▅▅██</td></tr><tr><td>seed_789_episode</td><td>▁▁▁▂▂▂▂▂▂▂▃▃▃▃▄▄▄▄▄▄▄▄▄▄▅▅▅▅▅▅▆▆▆▆▇▇▇███</td></tr><tr><td>seed_789_reward</td><td>▁▁▁▁▁▁▁▂▁▁▁▁▁▂▂▂▂▁▄▃▃▂▃▃▃▃▃▅▄▂▄▂▂▄▃█▃▅▄▄</td></tr></table><br/></div><div class=\"wandb-col\"><h3>Run summary:</h3><br/><table class=\"wandb\"><tr><td>average_reward_across_seeds</td><td>100.532</td></tr><tr><td>seed_101_episode</td><td>999</td></tr><tr><td>seed_101_reward</td><td>223</td></tr><tr><td>seed_123_episode</td><td>999</td></tr><tr><td>seed_123_reward</td><td>140</td></tr><tr><td>seed_42_episode</td><td>999</td></tr><tr><td>seed_42_reward</td><td>79</td></tr><tr><td>seed_456_episode</td><td>999</td></tr><tr><td>seed_456_reward</td><td>323</td></tr><tr><td>seed_789_episode</td><td>999</td></tr><tr><td>seed_789_reward</td><td>93</td></tr></table><br/></div></div>"
            ]
          },
          "metadata": {}
        },
        {
          "output_type": "display_data",
          "data": {
            "text/plain": [
              "<IPython.core.display.HTML object>"
            ],
            "text/html": [
              " View run <strong style=\"color:#cdcd00\">fast-sweep-7</strong> at: <a href='https://wandb.ai/abhijithvinod-indian-institue-of-technology-madras/RL_CartPole_SARSA/runs/m59i5398' target=\"_blank\">https://wandb.ai/abhijithvinod-indian-institue-of-technology-madras/RL_CartPole_SARSA/runs/m59i5398</a><br> View project at: <a href='https://wandb.ai/abhijithvinod-indian-institue-of-technology-madras/RL_CartPole_SARSA' target=\"_blank\">https://wandb.ai/abhijithvinod-indian-institue-of-technology-madras/RL_CartPole_SARSA</a><br>Synced 5 W&B file(s), 0 media file(s), 0 artifact file(s) and 0 other file(s)"
            ]
          },
          "metadata": {}
        },
        {
          "output_type": "display_data",
          "data": {
            "text/plain": [
              "<IPython.core.display.HTML object>"
            ],
            "text/html": [
              "Find logs at: <code>./wandb/run-20250331_143009-m59i5398/logs</code>"
            ]
          },
          "metadata": {}
        },
        {
          "output_type": "stream",
          "name": "stderr",
          "text": [
            "\u001b[34m\u001b[1mwandb\u001b[0m: Agent Starting Run: mifg96n8 with config:\n",
            "\u001b[34m\u001b[1mwandb\u001b[0m: \talpha: 0.499620243766804\n",
            "\u001b[34m\u001b[1mwandb\u001b[0m: \tepsilon: 0.2921404639962764\n",
            "\u001b[34m\u001b[1mwandb\u001b[0m: \tgamma: 0.99\n",
            "\u001b[34m\u001b[1mwandb\u001b[0m: \tn_bins: 15\n",
            "\u001b[34m\u001b[1mwandb\u001b[0m: \tn_episodes: 1000\n"
          ]
        },
        {
          "output_type": "display_data",
          "data": {
            "text/plain": [
              "<IPython.core.display.HTML object>"
            ],
            "text/html": [
              "Tracking run with wandb version 0.19.8"
            ]
          },
          "metadata": {}
        },
        {
          "output_type": "display_data",
          "data": {
            "text/plain": [
              "<IPython.core.display.HTML object>"
            ],
            "text/html": [
              "Run data is saved locally in <code>/content/wandb/run-20250331_143050-mifg96n8</code>"
            ]
          },
          "metadata": {}
        },
        {
          "output_type": "display_data",
          "data": {
            "text/plain": [
              "<IPython.core.display.HTML object>"
            ],
            "text/html": [
              "Syncing run <strong><a href='https://wandb.ai/abhijithvinod-indian-institue-of-technology-madras/RL_CartPole_SARSA/runs/mifg96n8' target=\"_blank\">glamorous-sweep-8</a></strong> to <a href='https://wandb.ai/abhijithvinod-indian-institue-of-technology-madras/RL_CartPole_SARSA' target=\"_blank\">Weights & Biases</a> (<a href='https://wandb.me/developer-guide' target=\"_blank\">docs</a>)<br>Sweep page: <a href='https://wandb.ai/abhijithvinod-indian-institue-of-technology-madras/RL_CartPole_SARSA/sweeps/axs367lv' target=\"_blank\">https://wandb.ai/abhijithvinod-indian-institue-of-technology-madras/RL_CartPole_SARSA/sweeps/axs367lv</a>"
            ]
          },
          "metadata": {}
        },
        {
          "output_type": "display_data",
          "data": {
            "text/plain": [
              "<IPython.core.display.HTML object>"
            ],
            "text/html": [
              " View project at <a href='https://wandb.ai/abhijithvinod-indian-institue-of-technology-madras/RL_CartPole_SARSA' target=\"_blank\">https://wandb.ai/abhijithvinod-indian-institue-of-technology-madras/RL_CartPole_SARSA</a>"
            ]
          },
          "metadata": {}
        },
        {
          "output_type": "display_data",
          "data": {
            "text/plain": [
              "<IPython.core.display.HTML object>"
            ],
            "text/html": [
              " View sweep at <a href='https://wandb.ai/abhijithvinod-indian-institue-of-technology-madras/RL_CartPole_SARSA/sweeps/axs367lv' target=\"_blank\">https://wandb.ai/abhijithvinod-indian-institue-of-technology-madras/RL_CartPole_SARSA/sweeps/axs367lv</a>"
            ]
          },
          "metadata": {}
        },
        {
          "output_type": "display_data",
          "data": {
            "text/plain": [
              "<IPython.core.display.HTML object>"
            ],
            "text/html": [
              " View run at <a href='https://wandb.ai/abhijithvinod-indian-institue-of-technology-madras/RL_CartPole_SARSA/runs/mifg96n8' target=\"_blank\">https://wandb.ai/abhijithvinod-indian-institue-of-technology-madras/RL_CartPole_SARSA/runs/mifg96n8</a>"
            ]
          },
          "metadata": {}
        },
        {
          "output_type": "display_data",
          "data": {
            "text/plain": [
              "<IPython.core.display.HTML object>"
            ],
            "text/html": []
          },
          "metadata": {}
        },
        {
          "output_type": "display_data",
          "data": {
            "text/plain": [
              "<IPython.core.display.HTML object>"
            ],
            "text/html": [
              "<br>    <style><br>        .wandb-row {<br>            display: flex;<br>            flex-direction: row;<br>            flex-wrap: wrap;<br>            justify-content: flex-start;<br>            width: 100%;<br>        }<br>        .wandb-col {<br>            display: flex;<br>            flex-direction: column;<br>            flex-basis: 100%;<br>            flex: 1;<br>            padding: 10px;<br>        }<br>    </style><br><div class=\"wandb-row\"><div class=\"wandb-col\"><h3>Run history:</h3><br/><table class=\"wandb\"><tr><td>average_reward_across_seeds</td><td>▁</td></tr><tr><td>seed_101_episode</td><td>▁▂▂▃▃▃▃▃▃▃▄▄▄▄▄▄▄▄▄▅▅▅▅▅▆▆▆▆▆▆▆▇▇▇▇▇▇▇██</td></tr><tr><td>seed_101_reward</td><td>▂▁▁▁▁▂▂▁▄▃▂▃▂▃▂▄▂▆▁▂▃▃▃▃▄▂█▃▃▃▃▃▂▂▆▃▄▂▁▂</td></tr><tr><td>seed_123_episode</td><td>▁▁▁▁▁▂▂▂▂▂▃▃▃▃▃▄▄▄▄▄▅▅▅▅▅▅▆▆▆▆▆▇▇▇▇▇▇███</td></tr><tr><td>seed_123_reward</td><td>▄▂▁▁▁▃▁▅▁▂▅▃▂▄▄▂▃▄▅▅▄▁▁▂▂▂▃▄▄▂█▂▃▁▄▆▁▄▂▂</td></tr><tr><td>seed_42_episode</td><td>▁▁▁▂▂▃▃▃▃▃▃▃▃▄▄▄▄▄▄▅▅▅▅▅▅▅▅▅▆▆▆▆▆▆▆▇▇███</td></tr><tr><td>seed_42_reward</td><td>▁▁▁▁▁▁▁▁▁▁▂▁▁█▂▃▂▃▅▂▂▂▁▄▃▄▂▃▁▃▄▅▄▅▅▂▇▆▃▃</td></tr><tr><td>seed_456_episode</td><td>▁▁▂▂▂▂▂▃▃▃▃▄▄▄▄▄▄▄▅▅▅▅▅▅▅▆▆▆▆▆▆▆▇▇▇▇▇▇██</td></tr><tr><td>seed_456_reward</td><td>▁▁▂▃▃▁▂▃▁▂▂▄▃▄▃▂▅▃▅▃▃▂▅▄▄▂▅▄▄▂▄▃▂█▃▄▅▄▅▃</td></tr><tr><td>seed_789_episode</td><td>▁▁▂▂▂▂▃▃▃▃▃▃▄▄▄▄▄▄▄▄▅▅▅▅▆▆▆▆▆▇▇▇▇▇▇█████</td></tr><tr><td>seed_789_reward</td><td>▁▁▁▁▂▁▃▁▄▁▂▂▅▄▁▃▂▄▃▅▁▆▁▂▂▇▃▆▆▂▂▄▂▂▄▄▂█▅▅</td></tr></table><br/></div><div class=\"wandb-col\"><h3>Run summary:</h3><br/><table class=\"wandb\"><tr><td>average_reward_across_seeds</td><td>80.816</td></tr><tr><td>seed_101_episode</td><td>999</td></tr><tr><td>seed_101_reward</td><td>101</td></tr><tr><td>seed_123_episode</td><td>999</td></tr><tr><td>seed_123_reward</td><td>150</td></tr><tr><td>seed_42_episode</td><td>999</td></tr><tr><td>seed_42_reward</td><td>45</td></tr><tr><td>seed_456_episode</td><td>999</td></tr><tr><td>seed_456_reward</td><td>165</td></tr><tr><td>seed_789_episode</td><td>999</td></tr><tr><td>seed_789_reward</td><td>74</td></tr></table><br/></div></div>"
            ]
          },
          "metadata": {}
        },
        {
          "output_type": "display_data",
          "data": {
            "text/plain": [
              "<IPython.core.display.HTML object>"
            ],
            "text/html": [
              " View run <strong style=\"color:#cdcd00\">glamorous-sweep-8</strong> at: <a href='https://wandb.ai/abhijithvinod-indian-institue-of-technology-madras/RL_CartPole_SARSA/runs/mifg96n8' target=\"_blank\">https://wandb.ai/abhijithvinod-indian-institue-of-technology-madras/RL_CartPole_SARSA/runs/mifg96n8</a><br> View project at: <a href='https://wandb.ai/abhijithvinod-indian-institue-of-technology-madras/RL_CartPole_SARSA' target=\"_blank\">https://wandb.ai/abhijithvinod-indian-institue-of-technology-madras/RL_CartPole_SARSA</a><br>Synced 5 W&B file(s), 0 media file(s), 0 artifact file(s) and 0 other file(s)"
            ]
          },
          "metadata": {}
        },
        {
          "output_type": "display_data",
          "data": {
            "text/plain": [
              "<IPython.core.display.HTML object>"
            ],
            "text/html": [
              "Find logs at: <code>./wandb/run-20250331_143050-mifg96n8/logs</code>"
            ]
          },
          "metadata": {}
        },
        {
          "output_type": "stream",
          "name": "stderr",
          "text": [
            "\u001b[34m\u001b[1mwandb\u001b[0m: Agent Starting Run: qfqrc3hl with config:\n",
            "\u001b[34m\u001b[1mwandb\u001b[0m: \talpha: 0.479355980641493\n",
            "\u001b[34m\u001b[1mwandb\u001b[0m: \tepsilon: 0.24237281340916653\n",
            "\u001b[34m\u001b[1mwandb\u001b[0m: \tgamma: 0.99\n",
            "\u001b[34m\u001b[1mwandb\u001b[0m: \tn_bins: 10\n",
            "\u001b[34m\u001b[1mwandb\u001b[0m: \tn_episodes: 1000\n"
          ]
        },
        {
          "output_type": "display_data",
          "data": {
            "text/plain": [
              "<IPython.core.display.HTML object>"
            ],
            "text/html": [
              "Tracking run with wandb version 0.19.8"
            ]
          },
          "metadata": {}
        },
        {
          "output_type": "display_data",
          "data": {
            "text/plain": [
              "<IPython.core.display.HTML object>"
            ],
            "text/html": [
              "Run data is saved locally in <code>/content/wandb/run-20250331_143131-qfqrc3hl</code>"
            ]
          },
          "metadata": {}
        },
        {
          "output_type": "display_data",
          "data": {
            "text/plain": [
              "<IPython.core.display.HTML object>"
            ],
            "text/html": [
              "Syncing run <strong><a href='https://wandb.ai/abhijithvinod-indian-institue-of-technology-madras/RL_CartPole_SARSA/runs/qfqrc3hl' target=\"_blank\">classic-sweep-9</a></strong> to <a href='https://wandb.ai/abhijithvinod-indian-institue-of-technology-madras/RL_CartPole_SARSA' target=\"_blank\">Weights & Biases</a> (<a href='https://wandb.me/developer-guide' target=\"_blank\">docs</a>)<br>Sweep page: <a href='https://wandb.ai/abhijithvinod-indian-institue-of-technology-madras/RL_CartPole_SARSA/sweeps/axs367lv' target=\"_blank\">https://wandb.ai/abhijithvinod-indian-institue-of-technology-madras/RL_CartPole_SARSA/sweeps/axs367lv</a>"
            ]
          },
          "metadata": {}
        },
        {
          "output_type": "display_data",
          "data": {
            "text/plain": [
              "<IPython.core.display.HTML object>"
            ],
            "text/html": [
              " View project at <a href='https://wandb.ai/abhijithvinod-indian-institue-of-technology-madras/RL_CartPole_SARSA' target=\"_blank\">https://wandb.ai/abhijithvinod-indian-institue-of-technology-madras/RL_CartPole_SARSA</a>"
            ]
          },
          "metadata": {}
        },
        {
          "output_type": "display_data",
          "data": {
            "text/plain": [
              "<IPython.core.display.HTML object>"
            ],
            "text/html": [
              " View sweep at <a href='https://wandb.ai/abhijithvinod-indian-institue-of-technology-madras/RL_CartPole_SARSA/sweeps/axs367lv' target=\"_blank\">https://wandb.ai/abhijithvinod-indian-institue-of-technology-madras/RL_CartPole_SARSA/sweeps/axs367lv</a>"
            ]
          },
          "metadata": {}
        },
        {
          "output_type": "display_data",
          "data": {
            "text/plain": [
              "<IPython.core.display.HTML object>"
            ],
            "text/html": [
              " View run at <a href='https://wandb.ai/abhijithvinod-indian-institue-of-technology-madras/RL_CartPole_SARSA/runs/qfqrc3hl' target=\"_blank\">https://wandb.ai/abhijithvinod-indian-institue-of-technology-madras/RL_CartPole_SARSA/runs/qfqrc3hl</a>"
            ]
          },
          "metadata": {}
        },
        {
          "output_type": "display_data",
          "data": {
            "text/plain": [
              "<IPython.core.display.HTML object>"
            ],
            "text/html": []
          },
          "metadata": {}
        },
        {
          "output_type": "display_data",
          "data": {
            "text/plain": [
              "<IPython.core.display.HTML object>"
            ],
            "text/html": [
              "<br>    <style><br>        .wandb-row {<br>            display: flex;<br>            flex-direction: row;<br>            flex-wrap: wrap;<br>            justify-content: flex-start;<br>            width: 100%;<br>        }<br>        .wandb-col {<br>            display: flex;<br>            flex-direction: column;<br>            flex-basis: 100%;<br>            flex: 1;<br>            padding: 10px;<br>        }<br>    </style><br><div class=\"wandb-row\"><div class=\"wandb-col\"><h3>Run history:</h3><br/><table class=\"wandb\"><tr><td>average_reward_across_seeds</td><td>▁</td></tr><tr><td>seed_101_episode</td><td>▁▁▂▂▂▂▂▂▃▃▄▄▄▄▄▅▅▅▅▅▆▆▆▆▆▆▆▆▇▇▇▇████████</td></tr><tr><td>seed_101_reward</td><td>▁▁▂▁▂▁▂▂▂▃▂▂▃▃▃▂▃▃▄▃▂▂▂▃▃▂▃▇▂▃▁▃▅▃▃▂▁█▃▄</td></tr><tr><td>seed_123_episode</td><td>▁▁▂▂▂▂▂▃▃▃▃▄▄▄▄▄▄▅▅▅▅▅▅▆▆▇▇▇▇▇▇▇▇███████</td></tr><tr><td>seed_123_reward</td><td>▁▁▁▁▂▁▁▁▁▄▇█▂▂▂▁▃▂▂▂▁▄▂▂▄▄▄▃▁▄▅▂▆▇▃▃▄▄▂▅</td></tr><tr><td>seed_42_episode</td><td>▁▁▁▂▂▂▂▂▂▂▂▂▂▃▃▃▃▃▃▃▄▄▄▄▅▅▅▅▆▆▆▆▆▇▇▇▇▇▇█</td></tr><tr><td>seed_42_reward</td><td>▁▂▂▂▁▄▂▂▂▂▃▁▂▃▄▁▃▂▂▁▃▂▂▂▃▄▂▄▃▃▆▃▃▄▁▅▃█▂▁</td></tr><tr><td>seed_456_episode</td><td>▁▁▁▁▂▂▂▂▂▂▂▃▃▃▃▃▃▃▃▄▄▄▅▅▅▅▅▅▆▆▆▆▇▇▇▇▇▇██</td></tr><tr><td>seed_456_reward</td><td>▁▂▂▂▁▁▁▅▄▂▂▃▁▂▃▃▂▆▃▅▃▂▁▅▂▄▂▂▅▄▁▁▂▅▇▄▃█▆▄</td></tr><tr><td>seed_789_episode</td><td>▁▁▁▁▂▃▃▃▃▃▄▄▄▄▄▄▄▄▄▄▅▅▅▅▅▆▆▆▆▆▇▇▇▇▇▇▇▇██</td></tr><tr><td>seed_789_reward</td><td>▁▂▁▁▁▁▁▃▄▄▃▄▃▂▅▇▃▃▂█▃▆▂▄▅▃▃▂▃▂▂▃▃▆▂▄▄▅▃▃</td></tr></table><br/></div><div class=\"wandb-col\"><h3>Run summary:</h3><br/><table class=\"wandb\"><tr><td>average_reward_across_seeds</td><td>78.56</td></tr><tr><td>seed_101_episode</td><td>999</td></tr><tr><td>seed_101_reward</td><td>80</td></tr><tr><td>seed_123_episode</td><td>999</td></tr><tr><td>seed_123_reward</td><td>108</td></tr><tr><td>seed_42_episode</td><td>999</td></tr><tr><td>seed_42_reward</td><td>56</td></tr><tr><td>seed_456_episode</td><td>999</td></tr><tr><td>seed_456_reward</td><td>96</td></tr><tr><td>seed_789_episode</td><td>999</td></tr><tr><td>seed_789_reward</td><td>52</td></tr></table><br/></div></div>"
            ]
          },
          "metadata": {}
        },
        {
          "output_type": "display_data",
          "data": {
            "text/plain": [
              "<IPython.core.display.HTML object>"
            ],
            "text/html": [
              " View run <strong style=\"color:#cdcd00\">classic-sweep-9</strong> at: <a href='https://wandb.ai/abhijithvinod-indian-institue-of-technology-madras/RL_CartPole_SARSA/runs/qfqrc3hl' target=\"_blank\">https://wandb.ai/abhijithvinod-indian-institue-of-technology-madras/RL_CartPole_SARSA/runs/qfqrc3hl</a><br> View project at: <a href='https://wandb.ai/abhijithvinod-indian-institue-of-technology-madras/RL_CartPole_SARSA' target=\"_blank\">https://wandb.ai/abhijithvinod-indian-institue-of-technology-madras/RL_CartPole_SARSA</a><br>Synced 5 W&B file(s), 0 media file(s), 0 artifact file(s) and 0 other file(s)"
            ]
          },
          "metadata": {}
        },
        {
          "output_type": "display_data",
          "data": {
            "text/plain": [
              "<IPython.core.display.HTML object>"
            ],
            "text/html": [
              "Find logs at: <code>./wandb/run-20250331_143131-qfqrc3hl/logs</code>"
            ]
          },
          "metadata": {}
        },
        {
          "output_type": "stream",
          "name": "stderr",
          "text": [
            "\u001b[34m\u001b[1mwandb\u001b[0m: Sweep Agent: Waiting for job.\n",
            "\u001b[34m\u001b[1mwandb\u001b[0m: Job received.\n",
            "\u001b[34m\u001b[1mwandb\u001b[0m: Agent Starting Run: wdkd46kx with config:\n",
            "\u001b[34m\u001b[1mwandb\u001b[0m: \talpha: 0.48938156748358275\n",
            "\u001b[34m\u001b[1mwandb\u001b[0m: \tepsilon: 0.1925309693820992\n",
            "\u001b[34m\u001b[1mwandb\u001b[0m: \tgamma: 0.99\n",
            "\u001b[34m\u001b[1mwandb\u001b[0m: \tn_bins: 20\n",
            "\u001b[34m\u001b[1mwandb\u001b[0m: \tn_episodes: 1000\n"
          ]
        },
        {
          "output_type": "display_data",
          "data": {
            "text/plain": [
              "<IPython.core.display.HTML object>"
            ],
            "text/html": [
              "Tracking run with wandb version 0.19.8"
            ]
          },
          "metadata": {}
        },
        {
          "output_type": "display_data",
          "data": {
            "text/plain": [
              "<IPython.core.display.HTML object>"
            ],
            "text/html": [
              "Run data is saved locally in <code>/content/wandb/run-20250331_143223-wdkd46kx</code>"
            ]
          },
          "metadata": {}
        },
        {
          "output_type": "display_data",
          "data": {
            "text/plain": [
              "<IPython.core.display.HTML object>"
            ],
            "text/html": [
              "Syncing run <strong><a href='https://wandb.ai/abhijithvinod-indian-institue-of-technology-madras/RL_CartPole_SARSA/runs/wdkd46kx' target=\"_blank\">glamorous-sweep-10</a></strong> to <a href='https://wandb.ai/abhijithvinod-indian-institue-of-technology-madras/RL_CartPole_SARSA' target=\"_blank\">Weights & Biases</a> (<a href='https://wandb.me/developer-guide' target=\"_blank\">docs</a>)<br>Sweep page: <a href='https://wandb.ai/abhijithvinod-indian-institue-of-technology-madras/RL_CartPole_SARSA/sweeps/axs367lv' target=\"_blank\">https://wandb.ai/abhijithvinod-indian-institue-of-technology-madras/RL_CartPole_SARSA/sweeps/axs367lv</a>"
            ]
          },
          "metadata": {}
        },
        {
          "output_type": "display_data",
          "data": {
            "text/plain": [
              "<IPython.core.display.HTML object>"
            ],
            "text/html": [
              " View project at <a href='https://wandb.ai/abhijithvinod-indian-institue-of-technology-madras/RL_CartPole_SARSA' target=\"_blank\">https://wandb.ai/abhijithvinod-indian-institue-of-technology-madras/RL_CartPole_SARSA</a>"
            ]
          },
          "metadata": {}
        },
        {
          "output_type": "display_data",
          "data": {
            "text/plain": [
              "<IPython.core.display.HTML object>"
            ],
            "text/html": [
              " View sweep at <a href='https://wandb.ai/abhijithvinod-indian-institue-of-technology-madras/RL_CartPole_SARSA/sweeps/axs367lv' target=\"_blank\">https://wandb.ai/abhijithvinod-indian-institue-of-technology-madras/RL_CartPole_SARSA/sweeps/axs367lv</a>"
            ]
          },
          "metadata": {}
        },
        {
          "output_type": "display_data",
          "data": {
            "text/plain": [
              "<IPython.core.display.HTML object>"
            ],
            "text/html": [
              " View run at <a href='https://wandb.ai/abhijithvinod-indian-institue-of-technology-madras/RL_CartPole_SARSA/runs/wdkd46kx' target=\"_blank\">https://wandb.ai/abhijithvinod-indian-institue-of-technology-madras/RL_CartPole_SARSA/runs/wdkd46kx</a>"
            ]
          },
          "metadata": {}
        },
        {
          "output_type": "display_data",
          "data": {
            "text/plain": [
              "<IPython.core.display.HTML object>"
            ],
            "text/html": []
          },
          "metadata": {}
        },
        {
          "output_type": "display_data",
          "data": {
            "text/plain": [
              "<IPython.core.display.HTML object>"
            ],
            "text/html": [
              "<br>    <style><br>        .wandb-row {<br>            display: flex;<br>            flex-direction: row;<br>            flex-wrap: wrap;<br>            justify-content: flex-start;<br>            width: 100%;<br>        }<br>        .wandb-col {<br>            display: flex;<br>            flex-direction: column;<br>            flex-basis: 100%;<br>            flex: 1;<br>            padding: 10px;<br>        }<br>    </style><br><div class=\"wandb-row\"><div class=\"wandb-col\"><h3>Run history:</h3><br/><table class=\"wandb\"><tr><td>average_reward_across_seeds</td><td>▁</td></tr><tr><td>seed_101_episode</td><td>▁▁▁▂▂▂▂▂▂▂▂▂▂▂▃▃▃▄▄▄▄▄▄▅▅▅▅▅▆▆▆▇▇▇▇█████</td></tr><tr><td>seed_101_reward</td><td>▁▁▁▁▁▁▁▂▁▁▄▃▃▂▄▅█▂▃▃▃▄▃▂▃▃▃▁▄▅▃▂▁▃▃▂▄▄▁▆</td></tr><tr><td>seed_123_episode</td><td>▁▁▂▂▂▂▂▂▂▂▃▃▃▃▄▄▄▄▅▅▅▅▅▅▅▆▆▆▆▆▆▇▇▇▇▇▇███</td></tr><tr><td>seed_123_reward</td><td>▁▁▁▁▂▁▁▁▁▁▂▂▁▁▂▂▃▃▅▃▂▃▂▃▅▃█▄▆▂▅▃▃▃▄▃▄▃▄▄</td></tr><tr><td>seed_42_episode</td><td>▁▁▁▂▂▂▂▂▃▃▃▃▃▃▄▄▄▄▄▄▅▅▅▅▅▅▅▅▅▅▆▇▇▇▇█████</td></tr><tr><td>seed_42_reward</td><td>▄▁▁▃▂▃▅▂▃▄▅▁█▅▄▄▄▇▂▂▄▃▄▃▂▇▄▃▄▄▃▅▅▅▂▂▂▃▄▄</td></tr><tr><td>seed_456_episode</td><td>▁▂▂▂▂▃▃▃▃▃▄▄▄▄▄▄▄▄▅▅▅▅▆▆▆▆▆▆▆▆▇▇▇▇▇▇▇▇██</td></tr><tr><td>seed_456_reward</td><td>▁▁▁▁▁▁▁▂▂▄▂▂▂▃▁▂▃▃▃▆▂▄▁▁▂▇▂▃▃▃▄▃▂▂█▄▄▃▃▇</td></tr><tr><td>seed_789_episode</td><td>▁▁▁▁▂▂▃▃▃▃▃▄▄▄▄▄▅▅▅▅▅▅▆▆▆▆▆▆▆▆▆▆▆▇▇▇████</td></tr><tr><td>seed_789_reward</td><td>▁▁▁▁▁▁▁▁▁▁▁▂▃▂▂▂▂▃▅▇▂▁▃▂▂▂▃▃▃▄▃▄▄█▅▄▄▆▄▄</td></tr></table><br/></div><div class=\"wandb-col\"><h3>Run summary:</h3><br/><table class=\"wandb\"><tr><td>average_reward_across_seeds</td><td>90.56</td></tr><tr><td>seed_101_episode</td><td>999</td></tr><tr><td>seed_101_reward</td><td>175</td></tr><tr><td>seed_123_episode</td><td>999</td></tr><tr><td>seed_123_reward</td><td>136</td></tr><tr><td>seed_42_episode</td><td>999</td></tr><tr><td>seed_42_reward</td><td>60</td></tr><tr><td>seed_456_episode</td><td>999</td></tr><tr><td>seed_456_reward</td><td>91</td></tr><tr><td>seed_789_episode</td><td>999</td></tr><tr><td>seed_789_reward</td><td>160</td></tr></table><br/></div></div>"
            ]
          },
          "metadata": {}
        },
        {
          "output_type": "display_data",
          "data": {
            "text/plain": [
              "<IPython.core.display.HTML object>"
            ],
            "text/html": [
              " View run <strong style=\"color:#cdcd00\">glamorous-sweep-10</strong> at: <a href='https://wandb.ai/abhijithvinod-indian-institue-of-technology-madras/RL_CartPole_SARSA/runs/wdkd46kx' target=\"_blank\">https://wandb.ai/abhijithvinod-indian-institue-of-technology-madras/RL_CartPole_SARSA/runs/wdkd46kx</a><br> View project at: <a href='https://wandb.ai/abhijithvinod-indian-institue-of-technology-madras/RL_CartPole_SARSA' target=\"_blank\">https://wandb.ai/abhijithvinod-indian-institue-of-technology-madras/RL_CartPole_SARSA</a><br>Synced 5 W&B file(s), 0 media file(s), 0 artifact file(s) and 0 other file(s)"
            ]
          },
          "metadata": {}
        },
        {
          "output_type": "display_data",
          "data": {
            "text/plain": [
              "<IPython.core.display.HTML object>"
            ],
            "text/html": [
              "Find logs at: <code>./wandb/run-20250331_143223-wdkd46kx/logs</code>"
            ]
          },
          "metadata": {}
        },
        {
          "output_type": "stream",
          "name": "stderr",
          "text": [
            "\u001b[34m\u001b[1mwandb\u001b[0m: Agent Starting Run: hdpwt7m6 with config:\n",
            "\u001b[34m\u001b[1mwandb\u001b[0m: \talpha: 0.495504891784024\n",
            "\u001b[34m\u001b[1mwandb\u001b[0m: \tepsilon: 0.11960677262539932\n",
            "\u001b[34m\u001b[1mwandb\u001b[0m: \tgamma: 0.99\n",
            "\u001b[34m\u001b[1mwandb\u001b[0m: \tn_bins: 20\n",
            "\u001b[34m\u001b[1mwandb\u001b[0m: \tn_episodes: 1000\n"
          ]
        },
        {
          "output_type": "display_data",
          "data": {
            "text/plain": [
              "<IPython.core.display.HTML object>"
            ],
            "text/html": [
              "Tracking run with wandb version 0.19.8"
            ]
          },
          "metadata": {}
        },
        {
          "output_type": "display_data",
          "data": {
            "text/plain": [
              "<IPython.core.display.HTML object>"
            ],
            "text/html": [
              "Run data is saved locally in <code>/content/wandb/run-20250331_143304-hdpwt7m6</code>"
            ]
          },
          "metadata": {}
        },
        {
          "output_type": "display_data",
          "data": {
            "text/plain": [
              "<IPython.core.display.HTML object>"
            ],
            "text/html": [
              "Syncing run <strong><a href='https://wandb.ai/abhijithvinod-indian-institue-of-technology-madras/RL_CartPole_SARSA/runs/hdpwt7m6' target=\"_blank\">eager-sweep-11</a></strong> to <a href='https://wandb.ai/abhijithvinod-indian-institue-of-technology-madras/RL_CartPole_SARSA' target=\"_blank\">Weights & Biases</a> (<a href='https://wandb.me/developer-guide' target=\"_blank\">docs</a>)<br>Sweep page: <a href='https://wandb.ai/abhijithvinod-indian-institue-of-technology-madras/RL_CartPole_SARSA/sweeps/axs367lv' target=\"_blank\">https://wandb.ai/abhijithvinod-indian-institue-of-technology-madras/RL_CartPole_SARSA/sweeps/axs367lv</a>"
            ]
          },
          "metadata": {}
        },
        {
          "output_type": "display_data",
          "data": {
            "text/plain": [
              "<IPython.core.display.HTML object>"
            ],
            "text/html": [
              " View project at <a href='https://wandb.ai/abhijithvinod-indian-institue-of-technology-madras/RL_CartPole_SARSA' target=\"_blank\">https://wandb.ai/abhijithvinod-indian-institue-of-technology-madras/RL_CartPole_SARSA</a>"
            ]
          },
          "metadata": {}
        },
        {
          "output_type": "display_data",
          "data": {
            "text/plain": [
              "<IPython.core.display.HTML object>"
            ],
            "text/html": [
              " View sweep at <a href='https://wandb.ai/abhijithvinod-indian-institue-of-technology-madras/RL_CartPole_SARSA/sweeps/axs367lv' target=\"_blank\">https://wandb.ai/abhijithvinod-indian-institue-of-technology-madras/RL_CartPole_SARSA/sweeps/axs367lv</a>"
            ]
          },
          "metadata": {}
        },
        {
          "output_type": "display_data",
          "data": {
            "text/plain": [
              "<IPython.core.display.HTML object>"
            ],
            "text/html": [
              " View run at <a href='https://wandb.ai/abhijithvinod-indian-institue-of-technology-madras/RL_CartPole_SARSA/runs/hdpwt7m6' target=\"_blank\">https://wandb.ai/abhijithvinod-indian-institue-of-technology-madras/RL_CartPole_SARSA/runs/hdpwt7m6</a>"
            ]
          },
          "metadata": {}
        },
        {
          "output_type": "display_data",
          "data": {
            "text/plain": [
              "<IPython.core.display.HTML object>"
            ],
            "text/html": []
          },
          "metadata": {}
        },
        {
          "output_type": "display_data",
          "data": {
            "text/plain": [
              "<IPython.core.display.HTML object>"
            ],
            "text/html": [
              "<br>    <style><br>        .wandb-row {<br>            display: flex;<br>            flex-direction: row;<br>            flex-wrap: wrap;<br>            justify-content: flex-start;<br>            width: 100%;<br>        }<br>        .wandb-col {<br>            display: flex;<br>            flex-direction: column;<br>            flex-basis: 100%;<br>            flex: 1;<br>            padding: 10px;<br>        }<br>    </style><br><div class=\"wandb-row\"><div class=\"wandb-col\"><h3>Run history:</h3><br/><table class=\"wandb\"><tr><td>average_reward_across_seeds</td><td>▁</td></tr><tr><td>seed_101_episode</td><td>▁▁▁▁▂▂▂▃▃▃▄▄▄▄▄▄▄▄▅▅▅▆▆▆▆▆▆▆▆▆▇▇▇▇▇█████</td></tr><tr><td>seed_101_reward</td><td>▁▁▁▁▁▁▁▁▂▂▂▂▁▁▃▃▇▃▂▃▃▄▃▅▅▄▂▅▂▅▃▄▃▅▇▅▄▆█▄</td></tr><tr><td>seed_123_episode</td><td>▁▁▁▂▂▂▂▂▂▂▃▃▃▃▃▃▃▄▄▄▄▄▄▄▅▅▅▅▅▅▅▆▇▇▇▇▇███</td></tr><tr><td>seed_123_reward</td><td>▁▁▁▁▁▂▁▁▂▅▂▃▆▅▄▃▄▅▅▄▃█▅▃▃▇▄▄▇▄▆▄▅▄▃▃▂▁▅▄</td></tr><tr><td>seed_42_episode</td><td>▁▁▂▂▂▂▂▃▃▃▃▃▃▃▄▄▄▄▄▄▅▅▅▅▅▆▆▆▆▆▇▇▇▇▇▇▇▇██</td></tr><tr><td>seed_42_reward</td><td>▁▁▁▁▁▁▁▁▁▁▂▁▁▁▁▂▂▁▁▁▂▁▃▂▃▃▂▄▃▄▃▃▂▄▅▂▃▄▃█</td></tr><tr><td>seed_456_episode</td><td>▁▁▁▁▁▂▂▂▂▃▃▃▃▄▄▄▄▄▅▅▅▅▅▅▅▆▆▆▆▆▆▆▇▇▇█████</td></tr><tr><td>seed_456_reward</td><td>▆▃▁▂▁▄▂▁▃▁▄▄▁▂▁▅▂▄▅▂▅▄▅▂▄▄▄█▃▇▄▃▃▄▆▄▅▄▇▅</td></tr><tr><td>seed_789_episode</td><td>▁▁▁▁▁▂▂▂▃▃▃▃▃▄▄▄▄▄▄▄▄▅▅▅▅▆▆▆▆▆▇▇▇▇▇▇▇███</td></tr><tr><td>seed_789_reward</td><td>▁▁▁▁▁▁▁▁▁▁▁▁▄▂▂▂▆▃▄▃▄▅▄▅▅▂▄▄▅▄▄▄▃█▆▄▄▇▅▃</td></tr></table><br/></div><div class=\"wandb-col\"><h3>Run summary:</h3><br/><table class=\"wandb\"><tr><td>average_reward_across_seeds</td><td>88.152</td></tr><tr><td>seed_101_episode</td><td>999</td></tr><tr><td>seed_101_reward</td><td>15</td></tr><tr><td>seed_123_episode</td><td>999</td></tr><tr><td>seed_123_reward</td><td>90</td></tr><tr><td>seed_42_episode</td><td>999</td></tr><tr><td>seed_42_reward</td><td>54</td></tr><tr><td>seed_456_episode</td><td>999</td></tr><tr><td>seed_456_reward</td><td>28</td></tr><tr><td>seed_789_episode</td><td>999</td></tr><tr><td>seed_789_reward</td><td>146</td></tr></table><br/></div></div>"
            ]
          },
          "metadata": {}
        },
        {
          "output_type": "display_data",
          "data": {
            "text/plain": [
              "<IPython.core.display.HTML object>"
            ],
            "text/html": [
              " View run <strong style=\"color:#cdcd00\">eager-sweep-11</strong> at: <a href='https://wandb.ai/abhijithvinod-indian-institue-of-technology-madras/RL_CartPole_SARSA/runs/hdpwt7m6' target=\"_blank\">https://wandb.ai/abhijithvinod-indian-institue-of-technology-madras/RL_CartPole_SARSA/runs/hdpwt7m6</a><br> View project at: <a href='https://wandb.ai/abhijithvinod-indian-institue-of-technology-madras/RL_CartPole_SARSA' target=\"_blank\">https://wandb.ai/abhijithvinod-indian-institue-of-technology-madras/RL_CartPole_SARSA</a><br>Synced 5 W&B file(s), 0 media file(s), 0 artifact file(s) and 0 other file(s)"
            ]
          },
          "metadata": {}
        },
        {
          "output_type": "display_data",
          "data": {
            "text/plain": [
              "<IPython.core.display.HTML object>"
            ],
            "text/html": [
              "Find logs at: <code>./wandb/run-20250331_143304-hdpwt7m6/logs</code>"
            ]
          },
          "metadata": {}
        },
        {
          "output_type": "stream",
          "name": "stderr",
          "text": [
            "\u001b[34m\u001b[1mwandb\u001b[0m: Agent Starting Run: cg6bp8o7 with config:\n",
            "\u001b[34m\u001b[1mwandb\u001b[0m: \talpha: 0.22360612119964\n",
            "\u001b[34m\u001b[1mwandb\u001b[0m: \tepsilon: 0.011618611334325731\n",
            "\u001b[34m\u001b[1mwandb\u001b[0m: \tgamma: 0.99\n",
            "\u001b[34m\u001b[1mwandb\u001b[0m: \tn_bins: 10\n",
            "\u001b[34m\u001b[1mwandb\u001b[0m: \tn_episodes: 1000\n"
          ]
        },
        {
          "output_type": "display_data",
          "data": {
            "text/plain": [
              "<IPython.core.display.HTML object>"
            ],
            "text/html": [
              "Tracking run with wandb version 0.19.8"
            ]
          },
          "metadata": {}
        },
        {
          "output_type": "display_data",
          "data": {
            "text/plain": [
              "<IPython.core.display.HTML object>"
            ],
            "text/html": [
              "Run data is saved locally in <code>/content/wandb/run-20250331_143345-cg6bp8o7</code>"
            ]
          },
          "metadata": {}
        },
        {
          "output_type": "display_data",
          "data": {
            "text/plain": [
              "<IPython.core.display.HTML object>"
            ],
            "text/html": [
              "Syncing run <strong><a href='https://wandb.ai/abhijithvinod-indian-institue-of-technology-madras/RL_CartPole_SARSA/runs/cg6bp8o7' target=\"_blank\">graceful-sweep-12</a></strong> to <a href='https://wandb.ai/abhijithvinod-indian-institue-of-technology-madras/RL_CartPole_SARSA' target=\"_blank\">Weights & Biases</a> (<a href='https://wandb.me/developer-guide' target=\"_blank\">docs</a>)<br>Sweep page: <a href='https://wandb.ai/abhijithvinod-indian-institue-of-technology-madras/RL_CartPole_SARSA/sweeps/axs367lv' target=\"_blank\">https://wandb.ai/abhijithvinod-indian-institue-of-technology-madras/RL_CartPole_SARSA/sweeps/axs367lv</a>"
            ]
          },
          "metadata": {}
        },
        {
          "output_type": "display_data",
          "data": {
            "text/plain": [
              "<IPython.core.display.HTML object>"
            ],
            "text/html": [
              " View project at <a href='https://wandb.ai/abhijithvinod-indian-institue-of-technology-madras/RL_CartPole_SARSA' target=\"_blank\">https://wandb.ai/abhijithvinod-indian-institue-of-technology-madras/RL_CartPole_SARSA</a>"
            ]
          },
          "metadata": {}
        },
        {
          "output_type": "display_data",
          "data": {
            "text/plain": [
              "<IPython.core.display.HTML object>"
            ],
            "text/html": [
              " View sweep at <a href='https://wandb.ai/abhijithvinod-indian-institue-of-technology-madras/RL_CartPole_SARSA/sweeps/axs367lv' target=\"_blank\">https://wandb.ai/abhijithvinod-indian-institue-of-technology-madras/RL_CartPole_SARSA/sweeps/axs367lv</a>"
            ]
          },
          "metadata": {}
        },
        {
          "output_type": "display_data",
          "data": {
            "text/plain": [
              "<IPython.core.display.HTML object>"
            ],
            "text/html": [
              " View run at <a href='https://wandb.ai/abhijithvinod-indian-institue-of-technology-madras/RL_CartPole_SARSA/runs/cg6bp8o7' target=\"_blank\">https://wandb.ai/abhijithvinod-indian-institue-of-technology-madras/RL_CartPole_SARSA/runs/cg6bp8o7</a>"
            ]
          },
          "metadata": {}
        },
        {
          "output_type": "display_data",
          "data": {
            "text/plain": [
              "<IPython.core.display.HTML object>"
            ],
            "text/html": []
          },
          "metadata": {}
        },
        {
          "output_type": "display_data",
          "data": {
            "text/plain": [
              "<IPython.core.display.HTML object>"
            ],
            "text/html": [
              "<br>    <style><br>        .wandb-row {<br>            display: flex;<br>            flex-direction: row;<br>            flex-wrap: wrap;<br>            justify-content: flex-start;<br>            width: 100%;<br>        }<br>        .wandb-col {<br>            display: flex;<br>            flex-direction: column;<br>            flex-basis: 100%;<br>            flex: 1;<br>            padding: 10px;<br>        }<br>    </style><br><div class=\"wandb-row\"><div class=\"wandb-col\"><h3>Run history:</h3><br/><table class=\"wandb\"><tr><td>average_reward_across_seeds</td><td>▁</td></tr><tr><td>seed_101_episode</td><td>▁▁▁▁▂▂▂▂▂▃▄▄▄▄▄▄▄▅▅▅▅▆▆▆▆▆▆▆▇▇▇▇▇███████</td></tr><tr><td>seed_101_reward</td><td>▃█▃▆▁▃█▃▆▁▃▁▃▆█▃▃▃▆▁▆▆▆▁▃▃▆▃▁▃▆▁▃▁▆█▆▆▃█</td></tr><tr><td>seed_123_episode</td><td>▁▁▂▂▂▂▂▂▂▂▂▂▃▃▄▄▄▄▄▄▅▅▅▅▅▆▆▆▆▆▆▆▇▇▇▇▇▇██</td></tr><tr><td>seed_123_reward</td><td>▆▆▃▃▆▁▃▆▆▃█▃▁█▃▆▆▃▃▆▁▆▆▆█▃▆▁▆▆▆▆▃▁▁▃▃▃▃▃</td></tr><tr><td>seed_42_episode</td><td>▁▁▁▂▂▂▂▂▂▂▃▃▃▃▃▄▄▄▄▄▄▄▄▅▅▅▅▅▅▆▆▆▇▇▇▇████</td></tr><tr><td>seed_42_reward</td><td>▃▂▇▃▇▂▃▂▂▃▃▇▂▅▃▅▂▃▂▂▃▂▃▂▂▂▁▂▁▂▃▃▆▄█▂▂▁▆█</td></tr><tr><td>seed_456_episode</td><td>▁▁▁▁▁▁▂▂▂▃▃▃▃▃▄▄▄▄▅▅▅▅▆▆▆▆▆▆▆▆▇▇▇▇▇▇▇███</td></tr><tr><td>seed_456_reward</td><td>█▆▆▅▃▆▁▃▆▃▃▃▆▆▃▅▆▃▆▃▆▃▆▃▃▆▆▆█▆▆▆▆▃▆▃▃▆▆▃</td></tr><tr><td>seed_789_episode</td><td>▁▂▂▂▂▃▃▃▃▃▄▄▄▄▄▄▄▄▅▅▅▆▆▆▆▆▆▆▆▆▆▇▇▇▇▇▇▇██</td></tr><tr><td>seed_789_reward</td><td>▆▃▃▅▁▁▃▃▃▃▅▅▅▅▁▁▅▃▅▃▅▃▆█▃▃▃▃▅▃▁▃▅▅▃▃▁▁▃▁</td></tr></table><br/></div><div class=\"wandb-col\"><h3>Run summary:</h3><br/><table class=\"wandb\"><tr><td>average_reward_across_seeds</td><td>10.54</td></tr><tr><td>seed_101_episode</td><td>999</td></tr><tr><td>seed_101_reward</td><td>9</td></tr><tr><td>seed_123_episode</td><td>999</td></tr><tr><td>seed_123_reward</td><td>9</td></tr><tr><td>seed_42_episode</td><td>999</td></tr><tr><td>seed_42_reward</td><td>8</td></tr><tr><td>seed_456_episode</td><td>999</td></tr><tr><td>seed_456_reward</td><td>12</td></tr><tr><td>seed_789_episode</td><td>999</td></tr><tr><td>seed_789_reward</td><td>10</td></tr></table><br/></div></div>"
            ]
          },
          "metadata": {}
        },
        {
          "output_type": "display_data",
          "data": {
            "text/plain": [
              "<IPython.core.display.HTML object>"
            ],
            "text/html": [
              " View run <strong style=\"color:#cdcd00\">graceful-sweep-12</strong> at: <a href='https://wandb.ai/abhijithvinod-indian-institue-of-technology-madras/RL_CartPole_SARSA/runs/cg6bp8o7' target=\"_blank\">https://wandb.ai/abhijithvinod-indian-institue-of-technology-madras/RL_CartPole_SARSA/runs/cg6bp8o7</a><br> View project at: <a href='https://wandb.ai/abhijithvinod-indian-institue-of-technology-madras/RL_CartPole_SARSA' target=\"_blank\">https://wandb.ai/abhijithvinod-indian-institue-of-technology-madras/RL_CartPole_SARSA</a><br>Synced 5 W&B file(s), 0 media file(s), 0 artifact file(s) and 0 other file(s)"
            ]
          },
          "metadata": {}
        },
        {
          "output_type": "display_data",
          "data": {
            "text/plain": [
              "<IPython.core.display.HTML object>"
            ],
            "text/html": [
              "Find logs at: <code>./wandb/run-20250331_143345-cg6bp8o7/logs</code>"
            ]
          },
          "metadata": {}
        },
        {
          "output_type": "stream",
          "name": "stderr",
          "text": [
            "\u001b[34m\u001b[1mwandb\u001b[0m: Agent Starting Run: ipekqbbv with config:\n",
            "\u001b[34m\u001b[1mwandb\u001b[0m: \talpha: 0.4855342066681259\n",
            "\u001b[34m\u001b[1mwandb\u001b[0m: \tepsilon: 0.17134967190765055\n",
            "\u001b[34m\u001b[1mwandb\u001b[0m: \tgamma: 0.99\n",
            "\u001b[34m\u001b[1mwandb\u001b[0m: \tn_bins: 20\n",
            "\u001b[34m\u001b[1mwandb\u001b[0m: \tn_episodes: 1000\n"
          ]
        },
        {
          "output_type": "display_data",
          "data": {
            "text/plain": [
              "<IPython.core.display.HTML object>"
            ],
            "text/html": [
              "Tracking run with wandb version 0.19.8"
            ]
          },
          "metadata": {}
        },
        {
          "output_type": "display_data",
          "data": {
            "text/plain": [
              "<IPython.core.display.HTML object>"
            ],
            "text/html": [
              "Run data is saved locally in <code>/content/wandb/run-20250331_143400-ipekqbbv</code>"
            ]
          },
          "metadata": {}
        },
        {
          "output_type": "display_data",
          "data": {
            "text/plain": [
              "<IPython.core.display.HTML object>"
            ],
            "text/html": [
              "Syncing run <strong><a href='https://wandb.ai/abhijithvinod-indian-institue-of-technology-madras/RL_CartPole_SARSA/runs/ipekqbbv' target=\"_blank\">dark-sweep-13</a></strong> to <a href='https://wandb.ai/abhijithvinod-indian-institue-of-technology-madras/RL_CartPole_SARSA' target=\"_blank\">Weights & Biases</a> (<a href='https://wandb.me/developer-guide' target=\"_blank\">docs</a>)<br>Sweep page: <a href='https://wandb.ai/abhijithvinod-indian-institue-of-technology-madras/RL_CartPole_SARSA/sweeps/axs367lv' target=\"_blank\">https://wandb.ai/abhijithvinod-indian-institue-of-technology-madras/RL_CartPole_SARSA/sweeps/axs367lv</a>"
            ]
          },
          "metadata": {}
        },
        {
          "output_type": "display_data",
          "data": {
            "text/plain": [
              "<IPython.core.display.HTML object>"
            ],
            "text/html": [
              " View project at <a href='https://wandb.ai/abhijithvinod-indian-institue-of-technology-madras/RL_CartPole_SARSA' target=\"_blank\">https://wandb.ai/abhijithvinod-indian-institue-of-technology-madras/RL_CartPole_SARSA</a>"
            ]
          },
          "metadata": {}
        },
        {
          "output_type": "display_data",
          "data": {
            "text/plain": [
              "<IPython.core.display.HTML object>"
            ],
            "text/html": [
              " View sweep at <a href='https://wandb.ai/abhijithvinod-indian-institue-of-technology-madras/RL_CartPole_SARSA/sweeps/axs367lv' target=\"_blank\">https://wandb.ai/abhijithvinod-indian-institue-of-technology-madras/RL_CartPole_SARSA/sweeps/axs367lv</a>"
            ]
          },
          "metadata": {}
        },
        {
          "output_type": "display_data",
          "data": {
            "text/plain": [
              "<IPython.core.display.HTML object>"
            ],
            "text/html": [
              " View run at <a href='https://wandb.ai/abhijithvinod-indian-institue-of-technology-madras/RL_CartPole_SARSA/runs/ipekqbbv' target=\"_blank\">https://wandb.ai/abhijithvinod-indian-institue-of-technology-madras/RL_CartPole_SARSA/runs/ipekqbbv</a>"
            ]
          },
          "metadata": {}
        },
        {
          "output_type": "display_data",
          "data": {
            "text/plain": [
              "<IPython.core.display.HTML object>"
            ],
            "text/html": []
          },
          "metadata": {}
        },
        {
          "output_type": "display_data",
          "data": {
            "text/plain": [
              "<IPython.core.display.HTML object>"
            ],
            "text/html": [
              "<br>    <style><br>        .wandb-row {<br>            display: flex;<br>            flex-direction: row;<br>            flex-wrap: wrap;<br>            justify-content: flex-start;<br>            width: 100%;<br>        }<br>        .wandb-col {<br>            display: flex;<br>            flex-direction: column;<br>            flex-basis: 100%;<br>            flex: 1;<br>            padding: 10px;<br>        }<br>    </style><br><div class=\"wandb-row\"><div class=\"wandb-col\"><h3>Run history:</h3><br/><table class=\"wandb\"><tr><td>average_reward_across_seeds</td><td>▁</td></tr><tr><td>seed_101_episode</td><td>▁▁▁▁▁▂▂▂▃▃▄▄▄▄▄▄▄▄▄▅▅▅▅▅▆▆▆▇▇▇▇▇▇▇▇█████</td></tr><tr><td>seed_101_reward</td><td>▁▁▁▂▁▁▂▂▁▁▁▆▆▄▄▄▄▅▃▄▅▃▆▂▄▆▅▄▅▄▁▃█▁▅▄▃▄▅▅</td></tr><tr><td>seed_123_episode</td><td>▁▁▁▁▁▂▂▂▂▂▃▃▃▃▄▄▄▄▄▄▅▅▅▅▅▅▅▆▆▆▆▆▆▆▇▇▇███</td></tr><tr><td>seed_123_reward</td><td>▁▃▁▁█▅▂▃▄▄▃▇▃▂▄▂█▅▂▄▂▆▃▃▃▃▄▄▄▆▂▄▄▅▅▇▁▄▄▆</td></tr><tr><td>seed_42_episode</td><td>▁▁▁▂▂▂▂▂▂▂▂▂▃▃▃▃▄▄▄▄▄▄▄▄▅▅▅▅▆▆▆▇▇▇▇▇▇▇██</td></tr><tr><td>seed_42_reward</td><td>▁▁▂▁▁▂▁▂▁▁▃▄▁▁▂▄▆▄▃█▄▇█▄▄▇▂█▃▇█▇▆▆▅▆▅▇█▃</td></tr><tr><td>seed_456_episode</td><td>▁▁▁▂▂▂▃▃▃▃▃▃▃▃▄▄▅▅▅▅▅▅▅▆▆▆▆▆▆▆▆▇▇▇▇█████</td></tr><tr><td>seed_456_reward</td><td>▁▁▁▁▁▄▂▂▄▁▂▂▂▃█▄▅▃▃▄▄▁▄▅▃▃▅▂▂▃▃▄▃▂▆▅▅▄▄▅</td></tr><tr><td>seed_789_episode</td><td>▁▁▁▁▂▂▂▂▂▂▃▃▃▃▃▄▄▄▄▄▄▄▅▅▅▅▆▆▆▆▇▇▇▇▇▇████</td></tr><tr><td>seed_789_reward</td><td>▁▁▁▁▁▁▂▁▁▁▂▃▄▁▃▂▁▅▂▆▃▃▂▂█▃▆▅▁▂▄▄▄▆▅▂▅▃▇▃</td></tr></table><br/></div><div class=\"wandb-col\"><h3>Run summary:</h3><br/><table class=\"wandb\"><tr><td>average_reward_across_seeds</td><td>85.132</td></tr><tr><td>seed_101_episode</td><td>999</td></tr><tr><td>seed_101_reward</td><td>74</td></tr><tr><td>seed_123_episode</td><td>999</td></tr><tr><td>seed_123_reward</td><td>133</td></tr><tr><td>seed_42_episode</td><td>999</td></tr><tr><td>seed_42_reward</td><td>76</td></tr><tr><td>seed_456_episode</td><td>999</td></tr><tr><td>seed_456_reward</td><td>44</td></tr><tr><td>seed_789_episode</td><td>999</td></tr><tr><td>seed_789_reward</td><td>21</td></tr></table><br/></div></div>"
            ]
          },
          "metadata": {}
        },
        {
          "output_type": "display_data",
          "data": {
            "text/plain": [
              "<IPython.core.display.HTML object>"
            ],
            "text/html": [
              " View run <strong style=\"color:#cdcd00\">dark-sweep-13</strong> at: <a href='https://wandb.ai/abhijithvinod-indian-institue-of-technology-madras/RL_CartPole_SARSA/runs/ipekqbbv' target=\"_blank\">https://wandb.ai/abhijithvinod-indian-institue-of-technology-madras/RL_CartPole_SARSA/runs/ipekqbbv</a><br> View project at: <a href='https://wandb.ai/abhijithvinod-indian-institue-of-technology-madras/RL_CartPole_SARSA' target=\"_blank\">https://wandb.ai/abhijithvinod-indian-institue-of-technology-madras/RL_CartPole_SARSA</a><br>Synced 5 W&B file(s), 0 media file(s), 0 artifact file(s) and 0 other file(s)"
            ]
          },
          "metadata": {}
        },
        {
          "output_type": "display_data",
          "data": {
            "text/plain": [
              "<IPython.core.display.HTML object>"
            ],
            "text/html": [
              "Find logs at: <code>./wandb/run-20250331_143400-ipekqbbv/logs</code>"
            ]
          },
          "metadata": {}
        },
        {
          "output_type": "stream",
          "name": "stderr",
          "text": [
            "\u001b[34m\u001b[1mwandb\u001b[0m: Sweep Agent: Waiting for job.\n",
            "\u001b[34m\u001b[1mwandb\u001b[0m: Job received.\n",
            "\u001b[34m\u001b[1mwandb\u001b[0m: Agent Starting Run: 8j5ezmlr with config:\n",
            "\u001b[34m\u001b[1mwandb\u001b[0m: \talpha: 0.44599172795783854\n",
            "\u001b[34m\u001b[1mwandb\u001b[0m: \tepsilon: 0.058512736417160566\n",
            "\u001b[34m\u001b[1mwandb\u001b[0m: \tgamma: 0.99\n",
            "\u001b[34m\u001b[1mwandb\u001b[0m: \tn_bins: 20\n",
            "\u001b[34m\u001b[1mwandb\u001b[0m: \tn_episodes: 1000\n"
          ]
        },
        {
          "output_type": "display_data",
          "data": {
            "text/plain": [
              "<IPython.core.display.HTML object>"
            ],
            "text/html": [
              "Tracking run with wandb version 0.19.8"
            ]
          },
          "metadata": {}
        },
        {
          "output_type": "display_data",
          "data": {
            "text/plain": [
              "<IPython.core.display.HTML object>"
            ],
            "text/html": [
              "Run data is saved locally in <code>/content/wandb/run-20250331_143446-8j5ezmlr</code>"
            ]
          },
          "metadata": {}
        },
        {
          "output_type": "display_data",
          "data": {
            "text/plain": [
              "<IPython.core.display.HTML object>"
            ],
            "text/html": [
              "Syncing run <strong><a href='https://wandb.ai/abhijithvinod-indian-institue-of-technology-madras/RL_CartPole_SARSA/runs/8j5ezmlr' target=\"_blank\">worldly-sweep-14</a></strong> to <a href='https://wandb.ai/abhijithvinod-indian-institue-of-technology-madras/RL_CartPole_SARSA' target=\"_blank\">Weights & Biases</a> (<a href='https://wandb.me/developer-guide' target=\"_blank\">docs</a>)<br>Sweep page: <a href='https://wandb.ai/abhijithvinod-indian-institue-of-technology-madras/RL_CartPole_SARSA/sweeps/axs367lv' target=\"_blank\">https://wandb.ai/abhijithvinod-indian-institue-of-technology-madras/RL_CartPole_SARSA/sweeps/axs367lv</a>"
            ]
          },
          "metadata": {}
        },
        {
          "output_type": "display_data",
          "data": {
            "text/plain": [
              "<IPython.core.display.HTML object>"
            ],
            "text/html": [
              " View project at <a href='https://wandb.ai/abhijithvinod-indian-institue-of-technology-madras/RL_CartPole_SARSA' target=\"_blank\">https://wandb.ai/abhijithvinod-indian-institue-of-technology-madras/RL_CartPole_SARSA</a>"
            ]
          },
          "metadata": {}
        },
        {
          "output_type": "display_data",
          "data": {
            "text/plain": [
              "<IPython.core.display.HTML object>"
            ],
            "text/html": [
              " View sweep at <a href='https://wandb.ai/abhijithvinod-indian-institue-of-technology-madras/RL_CartPole_SARSA/sweeps/axs367lv' target=\"_blank\">https://wandb.ai/abhijithvinod-indian-institue-of-technology-madras/RL_CartPole_SARSA/sweeps/axs367lv</a>"
            ]
          },
          "metadata": {}
        },
        {
          "output_type": "display_data",
          "data": {
            "text/plain": [
              "<IPython.core.display.HTML object>"
            ],
            "text/html": [
              " View run at <a href='https://wandb.ai/abhijithvinod-indian-institue-of-technology-madras/RL_CartPole_SARSA/runs/8j5ezmlr' target=\"_blank\">https://wandb.ai/abhijithvinod-indian-institue-of-technology-madras/RL_CartPole_SARSA/runs/8j5ezmlr</a>"
            ]
          },
          "metadata": {}
        },
        {
          "output_type": "display_data",
          "data": {
            "text/plain": [
              "<IPython.core.display.HTML object>"
            ],
            "text/html": []
          },
          "metadata": {}
        },
        {
          "output_type": "display_data",
          "data": {
            "text/plain": [
              "<IPython.core.display.HTML object>"
            ],
            "text/html": [
              "<br>    <style><br>        .wandb-row {<br>            display: flex;<br>            flex-direction: row;<br>            flex-wrap: wrap;<br>            justify-content: flex-start;<br>            width: 100%;<br>        }<br>        .wandb-col {<br>            display: flex;<br>            flex-direction: column;<br>            flex-basis: 100%;<br>            flex: 1;<br>            padding: 10px;<br>        }<br>    </style><br><div class=\"wandb-row\"><div class=\"wandb-col\"><h3>Run history:</h3><br/><table class=\"wandb\"><tr><td>average_reward_across_seeds</td><td>▁</td></tr><tr><td>seed_101_episode</td><td>▁▁▁▁▁▂▂▂▃▃▃▃▃▃▄▄▄▄▄▄▄▅▅▅▅▅▆▆▆▆▆▆▇▇▇▇▇▇██</td></tr><tr><td>seed_101_reward</td><td>▁▁▁▁▁▁▁▁▁▁▁▂▁▁▂▂▂▂▃▂█▂▂▃▆▃▂▂▂▃▂▄▅▆▅▂█▆▆█</td></tr><tr><td>seed_123_episode</td><td>▁▁▁▂▂▂▂▃▃▃▃▃▃▃▄▄▄▄▄▄▅▅▅▅▅▅▆▆▆▆▆▆▇▇▇▇▇███</td></tr><tr><td>seed_123_reward</td><td>▁▁▁▁▁▁▁▁▁▁▁▁▁▁▁▁▁▁▁▂▂▂▁▁▂▆▆▃▅▆▄▇▆▅▂▂▁▁▅█</td></tr><tr><td>seed_42_episode</td><td>▁▁▁▁▂▂▂▃▃▃▃▄▄▄▄▄▄▅▅▅▅▅▅▅▅▆▆▆▆▆▇▇▇▇▇█████</td></tr><tr><td>seed_42_reward</td><td>▁▁▁▁▁▁▁▁▁▁▁▂▂▁▂▁▁▂▂▂▁▂▂▂▁▂▁▃▂▁▂▂▄▃▃▃▄▃█▂</td></tr><tr><td>seed_456_episode</td><td>▁▁▁▁▁▂▂▂▃▃▃▃▃▃▃▄▄▄▄▄▄▅▅▅▅▆▆▆▆▆▇▇▇▇▇█████</td></tr><tr><td>seed_456_reward</td><td>▁▁▁▁▁▁▁▁▁▁▁▁▁▁▁▁▁▁▁▁▁▁▁▂▁▂▃▅▃▅▂▁█▄▅▃▄▄▆▆</td></tr><tr><td>seed_789_episode</td><td>▁▁▁▁▁▂▂▂▂▂▃▃▃▃▃▃▄▄▄▄▄▄▅▅▅▅▆▆▆▆▆▇▇▇▇▇▇▇██</td></tr><tr><td>seed_789_reward</td><td>▁▁▁▁▁▁▁▁▁▁▁▁▁▁▁▁▁▁▁▁▁▂▁▁▁▁▁▂▂▁▃▁▃▂▄█▃▁▃▃</td></tr></table><br/></div><div class=\"wandb-col\"><h3>Run summary:</h3><br/><table class=\"wandb\"><tr><td>average_reward_across_seeds</td><td>61.592</td></tr><tr><td>seed_101_episode</td><td>999</td></tr><tr><td>seed_101_reward</td><td>71</td></tr><tr><td>seed_123_episode</td><td>999</td></tr><tr><td>seed_123_reward</td><td>59</td></tr><tr><td>seed_42_episode</td><td>999</td></tr><tr><td>seed_42_reward</td><td>20</td></tr><tr><td>seed_456_episode</td><td>999</td></tr><tr><td>seed_456_reward</td><td>24</td></tr><tr><td>seed_789_episode</td><td>999</td></tr><tr><td>seed_789_reward</td><td>56</td></tr></table><br/></div></div>"
            ]
          },
          "metadata": {}
        },
        {
          "output_type": "display_data",
          "data": {
            "text/plain": [
              "<IPython.core.display.HTML object>"
            ],
            "text/html": [
              " View run <strong style=\"color:#cdcd00\">worldly-sweep-14</strong> at: <a href='https://wandb.ai/abhijithvinod-indian-institue-of-technology-madras/RL_CartPole_SARSA/runs/8j5ezmlr' target=\"_blank\">https://wandb.ai/abhijithvinod-indian-institue-of-technology-madras/RL_CartPole_SARSA/runs/8j5ezmlr</a><br> View project at: <a href='https://wandb.ai/abhijithvinod-indian-institue-of-technology-madras/RL_CartPole_SARSA' target=\"_blank\">https://wandb.ai/abhijithvinod-indian-institue-of-technology-madras/RL_CartPole_SARSA</a><br>Synced 5 W&B file(s), 0 media file(s), 0 artifact file(s) and 0 other file(s)"
            ]
          },
          "metadata": {}
        },
        {
          "output_type": "display_data",
          "data": {
            "text/plain": [
              "<IPython.core.display.HTML object>"
            ],
            "text/html": [
              "Find logs at: <code>./wandb/run-20250331_143446-8j5ezmlr/logs</code>"
            ]
          },
          "metadata": {}
        },
        {
          "output_type": "stream",
          "name": "stderr",
          "text": [
            "\u001b[34m\u001b[1mwandb\u001b[0m: Sweep Agent: Waiting for job.\n",
            "\u001b[34m\u001b[1mwandb\u001b[0m: Job received.\n",
            "\u001b[34m\u001b[1mwandb\u001b[0m: Agent Starting Run: v0xv1fma with config:\n",
            "\u001b[34m\u001b[1mwandb\u001b[0m: \talpha: 0.18975989934124332\n",
            "\u001b[34m\u001b[1mwandb\u001b[0m: \tepsilon: 0.04214355569572176\n",
            "\u001b[34m\u001b[1mwandb\u001b[0m: \tgamma: 0.99\n",
            "\u001b[34m\u001b[1mwandb\u001b[0m: \tn_bins: 10\n",
            "\u001b[34m\u001b[1mwandb\u001b[0m: \tn_episodes: 1000\n"
          ]
        },
        {
          "output_type": "display_data",
          "data": {
            "text/plain": [
              "<IPython.core.display.HTML object>"
            ],
            "text/html": [
              "Tracking run with wandb version 0.19.8"
            ]
          },
          "metadata": {}
        },
        {
          "output_type": "display_data",
          "data": {
            "text/plain": [
              "<IPython.core.display.HTML object>"
            ],
            "text/html": [
              "Run data is saved locally in <code>/content/wandb/run-20250331_143516-v0xv1fma</code>"
            ]
          },
          "metadata": {}
        },
        {
          "output_type": "display_data",
          "data": {
            "text/plain": [
              "<IPython.core.display.HTML object>"
            ],
            "text/html": [
              "Syncing run <strong><a href='https://wandb.ai/abhijithvinod-indian-institue-of-technology-madras/RL_CartPole_SARSA/runs/v0xv1fma' target=\"_blank\">fiery-sweep-15</a></strong> to <a href='https://wandb.ai/abhijithvinod-indian-institue-of-technology-madras/RL_CartPole_SARSA' target=\"_blank\">Weights & Biases</a> (<a href='https://wandb.me/developer-guide' target=\"_blank\">docs</a>)<br>Sweep page: <a href='https://wandb.ai/abhijithvinod-indian-institue-of-technology-madras/RL_CartPole_SARSA/sweeps/axs367lv' target=\"_blank\">https://wandb.ai/abhijithvinod-indian-institue-of-technology-madras/RL_CartPole_SARSA/sweeps/axs367lv</a>"
            ]
          },
          "metadata": {}
        },
        {
          "output_type": "display_data",
          "data": {
            "text/plain": [
              "<IPython.core.display.HTML object>"
            ],
            "text/html": [
              " View project at <a href='https://wandb.ai/abhijithvinod-indian-institue-of-technology-madras/RL_CartPole_SARSA' target=\"_blank\">https://wandb.ai/abhijithvinod-indian-institue-of-technology-madras/RL_CartPole_SARSA</a>"
            ]
          },
          "metadata": {}
        },
        {
          "output_type": "display_data",
          "data": {
            "text/plain": [
              "<IPython.core.display.HTML object>"
            ],
            "text/html": [
              " View sweep at <a href='https://wandb.ai/abhijithvinod-indian-institue-of-technology-madras/RL_CartPole_SARSA/sweeps/axs367lv' target=\"_blank\">https://wandb.ai/abhijithvinod-indian-institue-of-technology-madras/RL_CartPole_SARSA/sweeps/axs367lv</a>"
            ]
          },
          "metadata": {}
        },
        {
          "output_type": "display_data",
          "data": {
            "text/plain": [
              "<IPython.core.display.HTML object>"
            ],
            "text/html": [
              " View run at <a href='https://wandb.ai/abhijithvinod-indian-institue-of-technology-madras/RL_CartPole_SARSA/runs/v0xv1fma' target=\"_blank\">https://wandb.ai/abhijithvinod-indian-institue-of-technology-madras/RL_CartPole_SARSA/runs/v0xv1fma</a>"
            ]
          },
          "metadata": {}
        },
        {
          "output_type": "display_data",
          "data": {
            "text/plain": [
              "<IPython.core.display.HTML object>"
            ],
            "text/html": []
          },
          "metadata": {}
        },
        {
          "output_type": "display_data",
          "data": {
            "text/plain": [
              "<IPython.core.display.HTML object>"
            ],
            "text/html": [
              "<br>    <style><br>        .wandb-row {<br>            display: flex;<br>            flex-direction: row;<br>            flex-wrap: wrap;<br>            justify-content: flex-start;<br>            width: 100%;<br>        }<br>        .wandb-col {<br>            display: flex;<br>            flex-direction: column;<br>            flex-basis: 100%;<br>            flex: 1;<br>            padding: 10px;<br>        }<br>    </style><br><div class=\"wandb-row\"><div class=\"wandb-col\"><h3>Run history:</h3><br/><table class=\"wandb\"><tr><td>average_reward_across_seeds</td><td>▁</td></tr><tr><td>seed_101_episode</td><td>▁▁▁▁▁▂▂▃▃▃▃▃▃▄▄▄▄▅▅▅▆▆▆▆▆▆▆▇▇▇▇▇▇▇▇▇▇███</td></tr><tr><td>seed_101_reward</td><td>▂▂▁▂▂▂▁▂▂▂▂▂▂▃▂▂▂▂▂▃▂▂▃▂▂▂▂▃▃▃▂▂▂▂▅▇█▂▇▂</td></tr><tr><td>seed_123_episode</td><td>▁▁▁▁▁▂▂▂▂▃▃▃▃▄▄▄▄▄▅▅▅▅▅▅▅▅▅▆▆▆▆▆▆▆▆▇▇▇▇█</td></tr><tr><td>seed_123_reward</td><td>▃▂▂▃▁▁▁▂▃▁▂▃▂▃▃▂▂▃▃▃▁▂▂▃▃▃▃▇▆▃▄▄█▃▇▄▆▇▃▆</td></tr><tr><td>seed_42_episode</td><td>▁▁▂▂▂▂▃▃▃▃▃▃▃▃▃▃▄▄▄▄▄▅▅▅▅▅▆▆▆▆▇▇▇▇▇▇████</td></tr><tr><td>seed_42_reward</td><td>▂▁▂▃▃▅▁▂▃▃▁▂▄▁▅▂▂▅▃▃▂▅▅▃▄▄▁▂▅▅▂▂▂▅▅▃█▃▆▂</td></tr><tr><td>seed_456_episode</td><td>▁▁▁▁▂▂▂▂▂▂▃▃▃▃▃▃▄▄▄▄▄▄▅▅▅▆▆▆▆▆▆▆▇▇▇▇▇▇██</td></tr><tr><td>seed_456_reward</td><td>▂▂▁▁▂▂▂▂▃▆▂▁▁▂▂▃▂▁▂▂▃▂▁▁▃▁▅▂▃▂▅▃▆▅▆▄▄▃▆█</td></tr><tr><td>seed_789_episode</td><td>▁▁▁▁▁▁▂▂▂▂▂▂▂▂▃▃▃▃▃▄▄▄▄▄▄▅▅▅▅▅▅▆▆▇▇█████</td></tr><tr><td>seed_789_reward</td><td>▂▂▂▃▂▂▂▁▂▄▃▄▂▃▃▁▅▂▄▃▆▃▃▂▄▅▅▆▄▄▃▂▆▅▂▂▅▅▃█</td></tr></table><br/></div><div class=\"wandb-col\"><h3>Run summary:</h3><br/><table class=\"wandb\"><tr><td>average_reward_across_seeds</td><td>15.38</td></tr><tr><td>seed_101_episode</td><td>999</td></tr><tr><td>seed_101_reward</td><td>12</td></tr><tr><td>seed_123_episode</td><td>999</td></tr><tr><td>seed_123_reward</td><td>13</td></tr><tr><td>seed_42_episode</td><td>999</td></tr><tr><td>seed_42_reward</td><td>12</td></tr><tr><td>seed_456_episode</td><td>999</td></tr><tr><td>seed_456_reward</td><td>32</td></tr><tr><td>seed_789_episode</td><td>999</td></tr><tr><td>seed_789_reward</td><td>19</td></tr></table><br/></div></div>"
            ]
          },
          "metadata": {}
        },
        {
          "output_type": "display_data",
          "data": {
            "text/plain": [
              "<IPython.core.display.HTML object>"
            ],
            "text/html": [
              " View run <strong style=\"color:#cdcd00\">fiery-sweep-15</strong> at: <a href='https://wandb.ai/abhijithvinod-indian-institue-of-technology-madras/RL_CartPole_SARSA/runs/v0xv1fma' target=\"_blank\">https://wandb.ai/abhijithvinod-indian-institue-of-technology-madras/RL_CartPole_SARSA/runs/v0xv1fma</a><br> View project at: <a href='https://wandb.ai/abhijithvinod-indian-institue-of-technology-madras/RL_CartPole_SARSA' target=\"_blank\">https://wandb.ai/abhijithvinod-indian-institue-of-technology-madras/RL_CartPole_SARSA</a><br>Synced 5 W&B file(s), 0 media file(s), 0 artifact file(s) and 0 other file(s)"
            ]
          },
          "metadata": {}
        },
        {
          "output_type": "display_data",
          "data": {
            "text/plain": [
              "<IPython.core.display.HTML object>"
            ],
            "text/html": [
              "Find logs at: <code>./wandb/run-20250331_143516-v0xv1fma/logs</code>"
            ]
          },
          "metadata": {}
        },
        {
          "output_type": "stream",
          "name": "stderr",
          "text": [
            "\u001b[34m\u001b[1mwandb\u001b[0m: Sweep Agent: Waiting for job.\n",
            "\u001b[34m\u001b[1mwandb\u001b[0m: Job received.\n",
            "\u001b[34m\u001b[1mwandb\u001b[0m: Agent Starting Run: u8ssgah3 with config:\n",
            "\u001b[34m\u001b[1mwandb\u001b[0m: \talpha: 0.459803693739701\n",
            "\u001b[34m\u001b[1mwandb\u001b[0m: \tepsilon: 0.14483110510089456\n",
            "\u001b[34m\u001b[1mwandb\u001b[0m: \tgamma: 0.99\n",
            "\u001b[34m\u001b[1mwandb\u001b[0m: \tn_bins: 20\n",
            "\u001b[34m\u001b[1mwandb\u001b[0m: \tn_episodes: 1000\n"
          ]
        },
        {
          "output_type": "display_data",
          "data": {
            "text/plain": [
              "<IPython.core.display.HTML object>"
            ],
            "text/html": [
              "Tracking run with wandb version 0.19.8"
            ]
          },
          "metadata": {}
        },
        {
          "output_type": "display_data",
          "data": {
            "text/plain": [
              "<IPython.core.display.HTML object>"
            ],
            "text/html": [
              "Run data is saved locally in <code>/content/wandb/run-20250331_143537-u8ssgah3</code>"
            ]
          },
          "metadata": {}
        },
        {
          "output_type": "display_data",
          "data": {
            "text/plain": [
              "<IPython.core.display.HTML object>"
            ],
            "text/html": [
              "Syncing run <strong><a href='https://wandb.ai/abhijithvinod-indian-institue-of-technology-madras/RL_CartPole_SARSA/runs/u8ssgah3' target=\"_blank\">different-sweep-16</a></strong> to <a href='https://wandb.ai/abhijithvinod-indian-institue-of-technology-madras/RL_CartPole_SARSA' target=\"_blank\">Weights & Biases</a> (<a href='https://wandb.me/developer-guide' target=\"_blank\">docs</a>)<br>Sweep page: <a href='https://wandb.ai/abhijithvinod-indian-institue-of-technology-madras/RL_CartPole_SARSA/sweeps/axs367lv' target=\"_blank\">https://wandb.ai/abhijithvinod-indian-institue-of-technology-madras/RL_CartPole_SARSA/sweeps/axs367lv</a>"
            ]
          },
          "metadata": {}
        },
        {
          "output_type": "display_data",
          "data": {
            "text/plain": [
              "<IPython.core.display.HTML object>"
            ],
            "text/html": [
              " View project at <a href='https://wandb.ai/abhijithvinod-indian-institue-of-technology-madras/RL_CartPole_SARSA' target=\"_blank\">https://wandb.ai/abhijithvinod-indian-institue-of-technology-madras/RL_CartPole_SARSA</a>"
            ]
          },
          "metadata": {}
        },
        {
          "output_type": "display_data",
          "data": {
            "text/plain": [
              "<IPython.core.display.HTML object>"
            ],
            "text/html": [
              " View sweep at <a href='https://wandb.ai/abhijithvinod-indian-institue-of-technology-madras/RL_CartPole_SARSA/sweeps/axs367lv' target=\"_blank\">https://wandb.ai/abhijithvinod-indian-institue-of-technology-madras/RL_CartPole_SARSA/sweeps/axs367lv</a>"
            ]
          },
          "metadata": {}
        },
        {
          "output_type": "display_data",
          "data": {
            "text/plain": [
              "<IPython.core.display.HTML object>"
            ],
            "text/html": [
              " View run at <a href='https://wandb.ai/abhijithvinod-indian-institue-of-technology-madras/RL_CartPole_SARSA/runs/u8ssgah3' target=\"_blank\">https://wandb.ai/abhijithvinod-indian-institue-of-technology-madras/RL_CartPole_SARSA/runs/u8ssgah3</a>"
            ]
          },
          "metadata": {}
        },
        {
          "output_type": "display_data",
          "data": {
            "text/plain": [
              "<IPython.core.display.HTML object>"
            ],
            "text/html": []
          },
          "metadata": {}
        },
        {
          "output_type": "display_data",
          "data": {
            "text/plain": [
              "<IPython.core.display.HTML object>"
            ],
            "text/html": [
              "<br>    <style><br>        .wandb-row {<br>            display: flex;<br>            flex-direction: row;<br>            flex-wrap: wrap;<br>            justify-content: flex-start;<br>            width: 100%;<br>        }<br>        .wandb-col {<br>            display: flex;<br>            flex-direction: column;<br>            flex-basis: 100%;<br>            flex: 1;<br>            padding: 10px;<br>        }<br>    </style><br><div class=\"wandb-row\"><div class=\"wandb-col\"><h3>Run history:</h3><br/><table class=\"wandb\"><tr><td>average_reward_across_seeds</td><td>▁</td></tr><tr><td>seed_101_episode</td><td>▁▁▁▁▁▂▂▂▂▂▃▃▃▃▃▃▄▄▄▄▅▅▅▅▆▆▆▆▆▆▇▇▇▇▇▇████</td></tr><tr><td>seed_101_reward</td><td>▁▁▁▁▁▁▂▁▁▁▂▁▁▁▁▃▃▃▂▄▂▃▁▇▅▅▄▂▂█▅▄▂▄▂▁▃▃▄▃</td></tr><tr><td>seed_123_episode</td><td>▁▁▁▁▁▂▂▂▂▃▃▃▃▃▃▄▄▄▄▄▅▅▅▅▅▅▆▆▆▆▇▇▇▇▇▇▇▇▇█</td></tr><tr><td>seed_123_reward</td><td>▁▁▁▁▁▁▁▁▁▂▁▂▄▃▄▃▇▃▁▄▄▃▃▃▄▃█▃▄▃▄▁█▅▆▆▄▂▁▃</td></tr><tr><td>seed_42_episode</td><td>▁▁▁▁▁▂▂▂▂▃▃▃▃▃▃▄▄▄▄▄▅▅▅▅▅▅▅▆▆▆▆▆▇▇▇▇▇███</td></tr><tr><td>seed_42_reward</td><td>▁▁▁▂▁▁▁▂▁▁▂▂▂▂▂▂▂▁▄▄▄▁▇▄▆▂▇▃▃▅█▄▆▅▆▆▆▄▄▅</td></tr><tr><td>seed_456_episode</td><td>▁▁▁▂▂▂▃▃▃▃▃▄▄▄▄▄▄▄▅▅▅▅▅▅▅▅▅▆▆▆▇▇▇▇▇▇████</td></tr><tr><td>seed_456_reward</td><td>▁▁▁▁▁▁▁▁▂▁▂▂▂▂▁▂▄▂▄▁▂▂▂▅▆▄▂▃▃▄▂▃▂▃▄▅▆█▄▃</td></tr><tr><td>seed_789_episode</td><td>▁▁▁▁▁▁▁▂▂▂▂▂▃▃▃▃▃▃▃▃▄▄▄▅▅▅▆▆▆▆▆▆▇▇▇▇▇▇██</td></tr><tr><td>seed_789_reward</td><td>▁▁▁▂▁▂▃▅▂▁▃▂▁▂█▄▃▇▄▄▃▆▃▃▄▃▃▆▄▆▄▆▅▂▆▁▃▃▃▇</td></tr></table><br/></div><div class=\"wandb-col\"><h3>Run summary:</h3><br/><table class=\"wandb\"><tr><td>average_reward_across_seeds</td><td>95.132</td></tr><tr><td>seed_101_episode</td><td>999</td></tr><tr><td>seed_101_reward</td><td>143</td></tr><tr><td>seed_123_episode</td><td>999</td></tr><tr><td>seed_123_reward</td><td>58</td></tr><tr><td>seed_42_episode</td><td>999</td></tr><tr><td>seed_42_reward</td><td>38</td></tr><tr><td>seed_456_episode</td><td>999</td></tr><tr><td>seed_456_reward</td><td>69</td></tr><tr><td>seed_789_episode</td><td>999</td></tr><tr><td>seed_789_reward</td><td>37</td></tr></table><br/></div></div>"
            ]
          },
          "metadata": {}
        },
        {
          "output_type": "display_data",
          "data": {
            "text/plain": [
              "<IPython.core.display.HTML object>"
            ],
            "text/html": [
              " View run <strong style=\"color:#cdcd00\">different-sweep-16</strong> at: <a href='https://wandb.ai/abhijithvinod-indian-institue-of-technology-madras/RL_CartPole_SARSA/runs/u8ssgah3' target=\"_blank\">https://wandb.ai/abhijithvinod-indian-institue-of-technology-madras/RL_CartPole_SARSA/runs/u8ssgah3</a><br> View project at: <a href='https://wandb.ai/abhijithvinod-indian-institue-of-technology-madras/RL_CartPole_SARSA' target=\"_blank\">https://wandb.ai/abhijithvinod-indian-institue-of-technology-madras/RL_CartPole_SARSA</a><br>Synced 5 W&B file(s), 0 media file(s), 0 artifact file(s) and 0 other file(s)"
            ]
          },
          "metadata": {}
        },
        {
          "output_type": "display_data",
          "data": {
            "text/plain": [
              "<IPython.core.display.HTML object>"
            ],
            "text/html": [
              "Find logs at: <code>./wandb/run-20250331_143537-u8ssgah3/logs</code>"
            ]
          },
          "metadata": {}
        },
        {
          "output_type": "stream",
          "name": "stderr",
          "text": [
            "\u001b[34m\u001b[1mwandb\u001b[0m: Agent Starting Run: am24w6zy with config:\n",
            "\u001b[34m\u001b[1mwandb\u001b[0m: \talpha: 0.4902088077095058\n",
            "\u001b[34m\u001b[1mwandb\u001b[0m: \tepsilon: 0.15457860481720737\n",
            "\u001b[34m\u001b[1mwandb\u001b[0m: \tgamma: 0.99\n",
            "\u001b[34m\u001b[1mwandb\u001b[0m: \tn_bins: 20\n",
            "\u001b[34m\u001b[1mwandb\u001b[0m: \tn_episodes: 1000\n"
          ]
        },
        {
          "output_type": "display_data",
          "data": {
            "text/plain": [
              "<IPython.core.display.HTML object>"
            ],
            "text/html": [
              "Tracking run with wandb version 0.19.8"
            ]
          },
          "metadata": {}
        },
        {
          "output_type": "display_data",
          "data": {
            "text/plain": [
              "<IPython.core.display.HTML object>"
            ],
            "text/html": [
              "Run data is saved locally in <code>/content/wandb/run-20250331_143618-am24w6zy</code>"
            ]
          },
          "metadata": {}
        },
        {
          "output_type": "display_data",
          "data": {
            "text/plain": [
              "<IPython.core.display.HTML object>"
            ],
            "text/html": [
              "Syncing run <strong><a href='https://wandb.ai/abhijithvinod-indian-institue-of-technology-madras/RL_CartPole_SARSA/runs/am24w6zy' target=\"_blank\">crimson-sweep-17</a></strong> to <a href='https://wandb.ai/abhijithvinod-indian-institue-of-technology-madras/RL_CartPole_SARSA' target=\"_blank\">Weights & Biases</a> (<a href='https://wandb.me/developer-guide' target=\"_blank\">docs</a>)<br>Sweep page: <a href='https://wandb.ai/abhijithvinod-indian-institue-of-technology-madras/RL_CartPole_SARSA/sweeps/axs367lv' target=\"_blank\">https://wandb.ai/abhijithvinod-indian-institue-of-technology-madras/RL_CartPole_SARSA/sweeps/axs367lv</a>"
            ]
          },
          "metadata": {}
        },
        {
          "output_type": "display_data",
          "data": {
            "text/plain": [
              "<IPython.core.display.HTML object>"
            ],
            "text/html": [
              " View project at <a href='https://wandb.ai/abhijithvinod-indian-institue-of-technology-madras/RL_CartPole_SARSA' target=\"_blank\">https://wandb.ai/abhijithvinod-indian-institue-of-technology-madras/RL_CartPole_SARSA</a>"
            ]
          },
          "metadata": {}
        },
        {
          "output_type": "display_data",
          "data": {
            "text/plain": [
              "<IPython.core.display.HTML object>"
            ],
            "text/html": [
              " View sweep at <a href='https://wandb.ai/abhijithvinod-indian-institue-of-technology-madras/RL_CartPole_SARSA/sweeps/axs367lv' target=\"_blank\">https://wandb.ai/abhijithvinod-indian-institue-of-technology-madras/RL_CartPole_SARSA/sweeps/axs367lv</a>"
            ]
          },
          "metadata": {}
        },
        {
          "output_type": "display_data",
          "data": {
            "text/plain": [
              "<IPython.core.display.HTML object>"
            ],
            "text/html": [
              " View run at <a href='https://wandb.ai/abhijithvinod-indian-institue-of-technology-madras/RL_CartPole_SARSA/runs/am24w6zy' target=\"_blank\">https://wandb.ai/abhijithvinod-indian-institue-of-technology-madras/RL_CartPole_SARSA/runs/am24w6zy</a>"
            ]
          },
          "metadata": {}
        },
        {
          "output_type": "display_data",
          "data": {
            "text/plain": [
              "<IPython.core.display.HTML object>"
            ],
            "text/html": []
          },
          "metadata": {}
        },
        {
          "output_type": "display_data",
          "data": {
            "text/plain": [
              "<IPython.core.display.HTML object>"
            ],
            "text/html": [
              "<br>    <style><br>        .wandb-row {<br>            display: flex;<br>            flex-direction: row;<br>            flex-wrap: wrap;<br>            justify-content: flex-start;<br>            width: 100%;<br>        }<br>        .wandb-col {<br>            display: flex;<br>            flex-direction: column;<br>            flex-basis: 100%;<br>            flex: 1;<br>            padding: 10px;<br>        }<br>    </style><br><div class=\"wandb-row\"><div class=\"wandb-col\"><h3>Run history:</h3><br/><table class=\"wandb\"><tr><td>average_reward_across_seeds</td><td>▁</td></tr><tr><td>seed_101_episode</td><td>▁▁▁▁▂▂▂▂▂▃▃▃▃▄▄▄▅▅▅▅▅▅▅▅▅▅▆▆▆▇▇▇▇▇▇▇████</td></tr><tr><td>seed_101_reward</td><td>▁▁▁▁▁▁▂▁▁▂▂▂▁▂▃▃▂▄▃▃▃▅▃▅▅▆▄▃▁▃▅▆▂█▄▃▄▄▇▇</td></tr><tr><td>seed_123_episode</td><td>▁▁▁▁▁▁▁▁▂▂▂▂▂▂▃▃▃▃▃▃▄▄▄▄▄▅▅▅▅▅▆▆▆▆▇▇▇▇██</td></tr><tr><td>seed_123_reward</td><td>▁▁▁▁▁▁▁▂▂▄▂▃█▄▂▂▃▃▃▆▃▁▂▅▃▄▅▃▅▄▃▃▁▄▂▄▆▃▅▃</td></tr><tr><td>seed_42_episode</td><td>▁▂▂▂▂▂▂▂▃▃▃▃▃▄▄▄▄▄▄▅▅▅▅▅▅▆▆▆▆▆▆▆▆▆▆▇▇▇▇█</td></tr><tr><td>seed_42_reward</td><td>▁▃▃▂▂▄▃▄▃▂▂▂▆▄▇▄▁▄▅▄▃▅▃▃▃▄▅▄█▁▃▅▄▇▅▃▃▇▅▃</td></tr><tr><td>seed_456_episode</td><td>▁▁▁▁▁▂▂▂▂▂▃▃▃▃▃▄▄▅▅▅▅▅▅▅▅▆▆▆▆▆▆▆▇▇▇▇▇███</td></tr><tr><td>seed_456_reward</td><td>▂▂▁▂▁▅▄▁▃▃▃█▅▂▄▃▄▃▅▆▃▄▇▄▃▄▃▂▇▆▆█▃▆▆▆▄█▅▆</td></tr><tr><td>seed_789_episode</td><td>▁▁▁▁▁▁▂▂▂▂▂▂▃▄▄▄▄▄▅▅▅▅▅▆▆▆▆▇▇▇▇▇▇▇▇▇▇███</td></tr><tr><td>seed_789_reward</td><td>▁▁▁▁▁▂▁▁▁▁▁▁▂▁▁▁▁▃▂▃█▄▄▆▄▄▂▆▃▃▃▅▇▇▃▄▅▅▇▄</td></tr></table><br/></div><div class=\"wandb-col\"><h3>Run summary:</h3><br/><table class=\"wandb\"><tr><td>average_reward_across_seeds</td><td>89.868</td></tr><tr><td>seed_101_episode</td><td>999</td></tr><tr><td>seed_101_reward</td><td>92</td></tr><tr><td>seed_123_episode</td><td>999</td></tr><tr><td>seed_123_reward</td><td>68</td></tr><tr><td>seed_42_episode</td><td>999</td></tr><tr><td>seed_42_reward</td><td>49</td></tr><tr><td>seed_456_episode</td><td>999</td></tr><tr><td>seed_456_reward</td><td>98</td></tr><tr><td>seed_789_episode</td><td>999</td></tr><tr><td>seed_789_reward</td><td>121</td></tr></table><br/></div></div>"
            ]
          },
          "metadata": {}
        },
        {
          "output_type": "display_data",
          "data": {
            "text/plain": [
              "<IPython.core.display.HTML object>"
            ],
            "text/html": [
              " View run <strong style=\"color:#cdcd00\">crimson-sweep-17</strong> at: <a href='https://wandb.ai/abhijithvinod-indian-institue-of-technology-madras/RL_CartPole_SARSA/runs/am24w6zy' target=\"_blank\">https://wandb.ai/abhijithvinod-indian-institue-of-technology-madras/RL_CartPole_SARSA/runs/am24w6zy</a><br> View project at: <a href='https://wandb.ai/abhijithvinod-indian-institue-of-technology-madras/RL_CartPole_SARSA' target=\"_blank\">https://wandb.ai/abhijithvinod-indian-institue-of-technology-madras/RL_CartPole_SARSA</a><br>Synced 5 W&B file(s), 0 media file(s), 0 artifact file(s) and 0 other file(s)"
            ]
          },
          "metadata": {}
        },
        {
          "output_type": "display_data",
          "data": {
            "text/plain": [
              "<IPython.core.display.HTML object>"
            ],
            "text/html": [
              "Find logs at: <code>./wandb/run-20250331_143618-am24w6zy/logs</code>"
            ]
          },
          "metadata": {}
        },
        {
          "output_type": "stream",
          "name": "stderr",
          "text": [
            "\u001b[34m\u001b[1mwandb\u001b[0m: Sweep Agent: Waiting for job.\n",
            "\u001b[34m\u001b[1mwandb\u001b[0m: Job received.\n",
            "\u001b[34m\u001b[1mwandb\u001b[0m: Agent Starting Run: wtt8gc8s with config:\n",
            "\u001b[34m\u001b[1mwandb\u001b[0m: \talpha: 0.2005080827177665\n",
            "\u001b[34m\u001b[1mwandb\u001b[0m: \tepsilon: 0.1976414909162829\n",
            "\u001b[34m\u001b[1mwandb\u001b[0m: \tgamma: 0.99\n",
            "\u001b[34m\u001b[1mwandb\u001b[0m: \tn_bins: 10\n",
            "\u001b[34m\u001b[1mwandb\u001b[0m: \tn_episodes: 1000\n"
          ]
        },
        {
          "output_type": "display_data",
          "data": {
            "text/plain": [
              "<IPython.core.display.HTML object>"
            ],
            "text/html": [
              "Tracking run with wandb version 0.19.8"
            ]
          },
          "metadata": {}
        },
        {
          "output_type": "display_data",
          "data": {
            "text/plain": [
              "<IPython.core.display.HTML object>"
            ],
            "text/html": [
              "Run data is saved locally in <code>/content/wandb/run-20250331_143709-wtt8gc8s</code>"
            ]
          },
          "metadata": {}
        },
        {
          "output_type": "display_data",
          "data": {
            "text/plain": [
              "<IPython.core.display.HTML object>"
            ],
            "text/html": [
              "Syncing run <strong><a href='https://wandb.ai/abhijithvinod-indian-institue-of-technology-madras/RL_CartPole_SARSA/runs/wtt8gc8s' target=\"_blank\">easy-sweep-18</a></strong> to <a href='https://wandb.ai/abhijithvinod-indian-institue-of-technology-madras/RL_CartPole_SARSA' target=\"_blank\">Weights & Biases</a> (<a href='https://wandb.me/developer-guide' target=\"_blank\">docs</a>)<br>Sweep page: <a href='https://wandb.ai/abhijithvinod-indian-institue-of-technology-madras/RL_CartPole_SARSA/sweeps/axs367lv' target=\"_blank\">https://wandb.ai/abhijithvinod-indian-institue-of-technology-madras/RL_CartPole_SARSA/sweeps/axs367lv</a>"
            ]
          },
          "metadata": {}
        },
        {
          "output_type": "display_data",
          "data": {
            "text/plain": [
              "<IPython.core.display.HTML object>"
            ],
            "text/html": [
              " View project at <a href='https://wandb.ai/abhijithvinod-indian-institue-of-technology-madras/RL_CartPole_SARSA' target=\"_blank\">https://wandb.ai/abhijithvinod-indian-institue-of-technology-madras/RL_CartPole_SARSA</a>"
            ]
          },
          "metadata": {}
        },
        {
          "output_type": "display_data",
          "data": {
            "text/plain": [
              "<IPython.core.display.HTML object>"
            ],
            "text/html": [
              " View sweep at <a href='https://wandb.ai/abhijithvinod-indian-institue-of-technology-madras/RL_CartPole_SARSA/sweeps/axs367lv' target=\"_blank\">https://wandb.ai/abhijithvinod-indian-institue-of-technology-madras/RL_CartPole_SARSA/sweeps/axs367lv</a>"
            ]
          },
          "metadata": {}
        },
        {
          "output_type": "display_data",
          "data": {
            "text/plain": [
              "<IPython.core.display.HTML object>"
            ],
            "text/html": [
              " View run at <a href='https://wandb.ai/abhijithvinod-indian-institue-of-technology-madras/RL_CartPole_SARSA/runs/wtt8gc8s' target=\"_blank\">https://wandb.ai/abhijithvinod-indian-institue-of-technology-madras/RL_CartPole_SARSA/runs/wtt8gc8s</a>"
            ]
          },
          "metadata": {}
        },
        {
          "output_type": "display_data",
          "data": {
            "text/plain": [
              "<IPython.core.display.HTML object>"
            ],
            "text/html": []
          },
          "metadata": {}
        },
        {
          "output_type": "display_data",
          "data": {
            "text/plain": [
              "<IPython.core.display.HTML object>"
            ],
            "text/html": [
              "<br>    <style><br>        .wandb-row {<br>            display: flex;<br>            flex-direction: row;<br>            flex-wrap: wrap;<br>            justify-content: flex-start;<br>            width: 100%;<br>        }<br>        .wandb-col {<br>            display: flex;<br>            flex-direction: column;<br>            flex-basis: 100%;<br>            flex: 1;<br>            padding: 10px;<br>        }<br>    </style><br><div class=\"wandb-row\"><div class=\"wandb-col\"><h3>Run history:</h3><br/><table class=\"wandb\"><tr><td>average_reward_across_seeds</td><td>▁</td></tr><tr><td>seed_101_episode</td><td>▁▁▁▁▂▂▂▂▃▃▃▃▄▄▄▄▄▅▅▅▅▅▅▅▅▆▆▆▆▆▆▆▆▇▇▇▇▇▇█</td></tr><tr><td>seed_101_reward</td><td>▂▁▁▁▁▁▂▂▂█▁▁▃▂▂▂▂▃▁▄▄▂▃▃▂▆▅▅▃▄▂▃▂▃▄▅▄▄▆▄</td></tr><tr><td>seed_123_episode</td><td>▁▁▁▁▂▂▂▂▂▂▃▃▃▃▄▄▄▄▄▅▅▅▅▅▅▅▆▆▆▆▆▆▇▇▇▇████</td></tr><tr><td>seed_123_reward</td><td>▁▁▁▁▁▁▂▁▂▂▂▂▂▂▂▃▂▂▂▃▄▄▆▃▆▇▅▅▅▅▆▆▆█▅▆▅▆▆▇</td></tr><tr><td>seed_42_episode</td><td>▁▁▁▁▂▂▂▂▂▂▃▃▃▃▃▄▄▄▄▄▅▅▅▅▅▅▆▆▆▆▇▇▇▇▇▇▇███</td></tr><tr><td>seed_42_reward</td><td>▁▁▂▁▁▁▂▁▂▁▂▂▂▂▇▂▂▄▄▆▄▅▅▅▅▄▄▆▃▅█▅▅▇▅▄▁▆▆▄</td></tr><tr><td>seed_456_episode</td><td>▁▁▁▁▂▂▂▂▃▃▃▃▃▃▄▄▄▄▄▄▅▅▅▅▅▅▅▆▆▆▆▆▇▇▇▇▇▇▇█</td></tr><tr><td>seed_456_reward</td><td>▁▂▁▁▃▁▁▃▃▃▄▃▂▃▃▁▂▄▄▅▂▂▃▃▃▃▂▆▄▄▄▅▄▅▄▆▆█▅▆</td></tr><tr><td>seed_789_episode</td><td>▁▁▁▂▂▂▂▂▂▂▃▃▃▃▃▃▄▄▄▄▄▄▄▄▄▅▅▅▅▅▅▅▆▆▆▇▇▇▇█</td></tr><tr><td>seed_789_reward</td><td>▁▁▁▁▁▁▁▁▁▁▁▁▁▂▃▂▂▂▂▂▂▁▂▂▂▆▃▄▂▄▆▄█▄▆▄▅▄▆▇</td></tr></table><br/></div><div class=\"wandb-col\"><h3>Run summary:</h3><br/><table class=\"wandb\"><tr><td>average_reward_across_seeds</td><td>84.236</td></tr><tr><td>seed_101_episode</td><td>999</td></tr><tr><td>seed_101_reward</td><td>67</td></tr><tr><td>seed_123_episode</td><td>999</td></tr><tr><td>seed_123_reward</td><td>64</td></tr><tr><td>seed_42_episode</td><td>999</td></tr><tr><td>seed_42_reward</td><td>162</td></tr><tr><td>seed_456_episode</td><td>999</td></tr><tr><td>seed_456_reward</td><td>156</td></tr><tr><td>seed_789_episode</td><td>999</td></tr><tr><td>seed_789_reward</td><td>110</td></tr></table><br/></div></div>"
            ]
          },
          "metadata": {}
        },
        {
          "output_type": "display_data",
          "data": {
            "text/plain": [
              "<IPython.core.display.HTML object>"
            ],
            "text/html": [
              " View run <strong style=\"color:#cdcd00\">easy-sweep-18</strong> at: <a href='https://wandb.ai/abhijithvinod-indian-institue-of-technology-madras/RL_CartPole_SARSA/runs/wtt8gc8s' target=\"_blank\">https://wandb.ai/abhijithvinod-indian-institue-of-technology-madras/RL_CartPole_SARSA/runs/wtt8gc8s</a><br> View project at: <a href='https://wandb.ai/abhijithvinod-indian-institue-of-technology-madras/RL_CartPole_SARSA' target=\"_blank\">https://wandb.ai/abhijithvinod-indian-institue-of-technology-madras/RL_CartPole_SARSA</a><br>Synced 5 W&B file(s), 0 media file(s), 0 artifact file(s) and 0 other file(s)"
            ]
          },
          "metadata": {}
        },
        {
          "output_type": "display_data",
          "data": {
            "text/plain": [
              "<IPython.core.display.HTML object>"
            ],
            "text/html": [
              "Find logs at: <code>./wandb/run-20250331_143709-wtt8gc8s/logs</code>"
            ]
          },
          "metadata": {}
        },
        {
          "output_type": "stream",
          "name": "stderr",
          "text": [
            "\u001b[34m\u001b[1mwandb\u001b[0m: Agent Starting Run: 0kknt8ri with config:\n",
            "\u001b[34m\u001b[1mwandb\u001b[0m: \talpha: 0.34983368542858323\n",
            "\u001b[34m\u001b[1mwandb\u001b[0m: \tepsilon: 0.17420567775970408\n",
            "\u001b[34m\u001b[1mwandb\u001b[0m: \tgamma: 0.99\n",
            "\u001b[34m\u001b[1mwandb\u001b[0m: \tn_bins: 20\n",
            "\u001b[34m\u001b[1mwandb\u001b[0m: \tn_episodes: 1000\n"
          ]
        },
        {
          "output_type": "display_data",
          "data": {
            "text/plain": [
              "<IPython.core.display.HTML object>"
            ],
            "text/html": [
              "Tracking run with wandb version 0.19.8"
            ]
          },
          "metadata": {}
        },
        {
          "output_type": "display_data",
          "data": {
            "text/plain": [
              "<IPython.core.display.HTML object>"
            ],
            "text/html": [
              "Run data is saved locally in <code>/content/wandb/run-20250331_143744-0kknt8ri</code>"
            ]
          },
          "metadata": {}
        },
        {
          "output_type": "display_data",
          "data": {
            "text/plain": [
              "<IPython.core.display.HTML object>"
            ],
            "text/html": [
              "Syncing run <strong><a href='https://wandb.ai/abhijithvinod-indian-institue-of-technology-madras/RL_CartPole_SARSA/runs/0kknt8ri' target=\"_blank\">electric-sweep-19</a></strong> to <a href='https://wandb.ai/abhijithvinod-indian-institue-of-technology-madras/RL_CartPole_SARSA' target=\"_blank\">Weights & Biases</a> (<a href='https://wandb.me/developer-guide' target=\"_blank\">docs</a>)<br>Sweep page: <a href='https://wandb.ai/abhijithvinod-indian-institue-of-technology-madras/RL_CartPole_SARSA/sweeps/axs367lv' target=\"_blank\">https://wandb.ai/abhijithvinod-indian-institue-of-technology-madras/RL_CartPole_SARSA/sweeps/axs367lv</a>"
            ]
          },
          "metadata": {}
        },
        {
          "output_type": "display_data",
          "data": {
            "text/plain": [
              "<IPython.core.display.HTML object>"
            ],
            "text/html": [
              " View project at <a href='https://wandb.ai/abhijithvinod-indian-institue-of-technology-madras/RL_CartPole_SARSA' target=\"_blank\">https://wandb.ai/abhijithvinod-indian-institue-of-technology-madras/RL_CartPole_SARSA</a>"
            ]
          },
          "metadata": {}
        },
        {
          "output_type": "display_data",
          "data": {
            "text/plain": [
              "<IPython.core.display.HTML object>"
            ],
            "text/html": [
              " View sweep at <a href='https://wandb.ai/abhijithvinod-indian-institue-of-technology-madras/RL_CartPole_SARSA/sweeps/axs367lv' target=\"_blank\">https://wandb.ai/abhijithvinod-indian-institue-of-technology-madras/RL_CartPole_SARSA/sweeps/axs367lv</a>"
            ]
          },
          "metadata": {}
        },
        {
          "output_type": "display_data",
          "data": {
            "text/plain": [
              "<IPython.core.display.HTML object>"
            ],
            "text/html": [
              " View run at <a href='https://wandb.ai/abhijithvinod-indian-institue-of-technology-madras/RL_CartPole_SARSA/runs/0kknt8ri' target=\"_blank\">https://wandb.ai/abhijithvinod-indian-institue-of-technology-madras/RL_CartPole_SARSA/runs/0kknt8ri</a>"
            ]
          },
          "metadata": {}
        },
        {
          "output_type": "display_data",
          "data": {
            "text/plain": [
              "<IPython.core.display.HTML object>"
            ],
            "text/html": []
          },
          "metadata": {}
        },
        {
          "output_type": "display_data",
          "data": {
            "text/plain": [
              "<IPython.core.display.HTML object>"
            ],
            "text/html": [
              "<br>    <style><br>        .wandb-row {<br>            display: flex;<br>            flex-direction: row;<br>            flex-wrap: wrap;<br>            justify-content: flex-start;<br>            width: 100%;<br>        }<br>        .wandb-col {<br>            display: flex;<br>            flex-direction: column;<br>            flex-basis: 100%;<br>            flex: 1;<br>            padding: 10px;<br>        }<br>    </style><br><div class=\"wandb-row\"><div class=\"wandb-col\"><h3>Run history:</h3><br/><table class=\"wandb\"><tr><td>average_reward_across_seeds</td><td>▁</td></tr><tr><td>seed_101_episode</td><td>▁▁▁▁▂▂▂▂▃▃▃▃▄▄▄▄▄▅▅▅▅▅▅▆▆▆▆▆▆▆▇▇▇▇▇▇▇███</td></tr><tr><td>seed_101_reward</td><td>▂▁▁▃▂▁▃▁▂▃▃▂▃▁▂▃▃▃▃▂▃▃▂▃▅▄▂▄▄▆▄▇█▇▅▅▅▄▃▂</td></tr><tr><td>seed_123_episode</td><td>▁▁▂▂▂▂▂▂▃▃▃▃▃▄▄▄▄▄▄▄▄▅▅▅▅▅▆▆▆▆▆▆▆▆▇▇▇▇▇█</td></tr><tr><td>seed_123_reward</td><td>▁▁▁▁▁▁▁▁▁▁▂▁▂▁▂▂▂▂▂▁▂▇█▅▃▅▂▄▂▅▅▆▆█▄▇▆▄▅▆</td></tr><tr><td>seed_42_episode</td><td>▁▁▁▁▁▁▁▁▂▂▂▂▂▂▃▃▃▃▄▄▄▄▅▅▅▅▅▅▆▆▆▆▇▇▇▇▇███</td></tr><tr><td>seed_42_reward</td><td>▁▁▁▁▁▁▁▂▂▂▁▁▂▂▁▁▃▃▄▃▄▃▅▅▃▃▆█▅▅█▃▃▄▂▅▄▂▄▅</td></tr><tr><td>seed_456_episode</td><td>▁▁▂▂▂▂▂▂▃▃▃▃▃▄▄▄▄▄▄▄▄▄▅▅▅▆▆▆▆▆▇▇▇▇▇▇▇███</td></tr><tr><td>seed_456_reward</td><td>▁▁▂▁▁▁▂▁▂▄▂▆▄▆▃▃▂▂▂▃▄▂▂▂▃▂▃▃▃▃▃▆▂▃▁▃▄▄▂█</td></tr><tr><td>seed_789_episode</td><td>▁▁▁▁▁▂▂▂▂▂▂▃▃▃▃▃▃▃▃▃▄▄▄▄▄▅▅▅▅▅▆▆▆▇▇▇▇███</td></tr><tr><td>seed_789_reward</td><td>▁▂▁▁▁▁▂▂▁▂▃▂▆▂▄▂▂▃▄▂▅▂▃█▃▃▂▃▁▃▂▃▃▃▃▄▇▂▄▃</td></tr></table><br/></div><div class=\"wandb-col\"><h3>Run summary:</h3><br/><table class=\"wandb\"><tr><td>average_reward_across_seeds</td><td>89.74</td></tr><tr><td>seed_101_episode</td><td>999</td></tr><tr><td>seed_101_reward</td><td>84</td></tr><tr><td>seed_123_episode</td><td>999</td></tr><tr><td>seed_123_reward</td><td>108</td></tr><tr><td>seed_42_episode</td><td>999</td></tr><tr><td>seed_42_reward</td><td>45</td></tr><tr><td>seed_456_episode</td><td>999</td></tr><tr><td>seed_456_reward</td><td>117</td></tr><tr><td>seed_789_episode</td><td>999</td></tr><tr><td>seed_789_reward</td><td>123</td></tr></table><br/></div></div>"
            ]
          },
          "metadata": {}
        },
        {
          "output_type": "display_data",
          "data": {
            "text/plain": [
              "<IPython.core.display.HTML object>"
            ],
            "text/html": [
              " View run <strong style=\"color:#cdcd00\">electric-sweep-19</strong> at: <a href='https://wandb.ai/abhijithvinod-indian-institue-of-technology-madras/RL_CartPole_SARSA/runs/0kknt8ri' target=\"_blank\">https://wandb.ai/abhijithvinod-indian-institue-of-technology-madras/RL_CartPole_SARSA/runs/0kknt8ri</a><br> View project at: <a href='https://wandb.ai/abhijithvinod-indian-institue-of-technology-madras/RL_CartPole_SARSA' target=\"_blank\">https://wandb.ai/abhijithvinod-indian-institue-of-technology-madras/RL_CartPole_SARSA</a><br>Synced 5 W&B file(s), 0 media file(s), 0 artifact file(s) and 0 other file(s)"
            ]
          },
          "metadata": {}
        },
        {
          "output_type": "display_data",
          "data": {
            "text/plain": [
              "<IPython.core.display.HTML object>"
            ],
            "text/html": [
              "Find logs at: <code>./wandb/run-20250331_143744-0kknt8ri/logs</code>"
            ]
          },
          "metadata": {}
        },
        {
          "output_type": "stream",
          "name": "stderr",
          "text": [
            "\u001b[34m\u001b[1mwandb\u001b[0m: Agent Starting Run: qz2nvl4y with config:\n",
            "\u001b[34m\u001b[1mwandb\u001b[0m: \talpha: 0.19389941779505865\n",
            "\u001b[34m\u001b[1mwandb\u001b[0m: \tepsilon: 0.14608325357884402\n",
            "\u001b[34m\u001b[1mwandb\u001b[0m: \tgamma: 0.99\n",
            "\u001b[34m\u001b[1mwandb\u001b[0m: \tn_bins: 10\n",
            "\u001b[34m\u001b[1mwandb\u001b[0m: \tn_episodes: 1000\n"
          ]
        },
        {
          "output_type": "display_data",
          "data": {
            "text/plain": [
              "<IPython.core.display.HTML object>"
            ],
            "text/html": [
              "Tracking run with wandb version 0.19.8"
            ]
          },
          "metadata": {}
        },
        {
          "output_type": "display_data",
          "data": {
            "text/plain": [
              "<IPython.core.display.HTML object>"
            ],
            "text/html": [
              "Run data is saved locally in <code>/content/wandb/run-20250331_143825-qz2nvl4y</code>"
            ]
          },
          "metadata": {}
        },
        {
          "output_type": "display_data",
          "data": {
            "text/plain": [
              "<IPython.core.display.HTML object>"
            ],
            "text/html": [
              "Syncing run <strong><a href='https://wandb.ai/abhijithvinod-indian-institue-of-technology-madras/RL_CartPole_SARSA/runs/qz2nvl4y' target=\"_blank\">valiant-sweep-20</a></strong> to <a href='https://wandb.ai/abhijithvinod-indian-institue-of-technology-madras/RL_CartPole_SARSA' target=\"_blank\">Weights & Biases</a> (<a href='https://wandb.me/developer-guide' target=\"_blank\">docs</a>)<br>Sweep page: <a href='https://wandb.ai/abhijithvinod-indian-institue-of-technology-madras/RL_CartPole_SARSA/sweeps/axs367lv' target=\"_blank\">https://wandb.ai/abhijithvinod-indian-institue-of-technology-madras/RL_CartPole_SARSA/sweeps/axs367lv</a>"
            ]
          },
          "metadata": {}
        },
        {
          "output_type": "display_data",
          "data": {
            "text/plain": [
              "<IPython.core.display.HTML object>"
            ],
            "text/html": [
              " View project at <a href='https://wandb.ai/abhijithvinod-indian-institue-of-technology-madras/RL_CartPole_SARSA' target=\"_blank\">https://wandb.ai/abhijithvinod-indian-institue-of-technology-madras/RL_CartPole_SARSA</a>"
            ]
          },
          "metadata": {}
        },
        {
          "output_type": "display_data",
          "data": {
            "text/plain": [
              "<IPython.core.display.HTML object>"
            ],
            "text/html": [
              " View sweep at <a href='https://wandb.ai/abhijithvinod-indian-institue-of-technology-madras/RL_CartPole_SARSA/sweeps/axs367lv' target=\"_blank\">https://wandb.ai/abhijithvinod-indian-institue-of-technology-madras/RL_CartPole_SARSA/sweeps/axs367lv</a>"
            ]
          },
          "metadata": {}
        },
        {
          "output_type": "display_data",
          "data": {
            "text/plain": [
              "<IPython.core.display.HTML object>"
            ],
            "text/html": [
              " View run at <a href='https://wandb.ai/abhijithvinod-indian-institue-of-technology-madras/RL_CartPole_SARSA/runs/qz2nvl4y' target=\"_blank\">https://wandb.ai/abhijithvinod-indian-institue-of-technology-madras/RL_CartPole_SARSA/runs/qz2nvl4y</a>"
            ]
          },
          "metadata": {}
        },
        {
          "output_type": "display_data",
          "data": {
            "text/plain": [
              "<IPython.core.display.HTML object>"
            ],
            "text/html": []
          },
          "metadata": {}
        },
        {
          "output_type": "display_data",
          "data": {
            "text/plain": [
              "<IPython.core.display.HTML object>"
            ],
            "text/html": [
              "<br>    <style><br>        .wandb-row {<br>            display: flex;<br>            flex-direction: row;<br>            flex-wrap: wrap;<br>            justify-content: flex-start;<br>            width: 100%;<br>        }<br>        .wandb-col {<br>            display: flex;<br>            flex-direction: column;<br>            flex-basis: 100%;<br>            flex: 1;<br>            padding: 10px;<br>        }<br>    </style><br><div class=\"wandb-row\"><div class=\"wandb-col\"><h3>Run history:</h3><br/><table class=\"wandb\"><tr><td>average_reward_across_seeds</td><td>▁</td></tr><tr><td>seed_101_episode</td><td>▁▁▂▂▂▂▂▃▃▃▄▄▄▄▄▄▄▄▅▅▅▅▅▆▆▆▆▆▆▇▇▇▇▇▇▇████</td></tr><tr><td>seed_101_reward</td><td>▁▁▁▂▁▁▁▁▁▁▁▄▂▂▂▂▃▃▃▃▃▃▃▂▄▄▄▃▄▄▆▅▆▇▆█▆▆▃▆</td></tr><tr><td>seed_123_episode</td><td>▁▂▂▂▂▂▂▃▃▃▃▃▃▃▃▄▄▄▄▄▄▄▅▅▅▆▆▆▆▆▆▆▆▇▇▇▇▇▇█</td></tr><tr><td>seed_123_reward</td><td>▁▁▂▁▁▁▁▁▂▂▁▂▁▂▂▂▄▃▂▃▂▂▃▃▃▄▂▄▅▅▅▆▅▇█▇█▆▄█</td></tr><tr><td>seed_42_episode</td><td>▁▁▁▁▁▂▂▂▃▃▃▃▃▃▄▄▄▄▅▅▅▅▆▆▆▇▇▇▇▇▇▇▇███████</td></tr><tr><td>seed_42_reward</td><td>▁▁▁▁▁▁▁▁▁▁▁▁▁▁▁▂▁▁▄▄▄▄▂▄▃▃▄▄▄▅▄▄▄▅▅▄▄█▂▄</td></tr><tr><td>seed_456_episode</td><td>▁▁▁▁▁▂▂▂▂▂▂▂▃▃▃▃▄▄▄▄▄▄▄▅▅▆▆▆▆▆▆▇▇▇▇▇▇███</td></tr><tr><td>seed_456_reward</td><td>▁▁▁▁▁▁▁▁▁▁▁▁▇▃▄▃▃▆▃▃▁▃▅▂▂▃▁▂▃▅▃▄█▃▁▃▄▃▁▄</td></tr><tr><td>seed_789_episode</td><td>▁▁▁▁▂▂▂▂▂▂▃▃▃▄▄▄▄▄▄▄▅▅▅▅▅▅▅▅▅▆▆▆▆▆▆▇▇▇▇█</td></tr><tr><td>seed_789_reward</td><td>▁▁▁▁▁▁▁▁▁▁▁▁▁▅▁▁▇▂▄▃▁█▂▂▃▄▅▆▃▅▄▅▆▅▇▃▄▃▁▂</td></tr></table><br/></div><div class=\"wandb-col\"><h3>Run summary:</h3><br/><table class=\"wandb\"><tr><td>average_reward_across_seeds</td><td>69.92</td></tr><tr><td>seed_101_episode</td><td>999</td></tr><tr><td>seed_101_reward</td><td>72</td></tr><tr><td>seed_123_episode</td><td>999</td></tr><tr><td>seed_123_reward</td><td>43</td></tr><tr><td>seed_42_episode</td><td>999</td></tr><tr><td>seed_42_reward</td><td>116</td></tr><tr><td>seed_456_episode</td><td>999</td></tr><tr><td>seed_456_reward</td><td>64</td></tr><tr><td>seed_789_episode</td><td>999</td></tr><tr><td>seed_789_reward</td><td>72</td></tr></table><br/></div></div>"
            ]
          },
          "metadata": {}
        },
        {
          "output_type": "display_data",
          "data": {
            "text/plain": [
              "<IPython.core.display.HTML object>"
            ],
            "text/html": [
              " View run <strong style=\"color:#cdcd00\">valiant-sweep-20</strong> at: <a href='https://wandb.ai/abhijithvinod-indian-institue-of-technology-madras/RL_CartPole_SARSA/runs/qz2nvl4y' target=\"_blank\">https://wandb.ai/abhijithvinod-indian-institue-of-technology-madras/RL_CartPole_SARSA/runs/qz2nvl4y</a><br> View project at: <a href='https://wandb.ai/abhijithvinod-indian-institue-of-technology-madras/RL_CartPole_SARSA' target=\"_blank\">https://wandb.ai/abhijithvinod-indian-institue-of-technology-madras/RL_CartPole_SARSA</a><br>Synced 5 W&B file(s), 0 media file(s), 0 artifact file(s) and 0 other file(s)"
            ]
          },
          "metadata": {}
        },
        {
          "output_type": "display_data",
          "data": {
            "text/plain": [
              "<IPython.core.display.HTML object>"
            ],
            "text/html": [
              "Find logs at: <code>./wandb/run-20250331_143825-qz2nvl4y/logs</code>"
            ]
          },
          "metadata": {}
        },
        {
          "output_type": "stream",
          "name": "stderr",
          "text": [
            "\u001b[34m\u001b[1mwandb\u001b[0m: Agent Starting Run: vu53f3y6 with config:\n",
            "\u001b[34m\u001b[1mwandb\u001b[0m: \talpha: 0.4017517101368918\n",
            "\u001b[34m\u001b[1mwandb\u001b[0m: \tepsilon: 0.03318286322752691\n",
            "\u001b[34m\u001b[1mwandb\u001b[0m: \tgamma: 0.99\n",
            "\u001b[34m\u001b[1mwandb\u001b[0m: \tn_bins: 10\n",
            "\u001b[34m\u001b[1mwandb\u001b[0m: \tn_episodes: 1000\n"
          ]
        },
        {
          "output_type": "display_data",
          "data": {
            "text/plain": [
              "<IPython.core.display.HTML object>"
            ],
            "text/html": [
              "Tracking run with wandb version 0.19.8"
            ]
          },
          "metadata": {}
        },
        {
          "output_type": "display_data",
          "data": {
            "text/plain": [
              "<IPython.core.display.HTML object>"
            ],
            "text/html": [
              "Run data is saved locally in <code>/content/wandb/run-20250331_143856-vu53f3y6</code>"
            ]
          },
          "metadata": {}
        },
        {
          "output_type": "display_data",
          "data": {
            "text/plain": [
              "<IPython.core.display.HTML object>"
            ],
            "text/html": [
              "Syncing run <strong><a href='https://wandb.ai/abhijithvinod-indian-institue-of-technology-madras/RL_CartPole_SARSA/runs/vu53f3y6' target=\"_blank\">swept-sweep-21</a></strong> to <a href='https://wandb.ai/abhijithvinod-indian-institue-of-technology-madras/RL_CartPole_SARSA' target=\"_blank\">Weights & Biases</a> (<a href='https://wandb.me/developer-guide' target=\"_blank\">docs</a>)<br>Sweep page: <a href='https://wandb.ai/abhijithvinod-indian-institue-of-technology-madras/RL_CartPole_SARSA/sweeps/axs367lv' target=\"_blank\">https://wandb.ai/abhijithvinod-indian-institue-of-technology-madras/RL_CartPole_SARSA/sweeps/axs367lv</a>"
            ]
          },
          "metadata": {}
        },
        {
          "output_type": "display_data",
          "data": {
            "text/plain": [
              "<IPython.core.display.HTML object>"
            ],
            "text/html": [
              " View project at <a href='https://wandb.ai/abhijithvinod-indian-institue-of-technology-madras/RL_CartPole_SARSA' target=\"_blank\">https://wandb.ai/abhijithvinod-indian-institue-of-technology-madras/RL_CartPole_SARSA</a>"
            ]
          },
          "metadata": {}
        },
        {
          "output_type": "display_data",
          "data": {
            "text/plain": [
              "<IPython.core.display.HTML object>"
            ],
            "text/html": [
              " View sweep at <a href='https://wandb.ai/abhijithvinod-indian-institue-of-technology-madras/RL_CartPole_SARSA/sweeps/axs367lv' target=\"_blank\">https://wandb.ai/abhijithvinod-indian-institue-of-technology-madras/RL_CartPole_SARSA/sweeps/axs367lv</a>"
            ]
          },
          "metadata": {}
        },
        {
          "output_type": "display_data",
          "data": {
            "text/plain": [
              "<IPython.core.display.HTML object>"
            ],
            "text/html": [
              " View run at <a href='https://wandb.ai/abhijithvinod-indian-institue-of-technology-madras/RL_CartPole_SARSA/runs/vu53f3y6' target=\"_blank\">https://wandb.ai/abhijithvinod-indian-institue-of-technology-madras/RL_CartPole_SARSA/runs/vu53f3y6</a>"
            ]
          },
          "metadata": {}
        },
        {
          "output_type": "display_data",
          "data": {
            "text/plain": [
              "<IPython.core.display.HTML object>"
            ],
            "text/html": []
          },
          "metadata": {}
        },
        {
          "output_type": "display_data",
          "data": {
            "text/plain": [
              "<IPython.core.display.HTML object>"
            ],
            "text/html": [
              "<br>    <style><br>        .wandb-row {<br>            display: flex;<br>            flex-direction: row;<br>            flex-wrap: wrap;<br>            justify-content: flex-start;<br>            width: 100%;<br>        }<br>        .wandb-col {<br>            display: flex;<br>            flex-direction: column;<br>            flex-basis: 100%;<br>            flex: 1;<br>            padding: 10px;<br>        }<br>    </style><br><div class=\"wandb-row\"><div class=\"wandb-col\"><h3>Run history:</h3><br/><table class=\"wandb\"><tr><td>average_reward_across_seeds</td><td>▁</td></tr><tr><td>seed_101_episode</td><td>▁▁▁▁▁▁▂▂▂▂▂▂▃▃▄▄▄▄▄▄▄▅▅▅▆▆▆▆▆▆▇▇▇▇▇▇▇███</td></tr><tr><td>seed_101_reward</td><td>▂▃▂▂▂▂▃▁▂▂▂▂▁▂▂▂▂▄▃▅▃▅▃▅▄▆▇▅▄▇▇▆▇▆▅█▄▇█▇</td></tr><tr><td>seed_123_episode</td><td>▁▁▁▁▁▁▂▂▂▂▂▂▂▃▃▄▅▅▅▅▆▆▆▆▆▆▆▆▇▇▇▇▇▇▇▇▇███</td></tr><tr><td>seed_123_reward</td><td>▁▁▁▁▁▁▁▁▁▁▁▁▁▁▂▁▁▁▁▁▃▂▁▂▃▃▆▇▇▄▁▆▃▇▅▄▂▆▅█</td></tr><tr><td>seed_42_episode</td><td>▁▁▁▁▁▂▂▂▂▂▂▃▃▃▃▃▃▃▃▄▄▄▄▄▄▅▅▅▆▆▆▆▇▇▇▇████</td></tr><tr><td>seed_42_reward</td><td>▁▁▁▁▁▁▁▂▁▁▂▂▂▁▂▃▂▂▂▁▂▂▃▂▂▂▃▃▃▃▃▃▃▃▂▃▂▅▃█</td></tr><tr><td>seed_456_episode</td><td>▁▁▁▁▁▁▂▂▂▂▃▃▃▃▃▄▄▅▅▅▅▆▆▆▆▆▆▆▆▆▇▇▇▇▇▇▇███</td></tr><tr><td>seed_456_reward</td><td>▁▁▁▁▁▁▁▁▁▁▂▁▁▁▁▁▁▂▁▂▂▄▂▂▄▆▆▄▇▇██▂▆▇▇▇▆▆▆</td></tr><tr><td>seed_789_episode</td><td>▁▁▁▂▂▂▂▂▂▃▃▃▃▃▄▄▄▄▄▄▅▅▅▅▅▅▅▆▆▆▆▆▆▆▇▇▇███</td></tr><tr><td>seed_789_reward</td><td>▁▂▁▂▁▁▁▁▂▁▁▃▂▂▁▂▂▃▃▄▂▂▂▂▂▄▄▃▁▂▅▆▄▅▅▄▅▃█▇</td></tr></table><br/></div><div class=\"wandb-col\"><h3>Run summary:</h3><br/><table class=\"wandb\"><tr><td>average_reward_across_seeds</td><td>49.336</td></tr><tr><td>seed_101_episode</td><td>999</td></tr><tr><td>seed_101_reward</td><td>17</td></tr><tr><td>seed_123_episode</td><td>999</td></tr><tr><td>seed_123_reward</td><td>65</td></tr><tr><td>seed_42_episode</td><td>999</td></tr><tr><td>seed_42_reward</td><td>47</td></tr><tr><td>seed_456_episode</td><td>999</td></tr><tr><td>seed_456_reward</td><td>22</td></tr><tr><td>seed_789_episode</td><td>999</td></tr><tr><td>seed_789_reward</td><td>33</td></tr></table><br/></div></div>"
            ]
          },
          "metadata": {}
        },
        {
          "output_type": "display_data",
          "data": {
            "text/plain": [
              "<IPython.core.display.HTML object>"
            ],
            "text/html": [
              " View run <strong style=\"color:#cdcd00\">swept-sweep-21</strong> at: <a href='https://wandb.ai/abhijithvinod-indian-institue-of-technology-madras/RL_CartPole_SARSA/runs/vu53f3y6' target=\"_blank\">https://wandb.ai/abhijithvinod-indian-institue-of-technology-madras/RL_CartPole_SARSA/runs/vu53f3y6</a><br> View project at: <a href='https://wandb.ai/abhijithvinod-indian-institue-of-technology-madras/RL_CartPole_SARSA' target=\"_blank\">https://wandb.ai/abhijithvinod-indian-institue-of-technology-madras/RL_CartPole_SARSA</a><br>Synced 5 W&B file(s), 0 media file(s), 0 artifact file(s) and 0 other file(s)"
            ]
          },
          "metadata": {}
        },
        {
          "output_type": "display_data",
          "data": {
            "text/plain": [
              "<IPython.core.display.HTML object>"
            ],
            "text/html": [
              "Find logs at: <code>./wandb/run-20250331_143856-vu53f3y6/logs</code>"
            ]
          },
          "metadata": {}
        },
        {
          "output_type": "stream",
          "name": "stderr",
          "text": [
            "\u001b[34m\u001b[1mwandb\u001b[0m: Sweep Agent: Waiting for job.\n",
            "\u001b[34m\u001b[1mwandb\u001b[0m: Job received.\n",
            "\u001b[34m\u001b[1mwandb\u001b[0m: Agent Starting Run: ze0xw7za with config:\n",
            "\u001b[34m\u001b[1mwandb\u001b[0m: \talpha: 0.08498484080885027\n",
            "\u001b[34m\u001b[1mwandb\u001b[0m: \tepsilon: 0.09135262797017328\n",
            "\u001b[34m\u001b[1mwandb\u001b[0m: \tgamma: 0.99\n",
            "\u001b[34m\u001b[1mwandb\u001b[0m: \tn_bins: 15\n",
            "\u001b[34m\u001b[1mwandb\u001b[0m: \tn_episodes: 1000\n"
          ]
        },
        {
          "output_type": "display_data",
          "data": {
            "text/plain": [
              "<IPython.core.display.HTML object>"
            ],
            "text/html": [
              "Tracking run with wandb version 0.19.8"
            ]
          },
          "metadata": {}
        },
        {
          "output_type": "display_data",
          "data": {
            "text/plain": [
              "<IPython.core.display.HTML object>"
            ],
            "text/html": [
              "Run data is saved locally in <code>/content/wandb/run-20250331_143936-ze0xw7za</code>"
            ]
          },
          "metadata": {}
        },
        {
          "output_type": "display_data",
          "data": {
            "text/plain": [
              "<IPython.core.display.HTML object>"
            ],
            "text/html": [
              "Syncing run <strong><a href='https://wandb.ai/abhijithvinod-indian-institue-of-technology-madras/RL_CartPole_SARSA/runs/ze0xw7za' target=\"_blank\">elated-sweep-22</a></strong> to <a href='https://wandb.ai/abhijithvinod-indian-institue-of-technology-madras/RL_CartPole_SARSA' target=\"_blank\">Weights & Biases</a> (<a href='https://wandb.me/developer-guide' target=\"_blank\">docs</a>)<br>Sweep page: <a href='https://wandb.ai/abhijithvinod-indian-institue-of-technology-madras/RL_CartPole_SARSA/sweeps/axs367lv' target=\"_blank\">https://wandb.ai/abhijithvinod-indian-institue-of-technology-madras/RL_CartPole_SARSA/sweeps/axs367lv</a>"
            ]
          },
          "metadata": {}
        },
        {
          "output_type": "display_data",
          "data": {
            "text/plain": [
              "<IPython.core.display.HTML object>"
            ],
            "text/html": [
              " View project at <a href='https://wandb.ai/abhijithvinod-indian-institue-of-technology-madras/RL_CartPole_SARSA' target=\"_blank\">https://wandb.ai/abhijithvinod-indian-institue-of-technology-madras/RL_CartPole_SARSA</a>"
            ]
          },
          "metadata": {}
        },
        {
          "output_type": "display_data",
          "data": {
            "text/plain": [
              "<IPython.core.display.HTML object>"
            ],
            "text/html": [
              " View sweep at <a href='https://wandb.ai/abhijithvinod-indian-institue-of-technology-madras/RL_CartPole_SARSA/sweeps/axs367lv' target=\"_blank\">https://wandb.ai/abhijithvinod-indian-institue-of-technology-madras/RL_CartPole_SARSA/sweeps/axs367lv</a>"
            ]
          },
          "metadata": {}
        },
        {
          "output_type": "display_data",
          "data": {
            "text/plain": [
              "<IPython.core.display.HTML object>"
            ],
            "text/html": [
              " View run at <a href='https://wandb.ai/abhijithvinod-indian-institue-of-technology-madras/RL_CartPole_SARSA/runs/ze0xw7za' target=\"_blank\">https://wandb.ai/abhijithvinod-indian-institue-of-technology-madras/RL_CartPole_SARSA/runs/ze0xw7za</a>"
            ]
          },
          "metadata": {}
        },
        {
          "output_type": "display_data",
          "data": {
            "text/plain": [
              "<IPython.core.display.HTML object>"
            ],
            "text/html": []
          },
          "metadata": {}
        },
        {
          "output_type": "display_data",
          "data": {
            "text/plain": [
              "<IPython.core.display.HTML object>"
            ],
            "text/html": [
              "<br>    <style><br>        .wandb-row {<br>            display: flex;<br>            flex-direction: row;<br>            flex-wrap: wrap;<br>            justify-content: flex-start;<br>            width: 100%;<br>        }<br>        .wandb-col {<br>            display: flex;<br>            flex-direction: column;<br>            flex-basis: 100%;<br>            flex: 1;<br>            padding: 10px;<br>        }<br>    </style><br><div class=\"wandb-row\"><div class=\"wandb-col\"><h3>Run history:</h3><br/><table class=\"wandb\"><tr><td>average_reward_across_seeds</td><td>▁</td></tr><tr><td>seed_101_episode</td><td>▁▁▁▁▂▂▂▂▂▂▂▂▂▂▂▃▃▃▃▃▄▄▄▅▅▅▅▅▆▆▆▆▇▇▇▇████</td></tr><tr><td>seed_101_reward</td><td>▁▁▁▄▂▁▁▁▂▂▁▁▁▁▁▁▁▃▁▁▁▁▁▁▃▁█▂▁▁▁▁▂▁▁▁▂▁▁▁</td></tr><tr><td>seed_123_episode</td><td>▁▁▁▁▂▂▂▂▂▃▃▃▄▄▄▄▄▄▄▄▅▅▅▅▆▆▆▆▇▇▇▇▇▇▇█████</td></tr><tr><td>seed_123_reward</td><td>▂▃▃▂▃▄▃▂▁▃▃▃▃▇▃▅▂▂█▃▂▂▃▃▃▃▂▃█▃▂▄▄▂▃▃▂▂▄▂</td></tr><tr><td>seed_42_episode</td><td>▁▁▁▁▁▁▁▂▂▂▂▂▃▃▃▃▃▃▄▄▄▄▄▄▅▅▅▅▅▅▆▆▆▆▇▇████</td></tr><tr><td>seed_42_reward</td><td>▅▆▇▃▅▂▁▃▃▅▅▂▅▃▃▂▅▅▅▃▅▅▄▆▁▂▇▃▇▃▇▄█▂▇▄▄▃▄▄</td></tr><tr><td>seed_456_episode</td><td>▁▁▁▁▁▂▂▂▂▂▃▃▃▃▃▅▅▅▅▅▅▅▅▅▅▆▆▆▆▆▆▆▇▇▇▇▇▇██</td></tr><tr><td>seed_456_reward</td><td>▁▃▅▁▂▄▂▁▁▁▃▁▁▁▁▁▁▁█▁▁▁▁▁▁▁▁▂▁▂▂▂▁▂▁▁▃▁▃▁</td></tr><tr><td>seed_789_episode</td><td>▁▁▁▁▂▂▃▃▃▃▃▃▃▃▃▄▄▄▄▄▄▄▅▅▅▅▆▆▆▆▆▇▇▇▇▇▇███</td></tr><tr><td>seed_789_reward</td><td>▃▁▅▅▂▇▃▃▃▂▂▅▆▃▂▆▂▂▂▃▃▂▃▆▂▂▃▃▂▆▃▅▇▂▂▅█▃▆▅</td></tr></table><br/></div><div class=\"wandb-col\"><h3>Run summary:</h3><br/><table class=\"wandb\"><tr><td>average_reward_across_seeds</td><td>17.676</td></tr><tr><td>seed_101_episode</td><td>999</td></tr><tr><td>seed_101_reward</td><td>9</td></tr><tr><td>seed_123_episode</td><td>999</td></tr><tr><td>seed_123_reward</td><td>9</td></tr><tr><td>seed_42_episode</td><td>999</td></tr><tr><td>seed_42_reward</td><td>11</td></tr><tr><td>seed_456_episode</td><td>999</td></tr><tr><td>seed_456_reward</td><td>48</td></tr><tr><td>seed_789_episode</td><td>999</td></tr><tr><td>seed_789_reward</td><td>11</td></tr></table><br/></div></div>"
            ]
          },
          "metadata": {}
        },
        {
          "output_type": "display_data",
          "data": {
            "text/plain": [
              "<IPython.core.display.HTML object>"
            ],
            "text/html": [
              " View run <strong style=\"color:#cdcd00\">elated-sweep-22</strong> at: <a href='https://wandb.ai/abhijithvinod-indian-institue-of-technology-madras/RL_CartPole_SARSA/runs/ze0xw7za' target=\"_blank\">https://wandb.ai/abhijithvinod-indian-institue-of-technology-madras/RL_CartPole_SARSA/runs/ze0xw7za</a><br> View project at: <a href='https://wandb.ai/abhijithvinod-indian-institue-of-technology-madras/RL_CartPole_SARSA' target=\"_blank\">https://wandb.ai/abhijithvinod-indian-institue-of-technology-madras/RL_CartPole_SARSA</a><br>Synced 5 W&B file(s), 0 media file(s), 0 artifact file(s) and 0 other file(s)"
            ]
          },
          "metadata": {}
        },
        {
          "output_type": "display_data",
          "data": {
            "text/plain": [
              "<IPython.core.display.HTML object>"
            ],
            "text/html": [
              "Find logs at: <code>./wandb/run-20250331_143936-ze0xw7za/logs</code>"
            ]
          },
          "metadata": {}
        },
        {
          "output_type": "stream",
          "name": "stderr",
          "text": [
            "\u001b[34m\u001b[1mwandb\u001b[0m: Agent Starting Run: avvy493y with config:\n",
            "\u001b[34m\u001b[1mwandb\u001b[0m: \talpha: 0.22698490075995575\n",
            "\u001b[34m\u001b[1mwandb\u001b[0m: \tepsilon: 0.16052179179162043\n",
            "\u001b[34m\u001b[1mwandb\u001b[0m: \tgamma: 0.99\n",
            "\u001b[34m\u001b[1mwandb\u001b[0m: \tn_bins: 10\n",
            "\u001b[34m\u001b[1mwandb\u001b[0m: \tn_episodes: 1000\n"
          ]
        },
        {
          "output_type": "display_data",
          "data": {
            "text/plain": [
              "<IPython.core.display.HTML object>"
            ],
            "text/html": [
              "Tracking run with wandb version 0.19.8"
            ]
          },
          "metadata": {}
        },
        {
          "output_type": "display_data",
          "data": {
            "text/plain": [
              "<IPython.core.display.HTML object>"
            ],
            "text/html": [
              "Run data is saved locally in <code>/content/wandb/run-20250331_143952-avvy493y</code>"
            ]
          },
          "metadata": {}
        },
        {
          "output_type": "display_data",
          "data": {
            "text/plain": [
              "<IPython.core.display.HTML object>"
            ],
            "text/html": [
              "Syncing run <strong><a href='https://wandb.ai/abhijithvinod-indian-institue-of-technology-madras/RL_CartPole_SARSA/runs/avvy493y' target=\"_blank\">warm-sweep-23</a></strong> to <a href='https://wandb.ai/abhijithvinod-indian-institue-of-technology-madras/RL_CartPole_SARSA' target=\"_blank\">Weights & Biases</a> (<a href='https://wandb.me/developer-guide' target=\"_blank\">docs</a>)<br>Sweep page: <a href='https://wandb.ai/abhijithvinod-indian-institue-of-technology-madras/RL_CartPole_SARSA/sweeps/axs367lv' target=\"_blank\">https://wandb.ai/abhijithvinod-indian-institue-of-technology-madras/RL_CartPole_SARSA/sweeps/axs367lv</a>"
            ]
          },
          "metadata": {}
        },
        {
          "output_type": "display_data",
          "data": {
            "text/plain": [
              "<IPython.core.display.HTML object>"
            ],
            "text/html": [
              " View project at <a href='https://wandb.ai/abhijithvinod-indian-institue-of-technology-madras/RL_CartPole_SARSA' target=\"_blank\">https://wandb.ai/abhijithvinod-indian-institue-of-technology-madras/RL_CartPole_SARSA</a>"
            ]
          },
          "metadata": {}
        },
        {
          "output_type": "display_data",
          "data": {
            "text/plain": [
              "<IPython.core.display.HTML object>"
            ],
            "text/html": [
              " View sweep at <a href='https://wandb.ai/abhijithvinod-indian-institue-of-technology-madras/RL_CartPole_SARSA/sweeps/axs367lv' target=\"_blank\">https://wandb.ai/abhijithvinod-indian-institue-of-technology-madras/RL_CartPole_SARSA/sweeps/axs367lv</a>"
            ]
          },
          "metadata": {}
        },
        {
          "output_type": "display_data",
          "data": {
            "text/plain": [
              "<IPython.core.display.HTML object>"
            ],
            "text/html": [
              " View run at <a href='https://wandb.ai/abhijithvinod-indian-institue-of-technology-madras/RL_CartPole_SARSA/runs/avvy493y' target=\"_blank\">https://wandb.ai/abhijithvinod-indian-institue-of-technology-madras/RL_CartPole_SARSA/runs/avvy493y</a>"
            ]
          },
          "metadata": {}
        },
        {
          "output_type": "display_data",
          "data": {
            "text/plain": [
              "<IPython.core.display.HTML object>"
            ],
            "text/html": []
          },
          "metadata": {}
        },
        {
          "output_type": "display_data",
          "data": {
            "text/plain": [
              "<IPython.core.display.HTML object>"
            ],
            "text/html": [
              "<br>    <style><br>        .wandb-row {<br>            display: flex;<br>            flex-direction: row;<br>            flex-wrap: wrap;<br>            justify-content: flex-start;<br>            width: 100%;<br>        }<br>        .wandb-col {<br>            display: flex;<br>            flex-direction: column;<br>            flex-basis: 100%;<br>            flex: 1;<br>            padding: 10px;<br>        }<br>    </style><br><div class=\"wandb-row\"><div class=\"wandb-col\"><h3>Run history:</h3><br/><table class=\"wandb\"><tr><td>average_reward_across_seeds</td><td>▁</td></tr><tr><td>seed_101_episode</td><td>▁▁▁▂▂▂▂▂▂▂▂▂▃▃▃▃▃▃▃▃▄▄▄▄▄▄▅▅▆▆▆▆▆▇▇▇▇▇██</td></tr><tr><td>seed_101_reward</td><td>▁▁▁▁▁▁▄▆▆▃▅▁▁▁▁▇▅▅▅▅▇▄▅▆▇▆▆█▃▅▆▄██▇▇▄▆█▃</td></tr><tr><td>seed_123_episode</td><td>▁▁▁▁▁▂▂▂▂▃▃▃▃▃▃▄▄▄▄▄▄▅▅▅▅▅▅▅▅▅▆▆▆▆▇▇████</td></tr><tr><td>seed_123_reward</td><td>▁▁▁▁▁▁▁▁▁▁▁▂▂▁▂▁▁▃▄▂▄▂▄▂▄▄▃▅▂▆▄▄▅▅▆▅▅▄██</td></tr><tr><td>seed_42_episode</td><td>▁▁▁▁▁▁▂▂▂▂▃▃▃▃▃▄▄▄▄▄▄▄▄▅▅▅▅▅▆▆▆▆▆▆▆▇▇▇▇█</td></tr><tr><td>seed_42_reward</td><td>▁▁▁▁▁▁▂▁▁▁▁▂▂▂▂▄▄▄▂▄▅▄▄▁▅▄▂▂▂▄▄▄▃▅▄▆▅▅█▆</td></tr><tr><td>seed_456_episode</td><td>▁▁▁▁▂▂▂▂▂▃▃▃▃▃▃▄▄▄▄▄▄▄▅▅▅▅▅▅▅▆▆▆▇▇▇▇▇███</td></tr><tr><td>seed_456_reward</td><td>▂▂▁▁▁▂▁▂▂▂▂▂▃▃▃▂▂▂▃▃▆▅▅▅▅▅▆▆▆▆█▇▅▆▇▄▅█▆▅</td></tr><tr><td>seed_789_episode</td><td>▁▁▁▁▂▂▂▂▂▂▃▃▃▃▃▃▃▄▄▄▅▅▅▅▅▅▅▅▆▆▆▇▇▇▇▇▇▇██</td></tr><tr><td>seed_789_reward</td><td>▁▁▁▁▁▁▁▂▁▁▂▁▁▃▁▃▁▂▂▁▂▄▅█▆▃▆▃▆▅▄▄▄▆█▆▄▅▅█</td></tr></table><br/></div><div class=\"wandb-col\"><h3>Run summary:</h3><br/><table class=\"wandb\"><tr><td>average_reward_across_seeds</td><td>81.328</td></tr><tr><td>seed_101_episode</td><td>999</td></tr><tr><td>seed_101_reward</td><td>83</td></tr><tr><td>seed_123_episode</td><td>999</td></tr><tr><td>seed_123_reward</td><td>58</td></tr><tr><td>seed_42_episode</td><td>999</td></tr><tr><td>seed_42_reward</td><td>56</td></tr><tr><td>seed_456_episode</td><td>999</td></tr><tr><td>seed_456_reward</td><td>82</td></tr><tr><td>seed_789_episode</td><td>999</td></tr><tr><td>seed_789_reward</td><td>66</td></tr></table><br/></div></div>"
            ]
          },
          "metadata": {}
        },
        {
          "output_type": "display_data",
          "data": {
            "text/plain": [
              "<IPython.core.display.HTML object>"
            ],
            "text/html": [
              " View run <strong style=\"color:#cdcd00\">warm-sweep-23</strong> at: <a href='https://wandb.ai/abhijithvinod-indian-institue-of-technology-madras/RL_CartPole_SARSA/runs/avvy493y' target=\"_blank\">https://wandb.ai/abhijithvinod-indian-institue-of-technology-madras/RL_CartPole_SARSA/runs/avvy493y</a><br> View project at: <a href='https://wandb.ai/abhijithvinod-indian-institue-of-technology-madras/RL_CartPole_SARSA' target=\"_blank\">https://wandb.ai/abhijithvinod-indian-institue-of-technology-madras/RL_CartPole_SARSA</a><br>Synced 5 W&B file(s), 0 media file(s), 0 artifact file(s) and 0 other file(s)"
            ]
          },
          "metadata": {}
        },
        {
          "output_type": "display_data",
          "data": {
            "text/plain": [
              "<IPython.core.display.HTML object>"
            ],
            "text/html": [
              "Find logs at: <code>./wandb/run-20250331_143952-avvy493y/logs</code>"
            ]
          },
          "metadata": {}
        },
        {
          "output_type": "stream",
          "name": "stderr",
          "text": [
            "\u001b[34m\u001b[1mwandb\u001b[0m: Agent Starting Run: yhvbbjel with config:\n",
            "\u001b[34m\u001b[1mwandb\u001b[0m: \talpha: 0.3741969225103649\n",
            "\u001b[34m\u001b[1mwandb\u001b[0m: \tepsilon: 0.187561095372338\n",
            "\u001b[34m\u001b[1mwandb\u001b[0m: \tgamma: 0.99\n",
            "\u001b[34m\u001b[1mwandb\u001b[0m: \tn_bins: 10\n",
            "\u001b[34m\u001b[1mwandb\u001b[0m: \tn_episodes: 1000\n"
          ]
        },
        {
          "output_type": "display_data",
          "data": {
            "text/plain": [
              "<IPython.core.display.HTML object>"
            ],
            "text/html": [
              "Tracking run with wandb version 0.19.8"
            ]
          },
          "metadata": {}
        },
        {
          "output_type": "display_data",
          "data": {
            "text/plain": [
              "<IPython.core.display.HTML object>"
            ],
            "text/html": [
              "Run data is saved locally in <code>/content/wandb/run-20250331_144024-yhvbbjel</code>"
            ]
          },
          "metadata": {}
        },
        {
          "output_type": "display_data",
          "data": {
            "text/plain": [
              "<IPython.core.display.HTML object>"
            ],
            "text/html": [
              "Syncing run <strong><a href='https://wandb.ai/abhijithvinod-indian-institue-of-technology-madras/RL_CartPole_SARSA/runs/yhvbbjel' target=\"_blank\">dry-sweep-24</a></strong> to <a href='https://wandb.ai/abhijithvinod-indian-institue-of-technology-madras/RL_CartPole_SARSA' target=\"_blank\">Weights & Biases</a> (<a href='https://wandb.me/developer-guide' target=\"_blank\">docs</a>)<br>Sweep page: <a href='https://wandb.ai/abhijithvinod-indian-institue-of-technology-madras/RL_CartPole_SARSA/sweeps/axs367lv' target=\"_blank\">https://wandb.ai/abhijithvinod-indian-institue-of-technology-madras/RL_CartPole_SARSA/sweeps/axs367lv</a>"
            ]
          },
          "metadata": {}
        },
        {
          "output_type": "display_data",
          "data": {
            "text/plain": [
              "<IPython.core.display.HTML object>"
            ],
            "text/html": [
              " View project at <a href='https://wandb.ai/abhijithvinod-indian-institue-of-technology-madras/RL_CartPole_SARSA' target=\"_blank\">https://wandb.ai/abhijithvinod-indian-institue-of-technology-madras/RL_CartPole_SARSA</a>"
            ]
          },
          "metadata": {}
        },
        {
          "output_type": "display_data",
          "data": {
            "text/plain": [
              "<IPython.core.display.HTML object>"
            ],
            "text/html": [
              " View sweep at <a href='https://wandb.ai/abhijithvinod-indian-institue-of-technology-madras/RL_CartPole_SARSA/sweeps/axs367lv' target=\"_blank\">https://wandb.ai/abhijithvinod-indian-institue-of-technology-madras/RL_CartPole_SARSA/sweeps/axs367lv</a>"
            ]
          },
          "metadata": {}
        },
        {
          "output_type": "display_data",
          "data": {
            "text/plain": [
              "<IPython.core.display.HTML object>"
            ],
            "text/html": [
              " View run at <a href='https://wandb.ai/abhijithvinod-indian-institue-of-technology-madras/RL_CartPole_SARSA/runs/yhvbbjel' target=\"_blank\">https://wandb.ai/abhijithvinod-indian-institue-of-technology-madras/RL_CartPole_SARSA/runs/yhvbbjel</a>"
            ]
          },
          "metadata": {}
        },
        {
          "output_type": "display_data",
          "data": {
            "text/plain": [
              "<IPython.core.display.HTML object>"
            ],
            "text/html": []
          },
          "metadata": {}
        },
        {
          "output_type": "display_data",
          "data": {
            "text/plain": [
              "<IPython.core.display.HTML object>"
            ],
            "text/html": [
              "<br>    <style><br>        .wandb-row {<br>            display: flex;<br>            flex-direction: row;<br>            flex-wrap: wrap;<br>            justify-content: flex-start;<br>            width: 100%;<br>        }<br>        .wandb-col {<br>            display: flex;<br>            flex-direction: column;<br>            flex-basis: 100%;<br>            flex: 1;<br>            padding: 10px;<br>        }<br>    </style><br><div class=\"wandb-row\"><div class=\"wandb-col\"><h3>Run history:</h3><br/><table class=\"wandb\"><tr><td>average_reward_across_seeds</td><td>▁</td></tr><tr><td>seed_101_episode</td><td>▁▁▁▂▂▂▂▂▂▂▃▃▃▃▄▄▄▄▄▅▅▅▅▅▅▅▅▆▆▆▆▆▆▇▇▇▇▇██</td></tr><tr><td>seed_101_reward</td><td>▂▂▂▁▁▁▂▃▁▅▃▃▂▃▃▄▃▃▄▇▆▄▅▃▃▂▆▂██▃▄▂▇▆▄▇▃▅▆</td></tr><tr><td>seed_123_episode</td><td>▁▁▁▁▁▂▂▃▃▃▃▃▃▄▄▄▄▄▅▅▅▆▆▆▆▆▆▇▇▇▇▇▇▇██████</td></tr><tr><td>seed_123_reward</td><td>▁▁▁▁▁▁▁▁▁▂▂▁▂▂▂▂▂▂▃▃▃▂▃▁▂▃▃▂▃▃▃▄▂▅▄▁▂▃█▅</td></tr><tr><td>seed_42_episode</td><td>▁▁▁▁▁▂▂▂▂▂▃▃▃▃▃▃▃▃▄▄▄▄▄▅▅▅▅▅▅▆▆▆▆▆▆▇▇███</td></tr><tr><td>seed_42_reward</td><td>▁▁▁▁▁▁▁▁▂▂▅▄▃▃▃▃▃▃▁▃▅▃▃▃▄▃▄█▆▄▅▃▄█▂▄▄▂▂▅</td></tr><tr><td>seed_456_episode</td><td>▁▁▁▂▂▂▂▂▂▂▂▃▃▃▃▃▃▃▃▃▄▄▄▄▄▅▅▆▆▇▇▇▇▇▇▇▇███</td></tr><tr><td>seed_456_reward</td><td>▁▁▁▂▁▂▂▁▅▁▃▅▁▂▃▃▃▂▂▄▃▂▃▃▇▃▁▃▁▃▃▄▃▃▆▃▂█▅▃</td></tr><tr><td>seed_789_episode</td><td>▁▁▁▁▁▂▂▂▂▂▂▃▃▃▃▃▃▄▄▄▄▄▅▅▅▆▆▆▆▆▆▆▆▆▇▇▇▇▇█</td></tr><tr><td>seed_789_reward</td><td>▁▁▁▃▂▁▁▂▅▃▄▄▃▃▄▄▃▂▂█▅▆▄▄▃▄▆▅▂▃█▆▂▆▆▄▇▅█▄</td></tr></table><br/></div><div class=\"wandb-col\"><h3>Run summary:</h3><br/><table class=\"wandb\"><tr><td>average_reward_across_seeds</td><td>90.316</td></tr><tr><td>seed_101_episode</td><td>999</td></tr><tr><td>seed_101_reward</td><td>42</td></tr><tr><td>seed_123_episode</td><td>999</td></tr><tr><td>seed_123_reward</td><td>46</td></tr><tr><td>seed_42_episode</td><td>999</td></tr><tr><td>seed_42_reward</td><td>23</td></tr><tr><td>seed_456_episode</td><td>999</td></tr><tr><td>seed_456_reward</td><td>77</td></tr><tr><td>seed_789_episode</td><td>999</td></tr><tr><td>seed_789_reward</td><td>101</td></tr></table><br/></div></div>"
            ]
          },
          "metadata": {}
        },
        {
          "output_type": "display_data",
          "data": {
            "text/plain": [
              "<IPython.core.display.HTML object>"
            ],
            "text/html": [
              " View run <strong style=\"color:#cdcd00\">dry-sweep-24</strong> at: <a href='https://wandb.ai/abhijithvinod-indian-institue-of-technology-madras/RL_CartPole_SARSA/runs/yhvbbjel' target=\"_blank\">https://wandb.ai/abhijithvinod-indian-institue-of-technology-madras/RL_CartPole_SARSA/runs/yhvbbjel</a><br> View project at: <a href='https://wandb.ai/abhijithvinod-indian-institue-of-technology-madras/RL_CartPole_SARSA' target=\"_blank\">https://wandb.ai/abhijithvinod-indian-institue-of-technology-madras/RL_CartPole_SARSA</a><br>Synced 5 W&B file(s), 0 media file(s), 0 artifact file(s) and 0 other file(s)"
            ]
          },
          "metadata": {}
        },
        {
          "output_type": "display_data",
          "data": {
            "text/plain": [
              "<IPython.core.display.HTML object>"
            ],
            "text/html": [
              "Find logs at: <code>./wandb/run-20250331_144024-yhvbbjel/logs</code>"
            ]
          },
          "metadata": {}
        },
        {
          "output_type": "stream",
          "name": "stderr",
          "text": [
            "\u001b[34m\u001b[1mwandb\u001b[0m: Agent Starting Run: vtmh2zqs with config:\n",
            "\u001b[34m\u001b[1mwandb\u001b[0m: \talpha: 0.14860445595276958\n",
            "\u001b[34m\u001b[1mwandb\u001b[0m: \tepsilon: 0.14940723609827686\n",
            "\u001b[34m\u001b[1mwandb\u001b[0m: \tgamma: 0.99\n",
            "\u001b[34m\u001b[1mwandb\u001b[0m: \tn_bins: 15\n",
            "\u001b[34m\u001b[1mwandb\u001b[0m: \tn_episodes: 1000\n"
          ]
        },
        {
          "output_type": "display_data",
          "data": {
            "text/plain": [
              "<IPython.core.display.HTML object>"
            ],
            "text/html": [
              "Tracking run with wandb version 0.19.8"
            ]
          },
          "metadata": {}
        },
        {
          "output_type": "display_data",
          "data": {
            "text/plain": [
              "<IPython.core.display.HTML object>"
            ],
            "text/html": [
              "Run data is saved locally in <code>/content/wandb/run-20250331_144104-vtmh2zqs</code>"
            ]
          },
          "metadata": {}
        },
        {
          "output_type": "display_data",
          "data": {
            "text/plain": [
              "<IPython.core.display.HTML object>"
            ],
            "text/html": [
              "Syncing run <strong><a href='https://wandb.ai/abhijithvinod-indian-institue-of-technology-madras/RL_CartPole_SARSA/runs/vtmh2zqs' target=\"_blank\">treasured-sweep-25</a></strong> to <a href='https://wandb.ai/abhijithvinod-indian-institue-of-technology-madras/RL_CartPole_SARSA' target=\"_blank\">Weights & Biases</a> (<a href='https://wandb.me/developer-guide' target=\"_blank\">docs</a>)<br>Sweep page: <a href='https://wandb.ai/abhijithvinod-indian-institue-of-technology-madras/RL_CartPole_SARSA/sweeps/axs367lv' target=\"_blank\">https://wandb.ai/abhijithvinod-indian-institue-of-technology-madras/RL_CartPole_SARSA/sweeps/axs367lv</a>"
            ]
          },
          "metadata": {}
        },
        {
          "output_type": "display_data",
          "data": {
            "text/plain": [
              "<IPython.core.display.HTML object>"
            ],
            "text/html": [
              " View project at <a href='https://wandb.ai/abhijithvinod-indian-institue-of-technology-madras/RL_CartPole_SARSA' target=\"_blank\">https://wandb.ai/abhijithvinod-indian-institue-of-technology-madras/RL_CartPole_SARSA</a>"
            ]
          },
          "metadata": {}
        },
        {
          "output_type": "display_data",
          "data": {
            "text/plain": [
              "<IPython.core.display.HTML object>"
            ],
            "text/html": [
              " View sweep at <a href='https://wandb.ai/abhijithvinod-indian-institue-of-technology-madras/RL_CartPole_SARSA/sweeps/axs367lv' target=\"_blank\">https://wandb.ai/abhijithvinod-indian-institue-of-technology-madras/RL_CartPole_SARSA/sweeps/axs367lv</a>"
            ]
          },
          "metadata": {}
        },
        {
          "output_type": "display_data",
          "data": {
            "text/plain": [
              "<IPython.core.display.HTML object>"
            ],
            "text/html": [
              " View run at <a href='https://wandb.ai/abhijithvinod-indian-institue-of-technology-madras/RL_CartPole_SARSA/runs/vtmh2zqs' target=\"_blank\">https://wandb.ai/abhijithvinod-indian-institue-of-technology-madras/RL_CartPole_SARSA/runs/vtmh2zqs</a>"
            ]
          },
          "metadata": {}
        },
        {
          "output_type": "display_data",
          "data": {
            "text/plain": [
              "<IPython.core.display.HTML object>"
            ],
            "text/html": []
          },
          "metadata": {}
        },
        {
          "output_type": "display_data",
          "data": {
            "text/plain": [
              "<IPython.core.display.HTML object>"
            ],
            "text/html": [
              "<br>    <style><br>        .wandb-row {<br>            display: flex;<br>            flex-direction: row;<br>            flex-wrap: wrap;<br>            justify-content: flex-start;<br>            width: 100%;<br>        }<br>        .wandb-col {<br>            display: flex;<br>            flex-direction: column;<br>            flex-basis: 100%;<br>            flex: 1;<br>            padding: 10px;<br>        }<br>    </style><br><div class=\"wandb-row\"><div class=\"wandb-col\"><h3>Run history:</h3><br/><table class=\"wandb\"><tr><td>average_reward_across_seeds</td><td>▁</td></tr><tr><td>seed_101_episode</td><td>▁▁▁▁▂▂▂▂▂▂▂▃▃▃▃▃▃▄▄▄▄▄▅▅▅▅▅▆▆▆▇▇▇▇▇▇▇███</td></tr><tr><td>seed_101_reward</td><td>▁▁▁▁▁▅▁▁▁▁▁▁▅▁▁▁▁▁▁▁▁▁▁▁▁▃▁▁▁▁▁▂▁█▁▁▄▂▃▁</td></tr><tr><td>seed_123_episode</td><td>▁▁▁▂▂▂▂▂▂▂▃▃▃▃▃▄▄▄▄▄▅▅▅▅▆▆▆▆▆▇▇▇▇▇▇▇▇▇▇█</td></tr><tr><td>seed_123_reward</td><td>▄▃▂▄▅▁▅▂▂▂▄█▄▃▂▄▂▂▂▂▂▂▂▁▄▅▄▂▄▆▂▃▂▂▄▇▄▂▅▅</td></tr><tr><td>seed_42_episode</td><td>▁▁▁▂▂▂▂▂▂▃▃▃▃▃▃▄▄▄▄▄▄▄▅▅▅▅▅▆▆▆▆▆▇▇▇▇▇▇▇█</td></tr><tr><td>seed_42_reward</td><td>▁▂▂▁▁▁▁▃▁▁▁▁█▁▂▁▁▆▅▃▅▂▂▅▃▃▃▅▂▅▁▁▅▁▄▅▄█▁▅</td></tr><tr><td>seed_456_episode</td><td>▁▁▁▁▂▂▂▂▃▃▃▃▃▃▃▄▄▄▄▄▅▅▅▅▆▆▆▆▆▆▆▇▇▇▇▇▇▇▇█</td></tr><tr><td>seed_456_reward</td><td>▂▁▁▂▁▁▁▁▁▁▁▂▁▁▁▁▁▂▁▁▁▁▁▂▁▁▁▄▁▁▁▂▁▁▂▁▁▁▅█</td></tr><tr><td>seed_789_episode</td><td>▁▁▁▂▂▂▂▂▂▂▃▃▃▃▃▄▄▄▄▄▅▅▅▅▅▆▆▆▆▆▆▆▆▆▆▇▇▇▇█</td></tr><tr><td>seed_789_reward</td><td>▁▁▂▂▃█▂▂▃▁▂▂▁▁▁▁▂▄▃▁▃▃▁▂▁▁▃▂▁▂▂▂▂▂▃▃▂▂▂▃</td></tr></table><br/></div><div class=\"wandb-col\"><h3>Run summary:</h3><br/><table class=\"wandb\"><tr><td>average_reward_across_seeds</td><td>34.204</td></tr><tr><td>seed_101_episode</td><td>999</td></tr><tr><td>seed_101_reward</td><td>14</td></tr><tr><td>seed_123_episode</td><td>999</td></tr><tr><td>seed_123_reward</td><td>10</td></tr><tr><td>seed_42_episode</td><td>999</td></tr><tr><td>seed_42_reward</td><td>75</td></tr><tr><td>seed_456_episode</td><td>999</td></tr><tr><td>seed_456_reward</td><td>40</td></tr><tr><td>seed_789_episode</td><td>999</td></tr><tr><td>seed_789_reward</td><td>12</td></tr></table><br/></div></div>"
            ]
          },
          "metadata": {}
        },
        {
          "output_type": "display_data",
          "data": {
            "text/plain": [
              "<IPython.core.display.HTML object>"
            ],
            "text/html": [
              " View run <strong style=\"color:#cdcd00\">treasured-sweep-25</strong> at: <a href='https://wandb.ai/abhijithvinod-indian-institue-of-technology-madras/RL_CartPole_SARSA/runs/vtmh2zqs' target=\"_blank\">https://wandb.ai/abhijithvinod-indian-institue-of-technology-madras/RL_CartPole_SARSA/runs/vtmh2zqs</a><br> View project at: <a href='https://wandb.ai/abhijithvinod-indian-institue-of-technology-madras/RL_CartPole_SARSA' target=\"_blank\">https://wandb.ai/abhijithvinod-indian-institue-of-technology-madras/RL_CartPole_SARSA</a><br>Synced 5 W&B file(s), 0 media file(s), 0 artifact file(s) and 0 other file(s)"
            ]
          },
          "metadata": {}
        },
        {
          "output_type": "display_data",
          "data": {
            "text/plain": [
              "<IPython.core.display.HTML object>"
            ],
            "text/html": [
              "Find logs at: <code>./wandb/run-20250331_144104-vtmh2zqs/logs</code>"
            ]
          },
          "metadata": {}
        },
        {
          "output_type": "stream",
          "name": "stderr",
          "text": [
            "\u001b[34m\u001b[1mwandb\u001b[0m: Agent Starting Run: 1uqpmfwt with config:\n",
            "\u001b[34m\u001b[1mwandb\u001b[0m: \talpha: 0.28461540176535627\n",
            "\u001b[34m\u001b[1mwandb\u001b[0m: \tepsilon: 0.10413347767383407\n",
            "\u001b[34m\u001b[1mwandb\u001b[0m: \tgamma: 0.99\n",
            "\u001b[34m\u001b[1mwandb\u001b[0m: \tn_bins: 15\n",
            "\u001b[34m\u001b[1mwandb\u001b[0m: \tn_episodes: 1000\n"
          ]
        },
        {
          "output_type": "display_data",
          "data": {
            "text/plain": [
              "<IPython.core.display.HTML object>"
            ],
            "text/html": [
              "Tracking run with wandb version 0.19.8"
            ]
          },
          "metadata": {}
        },
        {
          "output_type": "display_data",
          "data": {
            "text/plain": [
              "<IPython.core.display.HTML object>"
            ],
            "text/html": [
              "Run data is saved locally in <code>/content/wandb/run-20250331_144125-1uqpmfwt</code>"
            ]
          },
          "metadata": {}
        },
        {
          "output_type": "display_data",
          "data": {
            "text/plain": [
              "<IPython.core.display.HTML object>"
            ],
            "text/html": [
              "Syncing run <strong><a href='https://wandb.ai/abhijithvinod-indian-institue-of-technology-madras/RL_CartPole_SARSA/runs/1uqpmfwt' target=\"_blank\">zany-sweep-26</a></strong> to <a href='https://wandb.ai/abhijithvinod-indian-institue-of-technology-madras/RL_CartPole_SARSA' target=\"_blank\">Weights & Biases</a> (<a href='https://wandb.me/developer-guide' target=\"_blank\">docs</a>)<br>Sweep page: <a href='https://wandb.ai/abhijithvinod-indian-institue-of-technology-madras/RL_CartPole_SARSA/sweeps/axs367lv' target=\"_blank\">https://wandb.ai/abhijithvinod-indian-institue-of-technology-madras/RL_CartPole_SARSA/sweeps/axs367lv</a>"
            ]
          },
          "metadata": {}
        },
        {
          "output_type": "display_data",
          "data": {
            "text/plain": [
              "<IPython.core.display.HTML object>"
            ],
            "text/html": [
              " View project at <a href='https://wandb.ai/abhijithvinod-indian-institue-of-technology-madras/RL_CartPole_SARSA' target=\"_blank\">https://wandb.ai/abhijithvinod-indian-institue-of-technology-madras/RL_CartPole_SARSA</a>"
            ]
          },
          "metadata": {}
        },
        {
          "output_type": "display_data",
          "data": {
            "text/plain": [
              "<IPython.core.display.HTML object>"
            ],
            "text/html": [
              " View sweep at <a href='https://wandb.ai/abhijithvinod-indian-institue-of-technology-madras/RL_CartPole_SARSA/sweeps/axs367lv' target=\"_blank\">https://wandb.ai/abhijithvinod-indian-institue-of-technology-madras/RL_CartPole_SARSA/sweeps/axs367lv</a>"
            ]
          },
          "metadata": {}
        },
        {
          "output_type": "display_data",
          "data": {
            "text/plain": [
              "<IPython.core.display.HTML object>"
            ],
            "text/html": [
              " View run at <a href='https://wandb.ai/abhijithvinod-indian-institue-of-technology-madras/RL_CartPole_SARSA/runs/1uqpmfwt' target=\"_blank\">https://wandb.ai/abhijithvinod-indian-institue-of-technology-madras/RL_CartPole_SARSA/runs/1uqpmfwt</a>"
            ]
          },
          "metadata": {}
        },
        {
          "output_type": "display_data",
          "data": {
            "text/plain": [
              "<IPython.core.display.HTML object>"
            ],
            "text/html": []
          },
          "metadata": {}
        },
        {
          "output_type": "display_data",
          "data": {
            "text/plain": [
              "<IPython.core.display.HTML object>"
            ],
            "text/html": [
              "<br>    <style><br>        .wandb-row {<br>            display: flex;<br>            flex-direction: row;<br>            flex-wrap: wrap;<br>            justify-content: flex-start;<br>            width: 100%;<br>        }<br>        .wandb-col {<br>            display: flex;<br>            flex-direction: column;<br>            flex-basis: 100%;<br>            flex: 1;<br>            padding: 10px;<br>        }<br>    </style><br><div class=\"wandb-row\"><div class=\"wandb-col\"><h3>Run history:</h3><br/><table class=\"wandb\"><tr><td>average_reward_across_seeds</td><td>▁</td></tr><tr><td>seed_101_episode</td><td>▁▁▂▂▂▂▂▃▃▃▃▃▃▃▄▄▄▄▄▄▄▅▅▅▅▅▆▆▆▆▇▇▇▇▇▇▇▇██</td></tr><tr><td>seed_101_reward</td><td>▁▁▁▁▁▁▁▁▁▁▁▁▁▁▁▁▁▁▁▁▁▄▄▁▂▂▂▃▂▅█▄▄▆▅▃▄▃▆▇</td></tr><tr><td>seed_123_episode</td><td>▁▁▁▁▁▂▂▂▂▂▃▃▃▃▃▄▄▄▄▄▄▅▅▅▅▅▆▆▆▇▇▇▇▇▇█████</td></tr><tr><td>seed_123_reward</td><td>▁▁▁▁▁▁▁▁▁▁▁▁▁▂▁▁▁▁▂▁▁▁▁▁▁▁▁▁▁▁▁▆▆▄▆▂▁▁▁█</td></tr><tr><td>seed_42_episode</td><td>▁▁▁▁▁▂▂▂▃▃▃▃▃▃▃▄▄▄▄▄▅▅▅▅▅▆▆▆▆▇▇▇▇▇██████</td></tr><tr><td>seed_42_reward</td><td>▁▁▁▁▁▁▁▁▁▁▁▁▁▁▁▁▁▁▁▁▁▁▁▁▁▅▁█▃▂▃▂▆▁▃▃▁▂▄▂</td></tr><tr><td>seed_456_episode</td><td>▁▁▁▂▂▂▂▂▂▂▃▃▃▃▃▃▄▄▄▄▄▅▅▅▆▆▆▆▆▆▆▇▇▇▇▇████</td></tr><tr><td>seed_456_reward</td><td>▁▁▁▁▁▁▁▁▁▁▁▁▃▁▁▂▁▁▁▁▁▄▂▃▂▅▆▂█▃▆▁▂▂▂▁▃▃▃▃</td></tr><tr><td>seed_789_episode</td><td>▁▁▁▁▂▂▂▂▂▃▃▃▃▃▃▃▃▃▃▃▄▄▄▄▄▅▅▆▆▆▇▇▇▇▇▇▇███</td></tr><tr><td>seed_789_reward</td><td>▁▁▁▁▁▁▁▁▁▁▁▁▁▁▁▁▁▁▂▁▂▁▁▁▁▂▂▁▂▁▂▂▁▂▂▂█▂▂▂</td></tr></table><br/></div><div class=\"wandb-col\"><h3>Run summary:</h3><br/><table class=\"wandb\"><tr><td>average_reward_across_seeds</td><td>63.936</td></tr><tr><td>seed_101_episode</td><td>999</td></tr><tr><td>seed_101_reward</td><td>38</td></tr><tr><td>seed_123_episode</td><td>999</td></tr><tr><td>seed_123_reward</td><td>17</td></tr><tr><td>seed_42_episode</td><td>999</td></tr><tr><td>seed_42_reward</td><td>73</td></tr><tr><td>seed_456_episode</td><td>999</td></tr><tr><td>seed_456_reward</td><td>53</td></tr><tr><td>seed_789_episode</td><td>999</td></tr><tr><td>seed_789_reward</td><td>47</td></tr></table><br/></div></div>"
            ]
          },
          "metadata": {}
        },
        {
          "output_type": "display_data",
          "data": {
            "text/plain": [
              "<IPython.core.display.HTML object>"
            ],
            "text/html": [
              " View run <strong style=\"color:#cdcd00\">zany-sweep-26</strong> at: <a href='https://wandb.ai/abhijithvinod-indian-institue-of-technology-madras/RL_CartPole_SARSA/runs/1uqpmfwt' target=\"_blank\">https://wandb.ai/abhijithvinod-indian-institue-of-technology-madras/RL_CartPole_SARSA/runs/1uqpmfwt</a><br> View project at: <a href='https://wandb.ai/abhijithvinod-indian-institue-of-technology-madras/RL_CartPole_SARSA' target=\"_blank\">https://wandb.ai/abhijithvinod-indian-institue-of-technology-madras/RL_CartPole_SARSA</a><br>Synced 5 W&B file(s), 0 media file(s), 0 artifact file(s) and 0 other file(s)"
            ]
          },
          "metadata": {}
        },
        {
          "output_type": "display_data",
          "data": {
            "text/plain": [
              "<IPython.core.display.HTML object>"
            ],
            "text/html": [
              "Find logs at: <code>./wandb/run-20250331_144125-1uqpmfwt/logs</code>"
            ]
          },
          "metadata": {}
        },
        {
          "output_type": "stream",
          "name": "stderr",
          "text": [
            "\u001b[34m\u001b[1mwandb\u001b[0m: Agent Starting Run: wkw13jy7 with config:\n",
            "\u001b[34m\u001b[1mwandb\u001b[0m: \talpha: 0.0886011117833053\n",
            "\u001b[34m\u001b[1mwandb\u001b[0m: \tepsilon: 0.19741126101573703\n",
            "\u001b[34m\u001b[1mwandb\u001b[0m: \tgamma: 0.99\n",
            "\u001b[34m\u001b[1mwandb\u001b[0m: \tn_bins: 15\n",
            "\u001b[34m\u001b[1mwandb\u001b[0m: \tn_episodes: 1000\n"
          ]
        },
        {
          "output_type": "display_data",
          "data": {
            "text/plain": [
              "<IPython.core.display.HTML object>"
            ],
            "text/html": [
              "Tracking run with wandb version 0.19.8"
            ]
          },
          "metadata": {}
        },
        {
          "output_type": "display_data",
          "data": {
            "text/plain": [
              "<IPython.core.display.HTML object>"
            ],
            "text/html": [
              "Run data is saved locally in <code>/content/wandb/run-20250331_144150-wkw13jy7</code>"
            ]
          },
          "metadata": {}
        },
        {
          "output_type": "display_data",
          "data": {
            "text/plain": [
              "<IPython.core.display.HTML object>"
            ],
            "text/html": [
              "Syncing run <strong><a href='https://wandb.ai/abhijithvinod-indian-institue-of-technology-madras/RL_CartPole_SARSA/runs/wkw13jy7' target=\"_blank\">amber-sweep-27</a></strong> to <a href='https://wandb.ai/abhijithvinod-indian-institue-of-technology-madras/RL_CartPole_SARSA' target=\"_blank\">Weights & Biases</a> (<a href='https://wandb.me/developer-guide' target=\"_blank\">docs</a>)<br>Sweep page: <a href='https://wandb.ai/abhijithvinod-indian-institue-of-technology-madras/RL_CartPole_SARSA/sweeps/axs367lv' target=\"_blank\">https://wandb.ai/abhijithvinod-indian-institue-of-technology-madras/RL_CartPole_SARSA/sweeps/axs367lv</a>"
            ]
          },
          "metadata": {}
        },
        {
          "output_type": "display_data",
          "data": {
            "text/plain": [
              "<IPython.core.display.HTML object>"
            ],
            "text/html": [
              " View project at <a href='https://wandb.ai/abhijithvinod-indian-institue-of-technology-madras/RL_CartPole_SARSA' target=\"_blank\">https://wandb.ai/abhijithvinod-indian-institue-of-technology-madras/RL_CartPole_SARSA</a>"
            ]
          },
          "metadata": {}
        },
        {
          "output_type": "display_data",
          "data": {
            "text/plain": [
              "<IPython.core.display.HTML object>"
            ],
            "text/html": [
              " View sweep at <a href='https://wandb.ai/abhijithvinod-indian-institue-of-technology-madras/RL_CartPole_SARSA/sweeps/axs367lv' target=\"_blank\">https://wandb.ai/abhijithvinod-indian-institue-of-technology-madras/RL_CartPole_SARSA/sweeps/axs367lv</a>"
            ]
          },
          "metadata": {}
        },
        {
          "output_type": "display_data",
          "data": {
            "text/plain": [
              "<IPython.core.display.HTML object>"
            ],
            "text/html": [
              " View run at <a href='https://wandb.ai/abhijithvinod-indian-institue-of-technology-madras/RL_CartPole_SARSA/runs/wkw13jy7' target=\"_blank\">https://wandb.ai/abhijithvinod-indian-institue-of-technology-madras/RL_CartPole_SARSA/runs/wkw13jy7</a>"
            ]
          },
          "metadata": {}
        },
        {
          "output_type": "display_data",
          "data": {
            "text/plain": [
              "<IPython.core.display.HTML object>"
            ],
            "text/html": []
          },
          "metadata": {}
        },
        {
          "output_type": "display_data",
          "data": {
            "text/plain": [
              "<IPython.core.display.HTML object>"
            ],
            "text/html": [
              "<br>    <style><br>        .wandb-row {<br>            display: flex;<br>            flex-direction: row;<br>            flex-wrap: wrap;<br>            justify-content: flex-start;<br>            width: 100%;<br>        }<br>        .wandb-col {<br>            display: flex;<br>            flex-direction: column;<br>            flex-basis: 100%;<br>            flex: 1;<br>            padding: 10px;<br>        }<br>    </style><br><div class=\"wandb-row\"><div class=\"wandb-col\"><h3>Run history:</h3><br/><table class=\"wandb\"><tr><td>average_reward_across_seeds</td><td>▁</td></tr><tr><td>seed_101_episode</td><td>▁▁▁▁▁▁▂▂▂▂▂▂▂▂▂▂▂▂▃▃▃▃▃▄▄▄▄▅▅▅▅▅▅▆▆▇▇▇██</td></tr><tr><td>seed_101_reward</td><td>▁▁▂▂▁▃▂▁▁▁▇▁▁▁▃█▁▂▂▃▁▆▄▁▃▁▁▃▁▁▂▃▆▃▁▃▆▃▅█</td></tr><tr><td>seed_123_episode</td><td>▁▁▁▁▁▁▂▂▂▃▃▃▄▄▄▄▄▄▅▅▅▅▅▆▆▆▆▆▆▇▇▇▇▇▇▇▇▇██</td></tr><tr><td>seed_123_reward</td><td>▁▁▃▁▂▆▁▁▁▁▁▂▁▃▁▁▁▁▁▅▁▂▂▂▁▁▂▁▁▂▁█▁▁▂▂▁▂▃▁</td></tr><tr><td>seed_42_episode</td><td>▁▁▁▂▂▂▂▂▂▂▃▃▃▃▃▄▄▄▄▄▄▄▄▄▄▆▆▆▆▆▇▇▇▇▇▇▇███</td></tr><tr><td>seed_42_reward</td><td>▂▃▂▂▂▃▃▂▃▁▆▃▄▁▂▄▂▂▃▂▁▂▁▂▃▁▂▃▄▃▄▂▂▇▃▄▅▂▂█</td></tr><tr><td>seed_456_episode</td><td>▁▁▁▁▁▁▂▂▂▂▂▃▃▃▃▃▄▄▄▄▅▅▅▅▅▅▆▆▆▆▆▆▆▆▇▇▇▇▇█</td></tr><tr><td>seed_456_reward</td><td>▃▇▂▃▂▁▁▂▂▂▂▁▆▁▂▁▆▂▁▂▃▂▁▁▁▂▁▁▂█▃▂▂▁▁▁▂▂▂▂</td></tr><tr><td>seed_789_episode</td><td>▁▁▁▁▁▂▂▂▂▂▃▃▃▃▄▄▄▅▅▅▅▅▅▆▆▆▆▆▆▆▇▇▇▇▇█████</td></tr><tr><td>seed_789_reward</td><td>▁▃▄▅▃▅▃▄▃▃▃▁▅▅▅▃▅▄▄▆▅▅▅▅▅▂█▂▇▄▇▄▄▅▅▅▄▄▃▃</td></tr></table><br/></div><div class=\"wandb-col\"><h3>Run summary:</h3><br/><table class=\"wandb\"><tr><td>average_reward_across_seeds</td><td>18.876</td></tr><tr><td>seed_101_episode</td><td>999</td></tr><tr><td>seed_101_reward</td><td>93</td></tr><tr><td>seed_123_episode</td><td>999</td></tr><tr><td>seed_123_reward</td><td>14</td></tr><tr><td>seed_42_episode</td><td>999</td></tr><tr><td>seed_42_reward</td><td>11</td></tr><tr><td>seed_456_episode</td><td>999</td></tr><tr><td>seed_456_reward</td><td>16</td></tr><tr><td>seed_789_episode</td><td>999</td></tr><tr><td>seed_789_reward</td><td>11</td></tr></table><br/></div></div>"
            ]
          },
          "metadata": {}
        },
        {
          "output_type": "display_data",
          "data": {
            "text/plain": [
              "<IPython.core.display.HTML object>"
            ],
            "text/html": [
              " View run <strong style=\"color:#cdcd00\">amber-sweep-27</strong> at: <a href='https://wandb.ai/abhijithvinod-indian-institue-of-technology-madras/RL_CartPole_SARSA/runs/wkw13jy7' target=\"_blank\">https://wandb.ai/abhijithvinod-indian-institue-of-technology-madras/RL_CartPole_SARSA/runs/wkw13jy7</a><br> View project at: <a href='https://wandb.ai/abhijithvinod-indian-institue-of-technology-madras/RL_CartPole_SARSA' target=\"_blank\">https://wandb.ai/abhijithvinod-indian-institue-of-technology-madras/RL_CartPole_SARSA</a><br>Synced 5 W&B file(s), 0 media file(s), 0 artifact file(s) and 0 other file(s)"
            ]
          },
          "metadata": {}
        },
        {
          "output_type": "display_data",
          "data": {
            "text/plain": [
              "<IPython.core.display.HTML object>"
            ],
            "text/html": [
              "Find logs at: <code>./wandb/run-20250331_144150-wkw13jy7/logs</code>"
            ]
          },
          "metadata": {}
        },
        {
          "output_type": "stream",
          "name": "stderr",
          "text": [
            "\u001b[34m\u001b[1mwandb\u001b[0m: Agent Starting Run: h80j44ol with config:\n",
            "\u001b[34m\u001b[1mwandb\u001b[0m: \talpha: 0.4148597381601265\n",
            "\u001b[34m\u001b[1mwandb\u001b[0m: \tepsilon: 0.06081796301175036\n",
            "\u001b[34m\u001b[1mwandb\u001b[0m: \tgamma: 0.99\n",
            "\u001b[34m\u001b[1mwandb\u001b[0m: \tn_bins: 10\n",
            "\u001b[34m\u001b[1mwandb\u001b[0m: \tn_episodes: 1000\n"
          ]
        },
        {
          "output_type": "display_data",
          "data": {
            "text/plain": [
              "<IPython.core.display.HTML object>"
            ],
            "text/html": [
              "Tracking run with wandb version 0.19.8"
            ]
          },
          "metadata": {}
        },
        {
          "output_type": "display_data",
          "data": {
            "text/plain": [
              "<IPython.core.display.HTML object>"
            ],
            "text/html": [
              "Run data is saved locally in <code>/content/wandb/run-20250331_144206-h80j44ol</code>"
            ]
          },
          "metadata": {}
        },
        {
          "output_type": "display_data",
          "data": {
            "text/plain": [
              "<IPython.core.display.HTML object>"
            ],
            "text/html": [
              "Syncing run <strong><a href='https://wandb.ai/abhijithvinod-indian-institue-of-technology-madras/RL_CartPole_SARSA/runs/h80j44ol' target=\"_blank\">solar-sweep-28</a></strong> to <a href='https://wandb.ai/abhijithvinod-indian-institue-of-technology-madras/RL_CartPole_SARSA' target=\"_blank\">Weights & Biases</a> (<a href='https://wandb.me/developer-guide' target=\"_blank\">docs</a>)<br>Sweep page: <a href='https://wandb.ai/abhijithvinod-indian-institue-of-technology-madras/RL_CartPole_SARSA/sweeps/axs367lv' target=\"_blank\">https://wandb.ai/abhijithvinod-indian-institue-of-technology-madras/RL_CartPole_SARSA/sweeps/axs367lv</a>"
            ]
          },
          "metadata": {}
        },
        {
          "output_type": "display_data",
          "data": {
            "text/plain": [
              "<IPython.core.display.HTML object>"
            ],
            "text/html": [
              " View project at <a href='https://wandb.ai/abhijithvinod-indian-institue-of-technology-madras/RL_CartPole_SARSA' target=\"_blank\">https://wandb.ai/abhijithvinod-indian-institue-of-technology-madras/RL_CartPole_SARSA</a>"
            ]
          },
          "metadata": {}
        },
        {
          "output_type": "display_data",
          "data": {
            "text/plain": [
              "<IPython.core.display.HTML object>"
            ],
            "text/html": [
              " View sweep at <a href='https://wandb.ai/abhijithvinod-indian-institue-of-technology-madras/RL_CartPole_SARSA/sweeps/axs367lv' target=\"_blank\">https://wandb.ai/abhijithvinod-indian-institue-of-technology-madras/RL_CartPole_SARSA/sweeps/axs367lv</a>"
            ]
          },
          "metadata": {}
        },
        {
          "output_type": "display_data",
          "data": {
            "text/plain": [
              "<IPython.core.display.HTML object>"
            ],
            "text/html": [
              " View run at <a href='https://wandb.ai/abhijithvinod-indian-institue-of-technology-madras/RL_CartPole_SARSA/runs/h80j44ol' target=\"_blank\">https://wandb.ai/abhijithvinod-indian-institue-of-technology-madras/RL_CartPole_SARSA/runs/h80j44ol</a>"
            ]
          },
          "metadata": {}
        },
        {
          "output_type": "display_data",
          "data": {
            "text/plain": [
              "<IPython.core.display.HTML object>"
            ],
            "text/html": []
          },
          "metadata": {}
        },
        {
          "output_type": "display_data",
          "data": {
            "text/plain": [
              "<IPython.core.display.HTML object>"
            ],
            "text/html": [
              "<br>    <style><br>        .wandb-row {<br>            display: flex;<br>            flex-direction: row;<br>            flex-wrap: wrap;<br>            justify-content: flex-start;<br>            width: 100%;<br>        }<br>        .wandb-col {<br>            display: flex;<br>            flex-direction: column;<br>            flex-basis: 100%;<br>            flex: 1;<br>            padding: 10px;<br>        }<br>    </style><br><div class=\"wandb-row\"><div class=\"wandb-col\"><h3>Run history:</h3><br/><table class=\"wandb\"><tr><td>average_reward_across_seeds</td><td>▁</td></tr><tr><td>seed_101_episode</td><td>▁▁▁▁▁▁▁▂▂▂▂▂▃▃▃▃▃▄▄▄▅▅▅▅▅▅▆▆▆▇▇▇▇▇▇▇████</td></tr><tr><td>seed_101_reward</td><td>▁▁▁▁▁▁▁▁▁▁▁▁▁▁▃▃▃█▃▄▂▂▃▂▂▃▃▃▃▃▂▂▃▃▃▃▃▂▂▂</td></tr><tr><td>seed_123_episode</td><td>▁▁▁▁▂▂▂▂▂▂▃▃▃▃▄▄▄▄▄▄▄▄▄▅▅▅▅▅▆▆▆▆▆▇▇▇▇▇▇█</td></tr><tr><td>seed_123_reward</td><td>▁▁▁▂▆▂▁▁▁▁▂▁▅▄▂▅▇█▅▄▅▄▆▂▃▄▄▆▅▆▇▄▄▇▇▇▇▆▇█</td></tr><tr><td>seed_42_episode</td><td>▁▁▁▁▂▂▂▂▂▂▃▃▃▃▄▄▄▄▄▄▅▅▅▅▅▆▆▆▆▆▆▆▆▇▇▇▇███</td></tr><tr><td>seed_42_reward</td><td>▁▁▁▁▁▁▁▁▁▁▂▃▁▂▁▅▄▁▇▅▃█▃▆▅█▄▆▇█▅▅▆▅█▆▆▇▃▅</td></tr><tr><td>seed_456_episode</td><td>▁▁▁▂▂▂▂▂▂▂▃▃▃▃▃▄▄▄▄▄▅▅▅▅▅▆▆▆▆▆▇▇▇▇▇█████</td></tr><tr><td>seed_456_reward</td><td>▁▁▁▁▁▁▁▁▁▁▁▁▁▂▂▂▂▂▁▁▂▃▁▂▂▃▃▄▅▃▂██▃▁▄▆▅▂█</td></tr><tr><td>seed_789_episode</td><td>▁▂▂▂▂▃▃▃▃▃▃▄▄▄▄▄▄▅▅▅▅▅▅▅▅▆▆▆▆▆▆▇▇▇▇▇████</td></tr><tr><td>seed_789_reward</td><td>▁▂▁▂▅▅▆▅▃▆▁▂▃▅▅▅▇▅▁▃▅▇▄▆▆▆▅▅█▅▆█▇▃▄▆▄▅▅▆</td></tr></table><br/></div><div class=\"wandb-col\"><h3>Run summary:</h3><br/><table class=\"wandb\"><tr><td>average_reward_across_seeds</td><td>66.004</td></tr><tr><td>seed_101_episode</td><td>999</td></tr><tr><td>seed_101_reward</td><td>69</td></tr><tr><td>seed_123_episode</td><td>999</td></tr><tr><td>seed_123_reward</td><td>55</td></tr><tr><td>seed_42_episode</td><td>999</td></tr><tr><td>seed_42_reward</td><td>69</td></tr><tr><td>seed_456_episode</td><td>999</td></tr><tr><td>seed_456_reward</td><td>32</td></tr><tr><td>seed_789_episode</td><td>999</td></tr><tr><td>seed_789_reward</td><td>93</td></tr></table><br/></div></div>"
            ]
          },
          "metadata": {}
        },
        {
          "output_type": "display_data",
          "data": {
            "text/plain": [
              "<IPython.core.display.HTML object>"
            ],
            "text/html": [
              " View run <strong style=\"color:#cdcd00\">solar-sweep-28</strong> at: <a href='https://wandb.ai/abhijithvinod-indian-institue-of-technology-madras/RL_CartPole_SARSA/runs/h80j44ol' target=\"_blank\">https://wandb.ai/abhijithvinod-indian-institue-of-technology-madras/RL_CartPole_SARSA/runs/h80j44ol</a><br> View project at: <a href='https://wandb.ai/abhijithvinod-indian-institue-of-technology-madras/RL_CartPole_SARSA' target=\"_blank\">https://wandb.ai/abhijithvinod-indian-institue-of-technology-madras/RL_CartPole_SARSA</a><br>Synced 5 W&B file(s), 0 media file(s), 0 artifact file(s) and 0 other file(s)"
            ]
          },
          "metadata": {}
        },
        {
          "output_type": "display_data",
          "data": {
            "text/plain": [
              "<IPython.core.display.HTML object>"
            ],
            "text/html": [
              "Find logs at: <code>./wandb/run-20250331_144206-h80j44ol/logs</code>"
            ]
          },
          "metadata": {}
        },
        {
          "output_type": "stream",
          "name": "stderr",
          "text": [
            "\u001b[34m\u001b[1mwandb\u001b[0m: Agent Starting Run: i8sor0ji with config:\n",
            "\u001b[34m\u001b[1mwandb\u001b[0m: \talpha: 0.048509901545161646\n",
            "\u001b[34m\u001b[1mwandb\u001b[0m: \tepsilon: 0.1706737043370652\n",
            "\u001b[34m\u001b[1mwandb\u001b[0m: \tgamma: 0.99\n",
            "\u001b[34m\u001b[1mwandb\u001b[0m: \tn_bins: 15\n",
            "\u001b[34m\u001b[1mwandb\u001b[0m: \tn_episodes: 1000\n"
          ]
        },
        {
          "output_type": "display_data",
          "data": {
            "text/plain": [
              "<IPython.core.display.HTML object>"
            ],
            "text/html": [
              "Tracking run with wandb version 0.19.8"
            ]
          },
          "metadata": {}
        },
        {
          "output_type": "display_data",
          "data": {
            "text/plain": [
              "<IPython.core.display.HTML object>"
            ],
            "text/html": [
              "Run data is saved locally in <code>/content/wandb/run-20250331_144239-i8sor0ji</code>"
            ]
          },
          "metadata": {}
        },
        {
          "output_type": "display_data",
          "data": {
            "text/plain": [
              "<IPython.core.display.HTML object>"
            ],
            "text/html": [
              "Syncing run <strong><a href='https://wandb.ai/abhijithvinod-indian-institue-of-technology-madras/RL_CartPole_SARSA/runs/i8sor0ji' target=\"_blank\">still-sweep-29</a></strong> to <a href='https://wandb.ai/abhijithvinod-indian-institue-of-technology-madras/RL_CartPole_SARSA' target=\"_blank\">Weights & Biases</a> (<a href='https://wandb.me/developer-guide' target=\"_blank\">docs</a>)<br>Sweep page: <a href='https://wandb.ai/abhijithvinod-indian-institue-of-technology-madras/RL_CartPole_SARSA/sweeps/axs367lv' target=\"_blank\">https://wandb.ai/abhijithvinod-indian-institue-of-technology-madras/RL_CartPole_SARSA/sweeps/axs367lv</a>"
            ]
          },
          "metadata": {}
        },
        {
          "output_type": "display_data",
          "data": {
            "text/plain": [
              "<IPython.core.display.HTML object>"
            ],
            "text/html": [
              " View project at <a href='https://wandb.ai/abhijithvinod-indian-institue-of-technology-madras/RL_CartPole_SARSA' target=\"_blank\">https://wandb.ai/abhijithvinod-indian-institue-of-technology-madras/RL_CartPole_SARSA</a>"
            ]
          },
          "metadata": {}
        },
        {
          "output_type": "display_data",
          "data": {
            "text/plain": [
              "<IPython.core.display.HTML object>"
            ],
            "text/html": [
              " View sweep at <a href='https://wandb.ai/abhijithvinod-indian-institue-of-technology-madras/RL_CartPole_SARSA/sweeps/axs367lv' target=\"_blank\">https://wandb.ai/abhijithvinod-indian-institue-of-technology-madras/RL_CartPole_SARSA/sweeps/axs367lv</a>"
            ]
          },
          "metadata": {}
        },
        {
          "output_type": "display_data",
          "data": {
            "text/plain": [
              "<IPython.core.display.HTML object>"
            ],
            "text/html": [
              " View run at <a href='https://wandb.ai/abhijithvinod-indian-institue-of-technology-madras/RL_CartPole_SARSA/runs/i8sor0ji' target=\"_blank\">https://wandb.ai/abhijithvinod-indian-institue-of-technology-madras/RL_CartPole_SARSA/runs/i8sor0ji</a>"
            ]
          },
          "metadata": {}
        },
        {
          "output_type": "display_data",
          "data": {
            "text/plain": [
              "<IPython.core.display.HTML object>"
            ],
            "text/html": []
          },
          "metadata": {}
        },
        {
          "output_type": "display_data",
          "data": {
            "text/plain": [
              "<IPython.core.display.HTML object>"
            ],
            "text/html": [
              "<br>    <style><br>        .wandb-row {<br>            display: flex;<br>            flex-direction: row;<br>            flex-wrap: wrap;<br>            justify-content: flex-start;<br>            width: 100%;<br>        }<br>        .wandb-col {<br>            display: flex;<br>            flex-direction: column;<br>            flex-basis: 100%;<br>            flex: 1;<br>            padding: 10px;<br>        }<br>    </style><br><div class=\"wandb-row\"><div class=\"wandb-col\"><h3>Run history:</h3><br/><table class=\"wandb\"><tr><td>average_reward_across_seeds</td><td>▁</td></tr><tr><td>seed_101_episode</td><td>▁▁▁▂▂▂▂▃▃▃▃▃▃▃▃▄▄▄▄▅▅▅▅▅▅▆▆▆▆▆▇▇▇▇▇▇████</td></tr><tr><td>seed_101_reward</td><td>▁▂▂▁▂▁▂▁▁▅▃▂▂▂▂▃▂▂▁▃▂▂▂▂▁▁▂▁▁▂▁▂▁█▁▂▃▂▁▁</td></tr><tr><td>seed_123_episode</td><td>▁▁▁▁▁▁▂▂▂▂▂▂▂▃▃▃▃▄▄▄▅▅▅▅▅▆▆▆▆▆▆▆▇▇▇▇▇███</td></tr><tr><td>seed_123_reward</td><td>▁▂▃▄▂▂▂█▂▂▂▃▃▄▃▁▂▃▂▃▃▂▁▁▂▁▃▃▁▅▄▄▂▃▃▁▆▃▃▂</td></tr><tr><td>seed_42_episode</td><td>▁▁▁▁▂▂▂▂▂▂▂▃▃▃▃▄▄▄▄▄▅▅▆▆▆▆▆▆▆▇▇▇▇▇▇█████</td></tr><tr><td>seed_42_reward</td><td>▁▂▁▁▆▂▁▁▂▁▂▂▁▂▁▁▁▁▁▁▂▁▃▂▁▁▁▁▂▂▁█▁▁▂▁▂▁▁▁</td></tr><tr><td>seed_456_episode</td><td>▁▁▁▂▂▂▂▂▂▃▃▃▃▃▄▄▄▄▄▅▅▅▅▆▆▆▆▆▆▆▆▇▇▇▇▇████</td></tr><tr><td>seed_456_reward</td><td>▂▂▁▃▂▂▁▂▂▂▅▄▂▂▂█▃▂▄▃▂▂▃▁▂▂▁▄▄▁▃█▃▂▆▁▂▂▃▁</td></tr><tr><td>seed_789_episode</td><td>▁▁▁▁▂▂▂▂▂▂▂▂▂▂▃▃▃▃▃▃▄▄▄▅▅▅▅▅▆▆▇▇▇▇▇█████</td></tr><tr><td>seed_789_reward</td><td>▁█▁▁▁▂▁▁▁▁▁▁▁▂▁▂▁▁▄▁▁▂▁▁▂▁▁▁▁▁▂▁▂▁▂▂▁▁▁▅</td></tr></table><br/></div><div class=\"wandb-col\"><h3>Run summary:</h3><br/><table class=\"wandb\"><tr><td>average_reward_across_seeds</td><td>13.404</td></tr><tr><td>seed_101_episode</td><td>999</td></tr><tr><td>seed_101_reward</td><td>9</td></tr><tr><td>seed_123_episode</td><td>999</td></tr><tr><td>seed_123_reward</td><td>10</td></tr><tr><td>seed_42_episode</td><td>999</td></tr><tr><td>seed_42_reward</td><td>9</td></tr><tr><td>seed_456_episode</td><td>999</td></tr><tr><td>seed_456_reward</td><td>10</td></tr><tr><td>seed_789_episode</td><td>999</td></tr><tr><td>seed_789_reward</td><td>10</td></tr></table><br/></div></div>"
            ]
          },
          "metadata": {}
        },
        {
          "output_type": "display_data",
          "data": {
            "text/plain": [
              "<IPython.core.display.HTML object>"
            ],
            "text/html": [
              " View run <strong style=\"color:#cdcd00\">still-sweep-29</strong> at: <a href='https://wandb.ai/abhijithvinod-indian-institue-of-technology-madras/RL_CartPole_SARSA/runs/i8sor0ji' target=\"_blank\">https://wandb.ai/abhijithvinod-indian-institue-of-technology-madras/RL_CartPole_SARSA/runs/i8sor0ji</a><br> View project at: <a href='https://wandb.ai/abhijithvinod-indian-institue-of-technology-madras/RL_CartPole_SARSA' target=\"_blank\">https://wandb.ai/abhijithvinod-indian-institue-of-technology-madras/RL_CartPole_SARSA</a><br>Synced 5 W&B file(s), 0 media file(s), 0 artifact file(s) and 0 other file(s)"
            ]
          },
          "metadata": {}
        },
        {
          "output_type": "display_data",
          "data": {
            "text/plain": [
              "<IPython.core.display.HTML object>"
            ],
            "text/html": [
              "Find logs at: <code>./wandb/run-20250331_144239-i8sor0ji/logs</code>"
            ]
          },
          "metadata": {}
        },
        {
          "output_type": "stream",
          "name": "stderr",
          "text": [
            "\u001b[34m\u001b[1mwandb\u001b[0m: Agent Starting Run: 1a05ahfg with config:\n",
            "\u001b[34m\u001b[1mwandb\u001b[0m: \talpha: 0.39970611881272144\n",
            "\u001b[34m\u001b[1mwandb\u001b[0m: \tepsilon: 0.15037991455115535\n",
            "\u001b[34m\u001b[1mwandb\u001b[0m: \tgamma: 0.99\n",
            "\u001b[34m\u001b[1mwandb\u001b[0m: \tn_bins: 20\n",
            "\u001b[34m\u001b[1mwandb\u001b[0m: \tn_episodes: 1000\n"
          ]
        },
        {
          "output_type": "display_data",
          "data": {
            "text/plain": [
              "<IPython.core.display.HTML object>"
            ],
            "text/html": [
              "Tracking run with wandb version 0.19.8"
            ]
          },
          "metadata": {}
        },
        {
          "output_type": "display_data",
          "data": {
            "text/plain": [
              "<IPython.core.display.HTML object>"
            ],
            "text/html": [
              "Run data is saved locally in <code>/content/wandb/run-20250331_144254-1a05ahfg</code>"
            ]
          },
          "metadata": {}
        },
        {
          "output_type": "display_data",
          "data": {
            "text/plain": [
              "<IPython.core.display.HTML object>"
            ],
            "text/html": [
              "Syncing run <strong><a href='https://wandb.ai/abhijithvinod-indian-institue-of-technology-madras/RL_CartPole_SARSA/runs/1a05ahfg' target=\"_blank\">generous-sweep-30</a></strong> to <a href='https://wandb.ai/abhijithvinod-indian-institue-of-technology-madras/RL_CartPole_SARSA' target=\"_blank\">Weights & Biases</a> (<a href='https://wandb.me/developer-guide' target=\"_blank\">docs</a>)<br>Sweep page: <a href='https://wandb.ai/abhijithvinod-indian-institue-of-technology-madras/RL_CartPole_SARSA/sweeps/axs367lv' target=\"_blank\">https://wandb.ai/abhijithvinod-indian-institue-of-technology-madras/RL_CartPole_SARSA/sweeps/axs367lv</a>"
            ]
          },
          "metadata": {}
        },
        {
          "output_type": "display_data",
          "data": {
            "text/plain": [
              "<IPython.core.display.HTML object>"
            ],
            "text/html": [
              " View project at <a href='https://wandb.ai/abhijithvinod-indian-institue-of-technology-madras/RL_CartPole_SARSA' target=\"_blank\">https://wandb.ai/abhijithvinod-indian-institue-of-technology-madras/RL_CartPole_SARSA</a>"
            ]
          },
          "metadata": {}
        },
        {
          "output_type": "display_data",
          "data": {
            "text/plain": [
              "<IPython.core.display.HTML object>"
            ],
            "text/html": [
              " View sweep at <a href='https://wandb.ai/abhijithvinod-indian-institue-of-technology-madras/RL_CartPole_SARSA/sweeps/axs367lv' target=\"_blank\">https://wandb.ai/abhijithvinod-indian-institue-of-technology-madras/RL_CartPole_SARSA/sweeps/axs367lv</a>"
            ]
          },
          "metadata": {}
        },
        {
          "output_type": "display_data",
          "data": {
            "text/plain": [
              "<IPython.core.display.HTML object>"
            ],
            "text/html": [
              " View run at <a href='https://wandb.ai/abhijithvinod-indian-institue-of-technology-madras/RL_CartPole_SARSA/runs/1a05ahfg' target=\"_blank\">https://wandb.ai/abhijithvinod-indian-institue-of-technology-madras/RL_CartPole_SARSA/runs/1a05ahfg</a>"
            ]
          },
          "metadata": {}
        },
        {
          "output_type": "display_data",
          "data": {
            "text/plain": [
              "<IPython.core.display.HTML object>"
            ],
            "text/html": []
          },
          "metadata": {}
        },
        {
          "output_type": "display_data",
          "data": {
            "text/plain": [
              "<IPython.core.display.HTML object>"
            ],
            "text/html": [
              "<br>    <style><br>        .wandb-row {<br>            display: flex;<br>            flex-direction: row;<br>            flex-wrap: wrap;<br>            justify-content: flex-start;<br>            width: 100%;<br>        }<br>        .wandb-col {<br>            display: flex;<br>            flex-direction: column;<br>            flex-basis: 100%;<br>            flex: 1;<br>            padding: 10px;<br>        }<br>    </style><br><div class=\"wandb-row\"><div class=\"wandb-col\"><h3>Run history:</h3><br/><table class=\"wandb\"><tr><td>average_reward_across_seeds</td><td>▁</td></tr><tr><td>seed_101_episode</td><td>▁▁▁▁▁▂▂▂▃▃▃▃▃▃▃▃▄▄▄▄▄▅▅▅▅▅▅▅▅▅▆▆▆▆▆▇████</td></tr><tr><td>seed_101_reward</td><td>▁▁▁▁▁▁▁▁▂▄▂▁▁▄▃▃▄▄▃▂▅▅▃▆▅▅▅▄▃▄█▅▄▃▅▅▂▅▆▇</td></tr><tr><td>seed_123_episode</td><td>▁▁▁▁▂▂▂▂▂▂▂▂▂▂▃▃▃▄▄▄▄▅▅▅▅▅▅▅▅▆▆▆▆▇▇▇████</td></tr><tr><td>seed_123_reward</td><td>▁▁▁▁▁▁▁▁▁▁▁▂▂▂▅▁▄▃█▃▃▃▃▄▅▄▅▂▆▅▄▃▄▄▇▂▂▃▃▆</td></tr><tr><td>seed_42_episode</td><td>▁▁▁▁▁▂▂▂▂▂▃▃▃▃▃▃▃▃▄▄▄▄▄▄▅▅▅▅▅▅▆▆▆▇▇▇████</td></tr><tr><td>seed_42_reward</td><td>▁▁▁▁▁▁▁▂▁▂▂▂▂▃▁▁▁▁▄▂▃▂▄▂▃▂▃▅▂▃▅▃▃▃▅▃▂▂█▂</td></tr><tr><td>seed_456_episode</td><td>▁▁▁▁▂▂▂▂▂▂▃▃▄▄▄▄▄▄▅▅▅▅▅▅▆▆▆▆▆▆▆▆▇▇▇▇████</td></tr><tr><td>seed_456_reward</td><td>▁▁▂▃▂█▄▄▅▃▄▂▂▃▃▂▂▃▃▄▁▃▃▃▄▂▃▃▃▃▃▂▅▂▂█▃▁▄▇</td></tr><tr><td>seed_789_episode</td><td>▁▁▁▂▂▃▃▃▃▃▃▃▃▃▄▄▄▄▄▄▄▅▅▅▅▅▅▆▆▆▆▆▆▆▆▇▇███</td></tr><tr><td>seed_789_reward</td><td>▁▁▁▁▁▁▁▁▁▁▁▁▁▄▂▁▂▃▂▅▃▂▃▂█▅▃▃▅▂▃▃▃▃▃▃▄▄▆▃</td></tr></table><br/></div><div class=\"wandb-col\"><h3>Run summary:</h3><br/><table class=\"wandb\"><tr><td>average_reward_across_seeds</td><td>96.968</td></tr><tr><td>seed_101_episode</td><td>999</td></tr><tr><td>seed_101_reward</td><td>139</td></tr><tr><td>seed_123_episode</td><td>999</td></tr><tr><td>seed_123_reward</td><td>62</td></tr><tr><td>seed_42_episode</td><td>999</td></tr><tr><td>seed_42_reward</td><td>144</td></tr><tr><td>seed_456_episode</td><td>999</td></tr><tr><td>seed_456_reward</td><td>135</td></tr><tr><td>seed_789_episode</td><td>999</td></tr><tr><td>seed_789_reward</td><td>90</td></tr></table><br/></div></div>"
            ]
          },
          "metadata": {}
        },
        {
          "output_type": "display_data",
          "data": {
            "text/plain": [
              "<IPython.core.display.HTML object>"
            ],
            "text/html": [
              " View run <strong style=\"color:#cdcd00\">generous-sweep-30</strong> at: <a href='https://wandb.ai/abhijithvinod-indian-institue-of-technology-madras/RL_CartPole_SARSA/runs/1a05ahfg' target=\"_blank\">https://wandb.ai/abhijithvinod-indian-institue-of-technology-madras/RL_CartPole_SARSA/runs/1a05ahfg</a><br> View project at: <a href='https://wandb.ai/abhijithvinod-indian-institue-of-technology-madras/RL_CartPole_SARSA' target=\"_blank\">https://wandb.ai/abhijithvinod-indian-institue-of-technology-madras/RL_CartPole_SARSA</a><br>Synced 5 W&B file(s), 0 media file(s), 0 artifact file(s) and 0 other file(s)"
            ]
          },
          "metadata": {}
        },
        {
          "output_type": "display_data",
          "data": {
            "text/plain": [
              "<IPython.core.display.HTML object>"
            ],
            "text/html": [
              "Find logs at: <code>./wandb/run-20250331_144254-1a05ahfg/logs</code>"
            ]
          },
          "metadata": {}
        },
        {
          "output_type": "stream",
          "name": "stderr",
          "text": [
            "\u001b[34m\u001b[1mwandb\u001b[0m: Agent Starting Run: oxbqclbg with config:\n",
            "\u001b[34m\u001b[1mwandb\u001b[0m: \talpha: 0.4397631554547789\n",
            "\u001b[34m\u001b[1mwandb\u001b[0m: \tepsilon: 0.1565716780592825\n",
            "\u001b[34m\u001b[1mwandb\u001b[0m: \tgamma: 0.99\n",
            "\u001b[34m\u001b[1mwandb\u001b[0m: \tn_bins: 20\n",
            "\u001b[34m\u001b[1mwandb\u001b[0m: \tn_episodes: 1000\n"
          ]
        },
        {
          "output_type": "display_data",
          "data": {
            "text/plain": [
              "<IPython.core.display.HTML object>"
            ],
            "text/html": [
              "Tracking run with wandb version 0.19.8"
            ]
          },
          "metadata": {}
        },
        {
          "output_type": "display_data",
          "data": {
            "text/plain": [
              "<IPython.core.display.HTML object>"
            ],
            "text/html": [
              "Run data is saved locally in <code>/content/wandb/run-20250331_144335-oxbqclbg</code>"
            ]
          },
          "metadata": {}
        },
        {
          "output_type": "display_data",
          "data": {
            "text/plain": [
              "<IPython.core.display.HTML object>"
            ],
            "text/html": [
              "Syncing run <strong><a href='https://wandb.ai/abhijithvinod-indian-institue-of-technology-madras/RL_CartPole_SARSA/runs/oxbqclbg' target=\"_blank\">warm-sweep-31</a></strong> to <a href='https://wandb.ai/abhijithvinod-indian-institue-of-technology-madras/RL_CartPole_SARSA' target=\"_blank\">Weights & Biases</a> (<a href='https://wandb.me/developer-guide' target=\"_blank\">docs</a>)<br>Sweep page: <a href='https://wandb.ai/abhijithvinod-indian-institue-of-technology-madras/RL_CartPole_SARSA/sweeps/axs367lv' target=\"_blank\">https://wandb.ai/abhijithvinod-indian-institue-of-technology-madras/RL_CartPole_SARSA/sweeps/axs367lv</a>"
            ]
          },
          "metadata": {}
        },
        {
          "output_type": "display_data",
          "data": {
            "text/plain": [
              "<IPython.core.display.HTML object>"
            ],
            "text/html": [
              " View project at <a href='https://wandb.ai/abhijithvinod-indian-institue-of-technology-madras/RL_CartPole_SARSA' target=\"_blank\">https://wandb.ai/abhijithvinod-indian-institue-of-technology-madras/RL_CartPole_SARSA</a>"
            ]
          },
          "metadata": {}
        },
        {
          "output_type": "display_data",
          "data": {
            "text/plain": [
              "<IPython.core.display.HTML object>"
            ],
            "text/html": [
              " View sweep at <a href='https://wandb.ai/abhijithvinod-indian-institue-of-technology-madras/RL_CartPole_SARSA/sweeps/axs367lv' target=\"_blank\">https://wandb.ai/abhijithvinod-indian-institue-of-technology-madras/RL_CartPole_SARSA/sweeps/axs367lv</a>"
            ]
          },
          "metadata": {}
        },
        {
          "output_type": "display_data",
          "data": {
            "text/plain": [
              "<IPython.core.display.HTML object>"
            ],
            "text/html": [
              " View run at <a href='https://wandb.ai/abhijithvinod-indian-institue-of-technology-madras/RL_CartPole_SARSA/runs/oxbqclbg' target=\"_blank\">https://wandb.ai/abhijithvinod-indian-institue-of-technology-madras/RL_CartPole_SARSA/runs/oxbqclbg</a>"
            ]
          },
          "metadata": {}
        },
        {
          "output_type": "display_data",
          "data": {
            "text/plain": [
              "<IPython.core.display.HTML object>"
            ],
            "text/html": []
          },
          "metadata": {}
        },
        {
          "output_type": "display_data",
          "data": {
            "text/plain": [
              "<IPython.core.display.HTML object>"
            ],
            "text/html": [
              "<br>    <style><br>        .wandb-row {<br>            display: flex;<br>            flex-direction: row;<br>            flex-wrap: wrap;<br>            justify-content: flex-start;<br>            width: 100%;<br>        }<br>        .wandb-col {<br>            display: flex;<br>            flex-direction: column;<br>            flex-basis: 100%;<br>            flex: 1;<br>            padding: 10px;<br>        }<br>    </style><br><div class=\"wandb-row\"><div class=\"wandb-col\"><h3>Run history:</h3><br/><table class=\"wandb\"><tr><td>average_reward_across_seeds</td><td>▁</td></tr><tr><td>seed_101_episode</td><td>▁▁▂▂▂▂▂▂▂▂▂▃▃▃▃▃▃▄▄▄▄▄▄▅▅▅▆▆▆▆▇▇▇▇▇▇▇▇▇█</td></tr><tr><td>seed_101_reward</td><td>▁▁▁▁▁▁▂▂▁▁▁▁▁▂▂▃▃▃▂▃▃▃▄▃▆▃▃▃▅▅█▃▅▂▃▃▃▄▅▆</td></tr><tr><td>seed_123_episode</td><td>▁▁▁▂▂▂▂▂▂▃▃▃▃▄▄▄▄▄▄▄▄▄▅▅▅▅▆▆▆▆▇▇▇▇▇▇▇███</td></tr><tr><td>seed_123_reward</td><td>▁▁▁▁▁▁▁▁▁▁▂▃▂▁▁▂▁▂▂▃▅▃█▃▃▄▂▂▃▃▃▃▆▃▄▃▄▃▄▄</td></tr><tr><td>seed_42_episode</td><td>▁▁▁▂▂▂▂▂▂▂▃▃▄▄▄▅▅▅▅▅▅▆▆▆▆▆▆▆▆▇▇▇▇▇▇▇████</td></tr><tr><td>seed_42_reward</td><td>▁▁▁▂▂▂▁▁▁▁▃▃▃▂▃▃▁▁▂▂▁▂▄▃▃▃▄▁▃▃▂▂▃▃▄▃▃▃█▄</td></tr><tr><td>seed_456_episode</td><td>▁▁▁▂▂▃▃▃▃▃▄▄▄▄▄▄▅▅▅▅▅▅▅▅▅▆▆▆▆▆▆▆▆▆▆▇▇▇██</td></tr><tr><td>seed_456_reward</td><td>▁▁▁▁▁▁▁▁▁▁▁▁▁▂▃▂▃▂█▂▁▄▁▃▂▃▃▃▁▄▄▃▃▇▂▄▁▄▂▆</td></tr><tr><td>seed_789_episode</td><td>▁▁▁▁▁▂▂▂▂▂▂▂▃▃▃▃▃▄▄▄▄▅▅▅▅▅▅▅▅▅▅▅▆▆▆▇▇▇▇█</td></tr><tr><td>seed_789_reward</td><td>▁▁▁▁▁▁▁▂▁▂▂▁▂▃▅▃▁▂▅▅▂▂█▅▄▄▆▃▃▄▅▃▅▇▃▇▆▄▆▇</td></tr></table><br/></div><div class=\"wandb-col\"><h3>Run summary:</h3><br/><table class=\"wandb\"><tr><td>average_reward_across_seeds</td><td>85.248</td></tr><tr><td>seed_101_episode</td><td>999</td></tr><tr><td>seed_101_reward</td><td>156</td></tr><tr><td>seed_123_episode</td><td>999</td></tr><tr><td>seed_123_reward</td><td>77</td></tr><tr><td>seed_42_episode</td><td>999</td></tr><tr><td>seed_42_reward</td><td>75</td></tr><tr><td>seed_456_episode</td><td>999</td></tr><tr><td>seed_456_reward</td><td>47</td></tr><tr><td>seed_789_episode</td><td>999</td></tr><tr><td>seed_789_reward</td><td>98</td></tr></table><br/></div></div>"
            ]
          },
          "metadata": {}
        },
        {
          "output_type": "display_data",
          "data": {
            "text/plain": [
              "<IPython.core.display.HTML object>"
            ],
            "text/html": [
              " View run <strong style=\"color:#cdcd00\">warm-sweep-31</strong> at: <a href='https://wandb.ai/abhijithvinod-indian-institue-of-technology-madras/RL_CartPole_SARSA/runs/oxbqclbg' target=\"_blank\">https://wandb.ai/abhijithvinod-indian-institue-of-technology-madras/RL_CartPole_SARSA/runs/oxbqclbg</a><br> View project at: <a href='https://wandb.ai/abhijithvinod-indian-institue-of-technology-madras/RL_CartPole_SARSA' target=\"_blank\">https://wandb.ai/abhijithvinod-indian-institue-of-technology-madras/RL_CartPole_SARSA</a><br>Synced 5 W&B file(s), 0 media file(s), 0 artifact file(s) and 0 other file(s)"
            ]
          },
          "metadata": {}
        },
        {
          "output_type": "display_data",
          "data": {
            "text/plain": [
              "<IPython.core.display.HTML object>"
            ],
            "text/html": [
              "Find logs at: <code>./wandb/run-20250331_144335-oxbqclbg/logs</code>"
            ]
          },
          "metadata": {}
        },
        {
          "output_type": "stream",
          "name": "stderr",
          "text": [
            "\u001b[34m\u001b[1mwandb\u001b[0m: Agent Starting Run: ysfvskn7 with config:\n",
            "\u001b[34m\u001b[1mwandb\u001b[0m: \talpha: 0.38627945985528345\n",
            "\u001b[34m\u001b[1mwandb\u001b[0m: \tepsilon: 0.12967986950289626\n",
            "\u001b[34m\u001b[1mwandb\u001b[0m: \tgamma: 0.99\n",
            "\u001b[34m\u001b[1mwandb\u001b[0m: \tn_bins: 20\n",
            "\u001b[34m\u001b[1mwandb\u001b[0m: \tn_episodes: 1000\n"
          ]
        },
        {
          "output_type": "display_data",
          "data": {
            "text/plain": [
              "<IPython.core.display.HTML object>"
            ],
            "text/html": [
              "Tracking run with wandb version 0.19.8"
            ]
          },
          "metadata": {}
        },
        {
          "output_type": "display_data",
          "data": {
            "text/plain": [
              "<IPython.core.display.HTML object>"
            ],
            "text/html": [
              "Run data is saved locally in <code>/content/wandb/run-20250331_144410-ysfvskn7</code>"
            ]
          },
          "metadata": {}
        },
        {
          "output_type": "display_data",
          "data": {
            "text/plain": [
              "<IPython.core.display.HTML object>"
            ],
            "text/html": [
              "Syncing run <strong><a href='https://wandb.ai/abhijithvinod-indian-institue-of-technology-madras/RL_CartPole_SARSA/runs/ysfvskn7' target=\"_blank\">unique-sweep-32</a></strong> to <a href='https://wandb.ai/abhijithvinod-indian-institue-of-technology-madras/RL_CartPole_SARSA' target=\"_blank\">Weights & Biases</a> (<a href='https://wandb.me/developer-guide' target=\"_blank\">docs</a>)<br>Sweep page: <a href='https://wandb.ai/abhijithvinod-indian-institue-of-technology-madras/RL_CartPole_SARSA/sweeps/axs367lv' target=\"_blank\">https://wandb.ai/abhijithvinod-indian-institue-of-technology-madras/RL_CartPole_SARSA/sweeps/axs367lv</a>"
            ]
          },
          "metadata": {}
        },
        {
          "output_type": "display_data",
          "data": {
            "text/plain": [
              "<IPython.core.display.HTML object>"
            ],
            "text/html": [
              " View project at <a href='https://wandb.ai/abhijithvinod-indian-institue-of-technology-madras/RL_CartPole_SARSA' target=\"_blank\">https://wandb.ai/abhijithvinod-indian-institue-of-technology-madras/RL_CartPole_SARSA</a>"
            ]
          },
          "metadata": {}
        },
        {
          "output_type": "display_data",
          "data": {
            "text/plain": [
              "<IPython.core.display.HTML object>"
            ],
            "text/html": [
              " View sweep at <a href='https://wandb.ai/abhijithvinod-indian-institue-of-technology-madras/RL_CartPole_SARSA/sweeps/axs367lv' target=\"_blank\">https://wandb.ai/abhijithvinod-indian-institue-of-technology-madras/RL_CartPole_SARSA/sweeps/axs367lv</a>"
            ]
          },
          "metadata": {}
        },
        {
          "output_type": "display_data",
          "data": {
            "text/plain": [
              "<IPython.core.display.HTML object>"
            ],
            "text/html": [
              " View run at <a href='https://wandb.ai/abhijithvinod-indian-institue-of-technology-madras/RL_CartPole_SARSA/runs/ysfvskn7' target=\"_blank\">https://wandb.ai/abhijithvinod-indian-institue-of-technology-madras/RL_CartPole_SARSA/runs/ysfvskn7</a>"
            ]
          },
          "metadata": {}
        },
        {
          "output_type": "display_data",
          "data": {
            "text/plain": [
              "<IPython.core.display.HTML object>"
            ],
            "text/html": []
          },
          "metadata": {}
        },
        {
          "output_type": "display_data",
          "data": {
            "text/plain": [
              "<IPython.core.display.HTML object>"
            ],
            "text/html": [
              "<br>    <style><br>        .wandb-row {<br>            display: flex;<br>            flex-direction: row;<br>            flex-wrap: wrap;<br>            justify-content: flex-start;<br>            width: 100%;<br>        }<br>        .wandb-col {<br>            display: flex;<br>            flex-direction: column;<br>            flex-basis: 100%;<br>            flex: 1;<br>            padding: 10px;<br>        }<br>    </style><br><div class=\"wandb-row\"><div class=\"wandb-col\"><h3>Run history:</h3><br/><table class=\"wandb\"><tr><td>average_reward_across_seeds</td><td>▁</td></tr><tr><td>seed_101_episode</td><td>▁▁▁▁▁▂▂▂▂▂▃▃▃▃▃▃▃▃▄▄▄▄▅▅▅▅▅▅▅▅▅▆▆▇▇▇████</td></tr><tr><td>seed_101_reward</td><td>▁▁▁▁▁▁▁▁▁▁▁▁▁▁▁▁▁▁▁▂▁▁▂▃▂▂▂▂▂▂▁▂▂▂▄▂▂█▂▂</td></tr><tr><td>seed_123_episode</td><td>▁▁▁▁▂▂▂▂▂▃▃▃▃▄▄▄▄▄▄▄▅▅▅▅▅▅▆▆▆▆▆▇▇▇▇▇▇▇██</td></tr><tr><td>seed_123_reward</td><td>▁▁▂▁▁▁▁▁▂▁▂▁▂▁▂▂▁▂▂▁▆▂▂▄▆▆▄▃▄▆▆▂▆▆▅▆▄▅▄█</td></tr><tr><td>seed_42_episode</td><td>▁▂▂▂▂▃▃▃▃▄▄▄▄▅▅▅▅▅▅▅▅▅▆▆▆▆▆▆▆▇▇▇▇▇▇▇▇███</td></tr><tr><td>seed_42_reward</td><td>▁▁▁▁▁▂▁▂▃▂▄▃▂▂▃▂▂▃▂▂▃▂▃▂▃▂▂▃▂█▅▃▃▁▂▂▁▂▃▄</td></tr><tr><td>seed_456_episode</td><td>▁▁▁▁▁▂▂▂▂▃▃▃▄▄▄▄▄▄▄▄▅▅▅▅▅▅▅▅▅▅▆▆▆▇▇▇▇▇▇█</td></tr><tr><td>seed_456_reward</td><td>▁▁▁▁▁▁▁▁▂▃▂▃▃▁▂▂▃▃▂▃█▆▂▃▄▃▁▃▂▃▆▄▂▄▆▁▂▃▃▃</td></tr><tr><td>seed_789_episode</td><td>▁▁▁▂▂▃▃▃▃▃▃▃▃▄▄▄▄▄▄▄▅▅▅▅▆▆▆▆▆▆▆▇▇▇▇▇████</td></tr><tr><td>seed_789_reward</td><td>▁▁▁▁▁▁▁▁▁▁▁▁▁▁▁▂▃▇▄▆▄▂▁▃▄▃█▃▂▃▃▅▄█▄▇▅▂▁▅</td></tr></table><br/></div><div class=\"wandb-col\"><h3>Run summary:</h3><br/><table class=\"wandb\"><tr><td>average_reward_across_seeds</td><td>88.792</td></tr><tr><td>seed_101_episode</td><td>999</td></tr><tr><td>seed_101_reward</td><td>128</td></tr><tr><td>seed_123_episode</td><td>999</td></tr><tr><td>seed_123_reward</td><td>100</td></tr><tr><td>seed_42_episode</td><td>999</td></tr><tr><td>seed_42_reward</td><td>102</td></tr><tr><td>seed_456_episode</td><td>999</td></tr><tr><td>seed_456_reward</td><td>53</td></tr><tr><td>seed_789_episode</td><td>999</td></tr><tr><td>seed_789_reward</td><td>61</td></tr></table><br/></div></div>"
            ]
          },
          "metadata": {}
        },
        {
          "output_type": "display_data",
          "data": {
            "text/plain": [
              "<IPython.core.display.HTML object>"
            ],
            "text/html": [
              " View run <strong style=\"color:#cdcd00\">unique-sweep-32</strong> at: <a href='https://wandb.ai/abhijithvinod-indian-institue-of-technology-madras/RL_CartPole_SARSA/runs/ysfvskn7' target=\"_blank\">https://wandb.ai/abhijithvinod-indian-institue-of-technology-madras/RL_CartPole_SARSA/runs/ysfvskn7</a><br> View project at: <a href='https://wandb.ai/abhijithvinod-indian-institue-of-technology-madras/RL_CartPole_SARSA' target=\"_blank\">https://wandb.ai/abhijithvinod-indian-institue-of-technology-madras/RL_CartPole_SARSA</a><br>Synced 5 W&B file(s), 0 media file(s), 0 artifact file(s) and 0 other file(s)"
            ]
          },
          "metadata": {}
        },
        {
          "output_type": "display_data",
          "data": {
            "text/plain": [
              "<IPython.core.display.HTML object>"
            ],
            "text/html": [
              "Find logs at: <code>./wandb/run-20250331_144410-ysfvskn7/logs</code>"
            ]
          },
          "metadata": {}
        },
        {
          "output_type": "stream",
          "name": "stderr",
          "text": [
            "\u001b[34m\u001b[1mwandb\u001b[0m: Agent Starting Run: 6vkw86ix with config:\n",
            "\u001b[34m\u001b[1mwandb\u001b[0m: \talpha: 0.4621009704181956\n",
            "\u001b[34m\u001b[1mwandb\u001b[0m: \tepsilon: 0.16238445015704306\n",
            "\u001b[34m\u001b[1mwandb\u001b[0m: \tgamma: 0.99\n",
            "\u001b[34m\u001b[1mwandb\u001b[0m: \tn_bins: 20\n",
            "\u001b[34m\u001b[1mwandb\u001b[0m: \tn_episodes: 1000\n"
          ]
        },
        {
          "output_type": "display_data",
          "data": {
            "text/plain": [
              "<IPython.core.display.HTML object>"
            ],
            "text/html": [
              "Tracking run with wandb version 0.19.8"
            ]
          },
          "metadata": {}
        },
        {
          "output_type": "display_data",
          "data": {
            "text/plain": [
              "<IPython.core.display.HTML object>"
            ],
            "text/html": [
              "Run data is saved locally in <code>/content/wandb/run-20250331_144451-6vkw86ix</code>"
            ]
          },
          "metadata": {}
        },
        {
          "output_type": "display_data",
          "data": {
            "text/plain": [
              "<IPython.core.display.HTML object>"
            ],
            "text/html": [
              "Syncing run <strong><a href='https://wandb.ai/abhijithvinod-indian-institue-of-technology-madras/RL_CartPole_SARSA/runs/6vkw86ix' target=\"_blank\">upbeat-sweep-33</a></strong> to <a href='https://wandb.ai/abhijithvinod-indian-institue-of-technology-madras/RL_CartPole_SARSA' target=\"_blank\">Weights & Biases</a> (<a href='https://wandb.me/developer-guide' target=\"_blank\">docs</a>)<br>Sweep page: <a href='https://wandb.ai/abhijithvinod-indian-institue-of-technology-madras/RL_CartPole_SARSA/sweeps/axs367lv' target=\"_blank\">https://wandb.ai/abhijithvinod-indian-institue-of-technology-madras/RL_CartPole_SARSA/sweeps/axs367lv</a>"
            ]
          },
          "metadata": {}
        },
        {
          "output_type": "display_data",
          "data": {
            "text/plain": [
              "<IPython.core.display.HTML object>"
            ],
            "text/html": [
              " View project at <a href='https://wandb.ai/abhijithvinod-indian-institue-of-technology-madras/RL_CartPole_SARSA' target=\"_blank\">https://wandb.ai/abhijithvinod-indian-institue-of-technology-madras/RL_CartPole_SARSA</a>"
            ]
          },
          "metadata": {}
        },
        {
          "output_type": "display_data",
          "data": {
            "text/plain": [
              "<IPython.core.display.HTML object>"
            ],
            "text/html": [
              " View sweep at <a href='https://wandb.ai/abhijithvinod-indian-institue-of-technology-madras/RL_CartPole_SARSA/sweeps/axs367lv' target=\"_blank\">https://wandb.ai/abhijithvinod-indian-institue-of-technology-madras/RL_CartPole_SARSA/sweeps/axs367lv</a>"
            ]
          },
          "metadata": {}
        },
        {
          "output_type": "display_data",
          "data": {
            "text/plain": [
              "<IPython.core.display.HTML object>"
            ],
            "text/html": [
              " View run at <a href='https://wandb.ai/abhijithvinod-indian-institue-of-technology-madras/RL_CartPole_SARSA/runs/6vkw86ix' target=\"_blank\">https://wandb.ai/abhijithvinod-indian-institue-of-technology-madras/RL_CartPole_SARSA/runs/6vkw86ix</a>"
            ]
          },
          "metadata": {}
        },
        {
          "output_type": "display_data",
          "data": {
            "text/plain": [
              "<IPython.core.display.HTML object>"
            ],
            "text/html": []
          },
          "metadata": {}
        },
        {
          "output_type": "display_data",
          "data": {
            "text/plain": [
              "<IPython.core.display.HTML object>"
            ],
            "text/html": [
              "<br>    <style><br>        .wandb-row {<br>            display: flex;<br>            flex-direction: row;<br>            flex-wrap: wrap;<br>            justify-content: flex-start;<br>            width: 100%;<br>        }<br>        .wandb-col {<br>            display: flex;<br>            flex-direction: column;<br>            flex-basis: 100%;<br>            flex: 1;<br>            padding: 10px;<br>        }<br>    </style><br><div class=\"wandb-row\"><div class=\"wandb-col\"><h3>Run history:</h3><br/><table class=\"wandb\"><tr><td>average_reward_across_seeds</td><td>▁</td></tr><tr><td>seed_101_episode</td><td>▁▁▁▁▂▂▂▃▃▃▃▃▃▃▃▄▄▄▄▄▄▄▄▄▅▅▅▅▅▆▆▆▆▆▆▇▇▇▇█</td></tr><tr><td>seed_101_reward</td><td>▁▁▁▁▁▁▁▁▁▁▂▂▁▃▁▄▃▃▁▁▂▃▃▂▂▃▂▂▂▂▃▂▃▁▂█▅▅▃▃</td></tr><tr><td>seed_123_episode</td><td>▁▁▂▂▂▂▂▂▂▃▃▃▃▃▃▃▃▄▄▄▄▄▄▅▅▅▅▅▆▆▆▇▇▇▇▇▇▇██</td></tr><tr><td>seed_123_reward</td><td>▁▁▂▁▁▁▁▁▁▂▁▂▁▁▁▂▄▁▄▂▁▅▅▄▃▄▅█▇▅▁▅▄▃▅▄▂▃▃▄</td></tr><tr><td>seed_42_episode</td><td>▁▁▁▂▂▂▂▂▂▂▂▂▃▃▃▃▃▄▄▄▅▅▅▅▅▆▆▆▆▆▆▆▆▆▇█████</td></tr><tr><td>seed_42_reward</td><td>▁▁▁▁▁▁▁▁▁▁▁▂▅▂▆▄▄▃▄▂▆▄▆▅▅▇▃▂▃█▄▂▂▄▃▆▂▆▆▄</td></tr><tr><td>seed_456_episode</td><td>▁▁▁▁▁▂▂▂▂▂▂▃▃▃▃▃▃▄▄▄▄▄▄▄▅▅▅▆▆▆▆▆▇▇▇▇████</td></tr><tr><td>seed_456_reward</td><td>▁▁▁▁▁▁▁▁▂▁▂▂▂▂▃▄▂▆▃▁▂▃▃▂▃▃▃▄▃▂▃▂▄▃▄▃█▅▃▇</td></tr><tr><td>seed_789_episode</td><td>▁▁▂▂▂▂▂▂▂▃▃▃▃▃▃▃▃▄▄▄▄▅▅▅▅▅▆▆▆▆▆▆▆▇▇▇▇███</td></tr><tr><td>seed_789_reward</td><td>▁▁▁▂▁▂▁▁▂▂▃▁▃▂▂▄▁▃▄▄▄▁▃▅▄▇▃▄▅▃▃▅▄▄▅▃▅▂██</td></tr></table><br/></div><div class=\"wandb-col\"><h3>Run summary:</h3><br/><table class=\"wandb\"><tr><td>average_reward_across_seeds</td><td>91.996</td></tr><tr><td>seed_101_episode</td><td>999</td></tr><tr><td>seed_101_reward</td><td>22</td></tr><tr><td>seed_123_episode</td><td>999</td></tr><tr><td>seed_123_reward</td><td>23</td></tr><tr><td>seed_42_episode</td><td>999</td></tr><tr><td>seed_42_reward</td><td>156</td></tr><tr><td>seed_456_episode</td><td>999</td></tr><tr><td>seed_456_reward</td><td>103</td></tr><tr><td>seed_789_episode</td><td>999</td></tr><tr><td>seed_789_reward</td><td>133</td></tr></table><br/></div></div>"
            ]
          },
          "metadata": {}
        },
        {
          "output_type": "display_data",
          "data": {
            "text/plain": [
              "<IPython.core.display.HTML object>"
            ],
            "text/html": [
              " View run <strong style=\"color:#cdcd00\">upbeat-sweep-33</strong> at: <a href='https://wandb.ai/abhijithvinod-indian-institue-of-technology-madras/RL_CartPole_SARSA/runs/6vkw86ix' target=\"_blank\">https://wandb.ai/abhijithvinod-indian-institue-of-technology-madras/RL_CartPole_SARSA/runs/6vkw86ix</a><br> View project at: <a href='https://wandb.ai/abhijithvinod-indian-institue-of-technology-madras/RL_CartPole_SARSA' target=\"_blank\">https://wandb.ai/abhijithvinod-indian-institue-of-technology-madras/RL_CartPole_SARSA</a><br>Synced 5 W&B file(s), 0 media file(s), 0 artifact file(s) and 0 other file(s)"
            ]
          },
          "metadata": {}
        },
        {
          "output_type": "display_data",
          "data": {
            "text/plain": [
              "<IPython.core.display.HTML object>"
            ],
            "text/html": [
              "Find logs at: <code>./wandb/run-20250331_144451-6vkw86ix/logs</code>"
            ]
          },
          "metadata": {}
        },
        {
          "output_type": "stream",
          "name": "stderr",
          "text": [
            "\u001b[34m\u001b[1mwandb\u001b[0m: Agent Starting Run: 99qnx2mx with config:\n",
            "\u001b[34m\u001b[1mwandb\u001b[0m: \talpha: 0.499295219427611\n",
            "\u001b[34m\u001b[1mwandb\u001b[0m: \tepsilon: 0.20903287465088607\n",
            "\u001b[34m\u001b[1mwandb\u001b[0m: \tgamma: 0.99\n",
            "\u001b[34m\u001b[1mwandb\u001b[0m: \tn_bins: 20\n",
            "\u001b[34m\u001b[1mwandb\u001b[0m: \tn_episodes: 1000\n"
          ]
        },
        {
          "output_type": "display_data",
          "data": {
            "text/plain": [
              "<IPython.core.display.HTML object>"
            ],
            "text/html": [
              "Tracking run with wandb version 0.19.8"
            ]
          },
          "metadata": {}
        },
        {
          "output_type": "display_data",
          "data": {
            "text/plain": [
              "<IPython.core.display.HTML object>"
            ],
            "text/html": [
              "Run data is saved locally in <code>/content/wandb/run-20250331_144532-99qnx2mx</code>"
            ]
          },
          "metadata": {}
        },
        {
          "output_type": "display_data",
          "data": {
            "text/plain": [
              "<IPython.core.display.HTML object>"
            ],
            "text/html": [
              "Syncing run <strong><a href='https://wandb.ai/abhijithvinod-indian-institue-of-technology-madras/RL_CartPole_SARSA/runs/99qnx2mx' target=\"_blank\">morning-sweep-34</a></strong> to <a href='https://wandb.ai/abhijithvinod-indian-institue-of-technology-madras/RL_CartPole_SARSA' target=\"_blank\">Weights & Biases</a> (<a href='https://wandb.me/developer-guide' target=\"_blank\">docs</a>)<br>Sweep page: <a href='https://wandb.ai/abhijithvinod-indian-institue-of-technology-madras/RL_CartPole_SARSA/sweeps/axs367lv' target=\"_blank\">https://wandb.ai/abhijithvinod-indian-institue-of-technology-madras/RL_CartPole_SARSA/sweeps/axs367lv</a>"
            ]
          },
          "metadata": {}
        },
        {
          "output_type": "display_data",
          "data": {
            "text/plain": [
              "<IPython.core.display.HTML object>"
            ],
            "text/html": [
              " View project at <a href='https://wandb.ai/abhijithvinod-indian-institue-of-technology-madras/RL_CartPole_SARSA' target=\"_blank\">https://wandb.ai/abhijithvinod-indian-institue-of-technology-madras/RL_CartPole_SARSA</a>"
            ]
          },
          "metadata": {}
        },
        {
          "output_type": "display_data",
          "data": {
            "text/plain": [
              "<IPython.core.display.HTML object>"
            ],
            "text/html": [
              " View sweep at <a href='https://wandb.ai/abhijithvinod-indian-institue-of-technology-madras/RL_CartPole_SARSA/sweeps/axs367lv' target=\"_blank\">https://wandb.ai/abhijithvinod-indian-institue-of-technology-madras/RL_CartPole_SARSA/sweeps/axs367lv</a>"
            ]
          },
          "metadata": {}
        },
        {
          "output_type": "display_data",
          "data": {
            "text/plain": [
              "<IPython.core.display.HTML object>"
            ],
            "text/html": [
              " View run at <a href='https://wandb.ai/abhijithvinod-indian-institue-of-technology-madras/RL_CartPole_SARSA/runs/99qnx2mx' target=\"_blank\">https://wandb.ai/abhijithvinod-indian-institue-of-technology-madras/RL_CartPole_SARSA/runs/99qnx2mx</a>"
            ]
          },
          "metadata": {}
        },
        {
          "output_type": "display_data",
          "data": {
            "text/plain": [
              "<IPython.core.display.HTML object>"
            ],
            "text/html": []
          },
          "metadata": {}
        },
        {
          "output_type": "display_data",
          "data": {
            "text/plain": [
              "<IPython.core.display.HTML object>"
            ],
            "text/html": [
              "<br>    <style><br>        .wandb-row {<br>            display: flex;<br>            flex-direction: row;<br>            flex-wrap: wrap;<br>            justify-content: flex-start;<br>            width: 100%;<br>        }<br>        .wandb-col {<br>            display: flex;<br>            flex-direction: column;<br>            flex-basis: 100%;<br>            flex: 1;<br>            padding: 10px;<br>        }<br>    </style><br><div class=\"wandb-row\"><div class=\"wandb-col\"><h3>Run history:</h3><br/><table class=\"wandb\"><tr><td>average_reward_across_seeds</td><td>▁</td></tr><tr><td>seed_101_episode</td><td>▁▁▁▁▂▂▂▂▂▂▃▃▃▃▃▄▄▄▄▅▅▅▅▅▅▅▆▆▆▆▇▇▇▇▇▇████</td></tr><tr><td>seed_101_reward</td><td>▁▁▁▂▂▁▂▂▂▃▃▃▂▄▁▄▂▃▃▅▅▃▃▅▅█▄▃▃▆▄▅▅▄█▄▅▄▆▆</td></tr><tr><td>seed_123_episode</td><td>▁▁▁▁▂▂▂▂▃▃▃▄▄▄▄▄▄▄▄▄▄▄▅▅▅▅▅▅▆▆▆▆▆▆▇▇▇▇▇█</td></tr><tr><td>seed_123_reward</td><td>▁▁▁▁▁▁▂▁▁▂▁▃▃▅▂▂▁▃▂▅▃▃▂▃▃█▄▅▃▃▃▃▂▃▄▃▁▄▃▃</td></tr><tr><td>seed_42_episode</td><td>▁▁▁▁▂▂▂▂▂▂▃▃▃▃▃▄▄▄▄▄▄▄▄▄▅▅▅▆▆▆▇▇▇▇▇█████</td></tr><tr><td>seed_42_reward</td><td>▁▁▂▁▁▁▂▄▃▁▄▆▅▄▂▂▂▅▃▁▂▄▅▄▃▄▃▄█▇▃▃▃▃▄▆▅▄▄▅</td></tr><tr><td>seed_456_episode</td><td>▁▁▁▁▁▂▂▂▂▂▂▂▃▃▃▃▃▃▄▄▄▄▄▄▄▅▅▅▅▅▆▆▆▆▆▆▇███</td></tr><tr><td>seed_456_reward</td><td>▁▁▁▁▃▁▁▁▁▂▃▁▁▄▅▂▃▂▅▁▃▃▂▂█▃▃▃▄▃▁▃▃▄▅▃▄▂▃▄</td></tr><tr><td>seed_789_episode</td><td>▁▁▂▂▂▂▂▂▃▃▃▃▄▄▄▄▄▄▅▅▅▅▅▅▅▆▆▆▇▇▇▇▇▇▇█████</td></tr><tr><td>seed_789_reward</td><td>▁▁▁▁▁▃▃▂▂█▅▃▄▄▃▂▅▂▃▁▄█▇▅▅▅▄▃▅▂▆▄▆▅▅▃▃▂▅▂</td></tr></table><br/></div><div class=\"wandb-col\"><h3>Run summary:</h3><br/><table class=\"wandb\"><tr><td>average_reward_across_seeds</td><td>84.436</td></tr><tr><td>seed_101_episode</td><td>999</td></tr><tr><td>seed_101_reward</td><td>45</td></tr><tr><td>seed_123_episode</td><td>999</td></tr><tr><td>seed_123_reward</td><td>91</td></tr><tr><td>seed_42_episode</td><td>999</td></tr><tr><td>seed_42_reward</td><td>54</td></tr><tr><td>seed_456_episode</td><td>999</td></tr><tr><td>seed_456_reward</td><td>90</td></tr><tr><td>seed_789_episode</td><td>999</td></tr><tr><td>seed_789_reward</td><td>85</td></tr></table><br/></div></div>"
            ]
          },
          "metadata": {}
        },
        {
          "output_type": "display_data",
          "data": {
            "text/plain": [
              "<IPython.core.display.HTML object>"
            ],
            "text/html": [
              " View run <strong style=\"color:#cdcd00\">morning-sweep-34</strong> at: <a href='https://wandb.ai/abhijithvinod-indian-institue-of-technology-madras/RL_CartPole_SARSA/runs/99qnx2mx' target=\"_blank\">https://wandb.ai/abhijithvinod-indian-institue-of-technology-madras/RL_CartPole_SARSA/runs/99qnx2mx</a><br> View project at: <a href='https://wandb.ai/abhijithvinod-indian-institue-of-technology-madras/RL_CartPole_SARSA' target=\"_blank\">https://wandb.ai/abhijithvinod-indian-institue-of-technology-madras/RL_CartPole_SARSA</a><br>Synced 5 W&B file(s), 0 media file(s), 0 artifact file(s) and 0 other file(s)"
            ]
          },
          "metadata": {}
        },
        {
          "output_type": "display_data",
          "data": {
            "text/plain": [
              "<IPython.core.display.HTML object>"
            ],
            "text/html": [
              "Find logs at: <code>./wandb/run-20250331_144532-99qnx2mx/logs</code>"
            ]
          },
          "metadata": {}
        },
        {
          "output_type": "stream",
          "name": "stderr",
          "text": [
            "\u001b[34m\u001b[1mwandb\u001b[0m: Agent Starting Run: n5r8ps60 with config:\n",
            "\u001b[34m\u001b[1mwandb\u001b[0m: \talpha: 0.29803986705299934\n",
            "\u001b[34m\u001b[1mwandb\u001b[0m: \tepsilon: 0.20378148153533415\n",
            "\u001b[34m\u001b[1mwandb\u001b[0m: \tgamma: 0.99\n",
            "\u001b[34m\u001b[1mwandb\u001b[0m: \tn_bins: 10\n",
            "\u001b[34m\u001b[1mwandb\u001b[0m: \tn_episodes: 1000\n"
          ]
        },
        {
          "output_type": "display_data",
          "data": {
            "text/plain": [
              "<IPython.core.display.HTML object>"
            ],
            "text/html": [
              "Tracking run with wandb version 0.19.8"
            ]
          },
          "metadata": {}
        },
        {
          "output_type": "display_data",
          "data": {
            "text/plain": [
              "<IPython.core.display.HTML object>"
            ],
            "text/html": [
              "Run data is saved locally in <code>/content/wandb/run-20250331_144614-n5r8ps60</code>"
            ]
          },
          "metadata": {}
        },
        {
          "output_type": "display_data",
          "data": {
            "text/plain": [
              "<IPython.core.display.HTML object>"
            ],
            "text/html": [
              "Syncing run <strong><a href='https://wandb.ai/abhijithvinod-indian-institue-of-technology-madras/RL_CartPole_SARSA/runs/n5r8ps60' target=\"_blank\">electric-sweep-35</a></strong> to <a href='https://wandb.ai/abhijithvinod-indian-institue-of-technology-madras/RL_CartPole_SARSA' target=\"_blank\">Weights & Biases</a> (<a href='https://wandb.me/developer-guide' target=\"_blank\">docs</a>)<br>Sweep page: <a href='https://wandb.ai/abhijithvinod-indian-institue-of-technology-madras/RL_CartPole_SARSA/sweeps/axs367lv' target=\"_blank\">https://wandb.ai/abhijithvinod-indian-institue-of-technology-madras/RL_CartPole_SARSA/sweeps/axs367lv</a>"
            ]
          },
          "metadata": {}
        },
        {
          "output_type": "display_data",
          "data": {
            "text/plain": [
              "<IPython.core.display.HTML object>"
            ],
            "text/html": [
              " View project at <a href='https://wandb.ai/abhijithvinod-indian-institue-of-technology-madras/RL_CartPole_SARSA' target=\"_blank\">https://wandb.ai/abhijithvinod-indian-institue-of-technology-madras/RL_CartPole_SARSA</a>"
            ]
          },
          "metadata": {}
        },
        {
          "output_type": "display_data",
          "data": {
            "text/plain": [
              "<IPython.core.display.HTML object>"
            ],
            "text/html": [
              " View sweep at <a href='https://wandb.ai/abhijithvinod-indian-institue-of-technology-madras/RL_CartPole_SARSA/sweeps/axs367lv' target=\"_blank\">https://wandb.ai/abhijithvinod-indian-institue-of-technology-madras/RL_CartPole_SARSA/sweeps/axs367lv</a>"
            ]
          },
          "metadata": {}
        },
        {
          "output_type": "display_data",
          "data": {
            "text/plain": [
              "<IPython.core.display.HTML object>"
            ],
            "text/html": [
              " View run at <a href='https://wandb.ai/abhijithvinod-indian-institue-of-technology-madras/RL_CartPole_SARSA/runs/n5r8ps60' target=\"_blank\">https://wandb.ai/abhijithvinod-indian-institue-of-technology-madras/RL_CartPole_SARSA/runs/n5r8ps60</a>"
            ]
          },
          "metadata": {}
        },
        {
          "output_type": "display_data",
          "data": {
            "text/plain": [
              "<IPython.core.display.HTML object>"
            ],
            "text/html": []
          },
          "metadata": {}
        },
        {
          "output_type": "display_data",
          "data": {
            "text/plain": [
              "<IPython.core.display.HTML object>"
            ],
            "text/html": [
              "<br>    <style><br>        .wandb-row {<br>            display: flex;<br>            flex-direction: row;<br>            flex-wrap: wrap;<br>            justify-content: flex-start;<br>            width: 100%;<br>        }<br>        .wandb-col {<br>            display: flex;<br>            flex-direction: column;<br>            flex-basis: 100%;<br>            flex: 1;<br>            padding: 10px;<br>        }<br>    </style><br><div class=\"wandb-row\"><div class=\"wandb-col\"><h3>Run history:</h3><br/><table class=\"wandb\"><tr><td>average_reward_across_seeds</td><td>▁</td></tr><tr><td>seed_101_episode</td><td>▁▁▁▂▂▂▂▃▃▃▃▃▄▄▄▄▅▅▅▅▅▅▅▅▅▆▆▆▆▆▇▇▇▇▇▇▇███</td></tr><tr><td>seed_101_reward</td><td>▁▁▁▁▁▂▁▃▆▂▄▆▆▃▅▃▅▄▄▇▄▄▄▃▆▃▅▃▅▂▄▇▃▆▄▁█▇▇█</td></tr><tr><td>seed_123_episode</td><td>▁▁▁▁▁▂▂▂▂▂▃▃▃▃▃▄▄▄▅▅▅▅▅▅▅▆▆▆▆▆▆▆▆▇▇▇▇▇▇█</td></tr><tr><td>seed_123_reward</td><td>▁▁▁▁▁▁▁▁▁▁▁▁▂▁▂▂▂▂▁▅▁▃▄▂▃▃▃▃▅█▃▄▇▃▃▅▃▄▄▄</td></tr><tr><td>seed_42_episode</td><td>▁▁▁▁▂▂▂▃▃▃▃▃▃▃▃▃▄▄▄▄▅▅▅▅▅▆▆▆▆▆▆▇▇▇▇▇▇▇▇█</td></tr><tr><td>seed_42_reward</td><td>▁▂▂▁▁▃▄▄▃▅▂▅▄▄▃▄▂▅▅▁▃▅▆▂▄▆▁█▁▅▄▅▄▂▆▆▅▄▃▂</td></tr><tr><td>seed_456_episode</td><td>▁▁▁▁▁▁▂▂▂▂▃▃▃▃▃▃▃▄▄▄▄▄▄▅▅▆▆▆▆▆▆▇▇▇▇▇▇▇▇█</td></tr><tr><td>seed_456_reward</td><td>▁▁▁▁▁▁▁▁▁▁█▁▂▃▁▂▃▂▂▁▃▂▂▃▃▃▂▃▃▂▃▂▃▁▃▃▂▃▂▃</td></tr><tr><td>seed_789_episode</td><td>▁▁▁▂▂▂▃▃▃▃▃▃▄▄▄▄▄▄▄▄▅▅▅▅▅▆▆▆▆▆▆▆▆▆▇▇▇▇▇█</td></tr><tr><td>seed_789_reward</td><td>▁▁▁▁▁▁▁▁▁▂▂▄▂▃▁▂▂▂▂▂▄▁▂▂▃▃▁▂▁▂▃▃▃█▃▂▃▂▃▁</td></tr></table><br/></div><div class=\"wandb-col\"><h3>Run summary:</h3><br/><table class=\"wandb\"><tr><td>average_reward_across_seeds</td><td>91.848</td></tr><tr><td>seed_101_episode</td><td>999</td></tr><tr><td>seed_101_reward</td><td>62</td></tr><tr><td>seed_123_episode</td><td>999</td></tr><tr><td>seed_123_reward</td><td>58</td></tr><tr><td>seed_42_episode</td><td>999</td></tr><tr><td>seed_42_reward</td><td>160</td></tr><tr><td>seed_456_episode</td><td>999</td></tr><tr><td>seed_456_reward</td><td>44</td></tr><tr><td>seed_789_episode</td><td>999</td></tr><tr><td>seed_789_reward</td><td>85</td></tr></table><br/></div></div>"
            ]
          },
          "metadata": {}
        },
        {
          "output_type": "display_data",
          "data": {
            "text/plain": [
              "<IPython.core.display.HTML object>"
            ],
            "text/html": [
              " View run <strong style=\"color:#cdcd00\">electric-sweep-35</strong> at: <a href='https://wandb.ai/abhijithvinod-indian-institue-of-technology-madras/RL_CartPole_SARSA/runs/n5r8ps60' target=\"_blank\">https://wandb.ai/abhijithvinod-indian-institue-of-technology-madras/RL_CartPole_SARSA/runs/n5r8ps60</a><br> View project at: <a href='https://wandb.ai/abhijithvinod-indian-institue-of-technology-madras/RL_CartPole_SARSA' target=\"_blank\">https://wandb.ai/abhijithvinod-indian-institue-of-technology-madras/RL_CartPole_SARSA</a><br>Synced 5 W&B file(s), 0 media file(s), 0 artifact file(s) and 0 other file(s)"
            ]
          },
          "metadata": {}
        },
        {
          "output_type": "display_data",
          "data": {
            "text/plain": [
              "<IPython.core.display.HTML object>"
            ],
            "text/html": [
              "Find logs at: <code>./wandb/run-20250331_144614-n5r8ps60/logs</code>"
            ]
          },
          "metadata": {}
        },
        {
          "output_type": "stream",
          "name": "stderr",
          "text": [
            "\u001b[34m\u001b[1mwandb\u001b[0m: Agent Starting Run: 72tzti2k with config:\n",
            "\u001b[34m\u001b[1mwandb\u001b[0m: \talpha: 0.4912281816301928\n",
            "\u001b[34m\u001b[1mwandb\u001b[0m: \tepsilon: 0.16284490730944923\n",
            "\u001b[34m\u001b[1mwandb\u001b[0m: \tgamma: 0.99\n",
            "\u001b[34m\u001b[1mwandb\u001b[0m: \tn_bins: 20\n",
            "\u001b[34m\u001b[1mwandb\u001b[0m: \tn_episodes: 1000\n"
          ]
        },
        {
          "output_type": "display_data",
          "data": {
            "text/plain": [
              "<IPython.core.display.HTML object>"
            ],
            "text/html": [
              "Tracking run with wandb version 0.19.8"
            ]
          },
          "metadata": {}
        },
        {
          "output_type": "display_data",
          "data": {
            "text/plain": [
              "<IPython.core.display.HTML object>"
            ],
            "text/html": [
              "Run data is saved locally in <code>/content/wandb/run-20250331_144655-72tzti2k</code>"
            ]
          },
          "metadata": {}
        },
        {
          "output_type": "display_data",
          "data": {
            "text/plain": [
              "<IPython.core.display.HTML object>"
            ],
            "text/html": [
              "Syncing run <strong><a href='https://wandb.ai/abhijithvinod-indian-institue-of-technology-madras/RL_CartPole_SARSA/runs/72tzti2k' target=\"_blank\">lunar-sweep-36</a></strong> to <a href='https://wandb.ai/abhijithvinod-indian-institue-of-technology-madras/RL_CartPole_SARSA' target=\"_blank\">Weights & Biases</a> (<a href='https://wandb.me/developer-guide' target=\"_blank\">docs</a>)<br>Sweep page: <a href='https://wandb.ai/abhijithvinod-indian-institue-of-technology-madras/RL_CartPole_SARSA/sweeps/axs367lv' target=\"_blank\">https://wandb.ai/abhijithvinod-indian-institue-of-technology-madras/RL_CartPole_SARSA/sweeps/axs367lv</a>"
            ]
          },
          "metadata": {}
        },
        {
          "output_type": "display_data",
          "data": {
            "text/plain": [
              "<IPython.core.display.HTML object>"
            ],
            "text/html": [
              " View project at <a href='https://wandb.ai/abhijithvinod-indian-institue-of-technology-madras/RL_CartPole_SARSA' target=\"_blank\">https://wandb.ai/abhijithvinod-indian-institue-of-technology-madras/RL_CartPole_SARSA</a>"
            ]
          },
          "metadata": {}
        },
        {
          "output_type": "display_data",
          "data": {
            "text/plain": [
              "<IPython.core.display.HTML object>"
            ],
            "text/html": [
              " View sweep at <a href='https://wandb.ai/abhijithvinod-indian-institue-of-technology-madras/RL_CartPole_SARSA/sweeps/axs367lv' target=\"_blank\">https://wandb.ai/abhijithvinod-indian-institue-of-technology-madras/RL_CartPole_SARSA/sweeps/axs367lv</a>"
            ]
          },
          "metadata": {}
        },
        {
          "output_type": "display_data",
          "data": {
            "text/plain": [
              "<IPython.core.display.HTML object>"
            ],
            "text/html": [
              " View run at <a href='https://wandb.ai/abhijithvinod-indian-institue-of-technology-madras/RL_CartPole_SARSA/runs/72tzti2k' target=\"_blank\">https://wandb.ai/abhijithvinod-indian-institue-of-technology-madras/RL_CartPole_SARSA/runs/72tzti2k</a>"
            ]
          },
          "metadata": {}
        },
        {
          "output_type": "display_data",
          "data": {
            "text/plain": [
              "<IPython.core.display.HTML object>"
            ],
            "text/html": []
          },
          "metadata": {}
        },
        {
          "output_type": "display_data",
          "data": {
            "text/plain": [
              "<IPython.core.display.HTML object>"
            ],
            "text/html": [
              "<br>    <style><br>        .wandb-row {<br>            display: flex;<br>            flex-direction: row;<br>            flex-wrap: wrap;<br>            justify-content: flex-start;<br>            width: 100%;<br>        }<br>        .wandb-col {<br>            display: flex;<br>            flex-direction: column;<br>            flex-basis: 100%;<br>            flex: 1;<br>            padding: 10px;<br>        }<br>    </style><br><div class=\"wandb-row\"><div class=\"wandb-col\"><h3>Run history:</h3><br/><table class=\"wandb\"><tr><td>average_reward_across_seeds</td><td>▁</td></tr><tr><td>seed_101_episode</td><td>▁▁▁▂▂▂▂▂▂▂▂▃▃▃▃▃▃▃▃▃▄▄▄▄▄▅▅▅▅▅▆▆▇▇▇▇████</td></tr><tr><td>seed_101_reward</td><td>▁▁▁▁▁▁▂▁▁▂▂▄▂▄▄▃▇▄▃▃▄▄▂█▆▆▆▅▄▃█▄▅▂▃▃▄▁▄▇</td></tr><tr><td>seed_123_episode</td><td>▁▁▁▁▁▂▂▂▃▃▃▃▃▃▃▄▄▄▄▄▄▄▄▅▅▅▆▆▆▆▆▇▇▇▇▇████</td></tr><tr><td>seed_123_reward</td><td>▁▁▂▁▁▁▂▂▁▁▂▁▂▃▂▃▃▄▄▂▄▃▇█▄▄▄▄▃▄▃▇▄▅▆▆█▅▅▆</td></tr><tr><td>seed_42_episode</td><td>▁▁▂▂▂▂▂▂▂▃▃▃▃▃▃▃▄▄▄▄▅▅▅▅▅▆▆▆▆▆▆▆▇▇▇▇▇▇██</td></tr><tr><td>seed_42_reward</td><td>▁▁▁▁▁▂▆▄▄▅▂▃▄▄▅█▆▃▅▆▂▃▂▅▅▅█▄▅▄▇▇▅▃▂▃▆▃▂▅</td></tr><tr><td>seed_456_episode</td><td>▁▁▁▂▂▂▃▃▃▃▃▃▃▃▃▃▃▄▄▄▄▅▅▅▅▅▅▆▆▆▇▇▇▇▇▇▇███</td></tr><tr><td>seed_456_reward</td><td>▁▁▂▂▁▂▁▅▂▄▁▄▄▄▄▃▇▃▄▄▅▅▄▃▅▄▄▇█▂▃▄█▄▄▃▅▃▄▇</td></tr><tr><td>seed_789_episode</td><td>▁▁▁▁▂▂▃▃▃▃▃▃▃▃▄▄▄▄▄▄▅▅▅▅▅▅▆▆▆▆▆▆▆▆▆▇▇▇▇█</td></tr><tr><td>seed_789_reward</td><td>▁▁▁▁▁▁▁▁▂▂▂▂▂▂▄▁▁▁▃▅▂▂▆▅▄▁▃▃▂▃▄▃▃▃█▅▆▆▃▅</td></tr></table><br/></div><div class=\"wandb-col\"><h3>Run summary:</h3><br/><table class=\"wandb\"><tr><td>average_reward_across_seeds</td><td>97.436</td></tr><tr><td>seed_101_episode</td><td>999</td></tr><tr><td>seed_101_reward</td><td>196</td></tr><tr><td>seed_123_episode</td><td>999</td></tr><tr><td>seed_123_reward</td><td>99</td></tr><tr><td>seed_42_episode</td><td>999</td></tr><tr><td>seed_42_reward</td><td>93</td></tr><tr><td>seed_456_episode</td><td>999</td></tr><tr><td>seed_456_reward</td><td>59</td></tr><tr><td>seed_789_episode</td><td>999</td></tr><tr><td>seed_789_reward</td><td>185</td></tr></table><br/></div></div>"
            ]
          },
          "metadata": {}
        },
        {
          "output_type": "display_data",
          "data": {
            "text/plain": [
              "<IPython.core.display.HTML object>"
            ],
            "text/html": [
              " View run <strong style=\"color:#cdcd00\">lunar-sweep-36</strong> at: <a href='https://wandb.ai/abhijithvinod-indian-institue-of-technology-madras/RL_CartPole_SARSA/runs/72tzti2k' target=\"_blank\">https://wandb.ai/abhijithvinod-indian-institue-of-technology-madras/RL_CartPole_SARSA/runs/72tzti2k</a><br> View project at: <a href='https://wandb.ai/abhijithvinod-indian-institue-of-technology-madras/RL_CartPole_SARSA' target=\"_blank\">https://wandb.ai/abhijithvinod-indian-institue-of-technology-madras/RL_CartPole_SARSA</a><br>Synced 5 W&B file(s), 0 media file(s), 0 artifact file(s) and 0 other file(s)"
            ]
          },
          "metadata": {}
        },
        {
          "output_type": "display_data",
          "data": {
            "text/plain": [
              "<IPython.core.display.HTML object>"
            ],
            "text/html": [
              "Find logs at: <code>./wandb/run-20250331_144655-72tzti2k/logs</code>"
            ]
          },
          "metadata": {}
        },
        {
          "output_type": "stream",
          "name": "stderr",
          "text": [
            "\u001b[34m\u001b[1mwandb\u001b[0m: Agent Starting Run: 8fiqsb1h with config:\n",
            "\u001b[34m\u001b[1mwandb\u001b[0m: \talpha: 0.3117386985541326\n",
            "\u001b[34m\u001b[1mwandb\u001b[0m: \tepsilon: 0.1969189314859723\n",
            "\u001b[34m\u001b[1mwandb\u001b[0m: \tgamma: 0.99\n",
            "\u001b[34m\u001b[1mwandb\u001b[0m: \tn_bins: 10\n",
            "\u001b[34m\u001b[1mwandb\u001b[0m: \tn_episodes: 1000\n"
          ]
        },
        {
          "output_type": "display_data",
          "data": {
            "text/plain": [
              "<IPython.core.display.HTML object>"
            ],
            "text/html": [
              "Tracking run with wandb version 0.19.8"
            ]
          },
          "metadata": {}
        },
        {
          "output_type": "display_data",
          "data": {
            "text/plain": [
              "<IPython.core.display.HTML object>"
            ],
            "text/html": [
              "Run data is saved locally in <code>/content/wandb/run-20250331_144737-8fiqsb1h</code>"
            ]
          },
          "metadata": {}
        },
        {
          "output_type": "display_data",
          "data": {
            "text/plain": [
              "<IPython.core.display.HTML object>"
            ],
            "text/html": [
              "Syncing run <strong><a href='https://wandb.ai/abhijithvinod-indian-institue-of-technology-madras/RL_CartPole_SARSA/runs/8fiqsb1h' target=\"_blank\">twilight-sweep-37</a></strong> to <a href='https://wandb.ai/abhijithvinod-indian-institue-of-technology-madras/RL_CartPole_SARSA' target=\"_blank\">Weights & Biases</a> (<a href='https://wandb.me/developer-guide' target=\"_blank\">docs</a>)<br>Sweep page: <a href='https://wandb.ai/abhijithvinod-indian-institue-of-technology-madras/RL_CartPole_SARSA/sweeps/axs367lv' target=\"_blank\">https://wandb.ai/abhijithvinod-indian-institue-of-technology-madras/RL_CartPole_SARSA/sweeps/axs367lv</a>"
            ]
          },
          "metadata": {}
        },
        {
          "output_type": "display_data",
          "data": {
            "text/plain": [
              "<IPython.core.display.HTML object>"
            ],
            "text/html": [
              " View project at <a href='https://wandb.ai/abhijithvinod-indian-institue-of-technology-madras/RL_CartPole_SARSA' target=\"_blank\">https://wandb.ai/abhijithvinod-indian-institue-of-technology-madras/RL_CartPole_SARSA</a>"
            ]
          },
          "metadata": {}
        },
        {
          "output_type": "display_data",
          "data": {
            "text/plain": [
              "<IPython.core.display.HTML object>"
            ],
            "text/html": [
              " View sweep at <a href='https://wandb.ai/abhijithvinod-indian-institue-of-technology-madras/RL_CartPole_SARSA/sweeps/axs367lv' target=\"_blank\">https://wandb.ai/abhijithvinod-indian-institue-of-technology-madras/RL_CartPole_SARSA/sweeps/axs367lv</a>"
            ]
          },
          "metadata": {}
        },
        {
          "output_type": "display_data",
          "data": {
            "text/plain": [
              "<IPython.core.display.HTML object>"
            ],
            "text/html": [
              " View run at <a href='https://wandb.ai/abhijithvinod-indian-institue-of-technology-madras/RL_CartPole_SARSA/runs/8fiqsb1h' target=\"_blank\">https://wandb.ai/abhijithvinod-indian-institue-of-technology-madras/RL_CartPole_SARSA/runs/8fiqsb1h</a>"
            ]
          },
          "metadata": {}
        },
        {
          "output_type": "display_data",
          "data": {
            "text/plain": [
              "<IPython.core.display.HTML object>"
            ],
            "text/html": []
          },
          "metadata": {}
        },
        {
          "output_type": "display_data",
          "data": {
            "text/plain": [
              "<IPython.core.display.HTML object>"
            ],
            "text/html": [
              "<br>    <style><br>        .wandb-row {<br>            display: flex;<br>            flex-direction: row;<br>            flex-wrap: wrap;<br>            justify-content: flex-start;<br>            width: 100%;<br>        }<br>        .wandb-col {<br>            display: flex;<br>            flex-direction: column;<br>            flex-basis: 100%;<br>            flex: 1;<br>            padding: 10px;<br>        }<br>    </style><br><div class=\"wandb-row\"><div class=\"wandb-col\"><h3>Run history:</h3><br/><table class=\"wandb\"><tr><td>average_reward_across_seeds</td><td>▁</td></tr><tr><td>seed_101_episode</td><td>▁▁▁▁▁▁▁▂▂▂▂▃▃▃▃▄▄▄▄▅▅▆▆▆▆▆▆▆▆▆▇▇▇▇▇█████</td></tr><tr><td>seed_101_reward</td><td>▁▁▁▁▂▁▁▂▂▁▂▁▁▂▂▂▁▃▃▄▃▄▃▄▃▄▇▅▆▂▄▃▇▆▆▂▅▄▅█</td></tr><tr><td>seed_123_episode</td><td>▁▁▁▂▂▂▂▃▃▃▃▄▄▄▄▄▄▄▄▄▄▅▅▅▅▆▆▆▆▆▇▇▇▇▇▇████</td></tr><tr><td>seed_123_reward</td><td>▁▁▁▁▂▁▁▂▄▃█▃▂▆▃▃▅▅▄▅▃▆█▇▆▂▄▄▇▆▅▄▄▄█▇▂▁▄▄</td></tr><tr><td>seed_42_episode</td><td>▁▁▁▂▂▂▂▂▂▂▃▃▃▃▃▃▃▄▄▄▄▅▅▅▅▅▅▅▆▆▆▆▆▆▇▇▇███</td></tr><tr><td>seed_42_reward</td><td>▂▂▁▁▁▁▁▃▁▁▁▂▂▂▁▃▂▃▂▄▂▂█▁▁▃▅▃▄▆▄▃▄▁▄▄▂█▄▆</td></tr><tr><td>seed_456_episode</td><td>▁▂▂▂▂▃▃▃▃▃▃▃▃▃▃▄▄▄▄▄▄▄▄▅▅▅▅▅▅▆▆▇▇▇▇█████</td></tr><tr><td>seed_456_reward</td><td>▁▁▁▃▁▁▁▁▁▁▂▁▁▁▂▁▂▁▂▄▄▂▃▅▃▅▃▆▇█▃▃▄▅▆▄▆▃▃▅</td></tr><tr><td>seed_789_episode</td><td>▁▁▁▁▁▁▁▁▂▂▃▃▃▃▃▃▄▄▄▄▅▅▅▅▅▆▆▇▇▇▇▇████████</td></tr><tr><td>seed_789_reward</td><td>▁▁▁▁▁▁▂▂▁▃▂▅▂▁▃▁▅▂▅▄▄█▃▃▃▄▄▃▄▃▃▅▅▂▃▄▂▆▁▄</td></tr></table><br/></div><div class=\"wandb-col\"><h3>Run summary:</h3><br/><table class=\"wandb\"><tr><td>average_reward_across_seeds</td><td>90.572</td></tr><tr><td>seed_101_episode</td><td>999</td></tr><tr><td>seed_101_reward</td><td>101</td></tr><tr><td>seed_123_episode</td><td>999</td></tr><tr><td>seed_123_reward</td><td>71</td></tr><tr><td>seed_42_episode</td><td>999</td></tr><tr><td>seed_42_reward</td><td>74</td></tr><tr><td>seed_456_episode</td><td>999</td></tr><tr><td>seed_456_reward</td><td>100</td></tr><tr><td>seed_789_episode</td><td>999</td></tr><tr><td>seed_789_reward</td><td>234</td></tr></table><br/></div></div>"
            ]
          },
          "metadata": {}
        },
        {
          "output_type": "display_data",
          "data": {
            "text/plain": [
              "<IPython.core.display.HTML object>"
            ],
            "text/html": [
              " View run <strong style=\"color:#cdcd00\">twilight-sweep-37</strong> at: <a href='https://wandb.ai/abhijithvinod-indian-institue-of-technology-madras/RL_CartPole_SARSA/runs/8fiqsb1h' target=\"_blank\">https://wandb.ai/abhijithvinod-indian-institue-of-technology-madras/RL_CartPole_SARSA/runs/8fiqsb1h</a><br> View project at: <a href='https://wandb.ai/abhijithvinod-indian-institue-of-technology-madras/RL_CartPole_SARSA' target=\"_blank\">https://wandb.ai/abhijithvinod-indian-institue-of-technology-madras/RL_CartPole_SARSA</a><br>Synced 5 W&B file(s), 0 media file(s), 0 artifact file(s) and 0 other file(s)"
            ]
          },
          "metadata": {}
        },
        {
          "output_type": "display_data",
          "data": {
            "text/plain": [
              "<IPython.core.display.HTML object>"
            ],
            "text/html": [
              "Find logs at: <code>./wandb/run-20250331_144737-8fiqsb1h/logs</code>"
            ]
          },
          "metadata": {}
        },
        {
          "output_type": "stream",
          "name": "stderr",
          "text": [
            "\u001b[34m\u001b[1mwandb\u001b[0m: Agent Starting Run: 7m851s03 with config:\n",
            "\u001b[34m\u001b[1mwandb\u001b[0m: \talpha: 0.4509150761055378\n",
            "\u001b[34m\u001b[1mwandb\u001b[0m: \tepsilon: 0.13612839930007706\n",
            "\u001b[34m\u001b[1mwandb\u001b[0m: \tgamma: 0.99\n",
            "\u001b[34m\u001b[1mwandb\u001b[0m: \tn_bins: 20\n",
            "\u001b[34m\u001b[1mwandb\u001b[0m: \tn_episodes: 1000\n"
          ]
        },
        {
          "output_type": "display_data",
          "data": {
            "text/plain": [
              "<IPython.core.display.HTML object>"
            ],
            "text/html": [
              "Tracking run with wandb version 0.19.8"
            ]
          },
          "metadata": {}
        },
        {
          "output_type": "display_data",
          "data": {
            "text/plain": [
              "<IPython.core.display.HTML object>"
            ],
            "text/html": [
              "Run data is saved locally in <code>/content/wandb/run-20250331_144822-7m851s03</code>"
            ]
          },
          "metadata": {}
        },
        {
          "output_type": "display_data",
          "data": {
            "text/plain": [
              "<IPython.core.display.HTML object>"
            ],
            "text/html": [
              "Syncing run <strong><a href='https://wandb.ai/abhijithvinod-indian-institue-of-technology-madras/RL_CartPole_SARSA/runs/7m851s03' target=\"_blank\">bumbling-sweep-38</a></strong> to <a href='https://wandb.ai/abhijithvinod-indian-institue-of-technology-madras/RL_CartPole_SARSA' target=\"_blank\">Weights & Biases</a> (<a href='https://wandb.me/developer-guide' target=\"_blank\">docs</a>)<br>Sweep page: <a href='https://wandb.ai/abhijithvinod-indian-institue-of-technology-madras/RL_CartPole_SARSA/sweeps/axs367lv' target=\"_blank\">https://wandb.ai/abhijithvinod-indian-institue-of-technology-madras/RL_CartPole_SARSA/sweeps/axs367lv</a>"
            ]
          },
          "metadata": {}
        },
        {
          "output_type": "display_data",
          "data": {
            "text/plain": [
              "<IPython.core.display.HTML object>"
            ],
            "text/html": [
              " View project at <a href='https://wandb.ai/abhijithvinod-indian-institue-of-technology-madras/RL_CartPole_SARSA' target=\"_blank\">https://wandb.ai/abhijithvinod-indian-institue-of-technology-madras/RL_CartPole_SARSA</a>"
            ]
          },
          "metadata": {}
        },
        {
          "output_type": "display_data",
          "data": {
            "text/plain": [
              "<IPython.core.display.HTML object>"
            ],
            "text/html": [
              " View sweep at <a href='https://wandb.ai/abhijithvinod-indian-institue-of-technology-madras/RL_CartPole_SARSA/sweeps/axs367lv' target=\"_blank\">https://wandb.ai/abhijithvinod-indian-institue-of-technology-madras/RL_CartPole_SARSA/sweeps/axs367lv</a>"
            ]
          },
          "metadata": {}
        },
        {
          "output_type": "display_data",
          "data": {
            "text/plain": [
              "<IPython.core.display.HTML object>"
            ],
            "text/html": [
              " View run at <a href='https://wandb.ai/abhijithvinod-indian-institue-of-technology-madras/RL_CartPole_SARSA/runs/7m851s03' target=\"_blank\">https://wandb.ai/abhijithvinod-indian-institue-of-technology-madras/RL_CartPole_SARSA/runs/7m851s03</a>"
            ]
          },
          "metadata": {}
        },
        {
          "output_type": "display_data",
          "data": {
            "text/plain": [
              "<IPython.core.display.HTML object>"
            ],
            "text/html": []
          },
          "metadata": {}
        },
        {
          "output_type": "display_data",
          "data": {
            "text/plain": [
              "<IPython.core.display.HTML object>"
            ],
            "text/html": [
              "<br>    <style><br>        .wandb-row {<br>            display: flex;<br>            flex-direction: row;<br>            flex-wrap: wrap;<br>            justify-content: flex-start;<br>            width: 100%;<br>        }<br>        .wandb-col {<br>            display: flex;<br>            flex-direction: column;<br>            flex-basis: 100%;<br>            flex: 1;<br>            padding: 10px;<br>        }<br>    </style><br><div class=\"wandb-row\"><div class=\"wandb-col\"><h3>Run history:</h3><br/><table class=\"wandb\"><tr><td>average_reward_across_seeds</td><td>▁</td></tr><tr><td>seed_101_episode</td><td>▁▁▁▁▁▂▂▂▂▂▃▃▃▃▄▄▄▄▄▅▅▅▅▅▆▆▆▆▆▆▇▇▇▇▇▇████</td></tr><tr><td>seed_101_reward</td><td>▁▁▁▁▂▁▂▂▁▁▁▂▂▁▂▂▁▂▃▂▃▇▄▃▄▄▁▅█▅▇▆▃▅▃▃▄▃▆▅</td></tr><tr><td>seed_123_episode</td><td>▁▁▁▁▁▂▂▂▂▂▂▂▂▃▃▃▃▄▄▄▅▅▅▅▅▆▆▆▆▆▆▆▇▇▇▇▇▇▇█</td></tr><tr><td>seed_123_reward</td><td>▁▁▁▁▁▁▁▁▁▁▁▃▃▃▂▂▃▄▂▃▃▂▄▅▃▄▄▄▄▅▃▄▃▂▄▂▄█▂█</td></tr><tr><td>seed_42_episode</td><td>▁▁▁▁▁▂▂▂▂▂▃▃▃▃▃▃▄▄▄▄▄▄▄▅▅▅▅▅▆▆▆▇▇▇▇▇▇███</td></tr><tr><td>seed_42_reward</td><td>▁▁▁▁▁▁▁▁▁▁▁▄▂▁▃▃█▃▄▄▃▂▃▃▃▅▃▅▃▃▅▂▄▄▂▅▂▅▂▄</td></tr><tr><td>seed_456_episode</td><td>▁▁▂▂▃▃▃▃▃▃▃▃▃▄▄▄▄▄▄▄▅▅▅▆▆▆▆▆▆▇▇▇▇▇▇▇████</td></tr><tr><td>seed_456_reward</td><td>▂▂▂▃▂▁▄▁▄▄▄▄▄▃▂▅▃▃▄▄▂▅▂▆▃▅▆▂▅██▅▃▃▆▄▂▅▆▆</td></tr><tr><td>seed_789_episode</td><td>▁▁▂▂▂▂▂▂▂▂▃▃▃▃▃▃▄▄▄▄▅▅▅▅▅▅▆▆▆▆▇▇▇▇▇▇████</td></tr><tr><td>seed_789_reward</td><td>▁▁▁▁▁▁▁▁▁▁▁▁▁▁▁▁▁▁▁▁▁▁▂▂▃▂▄▃▁▄▅▂▃▂▂▁▂█▂▂</td></tr></table><br/></div><div class=\"wandb-col\"><h3>Run summary:</h3><br/><table class=\"wandb\"><tr><td>average_reward_across_seeds</td><td>89.116</td></tr><tr><td>seed_101_episode</td><td>999</td></tr><tr><td>seed_101_reward</td><td>83</td></tr><tr><td>seed_123_episode</td><td>999</td></tr><tr><td>seed_123_reward</td><td>158</td></tr><tr><td>seed_42_episode</td><td>999</td></tr><tr><td>seed_42_reward</td><td>136</td></tr><tr><td>seed_456_episode</td><td>999</td></tr><tr><td>seed_456_reward</td><td>46</td></tr><tr><td>seed_789_episode</td><td>999</td></tr><tr><td>seed_789_reward</td><td>64</td></tr></table><br/></div></div>"
            ]
          },
          "metadata": {}
        },
        {
          "output_type": "display_data",
          "data": {
            "text/plain": [
              "<IPython.core.display.HTML object>"
            ],
            "text/html": [
              " View run <strong style=\"color:#cdcd00\">bumbling-sweep-38</strong> at: <a href='https://wandb.ai/abhijithvinod-indian-institue-of-technology-madras/RL_CartPole_SARSA/runs/7m851s03' target=\"_blank\">https://wandb.ai/abhijithvinod-indian-institue-of-technology-madras/RL_CartPole_SARSA/runs/7m851s03</a><br> View project at: <a href='https://wandb.ai/abhijithvinod-indian-institue-of-technology-madras/RL_CartPole_SARSA' target=\"_blank\">https://wandb.ai/abhijithvinod-indian-institue-of-technology-madras/RL_CartPole_SARSA</a><br>Synced 5 W&B file(s), 0 media file(s), 0 artifact file(s) and 0 other file(s)"
            ]
          },
          "metadata": {}
        },
        {
          "output_type": "display_data",
          "data": {
            "text/plain": [
              "<IPython.core.display.HTML object>"
            ],
            "text/html": [
              "Find logs at: <code>./wandb/run-20250331_144822-7m851s03/logs</code>"
            ]
          },
          "metadata": {}
        },
        {
          "output_type": "stream",
          "name": "stderr",
          "text": [
            "\u001b[34m\u001b[1mwandb\u001b[0m: Agent Starting Run: su4kqbd8 with config:\n",
            "\u001b[34m\u001b[1mwandb\u001b[0m: \talpha: 0.4842064396003078\n",
            "\u001b[34m\u001b[1mwandb\u001b[0m: \tepsilon: 0.1647830641543609\n",
            "\u001b[34m\u001b[1mwandb\u001b[0m: \tgamma: 0.99\n",
            "\u001b[34m\u001b[1mwandb\u001b[0m: \tn_bins: 20\n",
            "\u001b[34m\u001b[1mwandb\u001b[0m: \tn_episodes: 1000\n"
          ]
        },
        {
          "output_type": "display_data",
          "data": {
            "text/plain": [
              "<IPython.core.display.HTML object>"
            ],
            "text/html": [
              "Tracking run with wandb version 0.19.8"
            ]
          },
          "metadata": {}
        },
        {
          "output_type": "display_data",
          "data": {
            "text/plain": [
              "<IPython.core.display.HTML object>"
            ],
            "text/html": [
              "Run data is saved locally in <code>/content/wandb/run-20250331_144902-su4kqbd8</code>"
            ]
          },
          "metadata": {}
        },
        {
          "output_type": "display_data",
          "data": {
            "text/plain": [
              "<IPython.core.display.HTML object>"
            ],
            "text/html": [
              "Syncing run <strong><a href='https://wandb.ai/abhijithvinod-indian-institue-of-technology-madras/RL_CartPole_SARSA/runs/su4kqbd8' target=\"_blank\">peach-sweep-39</a></strong> to <a href='https://wandb.ai/abhijithvinod-indian-institue-of-technology-madras/RL_CartPole_SARSA' target=\"_blank\">Weights & Biases</a> (<a href='https://wandb.me/developer-guide' target=\"_blank\">docs</a>)<br>Sweep page: <a href='https://wandb.ai/abhijithvinod-indian-institue-of-technology-madras/RL_CartPole_SARSA/sweeps/axs367lv' target=\"_blank\">https://wandb.ai/abhijithvinod-indian-institue-of-technology-madras/RL_CartPole_SARSA/sweeps/axs367lv</a>"
            ]
          },
          "metadata": {}
        },
        {
          "output_type": "display_data",
          "data": {
            "text/plain": [
              "<IPython.core.display.HTML object>"
            ],
            "text/html": [
              " View project at <a href='https://wandb.ai/abhijithvinod-indian-institue-of-technology-madras/RL_CartPole_SARSA' target=\"_blank\">https://wandb.ai/abhijithvinod-indian-institue-of-technology-madras/RL_CartPole_SARSA</a>"
            ]
          },
          "metadata": {}
        },
        {
          "output_type": "display_data",
          "data": {
            "text/plain": [
              "<IPython.core.display.HTML object>"
            ],
            "text/html": [
              " View sweep at <a href='https://wandb.ai/abhijithvinod-indian-institue-of-technology-madras/RL_CartPole_SARSA/sweeps/axs367lv' target=\"_blank\">https://wandb.ai/abhijithvinod-indian-institue-of-technology-madras/RL_CartPole_SARSA/sweeps/axs367lv</a>"
            ]
          },
          "metadata": {}
        },
        {
          "output_type": "display_data",
          "data": {
            "text/plain": [
              "<IPython.core.display.HTML object>"
            ],
            "text/html": [
              " View run at <a href='https://wandb.ai/abhijithvinod-indian-institue-of-technology-madras/RL_CartPole_SARSA/runs/su4kqbd8' target=\"_blank\">https://wandb.ai/abhijithvinod-indian-institue-of-technology-madras/RL_CartPole_SARSA/runs/su4kqbd8</a>"
            ]
          },
          "metadata": {}
        },
        {
          "output_type": "display_data",
          "data": {
            "text/plain": [
              "<IPython.core.display.HTML object>"
            ],
            "text/html": []
          },
          "metadata": {}
        },
        {
          "output_type": "display_data",
          "data": {
            "text/plain": [
              "<IPython.core.display.HTML object>"
            ],
            "text/html": [
              "<br>    <style><br>        .wandb-row {<br>            display: flex;<br>            flex-direction: row;<br>            flex-wrap: wrap;<br>            justify-content: flex-start;<br>            width: 100%;<br>        }<br>        .wandb-col {<br>            display: flex;<br>            flex-direction: column;<br>            flex-basis: 100%;<br>            flex: 1;<br>            padding: 10px;<br>        }<br>    </style><br><div class=\"wandb-row\"><div class=\"wandb-col\"><h3>Run history:</h3><br/><table class=\"wandb\"><tr><td>average_reward_across_seeds</td><td>▁</td></tr><tr><td>seed_101_episode</td><td>▁▁▁▁▁▁▂▂▂▂▂▂▂▂▂▃▃▃▄▄▄▄▄▄▄▅▅▆▆▆▆▇▇▇▇▇▇███</td></tr><tr><td>seed_101_reward</td><td>▁▁▁▁▂▁▁▃▂▁▂▂▃▄▃▂▁▃▄▃▄▄▆▃█▂▃▄▁▅▄▁▅▂▅▄▆▄█▅</td></tr><tr><td>seed_123_episode</td><td>▁▁▁▂▂▂▂▂▂▂▃▃▃▄▄▄▄▄▄▄▅▅▅▅▆▆▆▆▆▇▇▇▇▇▇█████</td></tr><tr><td>seed_123_reward</td><td>▁▁▁▁▁▁▁▂▁▁▂▂▁▁▁▃▂▂▂▃▂▃▂▃▂▃▂▆█▄▃▃▃▃▄▂▃▂▄▃</td></tr><tr><td>seed_42_episode</td><td>▁▁▁▂▂▃▃▃▃▃▃▃▃▄▄▄▄▄▄▅▅▅▅▅▅▆▆▆▆▆▆▇▇▇▇▇▇▇▇█</td></tr><tr><td>seed_42_reward</td><td>▁▁▁▂▂▂▅▂▄▁▁▁▂▅▄▄▇▁▂▄▆▄▃█▂▃▅▄▅▃▅▄▄▃▇▆▂▅▅▃</td></tr><tr><td>seed_456_episode</td><td>▁▁▁▁▁▂▂▂▂▂▃▃▃▃▃▃▃▄▄▄▅▅▅▅▅▅▅▅▅▆▆▆▆▆▇▇▇▇██</td></tr><tr><td>seed_456_reward</td><td>▁▁▁▁▂▁▁▁▂▁▂▄█▄▄▄▇▆▃▂▃▄▄▁▄▃▄▄▅▄▂▃▃▄▂▃▄▅▇▃</td></tr><tr><td>seed_789_episode</td><td>▁▂▂▂▂▃▃▃▃▃▃▃▄▄▄▄▄▅▅▅▅▅▅▅▅▅▆▆▆▆▇▇▇▇▇█████</td></tr><tr><td>seed_789_reward</td><td>▁▁▁▁▁▁▁▁▁▁▁▁▂▁▁▁▂▂▁▂▃▄▁▃▃▂▃▂▂▃▅▂▅▆▄▃▄▆▂█</td></tr></table><br/></div><div class=\"wandb-col\"><h3>Run summary:</h3><br/><table class=\"wandb\"><tr><td>average_reward_across_seeds</td><td>97.848</td></tr><tr><td>seed_101_episode</td><td>999</td></tr><tr><td>seed_101_reward</td><td>95</td></tr><tr><td>seed_123_episode</td><td>999</td></tr><tr><td>seed_123_reward</td><td>131</td></tr><tr><td>seed_42_episode</td><td>999</td></tr><tr><td>seed_42_reward</td><td>132</td></tr><tr><td>seed_456_episode</td><td>999</td></tr><tr><td>seed_456_reward</td><td>60</td></tr><tr><td>seed_789_episode</td><td>999</td></tr><tr><td>seed_789_reward</td><td>85</td></tr></table><br/></div></div>"
            ]
          },
          "metadata": {}
        },
        {
          "output_type": "display_data",
          "data": {
            "text/plain": [
              "<IPython.core.display.HTML object>"
            ],
            "text/html": [
              " View run <strong style=\"color:#cdcd00\">peach-sweep-39</strong> at: <a href='https://wandb.ai/abhijithvinod-indian-institue-of-technology-madras/RL_CartPole_SARSA/runs/su4kqbd8' target=\"_blank\">https://wandb.ai/abhijithvinod-indian-institue-of-technology-madras/RL_CartPole_SARSA/runs/su4kqbd8</a><br> View project at: <a href='https://wandb.ai/abhijithvinod-indian-institue-of-technology-madras/RL_CartPole_SARSA' target=\"_blank\">https://wandb.ai/abhijithvinod-indian-institue-of-technology-madras/RL_CartPole_SARSA</a><br>Synced 5 W&B file(s), 0 media file(s), 0 artifact file(s) and 0 other file(s)"
            ]
          },
          "metadata": {}
        },
        {
          "output_type": "display_data",
          "data": {
            "text/plain": [
              "<IPython.core.display.HTML object>"
            ],
            "text/html": [
              "Find logs at: <code>./wandb/run-20250331_144902-su4kqbd8/logs</code>"
            ]
          },
          "metadata": {}
        },
        {
          "output_type": "stream",
          "name": "stderr",
          "text": [
            "\u001b[34m\u001b[1mwandb\u001b[0m: Agent Starting Run: we0zjdm2 with config:\n",
            "\u001b[34m\u001b[1mwandb\u001b[0m: \talpha: 0.3807356673391468\n",
            "\u001b[34m\u001b[1mwandb\u001b[0m: \tepsilon: 0.1555447624395171\n",
            "\u001b[34m\u001b[1mwandb\u001b[0m: \tgamma: 0.99\n",
            "\u001b[34m\u001b[1mwandb\u001b[0m: \tn_bins: 20\n",
            "\u001b[34m\u001b[1mwandb\u001b[0m: \tn_episodes: 1000\n"
          ]
        },
        {
          "output_type": "display_data",
          "data": {
            "text/plain": [
              "<IPython.core.display.HTML object>"
            ],
            "text/html": [
              "Tracking run with wandb version 0.19.8"
            ]
          },
          "metadata": {}
        },
        {
          "output_type": "display_data",
          "data": {
            "text/plain": [
              "<IPython.core.display.HTML object>"
            ],
            "text/html": [
              "Run data is saved locally in <code>/content/wandb/run-20250331_144944-we0zjdm2</code>"
            ]
          },
          "metadata": {}
        },
        {
          "output_type": "display_data",
          "data": {
            "text/plain": [
              "<IPython.core.display.HTML object>"
            ],
            "text/html": [
              "Syncing run <strong><a href='https://wandb.ai/abhijithvinod-indian-institue-of-technology-madras/RL_CartPole_SARSA/runs/we0zjdm2' target=\"_blank\">balmy-sweep-40</a></strong> to <a href='https://wandb.ai/abhijithvinod-indian-institue-of-technology-madras/RL_CartPole_SARSA' target=\"_blank\">Weights & Biases</a> (<a href='https://wandb.me/developer-guide' target=\"_blank\">docs</a>)<br>Sweep page: <a href='https://wandb.ai/abhijithvinod-indian-institue-of-technology-madras/RL_CartPole_SARSA/sweeps/axs367lv' target=\"_blank\">https://wandb.ai/abhijithvinod-indian-institue-of-technology-madras/RL_CartPole_SARSA/sweeps/axs367lv</a>"
            ]
          },
          "metadata": {}
        },
        {
          "output_type": "display_data",
          "data": {
            "text/plain": [
              "<IPython.core.display.HTML object>"
            ],
            "text/html": [
              " View project at <a href='https://wandb.ai/abhijithvinod-indian-institue-of-technology-madras/RL_CartPole_SARSA' target=\"_blank\">https://wandb.ai/abhijithvinod-indian-institue-of-technology-madras/RL_CartPole_SARSA</a>"
            ]
          },
          "metadata": {}
        },
        {
          "output_type": "display_data",
          "data": {
            "text/plain": [
              "<IPython.core.display.HTML object>"
            ],
            "text/html": [
              " View sweep at <a href='https://wandb.ai/abhijithvinod-indian-institue-of-technology-madras/RL_CartPole_SARSA/sweeps/axs367lv' target=\"_blank\">https://wandb.ai/abhijithvinod-indian-institue-of-technology-madras/RL_CartPole_SARSA/sweeps/axs367lv</a>"
            ]
          },
          "metadata": {}
        },
        {
          "output_type": "display_data",
          "data": {
            "text/plain": [
              "<IPython.core.display.HTML object>"
            ],
            "text/html": [
              " View run at <a href='https://wandb.ai/abhijithvinod-indian-institue-of-technology-madras/RL_CartPole_SARSA/runs/we0zjdm2' target=\"_blank\">https://wandb.ai/abhijithvinod-indian-institue-of-technology-madras/RL_CartPole_SARSA/runs/we0zjdm2</a>"
            ]
          },
          "metadata": {}
        },
        {
          "output_type": "display_data",
          "data": {
            "text/plain": [
              "<IPython.core.display.HTML object>"
            ],
            "text/html": []
          },
          "metadata": {}
        },
        {
          "output_type": "display_data",
          "data": {
            "text/plain": [
              "<IPython.core.display.HTML object>"
            ],
            "text/html": [
              "<br>    <style><br>        .wandb-row {<br>            display: flex;<br>            flex-direction: row;<br>            flex-wrap: wrap;<br>            justify-content: flex-start;<br>            width: 100%;<br>        }<br>        .wandb-col {<br>            display: flex;<br>            flex-direction: column;<br>            flex-basis: 100%;<br>            flex: 1;<br>            padding: 10px;<br>        }<br>    </style><br><div class=\"wandb-row\"><div class=\"wandb-col\"><h3>Run history:</h3><br/><table class=\"wandb\"><tr><td>average_reward_across_seeds</td><td>▁</td></tr><tr><td>seed_101_episode</td><td>▁▁▁▁▁▁▁▂▂▂▂▂▂▂▂▃▃▃▃▃▃▃▄▄▄▄▅▅▅▅▅▅▆▆▆▆▇███</td></tr><tr><td>seed_101_reward</td><td>▁▁▁▁▁▁▁▁▂▁▃▂▂▃▂▃▃▂▃▂▅▅▃▄▃▂▂▃▃▂█▆▄▅▂▅▃▄▂▄</td></tr><tr><td>seed_123_episode</td><td>▁▁▁▂▂▂▂▂▃▃▃▃▃▄▄▄▄▄▅▅▅▅▅▅▅▆▆▆▆▆▆▆▆▇▇▇▇▇██</td></tr><tr><td>seed_123_reward</td><td>▁▁▁▁▁▁▁▁▂▁▂▁▃▃▂▅▂▂▃▂▃▄▃▃▂▂█▇▅▆▃▁▂▄▃▄▄▂▇▃</td></tr><tr><td>seed_42_episode</td><td>▁▁▁▂▂▂▂▂▂▂▃▃▃▃▄▄▄▄▄▄▅▅▅▅▅▅▆▆▆▆▆▆▆▇▇▇▇▇▇█</td></tr><tr><td>seed_42_reward</td><td>▂▁▂▂▁▁▁▁▁▂▃▁▂▄▄▃▂▃▃▅▃▄▆▅▄▃▅▅▇▂▃▂▇▄▆▄▅▆█▅</td></tr><tr><td>seed_456_episode</td><td>▁▁▁▂▂▂▂▂▂▂▃▃▃▃▃▄▄▄▄▅▅▅▅▅▅▅▆▆▆▆▆▆▆▆▆▇▇███</td></tr><tr><td>seed_456_reward</td><td>▁▁▁▁▁▂▁▂▁▂▂▄▂▃▃▂▅▂▆▆▃▂▆▄▃▂▄▃▆▅▃▆▅▁▃▄█▂▅█</td></tr><tr><td>seed_789_episode</td><td>▁▁▁▁▂▂▂▂▂▂▃▃▃▃▄▄▄▄▄▄▄▄▄▅▅▅▅▅▆▆▆▆▆▇▇▇▇▇██</td></tr><tr><td>seed_789_reward</td><td>▁▂▁▁▂▃▁▂▄▁▂▃▁▁▁▂▃▆▅▂▆▅▄▃▂▄▆▄▆▄▇▅▃▆▅▆█▄▃▅</td></tr></table><br/></div><div class=\"wandb-col\"><h3>Run summary:</h3><br/><table class=\"wandb\"><tr><td>average_reward_across_seeds</td><td>104.9</td></tr><tr><td>seed_101_episode</td><td>999</td></tr><tr><td>seed_101_reward</td><td>222</td></tr><tr><td>seed_123_episode</td><td>999</td></tr><tr><td>seed_123_reward</td><td>162</td></tr><tr><td>seed_42_episode</td><td>999</td></tr><tr><td>seed_42_reward</td><td>94</td></tr><tr><td>seed_456_episode</td><td>999</td></tr><tr><td>seed_456_reward</td><td>116</td></tr><tr><td>seed_789_episode</td><td>999</td></tr><tr><td>seed_789_reward</td><td>57</td></tr></table><br/></div></div>"
            ]
          },
          "metadata": {}
        },
        {
          "output_type": "display_data",
          "data": {
            "text/plain": [
              "<IPython.core.display.HTML object>"
            ],
            "text/html": [
              " View run <strong style=\"color:#cdcd00\">balmy-sweep-40</strong> at: <a href='https://wandb.ai/abhijithvinod-indian-institue-of-technology-madras/RL_CartPole_SARSA/runs/we0zjdm2' target=\"_blank\">https://wandb.ai/abhijithvinod-indian-institue-of-technology-madras/RL_CartPole_SARSA/runs/we0zjdm2</a><br> View project at: <a href='https://wandb.ai/abhijithvinod-indian-institue-of-technology-madras/RL_CartPole_SARSA' target=\"_blank\">https://wandb.ai/abhijithvinod-indian-institue-of-technology-madras/RL_CartPole_SARSA</a><br>Synced 5 W&B file(s), 0 media file(s), 0 artifact file(s) and 0 other file(s)"
            ]
          },
          "metadata": {}
        },
        {
          "output_type": "display_data",
          "data": {
            "text/plain": [
              "<IPython.core.display.HTML object>"
            ],
            "text/html": [
              "Find logs at: <code>./wandb/run-20250331_144944-we0zjdm2/logs</code>"
            ]
          },
          "metadata": {}
        },
        {
          "output_type": "stream",
          "name": "stderr",
          "text": [
            "\u001b[34m\u001b[1mwandb\u001b[0m: Agent Starting Run: odzo9a0n with config:\n",
            "\u001b[34m\u001b[1mwandb\u001b[0m: \talpha: 0.3899695520332141\n",
            "\u001b[34m\u001b[1mwandb\u001b[0m: \tepsilon: 0.14176349073774502\n",
            "\u001b[34m\u001b[1mwandb\u001b[0m: \tgamma: 0.99\n",
            "\u001b[34m\u001b[1mwandb\u001b[0m: \tn_bins: 20\n",
            "\u001b[34m\u001b[1mwandb\u001b[0m: \tn_episodes: 1000\n"
          ]
        },
        {
          "output_type": "display_data",
          "data": {
            "text/plain": [
              "<IPython.core.display.HTML object>"
            ],
            "text/html": [
              "Tracking run with wandb version 0.19.8"
            ]
          },
          "metadata": {}
        },
        {
          "output_type": "display_data",
          "data": {
            "text/plain": [
              "<IPython.core.display.HTML object>"
            ],
            "text/html": [
              "Run data is saved locally in <code>/content/wandb/run-20250331_145030-odzo9a0n</code>"
            ]
          },
          "metadata": {}
        },
        {
          "output_type": "display_data",
          "data": {
            "text/plain": [
              "<IPython.core.display.HTML object>"
            ],
            "text/html": [
              "Syncing run <strong><a href='https://wandb.ai/abhijithvinod-indian-institue-of-technology-madras/RL_CartPole_SARSA/runs/odzo9a0n' target=\"_blank\">resilient-sweep-41</a></strong> to <a href='https://wandb.ai/abhijithvinod-indian-institue-of-technology-madras/RL_CartPole_SARSA' target=\"_blank\">Weights & Biases</a> (<a href='https://wandb.me/developer-guide' target=\"_blank\">docs</a>)<br>Sweep page: <a href='https://wandb.ai/abhijithvinod-indian-institue-of-technology-madras/RL_CartPole_SARSA/sweeps/axs367lv' target=\"_blank\">https://wandb.ai/abhijithvinod-indian-institue-of-technology-madras/RL_CartPole_SARSA/sweeps/axs367lv</a>"
            ]
          },
          "metadata": {}
        },
        {
          "output_type": "display_data",
          "data": {
            "text/plain": [
              "<IPython.core.display.HTML object>"
            ],
            "text/html": [
              " View project at <a href='https://wandb.ai/abhijithvinod-indian-institue-of-technology-madras/RL_CartPole_SARSA' target=\"_blank\">https://wandb.ai/abhijithvinod-indian-institue-of-technology-madras/RL_CartPole_SARSA</a>"
            ]
          },
          "metadata": {}
        },
        {
          "output_type": "display_data",
          "data": {
            "text/plain": [
              "<IPython.core.display.HTML object>"
            ],
            "text/html": [
              " View sweep at <a href='https://wandb.ai/abhijithvinod-indian-institue-of-technology-madras/RL_CartPole_SARSA/sweeps/axs367lv' target=\"_blank\">https://wandb.ai/abhijithvinod-indian-institue-of-technology-madras/RL_CartPole_SARSA/sweeps/axs367lv</a>"
            ]
          },
          "metadata": {}
        },
        {
          "output_type": "display_data",
          "data": {
            "text/plain": [
              "<IPython.core.display.HTML object>"
            ],
            "text/html": [
              " View run at <a href='https://wandb.ai/abhijithvinod-indian-institue-of-technology-madras/RL_CartPole_SARSA/runs/odzo9a0n' target=\"_blank\">https://wandb.ai/abhijithvinod-indian-institue-of-technology-madras/RL_CartPole_SARSA/runs/odzo9a0n</a>"
            ]
          },
          "metadata": {}
        },
        {
          "output_type": "display_data",
          "data": {
            "text/plain": [
              "<IPython.core.display.HTML object>"
            ],
            "text/html": []
          },
          "metadata": {}
        },
        {
          "output_type": "display_data",
          "data": {
            "text/plain": [
              "<IPython.core.display.HTML object>"
            ],
            "text/html": [
              "<br>    <style><br>        .wandb-row {<br>            display: flex;<br>            flex-direction: row;<br>            flex-wrap: wrap;<br>            justify-content: flex-start;<br>            width: 100%;<br>        }<br>        .wandb-col {<br>            display: flex;<br>            flex-direction: column;<br>            flex-basis: 100%;<br>            flex: 1;<br>            padding: 10px;<br>        }<br>    </style><br><div class=\"wandb-row\"><div class=\"wandb-col\"><h3>Run history:</h3><br/><table class=\"wandb\"><tr><td>average_reward_across_seeds</td><td>▁</td></tr><tr><td>seed_101_episode</td><td>▁▁▁▁▁▂▂▂▂▂▂▂▃▃▃▃▃▄▄▄▄▅▅▅▆▆▆▆▆▆▆▆▇▇▇▇▇▇██</td></tr><tr><td>seed_101_reward</td><td>▁▁▁▂▁▁▁▁▂▁▂▃▄▂▃▄▄▅▃▄▄▃▄▂▆▃▂█▂▅▂█▃▅▄▅▅▃▂▃</td></tr><tr><td>seed_123_episode</td><td>▁▁▁▁▂▂▂▂▂▂▂▃▃▃▃▃▃▃▄▄▅▅▅▅▅▅▅▆▆▆▆▆▇▇▇▇████</td></tr><tr><td>seed_123_reward</td><td>▁▁▁▁▁▁▁▂▁▁▂▁▂▃▂▃▃▃▂▃▃▃▄▃▃▂▄▃▅▂▄█▅▅▆▃▅▅▄▃</td></tr><tr><td>seed_42_episode</td><td>▁▁▁▁▁▂▂▂▂▂▂▂▃▃▃▃▃▃▃▃▃▄▄▄▄▅▅▅▆▆▆▆▇▇▇▇████</td></tr><tr><td>seed_42_reward</td><td>▂▁▁▁▁▃▁▄▂▁▃▃▃▂▃▃▂▂▃▃▂▁▂▃▄▃▃▃▄▃▃▂▃▃█▃▂▄▃▅</td></tr><tr><td>seed_456_episode</td><td>▁▂▂▂▂▂▃▃▃▃▃▃▄▄▄▄▄▄▅▅▅▅▅▅▅▆▆▆▆▇▇▇▇▇▇▇████</td></tr><tr><td>seed_456_reward</td><td>▁▁▁▁▁▁▁▁▁▁▁▁▁▂▁▂▅▆▄▁▂▃▃▂▇▂▃▆▂▆▃▄▅▅▂▅▃▃█▆</td></tr><tr><td>seed_789_episode</td><td>▁▁▁▁▁▂▂▂▂▂▃▃▃▃▃▃▄▄▄▄▄▄▄▄▅▅▅▅▆▆▆▆▆▆▇▇▇▇██</td></tr><tr><td>seed_789_reward</td><td>▁▁▁▁▁▁▁▂▁▂▁▁▁▁▁▂▂▁▂▂▃▂▄▅▅▄▃█▃▅▃▂▃▆▂▂▄▂▃▃</td></tr></table><br/></div><div class=\"wandb-col\"><h3>Run summary:</h3><br/><table class=\"wandb\"><tr><td>average_reward_across_seeds</td><td>95.188</td></tr><tr><td>seed_101_episode</td><td>999</td></tr><tr><td>seed_101_reward</td><td>87</td></tr><tr><td>seed_123_episode</td><td>999</td></tr><tr><td>seed_123_reward</td><td>64</td></tr><tr><td>seed_42_episode</td><td>999</td></tr><tr><td>seed_42_reward</td><td>30</td></tr><tr><td>seed_456_episode</td><td>999</td></tr><tr><td>seed_456_reward</td><td>168</td></tr><tr><td>seed_789_episode</td><td>999</td></tr><tr><td>seed_789_reward</td><td>40</td></tr></table><br/></div></div>"
            ]
          },
          "metadata": {}
        },
        {
          "output_type": "display_data",
          "data": {
            "text/plain": [
              "<IPython.core.display.HTML object>"
            ],
            "text/html": [
              " View run <strong style=\"color:#cdcd00\">resilient-sweep-41</strong> at: <a href='https://wandb.ai/abhijithvinod-indian-institue-of-technology-madras/RL_CartPole_SARSA/runs/odzo9a0n' target=\"_blank\">https://wandb.ai/abhijithvinod-indian-institue-of-technology-madras/RL_CartPole_SARSA/runs/odzo9a0n</a><br> View project at: <a href='https://wandb.ai/abhijithvinod-indian-institue-of-technology-madras/RL_CartPole_SARSA' target=\"_blank\">https://wandb.ai/abhijithvinod-indian-institue-of-technology-madras/RL_CartPole_SARSA</a><br>Synced 5 W&B file(s), 0 media file(s), 0 artifact file(s) and 0 other file(s)"
            ]
          },
          "metadata": {}
        },
        {
          "output_type": "display_data",
          "data": {
            "text/plain": [
              "<IPython.core.display.HTML object>"
            ],
            "text/html": [
              "Find logs at: <code>./wandb/run-20250331_145030-odzo9a0n/logs</code>"
            ]
          },
          "metadata": {}
        },
        {
          "output_type": "stream",
          "name": "stderr",
          "text": [
            "\u001b[34m\u001b[1mwandb\u001b[0m: Agent Starting Run: rpcqfxzp with config:\n",
            "\u001b[34m\u001b[1mwandb\u001b[0m: \talpha: 0.3679970002952621\n",
            "\u001b[34m\u001b[1mwandb\u001b[0m: \tepsilon: 0.17026729447516015\n",
            "\u001b[34m\u001b[1mwandb\u001b[0m: \tgamma: 0.99\n",
            "\u001b[34m\u001b[1mwandb\u001b[0m: \tn_bins: 20\n",
            "\u001b[34m\u001b[1mwandb\u001b[0m: \tn_episodes: 1000\n"
          ]
        },
        {
          "output_type": "display_data",
          "data": {
            "text/plain": [
              "<IPython.core.display.HTML object>"
            ],
            "text/html": [
              "Tracking run with wandb version 0.19.8"
            ]
          },
          "metadata": {}
        },
        {
          "output_type": "display_data",
          "data": {
            "text/plain": [
              "<IPython.core.display.HTML object>"
            ],
            "text/html": [
              "Run data is saved locally in <code>/content/wandb/run-20250331_145111-rpcqfxzp</code>"
            ]
          },
          "metadata": {}
        },
        {
          "output_type": "display_data",
          "data": {
            "text/plain": [
              "<IPython.core.display.HTML object>"
            ],
            "text/html": [
              "Syncing run <strong><a href='https://wandb.ai/abhijithvinod-indian-institue-of-technology-madras/RL_CartPole_SARSA/runs/rpcqfxzp' target=\"_blank\">usual-sweep-42</a></strong> to <a href='https://wandb.ai/abhijithvinod-indian-institue-of-technology-madras/RL_CartPole_SARSA' target=\"_blank\">Weights & Biases</a> (<a href='https://wandb.me/developer-guide' target=\"_blank\">docs</a>)<br>Sweep page: <a href='https://wandb.ai/abhijithvinod-indian-institue-of-technology-madras/RL_CartPole_SARSA/sweeps/axs367lv' target=\"_blank\">https://wandb.ai/abhijithvinod-indian-institue-of-technology-madras/RL_CartPole_SARSA/sweeps/axs367lv</a>"
            ]
          },
          "metadata": {}
        },
        {
          "output_type": "display_data",
          "data": {
            "text/plain": [
              "<IPython.core.display.HTML object>"
            ],
            "text/html": [
              " View project at <a href='https://wandb.ai/abhijithvinod-indian-institue-of-technology-madras/RL_CartPole_SARSA' target=\"_blank\">https://wandb.ai/abhijithvinod-indian-institue-of-technology-madras/RL_CartPole_SARSA</a>"
            ]
          },
          "metadata": {}
        },
        {
          "output_type": "display_data",
          "data": {
            "text/plain": [
              "<IPython.core.display.HTML object>"
            ],
            "text/html": [
              " View sweep at <a href='https://wandb.ai/abhijithvinod-indian-institue-of-technology-madras/RL_CartPole_SARSA/sweeps/axs367lv' target=\"_blank\">https://wandb.ai/abhijithvinod-indian-institue-of-technology-madras/RL_CartPole_SARSA/sweeps/axs367lv</a>"
            ]
          },
          "metadata": {}
        },
        {
          "output_type": "display_data",
          "data": {
            "text/plain": [
              "<IPython.core.display.HTML object>"
            ],
            "text/html": [
              " View run at <a href='https://wandb.ai/abhijithvinod-indian-institue-of-technology-madras/RL_CartPole_SARSA/runs/rpcqfxzp' target=\"_blank\">https://wandb.ai/abhijithvinod-indian-institue-of-technology-madras/RL_CartPole_SARSA/runs/rpcqfxzp</a>"
            ]
          },
          "metadata": {}
        },
        {
          "output_type": "display_data",
          "data": {
            "text/plain": [
              "<IPython.core.display.HTML object>"
            ],
            "text/html": []
          },
          "metadata": {}
        },
        {
          "output_type": "display_data",
          "data": {
            "text/plain": [
              "<IPython.core.display.HTML object>"
            ],
            "text/html": [
              "<br>    <style><br>        .wandb-row {<br>            display: flex;<br>            flex-direction: row;<br>            flex-wrap: wrap;<br>            justify-content: flex-start;<br>            width: 100%;<br>        }<br>        .wandb-col {<br>            display: flex;<br>            flex-direction: column;<br>            flex-basis: 100%;<br>            flex: 1;<br>            padding: 10px;<br>        }<br>    </style><br><div class=\"wandb-row\"><div class=\"wandb-col\"><h3>Run history:</h3><br/><table class=\"wandb\"><tr><td>average_reward_across_seeds</td><td>▁</td></tr><tr><td>seed_101_episode</td><td>▁▁▁▁▂▂▂▂▂▂▃▃▃▃▃▄▄▄▄▄▅▅▅▅▅▅▅▆▆▆▆▆▇▇▇▇▇▇██</td></tr><tr><td>seed_101_reward</td><td>▁▁▁▁▁▁▁▂▂▁▂▃▁▁▁▂▅▄▃▃▆▄▆▃▂▅▄▅▄▃▆▅█▆▆▅▃▆▆▄</td></tr><tr><td>seed_123_episode</td><td>▁▁▁▁▂▂▂▃▃▃▃▃▃▃▃▄▄▄▄▄▅▅▅▅▅▅▅▅▅▅▆▆▆▆▆▇████</td></tr><tr><td>seed_123_reward</td><td>▁▁▁▁▁▁▁▂▁▁▁▂▁▄▁▃▂▃▃▄▃▁▂▂▂▃▃▅▅▃▂▃▅▃▄▅▃█▃▁</td></tr><tr><td>seed_42_episode</td><td>▁▁▁▂▂▂▂▂▂▂▃▃▃▄▄▄▄▄▅▅▅▅▅▆▆▆▆▆▆▆▆▆▇▇▇█████</td></tr><tr><td>seed_42_reward</td><td>▁▁▁▁▁▁▂▂▁▁▄▁▄▁▃▆▁▃▂▂▄▃▃▂▂▄▄▆▅▄▁▅▅▄▆▆▅█▂▅</td></tr><tr><td>seed_456_episode</td><td>▁▁▁▂▂▂▂▃▃▃▃▃▃▃▃▄▄▄▄▄▅▅▅▅▅▅▅▆▆▆▆▇▇▇▇▇▇▇██</td></tr><tr><td>seed_456_reward</td><td>▁▁▁▁▁▁▁▁▁▁▁▁▂▁▁▁▁▁▂▂▂▁▂▂▃▄▂▄▂▄▂▂▂█▂▃▃▆▄▅</td></tr><tr><td>seed_789_episode</td><td>▁▁▁▂▂▂▂▂▂▃▃▃▃▃▃▄▄▄▄▄▄▅▅▅▅▅▅▅▆▆▇▇▇▇▇▇▇▇▇█</td></tr><tr><td>seed_789_reward</td><td>▂▁▁▁▁▁▁▁▁▁▄▃▃▁▂▁▄▂▃▂█▅▅▃▅▃▅▃▃▄▄▃█▄▂▄▇▂▄▃</td></tr></table><br/></div><div class=\"wandb-col\"><h3>Run summary:</h3><br/><table class=\"wandb\"><tr><td>average_reward_across_seeds</td><td>87.444</td></tr><tr><td>seed_101_episode</td><td>999</td></tr><tr><td>seed_101_reward</td><td>86</td></tr><tr><td>seed_123_episode</td><td>999</td></tr><tr><td>seed_123_reward</td><td>73</td></tr><tr><td>seed_42_episode</td><td>999</td></tr><tr><td>seed_42_reward</td><td>53</td></tr><tr><td>seed_456_episode</td><td>999</td></tr><tr><td>seed_456_reward</td><td>34</td></tr><tr><td>seed_789_episode</td><td>999</td></tr><tr><td>seed_789_reward</td><td>86</td></tr></table><br/></div></div>"
            ]
          },
          "metadata": {}
        },
        {
          "output_type": "display_data",
          "data": {
            "text/plain": [
              "<IPython.core.display.HTML object>"
            ],
            "text/html": [
              " View run <strong style=\"color:#cdcd00\">usual-sweep-42</strong> at: <a href='https://wandb.ai/abhijithvinod-indian-institue-of-technology-madras/RL_CartPole_SARSA/runs/rpcqfxzp' target=\"_blank\">https://wandb.ai/abhijithvinod-indian-institue-of-technology-madras/RL_CartPole_SARSA/runs/rpcqfxzp</a><br> View project at: <a href='https://wandb.ai/abhijithvinod-indian-institue-of-technology-madras/RL_CartPole_SARSA' target=\"_blank\">https://wandb.ai/abhijithvinod-indian-institue-of-technology-madras/RL_CartPole_SARSA</a><br>Synced 5 W&B file(s), 0 media file(s), 0 artifact file(s) and 0 other file(s)"
            ]
          },
          "metadata": {}
        },
        {
          "output_type": "display_data",
          "data": {
            "text/plain": [
              "<IPython.core.display.HTML object>"
            ],
            "text/html": [
              "Find logs at: <code>./wandb/run-20250331_145111-rpcqfxzp/logs</code>"
            ]
          },
          "metadata": {}
        },
        {
          "output_type": "stream",
          "name": "stderr",
          "text": [
            "\u001b[34m\u001b[1mwandb\u001b[0m: Agent Starting Run: jj7j0llj with config:\n",
            "\u001b[34m\u001b[1mwandb\u001b[0m: \talpha: 0.3233930279011794\n",
            "\u001b[34m\u001b[1mwandb\u001b[0m: \tepsilon: 0.1476593088779125\n",
            "\u001b[34m\u001b[1mwandb\u001b[0m: \tgamma: 0.99\n",
            "\u001b[34m\u001b[1mwandb\u001b[0m: \tn_bins: 20\n",
            "\u001b[34m\u001b[1mwandb\u001b[0m: \tn_episodes: 1000\n"
          ]
        },
        {
          "output_type": "display_data",
          "data": {
            "text/plain": [
              "<IPython.core.display.HTML object>"
            ],
            "text/html": [
              "Tracking run with wandb version 0.19.8"
            ]
          },
          "metadata": {}
        },
        {
          "output_type": "display_data",
          "data": {
            "text/plain": [
              "<IPython.core.display.HTML object>"
            ],
            "text/html": [
              "Run data is saved locally in <code>/content/wandb/run-20250331_145146-jj7j0llj</code>"
            ]
          },
          "metadata": {}
        },
        {
          "output_type": "display_data",
          "data": {
            "text/plain": [
              "<IPython.core.display.HTML object>"
            ],
            "text/html": [
              "Syncing run <strong><a href='https://wandb.ai/abhijithvinod-indian-institue-of-technology-madras/RL_CartPole_SARSA/runs/jj7j0llj' target=\"_blank\">trim-sweep-43</a></strong> to <a href='https://wandb.ai/abhijithvinod-indian-institue-of-technology-madras/RL_CartPole_SARSA' target=\"_blank\">Weights & Biases</a> (<a href='https://wandb.me/developer-guide' target=\"_blank\">docs</a>)<br>Sweep page: <a href='https://wandb.ai/abhijithvinod-indian-institue-of-technology-madras/RL_CartPole_SARSA/sweeps/axs367lv' target=\"_blank\">https://wandb.ai/abhijithvinod-indian-institue-of-technology-madras/RL_CartPole_SARSA/sweeps/axs367lv</a>"
            ]
          },
          "metadata": {}
        },
        {
          "output_type": "display_data",
          "data": {
            "text/plain": [
              "<IPython.core.display.HTML object>"
            ],
            "text/html": [
              " View project at <a href='https://wandb.ai/abhijithvinod-indian-institue-of-technology-madras/RL_CartPole_SARSA' target=\"_blank\">https://wandb.ai/abhijithvinod-indian-institue-of-technology-madras/RL_CartPole_SARSA</a>"
            ]
          },
          "metadata": {}
        },
        {
          "output_type": "display_data",
          "data": {
            "text/plain": [
              "<IPython.core.display.HTML object>"
            ],
            "text/html": [
              " View sweep at <a href='https://wandb.ai/abhijithvinod-indian-institue-of-technology-madras/RL_CartPole_SARSA/sweeps/axs367lv' target=\"_blank\">https://wandb.ai/abhijithvinod-indian-institue-of-technology-madras/RL_CartPole_SARSA/sweeps/axs367lv</a>"
            ]
          },
          "metadata": {}
        },
        {
          "output_type": "display_data",
          "data": {
            "text/plain": [
              "<IPython.core.display.HTML object>"
            ],
            "text/html": [
              " View run at <a href='https://wandb.ai/abhijithvinod-indian-institue-of-technology-madras/RL_CartPole_SARSA/runs/jj7j0llj' target=\"_blank\">https://wandb.ai/abhijithvinod-indian-institue-of-technology-madras/RL_CartPole_SARSA/runs/jj7j0llj</a>"
            ]
          },
          "metadata": {}
        },
        {
          "output_type": "display_data",
          "data": {
            "text/plain": [
              "<IPython.core.display.HTML object>"
            ],
            "text/html": []
          },
          "metadata": {}
        },
        {
          "output_type": "display_data",
          "data": {
            "text/plain": [
              "<IPython.core.display.HTML object>"
            ],
            "text/html": [
              "<br>    <style><br>        .wandb-row {<br>            display: flex;<br>            flex-direction: row;<br>            flex-wrap: wrap;<br>            justify-content: flex-start;<br>            width: 100%;<br>        }<br>        .wandb-col {<br>            display: flex;<br>            flex-direction: column;<br>            flex-basis: 100%;<br>            flex: 1;<br>            padding: 10px;<br>        }<br>    </style><br><div class=\"wandb-row\"><div class=\"wandb-col\"><h3>Run history:</h3><br/><table class=\"wandb\"><tr><td>average_reward_across_seeds</td><td>▁</td></tr><tr><td>seed_101_episode</td><td>▁▁▁▁▁▁▂▂▂▂▂▃▃▃▃▄▄▄▅▅▅▅▅▆▆▆▆▆▆▆▇▇▇▇▇▇▇███</td></tr><tr><td>seed_101_reward</td><td>▁▁▁▁▁▁▁▁▁▁▁▂▃▃▂▂▂▃▂▃▂▄█▂▃▃▇▄▄▂▆▃▂▅▅▅▄▄▄▄</td></tr><tr><td>seed_123_episode</td><td>▁▁▁▁▁▂▂▂▂▂▂▃▃▃▄▄▄▄▄▅▅▅▅▅▅▆▆▆▆▆▆▆▇▇▇▇▇███</td></tr><tr><td>seed_123_reward</td><td>▁▁▁▁▁▁▁▁▁▁▁▁▁▁▁▁▃▁▂▃▅▁▄▂▃▄▃▁▂▂▂▃▂▃▂▂▃█▃▃</td></tr><tr><td>seed_42_episode</td><td>▁▁▁▁▁▂▂▂▂▂▃▃▃▃▃▄▄▄▄▄▄▅▅▅▅▅▆▆▆▆▆▆▆▇▇▇████</td></tr><tr><td>seed_42_reward</td><td>▁▁▁▁▁▁▁▁▁▁▁▁▂▁▁▁▁▁▂▂▄▃▂▅▄▁▃▄▂▃▃▃▃▄▅▄▃▄▄█</td></tr><tr><td>seed_456_episode</td><td>▁▁▁▁▂▂▂▂▂▃▃▃▃▃▃▃▄▄▄▄▄▅▅▅▅▅▆▆▆▆▆▆▆▇▇▇▇▇██</td></tr><tr><td>seed_456_reward</td><td>▁▁▁▁▁▁▁▂▁▁▃▁▂▂▄▃▃▅▄▃▂▄▂▅▃▆▃▄▄▂▁▄▂▂█▄▅▃▁█</td></tr><tr><td>seed_789_episode</td><td>▁▁▁▂▂▂▂▂▂▂▃▃▃▃▃▄▄▄▄▅▅▅▅▅▅▆▆▆▆▆▇▇▇▇▇▇▇▇██</td></tr><tr><td>seed_789_reward</td><td>▁▁▁▂▁▁▃▃▁▁▂▂▂▃▁▃▂▂▁▂▁▅▁▃▅▃▃▃▂▆▃▄▃▄▅█▄▂▃▃</td></tr></table><br/></div><div class=\"wandb-col\"><h3>Run summary:</h3><br/><table class=\"wandb\"><tr><td>average_reward_across_seeds</td><td>97.436</td></tr><tr><td>seed_101_episode</td><td>999</td></tr><tr><td>seed_101_reward</td><td>106</td></tr><tr><td>seed_123_episode</td><td>999</td></tr><tr><td>seed_123_reward</td><td>180</td></tr><tr><td>seed_42_episode</td><td>999</td></tr><tr><td>seed_42_reward</td><td>71</td></tr><tr><td>seed_456_episode</td><td>999</td></tr><tr><td>seed_456_reward</td><td>40</td></tr><tr><td>seed_789_episode</td><td>999</td></tr><tr><td>seed_789_reward</td><td>76</td></tr></table><br/></div></div>"
            ]
          },
          "metadata": {}
        },
        {
          "output_type": "display_data",
          "data": {
            "text/plain": [
              "<IPython.core.display.HTML object>"
            ],
            "text/html": [
              " View run <strong style=\"color:#cdcd00\">trim-sweep-43</strong> at: <a href='https://wandb.ai/abhijithvinod-indian-institue-of-technology-madras/RL_CartPole_SARSA/runs/jj7j0llj' target=\"_blank\">https://wandb.ai/abhijithvinod-indian-institue-of-technology-madras/RL_CartPole_SARSA/runs/jj7j0llj</a><br> View project at: <a href='https://wandb.ai/abhijithvinod-indian-institue-of-technology-madras/RL_CartPole_SARSA' target=\"_blank\">https://wandb.ai/abhijithvinod-indian-institue-of-technology-madras/RL_CartPole_SARSA</a><br>Synced 5 W&B file(s), 0 media file(s), 0 artifact file(s) and 0 other file(s)"
            ]
          },
          "metadata": {}
        },
        {
          "output_type": "display_data",
          "data": {
            "text/plain": [
              "<IPython.core.display.HTML object>"
            ],
            "text/html": [
              "Find logs at: <code>./wandb/run-20250331_145146-jj7j0llj/logs</code>"
            ]
          },
          "metadata": {}
        },
        {
          "output_type": "stream",
          "name": "stderr",
          "text": [
            "\u001b[34m\u001b[1mwandb\u001b[0m: Agent Starting Run: 62yqu8qc with config:\n",
            "\u001b[34m\u001b[1mwandb\u001b[0m: \talpha: 0.35556958471817757\n",
            "\u001b[34m\u001b[1mwandb\u001b[0m: \tepsilon: 0.16006383659663864\n",
            "\u001b[34m\u001b[1mwandb\u001b[0m: \tgamma: 0.99\n",
            "\u001b[34m\u001b[1mwandb\u001b[0m: \tn_bins: 20\n",
            "\u001b[34m\u001b[1mwandb\u001b[0m: \tn_episodes: 1000\n"
          ]
        },
        {
          "output_type": "display_data",
          "data": {
            "text/plain": [
              "<IPython.core.display.HTML object>"
            ],
            "text/html": [
              "Tracking run with wandb version 0.19.8"
            ]
          },
          "metadata": {}
        },
        {
          "output_type": "display_data",
          "data": {
            "text/plain": [
              "<IPython.core.display.HTML object>"
            ],
            "text/html": [
              "Run data is saved locally in <code>/content/wandb/run-20250331_145227-62yqu8qc</code>"
            ]
          },
          "metadata": {}
        },
        {
          "output_type": "display_data",
          "data": {
            "text/plain": [
              "<IPython.core.display.HTML object>"
            ],
            "text/html": [
              "Syncing run <strong><a href='https://wandb.ai/abhijithvinod-indian-institue-of-technology-madras/RL_CartPole_SARSA/runs/62yqu8qc' target=\"_blank\">peachy-sweep-44</a></strong> to <a href='https://wandb.ai/abhijithvinod-indian-institue-of-technology-madras/RL_CartPole_SARSA' target=\"_blank\">Weights & Biases</a> (<a href='https://wandb.me/developer-guide' target=\"_blank\">docs</a>)<br>Sweep page: <a href='https://wandb.ai/abhijithvinod-indian-institue-of-technology-madras/RL_CartPole_SARSA/sweeps/axs367lv' target=\"_blank\">https://wandb.ai/abhijithvinod-indian-institue-of-technology-madras/RL_CartPole_SARSA/sweeps/axs367lv</a>"
            ]
          },
          "metadata": {}
        },
        {
          "output_type": "display_data",
          "data": {
            "text/plain": [
              "<IPython.core.display.HTML object>"
            ],
            "text/html": [
              " View project at <a href='https://wandb.ai/abhijithvinod-indian-institue-of-technology-madras/RL_CartPole_SARSA' target=\"_blank\">https://wandb.ai/abhijithvinod-indian-institue-of-technology-madras/RL_CartPole_SARSA</a>"
            ]
          },
          "metadata": {}
        },
        {
          "output_type": "display_data",
          "data": {
            "text/plain": [
              "<IPython.core.display.HTML object>"
            ],
            "text/html": [
              " View sweep at <a href='https://wandb.ai/abhijithvinod-indian-institue-of-technology-madras/RL_CartPole_SARSA/sweeps/axs367lv' target=\"_blank\">https://wandb.ai/abhijithvinod-indian-institue-of-technology-madras/RL_CartPole_SARSA/sweeps/axs367lv</a>"
            ]
          },
          "metadata": {}
        },
        {
          "output_type": "display_data",
          "data": {
            "text/plain": [
              "<IPython.core.display.HTML object>"
            ],
            "text/html": [
              " View run at <a href='https://wandb.ai/abhijithvinod-indian-institue-of-technology-madras/RL_CartPole_SARSA/runs/62yqu8qc' target=\"_blank\">https://wandb.ai/abhijithvinod-indian-institue-of-technology-madras/RL_CartPole_SARSA/runs/62yqu8qc</a>"
            ]
          },
          "metadata": {}
        },
        {
          "output_type": "display_data",
          "data": {
            "text/plain": [
              "<IPython.core.display.HTML object>"
            ],
            "text/html": []
          },
          "metadata": {}
        },
        {
          "output_type": "display_data",
          "data": {
            "text/plain": [
              "<IPython.core.display.HTML object>"
            ],
            "text/html": [
              "<br>    <style><br>        .wandb-row {<br>            display: flex;<br>            flex-direction: row;<br>            flex-wrap: wrap;<br>            justify-content: flex-start;<br>            width: 100%;<br>        }<br>        .wandb-col {<br>            display: flex;<br>            flex-direction: column;<br>            flex-basis: 100%;<br>            flex: 1;<br>            padding: 10px;<br>        }<br>    </style><br><div class=\"wandb-row\"><div class=\"wandb-col\"><h3>Run history:</h3><br/><table class=\"wandb\"><tr><td>average_reward_across_seeds</td><td>▁</td></tr><tr><td>seed_101_episode</td><td>▁▁▁▁▂▂▂▂▂▂▃▃▃▃▃▃▃▃▃▃▄▄▄▅▅▅▅▅▅▆▆▇▇▇▇▇▇▇██</td></tr><tr><td>seed_101_reward</td><td>▁▁▁▁▁▁▁▁▁▂▁▁▂▂▂▃▅▃▅▂▁▂▂▃▂▃▂▄▄▃▄▆▂█▃▄▃▅▇▃</td></tr><tr><td>seed_123_episode</td><td>▁▁▁▂▂▂▂▂▃▃▃▄▄▄▄▄▄▄▅▅▅▅▅▅▅▅▆▆▆▆▆▇▇▇▇▇▇▇██</td></tr><tr><td>seed_123_reward</td><td>▁▁▁▁▁▁▁▁▁▁▁▁▂▂▂▂▁▂▂▁▂▂▁▂▂▂▂▄▇▂▄▂▂▁▆▃▂▃▃█</td></tr><tr><td>seed_42_episode</td><td>▁▁▁▂▂▂▂▂▃▃▃▃▄▄▄▄▄▄▅▅▅▅▅▅▆▆▆▆▆▆▇▇▇▇▇▇▇▇██</td></tr><tr><td>seed_42_reward</td><td>▁▁▁▁▁▁▁▁▁▁▁▂▂▁▁▄▂▅▃▂▂▁▅▃▂▂▄▃▄▆▆▅▅▄▃▄▅█▅▄</td></tr><tr><td>seed_456_episode</td><td>▁▁▂▂▂▂▂▂▂▂▃▃▃▃▃▃▄▄▄▄▄▄▄▅▅▆▆▆▆▆▇▇▇▇▇▇▇███</td></tr><tr><td>seed_456_reward</td><td>▁▁▁▁▁▁▂▂▂▃█▃▁▃▁▂▂▂▂▃▅▃▃▃▄▄▃▅▂▃▃▃▃▃▆▃▂▃▂▄</td></tr><tr><td>seed_789_episode</td><td>▁▁▂▂▂▂▂▂▂▂▂▂▃▃▃▄▄▄▄▄▅▅▅▅▅▆▆▆▆▆▇▇▇▇▇▇████</td></tr><tr><td>seed_789_reward</td><td>▁▁▁▁▁▁▁▂▂▂▄▂▂▇▃▂█▄▅▄▅▃▄▄▅▄▁▂▅█▅▅▅▆▅▃▆▇▅▄</td></tr></table><br/></div><div class=\"wandb-col\"><h3>Run summary:</h3><br/><table class=\"wandb\"><tr><td>average_reward_across_seeds</td><td>98.192</td></tr><tr><td>seed_101_episode</td><td>999</td></tr><tr><td>seed_101_reward</td><td>109</td></tr><tr><td>seed_123_episode</td><td>999</td></tr><tr><td>seed_123_reward</td><td>181</td></tr><tr><td>seed_42_episode</td><td>999</td></tr><tr><td>seed_42_reward</td><td>67</td></tr><tr><td>seed_456_episode</td><td>999</td></tr><tr><td>seed_456_reward</td><td>110</td></tr><tr><td>seed_789_episode</td><td>999</td></tr><tr><td>seed_789_reward</td><td>65</td></tr></table><br/></div></div>"
            ]
          },
          "metadata": {}
        },
        {
          "output_type": "display_data",
          "data": {
            "text/plain": [
              "<IPython.core.display.HTML object>"
            ],
            "text/html": [
              " View run <strong style=\"color:#cdcd00\">peachy-sweep-44</strong> at: <a href='https://wandb.ai/abhijithvinod-indian-institue-of-technology-madras/RL_CartPole_SARSA/runs/62yqu8qc' target=\"_blank\">https://wandb.ai/abhijithvinod-indian-institue-of-technology-madras/RL_CartPole_SARSA/runs/62yqu8qc</a><br> View project at: <a href='https://wandb.ai/abhijithvinod-indian-institue-of-technology-madras/RL_CartPole_SARSA' target=\"_blank\">https://wandb.ai/abhijithvinod-indian-institue-of-technology-madras/RL_CartPole_SARSA</a><br>Synced 5 W&B file(s), 0 media file(s), 0 artifact file(s) and 0 other file(s)"
            ]
          },
          "metadata": {}
        },
        {
          "output_type": "display_data",
          "data": {
            "text/plain": [
              "<IPython.core.display.HTML object>"
            ],
            "text/html": [
              "Find logs at: <code>./wandb/run-20250331_145227-62yqu8qc/logs</code>"
            ]
          },
          "metadata": {}
        },
        {
          "output_type": "stream",
          "name": "stderr",
          "text": [
            "\u001b[34m\u001b[1mwandb\u001b[0m: Agent Starting Run: 21ljppgu with config:\n",
            "\u001b[34m\u001b[1mwandb\u001b[0m: \talpha: 0.4927892856971906\n",
            "\u001b[34m\u001b[1mwandb\u001b[0m: \tepsilon: 0.162154687530269\n",
            "\u001b[34m\u001b[1mwandb\u001b[0m: \tgamma: 0.99\n",
            "\u001b[34m\u001b[1mwandb\u001b[0m: \tn_bins: 20\n",
            "\u001b[34m\u001b[1mwandb\u001b[0m: \tn_episodes: 1000\n"
          ]
        },
        {
          "output_type": "display_data",
          "data": {
            "text/plain": [
              "<IPython.core.display.HTML object>"
            ],
            "text/html": [
              "Tracking run with wandb version 0.19.8"
            ]
          },
          "metadata": {}
        },
        {
          "output_type": "display_data",
          "data": {
            "text/plain": [
              "<IPython.core.display.HTML object>"
            ],
            "text/html": [
              "Run data is saved locally in <code>/content/wandb/run-20250331_145308-21ljppgu</code>"
            ]
          },
          "metadata": {}
        },
        {
          "output_type": "display_data",
          "data": {
            "text/plain": [
              "<IPython.core.display.HTML object>"
            ],
            "text/html": [
              "Syncing run <strong><a href='https://wandb.ai/abhijithvinod-indian-institue-of-technology-madras/RL_CartPole_SARSA/runs/21ljppgu' target=\"_blank\">restful-sweep-45</a></strong> to <a href='https://wandb.ai/abhijithvinod-indian-institue-of-technology-madras/RL_CartPole_SARSA' target=\"_blank\">Weights & Biases</a> (<a href='https://wandb.me/developer-guide' target=\"_blank\">docs</a>)<br>Sweep page: <a href='https://wandb.ai/abhijithvinod-indian-institue-of-technology-madras/RL_CartPole_SARSA/sweeps/axs367lv' target=\"_blank\">https://wandb.ai/abhijithvinod-indian-institue-of-technology-madras/RL_CartPole_SARSA/sweeps/axs367lv</a>"
            ]
          },
          "metadata": {}
        },
        {
          "output_type": "display_data",
          "data": {
            "text/plain": [
              "<IPython.core.display.HTML object>"
            ],
            "text/html": [
              " View project at <a href='https://wandb.ai/abhijithvinod-indian-institue-of-technology-madras/RL_CartPole_SARSA' target=\"_blank\">https://wandb.ai/abhijithvinod-indian-institue-of-technology-madras/RL_CartPole_SARSA</a>"
            ]
          },
          "metadata": {}
        },
        {
          "output_type": "display_data",
          "data": {
            "text/plain": [
              "<IPython.core.display.HTML object>"
            ],
            "text/html": [
              " View sweep at <a href='https://wandb.ai/abhijithvinod-indian-institue-of-technology-madras/RL_CartPole_SARSA/sweeps/axs367lv' target=\"_blank\">https://wandb.ai/abhijithvinod-indian-institue-of-technology-madras/RL_CartPole_SARSA/sweeps/axs367lv</a>"
            ]
          },
          "metadata": {}
        },
        {
          "output_type": "display_data",
          "data": {
            "text/plain": [
              "<IPython.core.display.HTML object>"
            ],
            "text/html": [
              " View run at <a href='https://wandb.ai/abhijithvinod-indian-institue-of-technology-madras/RL_CartPole_SARSA/runs/21ljppgu' target=\"_blank\">https://wandb.ai/abhijithvinod-indian-institue-of-technology-madras/RL_CartPole_SARSA/runs/21ljppgu</a>"
            ]
          },
          "metadata": {}
        },
        {
          "output_type": "display_data",
          "data": {
            "text/plain": [
              "<IPython.core.display.HTML object>"
            ],
            "text/html": []
          },
          "metadata": {}
        },
        {
          "output_type": "display_data",
          "data": {
            "text/plain": [
              "<IPython.core.display.HTML object>"
            ],
            "text/html": [
              "<br>    <style><br>        .wandb-row {<br>            display: flex;<br>            flex-direction: row;<br>            flex-wrap: wrap;<br>            justify-content: flex-start;<br>            width: 100%;<br>        }<br>        .wandb-col {<br>            display: flex;<br>            flex-direction: column;<br>            flex-basis: 100%;<br>            flex: 1;<br>            padding: 10px;<br>        }<br>    </style><br><div class=\"wandb-row\"><div class=\"wandb-col\"><h3>Run history:</h3><br/><table class=\"wandb\"><tr><td>average_reward_across_seeds</td><td>▁</td></tr><tr><td>seed_101_episode</td><td>▁▁▂▂▂▂▂▃▃▃▃▃▃▃▃▄▄▄▄▄▄▄▄▅▅▅▅▅▆▆▆▇▇▇▇▇▇▇██</td></tr><tr><td>seed_101_reward</td><td>▁▂▂▁▁▁▁▁▂▇▆▂▁▄▂▃▄▃▂▃▃▄▄▃▅▃▂▅▃▇█▅▄▄▅▅▆▅▄▄</td></tr><tr><td>seed_123_episode</td><td>▁▁▁▁▁▂▂▂▂▂▃▃▄▄▄▄▄▄▄▄▅▅▅▅▅▅▅▆▆▆▆▆▆▆▆▇▇▇██</td></tr><tr><td>seed_123_reward</td><td>▁▁▁▁▂▁▁▁▁▂▂▃▃▂▃▁▃▂▃▃▂▄▂▃▃▅▃▃▂▃▂▄▃▃▃▄▂█▄▄</td></tr><tr><td>seed_42_episode</td><td>▁▁▁▁▁▁▁▂▂▂▂▂▃▃▃▃▃▃▃▄▄▄▄▄▄▅▅▅▅▅▅▅▅▆▆▆▆▆██</td></tr><tr><td>seed_42_reward</td><td>▁▁▁▁▁▂▁▂▁▁▁▂▂▂▃▂▂▂▂█▂▃▁▁▂▂▂▂▂▂▂▃▂▂▃▇▂▂▃▂</td></tr><tr><td>seed_456_episode</td><td>▁▁▁▂▂▂▂▃▃▃▃▃▄▄▄▄▄▄▄▅▅▅▅▅▅▅▆▆▆▆▆▇▇▇▇▇████</td></tr><tr><td>seed_456_reward</td><td>▁▁▁▁▂▁▁▁▁▂▂▂▂▁▂▂▂▂▆▅▅▄▅▄▄▃▄▂▃▃▃▂▃▄▇▆█▅▄▃</td></tr><tr><td>seed_789_episode</td><td>▁▁▁▁▁▂▂▂▂▂▂▂▂▂▂▃▃▃▃▄▄▄▄▅▅▅▅▅▅▆▆▇▇▇▇▇████</td></tr><tr><td>seed_789_reward</td><td>▁▁▁▁▁▁▁▁▂▃▁▂▃▄▁▂▅▅▆▄▃▄▃▂▁▄▃▃▃▄▃▃▅▃▂▄▃█▂▃</td></tr></table><br/></div><div class=\"wandb-col\"><h3>Run summary:</h3><br/><table class=\"wandb\"><tr><td>average_reward_across_seeds</td><td>91.78</td></tr><tr><td>seed_101_episode</td><td>999</td></tr><tr><td>seed_101_reward</td><td>91</td></tr><tr><td>seed_123_episode</td><td>999</td></tr><tr><td>seed_123_reward</td><td>217</td></tr><tr><td>seed_42_episode</td><td>999</td></tr><tr><td>seed_42_reward</td><td>76</td></tr><tr><td>seed_456_episode</td><td>999</td></tr><tr><td>seed_456_reward</td><td>59</td></tr><tr><td>seed_789_episode</td><td>999</td></tr><tr><td>seed_789_reward</td><td>250</td></tr></table><br/></div></div>"
            ]
          },
          "metadata": {}
        },
        {
          "output_type": "display_data",
          "data": {
            "text/plain": [
              "<IPython.core.display.HTML object>"
            ],
            "text/html": [
              " View run <strong style=\"color:#cdcd00\">restful-sweep-45</strong> at: <a href='https://wandb.ai/abhijithvinod-indian-institue-of-technology-madras/RL_CartPole_SARSA/runs/21ljppgu' target=\"_blank\">https://wandb.ai/abhijithvinod-indian-institue-of-technology-madras/RL_CartPole_SARSA/runs/21ljppgu</a><br> View project at: <a href='https://wandb.ai/abhijithvinod-indian-institue-of-technology-madras/RL_CartPole_SARSA' target=\"_blank\">https://wandb.ai/abhijithvinod-indian-institue-of-technology-madras/RL_CartPole_SARSA</a><br>Synced 5 W&B file(s), 0 media file(s), 0 artifact file(s) and 0 other file(s)"
            ]
          },
          "metadata": {}
        },
        {
          "output_type": "display_data",
          "data": {
            "text/plain": [
              "<IPython.core.display.HTML object>"
            ],
            "text/html": [
              "Find logs at: <code>./wandb/run-20250331_145308-21ljppgu/logs</code>"
            ]
          },
          "metadata": {}
        },
        {
          "output_type": "stream",
          "name": "stderr",
          "text": [
            "\u001b[34m\u001b[1mwandb\u001b[0m: Agent Starting Run: zarxd8zu with config:\n",
            "\u001b[34m\u001b[1mwandb\u001b[0m: \talpha: 0.2584519240557413\n",
            "\u001b[34m\u001b[1mwandb\u001b[0m: \tepsilon: 0.2544136652646607\n",
            "\u001b[34m\u001b[1mwandb\u001b[0m: \tgamma: 0.99\n",
            "\u001b[34m\u001b[1mwandb\u001b[0m: \tn_bins: 20\n",
            "\u001b[34m\u001b[1mwandb\u001b[0m: \tn_episodes: 1000\n"
          ]
        },
        {
          "output_type": "display_data",
          "data": {
            "text/plain": [
              "<IPython.core.display.HTML object>"
            ],
            "text/html": [
              "Tracking run with wandb version 0.19.8"
            ]
          },
          "metadata": {}
        },
        {
          "output_type": "display_data",
          "data": {
            "text/plain": [
              "<IPython.core.display.HTML object>"
            ],
            "text/html": [
              "Run data is saved locally in <code>/content/wandb/run-20250331_145349-zarxd8zu</code>"
            ]
          },
          "metadata": {}
        },
        {
          "output_type": "display_data",
          "data": {
            "text/plain": [
              "<IPython.core.display.HTML object>"
            ],
            "text/html": [
              "Syncing run <strong><a href='https://wandb.ai/abhijithvinod-indian-institue-of-technology-madras/RL_CartPole_SARSA/runs/zarxd8zu' target=\"_blank\">autumn-sweep-46</a></strong> to <a href='https://wandb.ai/abhijithvinod-indian-institue-of-technology-madras/RL_CartPole_SARSA' target=\"_blank\">Weights & Biases</a> (<a href='https://wandb.me/developer-guide' target=\"_blank\">docs</a>)<br>Sweep page: <a href='https://wandb.ai/abhijithvinod-indian-institue-of-technology-madras/RL_CartPole_SARSA/sweeps/axs367lv' target=\"_blank\">https://wandb.ai/abhijithvinod-indian-institue-of-technology-madras/RL_CartPole_SARSA/sweeps/axs367lv</a>"
            ]
          },
          "metadata": {}
        },
        {
          "output_type": "display_data",
          "data": {
            "text/plain": [
              "<IPython.core.display.HTML object>"
            ],
            "text/html": [
              " View project at <a href='https://wandb.ai/abhijithvinod-indian-institue-of-technology-madras/RL_CartPole_SARSA' target=\"_blank\">https://wandb.ai/abhijithvinod-indian-institue-of-technology-madras/RL_CartPole_SARSA</a>"
            ]
          },
          "metadata": {}
        },
        {
          "output_type": "display_data",
          "data": {
            "text/plain": [
              "<IPython.core.display.HTML object>"
            ],
            "text/html": [
              " View sweep at <a href='https://wandb.ai/abhijithvinod-indian-institue-of-technology-madras/RL_CartPole_SARSA/sweeps/axs367lv' target=\"_blank\">https://wandb.ai/abhijithvinod-indian-institue-of-technology-madras/RL_CartPole_SARSA/sweeps/axs367lv</a>"
            ]
          },
          "metadata": {}
        },
        {
          "output_type": "display_data",
          "data": {
            "text/plain": [
              "<IPython.core.display.HTML object>"
            ],
            "text/html": [
              " View run at <a href='https://wandb.ai/abhijithvinod-indian-institue-of-technology-madras/RL_CartPole_SARSA/runs/zarxd8zu' target=\"_blank\">https://wandb.ai/abhijithvinod-indian-institue-of-technology-madras/RL_CartPole_SARSA/runs/zarxd8zu</a>"
            ]
          },
          "metadata": {}
        },
        {
          "output_type": "display_data",
          "data": {
            "text/plain": [
              "<IPython.core.display.HTML object>"
            ],
            "text/html": []
          },
          "metadata": {}
        },
        {
          "output_type": "display_data",
          "data": {
            "text/plain": [
              "<IPython.core.display.HTML object>"
            ],
            "text/html": [
              "<br>    <style><br>        .wandb-row {<br>            display: flex;<br>            flex-direction: row;<br>            flex-wrap: wrap;<br>            justify-content: flex-start;<br>            width: 100%;<br>        }<br>        .wandb-col {<br>            display: flex;<br>            flex-direction: column;<br>            flex-basis: 100%;<br>            flex: 1;<br>            padding: 10px;<br>        }<br>    </style><br><div class=\"wandb-row\"><div class=\"wandb-col\"><h3>Run history:</h3><br/><table class=\"wandb\"><tr><td>average_reward_across_seeds</td><td>▁</td></tr><tr><td>seed_101_episode</td><td>▁▁▁▁▁▂▂▂▂▂▃▃▃▃▃▃▄▄▄▄▄▄▄▅▅▆▆▆▆▆▇▇▇▇▇▇▇███</td></tr><tr><td>seed_101_reward</td><td>▁▁▁▁▁▁▁▁▁▂▁▁▁▁▁▂▂▃▂▂▂▄▂▄▂█▃▄▄▁▆▄▇▄▇▃▄▃▂▄</td></tr><tr><td>seed_123_episode</td><td>▁▁▁▂▂▂▂▂▂▂▃▃▃▃▃▄▄▄▄▄▄▄▄▅▅▅▅▅▅▆▆▇▇▇▇▇▇███</td></tr><tr><td>seed_123_reward</td><td>▁▁▁▁▁▁▁▁▁▂▁▁▂▂▂▂▂▂▃▄▄▃▁▂▂▃▃▁▃▆▂▄▃█▃▃▄▂▆▆</td></tr><tr><td>seed_42_episode</td><td>▁▁▁▁▁▂▂▃▃▃▃▃▃▄▄▄▄▄▄▄▄▅▅▅▅▅▅▆▆▆▆▆▆▇▇▇▇▇▇█</td></tr><tr><td>seed_42_reward</td><td>▁▁▁▃▃▂▁▂▄▃▂▂▁▃▃▄▃▃▆▃▇▁▅▃▆▆▆▃▆█▅▂▄▅▅▃▃▅▃▇</td></tr><tr><td>seed_456_episode</td><td>▁▁▁▁▁▂▂▂▂▂▃▃▄▄▄▅▅▅▅▅▅▅▆▆▆▆▆▆▇▇▇▇▇▇▇▇████</td></tr><tr><td>seed_456_reward</td><td>▁▁▁▁▁▁▂▂▁▂▃▃▂▂▃█▄▃▆▇▇▃▄▃▁▁▂▂▆▄▄▄▅▅▅▄▅▃▃▃</td></tr><tr><td>seed_789_episode</td><td>▁▁▁▁▂▂▂▂▂▂▂▃▃▃▄▄▄▄▄▄▅▅▅▅▅▆▆▆▆▆▆▇▇▇▇█████</td></tr><tr><td>seed_789_reward</td><td>▂▁▁▁▃▁▁▃▁▂▃▃▃▃▃▃▅▄▃▃▂▁▅▃▂▄▄▂▅▃▂▂▄▆▂▅▆█▄▄</td></tr></table><br/></div><div class=\"wandb-col\"><h3>Run summary:</h3><br/><table class=\"wandb\"><tr><td>average_reward_across_seeds</td><td>88.1</td></tr><tr><td>seed_101_episode</td><td>999</td></tr><tr><td>seed_101_reward</td><td>86</td></tr><tr><td>seed_123_episode</td><td>999</td></tr><tr><td>seed_123_reward</td><td>67</td></tr><tr><td>seed_42_episode</td><td>999</td></tr><tr><td>seed_42_reward</td><td>69</td></tr><tr><td>seed_456_episode</td><td>999</td></tr><tr><td>seed_456_reward</td><td>102</td></tr><tr><td>seed_789_episode</td><td>999</td></tr><tr><td>seed_789_reward</td><td>110</td></tr></table><br/></div></div>"
            ]
          },
          "metadata": {}
        },
        {
          "output_type": "display_data",
          "data": {
            "text/plain": [
              "<IPython.core.display.HTML object>"
            ],
            "text/html": [
              " View run <strong style=\"color:#cdcd00\">autumn-sweep-46</strong> at: <a href='https://wandb.ai/abhijithvinod-indian-institue-of-technology-madras/RL_CartPole_SARSA/runs/zarxd8zu' target=\"_blank\">https://wandb.ai/abhijithvinod-indian-institue-of-technology-madras/RL_CartPole_SARSA/runs/zarxd8zu</a><br> View project at: <a href='https://wandb.ai/abhijithvinod-indian-institue-of-technology-madras/RL_CartPole_SARSA' target=\"_blank\">https://wandb.ai/abhijithvinod-indian-institue-of-technology-madras/RL_CartPole_SARSA</a><br>Synced 5 W&B file(s), 0 media file(s), 0 artifact file(s) and 0 other file(s)"
            ]
          },
          "metadata": {}
        },
        {
          "output_type": "display_data",
          "data": {
            "text/plain": [
              "<IPython.core.display.HTML object>"
            ],
            "text/html": [
              "Find logs at: <code>./wandb/run-20250331_145349-zarxd8zu/logs</code>"
            ]
          },
          "metadata": {}
        },
        {
          "output_type": "stream",
          "name": "stderr",
          "text": [
            "\u001b[34m\u001b[1mwandb\u001b[0m: Agent Starting Run: lhnpqbpj with config:\n",
            "\u001b[34m\u001b[1mwandb\u001b[0m: \talpha: 0.14932756227229607\n",
            "\u001b[34m\u001b[1mwandb\u001b[0m: \tepsilon: 0.2857612732658191\n",
            "\u001b[34m\u001b[1mwandb\u001b[0m: \tgamma: 0.99\n",
            "\u001b[34m\u001b[1mwandb\u001b[0m: \tn_bins: 20\n",
            "\u001b[34m\u001b[1mwandb\u001b[0m: \tn_episodes: 1000\n"
          ]
        },
        {
          "output_type": "display_data",
          "data": {
            "text/plain": [
              "<IPython.core.display.HTML object>"
            ],
            "text/html": [
              "Tracking run with wandb version 0.19.8"
            ]
          },
          "metadata": {}
        },
        {
          "output_type": "display_data",
          "data": {
            "text/plain": [
              "<IPython.core.display.HTML object>"
            ],
            "text/html": [
              "Run data is saved locally in <code>/content/wandb/run-20250331_145430-lhnpqbpj</code>"
            ]
          },
          "metadata": {}
        },
        {
          "output_type": "display_data",
          "data": {
            "text/plain": [
              "<IPython.core.display.HTML object>"
            ],
            "text/html": [
              "Syncing run <strong><a href='https://wandb.ai/abhijithvinod-indian-institue-of-technology-madras/RL_CartPole_SARSA/runs/lhnpqbpj' target=\"_blank\">driven-sweep-47</a></strong> to <a href='https://wandb.ai/abhijithvinod-indian-institue-of-technology-madras/RL_CartPole_SARSA' target=\"_blank\">Weights & Biases</a> (<a href='https://wandb.me/developer-guide' target=\"_blank\">docs</a>)<br>Sweep page: <a href='https://wandb.ai/abhijithvinod-indian-institue-of-technology-madras/RL_CartPole_SARSA/sweeps/axs367lv' target=\"_blank\">https://wandb.ai/abhijithvinod-indian-institue-of-technology-madras/RL_CartPole_SARSA/sweeps/axs367lv</a>"
            ]
          },
          "metadata": {}
        },
        {
          "output_type": "display_data",
          "data": {
            "text/plain": [
              "<IPython.core.display.HTML object>"
            ],
            "text/html": [
              " View project at <a href='https://wandb.ai/abhijithvinod-indian-institue-of-technology-madras/RL_CartPole_SARSA' target=\"_blank\">https://wandb.ai/abhijithvinod-indian-institue-of-technology-madras/RL_CartPole_SARSA</a>"
            ]
          },
          "metadata": {}
        },
        {
          "output_type": "display_data",
          "data": {
            "text/plain": [
              "<IPython.core.display.HTML object>"
            ],
            "text/html": [
              " View sweep at <a href='https://wandb.ai/abhijithvinod-indian-institue-of-technology-madras/RL_CartPole_SARSA/sweeps/axs367lv' target=\"_blank\">https://wandb.ai/abhijithvinod-indian-institue-of-technology-madras/RL_CartPole_SARSA/sweeps/axs367lv</a>"
            ]
          },
          "metadata": {}
        },
        {
          "output_type": "display_data",
          "data": {
            "text/plain": [
              "<IPython.core.display.HTML object>"
            ],
            "text/html": [
              " View run at <a href='https://wandb.ai/abhijithvinod-indian-institue-of-technology-madras/RL_CartPole_SARSA/runs/lhnpqbpj' target=\"_blank\">https://wandb.ai/abhijithvinod-indian-institue-of-technology-madras/RL_CartPole_SARSA/runs/lhnpqbpj</a>"
            ]
          },
          "metadata": {}
        },
        {
          "output_type": "display_data",
          "data": {
            "text/plain": [
              "<IPython.core.display.HTML object>"
            ],
            "text/html": []
          },
          "metadata": {}
        },
        {
          "output_type": "display_data",
          "data": {
            "text/plain": [
              "<IPython.core.display.HTML object>"
            ],
            "text/html": [
              "<br>    <style><br>        .wandb-row {<br>            display: flex;<br>            flex-direction: row;<br>            flex-wrap: wrap;<br>            justify-content: flex-start;<br>            width: 100%;<br>        }<br>        .wandb-col {<br>            display: flex;<br>            flex-direction: column;<br>            flex-basis: 100%;<br>            flex: 1;<br>            padding: 10px;<br>        }<br>    </style><br><div class=\"wandb-row\"><div class=\"wandb-col\"><h3>Run history:</h3><br/><table class=\"wandb\"><tr><td>average_reward_across_seeds</td><td>▁</td></tr><tr><td>seed_101_episode</td><td>▁▁▁▁▂▂▂▂▂▂▃▃▃▃▃▃▃▃▄▄▄▄▄▄▄▅▅▅▅▅▆▆▆▆▆▇▇▇██</td></tr><tr><td>seed_101_reward</td><td>▁▁▁▁▁▁▁▁▁▂▁▂▁▃▂▂▂▂▁▂▁▃▂▂▂▃▂▅▇▂▇▂▄▅▅▇▄█▇▇</td></tr><tr><td>seed_123_episode</td><td>▁▁▁▁▁▂▂▂▂▂▂▂▃▃▃▃▃▄▄▄▄▄▄▅▅▅▅▅▆▆▆▆▆▇▇▇▇███</td></tr><tr><td>seed_123_reward</td><td>▁▂▁▁▁▂▂▂▁▁▂▁▁▂▂▂▄▂▂▂▂▃▃▂▂▄▃▅▂▂▄▆█▃▅██▇▅▆</td></tr><tr><td>seed_42_episode</td><td>▁▁▁▁▁▂▂▂▂▂▂▂▃▃▃▃▃▃▃▄▄▄▄▅▅▆▆▆▆▆▇▇▇▇▇█████</td></tr><tr><td>seed_42_reward</td><td>▂▁▁▁▃▁▁▂▁▁▁▁▃▂▂▂▃▁▂▃▃▃▄▄▃▃▄▃▆▃▂▃█▃▂▃▄▃▄█</td></tr><tr><td>seed_456_episode</td><td>▁▁▁▂▂▂▂▂▃▃▃▃▄▄▄▄▄▄▄▄▅▅▅▅▅▅▅▆▆▆▆▆▇▇▇▇▇███</td></tr><tr><td>seed_456_reward</td><td>▁▁▁▁▁▁▁▁▁▁▃▂▃▁▁▁▂▃▂▂▃▄▂▄▁▄▃▃▂▃▂▂▃▃▂█▃▃▃▃</td></tr><tr><td>seed_789_episode</td><td>▁▁▁▁▁▂▂▂▂▂▃▃▃▃▃▃▄▄▄▄▄▅▅▅▅▅▅▆▆▆▆▆▆▆▇▇▇▇██</td></tr><tr><td>seed_789_reward</td><td>▁▁▁▁▂▁▂▁▄▂▂▅▃▂▄▃▁▃▃▁▁▁▃▂▁▄▂▃▂▂█▄▃▆▄▄█▆█▂</td></tr></table><br/></div><div class=\"wandb-col\"><h3>Run summary:</h3><br/><table class=\"wandb\"><tr><td>average_reward_across_seeds</td><td>70.26</td></tr><tr><td>seed_101_episode</td><td>999</td></tr><tr><td>seed_101_reward</td><td>21</td></tr><tr><td>seed_123_episode</td><td>999</td></tr><tr><td>seed_123_reward</td><td>55</td></tr><tr><td>seed_42_episode</td><td>999</td></tr><tr><td>seed_42_reward</td><td>60</td></tr><tr><td>seed_456_episode</td><td>999</td></tr><tr><td>seed_456_reward</td><td>53</td></tr><tr><td>seed_789_episode</td><td>999</td></tr><tr><td>seed_789_reward</td><td>84</td></tr></table><br/></div></div>"
            ]
          },
          "metadata": {}
        },
        {
          "output_type": "display_data",
          "data": {
            "text/plain": [
              "<IPython.core.display.HTML object>"
            ],
            "text/html": [
              " View run <strong style=\"color:#cdcd00\">driven-sweep-47</strong> at: <a href='https://wandb.ai/abhijithvinod-indian-institue-of-technology-madras/RL_CartPole_SARSA/runs/lhnpqbpj' target=\"_blank\">https://wandb.ai/abhijithvinod-indian-institue-of-technology-madras/RL_CartPole_SARSA/runs/lhnpqbpj</a><br> View project at: <a href='https://wandb.ai/abhijithvinod-indian-institue-of-technology-madras/RL_CartPole_SARSA' target=\"_blank\">https://wandb.ai/abhijithvinod-indian-institue-of-technology-madras/RL_CartPole_SARSA</a><br>Synced 5 W&B file(s), 0 media file(s), 0 artifact file(s) and 0 other file(s)"
            ]
          },
          "metadata": {}
        },
        {
          "output_type": "display_data",
          "data": {
            "text/plain": [
              "<IPython.core.display.HTML object>"
            ],
            "text/html": [
              "Find logs at: <code>./wandb/run-20250331_145430-lhnpqbpj/logs</code>"
            ]
          },
          "metadata": {}
        },
        {
          "output_type": "stream",
          "name": "stderr",
          "text": [
            "\u001b[34m\u001b[1mwandb\u001b[0m: Agent Starting Run: lmov8zuk with config:\n",
            "\u001b[34m\u001b[1mwandb\u001b[0m: \talpha: 0.14499263595294287\n",
            "\u001b[34m\u001b[1mwandb\u001b[0m: \tepsilon: 0.21671113074889783\n",
            "\u001b[34m\u001b[1mwandb\u001b[0m: \tgamma: 0.99\n",
            "\u001b[34m\u001b[1mwandb\u001b[0m: \tn_bins: 15\n",
            "\u001b[34m\u001b[1mwandb\u001b[0m: \tn_episodes: 1000\n"
          ]
        },
        {
          "output_type": "display_data",
          "data": {
            "text/plain": [
              "<IPython.core.display.HTML object>"
            ],
            "text/html": [
              "Tracking run with wandb version 0.19.8"
            ]
          },
          "metadata": {}
        },
        {
          "output_type": "display_data",
          "data": {
            "text/plain": [
              "<IPython.core.display.HTML object>"
            ],
            "text/html": [
              "Run data is saved locally in <code>/content/wandb/run-20250331_145501-lmov8zuk</code>"
            ]
          },
          "metadata": {}
        },
        {
          "output_type": "display_data",
          "data": {
            "text/plain": [
              "<IPython.core.display.HTML object>"
            ],
            "text/html": [
              "Syncing run <strong><a href='https://wandb.ai/abhijithvinod-indian-institue-of-technology-madras/RL_CartPole_SARSA/runs/lmov8zuk' target=\"_blank\">efficient-sweep-48</a></strong> to <a href='https://wandb.ai/abhijithvinod-indian-institue-of-technology-madras/RL_CartPole_SARSA' target=\"_blank\">Weights & Biases</a> (<a href='https://wandb.me/developer-guide' target=\"_blank\">docs</a>)<br>Sweep page: <a href='https://wandb.ai/abhijithvinod-indian-institue-of-technology-madras/RL_CartPole_SARSA/sweeps/axs367lv' target=\"_blank\">https://wandb.ai/abhijithvinod-indian-institue-of-technology-madras/RL_CartPole_SARSA/sweeps/axs367lv</a>"
            ]
          },
          "metadata": {}
        },
        {
          "output_type": "display_data",
          "data": {
            "text/plain": [
              "<IPython.core.display.HTML object>"
            ],
            "text/html": [
              " View project at <a href='https://wandb.ai/abhijithvinod-indian-institue-of-technology-madras/RL_CartPole_SARSA' target=\"_blank\">https://wandb.ai/abhijithvinod-indian-institue-of-technology-madras/RL_CartPole_SARSA</a>"
            ]
          },
          "metadata": {}
        },
        {
          "output_type": "display_data",
          "data": {
            "text/plain": [
              "<IPython.core.display.HTML object>"
            ],
            "text/html": [
              " View sweep at <a href='https://wandb.ai/abhijithvinod-indian-institue-of-technology-madras/RL_CartPole_SARSA/sweeps/axs367lv' target=\"_blank\">https://wandb.ai/abhijithvinod-indian-institue-of-technology-madras/RL_CartPole_SARSA/sweeps/axs367lv</a>"
            ]
          },
          "metadata": {}
        },
        {
          "output_type": "display_data",
          "data": {
            "text/plain": [
              "<IPython.core.display.HTML object>"
            ],
            "text/html": [
              " View run at <a href='https://wandb.ai/abhijithvinod-indian-institue-of-technology-madras/RL_CartPole_SARSA/runs/lmov8zuk' target=\"_blank\">https://wandb.ai/abhijithvinod-indian-institue-of-technology-madras/RL_CartPole_SARSA/runs/lmov8zuk</a>"
            ]
          },
          "metadata": {}
        },
        {
          "output_type": "display_data",
          "data": {
            "text/plain": [
              "<IPython.core.display.HTML object>"
            ],
            "text/html": []
          },
          "metadata": {}
        },
        {
          "output_type": "display_data",
          "data": {
            "text/plain": [
              "<IPython.core.display.HTML object>"
            ],
            "text/html": [
              "<br>    <style><br>        .wandb-row {<br>            display: flex;<br>            flex-direction: row;<br>            flex-wrap: wrap;<br>            justify-content: flex-start;<br>            width: 100%;<br>        }<br>        .wandb-col {<br>            display: flex;<br>            flex-direction: column;<br>            flex-basis: 100%;<br>            flex: 1;<br>            padding: 10px;<br>        }<br>    </style><br><div class=\"wandb-row\"><div class=\"wandb-col\"><h3>Run history:</h3><br/><table class=\"wandb\"><tr><td>average_reward_across_seeds</td><td>▁</td></tr><tr><td>seed_101_episode</td><td>▁▁▁▁▁▂▂▂▂▂▂▂▂▂▃▃▃▃▃▃▄▄▄▄▅▅▅▅▅▅▆▆▆▆▆▇▇▇██</td></tr><tr><td>seed_101_reward</td><td>▁▁▁▁▁▂▂▁▁▁▁▁▁▁▁▁▁▄▁▂▅▁▁▄▁▂▄▁▃▃▃▄▄▃▁█▂▃▆▄</td></tr><tr><td>seed_123_episode</td><td>▁▁▁▁▁▂▂▂▃▃▃▃▃▃▃▄▄▄▄▄▄▄▄▄▅▅▅▆▆▇▇▇▇▇▇█████</td></tr><tr><td>seed_123_reward</td><td>▁▂▃▂▃▃▂▅▃▃▃▃▂▄▃▃▂▃▂▅▁▃▃▃▅▅▇▅▅▆▅▃▃▅▅█▅▅▇▇</td></tr><tr><td>seed_42_episode</td><td>▁▂▂▂▂▂▂▂▂▃▃▃▃▃▃▃▄▄▄▄▄▄▄▄▅▅▅▅▆▆▇▇▇▇▇▇████</td></tr><tr><td>seed_42_reward</td><td>▁▁▁▁▁▂▁▁▁▂▂▁▂▁▄▁▁▁▂▂▄▁▃▃▁▂▂▁▃▃▁▄▇▁▅▃█▂▃▃</td></tr><tr><td>seed_456_episode</td><td>▁▁▁▁▁▂▂▂▃▃▃▃▃▃▃▄▄▄▄▅▅▅▅▅▅▆▆▆▆▆▆▆▇▇▇▇████</td></tr><tr><td>seed_456_reward</td><td>▂█▂▁▂▁▂▁▁▁▂▂▂▁▂▃▁▂▂▁▄▁▃▄▁▃▂▂▄▂▂▄▂▃▂▂▃▃▅▃</td></tr><tr><td>seed_789_episode</td><td>▁▁▁▁▁▂▂▂▃▃▃▃▃▃▃▃▃▄▄▄▅▅▅▅▅▆▆▆▆▆▆▆▇▇▇▇▇▇██</td></tr><tr><td>seed_789_reward</td><td>▁▁▁▂▁▂▁▁▂▁▁▁▅▂▂▁▁▁▂▂▃▃▂▅▂█▂▁▅▄▂▇▅▂▃▂█▆▅▃</td></tr></table><br/></div><div class=\"wandb-col\"><h3>Run summary:</h3><br/><table class=\"wandb\"><tr><td>average_reward_across_seeds</td><td>58.708</td></tr><tr><td>seed_101_episode</td><td>999</td></tr><tr><td>seed_101_reward</td><td>79</td></tr><tr><td>seed_123_episode</td><td>999</td></tr><tr><td>seed_123_reward</td><td>16</td></tr><tr><td>seed_42_episode</td><td>999</td></tr><tr><td>seed_42_reward</td><td>99</td></tr><tr><td>seed_456_episode</td><td>999</td></tr><tr><td>seed_456_reward</td><td>20</td></tr><tr><td>seed_789_episode</td><td>999</td></tr><tr><td>seed_789_reward</td><td>62</td></tr></table><br/></div></div>"
            ]
          },
          "metadata": {}
        },
        {
          "output_type": "display_data",
          "data": {
            "text/plain": [
              "<IPython.core.display.HTML object>"
            ],
            "text/html": [
              " View run <strong style=\"color:#cdcd00\">efficient-sweep-48</strong> at: <a href='https://wandb.ai/abhijithvinod-indian-institue-of-technology-madras/RL_CartPole_SARSA/runs/lmov8zuk' target=\"_blank\">https://wandb.ai/abhijithvinod-indian-institue-of-technology-madras/RL_CartPole_SARSA/runs/lmov8zuk</a><br> View project at: <a href='https://wandb.ai/abhijithvinod-indian-institue-of-technology-madras/RL_CartPole_SARSA' target=\"_blank\">https://wandb.ai/abhijithvinod-indian-institue-of-technology-madras/RL_CartPole_SARSA</a><br>Synced 5 W&B file(s), 0 media file(s), 0 artifact file(s) and 0 other file(s)"
            ]
          },
          "metadata": {}
        },
        {
          "output_type": "display_data",
          "data": {
            "text/plain": [
              "<IPython.core.display.HTML object>"
            ],
            "text/html": [
              "Find logs at: <code>./wandb/run-20250331_145501-lmov8zuk/logs</code>"
            ]
          },
          "metadata": {}
        },
        {
          "output_type": "stream",
          "name": "stderr",
          "text": [
            "\u001b[34m\u001b[1mwandb\u001b[0m: Agent Starting Run: z89sxp0k with config:\n",
            "\u001b[34m\u001b[1mwandb\u001b[0m: \talpha: 0.27964880484316645\n",
            "\u001b[34m\u001b[1mwandb\u001b[0m: \tepsilon: 0.027240058365611223\n",
            "\u001b[34m\u001b[1mwandb\u001b[0m: \tgamma: 0.99\n",
            "\u001b[34m\u001b[1mwandb\u001b[0m: \tn_bins: 15\n",
            "\u001b[34m\u001b[1mwandb\u001b[0m: \tn_episodes: 1000\n"
          ]
        },
        {
          "output_type": "display_data",
          "data": {
            "text/plain": [
              "<IPython.core.display.HTML object>"
            ],
            "text/html": [
              "Tracking run with wandb version 0.19.8"
            ]
          },
          "metadata": {}
        },
        {
          "output_type": "display_data",
          "data": {
            "text/plain": [
              "<IPython.core.display.HTML object>"
            ],
            "text/html": [
              "Run data is saved locally in <code>/content/wandb/run-20250331_145526-z89sxp0k</code>"
            ]
          },
          "metadata": {}
        },
        {
          "output_type": "display_data",
          "data": {
            "text/plain": [
              "<IPython.core.display.HTML object>"
            ],
            "text/html": [
              "Syncing run <strong><a href='https://wandb.ai/abhijithvinod-indian-institue-of-technology-madras/RL_CartPole_SARSA/runs/z89sxp0k' target=\"_blank\">brisk-sweep-49</a></strong> to <a href='https://wandb.ai/abhijithvinod-indian-institue-of-technology-madras/RL_CartPole_SARSA' target=\"_blank\">Weights & Biases</a> (<a href='https://wandb.me/developer-guide' target=\"_blank\">docs</a>)<br>Sweep page: <a href='https://wandb.ai/abhijithvinod-indian-institue-of-technology-madras/RL_CartPole_SARSA/sweeps/axs367lv' target=\"_blank\">https://wandb.ai/abhijithvinod-indian-institue-of-technology-madras/RL_CartPole_SARSA/sweeps/axs367lv</a>"
            ]
          },
          "metadata": {}
        },
        {
          "output_type": "display_data",
          "data": {
            "text/plain": [
              "<IPython.core.display.HTML object>"
            ],
            "text/html": [
              " View project at <a href='https://wandb.ai/abhijithvinod-indian-institue-of-technology-madras/RL_CartPole_SARSA' target=\"_blank\">https://wandb.ai/abhijithvinod-indian-institue-of-technology-madras/RL_CartPole_SARSA</a>"
            ]
          },
          "metadata": {}
        },
        {
          "output_type": "display_data",
          "data": {
            "text/plain": [
              "<IPython.core.display.HTML object>"
            ],
            "text/html": [
              " View sweep at <a href='https://wandb.ai/abhijithvinod-indian-institue-of-technology-madras/RL_CartPole_SARSA/sweeps/axs367lv' target=\"_blank\">https://wandb.ai/abhijithvinod-indian-institue-of-technology-madras/RL_CartPole_SARSA/sweeps/axs367lv</a>"
            ]
          },
          "metadata": {}
        },
        {
          "output_type": "display_data",
          "data": {
            "text/plain": [
              "<IPython.core.display.HTML object>"
            ],
            "text/html": [
              " View run at <a href='https://wandb.ai/abhijithvinod-indian-institue-of-technology-madras/RL_CartPole_SARSA/runs/z89sxp0k' target=\"_blank\">https://wandb.ai/abhijithvinod-indian-institue-of-technology-madras/RL_CartPole_SARSA/runs/z89sxp0k</a>"
            ]
          },
          "metadata": {}
        },
        {
          "output_type": "display_data",
          "data": {
            "text/plain": [
              "<IPython.core.display.HTML object>"
            ],
            "text/html": []
          },
          "metadata": {}
        },
        {
          "output_type": "display_data",
          "data": {
            "text/plain": [
              "<IPython.core.display.HTML object>"
            ],
            "text/html": [
              "<br>    <style><br>        .wandb-row {<br>            display: flex;<br>            flex-direction: row;<br>            flex-wrap: wrap;<br>            justify-content: flex-start;<br>            width: 100%;<br>        }<br>        .wandb-col {<br>            display: flex;<br>            flex-direction: column;<br>            flex-basis: 100%;<br>            flex: 1;<br>            padding: 10px;<br>        }<br>    </style><br><div class=\"wandb-row\"><div class=\"wandb-col\"><h3>Run history:</h3><br/><table class=\"wandb\"><tr><td>average_reward_across_seeds</td><td>▁</td></tr><tr><td>seed_101_episode</td><td>▁▁▁▁▂▂▂▃▃▃▃▃▃▃▄▄▄▄▄▄▅▅▅▅▅▅▅▅▆▆▆▇▇▇▇█████</td></tr><tr><td>seed_101_reward</td><td>▂▂▁▂▂▂▁▁▂▂▁▂▂▂▁▁▂▁▁▂▂▁▂▁▁▁▁▂▁▁▂▁▁▂▂▂█▂▁▂</td></tr><tr><td>seed_123_episode</td><td>▁▁▁▁▁▁▂▂▂▂▂▃▃▃▃▃▃▃▃▄▄▅▅▅▅▆▆▆▆▆▆▇▇▇▇▇▇███</td></tr><tr><td>seed_123_reward</td><td>▅▁▁▁▅▃▅▃▃▃▅▅█▃▅▅▃▅▅▅▅▅▅▆▆▅▅▁▆▆▃▃▆▆▁▁▆▅▆▆</td></tr><tr><td>seed_42_episode</td><td>▁▁▁▁▁▂▂▂▂▂▃▃▃▃▄▄▄▄▄▅▅▅▅▅▅▆▆▆▆▆▆▇▇▇▇▇▇▇▇█</td></tr><tr><td>seed_42_reward</td><td>▁▁▁▁▂▁▂▁▁▂▁▁▁▂▂▂▂▂▁▃▂▂▂▂▁▂▂▂▁▁▁▁▁▂▁▂▁▂▂█</td></tr><tr><td>seed_456_episode</td><td>▁▁▁▁▁▂▂▂▂▃▃▃▃▃▄▄▄▄▄▄▅▅▅▆▆▆▆▆▆▆▇▇▇▇▇█████</td></tr><tr><td>seed_456_reward</td><td>▁▁▂▂▁▃▁▁▁▂▁▁▁▁▁▁▁█▁▁▁▁▁▂▁▁▁▁▁▂▃▁▁▁▁▂▁▂▃▂</td></tr><tr><td>seed_789_episode</td><td>▁▁▁▁▂▂▂▂▂▂▃▃▃▃▃▄▄▄▄▄▅▅▅▅▅▆▆▆▆▇▇▇▇▇▇▇▇▇██</td></tr><tr><td>seed_789_reward</td><td>▁▂▁▂▁▂▂▁▂▁▂▂▂▂▇▁▂█▂▂▂▁▂▂▃▂▂▂▁▂▂▂▄▃▂▇▂▃▄▇</td></tr></table><br/></div><div class=\"wandb-col\"><h3>Run summary:</h3><br/><table class=\"wandb\"><tr><td>average_reward_across_seeds</td><td>13.296</td></tr><tr><td>seed_101_episode</td><td>999</td></tr><tr><td>seed_101_reward</td><td>9</td></tr><tr><td>seed_123_episode</td><td>999</td></tr><tr><td>seed_123_reward</td><td>9</td></tr><tr><td>seed_42_episode</td><td>999</td></tr><tr><td>seed_42_reward</td><td>10</td></tr><tr><td>seed_456_episode</td><td>999</td></tr><tr><td>seed_456_reward</td><td>13</td></tr><tr><td>seed_789_episode</td><td>999</td></tr><tr><td>seed_789_reward</td><td>11</td></tr></table><br/></div></div>"
            ]
          },
          "metadata": {}
        },
        {
          "output_type": "display_data",
          "data": {
            "text/plain": [
              "<IPython.core.display.HTML object>"
            ],
            "text/html": [
              " View run <strong style=\"color:#cdcd00\">brisk-sweep-49</strong> at: <a href='https://wandb.ai/abhijithvinod-indian-institue-of-technology-madras/RL_CartPole_SARSA/runs/z89sxp0k' target=\"_blank\">https://wandb.ai/abhijithvinod-indian-institue-of-technology-madras/RL_CartPole_SARSA/runs/z89sxp0k</a><br> View project at: <a href='https://wandb.ai/abhijithvinod-indian-institue-of-technology-madras/RL_CartPole_SARSA' target=\"_blank\">https://wandb.ai/abhijithvinod-indian-institue-of-technology-madras/RL_CartPole_SARSA</a><br>Synced 5 W&B file(s), 0 media file(s), 0 artifact file(s) and 0 other file(s)"
            ]
          },
          "metadata": {}
        },
        {
          "output_type": "display_data",
          "data": {
            "text/plain": [
              "<IPython.core.display.HTML object>"
            ],
            "text/html": [
              "Find logs at: <code>./wandb/run-20250331_145526-z89sxp0k/logs</code>"
            ]
          },
          "metadata": {}
        },
        {
          "output_type": "stream",
          "name": "stderr",
          "text": [
            "\u001b[34m\u001b[1mwandb\u001b[0m: Agent Starting Run: gvoxqbps with config:\n",
            "\u001b[34m\u001b[1mwandb\u001b[0m: \talpha: 0.4264348091896062\n",
            "\u001b[34m\u001b[1mwandb\u001b[0m: \tepsilon: 0.28660574958994933\n",
            "\u001b[34m\u001b[1mwandb\u001b[0m: \tgamma: 0.99\n",
            "\u001b[34m\u001b[1mwandb\u001b[0m: \tn_bins: 20\n",
            "\u001b[34m\u001b[1mwandb\u001b[0m: \tn_episodes: 1000\n"
          ]
        },
        {
          "output_type": "display_data",
          "data": {
            "text/plain": [
              "<IPython.core.display.HTML object>"
            ],
            "text/html": [
              "Tracking run with wandb version 0.19.8"
            ]
          },
          "metadata": {}
        },
        {
          "output_type": "display_data",
          "data": {
            "text/plain": [
              "<IPython.core.display.HTML object>"
            ],
            "text/html": [
              "Run data is saved locally in <code>/content/wandb/run-20250331_145543-gvoxqbps</code>"
            ]
          },
          "metadata": {}
        },
        {
          "output_type": "display_data",
          "data": {
            "text/plain": [
              "<IPython.core.display.HTML object>"
            ],
            "text/html": [
              "Syncing run <strong><a href='https://wandb.ai/abhijithvinod-indian-institue-of-technology-madras/RL_CartPole_SARSA/runs/gvoxqbps' target=\"_blank\">visionary-sweep-50</a></strong> to <a href='https://wandb.ai/abhijithvinod-indian-institue-of-technology-madras/RL_CartPole_SARSA' target=\"_blank\">Weights & Biases</a> (<a href='https://wandb.me/developer-guide' target=\"_blank\">docs</a>)<br>Sweep page: <a href='https://wandb.ai/abhijithvinod-indian-institue-of-technology-madras/RL_CartPole_SARSA/sweeps/axs367lv' target=\"_blank\">https://wandb.ai/abhijithvinod-indian-institue-of-technology-madras/RL_CartPole_SARSA/sweeps/axs367lv</a>"
            ]
          },
          "metadata": {}
        },
        {
          "output_type": "display_data",
          "data": {
            "text/plain": [
              "<IPython.core.display.HTML object>"
            ],
            "text/html": [
              " View project at <a href='https://wandb.ai/abhijithvinod-indian-institue-of-technology-madras/RL_CartPole_SARSA' target=\"_blank\">https://wandb.ai/abhijithvinod-indian-institue-of-technology-madras/RL_CartPole_SARSA</a>"
            ]
          },
          "metadata": {}
        },
        {
          "output_type": "display_data",
          "data": {
            "text/plain": [
              "<IPython.core.display.HTML object>"
            ],
            "text/html": [
              " View sweep at <a href='https://wandb.ai/abhijithvinod-indian-institue-of-technology-madras/RL_CartPole_SARSA/sweeps/axs367lv' target=\"_blank\">https://wandb.ai/abhijithvinod-indian-institue-of-technology-madras/RL_CartPole_SARSA/sweeps/axs367lv</a>"
            ]
          },
          "metadata": {}
        },
        {
          "output_type": "display_data",
          "data": {
            "text/plain": [
              "<IPython.core.display.HTML object>"
            ],
            "text/html": [
              " View run at <a href='https://wandb.ai/abhijithvinod-indian-institue-of-technology-madras/RL_CartPole_SARSA/runs/gvoxqbps' target=\"_blank\">https://wandb.ai/abhijithvinod-indian-institue-of-technology-madras/RL_CartPole_SARSA/runs/gvoxqbps</a>"
            ]
          },
          "metadata": {}
        },
        {
          "output_type": "display_data",
          "data": {
            "text/plain": [
              "<IPython.core.display.HTML object>"
            ],
            "text/html": []
          },
          "metadata": {}
        },
        {
          "output_type": "display_data",
          "data": {
            "text/plain": [
              "<IPython.core.display.HTML object>"
            ],
            "text/html": [
              "<br>    <style><br>        .wandb-row {<br>            display: flex;<br>            flex-direction: row;<br>            flex-wrap: wrap;<br>            justify-content: flex-start;<br>            width: 100%;<br>        }<br>        .wandb-col {<br>            display: flex;<br>            flex-direction: column;<br>            flex-basis: 100%;<br>            flex: 1;<br>            padding: 10px;<br>        }<br>    </style><br><div class=\"wandb-row\"><div class=\"wandb-col\"><h3>Run history:</h3><br/><table class=\"wandb\"><tr><td>average_reward_across_seeds</td><td>▁</td></tr><tr><td>seed_101_episode</td><td>▁▁▁▁▂▂▂▂▂▂▂▂▃▃▃▃▄▄▄▄▄▄▄▄▅▅▅▅▆▆▆▆▆▇▇▇▇███</td></tr><tr><td>seed_101_reward</td><td>▁▁▂▁▁▂▃▁▃▆▆▄▂▆▂▃▃▄▅▂█▇▄▂▄▄▄▃▅▃▃▃▅▁▅▃▃▂▅▃</td></tr><tr><td>seed_123_episode</td><td>▁▁▁▂▂▂▂▂▂▂▂▃▃▃▃▄▄▄▄▄▄▄▄▅▅▅▅▅▆▆▆▆▆▆▇▇▇▇██</td></tr><tr><td>seed_123_reward</td><td>▂▂▁▁▁▁▁▁▁▂▃▄▃▄▃▂▄▃▄▇▃▄▂▄▄▄▃▄▅█▂▃▄▂▂▃▂▂▄▄</td></tr><tr><td>seed_42_episode</td><td>▁▁▁▁▂▂▂▂▂▃▃▃▃▄▄▄▄▄▄▄▅▅▅▅▅▅▆▆▆▆▆▆▇▇▇▇████</td></tr><tr><td>seed_42_reward</td><td>▁▁▁▁▁▁▁▂▂▃▄▃█▁▂▇▂▄▂▄▃▃▅▂▂▇▄▆▃▅▄▄▄▄▄▆▅▅▃▆</td></tr><tr><td>seed_456_episode</td><td>▁▁▁▂▂▂▂▃▃▃▄▄▄▄▄▄▄▄▄▄▅▅▅▅▅▅▆▆▆▆▆▆▆▆▆▇▇▇▇█</td></tr><tr><td>seed_456_reward</td><td>▁▁▂▁▁▂▁▂▄▂▂▄▂▃▃▄▁▄▃▂▃▂▃▅▂▃▆▃▃▄▄█▄▄▃▇▄▂▃▂</td></tr><tr><td>seed_789_episode</td><td>▁▁▂▂▂▂▂▃▃▃▃▃▃▃▃▄▄▄▄▅▅▅▅▅▅▅▅▅▆▆▆▆▇▇▇▇▇▇██</td></tr><tr><td>seed_789_reward</td><td>▁▁▁▁▁▁▁▁▁▃▃▂▁▃▅▃▄▃█▃▃▅▂▃▂▂▃▃▄▅▄▃▆▄▅▄▆▂▄▄</td></tr></table><br/></div><div class=\"wandb-col\"><h3>Run summary:</h3><br/><table class=\"wandb\"><tr><td>average_reward_across_seeds</td><td>84.408</td></tr><tr><td>seed_101_episode</td><td>999</td></tr><tr><td>seed_101_reward</td><td>73</td></tr><tr><td>seed_123_episode</td><td>999</td></tr><tr><td>seed_123_reward</td><td>36</td></tr><tr><td>seed_42_episode</td><td>999</td></tr><tr><td>seed_42_reward</td><td>82</td></tr><tr><td>seed_456_episode</td><td>999</td></tr><tr><td>seed_456_reward</td><td>90</td></tr><tr><td>seed_789_episode</td><td>999</td></tr><tr><td>seed_789_reward</td><td>58</td></tr></table><br/></div></div>"
            ]
          },
          "metadata": {}
        },
        {
          "output_type": "display_data",
          "data": {
            "text/plain": [
              "<IPython.core.display.HTML object>"
            ],
            "text/html": [
              " View run <strong style=\"color:#cdcd00\">visionary-sweep-50</strong> at: <a href='https://wandb.ai/abhijithvinod-indian-institue-of-technology-madras/RL_CartPole_SARSA/runs/gvoxqbps' target=\"_blank\">https://wandb.ai/abhijithvinod-indian-institue-of-technology-madras/RL_CartPole_SARSA/runs/gvoxqbps</a><br> View project at: <a href='https://wandb.ai/abhijithvinod-indian-institue-of-technology-madras/RL_CartPole_SARSA' target=\"_blank\">https://wandb.ai/abhijithvinod-indian-institue-of-technology-madras/RL_CartPole_SARSA</a><br>Synced 5 W&B file(s), 0 media file(s), 0 artifact file(s) and 0 other file(s)"
            ]
          },
          "metadata": {}
        },
        {
          "output_type": "display_data",
          "data": {
            "text/plain": [
              "<IPython.core.display.HTML object>"
            ],
            "text/html": [
              "Find logs at: <code>./wandb/run-20250331_145543-gvoxqbps/logs</code>"
            ]
          },
          "metadata": {}
        }
      ]
    },
    {
      "cell_type": "code",
      "source": [
        "run_qlearning_sweep()"
      ],
      "metadata": {
        "colab": {
          "base_uri": "https://localhost:8080/",
          "height": 1000
        },
        "id": "kBGO2Mdvl89-",
        "outputId": "f7198c88-3794-4726-fdc9-53d6735ae9e8"
      },
      "execution_count": 4,
      "outputs": [
        {
          "output_type": "stream",
          "name": "stdout",
          "text": [
            "Create sweep with ID: kreeqo81\n",
            "Sweep URL: https://wandb.ai/abhijithvinod-indian-institue-of-technology-madras/RL_CartPole_QLearning/sweeps/kreeqo81\n"
          ]
        },
        {
          "output_type": "stream",
          "name": "stderr",
          "text": [
            "\u001b[34m\u001b[1mwandb\u001b[0m: Agent Starting Run: nep5lbdk with config:\n",
            "\u001b[34m\u001b[1mwandb\u001b[0m: \talpha: 0.06738119229195272\n",
            "\u001b[34m\u001b[1mwandb\u001b[0m: \tgamma: 0.99\n",
            "\u001b[34m\u001b[1mwandb\u001b[0m: \tn_bins: 20\n",
            "\u001b[34m\u001b[1mwandb\u001b[0m: \tn_episodes: 1000\n",
            "\u001b[34m\u001b[1mwandb\u001b[0m: \tseed: 123\n",
            "\u001b[34m\u001b[1mwandb\u001b[0m: \ttemperature: 1.8862275116226144\n"
          ]
        },
        {
          "output_type": "display_data",
          "data": {
            "text/plain": [
              "<IPython.core.display.HTML object>"
            ],
            "text/html": [
              "Tracking run with wandb version 0.19.8"
            ]
          },
          "metadata": {}
        },
        {
          "output_type": "display_data",
          "data": {
            "text/plain": [
              "<IPython.core.display.HTML object>"
            ],
            "text/html": [
              "Run data is saved locally in <code>/content/wandb/run-20250331_145630-nep5lbdk</code>"
            ]
          },
          "metadata": {}
        },
        {
          "output_type": "display_data",
          "data": {
            "text/plain": [
              "<IPython.core.display.HTML object>"
            ],
            "text/html": [
              "Syncing run <strong><a href='https://wandb.ai/abhijithvinod-indian-institue-of-technology-madras/RL_CartPole_QLearning/runs/nep5lbdk' target=\"_blank\">neat-sweep-1</a></strong> to <a href='https://wandb.ai/abhijithvinod-indian-institue-of-technology-madras/RL_CartPole_QLearning' target=\"_blank\">Weights & Biases</a> (<a href='https://wandb.me/developer-guide' target=\"_blank\">docs</a>)<br>Sweep page: <a href='https://wandb.ai/abhijithvinod-indian-institue-of-technology-madras/RL_CartPole_QLearning/sweeps/kreeqo81' target=\"_blank\">https://wandb.ai/abhijithvinod-indian-institue-of-technology-madras/RL_CartPole_QLearning/sweeps/kreeqo81</a>"
            ]
          },
          "metadata": {}
        },
        {
          "output_type": "display_data",
          "data": {
            "text/plain": [
              "<IPython.core.display.HTML object>"
            ],
            "text/html": [
              " View project at <a href='https://wandb.ai/abhijithvinod-indian-institue-of-technology-madras/RL_CartPole_QLearning' target=\"_blank\">https://wandb.ai/abhijithvinod-indian-institue-of-technology-madras/RL_CartPole_QLearning</a>"
            ]
          },
          "metadata": {}
        },
        {
          "output_type": "display_data",
          "data": {
            "text/plain": [
              "<IPython.core.display.HTML object>"
            ],
            "text/html": [
              " View sweep at <a href='https://wandb.ai/abhijithvinod-indian-institue-of-technology-madras/RL_CartPole_QLearning/sweeps/kreeqo81' target=\"_blank\">https://wandb.ai/abhijithvinod-indian-institue-of-technology-madras/RL_CartPole_QLearning/sweeps/kreeqo81</a>"
            ]
          },
          "metadata": {}
        },
        {
          "output_type": "display_data",
          "data": {
            "text/plain": [
              "<IPython.core.display.HTML object>"
            ],
            "text/html": [
              " View run at <a href='https://wandb.ai/abhijithvinod-indian-institue-of-technology-madras/RL_CartPole_QLearning/runs/nep5lbdk' target=\"_blank\">https://wandb.ai/abhijithvinod-indian-institue-of-technology-madras/RL_CartPole_QLearning/runs/nep5lbdk</a>"
            ]
          },
          "metadata": {}
        },
        {
          "output_type": "display_data",
          "data": {
            "text/plain": [
              "<IPython.core.display.HTML object>"
            ],
            "text/html": []
          },
          "metadata": {}
        },
        {
          "output_type": "display_data",
          "data": {
            "text/plain": [
              "<IPython.core.display.HTML object>"
            ],
            "text/html": [
              "<br>    <style><br>        .wandb-row {<br>            display: flex;<br>            flex-direction: row;<br>            flex-wrap: wrap;<br>            justify-content: flex-start;<br>            width: 100%;<br>        }<br>        .wandb-col {<br>            display: flex;<br>            flex-direction: column;<br>            flex-basis: 100%;<br>            flex: 1;<br>            padding: 10px;<br>        }<br>    </style><br><div class=\"wandb-row\"><div class=\"wandb-col\"><h3>Run history:</h3><br/><table class=\"wandb\"><tr><td>average_reward_across_seeds</td><td>▁</td></tr><tr><td>seed_101_episode</td><td>▁▁▂▂▂▂▂▂▂▂▃▃▃▃▃▃▃▄▄▄▄▄▄▄▄▅▅▅▅▆▆▆▆▆▆▇▇▇██</td></tr><tr><td>seed_101_reward</td><td>▂▂▁▁▁▂▃▁▁▁▄▃▂▃▁▁▂▃▂▆▄▃▃▃▅▃▆▅▄█▇▆▆▆▅▅▆▄█▅</td></tr><tr><td>seed_123_episode</td><td>▁▁▁▁▁▂▂▂▂▂▃▃▃▃▃▃▃▄▄▄▅▅▅▅▅▅▆▆▆▆▆▆▇▇▇█████</td></tr><tr><td>seed_123_reward</td><td>▁▁▂▁▂▁▁▁▁▂▂▁▁▂▂▂▂▃▃▃▄▂▄▃▂▄█▄▄▃▆▆▃▇▄▄▄▅▃▄</td></tr><tr><td>seed_42_episode</td><td>▁▁▁▁▁▁▂▂▂▂▂▂▃▃▃▃▃▄▄▄▄▅▅▅▅▅▅▅▆▆▆▇▇▇▇█████</td></tr><tr><td>seed_42_reward</td><td>▂▃▂▂▁▁▂▁▁▁▃▃▆▃▃▆▄▃▅▃▅▄▇▆▆▇█▆▄▆▇█▅█▇▆▃▇█▆</td></tr><tr><td>seed_456_episode</td><td>▁▁▁▂▂▂▃▃▃▃▃▃▃▄▄▄▄▅▅▅▅▅▅▅▅▆▆▆▆▆▇▇▇▇▇▇████</td></tr><tr><td>seed_456_reward</td><td>▁▁▁▁▁▃▁▂▃▃▁▂▂▂▁▂▁▁▃▄▄▁▇▇▃▃▄▆▄█▆▃▅▅▅▅▇▅▆▅</td></tr><tr><td>seed_789_episode</td><td>▁▂▂▂▂▂▂▂▃▃▃▃▃▃▃▄▄▄▄▄▄▄▅▅▅▅▆▆▆▆▆▆▆▆▇▇▇███</td></tr><tr><td>seed_789_reward</td><td>▁▃▁▂▂▃▄▁▃▁▂▄▃▃▄▂▃▅▄▅▄▂▄▄▆▃█▄▇▅▅▃▄▅▅▅▇▄▅▇</td></tr></table><br/></div><div class=\"wandb-col\"><h3>Run summary:</h3><br/><table class=\"wandb\"><tr><td>average_reward_across_seeds</td><td>130.3</td></tr><tr><td>seed_101_episode</td><td>999</td></tr><tr><td>seed_101_reward</td><td>124</td></tr><tr><td>seed_123_episode</td><td>999</td></tr><tr><td>seed_123_reward</td><td>188</td></tr><tr><td>seed_42_episode</td><td>999</td></tr><tr><td>seed_42_reward</td><td>140</td></tr><tr><td>seed_456_episode</td><td>999</td></tr><tr><td>seed_456_reward</td><td>97</td></tr><tr><td>seed_789_episode</td><td>999</td></tr><tr><td>seed_789_reward</td><td>68</td></tr></table><br/></div></div>"
            ]
          },
          "metadata": {}
        },
        {
          "output_type": "display_data",
          "data": {
            "text/plain": [
              "<IPython.core.display.HTML object>"
            ],
            "text/html": [
              " View run <strong style=\"color:#cdcd00\">neat-sweep-1</strong> at: <a href='https://wandb.ai/abhijithvinod-indian-institue-of-technology-madras/RL_CartPole_QLearning/runs/nep5lbdk' target=\"_blank\">https://wandb.ai/abhijithvinod-indian-institue-of-technology-madras/RL_CartPole_QLearning/runs/nep5lbdk</a><br> View project at: <a href='https://wandb.ai/abhijithvinod-indian-institue-of-technology-madras/RL_CartPole_QLearning' target=\"_blank\">https://wandb.ai/abhijithvinod-indian-institue-of-technology-madras/RL_CartPole_QLearning</a><br>Synced 5 W&B file(s), 0 media file(s), 0 artifact file(s) and 0 other file(s)"
            ]
          },
          "metadata": {}
        },
        {
          "output_type": "display_data",
          "data": {
            "text/plain": [
              "<IPython.core.display.HTML object>"
            ],
            "text/html": [
              "Find logs at: <code>./wandb/run-20250331_145630-nep5lbdk/logs</code>"
            ]
          },
          "metadata": {}
        },
        {
          "output_type": "stream",
          "name": "stderr",
          "text": [
            "\u001b[34m\u001b[1mwandb\u001b[0m: Agent Starting Run: dcuhpydd with config:\n",
            "\u001b[34m\u001b[1mwandb\u001b[0m: \talpha: 0.0766772249504152\n",
            "\u001b[34m\u001b[1mwandb\u001b[0m: \tgamma: 0.99\n",
            "\u001b[34m\u001b[1mwandb\u001b[0m: \tn_bins: 20\n",
            "\u001b[34m\u001b[1mwandb\u001b[0m: \tn_episodes: 1000\n",
            "\u001b[34m\u001b[1mwandb\u001b[0m: \tseed: 101\n",
            "\u001b[34m\u001b[1mwandb\u001b[0m: \ttemperature: 1.2610958209564451\n"
          ]
        },
        {
          "output_type": "display_data",
          "data": {
            "text/plain": [
              "<IPython.core.display.HTML object>"
            ],
            "text/html": [
              "Tracking run with wandb version 0.19.8"
            ]
          },
          "metadata": {}
        },
        {
          "output_type": "display_data",
          "data": {
            "text/plain": [
              "<IPython.core.display.HTML object>"
            ],
            "text/html": [
              "Run data is saved locally in <code>/content/wandb/run-20250331_145742-dcuhpydd</code>"
            ]
          },
          "metadata": {}
        },
        {
          "output_type": "display_data",
          "data": {
            "text/plain": [
              "<IPython.core.display.HTML object>"
            ],
            "text/html": [
              "Syncing run <strong><a href='https://wandb.ai/abhijithvinod-indian-institue-of-technology-madras/RL_CartPole_QLearning/runs/dcuhpydd' target=\"_blank\">driven-sweep-2</a></strong> to <a href='https://wandb.ai/abhijithvinod-indian-institue-of-technology-madras/RL_CartPole_QLearning' target=\"_blank\">Weights & Biases</a> (<a href='https://wandb.me/developer-guide' target=\"_blank\">docs</a>)<br>Sweep page: <a href='https://wandb.ai/abhijithvinod-indian-institue-of-technology-madras/RL_CartPole_QLearning/sweeps/kreeqo81' target=\"_blank\">https://wandb.ai/abhijithvinod-indian-institue-of-technology-madras/RL_CartPole_QLearning/sweeps/kreeqo81</a>"
            ]
          },
          "metadata": {}
        },
        {
          "output_type": "display_data",
          "data": {
            "text/plain": [
              "<IPython.core.display.HTML object>"
            ],
            "text/html": [
              " View project at <a href='https://wandb.ai/abhijithvinod-indian-institue-of-technology-madras/RL_CartPole_QLearning' target=\"_blank\">https://wandb.ai/abhijithvinod-indian-institue-of-technology-madras/RL_CartPole_QLearning</a>"
            ]
          },
          "metadata": {}
        },
        {
          "output_type": "display_data",
          "data": {
            "text/plain": [
              "<IPython.core.display.HTML object>"
            ],
            "text/html": [
              " View sweep at <a href='https://wandb.ai/abhijithvinod-indian-institue-of-technology-madras/RL_CartPole_QLearning/sweeps/kreeqo81' target=\"_blank\">https://wandb.ai/abhijithvinod-indian-institue-of-technology-madras/RL_CartPole_QLearning/sweeps/kreeqo81</a>"
            ]
          },
          "metadata": {}
        },
        {
          "output_type": "display_data",
          "data": {
            "text/plain": [
              "<IPython.core.display.HTML object>"
            ],
            "text/html": [
              " View run at <a href='https://wandb.ai/abhijithvinod-indian-institue-of-technology-madras/RL_CartPole_QLearning/runs/dcuhpydd' target=\"_blank\">https://wandb.ai/abhijithvinod-indian-institue-of-technology-madras/RL_CartPole_QLearning/runs/dcuhpydd</a>"
            ]
          },
          "metadata": {}
        },
        {
          "output_type": "display_data",
          "data": {
            "text/plain": [
              "<IPython.core.display.HTML object>"
            ],
            "text/html": []
          },
          "metadata": {}
        },
        {
          "output_type": "display_data",
          "data": {
            "text/plain": [
              "<IPython.core.display.HTML object>"
            ],
            "text/html": [
              "<br>    <style><br>        .wandb-row {<br>            display: flex;<br>            flex-direction: row;<br>            flex-wrap: wrap;<br>            justify-content: flex-start;<br>            width: 100%;<br>        }<br>        .wandb-col {<br>            display: flex;<br>            flex-direction: column;<br>            flex-basis: 100%;<br>            flex: 1;<br>            padding: 10px;<br>        }<br>    </style><br><div class=\"wandb-row\"><div class=\"wandb-col\"><h3>Run history:</h3><br/><table class=\"wandb\"><tr><td>average_reward_across_seeds</td><td>▁</td></tr><tr><td>seed_101_episode</td><td>▁▁▁▁▁▂▂▂▂▂▃▃▃▃▃▃▄▄▄▄▄▄▄▄▅▅▅▅▅▅▆▆▆▇▇▇▇▇██</td></tr><tr><td>seed_101_reward</td><td>▂▁▂▁▁▂▂▂▁▁▂▂▂▁▂▃▁▄▄▃▃▅▆▄▅▅▃▅▄▆▅▆▆█▂▇▄▆▅▆</td></tr><tr><td>seed_123_episode</td><td>▁▁▁▁▂▂▂▂▂▂▃▃▃▃▃▄▄▄▄▄▄▄▅▅▅▆▆▆▆▆▆▆▇▇▇█████</td></tr><tr><td>seed_123_reward</td><td>▁▁▂▂▃▂▁▁▃▂▁▂▁▃▂▆▆▂▅▁▂▆▆▅▇▃▇▄▇▆▃▆▅▄█▃▇▄▂█</td></tr><tr><td>seed_42_episode</td><td>▁▁▁▂▂▂▂▂▃▃▃▃▄▄▄▄▄▅▅▅▅▅▅▅▅▅▅▆▆▆▆▆▆▆▇▇▇▇██</td></tr><tr><td>seed_42_reward</td><td>▁▁▁▁▂▃▂▅▁▁▄▄▁▂▅▆▃▆▆▅▆▆▂▆▁▅▆▃▄▃▅▇▆█▃▂▇▃▂█</td></tr><tr><td>seed_456_episode</td><td>▁▁▁▁▁▁▂▂▂▂▃▃▃▃▃▃▃▄▄▄▄▄▄▅▅▅▆▆▆▆▆▆▆▆▇▇▇███</td></tr><tr><td>seed_456_reward</td><td>▂▃▁▁▃▁▃▁▂▂▂▃▃▆▃▃▆▃▇▅▄█▂▇█▅▅▆▆▆▅█▆▄▇▅▆▇▆▅</td></tr><tr><td>seed_789_episode</td><td>▁▁▁▁▁▁▂▂▂▂▂▃▃▃▄▄▄▄▅▅▅▅▆▆▆▆▇▇▇▇▇▇▇▇▇█████</td></tr><tr><td>seed_789_reward</td><td>▃▁▃▂▁▂▁▁▁▂▁▂▂▃▃█▅▅▅▃▃▄▅▄▄▆▅▆▃▇▆▇▇▅▅▄▅▆▆▄</td></tr></table><br/></div><div class=\"wandb-col\"><h3>Run summary:</h3><br/><table class=\"wandb\"><tr><td>average_reward_across_seeds</td><td>106.356</td></tr><tr><td>seed_101_episode</td><td>999</td></tr><tr><td>seed_101_reward</td><td>114</td></tr><tr><td>seed_123_episode</td><td>999</td></tr><tr><td>seed_123_reward</td><td>60</td></tr><tr><td>seed_42_episode</td><td>999</td></tr><tr><td>seed_42_reward</td><td>167</td></tr><tr><td>seed_456_episode</td><td>999</td></tr><tr><td>seed_456_reward</td><td>131</td></tr><tr><td>seed_789_episode</td><td>999</td></tr><tr><td>seed_789_reward</td><td>111</td></tr></table><br/></div></div>"
            ]
          },
          "metadata": {}
        },
        {
          "output_type": "display_data",
          "data": {
            "text/plain": [
              "<IPython.core.display.HTML object>"
            ],
            "text/html": [
              " View run <strong style=\"color:#cdcd00\">driven-sweep-2</strong> at: <a href='https://wandb.ai/abhijithvinod-indian-institue-of-technology-madras/RL_CartPole_QLearning/runs/dcuhpydd' target=\"_blank\">https://wandb.ai/abhijithvinod-indian-institue-of-technology-madras/RL_CartPole_QLearning/runs/dcuhpydd</a><br> View project at: <a href='https://wandb.ai/abhijithvinod-indian-institue-of-technology-madras/RL_CartPole_QLearning' target=\"_blank\">https://wandb.ai/abhijithvinod-indian-institue-of-technology-madras/RL_CartPole_QLearning</a><br>Synced 5 W&B file(s), 0 media file(s), 0 artifact file(s) and 0 other file(s)"
            ]
          },
          "metadata": {}
        },
        {
          "output_type": "display_data",
          "data": {
            "text/plain": [
              "<IPython.core.display.HTML object>"
            ],
            "text/html": [
              "Find logs at: <code>./wandb/run-20250331_145742-dcuhpydd/logs</code>"
            ]
          },
          "metadata": {}
        },
        {
          "output_type": "stream",
          "name": "stderr",
          "text": [
            "\u001b[34m\u001b[1mwandb\u001b[0m: Agent Starting Run: kl0psjem with config:\n",
            "\u001b[34m\u001b[1mwandb\u001b[0m: \talpha: 0.4401088395571876\n",
            "\u001b[34m\u001b[1mwandb\u001b[0m: \tgamma: 0.99\n",
            "\u001b[34m\u001b[1mwandb\u001b[0m: \tn_bins: 15\n",
            "\u001b[34m\u001b[1mwandb\u001b[0m: \tn_episodes: 1000\n",
            "\u001b[34m\u001b[1mwandb\u001b[0m: \tseed: 42\n",
            "\u001b[34m\u001b[1mwandb\u001b[0m: \ttemperature: 1.4323146757916057\n"
          ]
        },
        {
          "output_type": "display_data",
          "data": {
            "text/plain": [
              "<IPython.core.display.HTML object>"
            ],
            "text/html": [
              "Tracking run with wandb version 0.19.8"
            ]
          },
          "metadata": {}
        },
        {
          "output_type": "display_data",
          "data": {
            "text/plain": [
              "<IPython.core.display.HTML object>"
            ],
            "text/html": [
              "Run data is saved locally in <code>/content/wandb/run-20250331_145848-kl0psjem</code>"
            ]
          },
          "metadata": {}
        },
        {
          "output_type": "display_data",
          "data": {
            "text/plain": [
              "<IPython.core.display.HTML object>"
            ],
            "text/html": [
              "Syncing run <strong><a href='https://wandb.ai/abhijithvinod-indian-institue-of-technology-madras/RL_CartPole_QLearning/runs/kl0psjem' target=\"_blank\">ruby-sweep-3</a></strong> to <a href='https://wandb.ai/abhijithvinod-indian-institue-of-technology-madras/RL_CartPole_QLearning' target=\"_blank\">Weights & Biases</a> (<a href='https://wandb.me/developer-guide' target=\"_blank\">docs</a>)<br>Sweep page: <a href='https://wandb.ai/abhijithvinod-indian-institue-of-technology-madras/RL_CartPole_QLearning/sweeps/kreeqo81' target=\"_blank\">https://wandb.ai/abhijithvinod-indian-institue-of-technology-madras/RL_CartPole_QLearning/sweeps/kreeqo81</a>"
            ]
          },
          "metadata": {}
        },
        {
          "output_type": "display_data",
          "data": {
            "text/plain": [
              "<IPython.core.display.HTML object>"
            ],
            "text/html": [
              " View project at <a href='https://wandb.ai/abhijithvinod-indian-institue-of-technology-madras/RL_CartPole_QLearning' target=\"_blank\">https://wandb.ai/abhijithvinod-indian-institue-of-technology-madras/RL_CartPole_QLearning</a>"
            ]
          },
          "metadata": {}
        },
        {
          "output_type": "display_data",
          "data": {
            "text/plain": [
              "<IPython.core.display.HTML object>"
            ],
            "text/html": [
              " View sweep at <a href='https://wandb.ai/abhijithvinod-indian-institue-of-technology-madras/RL_CartPole_QLearning/sweeps/kreeqo81' target=\"_blank\">https://wandb.ai/abhijithvinod-indian-institue-of-technology-madras/RL_CartPole_QLearning/sweeps/kreeqo81</a>"
            ]
          },
          "metadata": {}
        },
        {
          "output_type": "display_data",
          "data": {
            "text/plain": [
              "<IPython.core.display.HTML object>"
            ],
            "text/html": [
              " View run at <a href='https://wandb.ai/abhijithvinod-indian-institue-of-technology-madras/RL_CartPole_QLearning/runs/kl0psjem' target=\"_blank\">https://wandb.ai/abhijithvinod-indian-institue-of-technology-madras/RL_CartPole_QLearning/runs/kl0psjem</a>"
            ]
          },
          "metadata": {}
        },
        {
          "output_type": "display_data",
          "data": {
            "text/plain": [
              "<IPython.core.display.HTML object>"
            ],
            "text/html": []
          },
          "metadata": {}
        },
        {
          "output_type": "display_data",
          "data": {
            "text/plain": [
              "<IPython.core.display.HTML object>"
            ],
            "text/html": [
              "<br>    <style><br>        .wandb-row {<br>            display: flex;<br>            flex-direction: row;<br>            flex-wrap: wrap;<br>            justify-content: flex-start;<br>            width: 100%;<br>        }<br>        .wandb-col {<br>            display: flex;<br>            flex-direction: column;<br>            flex-basis: 100%;<br>            flex: 1;<br>            padding: 10px;<br>        }<br>    </style><br><div class=\"wandb-row\"><div class=\"wandb-col\"><h3>Run history:</h3><br/><table class=\"wandb\"><tr><td>average_reward_across_seeds</td><td>▁</td></tr><tr><td>seed_101_episode</td><td>▁▁▁▁▁▂▂▂▂▂▃▃▃▃▃▃▃▃▃▄▄▄▅▅▅▅▅▆▆▆▆▇▇▇▇▇▇▇██</td></tr><tr><td>seed_101_reward</td><td>▁▃▃▂▅▂▃▅▃▂▃▄▅▂▂▄▅▇▅▅▅▂▇▄▅▂▄▅█▄▄▄▄▅▅▇█▄▆▄</td></tr><tr><td>seed_123_episode</td><td>▁▁▁▁▁▁▂▂▂▂▃▃▃▃▃▃▃▃▃▄▄▄▄▄▄▄▅▅▅▅▆▆▆▆▆▇▇███</td></tr><tr><td>seed_123_reward</td><td>▁▂▃▂▆▄▄▂▄▃▄▃▃▃▆▆▂▃▄▂▆▃▆▅▃▃▆▆█▄▃▃▄▇▃▃▃▃▃▄</td></tr><tr><td>seed_42_episode</td><td>▁▁▁▁▁▁▁▁▁▂▂▂▂▃▄▄▄▄▄▄▄▅▅▅▆▆▆▆▆▆▇▇▇▇▇▇▇███</td></tr><tr><td>seed_42_reward</td><td>▁▂▁▂▂▃▄▄▂▄▂▄▁▁▂▁▂▄▄▂▁▅▁▃▆▂▃▃▁█▄▂▄▃▁▂▄▂▂▄</td></tr><tr><td>seed_456_episode</td><td>▁▁▁▁▂▂▃▃▃▃▃▃▃▄▄▄▄▄▄▅▅▅▅▅▆▆▆▆▆▆▇▇▇▇▇▇████</td></tr><tr><td>seed_456_reward</td><td>▁▁▂▃▆▄▆▇▅▇▄▅▇▅▅▄▄▅▅▄█▆▄▁▇▅▄▄▃▄▅▄▅▆▇▄▄▄▆█</td></tr><tr><td>seed_789_episode</td><td>▁▁▁▁▁▂▂▂▂▂▃▃▃▃▃▃▄▄▄▄▄▄▄▄▅▅▅▅▅▆▆▆▇▇▇▇▇███</td></tr><tr><td>seed_789_reward</td><td>▁▂▁▁▁▃▃▂▇▃▃▃▁▄▄▂▃▆▃▃▄▄▆▇▃▃▄▇█▅▅▄▄▄▄▄▃█▃▅</td></tr></table><br/></div><div class=\"wandb-col\"><h3>Run summary:</h3><br/><table class=\"wandb\"><tr><td>average_reward_across_seeds</td><td>170.316</td></tr><tr><td>seed_101_episode</td><td>999</td></tr><tr><td>seed_101_reward</td><td>124</td></tr><tr><td>seed_123_episode</td><td>999</td></tr><tr><td>seed_123_reward</td><td>240</td></tr><tr><td>seed_42_episode</td><td>999</td></tr><tr><td>seed_42_reward</td><td>178</td></tr><tr><td>seed_456_episode</td><td>999</td></tr><tr><td>seed_456_reward</td><td>203</td></tr><tr><td>seed_789_episode</td><td>999</td></tr><tr><td>seed_789_reward</td><td>131</td></tr></table><br/></div></div>"
            ]
          },
          "metadata": {}
        },
        {
          "output_type": "display_data",
          "data": {
            "text/plain": [
              "<IPython.core.display.HTML object>"
            ],
            "text/html": [
              " View run <strong style=\"color:#cdcd00\">ruby-sweep-3</strong> at: <a href='https://wandb.ai/abhijithvinod-indian-institue-of-technology-madras/RL_CartPole_QLearning/runs/kl0psjem' target=\"_blank\">https://wandb.ai/abhijithvinod-indian-institue-of-technology-madras/RL_CartPole_QLearning/runs/kl0psjem</a><br> View project at: <a href='https://wandb.ai/abhijithvinod-indian-institue-of-technology-madras/RL_CartPole_QLearning' target=\"_blank\">https://wandb.ai/abhijithvinod-indian-institue-of-technology-madras/RL_CartPole_QLearning</a><br>Synced 5 W&B file(s), 0 media file(s), 0 artifact file(s) and 0 other file(s)"
            ]
          },
          "metadata": {}
        },
        {
          "output_type": "display_data",
          "data": {
            "text/plain": [
              "<IPython.core.display.HTML object>"
            ],
            "text/html": [
              "Find logs at: <code>./wandb/run-20250331_145848-kl0psjem/logs</code>"
            ]
          },
          "metadata": {}
        },
        {
          "output_type": "stream",
          "name": "stderr",
          "text": [
            "\u001b[34m\u001b[1mwandb\u001b[0m: Sweep Agent: Waiting for job.\n",
            "\u001b[34m\u001b[1mwandb\u001b[0m: Job received.\n",
            "\u001b[34m\u001b[1mwandb\u001b[0m: Agent Starting Run: wz8x68a7 with config:\n",
            "\u001b[34m\u001b[1mwandb\u001b[0m: \talpha: 0.17227121892027367\n",
            "\u001b[34m\u001b[1mwandb\u001b[0m: \tgamma: 0.99\n",
            "\u001b[34m\u001b[1mwandb\u001b[0m: \tn_bins: 15\n",
            "\u001b[34m\u001b[1mwandb\u001b[0m: \tn_episodes: 1000\n",
            "\u001b[34m\u001b[1mwandb\u001b[0m: \tseed: 456\n",
            "\u001b[34m\u001b[1mwandb\u001b[0m: \ttemperature: 1.4122984906127094\n"
          ]
        },
        {
          "output_type": "display_data",
          "data": {
            "text/plain": [
              "<IPython.core.display.HTML object>"
            ],
            "text/html": [
              "Tracking run with wandb version 0.19.8"
            ]
          },
          "metadata": {}
        },
        {
          "output_type": "display_data",
          "data": {
            "text/plain": [
              "<IPython.core.display.HTML object>"
            ],
            "text/html": [
              "Run data is saved locally in <code>/content/wandb/run-20250331_150112-wz8x68a7</code>"
            ]
          },
          "metadata": {}
        },
        {
          "output_type": "display_data",
          "data": {
            "text/plain": [
              "<IPython.core.display.HTML object>"
            ],
            "text/html": [
              "Syncing run <strong><a href='https://wandb.ai/abhijithvinod-indian-institue-of-technology-madras/RL_CartPole_QLearning/runs/wz8x68a7' target=\"_blank\">fresh-sweep-4</a></strong> to <a href='https://wandb.ai/abhijithvinod-indian-institue-of-technology-madras/RL_CartPole_QLearning' target=\"_blank\">Weights & Biases</a> (<a href='https://wandb.me/developer-guide' target=\"_blank\">docs</a>)<br>Sweep page: <a href='https://wandb.ai/abhijithvinod-indian-institue-of-technology-madras/RL_CartPole_QLearning/sweeps/kreeqo81' target=\"_blank\">https://wandb.ai/abhijithvinod-indian-institue-of-technology-madras/RL_CartPole_QLearning/sweeps/kreeqo81</a>"
            ]
          },
          "metadata": {}
        },
        {
          "output_type": "display_data",
          "data": {
            "text/plain": [
              "<IPython.core.display.HTML object>"
            ],
            "text/html": [
              " View project at <a href='https://wandb.ai/abhijithvinod-indian-institue-of-technology-madras/RL_CartPole_QLearning' target=\"_blank\">https://wandb.ai/abhijithvinod-indian-institue-of-technology-madras/RL_CartPole_QLearning</a>"
            ]
          },
          "metadata": {}
        },
        {
          "output_type": "display_data",
          "data": {
            "text/plain": [
              "<IPython.core.display.HTML object>"
            ],
            "text/html": [
              " View sweep at <a href='https://wandb.ai/abhijithvinod-indian-institue-of-technology-madras/RL_CartPole_QLearning/sweeps/kreeqo81' target=\"_blank\">https://wandb.ai/abhijithvinod-indian-institue-of-technology-madras/RL_CartPole_QLearning/sweeps/kreeqo81</a>"
            ]
          },
          "metadata": {}
        },
        {
          "output_type": "display_data",
          "data": {
            "text/plain": [
              "<IPython.core.display.HTML object>"
            ],
            "text/html": [
              " View run at <a href='https://wandb.ai/abhijithvinod-indian-institue-of-technology-madras/RL_CartPole_QLearning/runs/wz8x68a7' target=\"_blank\">https://wandb.ai/abhijithvinod-indian-institue-of-technology-madras/RL_CartPole_QLearning/runs/wz8x68a7</a>"
            ]
          },
          "metadata": {}
        },
        {
          "output_type": "display_data",
          "data": {
            "text/plain": [
              "<IPython.core.display.HTML object>"
            ],
            "text/html": []
          },
          "metadata": {}
        },
        {
          "output_type": "display_data",
          "data": {
            "text/plain": [
              "<IPython.core.display.HTML object>"
            ],
            "text/html": [
              "<br>    <style><br>        .wandb-row {<br>            display: flex;<br>            flex-direction: row;<br>            flex-wrap: wrap;<br>            justify-content: flex-start;<br>            width: 100%;<br>        }<br>        .wandb-col {<br>            display: flex;<br>            flex-direction: column;<br>            flex-basis: 100%;<br>            flex: 1;<br>            padding: 10px;<br>        }<br>    </style><br><div class=\"wandb-row\"><div class=\"wandb-col\"><h3>Run history:</h3><br/><table class=\"wandb\"><tr><td>average_reward_across_seeds</td><td>▁</td></tr><tr><td>seed_101_episode</td><td>▁▁▂▂▂▂▂▂▃▃▃▃▃▃▄▄▄▄▄▄▅▅▅▆▆▆▆▆▇▇▇▇▇▇▇▇▇▇██</td></tr><tr><td>seed_101_reward</td><td>▁▁▁▁▁▂▁▄▁▄▂█▂▂▃▂▃▂▅▂▃▂▂▃▅▄▃▅▄▂█▄▃▂▃▂▄▂▂█</td></tr><tr><td>seed_123_episode</td><td>▁▁▁▁▁▂▂▂▂▂▂▃▃▃▄▄▅▅▅▅▆▆▆▆▆▆▇▇▇▇▇▇▇▇▇▇████</td></tr><tr><td>seed_123_reward</td><td>▂▁▃▁▃▄▃▃▂▄▁▆▂▃▃▄▂▃▄█▄▂▂▅▅▂▄▂▃▃▂▃▃▂▄▃▃▃▄▃</td></tr><tr><td>seed_42_episode</td><td>▁▁▂▂▂▂▂▂▂▃▃▃▃▄▄▄▄▄▅▅▅▆▆▆▆▆▆▆▆▆▇▇▇▇▇█████</td></tr><tr><td>seed_42_reward</td><td>▁▁▁▁▁▁▁▅▃▁▃▃▂▂▄▂▁▃▆▆▄▁▁▁▂▅▂▃▅▇▄▃▄▁▂█▃▅▅▅</td></tr><tr><td>seed_456_episode</td><td>▁▁▁▁▂▂▂▂▂▂▂▂▃▃▃▃▃▃▃▄▄▄▄▄▅▅▅▅▅▅▆▆▆▆▇▇▇▇██</td></tr><tr><td>seed_456_reward</td><td>▁▁▂▁▁▁▁▂▃▃▃▄▃▁▁▂▃▁▆▄▃▅▄▁▁▇▆▁▆▅▆▁▅▂▅█▅▂▂▆</td></tr><tr><td>seed_789_episode</td><td>▁▁▁▁▁▂▂▃▃▃▃▃▄▄▄▄▄▄▄▅▅▅▅▅▆▆▆▆▆▆▆▇▇▇▇▇▇███</td></tr><tr><td>seed_789_reward</td><td>▁▁▁▂▁▃▁▁▂▂▂▂▄▁▅▄▁▂▂▂▃▂█▁▁▁▃▄▃▃▁▄▄▁▂▇▆█▃▂</td></tr></table><br/></div><div class=\"wandb-col\"><h3>Run summary:</h3><br/><table class=\"wandb\"><tr><td>average_reward_across_seeds</td><td>185.488</td></tr><tr><td>seed_101_episode</td><td>999</td></tr><tr><td>seed_101_reward</td><td>110</td></tr><tr><td>seed_123_episode</td><td>999</td></tr><tr><td>seed_123_reward</td><td>118</td></tr><tr><td>seed_42_episode</td><td>999</td></tr><tr><td>seed_42_reward</td><td>41</td></tr><tr><td>seed_456_episode</td><td>999</td></tr><tr><td>seed_456_reward</td><td>500</td></tr><tr><td>seed_789_episode</td><td>999</td></tr><tr><td>seed_789_reward</td><td>57</td></tr></table><br/></div></div>"
            ]
          },
          "metadata": {}
        },
        {
          "output_type": "display_data",
          "data": {
            "text/plain": [
              "<IPython.core.display.HTML object>"
            ],
            "text/html": [
              " View run <strong style=\"color:#cdcd00\">fresh-sweep-4</strong> at: <a href='https://wandb.ai/abhijithvinod-indian-institue-of-technology-madras/RL_CartPole_QLearning/runs/wz8x68a7' target=\"_blank\">https://wandb.ai/abhijithvinod-indian-institue-of-technology-madras/RL_CartPole_QLearning/runs/wz8x68a7</a><br> View project at: <a href='https://wandb.ai/abhijithvinod-indian-institue-of-technology-madras/RL_CartPole_QLearning' target=\"_blank\">https://wandb.ai/abhijithvinod-indian-institue-of-technology-madras/RL_CartPole_QLearning</a><br>Synced 5 W&B file(s), 0 media file(s), 0 artifact file(s) and 0 other file(s)"
            ]
          },
          "metadata": {}
        },
        {
          "output_type": "display_data",
          "data": {
            "text/plain": [
              "<IPython.core.display.HTML object>"
            ],
            "text/html": [
              "Find logs at: <code>./wandb/run-20250331_150112-wz8x68a7/logs</code>"
            ]
          },
          "metadata": {}
        },
        {
          "output_type": "stream",
          "name": "stderr",
          "text": [
            "\u001b[34m\u001b[1mwandb\u001b[0m: Agent Starting Run: fjibd1c1 with config:\n",
            "\u001b[34m\u001b[1mwandb\u001b[0m: \talpha: 0.1967228999158775\n",
            "\u001b[34m\u001b[1mwandb\u001b[0m: \tgamma: 0.99\n",
            "\u001b[34m\u001b[1mwandb\u001b[0m: \tn_bins: 10\n",
            "\u001b[34m\u001b[1mwandb\u001b[0m: \tn_episodes: 1000\n",
            "\u001b[34m\u001b[1mwandb\u001b[0m: \tseed: 456\n",
            "\u001b[34m\u001b[1mwandb\u001b[0m: \ttemperature: 1.6525584011396486\n"
          ]
        },
        {
          "output_type": "display_data",
          "data": {
            "text/plain": [
              "<IPython.core.display.HTML object>"
            ],
            "text/html": [
              "Tracking run with wandb version 0.19.8"
            ]
          },
          "metadata": {}
        },
        {
          "output_type": "display_data",
          "data": {
            "text/plain": [
              "<IPython.core.display.HTML object>"
            ],
            "text/html": [
              "Run data is saved locally in <code>/content/wandb/run-20250331_150314-fjibd1c1</code>"
            ]
          },
          "metadata": {}
        },
        {
          "output_type": "display_data",
          "data": {
            "text/plain": [
              "<IPython.core.display.HTML object>"
            ],
            "text/html": [
              "Syncing run <strong><a href='https://wandb.ai/abhijithvinod-indian-institue-of-technology-madras/RL_CartPole_QLearning/runs/fjibd1c1' target=\"_blank\">vibrant-sweep-5</a></strong> to <a href='https://wandb.ai/abhijithvinod-indian-institue-of-technology-madras/RL_CartPole_QLearning' target=\"_blank\">Weights & Biases</a> (<a href='https://wandb.me/developer-guide' target=\"_blank\">docs</a>)<br>Sweep page: <a href='https://wandb.ai/abhijithvinod-indian-institue-of-technology-madras/RL_CartPole_QLearning/sweeps/kreeqo81' target=\"_blank\">https://wandb.ai/abhijithvinod-indian-institue-of-technology-madras/RL_CartPole_QLearning/sweeps/kreeqo81</a>"
            ]
          },
          "metadata": {}
        },
        {
          "output_type": "display_data",
          "data": {
            "text/plain": [
              "<IPython.core.display.HTML object>"
            ],
            "text/html": [
              " View project at <a href='https://wandb.ai/abhijithvinod-indian-institue-of-technology-madras/RL_CartPole_QLearning' target=\"_blank\">https://wandb.ai/abhijithvinod-indian-institue-of-technology-madras/RL_CartPole_QLearning</a>"
            ]
          },
          "metadata": {}
        },
        {
          "output_type": "display_data",
          "data": {
            "text/plain": [
              "<IPython.core.display.HTML object>"
            ],
            "text/html": [
              " View sweep at <a href='https://wandb.ai/abhijithvinod-indian-institue-of-technology-madras/RL_CartPole_QLearning/sweeps/kreeqo81' target=\"_blank\">https://wandb.ai/abhijithvinod-indian-institue-of-technology-madras/RL_CartPole_QLearning/sweeps/kreeqo81</a>"
            ]
          },
          "metadata": {}
        },
        {
          "output_type": "display_data",
          "data": {
            "text/plain": [
              "<IPython.core.display.HTML object>"
            ],
            "text/html": [
              " View run at <a href='https://wandb.ai/abhijithvinod-indian-institue-of-technology-madras/RL_CartPole_QLearning/runs/fjibd1c1' target=\"_blank\">https://wandb.ai/abhijithvinod-indian-institue-of-technology-madras/RL_CartPole_QLearning/runs/fjibd1c1</a>"
            ]
          },
          "metadata": {}
        },
        {
          "output_type": "display_data",
          "data": {
            "text/plain": [
              "<IPython.core.display.HTML object>"
            ],
            "text/html": []
          },
          "metadata": {}
        },
        {
          "output_type": "display_data",
          "data": {
            "text/plain": [
              "<IPython.core.display.HTML object>"
            ],
            "text/html": [
              "<br>    <style><br>        .wandb-row {<br>            display: flex;<br>            flex-direction: row;<br>            flex-wrap: wrap;<br>            justify-content: flex-start;<br>            width: 100%;<br>        }<br>        .wandb-col {<br>            display: flex;<br>            flex-direction: column;<br>            flex-basis: 100%;<br>            flex: 1;<br>            padding: 10px;<br>        }<br>    </style><br><div class=\"wandb-row\"><div class=\"wandb-col\"><h3>Run history:</h3><br/><table class=\"wandb\"><tr><td>average_reward_across_seeds</td><td>▁</td></tr><tr><td>seed_101_episode</td><td>▁▁▁▁▁▂▂▂▂▂▃▃▃▃▃▄▄▄▄▄▄▄▅▅▅▅▅▅▅▅▆▆▆▆▆▇▇▇██</td></tr><tr><td>seed_101_reward</td><td>▂▁▁▂▂▂▃▃▃▄▃▄▅▅▄▄▅▄▅█▄▄▅▆▅▆▅▅▅▅▆▅▅▆▅▆▆▅▆▅</td></tr><tr><td>seed_123_episode</td><td>▁▁▁▁▁▁▁▂▂▂▃▃▃▄▄▄▄▄▄▅▅▅▅▅▅▆▆▆▆▆▆▆▆▇▇▇▇▇██</td></tr><tr><td>seed_123_reward</td><td>▂▁▃▄▁▃▁▃▅▅▃▄▃▄▄▅▄▅▅▄▆▇▃▆▆▄█▄▆▆█▆▅▆▇▆▄▆▆▇</td></tr><tr><td>seed_42_episode</td><td>▁▁▂▂▂▂▃▃▃▃▃▃▄▄▄▄▄▄▄▅▅▅▅▅▆▆▆▆▆▆▇▇▇▇▇▇████</td></tr><tr><td>seed_42_reward</td><td>▁▂▂▃▂▃▃▃▂▂▂▂▂▃▃▃▄▃▃▄▃▃▄▄▅▄▄▅▄▄▄▃▆▄▅▃█▅▇▃</td></tr><tr><td>seed_456_episode</td><td>▁▁▁▂▂▂▂▂▂▃▃▃▃▃▃▃▄▄▄▄▅▅▅▅▅▆▆▆▆▆▆▇▇▇▇▇▇▇▇█</td></tr><tr><td>seed_456_reward</td><td>▁▁▂▁▁▂▂▃▅▄▅▄▃▄▃▄▃▆▄▅▇▄▄▆▅▄▇▆▆▅▆▅▄▇▅▆▇▅▇█</td></tr><tr><td>seed_789_episode</td><td>▁▁▁▂▂▂▂▃▃▃▃▃▃▃▄▄▄▄▄▄▄▄▄▄▅▅▅▅▆▆▆▆▆▇▇█████</td></tr><tr><td>seed_789_reward</td><td>▁▂▁▃▂▂▅▆▃▃▄▃▇▅▅▆▄▄▆▄▄▅▇▆▄▆▄▅▅▅▆▆▅▆▇▆▅█▅▄</td></tr></table><br/></div><div class=\"wandb-col\"><h3>Run summary:</h3><br/><table class=\"wandb\"><tr><td>average_reward_across_seeds</td><td>178.224</td></tr><tr><td>seed_101_episode</td><td>999</td></tr><tr><td>seed_101_reward</td><td>161</td></tr><tr><td>seed_123_episode</td><td>999</td></tr><tr><td>seed_123_reward</td><td>129</td></tr><tr><td>seed_42_episode</td><td>999</td></tr><tr><td>seed_42_reward</td><td>356</td></tr><tr><td>seed_456_episode</td><td>999</td></tr><tr><td>seed_456_reward</td><td>254</td></tr><tr><td>seed_789_episode</td><td>999</td></tr><tr><td>seed_789_reward</td><td>104</td></tr></table><br/></div></div>"
            ]
          },
          "metadata": {}
        },
        {
          "output_type": "display_data",
          "data": {
            "text/plain": [
              "<IPython.core.display.HTML object>"
            ],
            "text/html": [
              " View run <strong style=\"color:#cdcd00\">vibrant-sweep-5</strong> at: <a href='https://wandb.ai/abhijithvinod-indian-institue-of-technology-madras/RL_CartPole_QLearning/runs/fjibd1c1' target=\"_blank\">https://wandb.ai/abhijithvinod-indian-institue-of-technology-madras/RL_CartPole_QLearning/runs/fjibd1c1</a><br> View project at: <a href='https://wandb.ai/abhijithvinod-indian-institue-of-technology-madras/RL_CartPole_QLearning' target=\"_blank\">https://wandb.ai/abhijithvinod-indian-institue-of-technology-madras/RL_CartPole_QLearning</a><br>Synced 5 W&B file(s), 0 media file(s), 0 artifact file(s) and 0 other file(s)"
            ]
          },
          "metadata": {}
        },
        {
          "output_type": "display_data",
          "data": {
            "text/plain": [
              "<IPython.core.display.HTML object>"
            ],
            "text/html": [
              "Find logs at: <code>./wandb/run-20250331_150314-fjibd1c1/logs</code>"
            ]
          },
          "metadata": {}
        },
        {
          "output_type": "stream",
          "name": "stderr",
          "text": [
            "\u001b[34m\u001b[1mwandb\u001b[0m: Agent Starting Run: dushmm0j with config:\n",
            "\u001b[34m\u001b[1mwandb\u001b[0m: \talpha: 0.37554218681989576\n",
            "\u001b[34m\u001b[1mwandb\u001b[0m: \tgamma: 0.99\n",
            "\u001b[34m\u001b[1mwandb\u001b[0m: \tn_bins: 15\n",
            "\u001b[34m\u001b[1mwandb\u001b[0m: \tn_episodes: 1000\n",
            "\u001b[34m\u001b[1mwandb\u001b[0m: \tseed: 456\n",
            "\u001b[34m\u001b[1mwandb\u001b[0m: \ttemperature: 1.337701598055116\n"
          ]
        },
        {
          "output_type": "display_data",
          "data": {
            "text/plain": [
              "<IPython.core.display.HTML object>"
            ],
            "text/html": [
              "Tracking run with wandb version 0.19.8"
            ]
          },
          "metadata": {}
        },
        {
          "output_type": "display_data",
          "data": {
            "text/plain": [
              "<IPython.core.display.HTML object>"
            ],
            "text/html": [
              "Run data is saved locally in <code>/content/wandb/run-20250331_150511-dushmm0j</code>"
            ]
          },
          "metadata": {}
        },
        {
          "output_type": "display_data",
          "data": {
            "text/plain": [
              "<IPython.core.display.HTML object>"
            ],
            "text/html": [
              "Syncing run <strong><a href='https://wandb.ai/abhijithvinod-indian-institue-of-technology-madras/RL_CartPole_QLearning/runs/dushmm0j' target=\"_blank\">generous-sweep-6</a></strong> to <a href='https://wandb.ai/abhijithvinod-indian-institue-of-technology-madras/RL_CartPole_QLearning' target=\"_blank\">Weights & Biases</a> (<a href='https://wandb.me/developer-guide' target=\"_blank\">docs</a>)<br>Sweep page: <a href='https://wandb.ai/abhijithvinod-indian-institue-of-technology-madras/RL_CartPole_QLearning/sweeps/kreeqo81' target=\"_blank\">https://wandb.ai/abhijithvinod-indian-institue-of-technology-madras/RL_CartPole_QLearning/sweeps/kreeqo81</a>"
            ]
          },
          "metadata": {}
        },
        {
          "output_type": "display_data",
          "data": {
            "text/plain": [
              "<IPython.core.display.HTML object>"
            ],
            "text/html": [
              " View project at <a href='https://wandb.ai/abhijithvinod-indian-institue-of-technology-madras/RL_CartPole_QLearning' target=\"_blank\">https://wandb.ai/abhijithvinod-indian-institue-of-technology-madras/RL_CartPole_QLearning</a>"
            ]
          },
          "metadata": {}
        },
        {
          "output_type": "display_data",
          "data": {
            "text/plain": [
              "<IPython.core.display.HTML object>"
            ],
            "text/html": [
              " View sweep at <a href='https://wandb.ai/abhijithvinod-indian-institue-of-technology-madras/RL_CartPole_QLearning/sweeps/kreeqo81' target=\"_blank\">https://wandb.ai/abhijithvinod-indian-institue-of-technology-madras/RL_CartPole_QLearning/sweeps/kreeqo81</a>"
            ]
          },
          "metadata": {}
        },
        {
          "output_type": "display_data",
          "data": {
            "text/plain": [
              "<IPython.core.display.HTML object>"
            ],
            "text/html": [
              " View run at <a href='https://wandb.ai/abhijithvinod-indian-institue-of-technology-madras/RL_CartPole_QLearning/runs/dushmm0j' target=\"_blank\">https://wandb.ai/abhijithvinod-indian-institue-of-technology-madras/RL_CartPole_QLearning/runs/dushmm0j</a>"
            ]
          },
          "metadata": {}
        },
        {
          "output_type": "display_data",
          "data": {
            "text/plain": [
              "<IPython.core.display.HTML object>"
            ],
            "text/html": []
          },
          "metadata": {}
        },
        {
          "output_type": "display_data",
          "data": {
            "text/plain": [
              "<IPython.core.display.HTML object>"
            ],
            "text/html": [
              "<br>    <style><br>        .wandb-row {<br>            display: flex;<br>            flex-direction: row;<br>            flex-wrap: wrap;<br>            justify-content: flex-start;<br>            width: 100%;<br>        }<br>        .wandb-col {<br>            display: flex;<br>            flex-direction: column;<br>            flex-basis: 100%;<br>            flex: 1;<br>            padding: 10px;<br>        }<br>    </style><br><div class=\"wandb-row\"><div class=\"wandb-col\"><h3>Run history:</h3><br/><table class=\"wandb\"><tr><td>average_reward_across_seeds</td><td>▁</td></tr><tr><td>seed_101_episode</td><td>▁▁▁▂▂▂▂▂▂▂▃▃▃▃▃▄▄▄▄▄▅▅▅▅▅▅▅▆▆▆▇▇▇▇▇▇▇▇▇█</td></tr><tr><td>seed_101_reward</td><td>▂▁▁▁▁▃▂▆▂▄▂▂▁▃▁▁▁▁▄▁▃▄▅▄█▃▃▃▃▃▆▃▂▃▃▄▁▃▂▇</td></tr><tr><td>seed_123_episode</td><td>▁▁▁▁▁▂▂▂▂▂▂▂▂▂▂▃▃▃▃▃▃▃▃▄▄▄▄▄▅▅▅▅▆▆▆▆▆▆▇█</td></tr><tr><td>seed_123_reward</td><td>▁▁▁▂▃▄▄▅▅▅▅▅▆▅▅▅▇▅▆▅▇▇▆▅█▆▆▆▆▆▆▇▆▆█▅▅▅▅▄</td></tr><tr><td>seed_42_episode</td><td>▁▁▁▁▁▂▂▂▂▂▂▂▂▃▃▃▃▃▃▄▄▅▅▅▅▅▅▆▆▆▇▇▇▇▇█████</td></tr><tr><td>seed_42_reward</td><td>▃▁▂▂▆▃▁▃▃▃▂▂▃▅▂▂▅▃▃▇▄▂█▄▃▄▆▄▄▂▅▆▅▄▂▄▅▄▄▃</td></tr><tr><td>seed_456_episode</td><td>▁▁▁▁▁▁▁▂▂▂▃▃▃▃▃▃▃▃▃▄▄▅▅▅▅▆▆▆▆▆▆▆▇▇▇▇████</td></tr><tr><td>seed_456_reward</td><td>▁▁▁▂▄▂▃▄▄▂▃▄▃▃▃▅▃▃▃▃▅▃▃▃▃▂█▄▄▃▆▃▄▄█▅▃▃▃▃</td></tr><tr><td>seed_789_episode</td><td>▁▁▁▂▂▂▃▃▃▄▄▄▄▄▄▄▅▅▅▅▆▆▆▆▆▆▆▆▇▇▇▇▇▇▇█████</td></tr><tr><td>seed_789_reward</td><td>▁▂▄▂▂▂▁▄▄▅▆▅▃▅▂▃▂▅▃▅▂▅▃▇▂▄▇▃▁▅▄▂▃▅▃▂▃▅█▃</td></tr></table><br/></div><div class=\"wandb-col\"><h3>Run summary:</h3><br/><table class=\"wandb\"><tr><td>average_reward_across_seeds</td><td>169.024</td></tr><tr><td>seed_101_episode</td><td>999</td></tr><tr><td>seed_101_reward</td><td>31</td></tr><tr><td>seed_123_episode</td><td>999</td></tr><tr><td>seed_123_reward</td><td>171</td></tr><tr><td>seed_42_episode</td><td>999</td></tr><tr><td>seed_42_reward</td><td>114</td></tr><tr><td>seed_456_episode</td><td>999</td></tr><tr><td>seed_456_reward</td><td>142</td></tr><tr><td>seed_789_episode</td><td>999</td></tr><tr><td>seed_789_reward</td><td>269</td></tr></table><br/></div></div>"
            ]
          },
          "metadata": {}
        },
        {
          "output_type": "display_data",
          "data": {
            "text/plain": [
              "<IPython.core.display.HTML object>"
            ],
            "text/html": [
              " View run <strong style=\"color:#cdcd00\">generous-sweep-6</strong> at: <a href='https://wandb.ai/abhijithvinod-indian-institue-of-technology-madras/RL_CartPole_QLearning/runs/dushmm0j' target=\"_blank\">https://wandb.ai/abhijithvinod-indian-institue-of-technology-madras/RL_CartPole_QLearning/runs/dushmm0j</a><br> View project at: <a href='https://wandb.ai/abhijithvinod-indian-institue-of-technology-madras/RL_CartPole_QLearning' target=\"_blank\">https://wandb.ai/abhijithvinod-indian-institue-of-technology-madras/RL_CartPole_QLearning</a><br>Synced 5 W&B file(s), 0 media file(s), 0 artifact file(s) and 0 other file(s)"
            ]
          },
          "metadata": {}
        },
        {
          "output_type": "display_data",
          "data": {
            "text/plain": [
              "<IPython.core.display.HTML object>"
            ],
            "text/html": [
              "Find logs at: <code>./wandb/run-20250331_150511-dushmm0j/logs</code>"
            ]
          },
          "metadata": {}
        },
        {
          "output_type": "stream",
          "name": "stderr",
          "text": [
            "\u001b[34m\u001b[1mwandb\u001b[0m: Agent Starting Run: 8ovc1466 with config:\n",
            "\u001b[34m\u001b[1mwandb\u001b[0m: \talpha: 0.24010571859497365\n",
            "\u001b[34m\u001b[1mwandb\u001b[0m: \tgamma: 0.99\n",
            "\u001b[34m\u001b[1mwandb\u001b[0m: \tn_bins: 10\n",
            "\u001b[34m\u001b[1mwandb\u001b[0m: \tn_episodes: 1000\n",
            "\u001b[34m\u001b[1mwandb\u001b[0m: \tseed: 101\n",
            "\u001b[34m\u001b[1mwandb\u001b[0m: \ttemperature: 1.8159116470410328\n"
          ]
        },
        {
          "output_type": "display_data",
          "data": {
            "text/plain": [
              "<IPython.core.display.HTML object>"
            ],
            "text/html": [
              "Tracking run with wandb version 0.19.8"
            ]
          },
          "metadata": {}
        },
        {
          "output_type": "display_data",
          "data": {
            "text/plain": [
              "<IPython.core.display.HTML object>"
            ],
            "text/html": [
              "Run data is saved locally in <code>/content/wandb/run-20250331_150718-8ovc1466</code>"
            ]
          },
          "metadata": {}
        },
        {
          "output_type": "display_data",
          "data": {
            "text/plain": [
              "<IPython.core.display.HTML object>"
            ],
            "text/html": [
              "Syncing run <strong><a href='https://wandb.ai/abhijithvinod-indian-institue-of-technology-madras/RL_CartPole_QLearning/runs/8ovc1466' target=\"_blank\">rose-sweep-7</a></strong> to <a href='https://wandb.ai/abhijithvinod-indian-institue-of-technology-madras/RL_CartPole_QLearning' target=\"_blank\">Weights & Biases</a> (<a href='https://wandb.me/developer-guide' target=\"_blank\">docs</a>)<br>Sweep page: <a href='https://wandb.ai/abhijithvinod-indian-institue-of-technology-madras/RL_CartPole_QLearning/sweeps/kreeqo81' target=\"_blank\">https://wandb.ai/abhijithvinod-indian-institue-of-technology-madras/RL_CartPole_QLearning/sweeps/kreeqo81</a>"
            ]
          },
          "metadata": {}
        },
        {
          "output_type": "display_data",
          "data": {
            "text/plain": [
              "<IPython.core.display.HTML object>"
            ],
            "text/html": [
              " View project at <a href='https://wandb.ai/abhijithvinod-indian-institue-of-technology-madras/RL_CartPole_QLearning' target=\"_blank\">https://wandb.ai/abhijithvinod-indian-institue-of-technology-madras/RL_CartPole_QLearning</a>"
            ]
          },
          "metadata": {}
        },
        {
          "output_type": "display_data",
          "data": {
            "text/plain": [
              "<IPython.core.display.HTML object>"
            ],
            "text/html": [
              " View sweep at <a href='https://wandb.ai/abhijithvinod-indian-institue-of-technology-madras/RL_CartPole_QLearning/sweeps/kreeqo81' target=\"_blank\">https://wandb.ai/abhijithvinod-indian-institue-of-technology-madras/RL_CartPole_QLearning/sweeps/kreeqo81</a>"
            ]
          },
          "metadata": {}
        },
        {
          "output_type": "display_data",
          "data": {
            "text/plain": [
              "<IPython.core.display.HTML object>"
            ],
            "text/html": [
              " View run at <a href='https://wandb.ai/abhijithvinod-indian-institue-of-technology-madras/RL_CartPole_QLearning/runs/8ovc1466' target=\"_blank\">https://wandb.ai/abhijithvinod-indian-institue-of-technology-madras/RL_CartPole_QLearning/runs/8ovc1466</a>"
            ]
          },
          "metadata": {}
        },
        {
          "output_type": "display_data",
          "data": {
            "text/plain": [
              "<IPython.core.display.HTML object>"
            ],
            "text/html": []
          },
          "metadata": {}
        },
        {
          "output_type": "display_data",
          "data": {
            "text/plain": [
              "<IPython.core.display.HTML object>"
            ],
            "text/html": [
              "<br>    <style><br>        .wandb-row {<br>            display: flex;<br>            flex-direction: row;<br>            flex-wrap: wrap;<br>            justify-content: flex-start;<br>            width: 100%;<br>        }<br>        .wandb-col {<br>            display: flex;<br>            flex-direction: column;<br>            flex-basis: 100%;<br>            flex: 1;<br>            padding: 10px;<br>        }<br>    </style><br><div class=\"wandb-row\"><div class=\"wandb-col\"><h3>Run history:</h3><br/><table class=\"wandb\"><tr><td>average_reward_across_seeds</td><td>▁</td></tr><tr><td>seed_101_episode</td><td>▁▁▁▁▁▂▂▂▂▂▃▃▃▄▄▄▄▄▄▄▅▅▅▅▅▅▅▅▆▆▆▆▆▆▆▇▇███</td></tr><tr><td>seed_101_reward</td><td>▁▂▂▁▁▃▄▁▃▃▆▆▆▅▅▄▆▆▅▄▆▆▇█▆▃█▇█▇█▇█▇▇▇█▇▇▃</td></tr><tr><td>seed_123_episode</td><td>▁▁▁▁▁▂▂▂▂▂▂▂▃▃▃▃▃▃▄▄▄▄▄▄▅▅▆▆▆▆▇▇▇▇██████</td></tr><tr><td>seed_123_reward</td><td>▂▂▁▂▁▄▃▄▃▃▆▄▆▄▆▆▅▆▄▅▆█▆▅▆▅▇▆▆▅▆▅▆▆▆▆▇▇▆▆</td></tr><tr><td>seed_42_episode</td><td>▁▁▁▁▁▂▂▂▃▃▄▄▄▄▄▅▅▅▅▅▅▆▆▆▆▇▇▇▇▇▇▇▇▇▇▇████</td></tr><tr><td>seed_42_reward</td><td>▁▁▁▁▁▃▃▃▅▆▅▅▅▅█▄▅▆▄▅▆▅▅▆▅▆▆▅▆▆▇▅▆▇▆▆▅▆▇▇</td></tr><tr><td>seed_456_episode</td><td>▁▁▁▁▁▂▂▂▂▂▃▃▃▃▄▄▅▅▅▅▅▅▅▅▅▆▆▆▆▆▆▇▇▇▇█████</td></tr><tr><td>seed_456_reward</td><td>▂▃▁▂▃▅▅▅▄▅▆▇▇▆██▆▇██▆▇▇█▇▇█▇▇▇█▇█▇█▇▇▇█▇</td></tr><tr><td>seed_789_episode</td><td>▁▁▁▁▁▂▂▂▂▂▂▂▃▃▃▃▃▄▄▄▅▅▅▅▅▅▅▅▅▆▆▆▇▇▇▇▇▇██</td></tr><tr><td>seed_789_reward</td><td>▁▂▁▂▂▄▅▄▆▃▆▅▄▄▅▅▆▇▅▇▆▇▇▇█▆▇▆▇▇▇█▇▇▇▇▇█▇█</td></tr></table><br/></div><div class=\"wandb-col\"><h3>Run summary:</h3><br/><table class=\"wandb\"><tr><td>average_reward_across_seeds</td><td>160.824</td></tr><tr><td>seed_101_episode</td><td>999</td></tr><tr><td>seed_101_reward</td><td>175</td></tr><tr><td>seed_123_episode</td><td>999</td></tr><tr><td>seed_123_reward</td><td>140</td></tr><tr><td>seed_42_episode</td><td>999</td></tr><tr><td>seed_42_reward</td><td>169</td></tr><tr><td>seed_456_episode</td><td>999</td></tr><tr><td>seed_456_reward</td><td>129</td></tr><tr><td>seed_789_episode</td><td>999</td></tr><tr><td>seed_789_reward</td><td>195</td></tr></table><br/></div></div>"
            ]
          },
          "metadata": {}
        },
        {
          "output_type": "display_data",
          "data": {
            "text/plain": [
              "<IPython.core.display.HTML object>"
            ],
            "text/html": [
              " View run <strong style=\"color:#cdcd00\">rose-sweep-7</strong> at: <a href='https://wandb.ai/abhijithvinod-indian-institue-of-technology-madras/RL_CartPole_QLearning/runs/8ovc1466' target=\"_blank\">https://wandb.ai/abhijithvinod-indian-institue-of-technology-madras/RL_CartPole_QLearning/runs/8ovc1466</a><br> View project at: <a href='https://wandb.ai/abhijithvinod-indian-institue-of-technology-madras/RL_CartPole_QLearning' target=\"_blank\">https://wandb.ai/abhijithvinod-indian-institue-of-technology-madras/RL_CartPole_QLearning</a><br>Synced 5 W&B file(s), 0 media file(s), 0 artifact file(s) and 0 other file(s)"
            ]
          },
          "metadata": {}
        },
        {
          "output_type": "display_data",
          "data": {
            "text/plain": [
              "<IPython.core.display.HTML object>"
            ],
            "text/html": [
              "Find logs at: <code>./wandb/run-20250331_150718-8ovc1466/logs</code>"
            ]
          },
          "metadata": {}
        },
        {
          "output_type": "stream",
          "name": "stderr",
          "text": [
            "\u001b[34m\u001b[1mwandb\u001b[0m: Agent Starting Run: cls6qb6l with config:\n",
            "\u001b[34m\u001b[1mwandb\u001b[0m: \talpha: 0.15373843087387992\n",
            "\u001b[34m\u001b[1mwandb\u001b[0m: \tgamma: 0.99\n",
            "\u001b[34m\u001b[1mwandb\u001b[0m: \tn_bins: 10\n",
            "\u001b[34m\u001b[1mwandb\u001b[0m: \tn_episodes: 1000\n",
            "\u001b[34m\u001b[1mwandb\u001b[0m: \tseed: 42\n",
            "\u001b[34m\u001b[1mwandb\u001b[0m: \ttemperature: 0.9683671424163732\n"
          ]
        },
        {
          "output_type": "display_data",
          "data": {
            "text/plain": [
              "<IPython.core.display.HTML object>"
            ],
            "text/html": [
              "Tracking run with wandb version 0.19.8"
            ]
          },
          "metadata": {}
        },
        {
          "output_type": "display_data",
          "data": {
            "text/plain": [
              "<IPython.core.display.HTML object>"
            ],
            "text/html": [
              "Run data is saved locally in <code>/content/wandb/run-20250331_150914-cls6qb6l</code>"
            ]
          },
          "metadata": {}
        },
        {
          "output_type": "display_data",
          "data": {
            "text/plain": [
              "<IPython.core.display.HTML object>"
            ],
            "text/html": [
              "Syncing run <strong><a href='https://wandb.ai/abhijithvinod-indian-institue-of-technology-madras/RL_CartPole_QLearning/runs/cls6qb6l' target=\"_blank\">playful-sweep-8</a></strong> to <a href='https://wandb.ai/abhijithvinod-indian-institue-of-technology-madras/RL_CartPole_QLearning' target=\"_blank\">Weights & Biases</a> (<a href='https://wandb.me/developer-guide' target=\"_blank\">docs</a>)<br>Sweep page: <a href='https://wandb.ai/abhijithvinod-indian-institue-of-technology-madras/RL_CartPole_QLearning/sweeps/kreeqo81' target=\"_blank\">https://wandb.ai/abhijithvinod-indian-institue-of-technology-madras/RL_CartPole_QLearning/sweeps/kreeqo81</a>"
            ]
          },
          "metadata": {}
        },
        {
          "output_type": "display_data",
          "data": {
            "text/plain": [
              "<IPython.core.display.HTML object>"
            ],
            "text/html": [
              " View project at <a href='https://wandb.ai/abhijithvinod-indian-institue-of-technology-madras/RL_CartPole_QLearning' target=\"_blank\">https://wandb.ai/abhijithvinod-indian-institue-of-technology-madras/RL_CartPole_QLearning</a>"
            ]
          },
          "metadata": {}
        },
        {
          "output_type": "display_data",
          "data": {
            "text/plain": [
              "<IPython.core.display.HTML object>"
            ],
            "text/html": [
              " View sweep at <a href='https://wandb.ai/abhijithvinod-indian-institue-of-technology-madras/RL_CartPole_QLearning/sweeps/kreeqo81' target=\"_blank\">https://wandb.ai/abhijithvinod-indian-institue-of-technology-madras/RL_CartPole_QLearning/sweeps/kreeqo81</a>"
            ]
          },
          "metadata": {}
        },
        {
          "output_type": "display_data",
          "data": {
            "text/plain": [
              "<IPython.core.display.HTML object>"
            ],
            "text/html": [
              " View run at <a href='https://wandb.ai/abhijithvinod-indian-institue-of-technology-madras/RL_CartPole_QLearning/runs/cls6qb6l' target=\"_blank\">https://wandb.ai/abhijithvinod-indian-institue-of-technology-madras/RL_CartPole_QLearning/runs/cls6qb6l</a>"
            ]
          },
          "metadata": {}
        },
        {
          "output_type": "display_data",
          "data": {
            "text/plain": [
              "<IPython.core.display.HTML object>"
            ],
            "text/html": []
          },
          "metadata": {}
        },
        {
          "output_type": "display_data",
          "data": {
            "text/plain": [
              "<IPython.core.display.HTML object>"
            ],
            "text/html": [
              "<br>    <style><br>        .wandb-row {<br>            display: flex;<br>            flex-direction: row;<br>            flex-wrap: wrap;<br>            justify-content: flex-start;<br>            width: 100%;<br>        }<br>        .wandb-col {<br>            display: flex;<br>            flex-direction: column;<br>            flex-basis: 100%;<br>            flex: 1;<br>            padding: 10px;<br>        }<br>    </style><br><div class=\"wandb-row\"><div class=\"wandb-col\"><h3>Run history:</h3><br/><table class=\"wandb\"><tr><td>average_reward_across_seeds</td><td>▁</td></tr><tr><td>seed_101_episode</td><td>▁▁▂▂▂▂▂▂▂▂▃▃▃▃▃▄▄▄▄▄▄▄▄▄▅▅▅▅▆▆▆▆▆▆▇▇▇▇▇█</td></tr><tr><td>seed_101_reward</td><td>▂▁▂▁▁▁▁▁▂▂▃▃▅▅▅▇▅▅▄▅▅▆▅▅▇▆▆▇▆▆██▆▇▇▆█▆▆▆</td></tr><tr><td>seed_123_episode</td><td>▁▁▂▂▂▂▂▂▃▃▃▃▃▃▄▄▄▄▄▅▅▅▅▅▅▆▆▆▆▆▆▆▆▇▇▇▇▇▇█</td></tr><tr><td>seed_123_reward</td><td>▁▃▃▂▃▃▆▆▄▅▄▄▃▄▃▆▄▃▄▃▅▅▄▆▃▅▃▅█▃▂▄▅▇▅▄▄█▄▅</td></tr><tr><td>seed_42_episode</td><td>▁▁▁▁▂▂▃▃▃▃▃▄▄▄▄▅▅▅▅▅▅▅▆▆▆▆▆▆▆▇▇▇▇▇▇▇████</td></tr><tr><td>seed_42_reward</td><td>▁▂▄▅▅▄▄▄▅▆▄▄▆▅▇▆▆▆▇▇▇▆█▇▇▇▆▇█▇▃▇▇▇▃▇████</td></tr><tr><td>seed_456_episode</td><td>▁▂▂▂▂▃▃▃▃▃▃▃▃▄▄▄▄▄▄▄▄▅▅▅▅▅▅▆▆▆▇▇▇▇▇▇▇▇██</td></tr><tr><td>seed_456_reward</td><td>▃▂▂▅▂▁▂▂▄▃▃▃▂▆▇▇▃▄▆▃▃▇▃▃▃▇▇█▆▃▃▃▃▄▇▄▄██▄</td></tr><tr><td>seed_789_episode</td><td>▁▁▁▁▁▂▂▂▂▂▃▃▃▃▃▃▃▄▄▄▄▄▄▅▅▅▅▆▆▆▆▆▆▆▇▇▇▇██</td></tr><tr><td>seed_789_reward</td><td>▁▃▁▁▁▁▄▄▆▅▇█▅▅▆▄▅▅▇█▅▆▅█▆▇▅▇▆▆▅▅▅▆▄▅▇▇▅▆</td></tr></table><br/></div><div class=\"wandb-col\"><h3>Run summary:</h3><br/><table class=\"wandb\"><tr><td>average_reward_across_seeds</td><td>102.808</td></tr><tr><td>seed_101_episode</td><td>999</td></tr><tr><td>seed_101_reward</td><td>150</td></tr><tr><td>seed_123_episode</td><td>999</td></tr><tr><td>seed_123_reward</td><td>71</td></tr><tr><td>seed_42_episode</td><td>999</td></tr><tr><td>seed_42_reward</td><td>127</td></tr><tr><td>seed_456_episode</td><td>999</td></tr><tr><td>seed_456_reward</td><td>109</td></tr><tr><td>seed_789_episode</td><td>999</td></tr><tr><td>seed_789_reward</td><td>129</td></tr></table><br/></div></div>"
            ]
          },
          "metadata": {}
        },
        {
          "output_type": "display_data",
          "data": {
            "text/plain": [
              "<IPython.core.display.HTML object>"
            ],
            "text/html": [
              " View run <strong style=\"color:#cdcd00\">playful-sweep-8</strong> at: <a href='https://wandb.ai/abhijithvinod-indian-institue-of-technology-madras/RL_CartPole_QLearning/runs/cls6qb6l' target=\"_blank\">https://wandb.ai/abhijithvinod-indian-institue-of-technology-madras/RL_CartPole_QLearning/runs/cls6qb6l</a><br> View project at: <a href='https://wandb.ai/abhijithvinod-indian-institue-of-technology-madras/RL_CartPole_QLearning' target=\"_blank\">https://wandb.ai/abhijithvinod-indian-institue-of-technology-madras/RL_CartPole_QLearning</a><br>Synced 5 W&B file(s), 0 media file(s), 0 artifact file(s) and 0 other file(s)"
            ]
          },
          "metadata": {}
        },
        {
          "output_type": "display_data",
          "data": {
            "text/plain": [
              "<IPython.core.display.HTML object>"
            ],
            "text/html": [
              "Find logs at: <code>./wandb/run-20250331_150914-cls6qb6l/logs</code>"
            ]
          },
          "metadata": {}
        },
        {
          "output_type": "stream",
          "name": "stderr",
          "text": [
            "\u001b[34m\u001b[1mwandb\u001b[0m: Agent Starting Run: kjaptsn3 with config:\n",
            "\u001b[34m\u001b[1mwandb\u001b[0m: \talpha: 0.4475751649683387\n",
            "\u001b[34m\u001b[1mwandb\u001b[0m: \tgamma: 0.99\n",
            "\u001b[34m\u001b[1mwandb\u001b[0m: \tn_bins: 10\n",
            "\u001b[34m\u001b[1mwandb\u001b[0m: \tn_episodes: 1000\n",
            "\u001b[34m\u001b[1mwandb\u001b[0m: \tseed: 456\n",
            "\u001b[34m\u001b[1mwandb\u001b[0m: \ttemperature: 1.764265548800562\n"
          ]
        },
        {
          "output_type": "display_data",
          "data": {
            "text/plain": [
              "<IPython.core.display.HTML object>"
            ],
            "text/html": [
              "Tracking run with wandb version 0.19.8"
            ]
          },
          "metadata": {}
        },
        {
          "output_type": "display_data",
          "data": {
            "text/plain": [
              "<IPython.core.display.HTML object>"
            ],
            "text/html": [
              "Run data is saved locally in <code>/content/wandb/run-20250331_151036-kjaptsn3</code>"
            ]
          },
          "metadata": {}
        },
        {
          "output_type": "display_data",
          "data": {
            "text/plain": [
              "<IPython.core.display.HTML object>"
            ],
            "text/html": [
              "Syncing run <strong><a href='https://wandb.ai/abhijithvinod-indian-institue-of-technology-madras/RL_CartPole_QLearning/runs/kjaptsn3' target=\"_blank\">sparkling-sweep-9</a></strong> to <a href='https://wandb.ai/abhijithvinod-indian-institue-of-technology-madras/RL_CartPole_QLearning' target=\"_blank\">Weights & Biases</a> (<a href='https://wandb.me/developer-guide' target=\"_blank\">docs</a>)<br>Sweep page: <a href='https://wandb.ai/abhijithvinod-indian-institue-of-technology-madras/RL_CartPole_QLearning/sweeps/kreeqo81' target=\"_blank\">https://wandb.ai/abhijithvinod-indian-institue-of-technology-madras/RL_CartPole_QLearning/sweeps/kreeqo81</a>"
            ]
          },
          "metadata": {}
        },
        {
          "output_type": "display_data",
          "data": {
            "text/plain": [
              "<IPython.core.display.HTML object>"
            ],
            "text/html": [
              " View project at <a href='https://wandb.ai/abhijithvinod-indian-institue-of-technology-madras/RL_CartPole_QLearning' target=\"_blank\">https://wandb.ai/abhijithvinod-indian-institue-of-technology-madras/RL_CartPole_QLearning</a>"
            ]
          },
          "metadata": {}
        },
        {
          "output_type": "display_data",
          "data": {
            "text/plain": [
              "<IPython.core.display.HTML object>"
            ],
            "text/html": [
              " View sweep at <a href='https://wandb.ai/abhijithvinod-indian-institue-of-technology-madras/RL_CartPole_QLearning/sweeps/kreeqo81' target=\"_blank\">https://wandb.ai/abhijithvinod-indian-institue-of-technology-madras/RL_CartPole_QLearning/sweeps/kreeqo81</a>"
            ]
          },
          "metadata": {}
        },
        {
          "output_type": "display_data",
          "data": {
            "text/plain": [
              "<IPython.core.display.HTML object>"
            ],
            "text/html": [
              " View run at <a href='https://wandb.ai/abhijithvinod-indian-institue-of-technology-madras/RL_CartPole_QLearning/runs/kjaptsn3' target=\"_blank\">https://wandb.ai/abhijithvinod-indian-institue-of-technology-madras/RL_CartPole_QLearning/runs/kjaptsn3</a>"
            ]
          },
          "metadata": {}
        },
        {
          "output_type": "display_data",
          "data": {
            "text/plain": [
              "<IPython.core.display.HTML object>"
            ],
            "text/html": []
          },
          "metadata": {}
        },
        {
          "output_type": "display_data",
          "data": {
            "text/plain": [
              "<IPython.core.display.HTML object>"
            ],
            "text/html": [
              "<br>    <style><br>        .wandb-row {<br>            display: flex;<br>            flex-direction: row;<br>            flex-wrap: wrap;<br>            justify-content: flex-start;<br>            width: 100%;<br>        }<br>        .wandb-col {<br>            display: flex;<br>            flex-direction: column;<br>            flex-basis: 100%;<br>            flex: 1;<br>            padding: 10px;<br>        }<br>    </style><br><div class=\"wandb-row\"><div class=\"wandb-col\"><h3>Run history:</h3><br/><table class=\"wandb\"><tr><td>average_reward_across_seeds</td><td>▁</td></tr><tr><td>seed_101_episode</td><td>▁▁▁▂▂▂▂▂▂▂▂▂▃▃▃▃▃▄▄▄▅▅▅▅▅▆▆▆▆▆▆▇▇▇▇▇▇███</td></tr><tr><td>seed_101_reward</td><td>▁▁▁▁▄▂▁▃▅▄▄▇██▇▆▅▆▅▆▆▇▆▄▇▇▄▆▆▇▇▇▇▆▆▇▄▇▇▇</td></tr><tr><td>seed_123_episode</td><td>▁▁▁▁▁▂▂▂▂▃▃▃▃▄▄▄▄▅▅▅▅▅▅▆▆▆▆▇▇▇▇▇▇▇██████</td></tr><tr><td>seed_123_reward</td><td>▂▁▂▂▅▃▇▃▃▄▄▇▄▄▄▄▆▅▄▅▅▆▄▇▄▄▅▆▆▇▆█▅▅▇▄▇▅▇▇</td></tr><tr><td>seed_42_episode</td><td>▁▁▁▂▂▂▂▂▂▂▃▃▃▃▃▄▄▄▄▄▅▅▅▅▅▆▆▆▆▇▇▇▇▇▇█████</td></tr><tr><td>seed_42_reward</td><td>▁▂▁▃▆▃▃▄▅▅▃▄▅▄▄▃▅▅▅▅▅▅▅▅▆▆▆▃▇▇▃▇▇█▇▄▆▇▇▇</td></tr><tr><td>seed_456_episode</td><td>▁▁▁▂▂▂▂▂▂▃▃▃▃▃▃▃▄▄▄▄▅▅▅▅▅▆▆▆▆▆▇▇▇▇▇▇▇███</td></tr><tr><td>seed_456_reward</td><td>▂▁▃▄▄▄▅▁▁▄▂▅▅▄▆▇▅█▁█▆█▇▂▇█▁▇▇███▇▂▇████▇</td></tr><tr><td>seed_789_episode</td><td>▁▁▁▁▂▂▂▂▂▃▃▃▄▄▄▄▄▄▄▅▅▅▆▆▆▆▆▆▆▆▇▇▇▇▇▇████</td></tr><tr><td>seed_789_reward</td><td>▁▂▂▅▆▃▅▅▇▇▇▇▄▆▇█▇█▇█▇▇▃▇▇▅▇▇██▇▇▇▃▇▇▇█▇▃</td></tr></table><br/></div><div class=\"wandb-col\"><h3>Run summary:</h3><br/><table class=\"wandb\"><tr><td>average_reward_across_seeds</td><td>135.472</td></tr><tr><td>seed_101_episode</td><td>999</td></tr><tr><td>seed_101_reward</td><td>119</td></tr><tr><td>seed_123_episode</td><td>999</td></tr><tr><td>seed_123_reward</td><td>271</td></tr><tr><td>seed_42_episode</td><td>999</td></tr><tr><td>seed_42_reward</td><td>103</td></tr><tr><td>seed_456_episode</td><td>999</td></tr><tr><td>seed_456_reward</td><td>115</td></tr><tr><td>seed_789_episode</td><td>999</td></tr><tr><td>seed_789_reward</td><td>103</td></tr></table><br/></div></div>"
            ]
          },
          "metadata": {}
        },
        {
          "output_type": "display_data",
          "data": {
            "text/plain": [
              "<IPython.core.display.HTML object>"
            ],
            "text/html": [
              " View run <strong style=\"color:#cdcd00\">sparkling-sweep-9</strong> at: <a href='https://wandb.ai/abhijithvinod-indian-institue-of-technology-madras/RL_CartPole_QLearning/runs/kjaptsn3' target=\"_blank\">https://wandb.ai/abhijithvinod-indian-institue-of-technology-madras/RL_CartPole_QLearning/runs/kjaptsn3</a><br> View project at: <a href='https://wandb.ai/abhijithvinod-indian-institue-of-technology-madras/RL_CartPole_QLearning' target=\"_blank\">https://wandb.ai/abhijithvinod-indian-institue-of-technology-madras/RL_CartPole_QLearning</a><br>Synced 5 W&B file(s), 0 media file(s), 0 artifact file(s) and 0 other file(s)"
            ]
          },
          "metadata": {}
        },
        {
          "output_type": "display_data",
          "data": {
            "text/plain": [
              "<IPython.core.display.HTML object>"
            ],
            "text/html": [
              "Find logs at: <code>./wandb/run-20250331_151036-kjaptsn3/logs</code>"
            ]
          },
          "metadata": {}
        },
        {
          "output_type": "stream",
          "name": "stderr",
          "text": [
            "\u001b[34m\u001b[1mwandb\u001b[0m: Agent Starting Run: eftdqk3a with config:\n",
            "\u001b[34m\u001b[1mwandb\u001b[0m: \talpha: 0.45870235234381906\n",
            "\u001b[34m\u001b[1mwandb\u001b[0m: \tgamma: 0.99\n",
            "\u001b[34m\u001b[1mwandb\u001b[0m: \tn_bins: 20\n",
            "\u001b[34m\u001b[1mwandb\u001b[0m: \tn_episodes: 1000\n",
            "\u001b[34m\u001b[1mwandb\u001b[0m: \tseed: 123\n",
            "\u001b[34m\u001b[1mwandb\u001b[0m: \ttemperature: 0.6251276004919866\n"
          ]
        },
        {
          "output_type": "display_data",
          "data": {
            "text/plain": [
              "<IPython.core.display.HTML object>"
            ],
            "text/html": [
              "Tracking run with wandb version 0.19.8"
            ]
          },
          "metadata": {}
        },
        {
          "output_type": "display_data",
          "data": {
            "text/plain": [
              "<IPython.core.display.HTML object>"
            ],
            "text/html": [
              "Run data is saved locally in <code>/content/wandb/run-20250331_151212-eftdqk3a</code>"
            ]
          },
          "metadata": {}
        },
        {
          "output_type": "display_data",
          "data": {
            "text/plain": [
              "<IPython.core.display.HTML object>"
            ],
            "text/html": [
              "Syncing run <strong><a href='https://wandb.ai/abhijithvinod-indian-institue-of-technology-madras/RL_CartPole_QLearning/runs/eftdqk3a' target=\"_blank\">clean-sweep-10</a></strong> to <a href='https://wandb.ai/abhijithvinod-indian-institue-of-technology-madras/RL_CartPole_QLearning' target=\"_blank\">Weights & Biases</a> (<a href='https://wandb.me/developer-guide' target=\"_blank\">docs</a>)<br>Sweep page: <a href='https://wandb.ai/abhijithvinod-indian-institue-of-technology-madras/RL_CartPole_QLearning/sweeps/kreeqo81' target=\"_blank\">https://wandb.ai/abhijithvinod-indian-institue-of-technology-madras/RL_CartPole_QLearning/sweeps/kreeqo81</a>"
            ]
          },
          "metadata": {}
        },
        {
          "output_type": "display_data",
          "data": {
            "text/plain": [
              "<IPython.core.display.HTML object>"
            ],
            "text/html": [
              " View project at <a href='https://wandb.ai/abhijithvinod-indian-institue-of-technology-madras/RL_CartPole_QLearning' target=\"_blank\">https://wandb.ai/abhijithvinod-indian-institue-of-technology-madras/RL_CartPole_QLearning</a>"
            ]
          },
          "metadata": {}
        },
        {
          "output_type": "display_data",
          "data": {
            "text/plain": [
              "<IPython.core.display.HTML object>"
            ],
            "text/html": [
              " View sweep at <a href='https://wandb.ai/abhijithvinod-indian-institue-of-technology-madras/RL_CartPole_QLearning/sweeps/kreeqo81' target=\"_blank\">https://wandb.ai/abhijithvinod-indian-institue-of-technology-madras/RL_CartPole_QLearning/sweeps/kreeqo81</a>"
            ]
          },
          "metadata": {}
        },
        {
          "output_type": "display_data",
          "data": {
            "text/plain": [
              "<IPython.core.display.HTML object>"
            ],
            "text/html": [
              " View run at <a href='https://wandb.ai/abhijithvinod-indian-institue-of-technology-madras/RL_CartPole_QLearning/runs/eftdqk3a' target=\"_blank\">https://wandb.ai/abhijithvinod-indian-institue-of-technology-madras/RL_CartPole_QLearning/runs/eftdqk3a</a>"
            ]
          },
          "metadata": {}
        },
        {
          "output_type": "display_data",
          "data": {
            "text/plain": [
              "<IPython.core.display.HTML object>"
            ],
            "text/html": []
          },
          "metadata": {}
        },
        {
          "output_type": "display_data",
          "data": {
            "text/plain": [
              "<IPython.core.display.HTML object>"
            ],
            "text/html": [
              "<br>    <style><br>        .wandb-row {<br>            display: flex;<br>            flex-direction: row;<br>            flex-wrap: wrap;<br>            justify-content: flex-start;<br>            width: 100%;<br>        }<br>        .wandb-col {<br>            display: flex;<br>            flex-direction: column;<br>            flex-basis: 100%;<br>            flex: 1;<br>            padding: 10px;<br>        }<br>    </style><br><div class=\"wandb-row\"><div class=\"wandb-col\"><h3>Run history:</h3><br/><table class=\"wandb\"><tr><td>average_reward_across_seeds</td><td>▁</td></tr><tr><td>seed_101_episode</td><td>▁▂▂▂▂▂▃▃▃▄▄▄▄▄▄▄▅▅▅▅▅▅▅▆▆▆▇▇▇▇▇▇▇▇██████</td></tr><tr><td>seed_101_reward</td><td>▂▁▁▃▂▂▂▄▃▂▄▇▂▃▂▂▅▃▃█▆▂▂▂▂▃▄▃▇▂▃▂▃▄▄▄▃▂▆▃</td></tr><tr><td>seed_123_episode</td><td>▁▁▂▂▂▂▂▂▃▃▃▄▄▄▄▄▄▄▄▅▅▅▅▅▅▅▅▆▆▆▇▇▇▇▇▇████</td></tr><tr><td>seed_123_reward</td><td>▃▁▁▂▂▇▅▂▄▆▂▂▁▆▆▅▃▁▂▅▂▅█▄▆▃▅█▂▁▇█▆▆▂▂▅▁▅▁</td></tr><tr><td>seed_42_episode</td><td>▁▁▁▁▂▂▂▂▂▂▃▃▃▃▄▄▄▄▄▄▄▄▅▅▅▅▆▆▆▆▇▇▇▇▇█████</td></tr><tr><td>seed_42_reward</td><td>▅▅▃▄▇▇▅▆▄▄▆██▅▅▄▅▄▂▃▃▅▆█▃▄▅▄▄▅▄▄▄▅▅▇▁█▄▅</td></tr><tr><td>seed_456_episode</td><td>▁▁▁▂▂▂▂▂▂▂▃▃▃▃▃▃▄▄▄▄▄▅▅▅▅▅▅▅▅▆▆▆▆▆▆▆▇███</td></tr><tr><td>seed_456_reward</td><td>▃▂▇▂▂▂▁▁▂▁▇▁▂▂▇▂▂▁▁▁▂▂▂▁▃▁▂▂▂█▁▂▇▁▂▁▇▁▁▂</td></tr><tr><td>seed_789_episode</td><td>▁▂▂▂▂▂▃▃▃▃▃▃▄▄▄▄▄▄▄▄▄▄▅▅▅▅▅▅▆▆▆▆▆▇▇▇▇███</td></tr><tr><td>seed_789_reward</td><td>▂▄▂▅▁▁▆▁▃▂▁▄▂▄▄▅▂▃▃▂▁▂▃▂▄▅▂▁▃█▂▄▂▇▅▂▃▃▂▂</td></tr></table><br/></div><div class=\"wandb-col\"><h3>Run summary:</h3><br/><table class=\"wandb\"><tr><td>average_reward_across_seeds</td><td>66.812</td></tr><tr><td>seed_101_episode</td><td>999</td></tr><tr><td>seed_101_reward</td><td>28</td></tr><tr><td>seed_123_episode</td><td>999</td></tr><tr><td>seed_123_reward</td><td>68</td></tr><tr><td>seed_42_episode</td><td>999</td></tr><tr><td>seed_42_reward</td><td>96</td></tr><tr><td>seed_456_episode</td><td>999</td></tr><tr><td>seed_456_reward</td><td>27</td></tr><tr><td>seed_789_episode</td><td>999</td></tr><tr><td>seed_789_reward</td><td>23</td></tr></table><br/></div></div>"
            ]
          },
          "metadata": {}
        },
        {
          "output_type": "display_data",
          "data": {
            "text/plain": [
              "<IPython.core.display.HTML object>"
            ],
            "text/html": [
              " View run <strong style=\"color:#cdcd00\">clean-sweep-10</strong> at: <a href='https://wandb.ai/abhijithvinod-indian-institue-of-technology-madras/RL_CartPole_QLearning/runs/eftdqk3a' target=\"_blank\">https://wandb.ai/abhijithvinod-indian-institue-of-technology-madras/RL_CartPole_QLearning/runs/eftdqk3a</a><br> View project at: <a href='https://wandb.ai/abhijithvinod-indian-institue-of-technology-madras/RL_CartPole_QLearning' target=\"_blank\">https://wandb.ai/abhijithvinod-indian-institue-of-technology-madras/RL_CartPole_QLearning</a><br>Synced 5 W&B file(s), 0 media file(s), 0 artifact file(s) and 0 other file(s)"
            ]
          },
          "metadata": {}
        },
        {
          "output_type": "display_data",
          "data": {
            "text/plain": [
              "<IPython.core.display.HTML object>"
            ],
            "text/html": [
              "Find logs at: <code>./wandb/run-20250331_151212-eftdqk3a/logs</code>"
            ]
          },
          "metadata": {}
        },
        {
          "output_type": "stream",
          "name": "stderr",
          "text": [
            "\u001b[34m\u001b[1mwandb\u001b[0m: Agent Starting Run: 1cwz8is4 with config:\n",
            "\u001b[34m\u001b[1mwandb\u001b[0m: \talpha: 0.06585706539752455\n",
            "\u001b[34m\u001b[1mwandb\u001b[0m: \tgamma: 0.99\n",
            "\u001b[34m\u001b[1mwandb\u001b[0m: \tn_bins: 15\n",
            "\u001b[34m\u001b[1mwandb\u001b[0m: \tn_episodes: 1000\n",
            "\u001b[34m\u001b[1mwandb\u001b[0m: \tseed: 101\n",
            "\u001b[34m\u001b[1mwandb\u001b[0m: \ttemperature: 0.6533538161914733\n"
          ]
        },
        {
          "output_type": "display_data",
          "data": {
            "text/plain": [
              "<IPython.core.display.HTML object>"
            ],
            "text/html": [
              "Tracking run with wandb version 0.19.8"
            ]
          },
          "metadata": {}
        },
        {
          "output_type": "display_data",
          "data": {
            "text/plain": [
              "<IPython.core.display.HTML object>"
            ],
            "text/html": [
              "Run data is saved locally in <code>/content/wandb/run-20250331_151314-1cwz8is4</code>"
            ]
          },
          "metadata": {}
        },
        {
          "output_type": "display_data",
          "data": {
            "text/plain": [
              "<IPython.core.display.HTML object>"
            ],
            "text/html": [
              "Syncing run <strong><a href='https://wandb.ai/abhijithvinod-indian-institue-of-technology-madras/RL_CartPole_QLearning/runs/1cwz8is4' target=\"_blank\">radiant-sweep-11</a></strong> to <a href='https://wandb.ai/abhijithvinod-indian-institue-of-technology-madras/RL_CartPole_QLearning' target=\"_blank\">Weights & Biases</a> (<a href='https://wandb.me/developer-guide' target=\"_blank\">docs</a>)<br>Sweep page: <a href='https://wandb.ai/abhijithvinod-indian-institue-of-technology-madras/RL_CartPole_QLearning/sweeps/kreeqo81' target=\"_blank\">https://wandb.ai/abhijithvinod-indian-institue-of-technology-madras/RL_CartPole_QLearning/sweeps/kreeqo81</a>"
            ]
          },
          "metadata": {}
        },
        {
          "output_type": "display_data",
          "data": {
            "text/plain": [
              "<IPython.core.display.HTML object>"
            ],
            "text/html": [
              " View project at <a href='https://wandb.ai/abhijithvinod-indian-institue-of-technology-madras/RL_CartPole_QLearning' target=\"_blank\">https://wandb.ai/abhijithvinod-indian-institue-of-technology-madras/RL_CartPole_QLearning</a>"
            ]
          },
          "metadata": {}
        },
        {
          "output_type": "display_data",
          "data": {
            "text/plain": [
              "<IPython.core.display.HTML object>"
            ],
            "text/html": [
              " View sweep at <a href='https://wandb.ai/abhijithvinod-indian-institue-of-technology-madras/RL_CartPole_QLearning/sweeps/kreeqo81' target=\"_blank\">https://wandb.ai/abhijithvinod-indian-institue-of-technology-madras/RL_CartPole_QLearning/sweeps/kreeqo81</a>"
            ]
          },
          "metadata": {}
        },
        {
          "output_type": "display_data",
          "data": {
            "text/plain": [
              "<IPython.core.display.HTML object>"
            ],
            "text/html": [
              " View run at <a href='https://wandb.ai/abhijithvinod-indian-institue-of-technology-madras/RL_CartPole_QLearning/runs/1cwz8is4' target=\"_blank\">https://wandb.ai/abhijithvinod-indian-institue-of-technology-madras/RL_CartPole_QLearning/runs/1cwz8is4</a>"
            ]
          },
          "metadata": {}
        },
        {
          "output_type": "display_data",
          "data": {
            "text/plain": [
              "<IPython.core.display.HTML object>"
            ],
            "text/html": []
          },
          "metadata": {}
        },
        {
          "output_type": "display_data",
          "data": {
            "text/plain": [
              "<IPython.core.display.HTML object>"
            ],
            "text/html": [
              "<br>    <style><br>        .wandb-row {<br>            display: flex;<br>            flex-direction: row;<br>            flex-wrap: wrap;<br>            justify-content: flex-start;<br>            width: 100%;<br>        }<br>        .wandb-col {<br>            display: flex;<br>            flex-direction: column;<br>            flex-basis: 100%;<br>            flex: 1;<br>            padding: 10px;<br>        }<br>    </style><br><div class=\"wandb-row\"><div class=\"wandb-col\"><h3>Run history:</h3><br/><table class=\"wandb\"><tr><td>average_reward_across_seeds</td><td>▁</td></tr><tr><td>seed_101_episode</td><td>▁▁▁▁▁▂▂▂▃▃▃▃▃▃▃▄▄▄▄▄▄▄▄▄▄▅▅▅▅▆▆▆▆▆▆▆▇▇██</td></tr><tr><td>seed_101_reward</td><td>▁▁▁▁▁▁▁▂▂▁▁▂▁▆▃▆▃▁▂▄▃▃▂▃▂▄▂▂▃█▄▄▂▄▃▂▅▄▁▃</td></tr><tr><td>seed_123_episode</td><td>▁▁▁▂▂▂▃▃▃▃▃▄▄▄▄▄▄▄▅▅▅▅▅▅▅▆▆▆▆▆▆▆▆▇▇█████</td></tr><tr><td>seed_123_reward</td><td>▁▁▁▄▂▁▅▄▃▆▃▁▁▅▄▃▅▆▅▃▃▁▄▆▃█▇▇▄▁▅▅█▂▆▆▄▅█▂</td></tr><tr><td>seed_42_episode</td><td>▁▁▁▁▁▂▂▂▂▂▂▂▂▂▃▃▃▃▃▄▄▅▅▅▅▅▅▆▆▆▆▆▆▇▇▇▇███</td></tr><tr><td>seed_42_reward</td><td>▁▁▁▁▂█▂▃▁▄▄▃▃▂▁▁▁▃▂█▅▆▄▄▅▇▇▅▅▄▆▂▃▃▁▂▁▄▅▁</td></tr><tr><td>seed_456_episode</td><td>▁▁▁▁▁▂▂▂▂▂▃▃▃▃▃▄▄▄▄▅▅▅▅▅▆▆▇▇▇▇▇▇▇▇██████</td></tr><tr><td>seed_456_reward</td><td>▁▂▁▁▁▂▃▁▄▃▁▁▄▁▂▂▁▁▃▂▃▁▃▁▅▂▄▅█▂▁▄▄▄▅█▂▂█▁</td></tr><tr><td>seed_789_episode</td><td>▁▁▂▂▂▂▂▂▂▃▃▃▃▃▃▄▄▄▄▄▄▅▅▅▅▆▆▆▇▇▇▇▇▇▇▇████</td></tr><tr><td>seed_789_reward</td><td>▃▂▁▃▁▂▂▃▁▂▂▃▁▁▁▂▂▂▁▂▁▅▂▂█▄▂▁▂▁▂█▂▁▃▂▄▄▂▃</td></tr></table><br/></div><div class=\"wandb-col\"><h3>Run summary:</h3><br/><table class=\"wandb\"><tr><td>average_reward_across_seeds</td><td>105.744</td></tr><tr><td>seed_101_episode</td><td>999</td></tr><tr><td>seed_101_reward</td><td>265</td></tr><tr><td>seed_123_episode</td><td>999</td></tr><tr><td>seed_123_reward</td><td>131</td></tr><tr><td>seed_42_episode</td><td>999</td></tr><tr><td>seed_42_reward</td><td>74</td></tr><tr><td>seed_456_episode</td><td>999</td></tr><tr><td>seed_456_reward</td><td>37</td></tr><tr><td>seed_789_episode</td><td>999</td></tr><tr><td>seed_789_reward</td><td>20</td></tr></table><br/></div></div>"
            ]
          },
          "metadata": {}
        },
        {
          "output_type": "display_data",
          "data": {
            "text/plain": [
              "<IPython.core.display.HTML object>"
            ],
            "text/html": [
              " View run <strong style=\"color:#cdcd00\">radiant-sweep-11</strong> at: <a href='https://wandb.ai/abhijithvinod-indian-institue-of-technology-madras/RL_CartPole_QLearning/runs/1cwz8is4' target=\"_blank\">https://wandb.ai/abhijithvinod-indian-institue-of-technology-madras/RL_CartPole_QLearning/runs/1cwz8is4</a><br> View project at: <a href='https://wandb.ai/abhijithvinod-indian-institue-of-technology-madras/RL_CartPole_QLearning' target=\"_blank\">https://wandb.ai/abhijithvinod-indian-institue-of-technology-madras/RL_CartPole_QLearning</a><br>Synced 5 W&B file(s), 0 media file(s), 0 artifact file(s) and 0 other file(s)"
            ]
          },
          "metadata": {}
        },
        {
          "output_type": "display_data",
          "data": {
            "text/plain": [
              "<IPython.core.display.HTML object>"
            ],
            "text/html": [
              "Find logs at: <code>./wandb/run-20250331_151314-1cwz8is4/logs</code>"
            ]
          },
          "metadata": {}
        },
        {
          "output_type": "stream",
          "name": "stderr",
          "text": [
            "\u001b[34m\u001b[1mwandb\u001b[0m: Agent Starting Run: 368j2zr5 with config:\n",
            "\u001b[34m\u001b[1mwandb\u001b[0m: \talpha: 0.2750517141978133\n",
            "\u001b[34m\u001b[1mwandb\u001b[0m: \tgamma: 0.99\n",
            "\u001b[34m\u001b[1mwandb\u001b[0m: \tn_bins: 15\n",
            "\u001b[34m\u001b[1mwandb\u001b[0m: \tn_episodes: 1000\n",
            "\u001b[34m\u001b[1mwandb\u001b[0m: \tseed: 123\n",
            "\u001b[34m\u001b[1mwandb\u001b[0m: \ttemperature: 1.748836299196283\n"
          ]
        },
        {
          "output_type": "display_data",
          "data": {
            "text/plain": [
              "<IPython.core.display.HTML object>"
            ],
            "text/html": [
              "Tracking run with wandb version 0.19.8"
            ]
          },
          "metadata": {}
        },
        {
          "output_type": "display_data",
          "data": {
            "text/plain": [
              "<IPython.core.display.HTML object>"
            ],
            "text/html": [
              "Run data is saved locally in <code>/content/wandb/run-20250331_151430-368j2zr5</code>"
            ]
          },
          "metadata": {}
        },
        {
          "output_type": "display_data",
          "data": {
            "text/plain": [
              "<IPython.core.display.HTML object>"
            ],
            "text/html": [
              "Syncing run <strong><a href='https://wandb.ai/abhijithvinod-indian-institue-of-technology-madras/RL_CartPole_QLearning/runs/368j2zr5' target=\"_blank\">hearty-sweep-12</a></strong> to <a href='https://wandb.ai/abhijithvinod-indian-institue-of-technology-madras/RL_CartPole_QLearning' target=\"_blank\">Weights & Biases</a> (<a href='https://wandb.me/developer-guide' target=\"_blank\">docs</a>)<br>Sweep page: <a href='https://wandb.ai/abhijithvinod-indian-institue-of-technology-madras/RL_CartPole_QLearning/sweeps/kreeqo81' target=\"_blank\">https://wandb.ai/abhijithvinod-indian-institue-of-technology-madras/RL_CartPole_QLearning/sweeps/kreeqo81</a>"
            ]
          },
          "metadata": {}
        },
        {
          "output_type": "display_data",
          "data": {
            "text/plain": [
              "<IPython.core.display.HTML object>"
            ],
            "text/html": [
              " View project at <a href='https://wandb.ai/abhijithvinod-indian-institue-of-technology-madras/RL_CartPole_QLearning' target=\"_blank\">https://wandb.ai/abhijithvinod-indian-institue-of-technology-madras/RL_CartPole_QLearning</a>"
            ]
          },
          "metadata": {}
        },
        {
          "output_type": "display_data",
          "data": {
            "text/plain": [
              "<IPython.core.display.HTML object>"
            ],
            "text/html": [
              " View sweep at <a href='https://wandb.ai/abhijithvinod-indian-institue-of-technology-madras/RL_CartPole_QLearning/sweeps/kreeqo81' target=\"_blank\">https://wandb.ai/abhijithvinod-indian-institue-of-technology-madras/RL_CartPole_QLearning/sweeps/kreeqo81</a>"
            ]
          },
          "metadata": {}
        },
        {
          "output_type": "display_data",
          "data": {
            "text/plain": [
              "<IPython.core.display.HTML object>"
            ],
            "text/html": [
              " View run at <a href='https://wandb.ai/abhijithvinod-indian-institue-of-technology-madras/RL_CartPole_QLearning/runs/368j2zr5' target=\"_blank\">https://wandb.ai/abhijithvinod-indian-institue-of-technology-madras/RL_CartPole_QLearning/runs/368j2zr5</a>"
            ]
          },
          "metadata": {}
        },
        {
          "output_type": "display_data",
          "data": {
            "text/plain": [
              "<IPython.core.display.HTML object>"
            ],
            "text/html": []
          },
          "metadata": {}
        },
        {
          "output_type": "display_data",
          "data": {
            "text/plain": [
              "<IPython.core.display.HTML object>"
            ],
            "text/html": [
              "<br>    <style><br>        .wandb-row {<br>            display: flex;<br>            flex-direction: row;<br>            flex-wrap: wrap;<br>            justify-content: flex-start;<br>            width: 100%;<br>        }<br>        .wandb-col {<br>            display: flex;<br>            flex-direction: column;<br>            flex-basis: 100%;<br>            flex: 1;<br>            padding: 10px;<br>        }<br>    </style><br><div class=\"wandb-row\"><div class=\"wandb-col\"><h3>Run history:</h3><br/><table class=\"wandb\"><tr><td>average_reward_across_seeds</td><td>▁</td></tr><tr><td>seed_101_episode</td><td>▁▁▁▂▂▂▂▂▂▃▃▄▄▄▄▄▄▄▄▄▄▄▅▅▅▅▅▅▅▆▆▆▇▇▇▇▇███</td></tr><tr><td>seed_101_reward</td><td>▁▂▁▁▂▂▁▁▁▂▁▄▂▁▁▅▃▁▆▁▂█▆▃▃▄▃▆▆▇▆▂▆▂▂▂▆▆▄▃</td></tr><tr><td>seed_123_episode</td><td>▁▁▁▁▁▂▂▂▂▂▃▃▃▃▄▄▄▄▄▄▄▄▅▅▅▅▅▅▅▅▆▆▆▆▇▇▇▇██</td></tr><tr><td>seed_123_reward</td><td>▁▁▁▂▁▃▄▇▅▄▄▄▄▆▅▄█▅▅▅▆▅▅▆▅▄▇▅▅▅▆▄▆▄▅▅▆▇▆▇</td></tr><tr><td>seed_42_episode</td><td>▁▁▁▂▂▂▂▂▂▂▃▃▃▃▃▄▄▄▄▄▅▅▅▅▅▅▅▅▆▆▆▆▆▆▇▇▇███</td></tr><tr><td>seed_42_reward</td><td>▂▁▂▃▂▂▅▄▃▄▅▃▄▄▆▃▃▄▄▄▅▆▆▄▇▃▃▅▆▆▄▄▃▃▄▆▃█▃▄</td></tr><tr><td>seed_456_episode</td><td>▁▁▁▁▁▁▂▂▂▂▃▃▃▃▃▃▃▃▄▄▄▄▄▄▄▄▅▅▅▅▆▆▆▆▆▇▇▇▇█</td></tr><tr><td>seed_456_reward</td><td>▁▁▁▁▁▁▂▃▃▃▃▂▃▄▃▂▃▅▃▄▃▃▅▄▅▄█▄▆▄▅▃▃▇▅▃▄▇▃▅</td></tr><tr><td>seed_789_episode</td><td>▁▁▁▂▂▂▂▂▂▂▃▃▃▃▃▄▄▄▄▄▅▅▅▅▅▅▅▆▆▆▇▇▇▇▇▇▇███</td></tr><tr><td>seed_789_reward</td><td>▂▂▁▁▂▁▄▃▃▄▃▃▃▂▃▆▁▄▂▆▁█▄▅▂▅▅▄▄▇▂▂▄▄▃▇▄▃▁▃</td></tr></table><br/></div><div class=\"wandb-col\"><h3>Run summary:</h3><br/><table class=\"wandb\"><tr><td>average_reward_across_seeds</td><td>172.952</td></tr><tr><td>seed_101_episode</td><td>999</td></tr><tr><td>seed_101_reward</td><td>174</td></tr><tr><td>seed_123_episode</td><td>999</td></tr><tr><td>seed_123_reward</td><td>187</td></tr><tr><td>seed_42_episode</td><td>999</td></tr><tr><td>seed_42_reward</td><td>193</td></tr><tr><td>seed_456_episode</td><td>999</td></tr><tr><td>seed_456_reward</td><td>500</td></tr><tr><td>seed_789_episode</td><td>999</td></tr><tr><td>seed_789_reward</td><td>28</td></tr></table><br/></div></div>"
            ]
          },
          "metadata": {}
        },
        {
          "output_type": "display_data",
          "data": {
            "text/plain": [
              "<IPython.core.display.HTML object>"
            ],
            "text/html": [
              " View run <strong style=\"color:#cdcd00\">hearty-sweep-12</strong> at: <a href='https://wandb.ai/abhijithvinod-indian-institue-of-technology-madras/RL_CartPole_QLearning/runs/368j2zr5' target=\"_blank\">https://wandb.ai/abhijithvinod-indian-institue-of-technology-madras/RL_CartPole_QLearning/runs/368j2zr5</a><br> View project at: <a href='https://wandb.ai/abhijithvinod-indian-institue-of-technology-madras/RL_CartPole_QLearning' target=\"_blank\">https://wandb.ai/abhijithvinod-indian-institue-of-technology-madras/RL_CartPole_QLearning</a><br>Synced 5 W&B file(s), 0 media file(s), 0 artifact file(s) and 0 other file(s)"
            ]
          },
          "metadata": {}
        },
        {
          "output_type": "display_data",
          "data": {
            "text/plain": [
              "<IPython.core.display.HTML object>"
            ],
            "text/html": [
              "Find logs at: <code>./wandb/run-20250331_151430-368j2zr5/logs</code>"
            ]
          },
          "metadata": {}
        },
        {
          "output_type": "stream",
          "name": "stderr",
          "text": [
            "\u001b[34m\u001b[1mwandb\u001b[0m: Agent Starting Run: l0cbanwj with config:\n",
            "\u001b[34m\u001b[1mwandb\u001b[0m: \talpha: 0.1035584804735406\n",
            "\u001b[34m\u001b[1mwandb\u001b[0m: \tgamma: 0.99\n",
            "\u001b[34m\u001b[1mwandb\u001b[0m: \tn_bins: 15\n",
            "\u001b[34m\u001b[1mwandb\u001b[0m: \tn_episodes: 1000\n",
            "\u001b[34m\u001b[1mwandb\u001b[0m: \tseed: 789\n",
            "\u001b[34m\u001b[1mwandb\u001b[0m: \ttemperature: 0.4104005745139181\n"
          ]
        },
        {
          "output_type": "display_data",
          "data": {
            "text/plain": [
              "<IPython.core.display.HTML object>"
            ],
            "text/html": [
              "Tracking run with wandb version 0.19.8"
            ]
          },
          "metadata": {}
        },
        {
          "output_type": "display_data",
          "data": {
            "text/plain": [
              "<IPython.core.display.HTML object>"
            ],
            "text/html": [
              "Run data is saved locally in <code>/content/wandb/run-20250331_151628-l0cbanwj</code>"
            ]
          },
          "metadata": {}
        },
        {
          "output_type": "display_data",
          "data": {
            "text/plain": [
              "<IPython.core.display.HTML object>"
            ],
            "text/html": [
              "Syncing run <strong><a href='https://wandb.ai/abhijithvinod-indian-institue-of-technology-madras/RL_CartPole_QLearning/runs/l0cbanwj' target=\"_blank\">earthy-sweep-13</a></strong> to <a href='https://wandb.ai/abhijithvinod-indian-institue-of-technology-madras/RL_CartPole_QLearning' target=\"_blank\">Weights & Biases</a> (<a href='https://wandb.me/developer-guide' target=\"_blank\">docs</a>)<br>Sweep page: <a href='https://wandb.ai/abhijithvinod-indian-institue-of-technology-madras/RL_CartPole_QLearning/sweeps/kreeqo81' target=\"_blank\">https://wandb.ai/abhijithvinod-indian-institue-of-technology-madras/RL_CartPole_QLearning/sweeps/kreeqo81</a>"
            ]
          },
          "metadata": {}
        },
        {
          "output_type": "display_data",
          "data": {
            "text/plain": [
              "<IPython.core.display.HTML object>"
            ],
            "text/html": [
              " View project at <a href='https://wandb.ai/abhijithvinod-indian-institue-of-technology-madras/RL_CartPole_QLearning' target=\"_blank\">https://wandb.ai/abhijithvinod-indian-institue-of-technology-madras/RL_CartPole_QLearning</a>"
            ]
          },
          "metadata": {}
        },
        {
          "output_type": "display_data",
          "data": {
            "text/plain": [
              "<IPython.core.display.HTML object>"
            ],
            "text/html": [
              " View sweep at <a href='https://wandb.ai/abhijithvinod-indian-institue-of-technology-madras/RL_CartPole_QLearning/sweeps/kreeqo81' target=\"_blank\">https://wandb.ai/abhijithvinod-indian-institue-of-technology-madras/RL_CartPole_QLearning/sweeps/kreeqo81</a>"
            ]
          },
          "metadata": {}
        },
        {
          "output_type": "display_data",
          "data": {
            "text/plain": [
              "<IPython.core.display.HTML object>"
            ],
            "text/html": [
              " View run at <a href='https://wandb.ai/abhijithvinod-indian-institue-of-technology-madras/RL_CartPole_QLearning/runs/l0cbanwj' target=\"_blank\">https://wandb.ai/abhijithvinod-indian-institue-of-technology-madras/RL_CartPole_QLearning/runs/l0cbanwj</a>"
            ]
          },
          "metadata": {}
        },
        {
          "output_type": "display_data",
          "data": {
            "text/plain": [
              "<IPython.core.display.HTML object>"
            ],
            "text/html": []
          },
          "metadata": {}
        },
        {
          "output_type": "display_data",
          "data": {
            "text/plain": [
              "<IPython.core.display.HTML object>"
            ],
            "text/html": [
              "<br>    <style><br>        .wandb-row {<br>            display: flex;<br>            flex-direction: row;<br>            flex-wrap: wrap;<br>            justify-content: flex-start;<br>            width: 100%;<br>        }<br>        .wandb-col {<br>            display: flex;<br>            flex-direction: column;<br>            flex-basis: 100%;<br>            flex: 1;<br>            padding: 10px;<br>        }<br>    </style><br><div class=\"wandb-row\"><div class=\"wandb-col\"><h3>Run history:</h3><br/><table class=\"wandb\"><tr><td>average_reward_across_seeds</td><td>▁</td></tr><tr><td>seed_101_episode</td><td>▁▁▁▁▁▁▂▂▂▂▂▃▃▃▃▄▄▄▄▄▅▅▅▅▅▅▆▆▆▆▆▆▇▇▇▇▇▇██</td></tr><tr><td>seed_101_reward</td><td>▂▄▁▂▃▂▄▃▄▁▁▃▁▁▄▃▆▄▃▁▃▁█▃▁▁▇▂▂▃▅▄▁▁▃▁▆▄▃▁</td></tr><tr><td>seed_123_episode</td><td>▁▁▂▂▂▂▂▂▂▃▃▃▃▄▄▄▄▅▅▅▅▅▅▅▅▆▆▆▆▆▇▇▇▇▇▇▇▇▇█</td></tr><tr><td>seed_123_reward</td><td>▁▅▂▂▃▄▂▂▄▃▃█▄▂▃▄▁▃▃▄▄▃▃▂▂▄▅▂▁▁▅▃▄▃▇▆▄▆▅▂</td></tr><tr><td>seed_42_episode</td><td>▁▁▂▂▂▂▂▂▃▃▃▃▃▃▃▄▄▄▄▅▅▅▅▆▆▆▆▆▇▇▇▇▇▇▇█████</td></tr><tr><td>seed_42_reward</td><td>▁▁▁▁▁▃▃▃▁▃▃▃▂▃▄▃▁▃▅▃▄▃▄▃▃▃▆▅▃█▄█▆▄▅▂▃▃▂▃</td></tr><tr><td>seed_456_episode</td><td>▁▁▁▂▂▂▂▂▂▃▃▃▃▄▄▄▄▄▄▄▅▅▅▅▅▆▆▆▆▆▇▇▇▇▇▇▇███</td></tr><tr><td>seed_456_reward</td><td>▁▄▄▂▃▆▆▅▃▃▆▄▄▄▄▂▄▃▃▄▅▁▄▃▅▃▁▃▃▆█▄█▅▁▃▁▇▇▂</td></tr><tr><td>seed_789_episode</td><td>▁▁▁▁▁▂▂▂▂▂▂▂▃▃▃▃▄▄▄▄▄▅▅▅▆▆▆▆▇▇▇▇▇▇▇█████</td></tr><tr><td>seed_789_reward</td><td>▂▁▂▂▂▂▂▃█▂▅▂▂▁▁▂▁▁▄▁▂▂▂▁▁▁▁▂▁▁▁▁▂▁▁▂▅▁▁▂</td></tr></table><br/></div><div class=\"wandb-col\"><h3>Run summary:</h3><br/><table class=\"wandb\"><tr><td>average_reward_across_seeds</td><td>77.888</td></tr><tr><td>seed_101_episode</td><td>999</td></tr><tr><td>seed_101_reward</td><td>15</td></tr><tr><td>seed_123_episode</td><td>999</td></tr><tr><td>seed_123_reward</td><td>190</td></tr><tr><td>seed_42_episode</td><td>999</td></tr><tr><td>seed_42_reward</td><td>101</td></tr><tr><td>seed_456_episode</td><td>999</td></tr><tr><td>seed_456_reward</td><td>74</td></tr><tr><td>seed_789_episode</td><td>999</td></tr><tr><td>seed_789_reward</td><td>34</td></tr></table><br/></div></div>"
            ]
          },
          "metadata": {}
        },
        {
          "output_type": "display_data",
          "data": {
            "text/plain": [
              "<IPython.core.display.HTML object>"
            ],
            "text/html": [
              " View run <strong style=\"color:#cdcd00\">earthy-sweep-13</strong> at: <a href='https://wandb.ai/abhijithvinod-indian-institue-of-technology-madras/RL_CartPole_QLearning/runs/l0cbanwj' target=\"_blank\">https://wandb.ai/abhijithvinod-indian-institue-of-technology-madras/RL_CartPole_QLearning/runs/l0cbanwj</a><br> View project at: <a href='https://wandb.ai/abhijithvinod-indian-institue-of-technology-madras/RL_CartPole_QLearning' target=\"_blank\">https://wandb.ai/abhijithvinod-indian-institue-of-technology-madras/RL_CartPole_QLearning</a><br>Synced 5 W&B file(s), 0 media file(s), 0 artifact file(s) and 0 other file(s)"
            ]
          },
          "metadata": {}
        },
        {
          "output_type": "display_data",
          "data": {
            "text/plain": [
              "<IPython.core.display.HTML object>"
            ],
            "text/html": [
              "Find logs at: <code>./wandb/run-20250331_151628-l0cbanwj/logs</code>"
            ]
          },
          "metadata": {}
        },
        {
          "output_type": "stream",
          "name": "stderr",
          "text": [
            "\u001b[34m\u001b[1mwandb\u001b[0m: Agent Starting Run: h8g4wh1t with config:\n",
            "\u001b[34m\u001b[1mwandb\u001b[0m: \talpha: 0.23629947463808623\n",
            "\u001b[34m\u001b[1mwandb\u001b[0m: \tgamma: 0.99\n",
            "\u001b[34m\u001b[1mwandb\u001b[0m: \tn_bins: 20\n",
            "\u001b[34m\u001b[1mwandb\u001b[0m: \tn_episodes: 1000\n",
            "\u001b[34m\u001b[1mwandb\u001b[0m: \tseed: 789\n",
            "\u001b[34m\u001b[1mwandb\u001b[0m: \ttemperature: 1.8975349223477904\n"
          ]
        },
        {
          "output_type": "display_data",
          "data": {
            "text/plain": [
              "<IPython.core.display.HTML object>"
            ],
            "text/html": [
              "Tracking run with wandb version 0.19.8"
            ]
          },
          "metadata": {}
        },
        {
          "output_type": "display_data",
          "data": {
            "text/plain": [
              "<IPython.core.display.HTML object>"
            ],
            "text/html": [
              "Run data is saved locally in <code>/content/wandb/run-20250331_151734-h8g4wh1t</code>"
            ]
          },
          "metadata": {}
        },
        {
          "output_type": "display_data",
          "data": {
            "text/plain": [
              "<IPython.core.display.HTML object>"
            ],
            "text/html": [
              "Syncing run <strong><a href='https://wandb.ai/abhijithvinod-indian-institue-of-technology-madras/RL_CartPole_QLearning/runs/h8g4wh1t' target=\"_blank\">laced-sweep-14</a></strong> to <a href='https://wandb.ai/abhijithvinod-indian-institue-of-technology-madras/RL_CartPole_QLearning' target=\"_blank\">Weights & Biases</a> (<a href='https://wandb.me/developer-guide' target=\"_blank\">docs</a>)<br>Sweep page: <a href='https://wandb.ai/abhijithvinod-indian-institue-of-technology-madras/RL_CartPole_QLearning/sweeps/kreeqo81' target=\"_blank\">https://wandb.ai/abhijithvinod-indian-institue-of-technology-madras/RL_CartPole_QLearning/sweeps/kreeqo81</a>"
            ]
          },
          "metadata": {}
        },
        {
          "output_type": "display_data",
          "data": {
            "text/plain": [
              "<IPython.core.display.HTML object>"
            ],
            "text/html": [
              " View project at <a href='https://wandb.ai/abhijithvinod-indian-institue-of-technology-madras/RL_CartPole_QLearning' target=\"_blank\">https://wandb.ai/abhijithvinod-indian-institue-of-technology-madras/RL_CartPole_QLearning</a>"
            ]
          },
          "metadata": {}
        },
        {
          "output_type": "display_data",
          "data": {
            "text/plain": [
              "<IPython.core.display.HTML object>"
            ],
            "text/html": [
              " View sweep at <a href='https://wandb.ai/abhijithvinod-indian-institue-of-technology-madras/RL_CartPole_QLearning/sweeps/kreeqo81' target=\"_blank\">https://wandb.ai/abhijithvinod-indian-institue-of-technology-madras/RL_CartPole_QLearning/sweeps/kreeqo81</a>"
            ]
          },
          "metadata": {}
        },
        {
          "output_type": "display_data",
          "data": {
            "text/plain": [
              "<IPython.core.display.HTML object>"
            ],
            "text/html": [
              " View run at <a href='https://wandb.ai/abhijithvinod-indian-institue-of-technology-madras/RL_CartPole_QLearning/runs/h8g4wh1t' target=\"_blank\">https://wandb.ai/abhijithvinod-indian-institue-of-technology-madras/RL_CartPole_QLearning/runs/h8g4wh1t</a>"
            ]
          },
          "metadata": {}
        },
        {
          "output_type": "display_data",
          "data": {
            "text/plain": [
              "<IPython.core.display.HTML object>"
            ],
            "text/html": []
          },
          "metadata": {}
        },
        {
          "output_type": "display_data",
          "data": {
            "text/plain": [
              "<IPython.core.display.HTML object>"
            ],
            "text/html": [
              "<br>    <style><br>        .wandb-row {<br>            display: flex;<br>            flex-direction: row;<br>            flex-wrap: wrap;<br>            justify-content: flex-start;<br>            width: 100%;<br>        }<br>        .wandb-col {<br>            display: flex;<br>            flex-direction: column;<br>            flex-basis: 100%;<br>            flex: 1;<br>            padding: 10px;<br>        }<br>    </style><br><div class=\"wandb-row\"><div class=\"wandb-col\"><h3>Run history:</h3><br/><table class=\"wandb\"><tr><td>average_reward_across_seeds</td><td>▁</td></tr><tr><td>seed_101_episode</td><td>▁▁▁▁▁▂▂▂▂▂▃▃▃▃▄▄▄▄▄▄▅▅▅▆▆▆▆▆▆▆▇▇▇▇▇▇████</td></tr><tr><td>seed_101_reward</td><td>▁▁▁▂▃▅▆▂▅▅▅▇▇▆▅▇▅▆▇▅▆▂▅▅▄▆▄▅▃▆▆▆▇▅▆▅█▅▇▃</td></tr><tr><td>seed_123_episode</td><td>▁▁▁▂▂▂▃▃▃▃▄▄▄▄▄▅▅▅▅▅▅▅▅▅▅▆▆▆▆▆▇▇▇▇▇▇▇▇▇█</td></tr><tr><td>seed_123_reward</td><td>▁▁▁▁▅▄▂▂▅▁▃▄▅▅▄▆▄▅▄▅▄▅▅▅▅▇▅▅▆▇▆▆█▇▆█▆▆▆▇</td></tr><tr><td>seed_42_episode</td><td>▁▂▂▂▂▂▂▂▂▃▃▃▃▃▃▃▃▃▄▄▄▄▄▄▄▆▆▆▆▆▆▆▇▇▇█████</td></tr><tr><td>seed_42_reward</td><td>▁▁▂▂▂▃▃▄▃▄▄▃▄▄▃▄▄▄▄▄▅▄▂▄▄▅▆▅▅▅▆▆▅▇▆▅█▇▆█</td></tr><tr><td>seed_456_episode</td><td>▁▁▁▁▁▂▂▂▂▂▃▃▃▃▃▄▄▄▄▄▅▅▅▅▅▅▆▆▆▆▆▆▆▆▆▇▇▇██</td></tr><tr><td>seed_456_reward</td><td>▁▂▁▁▁▂▃▃▃▂▄▄▅▆▃▃▃▃▄█▃▆▄▅▅▅▇▃▅▅█▅▇▅▆▇██▇▇</td></tr><tr><td>seed_789_episode</td><td>▁▁▁▂▂▂▂▃▃▃▃▃▃▄▄▄▄▄▄▄▅▅▆▆▆▆▆▆▇▇▇▇▇▇▇▇████</td></tr><tr><td>seed_789_reward</td><td>▂▂▄▁▂▄▄▃▃▄▅▄▃▄▇▄▄▄▆▄▄▄▅▅▃▅▅▅█▅▅▆▆▆▇▅▆▅▇▇</td></tr></table><br/></div><div class=\"wandb-col\"><h3>Run summary:</h3><br/><table class=\"wandb\"><tr><td>average_reward_across_seeds</td><td>280.072</td></tr><tr><td>seed_101_episode</td><td>999</td></tr><tr><td>seed_101_reward</td><td>170</td></tr><tr><td>seed_123_episode</td><td>999</td></tr><tr><td>seed_123_reward</td><td>304</td></tr><tr><td>seed_42_episode</td><td>999</td></tr><tr><td>seed_42_reward</td><td>380</td></tr><tr><td>seed_456_episode</td><td>999</td></tr><tr><td>seed_456_reward</td><td>321</td></tr><tr><td>seed_789_episode</td><td>999</td></tr><tr><td>seed_789_reward</td><td>148</td></tr></table><br/></div></div>"
            ]
          },
          "metadata": {}
        },
        {
          "output_type": "display_data",
          "data": {
            "text/plain": [
              "<IPython.core.display.HTML object>"
            ],
            "text/html": [
              " View run <strong style=\"color:#cdcd00\">laced-sweep-14</strong> at: <a href='https://wandb.ai/abhijithvinod-indian-institue-of-technology-madras/RL_CartPole_QLearning/runs/h8g4wh1t' target=\"_blank\">https://wandb.ai/abhijithvinod-indian-institue-of-technology-madras/RL_CartPole_QLearning/runs/h8g4wh1t</a><br> View project at: <a href='https://wandb.ai/abhijithvinod-indian-institue-of-technology-madras/RL_CartPole_QLearning' target=\"_blank\">https://wandb.ai/abhijithvinod-indian-institue-of-technology-madras/RL_CartPole_QLearning</a><br>Synced 5 W&B file(s), 0 media file(s), 0 artifact file(s) and 0 other file(s)"
            ]
          },
          "metadata": {}
        },
        {
          "output_type": "display_data",
          "data": {
            "text/plain": [
              "<IPython.core.display.HTML object>"
            ],
            "text/html": [
              "Find logs at: <code>./wandb/run-20250331_151734-h8g4wh1t/logs</code>"
            ]
          },
          "metadata": {}
        },
        {
          "output_type": "stream",
          "name": "stderr",
          "text": [
            "\u001b[34m\u001b[1mwandb\u001b[0m: Agent Starting Run: 8iyb6f5t with config:\n",
            "\u001b[34m\u001b[1mwandb\u001b[0m: \talpha: 0.20241954640986257\n",
            "\u001b[34m\u001b[1mwandb\u001b[0m: \tgamma: 0.99\n",
            "\u001b[34m\u001b[1mwandb\u001b[0m: \tn_bins: 10\n",
            "\u001b[34m\u001b[1mwandb\u001b[0m: \tn_episodes: 1000\n",
            "\u001b[34m\u001b[1mwandb\u001b[0m: \tseed: 456\n",
            "\u001b[34m\u001b[1mwandb\u001b[0m: \ttemperature: 0.19568233972860188\n"
          ]
        },
        {
          "output_type": "display_data",
          "data": {
            "text/plain": [
              "<IPython.core.display.HTML object>"
            ],
            "text/html": [
              "Tracking run with wandb version 0.19.8"
            ]
          },
          "metadata": {}
        },
        {
          "output_type": "display_data",
          "data": {
            "text/plain": [
              "<IPython.core.display.HTML object>"
            ],
            "text/html": [
              "Run data is saved locally in <code>/content/wandb/run-20250331_152011-8iyb6f5t</code>"
            ]
          },
          "metadata": {}
        },
        {
          "output_type": "display_data",
          "data": {
            "text/plain": [
              "<IPython.core.display.HTML object>"
            ],
            "text/html": [
              "Syncing run <strong><a href='https://wandb.ai/abhijithvinod-indian-institue-of-technology-madras/RL_CartPole_QLearning/runs/8iyb6f5t' target=\"_blank\">chocolate-sweep-15</a></strong> to <a href='https://wandb.ai/abhijithvinod-indian-institue-of-technology-madras/RL_CartPole_QLearning' target=\"_blank\">Weights & Biases</a> (<a href='https://wandb.me/developer-guide' target=\"_blank\">docs</a>)<br>Sweep page: <a href='https://wandb.ai/abhijithvinod-indian-institue-of-technology-madras/RL_CartPole_QLearning/sweeps/kreeqo81' target=\"_blank\">https://wandb.ai/abhijithvinod-indian-institue-of-technology-madras/RL_CartPole_QLearning/sweeps/kreeqo81</a>"
            ]
          },
          "metadata": {}
        },
        {
          "output_type": "display_data",
          "data": {
            "text/plain": [
              "<IPython.core.display.HTML object>"
            ],
            "text/html": [
              " View project at <a href='https://wandb.ai/abhijithvinod-indian-institue-of-technology-madras/RL_CartPole_QLearning' target=\"_blank\">https://wandb.ai/abhijithvinod-indian-institue-of-technology-madras/RL_CartPole_QLearning</a>"
            ]
          },
          "metadata": {}
        },
        {
          "output_type": "display_data",
          "data": {
            "text/plain": [
              "<IPython.core.display.HTML object>"
            ],
            "text/html": [
              " View sweep at <a href='https://wandb.ai/abhijithvinod-indian-institue-of-technology-madras/RL_CartPole_QLearning/sweeps/kreeqo81' target=\"_blank\">https://wandb.ai/abhijithvinod-indian-institue-of-technology-madras/RL_CartPole_QLearning/sweeps/kreeqo81</a>"
            ]
          },
          "metadata": {}
        },
        {
          "output_type": "display_data",
          "data": {
            "text/plain": [
              "<IPython.core.display.HTML object>"
            ],
            "text/html": [
              " View run at <a href='https://wandb.ai/abhijithvinod-indian-institue-of-technology-madras/RL_CartPole_QLearning/runs/8iyb6f5t' target=\"_blank\">https://wandb.ai/abhijithvinod-indian-institue-of-technology-madras/RL_CartPole_QLearning/runs/8iyb6f5t</a>"
            ]
          },
          "metadata": {}
        },
        {
          "output_type": "display_data",
          "data": {
            "text/plain": [
              "<IPython.core.display.HTML object>"
            ],
            "text/html": []
          },
          "metadata": {}
        },
        {
          "output_type": "display_data",
          "data": {
            "text/plain": [
              "<IPython.core.display.HTML object>"
            ],
            "text/html": [
              "<br>    <style><br>        .wandb-row {<br>            display: flex;<br>            flex-direction: row;<br>            flex-wrap: wrap;<br>            justify-content: flex-start;<br>            width: 100%;<br>        }<br>        .wandb-col {<br>            display: flex;<br>            flex-direction: column;<br>            flex-basis: 100%;<br>            flex: 1;<br>            padding: 10px;<br>        }<br>    </style><br><div class=\"wandb-row\"><div class=\"wandb-col\"><h3>Run history:</h3><br/><table class=\"wandb\"><tr><td>average_reward_across_seeds</td><td>▁</td></tr><tr><td>seed_101_episode</td><td>▁▁▁▁▂▂▂▂▂▂▂▂▃▃▃▃▄▄▄▄▄▅▅▅▅▅▅▅▆▆▆▆▆▆▆▇▇▇██</td></tr><tr><td>seed_101_reward</td><td>▃▅▂▃▂▂▂▂▂▁▂▂█▂▂▁▃▁▂▁▂▃▂▂▁▂▄▄▂▇▂▃▁▂▄▂▁▁▄▂</td></tr><tr><td>seed_123_episode</td><td>▁▁▁▁▁▁▁▂▂▂▂▂▃▃▃▃▃▃▄▄▄▄▄▄▄▄▅▅▅▅▆▆▆▆▇▇▇▇▇█</td></tr><tr><td>seed_123_reward</td><td>▂▃▃█▃▄▃▁▂▁▂▁▃▁▁▃▃▂▄█▂▄▃▁▂▂▁▂▁▂▃▂▄▂▂▁▂▃▁▃</td></tr><tr><td>seed_42_episode</td><td>▁▁▁▂▂▂▂▂▂▂▂▂▃▃▃▄▄▄▄▄▄▄▄▄▄▄▅▅▆▆▆▆▆▇▇▇▇▇██</td></tr><tr><td>seed_42_reward</td><td>██▃▃▅▄▆▇▆▂▄▆▆▆▆▆▃▄▃▂▂▁▇▆▅▄███▂▁▄▄▃▃▃▃▄▄▃</td></tr><tr><td>seed_456_episode</td><td>▁▁▁▂▂▂▂▂▂▂▃▃▃▃▃▃▄▄▄▄▄▅▅▅▅▆▆▆▆▆▆▇▇▇▇▇▇▇██</td></tr><tr><td>seed_456_reward</td><td>▃▂▆▃▅▂▃▂▃▃▂▃▁▆▃▃▂▂▂▂▂█▄▃▂▂▃▃▂▁▂▂▁▃▃▂▃▂▂▂</td></tr><tr><td>seed_789_episode</td><td>▁▁▁▁▁▁▁▁▂▂▂▂▂▂▂▃▃▃▃▃▄▄▅▅▅▆▆▆▆▆▆▆▆▇▇▇████</td></tr><tr><td>seed_789_reward</td><td>▁▃▅▂▄▂▂▂▃▁▁▂▃▂▅▂▂▂▃▃▄▅▃▂▂▃▁▃▅▃▁▂▂▅▁█▅▂▇▃</td></tr></table><br/></div><div class=\"wandb-col\"><h3>Run summary:</h3><br/><table class=\"wandb\"><tr><td>average_reward_across_seeds</td><td>43.452</td></tr><tr><td>seed_101_episode</td><td>999</td></tr><tr><td>seed_101_reward</td><td>41</td></tr><tr><td>seed_123_episode</td><td>999</td></tr><tr><td>seed_123_reward</td><td>27</td></tr><tr><td>seed_42_episode</td><td>999</td></tr><tr><td>seed_42_reward</td><td>33</td></tr><tr><td>seed_456_episode</td><td>999</td></tr><tr><td>seed_456_reward</td><td>31</td></tr><tr><td>seed_789_episode</td><td>999</td></tr><tr><td>seed_789_reward</td><td>100</td></tr></table><br/></div></div>"
            ]
          },
          "metadata": {}
        },
        {
          "output_type": "display_data",
          "data": {
            "text/plain": [
              "<IPython.core.display.HTML object>"
            ],
            "text/html": [
              " View run <strong style=\"color:#cdcd00\">chocolate-sweep-15</strong> at: <a href='https://wandb.ai/abhijithvinod-indian-institue-of-technology-madras/RL_CartPole_QLearning/runs/8iyb6f5t' target=\"_blank\">https://wandb.ai/abhijithvinod-indian-institue-of-technology-madras/RL_CartPole_QLearning/runs/8iyb6f5t</a><br> View project at: <a href='https://wandb.ai/abhijithvinod-indian-institue-of-technology-madras/RL_CartPole_QLearning' target=\"_blank\">https://wandb.ai/abhijithvinod-indian-institue-of-technology-madras/RL_CartPole_QLearning</a><br>Synced 5 W&B file(s), 0 media file(s), 0 artifact file(s) and 0 other file(s)"
            ]
          },
          "metadata": {}
        },
        {
          "output_type": "display_data",
          "data": {
            "text/plain": [
              "<IPython.core.display.HTML object>"
            ],
            "text/html": [
              "Find logs at: <code>./wandb/run-20250331_152011-8iyb6f5t/logs</code>"
            ]
          },
          "metadata": {}
        },
        {
          "output_type": "stream",
          "name": "stderr",
          "text": [
            "\u001b[34m\u001b[1mwandb\u001b[0m: Agent Starting Run: g4zglvqg with config:\n",
            "\u001b[34m\u001b[1mwandb\u001b[0m: \talpha: 0.4666182852776158\n",
            "\u001b[34m\u001b[1mwandb\u001b[0m: \tgamma: 0.99\n",
            "\u001b[34m\u001b[1mwandb\u001b[0m: \tn_bins: 10\n",
            "\u001b[34m\u001b[1mwandb\u001b[0m: \tn_episodes: 1000\n",
            "\u001b[34m\u001b[1mwandb\u001b[0m: \tseed: 42\n",
            "\u001b[34m\u001b[1mwandb\u001b[0m: \ttemperature: 0.18387582913031\n"
          ]
        },
        {
          "output_type": "display_data",
          "data": {
            "text/plain": [
              "<IPython.core.display.HTML object>"
            ],
            "text/html": [
              "Tracking run with wandb version 0.19.8"
            ]
          },
          "metadata": {}
        },
        {
          "output_type": "display_data",
          "data": {
            "text/plain": [
              "<IPython.core.display.HTML object>"
            ],
            "text/html": [
              "Run data is saved locally in <code>/content/wandb/run-20250331_152052-g4zglvqg</code>"
            ]
          },
          "metadata": {}
        },
        {
          "output_type": "display_data",
          "data": {
            "text/plain": [
              "<IPython.core.display.HTML object>"
            ],
            "text/html": [
              "Syncing run <strong><a href='https://wandb.ai/abhijithvinod-indian-institue-of-technology-madras/RL_CartPole_QLearning/runs/g4zglvqg' target=\"_blank\">faithful-sweep-16</a></strong> to <a href='https://wandb.ai/abhijithvinod-indian-institue-of-technology-madras/RL_CartPole_QLearning' target=\"_blank\">Weights & Biases</a> (<a href='https://wandb.me/developer-guide' target=\"_blank\">docs</a>)<br>Sweep page: <a href='https://wandb.ai/abhijithvinod-indian-institue-of-technology-madras/RL_CartPole_QLearning/sweeps/kreeqo81' target=\"_blank\">https://wandb.ai/abhijithvinod-indian-institue-of-technology-madras/RL_CartPole_QLearning/sweeps/kreeqo81</a>"
            ]
          },
          "metadata": {}
        },
        {
          "output_type": "display_data",
          "data": {
            "text/plain": [
              "<IPython.core.display.HTML object>"
            ],
            "text/html": [
              " View project at <a href='https://wandb.ai/abhijithvinod-indian-institue-of-technology-madras/RL_CartPole_QLearning' target=\"_blank\">https://wandb.ai/abhijithvinod-indian-institue-of-technology-madras/RL_CartPole_QLearning</a>"
            ]
          },
          "metadata": {}
        },
        {
          "output_type": "display_data",
          "data": {
            "text/plain": [
              "<IPython.core.display.HTML object>"
            ],
            "text/html": [
              " View sweep at <a href='https://wandb.ai/abhijithvinod-indian-institue-of-technology-madras/RL_CartPole_QLearning/sweeps/kreeqo81' target=\"_blank\">https://wandb.ai/abhijithvinod-indian-institue-of-technology-madras/RL_CartPole_QLearning/sweeps/kreeqo81</a>"
            ]
          },
          "metadata": {}
        },
        {
          "output_type": "display_data",
          "data": {
            "text/plain": [
              "<IPython.core.display.HTML object>"
            ],
            "text/html": [
              " View run at <a href='https://wandb.ai/abhijithvinod-indian-institue-of-technology-madras/RL_CartPole_QLearning/runs/g4zglvqg' target=\"_blank\">https://wandb.ai/abhijithvinod-indian-institue-of-technology-madras/RL_CartPole_QLearning/runs/g4zglvqg</a>"
            ]
          },
          "metadata": {}
        },
        {
          "output_type": "display_data",
          "data": {
            "text/plain": [
              "<IPython.core.display.HTML object>"
            ],
            "text/html": []
          },
          "metadata": {}
        },
        {
          "output_type": "display_data",
          "data": {
            "text/plain": [
              "<IPython.core.display.HTML object>"
            ],
            "text/html": [
              "<br>    <style><br>        .wandb-row {<br>            display: flex;<br>            flex-direction: row;<br>            flex-wrap: wrap;<br>            justify-content: flex-start;<br>            width: 100%;<br>        }<br>        .wandb-col {<br>            display: flex;<br>            flex-direction: column;<br>            flex-basis: 100%;<br>            flex: 1;<br>            padding: 10px;<br>        }<br>    </style><br><div class=\"wandb-row\"><div class=\"wandb-col\"><h3>Run history:</h3><br/><table class=\"wandb\"><tr><td>average_reward_across_seeds</td><td>▁</td></tr><tr><td>seed_101_episode</td><td>▁▁▁▁▂▂▃▃▃▃▃▃▃▃▃▄▄▄▄▄▅▅▅▅▅▅▆▆▆▆▆▇▇▇▇▇▇▇██</td></tr><tr><td>seed_101_reward</td><td>▃█▅█▆▃▆▄▇▃▂▄▆▁▆▃█▃▄▄▃▂▂▁▁▁█▄▃▁▆▆▄▇▂▁▂▁▃▇</td></tr><tr><td>seed_123_episode</td><td>▁▁▂▂▂▂▃▃▃▃▄▄▄▄▄▅▅▅▅▅▅▅▅▅▅▆▆▆▆▆▇▇▇▇▇█████</td></tr><tr><td>seed_123_reward</td><td>▃▁▁▃▁▁▁▁▁▁▄▂▃▂▁▃▃▃▁▄▁▃▁▁█▁▁▃▁▃▃▄▃▃▃▇▁▃▃▁</td></tr><tr><td>seed_42_episode</td><td>▁▁▁▁▁▂▂▂▂▂▂▃▃▃▃▄▄▄▄▄▄▄▄▄▅▅▅▅▆▆▆▆▆▇▇▇▇▇▇█</td></tr><tr><td>seed_42_reward</td><td>▁▁▁▃▁▁▅▂▄▃▂▃▃▂▃▅▂▅▅▁▁▁▁▁▂▂▁▃▆▄▃▄▆█▄▅▁▂▁▁</td></tr><tr><td>seed_456_episode</td><td>▁▁▁▁▁▂▂▂▂▂▃▃▃▃▃▄▄▄▄▅▅▅▅▅▅▅▅▆▆▆▆▆▆▇▇▇▇███</td></tr><tr><td>seed_456_reward</td><td>▂▁▂▁▂▂▂▁▁▁▂▁▂▃▁▂▁▂▁▂▁▃▂▅▂▁▂▁▃▃▂▂▂▁▅▂█▂▁▃</td></tr><tr><td>seed_789_episode</td><td>▁▁▁▁▁▂▂▂▂▂▂▂▂▂▂▃▃▃▃▃▄▄▄▄▄▅▅▅▅▅▅▅▇▇▇█████</td></tr><tr><td>seed_789_reward</td><td>▂▁▁▂▁▃▁▁▂▁▂▂▃▁▂▁▁▂▁▂▂▁▁▁▁▁▂▃▂▂▂▁▁█▂▂▃▁▁▂</td></tr></table><br/></div><div class=\"wandb-col\"><h3>Run summary:</h3><br/><table class=\"wandb\"><tr><td>average_reward_across_seeds</td><td>26.3</td></tr><tr><td>seed_101_episode</td><td>999</td></tr><tr><td>seed_101_reward</td><td>32</td></tr><tr><td>seed_123_episode</td><td>999</td></tr><tr><td>seed_123_reward</td><td>10</td></tr><tr><td>seed_42_episode</td><td>999</td></tr><tr><td>seed_42_reward</td><td>13</td></tr><tr><td>seed_456_episode</td><td>999</td></tr><tr><td>seed_456_reward</td><td>14</td></tr><tr><td>seed_789_episode</td><td>999</td></tr><tr><td>seed_789_reward</td><td>117</td></tr></table><br/></div></div>"
            ]
          },
          "metadata": {}
        },
        {
          "output_type": "display_data",
          "data": {
            "text/plain": [
              "<IPython.core.display.HTML object>"
            ],
            "text/html": [
              " View run <strong style=\"color:#cdcd00\">faithful-sweep-16</strong> at: <a href='https://wandb.ai/abhijithvinod-indian-institue-of-technology-madras/RL_CartPole_QLearning/runs/g4zglvqg' target=\"_blank\">https://wandb.ai/abhijithvinod-indian-institue-of-technology-madras/RL_CartPole_QLearning/runs/g4zglvqg</a><br> View project at: <a href='https://wandb.ai/abhijithvinod-indian-institue-of-technology-madras/RL_CartPole_QLearning' target=\"_blank\">https://wandb.ai/abhijithvinod-indian-institue-of-technology-madras/RL_CartPole_QLearning</a><br>Synced 5 W&B file(s), 0 media file(s), 0 artifact file(s) and 0 other file(s)"
            ]
          },
          "metadata": {}
        },
        {
          "output_type": "display_data",
          "data": {
            "text/plain": [
              "<IPython.core.display.HTML object>"
            ],
            "text/html": [
              "Find logs at: <code>./wandb/run-20250331_152052-g4zglvqg/logs</code>"
            ]
          },
          "metadata": {}
        },
        {
          "output_type": "stream",
          "name": "stderr",
          "text": [
            "\u001b[34m\u001b[1mwandb\u001b[0m: Agent Starting Run: eyrkvs1j with config:\n",
            "\u001b[34m\u001b[1mwandb\u001b[0m: \talpha: 0.3546081740770661\n",
            "\u001b[34m\u001b[1mwandb\u001b[0m: \tgamma: 0.99\n",
            "\u001b[34m\u001b[1mwandb\u001b[0m: \tn_bins: 15\n",
            "\u001b[34m\u001b[1mwandb\u001b[0m: \tn_episodes: 1000\n",
            "\u001b[34m\u001b[1mwandb\u001b[0m: \tseed: 42\n",
            "\u001b[34m\u001b[1mwandb\u001b[0m: \ttemperature: 1.4419055738082442\n"
          ]
        },
        {
          "output_type": "display_data",
          "data": {
            "text/plain": [
              "<IPython.core.display.HTML object>"
            ],
            "text/html": [
              "Tracking run with wandb version 0.19.8"
            ]
          },
          "metadata": {}
        },
        {
          "output_type": "display_data",
          "data": {
            "text/plain": [
              "<IPython.core.display.HTML object>"
            ],
            "text/html": [
              "Run data is saved locally in <code>/content/wandb/run-20250331_152123-eyrkvs1j</code>"
            ]
          },
          "metadata": {}
        },
        {
          "output_type": "display_data",
          "data": {
            "text/plain": [
              "<IPython.core.display.HTML object>"
            ],
            "text/html": [
              "Syncing run <strong><a href='https://wandb.ai/abhijithvinod-indian-institue-of-technology-madras/RL_CartPole_QLearning/runs/eyrkvs1j' target=\"_blank\">silvery-sweep-17</a></strong> to <a href='https://wandb.ai/abhijithvinod-indian-institue-of-technology-madras/RL_CartPole_QLearning' target=\"_blank\">Weights & Biases</a> (<a href='https://wandb.me/developer-guide' target=\"_blank\">docs</a>)<br>Sweep page: <a href='https://wandb.ai/abhijithvinod-indian-institue-of-technology-madras/RL_CartPole_QLearning/sweeps/kreeqo81' target=\"_blank\">https://wandb.ai/abhijithvinod-indian-institue-of-technology-madras/RL_CartPole_QLearning/sweeps/kreeqo81</a>"
            ]
          },
          "metadata": {}
        },
        {
          "output_type": "display_data",
          "data": {
            "text/plain": [
              "<IPython.core.display.HTML object>"
            ],
            "text/html": [
              " View project at <a href='https://wandb.ai/abhijithvinod-indian-institue-of-technology-madras/RL_CartPole_QLearning' target=\"_blank\">https://wandb.ai/abhijithvinod-indian-institue-of-technology-madras/RL_CartPole_QLearning</a>"
            ]
          },
          "metadata": {}
        },
        {
          "output_type": "display_data",
          "data": {
            "text/plain": [
              "<IPython.core.display.HTML object>"
            ],
            "text/html": [
              " View sweep at <a href='https://wandb.ai/abhijithvinod-indian-institue-of-technology-madras/RL_CartPole_QLearning/sweeps/kreeqo81' target=\"_blank\">https://wandb.ai/abhijithvinod-indian-institue-of-technology-madras/RL_CartPole_QLearning/sweeps/kreeqo81</a>"
            ]
          },
          "metadata": {}
        },
        {
          "output_type": "display_data",
          "data": {
            "text/plain": [
              "<IPython.core.display.HTML object>"
            ],
            "text/html": [
              " View run at <a href='https://wandb.ai/abhijithvinod-indian-institue-of-technology-madras/RL_CartPole_QLearning/runs/eyrkvs1j' target=\"_blank\">https://wandb.ai/abhijithvinod-indian-institue-of-technology-madras/RL_CartPole_QLearning/runs/eyrkvs1j</a>"
            ]
          },
          "metadata": {}
        },
        {
          "output_type": "display_data",
          "data": {
            "text/plain": [
              "<IPython.core.display.HTML object>"
            ],
            "text/html": []
          },
          "metadata": {}
        },
        {
          "output_type": "display_data",
          "data": {
            "text/plain": [
              "<IPython.core.display.HTML object>"
            ],
            "text/html": [
              "<br>    <style><br>        .wandb-row {<br>            display: flex;<br>            flex-direction: row;<br>            flex-wrap: wrap;<br>            justify-content: flex-start;<br>            width: 100%;<br>        }<br>        .wandb-col {<br>            display: flex;<br>            flex-direction: column;<br>            flex-basis: 100%;<br>            flex: 1;<br>            padding: 10px;<br>        }<br>    </style><br><div class=\"wandb-row\"><div class=\"wandb-col\"><h3>Run history:</h3><br/><table class=\"wandb\"><tr><td>average_reward_across_seeds</td><td>▁</td></tr><tr><td>seed_101_episode</td><td>▁▁▁▂▂▂▂▂▂▂▃▃▃▃▃▃▄▄▄▄▄▄▄▄▄▅▅▆▆▆▆▇▇▇▇▇▇▇▇█</td></tr><tr><td>seed_101_reward</td><td>▁▂▄▂▄▄▄▃▂▃▂▂▄▃▆▆▅▇▅▆▄█▄▂▄▄▄▄▅▅▅▅▁▇▆▆▇▇▅▅</td></tr><tr><td>seed_123_episode</td><td>▁▁▁▂▂▂▂▂▂▂▃▃▃▃▃▄▄▄▅▅▅▅▅▅▅▅▆▆▆▆▆▆▆▆▆▆▇▇▇█</td></tr><tr><td>seed_123_reward</td><td>▁▁▃▃▅▄▅▂▂█▂▂▂▂█▂▂▂▅▂▅▂▅▃▂▂▄▄▂▄▅▅▃▇▅▂▄▂▂▆</td></tr><tr><td>seed_42_episode</td><td>▁▁▁▁▂▂▃▃▃▃▃▃▃▃▃▄▄▅▅▅▅▅▅▅▅▆▆▆▆▆▆▆▆▇▇▇▇▇▇█</td></tr><tr><td>seed_42_reward</td><td>▁▁▁▃▂▃▄▂▄▃▃▂▃▃▄▃▂▄▅▆▅█▃▃▃▃▃▃▄▄▃▅▅▃▂▆▄▃▄▁</td></tr><tr><td>seed_456_episode</td><td>▁▁▁▁▁▂▂▂▂▂▂▂▃▃▃▃▃▄▄▄▄▅▅▅▅▅▅▅▆▆▆▆▇▇▇▇▇▇▇█</td></tr><tr><td>seed_456_reward</td><td>▁▁▃▃▃▃▁▄▃▆▃▆▃▂▁▄▁▅▄▆▆▄▂▄█▃▄▅▆▅▁▄▇▄▁▂▄▄▄▃</td></tr><tr><td>seed_789_episode</td><td>▁▁▁▂▂▂▂▂▂▃▃▃▃▃▄▄▄▅▅▅▅▅▅▅▅▆▆▆▆▆▆▆▆▆▇▇▇▇▇█</td></tr><tr><td>seed_789_reward</td><td>▁▆▃▂▅▃▄▇▄▄▄▆▅▅▅▅▅▆▅▅▅▅▅▅▅▃▅▂▅▆▄▅▆▄▅█▅▅▄▄</td></tr></table><br/></div><div class=\"wandb-col\"><h3>Run summary:</h3><br/><table class=\"wandb\"><tr><td>average_reward_across_seeds</td><td>152.32</td></tr><tr><td>seed_101_episode</td><td>999</td></tr><tr><td>seed_101_reward</td><td>135</td></tr><tr><td>seed_123_episode</td><td>999</td></tr><tr><td>seed_123_reward</td><td>257</td></tr><tr><td>seed_42_episode</td><td>999</td></tr><tr><td>seed_42_reward</td><td>188</td></tr><tr><td>seed_456_episode</td><td>999</td></tr><tr><td>seed_456_reward</td><td>163</td></tr><tr><td>seed_789_episode</td><td>999</td></tr><tr><td>seed_789_reward</td><td>115</td></tr></table><br/></div></div>"
            ]
          },
          "metadata": {}
        },
        {
          "output_type": "display_data",
          "data": {
            "text/plain": [
              "<IPython.core.display.HTML object>"
            ],
            "text/html": [
              " View run <strong style=\"color:#cdcd00\">silvery-sweep-17</strong> at: <a href='https://wandb.ai/abhijithvinod-indian-institue-of-technology-madras/RL_CartPole_QLearning/runs/eyrkvs1j' target=\"_blank\">https://wandb.ai/abhijithvinod-indian-institue-of-technology-madras/RL_CartPole_QLearning/runs/eyrkvs1j</a><br> View project at: <a href='https://wandb.ai/abhijithvinod-indian-institue-of-technology-madras/RL_CartPole_QLearning' target=\"_blank\">https://wandb.ai/abhijithvinod-indian-institue-of-technology-madras/RL_CartPole_QLearning</a><br>Synced 5 W&B file(s), 0 media file(s), 0 artifact file(s) and 0 other file(s)"
            ]
          },
          "metadata": {}
        },
        {
          "output_type": "display_data",
          "data": {
            "text/plain": [
              "<IPython.core.display.HTML object>"
            ],
            "text/html": [
              "Find logs at: <code>./wandb/run-20250331_152123-eyrkvs1j/logs</code>"
            ]
          },
          "metadata": {}
        },
        {
          "output_type": "stream",
          "name": "stderr",
          "text": [
            "\u001b[34m\u001b[1mwandb\u001b[0m: Agent Starting Run: 069c27em with config:\n",
            "\u001b[34m\u001b[1mwandb\u001b[0m: \talpha: 0.34777063004694847\n",
            "\u001b[34m\u001b[1mwandb\u001b[0m: \tgamma: 0.99\n",
            "\u001b[34m\u001b[1mwandb\u001b[0m: \tn_bins: 15\n",
            "\u001b[34m\u001b[1mwandb\u001b[0m: \tn_episodes: 1000\n",
            "\u001b[34m\u001b[1mwandb\u001b[0m: \tseed: 789\n",
            "\u001b[34m\u001b[1mwandb\u001b[0m: \ttemperature: 1.7747857705186434\n"
          ]
        },
        {
          "output_type": "display_data",
          "data": {
            "text/plain": [
              "<IPython.core.display.HTML object>"
            ],
            "text/html": [
              "Tracking run with wandb version 0.19.8"
            ]
          },
          "metadata": {}
        },
        {
          "output_type": "display_data",
          "data": {
            "text/plain": [
              "<IPython.core.display.HTML object>"
            ],
            "text/html": [
              "Run data is saved locally in <code>/content/wandb/run-20250331_152315-069c27em</code>"
            ]
          },
          "metadata": {}
        },
        {
          "output_type": "display_data",
          "data": {
            "text/plain": [
              "<IPython.core.display.HTML object>"
            ],
            "text/html": [
              "Syncing run <strong><a href='https://wandb.ai/abhijithvinod-indian-institue-of-technology-madras/RL_CartPole_QLearning/runs/069c27em' target=\"_blank\">fresh-sweep-18</a></strong> to <a href='https://wandb.ai/abhijithvinod-indian-institue-of-technology-madras/RL_CartPole_QLearning' target=\"_blank\">Weights & Biases</a> (<a href='https://wandb.me/developer-guide' target=\"_blank\">docs</a>)<br>Sweep page: <a href='https://wandb.ai/abhijithvinod-indian-institue-of-technology-madras/RL_CartPole_QLearning/sweeps/kreeqo81' target=\"_blank\">https://wandb.ai/abhijithvinod-indian-institue-of-technology-madras/RL_CartPole_QLearning/sweeps/kreeqo81</a>"
            ]
          },
          "metadata": {}
        },
        {
          "output_type": "display_data",
          "data": {
            "text/plain": [
              "<IPython.core.display.HTML object>"
            ],
            "text/html": [
              " View project at <a href='https://wandb.ai/abhijithvinod-indian-institue-of-technology-madras/RL_CartPole_QLearning' target=\"_blank\">https://wandb.ai/abhijithvinod-indian-institue-of-technology-madras/RL_CartPole_QLearning</a>"
            ]
          },
          "metadata": {}
        },
        {
          "output_type": "display_data",
          "data": {
            "text/plain": [
              "<IPython.core.display.HTML object>"
            ],
            "text/html": [
              " View sweep at <a href='https://wandb.ai/abhijithvinod-indian-institue-of-technology-madras/RL_CartPole_QLearning/sweeps/kreeqo81' target=\"_blank\">https://wandb.ai/abhijithvinod-indian-institue-of-technology-madras/RL_CartPole_QLearning/sweeps/kreeqo81</a>"
            ]
          },
          "metadata": {}
        },
        {
          "output_type": "display_data",
          "data": {
            "text/plain": [
              "<IPython.core.display.HTML object>"
            ],
            "text/html": [
              " View run at <a href='https://wandb.ai/abhijithvinod-indian-institue-of-technology-madras/RL_CartPole_QLearning/runs/069c27em' target=\"_blank\">https://wandb.ai/abhijithvinod-indian-institue-of-technology-madras/RL_CartPole_QLearning/runs/069c27em</a>"
            ]
          },
          "metadata": {}
        },
        {
          "output_type": "display_data",
          "data": {
            "text/plain": [
              "<IPython.core.display.HTML object>"
            ],
            "text/html": []
          },
          "metadata": {}
        },
        {
          "output_type": "display_data",
          "data": {
            "text/plain": [
              "<IPython.core.display.HTML object>"
            ],
            "text/html": [
              "<br>    <style><br>        .wandb-row {<br>            display: flex;<br>            flex-direction: row;<br>            flex-wrap: wrap;<br>            justify-content: flex-start;<br>            width: 100%;<br>        }<br>        .wandb-col {<br>            display: flex;<br>            flex-direction: column;<br>            flex-basis: 100%;<br>            flex: 1;<br>            padding: 10px;<br>        }<br>    </style><br><div class=\"wandb-row\"><div class=\"wandb-col\"><h3>Run history:</h3><br/><table class=\"wandb\"><tr><td>average_reward_across_seeds</td><td>▁</td></tr><tr><td>seed_101_episode</td><td>▁▁▁▁▂▂▂▂▃▃▃▃▃▃▄▄▄▄▄▄▅▅▅▅▅▆▆▆▆▆▇▇▇▇▇▇████</td></tr><tr><td>seed_101_reward</td><td>▂▁▃▁▂▃▄▃▇▆▄▄▂▃▂▇▆▆▅▄▆▃▃▃▁█▅▆▂▃▃▆▄▃▆▆▆▅▁▇</td></tr><tr><td>seed_123_episode</td><td>▁▁▁▂▂▂▂▂▃▃▃▃▃▃▄▄▄▄▄▄▄▄▄▄▅▅▅▆▆▆▆▆▆▇▇▇▇███</td></tr><tr><td>seed_123_reward</td><td>▁▁▂▂▃▂▃▄▃▃▅▂▃▃▃▅▃▃▃▄▄▅▄▄▃▄▄▃█▂▃▃▄█▃▄▄▃▃▄</td></tr><tr><td>seed_42_episode</td><td>▁▁▂▂▂▂▂▂▂▂▂▂▂▃▃▃▃▄▄▄▅▅▅▅▅▆▆▆▆▆▇▇▇▇▇█████</td></tr><tr><td>seed_42_reward</td><td>▁▁▁▁▂▂▂▃█▃▄▂▇▃▃▄▃▃▃▃▃▃▃▅▃▃▃▃▃▃▃▃▃▃▃▄▄▃▃▃</td></tr><tr><td>seed_456_episode</td><td>▁▁▁▁▁▂▂▃▃▃▃▃▃▃▃▃▃▃▄▄▄▄▄▄▅▅▅▅▆▆▆▇▇▇▇▇▇███</td></tr><tr><td>seed_456_reward</td><td>▁▁▁▃▁▂▃▄▃▄▃▄▂▄▁▄▄█▄▂▁▄▄▄▆▃▆▃▂▅▅▅▂▂▄▃▁▄▅▁</td></tr><tr><td>seed_789_episode</td><td>▁▁▁▁▁▂▂▂▂▂▂▂▃▃▃▃▃▃▃▄▄▄▄▄▄▅▅▅▅▅▆▆▆▆▆▇▇▇▇█</td></tr><tr><td>seed_789_reward</td><td>▂▁▃▁▂▂▃▂▄▄▃█▂▄▄▃▄▆▅▄▇▄▃▃▃▃▄▄▃▅▄▄▃▃▄▄▃▃▃▅</td></tr></table><br/></div><div class=\"wandb-col\"><h3>Run summary:</h3><br/><table class=\"wandb\"><tr><td>average_reward_across_seeds</td><td>197.752</td></tr><tr><td>seed_101_episode</td><td>999</td></tr><tr><td>seed_101_reward</td><td>356</td></tr><tr><td>seed_123_episode</td><td>999</td></tr><tr><td>seed_123_reward</td><td>428</td></tr><tr><td>seed_42_episode</td><td>999</td></tr><tr><td>seed_42_reward</td><td>150</td></tr><tr><td>seed_456_episode</td><td>999</td></tr><tr><td>seed_456_reward</td><td>200</td></tr><tr><td>seed_789_episode</td><td>999</td></tr><tr><td>seed_789_reward</td><td>136</td></tr></table><br/></div></div>"
            ]
          },
          "metadata": {}
        },
        {
          "output_type": "display_data",
          "data": {
            "text/plain": [
              "<IPython.core.display.HTML object>"
            ],
            "text/html": [
              " View run <strong style=\"color:#cdcd00\">fresh-sweep-18</strong> at: <a href='https://wandb.ai/abhijithvinod-indian-institue-of-technology-madras/RL_CartPole_QLearning/runs/069c27em' target=\"_blank\">https://wandb.ai/abhijithvinod-indian-institue-of-technology-madras/RL_CartPole_QLearning/runs/069c27em</a><br> View project at: <a href='https://wandb.ai/abhijithvinod-indian-institue-of-technology-madras/RL_CartPole_QLearning' target=\"_blank\">https://wandb.ai/abhijithvinod-indian-institue-of-technology-madras/RL_CartPole_QLearning</a><br>Synced 5 W&B file(s), 0 media file(s), 0 artifact file(s) and 0 other file(s)"
            ]
          },
          "metadata": {}
        },
        {
          "output_type": "display_data",
          "data": {
            "text/plain": [
              "<IPython.core.display.HTML object>"
            ],
            "text/html": [
              "Find logs at: <code>./wandb/run-20250331_152315-069c27em/logs</code>"
            ]
          },
          "metadata": {}
        },
        {
          "output_type": "stream",
          "name": "stderr",
          "text": [
            "\u001b[34m\u001b[1mwandb\u001b[0m: Agent Starting Run: 1cigmz5a with config:\n",
            "\u001b[34m\u001b[1mwandb\u001b[0m: \talpha: 0.48213931162854623\n",
            "\u001b[34m\u001b[1mwandb\u001b[0m: \tgamma: 0.99\n",
            "\u001b[34m\u001b[1mwandb\u001b[0m: \tn_bins: 10\n",
            "\u001b[34m\u001b[1mwandb\u001b[0m: \tn_episodes: 1000\n",
            "\u001b[34m\u001b[1mwandb\u001b[0m: \tseed: 101\n",
            "\u001b[34m\u001b[1mwandb\u001b[0m: \ttemperature: 1.1380605315964518\n"
          ]
        },
        {
          "output_type": "display_data",
          "data": {
            "text/plain": [
              "<IPython.core.display.HTML object>"
            ],
            "text/html": [
              "Tracking run with wandb version 0.19.8"
            ]
          },
          "metadata": {}
        },
        {
          "output_type": "display_data",
          "data": {
            "text/plain": [
              "<IPython.core.display.HTML object>"
            ],
            "text/html": [
              "Run data is saved locally in <code>/content/wandb/run-20250331_152538-1cigmz5a</code>"
            ]
          },
          "metadata": {}
        },
        {
          "output_type": "display_data",
          "data": {
            "text/plain": [
              "<IPython.core.display.HTML object>"
            ],
            "text/html": [
              "Syncing run <strong><a href='https://wandb.ai/abhijithvinod-indian-institue-of-technology-madras/RL_CartPole_QLearning/runs/1cigmz5a' target=\"_blank\">feasible-sweep-19</a></strong> to <a href='https://wandb.ai/abhijithvinod-indian-institue-of-technology-madras/RL_CartPole_QLearning' target=\"_blank\">Weights & Biases</a> (<a href='https://wandb.me/developer-guide' target=\"_blank\">docs</a>)<br>Sweep page: <a href='https://wandb.ai/abhijithvinod-indian-institue-of-technology-madras/RL_CartPole_QLearning/sweeps/kreeqo81' target=\"_blank\">https://wandb.ai/abhijithvinod-indian-institue-of-technology-madras/RL_CartPole_QLearning/sweeps/kreeqo81</a>"
            ]
          },
          "metadata": {}
        },
        {
          "output_type": "display_data",
          "data": {
            "text/plain": [
              "<IPython.core.display.HTML object>"
            ],
            "text/html": [
              " View project at <a href='https://wandb.ai/abhijithvinod-indian-institue-of-technology-madras/RL_CartPole_QLearning' target=\"_blank\">https://wandb.ai/abhijithvinod-indian-institue-of-technology-madras/RL_CartPole_QLearning</a>"
            ]
          },
          "metadata": {}
        },
        {
          "output_type": "display_data",
          "data": {
            "text/plain": [
              "<IPython.core.display.HTML object>"
            ],
            "text/html": [
              " View sweep at <a href='https://wandb.ai/abhijithvinod-indian-institue-of-technology-madras/RL_CartPole_QLearning/sweeps/kreeqo81' target=\"_blank\">https://wandb.ai/abhijithvinod-indian-institue-of-technology-madras/RL_CartPole_QLearning/sweeps/kreeqo81</a>"
            ]
          },
          "metadata": {}
        },
        {
          "output_type": "display_data",
          "data": {
            "text/plain": [
              "<IPython.core.display.HTML object>"
            ],
            "text/html": [
              " View run at <a href='https://wandb.ai/abhijithvinod-indian-institue-of-technology-madras/RL_CartPole_QLearning/runs/1cigmz5a' target=\"_blank\">https://wandb.ai/abhijithvinod-indian-institue-of-technology-madras/RL_CartPole_QLearning/runs/1cigmz5a</a>"
            ]
          },
          "metadata": {}
        },
        {
          "output_type": "display_data",
          "data": {
            "text/plain": [
              "<IPython.core.display.HTML object>"
            ],
            "text/html": []
          },
          "metadata": {}
        },
        {
          "output_type": "display_data",
          "data": {
            "text/plain": [
              "<IPython.core.display.HTML object>"
            ],
            "text/html": [
              "<br>    <style><br>        .wandb-row {<br>            display: flex;<br>            flex-direction: row;<br>            flex-wrap: wrap;<br>            justify-content: flex-start;<br>            width: 100%;<br>        }<br>        .wandb-col {<br>            display: flex;<br>            flex-direction: column;<br>            flex-basis: 100%;<br>            flex: 1;<br>            padding: 10px;<br>        }<br>    </style><br><div class=\"wandb-row\"><div class=\"wandb-col\"><h3>Run history:</h3><br/><table class=\"wandb\"><tr><td>average_reward_across_seeds</td><td>▁</td></tr><tr><td>seed_101_episode</td><td>▁▁▂▂▂▂▂▂▂▂▃▃▃▃▄▄▄▄▄▄▅▅▅▅▆▆▆▆▆▆▇▇▇▇▇█████</td></tr><tr><td>seed_101_reward</td><td>▁▂▃▅▄▂▅▅▅▄▅▅▅▄▅▅▅▅▆▇▆▇▇▆▆▅▆▆█▅▄▇▆▇█▆▆▆█▃</td></tr><tr><td>seed_123_episode</td><td>▁▁▁▂▂▂▂▂▂▂▂▃▃▃▃▃▃▃▃▄▄▄▄▄▄▄▅▅▅▅▆▆▆▆▆▆▇▇██</td></tr><tr><td>seed_123_reward</td><td>▁▂▁▄█▂▃▃▄▅▄▄▄▄▂▆▄▅▄▄▅▅█▅▅▅▄▅▅▅▄▅▅▅▅▆▅▅▄▄</td></tr><tr><td>seed_42_episode</td><td>▁▁▁▁▁▁▁▁▂▂▂▂▃▃▃▃▃▄▄▄▄▅▅▅▅▅▆▆▆▆▆▆▆▇▇▇▇▇██</td></tr><tr><td>seed_42_reward</td><td>▁▁▂▃▃▃▄▃▅▅▃▃▃▃▃█▃▄▆▃▆▄▇▃▃▄▃▃▃█▄▃▄▄▆▄▇▅▄█</td></tr><tr><td>seed_456_episode</td><td>▁▁▁▁▁▂▂▂▂▂▂▃▃▃▃▄▄▄▄▄▅▅▅▅▅▆▆▆▆▆▇▇▇▇▇▇████</td></tr><tr><td>seed_456_reward</td><td>▂▅▁▁▁▃▂▄▃▅▅▅▃▅▄▄▆▂▅▂█▇▄▇▇▂▂▄███▃█▄▇▃█▃█▂</td></tr><tr><td>seed_789_episode</td><td>▁▁▁▂▂▂▃▃▃▃▃▃▃▄▄▄▄▄▅▅▅▅▆▆▆▆▆▆▇▇▇▇▇▇▇▇████</td></tr><tr><td>seed_789_reward</td><td>▁▁▁▃▃▅▅▃▄▄▅▇▇▇▇▆▇▇▇▇▆▇▇▇▇▆▇█▇▇▇▇█▇█▇▇▇▇▇</td></tr></table><br/></div><div class=\"wandb-col\"><h3>Run summary:</h3><br/><table class=\"wandb\"><tr><td>average_reward_across_seeds</td><td>128.068</td></tr><tr><td>seed_101_episode</td><td>999</td></tr><tr><td>seed_101_reward</td><td>249</td></tr><tr><td>seed_123_episode</td><td>999</td></tr><tr><td>seed_123_reward</td><td>237</td></tr><tr><td>seed_42_episode</td><td>999</td></tr><tr><td>seed_42_reward</td><td>58</td></tr><tr><td>seed_456_episode</td><td>999</td></tr><tr><td>seed_456_reward</td><td>28</td></tr><tr><td>seed_789_episode</td><td>999</td></tr><tr><td>seed_789_reward</td><td>103</td></tr></table><br/></div></div>"
            ]
          },
          "metadata": {}
        },
        {
          "output_type": "display_data",
          "data": {
            "text/plain": [
              "<IPython.core.display.HTML object>"
            ],
            "text/html": [
              " View run <strong style=\"color:#cdcd00\">feasible-sweep-19</strong> at: <a href='https://wandb.ai/abhijithvinod-indian-institue-of-technology-madras/RL_CartPole_QLearning/runs/1cigmz5a' target=\"_blank\">https://wandb.ai/abhijithvinod-indian-institue-of-technology-madras/RL_CartPole_QLearning/runs/1cigmz5a</a><br> View project at: <a href='https://wandb.ai/abhijithvinod-indian-institue-of-technology-madras/RL_CartPole_QLearning' target=\"_blank\">https://wandb.ai/abhijithvinod-indian-institue-of-technology-madras/RL_CartPole_QLearning</a><br>Synced 5 W&B file(s), 0 media file(s), 0 artifact file(s) and 0 other file(s)"
            ]
          },
          "metadata": {}
        },
        {
          "output_type": "display_data",
          "data": {
            "text/plain": [
              "<IPython.core.display.HTML object>"
            ],
            "text/html": [
              "Find logs at: <code>./wandb/run-20250331_152538-1cigmz5a/logs</code>"
            ]
          },
          "metadata": {}
        },
        {
          "output_type": "stream",
          "name": "stderr",
          "text": [
            "\u001b[34m\u001b[1mwandb\u001b[0m: Agent Starting Run: oprnk0hq with config:\n",
            "\u001b[34m\u001b[1mwandb\u001b[0m: \talpha: 0.41572333392336647\n",
            "\u001b[34m\u001b[1mwandb\u001b[0m: \tgamma: 0.99\n",
            "\u001b[34m\u001b[1mwandb\u001b[0m: \tn_bins: 20\n",
            "\u001b[34m\u001b[1mwandb\u001b[0m: \tn_episodes: 1000\n",
            "\u001b[34m\u001b[1mwandb\u001b[0m: \tseed: 123\n",
            "\u001b[34m\u001b[1mwandb\u001b[0m: \ttemperature: 0.18223575762639305\n"
          ]
        },
        {
          "output_type": "display_data",
          "data": {
            "text/plain": [
              "<IPython.core.display.HTML object>"
            ],
            "text/html": [
              "Tracking run with wandb version 0.19.8"
            ]
          },
          "metadata": {}
        },
        {
          "output_type": "display_data",
          "data": {
            "text/plain": [
              "<IPython.core.display.HTML object>"
            ],
            "text/html": [
              "Run data is saved locally in <code>/content/wandb/run-20250331_152715-oprnk0hq</code>"
            ]
          },
          "metadata": {}
        },
        {
          "output_type": "display_data",
          "data": {
            "text/plain": [
              "<IPython.core.display.HTML object>"
            ],
            "text/html": [
              "Syncing run <strong><a href='https://wandb.ai/abhijithvinod-indian-institue-of-technology-madras/RL_CartPole_QLearning/runs/oprnk0hq' target=\"_blank\">autumn-sweep-20</a></strong> to <a href='https://wandb.ai/abhijithvinod-indian-institue-of-technology-madras/RL_CartPole_QLearning' target=\"_blank\">Weights & Biases</a> (<a href='https://wandb.me/developer-guide' target=\"_blank\">docs</a>)<br>Sweep page: <a href='https://wandb.ai/abhijithvinod-indian-institue-of-technology-madras/RL_CartPole_QLearning/sweeps/kreeqo81' target=\"_blank\">https://wandb.ai/abhijithvinod-indian-institue-of-technology-madras/RL_CartPole_QLearning/sweeps/kreeqo81</a>"
            ]
          },
          "metadata": {}
        },
        {
          "output_type": "display_data",
          "data": {
            "text/plain": [
              "<IPython.core.display.HTML object>"
            ],
            "text/html": [
              " View project at <a href='https://wandb.ai/abhijithvinod-indian-institue-of-technology-madras/RL_CartPole_QLearning' target=\"_blank\">https://wandb.ai/abhijithvinod-indian-institue-of-technology-madras/RL_CartPole_QLearning</a>"
            ]
          },
          "metadata": {}
        },
        {
          "output_type": "display_data",
          "data": {
            "text/plain": [
              "<IPython.core.display.HTML object>"
            ],
            "text/html": [
              " View sweep at <a href='https://wandb.ai/abhijithvinod-indian-institue-of-technology-madras/RL_CartPole_QLearning/sweeps/kreeqo81' target=\"_blank\">https://wandb.ai/abhijithvinod-indian-institue-of-technology-madras/RL_CartPole_QLearning/sweeps/kreeqo81</a>"
            ]
          },
          "metadata": {}
        },
        {
          "output_type": "display_data",
          "data": {
            "text/plain": [
              "<IPython.core.display.HTML object>"
            ],
            "text/html": [
              " View run at <a href='https://wandb.ai/abhijithvinod-indian-institue-of-technology-madras/RL_CartPole_QLearning/runs/oprnk0hq' target=\"_blank\">https://wandb.ai/abhijithvinod-indian-institue-of-technology-madras/RL_CartPole_QLearning/runs/oprnk0hq</a>"
            ]
          },
          "metadata": {}
        },
        {
          "output_type": "display_data",
          "data": {
            "text/plain": [
              "<IPython.core.display.HTML object>"
            ],
            "text/html": []
          },
          "metadata": {}
        },
        {
          "output_type": "display_data",
          "data": {
            "text/plain": [
              "<IPython.core.display.HTML object>"
            ],
            "text/html": [
              "<br>    <style><br>        .wandb-row {<br>            display: flex;<br>            flex-direction: row;<br>            flex-wrap: wrap;<br>            justify-content: flex-start;<br>            width: 100%;<br>        }<br>        .wandb-col {<br>            display: flex;<br>            flex-direction: column;<br>            flex-basis: 100%;<br>            flex: 1;<br>            padding: 10px;<br>        }<br>    </style><br><div class=\"wandb-row\"><div class=\"wandb-col\"><h3>Run history:</h3><br/><table class=\"wandb\"><tr><td>average_reward_across_seeds</td><td>▁</td></tr><tr><td>seed_101_episode</td><td>▁▁▁▁▁▂▂▂▂▂▂▂▂▃▃▃▃▃▃▃▄▄▄▄▄▄▄▅▅▅▅▆▆▆▆▆▆▇██</td></tr><tr><td>seed_101_reward</td><td>▁▂▁▂▂▂▁▁▃▂▂▂█▃▂▂▃▁▂▁▁▂▁▂▂▂▂▁▁▂▁▁▁▁▁▃▂▃▁▂</td></tr><tr><td>seed_123_episode</td><td>▁▁▁▁▂▂▂▂▂▂▂▂▃▃▃▃▃▃▃▄▄▄▄▄▄▅▅▅▅▅▆▆▆▇▇▇▇▇██</td></tr><tr><td>seed_123_reward</td><td>▁▂▂▂▁▄▂█▁▂▂▁▂▄▃▇▂▂▄▃█▅▂▃▁▂▃▁▂▃▁▂▁▁▂▁▁▇▁▂</td></tr><tr><td>seed_42_episode</td><td>▁▁▁▂▂▂▂▂▂▃▃▃▃▃▃▄▄▄▄▅▅▅▅▅▅▆▆▆▇▇▇▇▇▇▇▇████</td></tr><tr><td>seed_42_reward</td><td>▂▂▁▆▄▄▃▂▂▄▄▁▄▃▂▂▂▄▂▅▅▅▃▂▆▃▁▂▄▁▅▃▂▂▂▅▄▄▃█</td></tr><tr><td>seed_456_episode</td><td>▁▁▁▂▂▂▂▂▂▂▃▃▃▃▄▄▅▅▅▅▅▅▅▅▆▆▆▆▆▆▇▇▇▇▇▇▇▇██</td></tr><tr><td>seed_456_reward</td><td>▁▃▃▃▃▁▄▃▄▄▁▅▂▂▅▃▅▂▃█▁▇▁▆▂▃▁▅▁▄▅▂▂▇█▃▁▃▃▂</td></tr><tr><td>seed_789_episode</td><td>▁▁▁▁▁▁▂▂▂▂▂▃▃▃▃▄▄▄▄▄▄▄▄▅▅▆▆▆▆▆▆▆▆▇▇▇▇▇██</td></tr><tr><td>seed_789_reward</td><td>▂▂▁▂▅▃▂▂▂▂▂▄▄▅▂▄█▂▃▂▅▂▂▃▁▃▁▃▂▃▄▃▃▄▃▂▃▁▂▂</td></tr></table><br/></div><div class=\"wandb-col\"><h3>Run summary:</h3><br/><table class=\"wandb\"><tr><td>average_reward_across_seeds</td><td>25.42</td></tr><tr><td>seed_101_episode</td><td>999</td></tr><tr><td>seed_101_reward</td><td>18</td></tr><tr><td>seed_123_episode</td><td>999</td></tr><tr><td>seed_123_reward</td><td>21</td></tr><tr><td>seed_42_episode</td><td>999</td></tr><tr><td>seed_42_reward</td><td>19</td></tr><tr><td>seed_456_episode</td><td>999</td></tr><tr><td>seed_456_reward</td><td>67</td></tr><tr><td>seed_789_episode</td><td>999</td></tr><tr><td>seed_789_reward</td><td>22</td></tr></table><br/></div></div>"
            ]
          },
          "metadata": {}
        },
        {
          "output_type": "display_data",
          "data": {
            "text/plain": [
              "<IPython.core.display.HTML object>"
            ],
            "text/html": [
              " View run <strong style=\"color:#cdcd00\">autumn-sweep-20</strong> at: <a href='https://wandb.ai/abhijithvinod-indian-institue-of-technology-madras/RL_CartPole_QLearning/runs/oprnk0hq' target=\"_blank\">https://wandb.ai/abhijithvinod-indian-institue-of-technology-madras/RL_CartPole_QLearning/runs/oprnk0hq</a><br> View project at: <a href='https://wandb.ai/abhijithvinod-indian-institue-of-technology-madras/RL_CartPole_QLearning' target=\"_blank\">https://wandb.ai/abhijithvinod-indian-institue-of-technology-madras/RL_CartPole_QLearning</a><br>Synced 5 W&B file(s), 0 media file(s), 0 artifact file(s) and 0 other file(s)"
            ]
          },
          "metadata": {}
        },
        {
          "output_type": "display_data",
          "data": {
            "text/plain": [
              "<IPython.core.display.HTML object>"
            ],
            "text/html": [
              "Find logs at: <code>./wandb/run-20250331_152715-oprnk0hq/logs</code>"
            ]
          },
          "metadata": {}
        },
        {
          "output_type": "stream",
          "name": "stderr",
          "text": [
            "\u001b[34m\u001b[1mwandb\u001b[0m: Sweep Agent: Waiting for job.\n",
            "\u001b[34m\u001b[1mwandb\u001b[0m: Job received.\n",
            "\u001b[34m\u001b[1mwandb\u001b[0m: Agent Starting Run: 93qce5b3 with config:\n",
            "\u001b[34m\u001b[1mwandb\u001b[0m: \talpha: 0.31053236216600677\n",
            "\u001b[34m\u001b[1mwandb\u001b[0m: \tgamma: 0.99\n",
            "\u001b[34m\u001b[1mwandb\u001b[0m: \tn_bins: 10\n",
            "\u001b[34m\u001b[1mwandb\u001b[0m: \tn_episodes: 1000\n",
            "\u001b[34m\u001b[1mwandb\u001b[0m: \tseed: 456\n",
            "\u001b[34m\u001b[1mwandb\u001b[0m: \ttemperature: 1.0909228416110373\n"
          ]
        },
        {
          "output_type": "display_data",
          "data": {
            "text/plain": [
              "<IPython.core.display.HTML object>"
            ],
            "text/html": [
              "Tracking run with wandb version 0.19.8"
            ]
          },
          "metadata": {}
        },
        {
          "output_type": "display_data",
          "data": {
            "text/plain": [
              "<IPython.core.display.HTML object>"
            ],
            "text/html": [
              "Run data is saved locally in <code>/content/wandb/run-20250331_152752-93qce5b3</code>"
            ]
          },
          "metadata": {}
        },
        {
          "output_type": "display_data",
          "data": {
            "text/plain": [
              "<IPython.core.display.HTML object>"
            ],
            "text/html": [
              "Syncing run <strong><a href='https://wandb.ai/abhijithvinod-indian-institue-of-technology-madras/RL_CartPole_QLearning/runs/93qce5b3' target=\"_blank\">fresh-sweep-21</a></strong> to <a href='https://wandb.ai/abhijithvinod-indian-institue-of-technology-madras/RL_CartPole_QLearning' target=\"_blank\">Weights & Biases</a> (<a href='https://wandb.me/developer-guide' target=\"_blank\">docs</a>)<br>Sweep page: <a href='https://wandb.ai/abhijithvinod-indian-institue-of-technology-madras/RL_CartPole_QLearning/sweeps/kreeqo81' target=\"_blank\">https://wandb.ai/abhijithvinod-indian-institue-of-technology-madras/RL_CartPole_QLearning/sweeps/kreeqo81</a>"
            ]
          },
          "metadata": {}
        },
        {
          "output_type": "display_data",
          "data": {
            "text/plain": [
              "<IPython.core.display.HTML object>"
            ],
            "text/html": [
              " View project at <a href='https://wandb.ai/abhijithvinod-indian-institue-of-technology-madras/RL_CartPole_QLearning' target=\"_blank\">https://wandb.ai/abhijithvinod-indian-institue-of-technology-madras/RL_CartPole_QLearning</a>"
            ]
          },
          "metadata": {}
        },
        {
          "output_type": "display_data",
          "data": {
            "text/plain": [
              "<IPython.core.display.HTML object>"
            ],
            "text/html": [
              " View sweep at <a href='https://wandb.ai/abhijithvinod-indian-institue-of-technology-madras/RL_CartPole_QLearning/sweeps/kreeqo81' target=\"_blank\">https://wandb.ai/abhijithvinod-indian-institue-of-technology-madras/RL_CartPole_QLearning/sweeps/kreeqo81</a>"
            ]
          },
          "metadata": {}
        },
        {
          "output_type": "display_data",
          "data": {
            "text/plain": [
              "<IPython.core.display.HTML object>"
            ],
            "text/html": [
              " View run at <a href='https://wandb.ai/abhijithvinod-indian-institue-of-technology-madras/RL_CartPole_QLearning/runs/93qce5b3' target=\"_blank\">https://wandb.ai/abhijithvinod-indian-institue-of-technology-madras/RL_CartPole_QLearning/runs/93qce5b3</a>"
            ]
          },
          "metadata": {}
        },
        {
          "output_type": "display_data",
          "data": {
            "text/plain": [
              "<IPython.core.display.HTML object>"
            ],
            "text/html": []
          },
          "metadata": {}
        },
        {
          "output_type": "display_data",
          "data": {
            "text/plain": [
              "<IPython.core.display.HTML object>"
            ],
            "text/html": [
              "<br>    <style><br>        .wandb-row {<br>            display: flex;<br>            flex-direction: row;<br>            flex-wrap: wrap;<br>            justify-content: flex-start;<br>            width: 100%;<br>        }<br>        .wandb-col {<br>            display: flex;<br>            flex-direction: column;<br>            flex-basis: 100%;<br>            flex: 1;<br>            padding: 10px;<br>        }<br>    </style><br><div class=\"wandb-row\"><div class=\"wandb-col\"><h3>Run history:</h3><br/><table class=\"wandb\"><tr><td>average_reward_across_seeds</td><td>▁</td></tr><tr><td>seed_101_episode</td><td>▁▁▁▂▂▂▂▂▂▂▃▃▃▃▃▃▄▄▄▄▅▅▅▅▅▅▆▆▆▆▆▆▆▆▇▇▇███</td></tr><tr><td>seed_101_reward</td><td>▁▃▄▄▅▄▄▄▅▁▅▃▆▅▆▆▄▄▆▆▂▅▆▅▇▄▆▇▆▅▆█▇▅▆█▇▆▄▆</td></tr><tr><td>seed_123_episode</td><td>▁▁▁▁▁▂▂▂▂▂▂▂▂▃▃▃▃▃▃▄▄▅▅▅▅▅▆▆▆▆▆▆▆▆▇▇████</td></tr><tr><td>seed_123_reward</td><td>▁▂▁▄▃▄▄▂▄▄▄▄▄▄▄▆▄▄▄▅▃▄▅▅▅▆▄▅▄▅▄▆█▅▄▇█▆▆▄</td></tr><tr><td>seed_42_episode</td><td>▁▁▁▁▂▃▃▃▃▃▃▄▄▄▄▄▄▅▅▅▅▅▅▆▆▆▆▆▆▆▇▇▇███████</td></tr><tr><td>seed_42_reward</td><td>▆▁▁▂▁▂▁▂▂▁▁▂▂▂▂▂▂▂▁▂▂▂▂▁▂▁▂▂▂▂▂▂▃▅▃▃▄█▆▅</td></tr><tr><td>seed_456_episode</td><td>▁▁▁▁▁▁▁▁▂▃▃▃▃▃▃▄▄▄▄▄▄▄▅▅▅▆▆▆▆▆▇▇▇▇▇▇▇███</td></tr><tr><td>seed_456_reward</td><td>▃▁▁▂▁▃▂▄▂▂▃▃▄▃▂▃▂▂▂▄▂▇▃▄▄▂▁▂▂▂▁▂█▂▂▂▂▁▃▂</td></tr><tr><td>seed_789_episode</td><td>▁▁▁▂▂▂▂▂▃▃▄▄▄▄▄▄▄▄▅▅▅▅▅▅▅▆▆▆▆▇▇▇▇▇██████</td></tr><tr><td>seed_789_reward</td><td>▁▃▃▃▂▃▃▃▂▃▅▂▅▃▄▅▃▄▄▅▃▃▆▅▅▆▅▄▄▄▆▄▅▇▇█▅▄▅▅</td></tr></table><br/></div><div class=\"wandb-col\"><h3>Run summary:</h3><br/><table class=\"wandb\"><tr><td>average_reward_across_seeds</td><td>75.8</td></tr><tr><td>seed_101_episode</td><td>999</td></tr><tr><td>seed_101_reward</td><td>94</td></tr><tr><td>seed_123_episode</td><td>999</td></tr><tr><td>seed_123_reward</td><td>68</td></tr><tr><td>seed_42_episode</td><td>999</td></tr><tr><td>seed_42_reward</td><td>77</td></tr><tr><td>seed_456_episode</td><td>999</td></tr><tr><td>seed_456_reward</td><td>103</td></tr><tr><td>seed_789_episode</td><td>999</td></tr><tr><td>seed_789_reward</td><td>103</td></tr></table><br/></div></div>"
            ]
          },
          "metadata": {}
        },
        {
          "output_type": "display_data",
          "data": {
            "text/plain": [
              "<IPython.core.display.HTML object>"
            ],
            "text/html": [
              " View run <strong style=\"color:#cdcd00\">fresh-sweep-21</strong> at: <a href='https://wandb.ai/abhijithvinod-indian-institue-of-technology-madras/RL_CartPole_QLearning/runs/93qce5b3' target=\"_blank\">https://wandb.ai/abhijithvinod-indian-institue-of-technology-madras/RL_CartPole_QLearning/runs/93qce5b3</a><br> View project at: <a href='https://wandb.ai/abhijithvinod-indian-institue-of-technology-madras/RL_CartPole_QLearning' target=\"_blank\">https://wandb.ai/abhijithvinod-indian-institue-of-technology-madras/RL_CartPole_QLearning</a><br>Synced 5 W&B file(s), 0 media file(s), 0 artifact file(s) and 0 other file(s)"
            ]
          },
          "metadata": {}
        },
        {
          "output_type": "display_data",
          "data": {
            "text/plain": [
              "<IPython.core.display.HTML object>"
            ],
            "text/html": [
              "Find logs at: <code>./wandb/run-20250331_152752-93qce5b3/logs</code>"
            ]
          },
          "metadata": {}
        },
        {
          "output_type": "stream",
          "name": "stderr",
          "text": [
            "\u001b[34m\u001b[1mwandb\u001b[0m: Agent Starting Run: moupepjb with config:\n",
            "\u001b[34m\u001b[1mwandb\u001b[0m: \talpha: 0.12076396041988616\n",
            "\u001b[34m\u001b[1mwandb\u001b[0m: \tgamma: 0.99\n",
            "\u001b[34m\u001b[1mwandb\u001b[0m: \tn_bins: 20\n",
            "\u001b[34m\u001b[1mwandb\u001b[0m: \tn_episodes: 1000\n",
            "\u001b[34m\u001b[1mwandb\u001b[0m: \tseed: 456\n",
            "\u001b[34m\u001b[1mwandb\u001b[0m: \ttemperature: 1.8013764232782523\n"
          ]
        },
        {
          "output_type": "display_data",
          "data": {
            "text/plain": [
              "<IPython.core.display.HTML object>"
            ],
            "text/html": [
              "Tracking run with wandb version 0.19.8"
            ]
          },
          "metadata": {}
        },
        {
          "output_type": "display_data",
          "data": {
            "text/plain": [
              "<IPython.core.display.HTML object>"
            ],
            "text/html": [
              "Run data is saved locally in <code>/content/wandb/run-20250331_152848-moupepjb</code>"
            ]
          },
          "metadata": {}
        },
        {
          "output_type": "display_data",
          "data": {
            "text/plain": [
              "<IPython.core.display.HTML object>"
            ],
            "text/html": [
              "Syncing run <strong><a href='https://wandb.ai/abhijithvinod-indian-institue-of-technology-madras/RL_CartPole_QLearning/runs/moupepjb' target=\"_blank\">rural-sweep-22</a></strong> to <a href='https://wandb.ai/abhijithvinod-indian-institue-of-technology-madras/RL_CartPole_QLearning' target=\"_blank\">Weights & Biases</a> (<a href='https://wandb.me/developer-guide' target=\"_blank\">docs</a>)<br>Sweep page: <a href='https://wandb.ai/abhijithvinod-indian-institue-of-technology-madras/RL_CartPole_QLearning/sweeps/kreeqo81' target=\"_blank\">https://wandb.ai/abhijithvinod-indian-institue-of-technology-madras/RL_CartPole_QLearning/sweeps/kreeqo81</a>"
            ]
          },
          "metadata": {}
        },
        {
          "output_type": "display_data",
          "data": {
            "text/plain": [
              "<IPython.core.display.HTML object>"
            ],
            "text/html": [
              " View project at <a href='https://wandb.ai/abhijithvinod-indian-institue-of-technology-madras/RL_CartPole_QLearning' target=\"_blank\">https://wandb.ai/abhijithvinod-indian-institue-of-technology-madras/RL_CartPole_QLearning</a>"
            ]
          },
          "metadata": {}
        },
        {
          "output_type": "display_data",
          "data": {
            "text/plain": [
              "<IPython.core.display.HTML object>"
            ],
            "text/html": [
              " View sweep at <a href='https://wandb.ai/abhijithvinod-indian-institue-of-technology-madras/RL_CartPole_QLearning/sweeps/kreeqo81' target=\"_blank\">https://wandb.ai/abhijithvinod-indian-institue-of-technology-madras/RL_CartPole_QLearning/sweeps/kreeqo81</a>"
            ]
          },
          "metadata": {}
        },
        {
          "output_type": "display_data",
          "data": {
            "text/plain": [
              "<IPython.core.display.HTML object>"
            ],
            "text/html": [
              " View run at <a href='https://wandb.ai/abhijithvinod-indian-institue-of-technology-madras/RL_CartPole_QLearning/runs/moupepjb' target=\"_blank\">https://wandb.ai/abhijithvinod-indian-institue-of-technology-madras/RL_CartPole_QLearning/runs/moupepjb</a>"
            ]
          },
          "metadata": {}
        },
        {
          "output_type": "display_data",
          "data": {
            "text/plain": [
              "<IPython.core.display.HTML object>"
            ],
            "text/html": []
          },
          "metadata": {}
        },
        {
          "output_type": "display_data",
          "data": {
            "text/plain": [
              "<IPython.core.display.HTML object>"
            ],
            "text/html": [
              "<br>    <style><br>        .wandb-row {<br>            display: flex;<br>            flex-direction: row;<br>            flex-wrap: wrap;<br>            justify-content: flex-start;<br>            width: 100%;<br>        }<br>        .wandb-col {<br>            display: flex;<br>            flex-direction: column;<br>            flex-basis: 100%;<br>            flex: 1;<br>            padding: 10px;<br>        }<br>    </style><br><div class=\"wandb-row\"><div class=\"wandb-col\"><h3>Run history:</h3><br/><table class=\"wandb\"><tr><td>average_reward_across_seeds</td><td>▁</td></tr><tr><td>seed_101_episode</td><td>▁▁▁▁▂▃▃▃▃▃▃▃▃▄▄▄▄▄▄▅▅▅▅▅▅▆▆▆▆▆▇▇▇▇▇▇▇███</td></tr><tr><td>seed_101_reward</td><td>▁▁▁▁▂▁▁▁▁▂▅▄▅▅▃▅▅▆▅▅▄▄▅▅▆▅▅█▅██▃▆▆▇█▇▆▇▆</td></tr><tr><td>seed_123_episode</td><td>▁▂▂▂▂▃▃▃▃▄▄▄▄▄▄▅▅▅▅▅▅▆▆▆▆▆▆▇▇▇▇▇▇▇▇█████</td></tr><tr><td>seed_123_reward</td><td>▂▁▁▂▁▂▂▂▆▃▃▃▄▄▃▄▅▃▄▄▇▂▂▅▆█▅▆█▅▆▃▄▄▆▄▄▅▄▂</td></tr><tr><td>seed_42_episode</td><td>▁▁▁▂▂▂▂▂▃▃▃▃▃▃▄▄▄▄▄▄▅▅▅▅▅▆▆▆▆▇▇▇▇▇▇█████</td></tr><tr><td>seed_42_reward</td><td>▁▁▁▁▁▂▂▁▃▂▄▃▃▅▆▃▄▅▅▆▅▆▅▇▆▆▂▆▇▅▇▅▅██▇▇▆▅▇</td></tr><tr><td>seed_456_episode</td><td>▁▁▂▂▂▂▃▃▃▃▄▄▄▄▄▄▄▄▄▅▅▅▅▅▅▅▅▅▆▆▇▇▇▇▇▇▇███</td></tr><tr><td>seed_456_reward</td><td>▄▂▂▁▁▄▃▁▃▆▅▂▅▅▃▅▅▄▆▅▆▃▅▆▆▅▅▃▅▅▆▄██▆▆▅▇▇▆</td></tr><tr><td>seed_789_episode</td><td>▁▁▁▁▁▂▂▂▃▃▃▃▃▃▃▄▄▄▄▄▅▅▅▅▅▆▆▆▆▆▆▇▇▇▇▇████</td></tr><tr><td>seed_789_reward</td><td>▁▂▁▁▂▂▂▃▂▃▃▄▃▄▆▄▅▅▄▆▅▅▅▅▅▅▇▅▅▆▆▅▆▇█▆▆▇▇█</td></tr></table><br/></div><div class=\"wandb-col\"><h3>Run summary:</h3><br/><table class=\"wandb\"><tr><td>average_reward_across_seeds</td><td>183.208</td></tr><tr><td>seed_101_episode</td><td>999</td></tr><tr><td>seed_101_reward</td><td>114</td></tr><tr><td>seed_123_episode</td><td>999</td></tr><tr><td>seed_123_reward</td><td>139</td></tr><tr><td>seed_42_episode</td><td>999</td></tr><tr><td>seed_42_reward</td><td>201</td></tr><tr><td>seed_456_episode</td><td>999</td></tr><tr><td>seed_456_reward</td><td>153</td></tr><tr><td>seed_789_episode</td><td>999</td></tr><tr><td>seed_789_reward</td><td>142</td></tr></table><br/></div></div>"
            ]
          },
          "metadata": {}
        },
        {
          "output_type": "display_data",
          "data": {
            "text/plain": [
              "<IPython.core.display.HTML object>"
            ],
            "text/html": [
              " View run <strong style=\"color:#cdcd00\">rural-sweep-22</strong> at: <a href='https://wandb.ai/abhijithvinod-indian-institue-of-technology-madras/RL_CartPole_QLearning/runs/moupepjb' target=\"_blank\">https://wandb.ai/abhijithvinod-indian-institue-of-technology-madras/RL_CartPole_QLearning/runs/moupepjb</a><br> View project at: <a href='https://wandb.ai/abhijithvinod-indian-institue-of-technology-madras/RL_CartPole_QLearning' target=\"_blank\">https://wandb.ai/abhijithvinod-indian-institue-of-technology-madras/RL_CartPole_QLearning</a><br>Synced 5 W&B file(s), 0 media file(s), 0 artifact file(s) and 0 other file(s)"
            ]
          },
          "metadata": {}
        },
        {
          "output_type": "display_data",
          "data": {
            "text/plain": [
              "<IPython.core.display.HTML object>"
            ],
            "text/html": [
              "Find logs at: <code>./wandb/run-20250331_152848-moupepjb/logs</code>"
            ]
          },
          "metadata": {}
        },
        {
          "output_type": "stream",
          "name": "stderr",
          "text": [
            "\u001b[34m\u001b[1mwandb\u001b[0m: Agent Starting Run: wzm031j9 with config:\n",
            "\u001b[34m\u001b[1mwandb\u001b[0m: \talpha: 0.3642381172417675\n",
            "\u001b[34m\u001b[1mwandb\u001b[0m: \tgamma: 0.99\n",
            "\u001b[34m\u001b[1mwandb\u001b[0m: \tn_bins: 15\n",
            "\u001b[34m\u001b[1mwandb\u001b[0m: \tn_episodes: 1000\n",
            "\u001b[34m\u001b[1mwandb\u001b[0m: \tseed: 123\n",
            "\u001b[34m\u001b[1mwandb\u001b[0m: \ttemperature: 1.5064733102434136\n"
          ]
        },
        {
          "output_type": "display_data",
          "data": {
            "text/plain": [
              "<IPython.core.display.HTML object>"
            ],
            "text/html": [
              "Tracking run with wandb version 0.19.8"
            ]
          },
          "metadata": {}
        },
        {
          "output_type": "display_data",
          "data": {
            "text/plain": [
              "<IPython.core.display.HTML object>"
            ],
            "text/html": [
              "Run data is saved locally in <code>/content/wandb/run-20250331_153030-wzm031j9</code>"
            ]
          },
          "metadata": {}
        },
        {
          "output_type": "display_data",
          "data": {
            "text/plain": [
              "<IPython.core.display.HTML object>"
            ],
            "text/html": [
              "Syncing run <strong><a href='https://wandb.ai/abhijithvinod-indian-institue-of-technology-madras/RL_CartPole_QLearning/runs/wzm031j9' target=\"_blank\">whole-sweep-23</a></strong> to <a href='https://wandb.ai/abhijithvinod-indian-institue-of-technology-madras/RL_CartPole_QLearning' target=\"_blank\">Weights & Biases</a> (<a href='https://wandb.me/developer-guide' target=\"_blank\">docs</a>)<br>Sweep page: <a href='https://wandb.ai/abhijithvinod-indian-institue-of-technology-madras/RL_CartPole_QLearning/sweeps/kreeqo81' target=\"_blank\">https://wandb.ai/abhijithvinod-indian-institue-of-technology-madras/RL_CartPole_QLearning/sweeps/kreeqo81</a>"
            ]
          },
          "metadata": {}
        },
        {
          "output_type": "display_data",
          "data": {
            "text/plain": [
              "<IPython.core.display.HTML object>"
            ],
            "text/html": [
              " View project at <a href='https://wandb.ai/abhijithvinod-indian-institue-of-technology-madras/RL_CartPole_QLearning' target=\"_blank\">https://wandb.ai/abhijithvinod-indian-institue-of-technology-madras/RL_CartPole_QLearning</a>"
            ]
          },
          "metadata": {}
        },
        {
          "output_type": "display_data",
          "data": {
            "text/plain": [
              "<IPython.core.display.HTML object>"
            ],
            "text/html": [
              " View sweep at <a href='https://wandb.ai/abhijithvinod-indian-institue-of-technology-madras/RL_CartPole_QLearning/sweeps/kreeqo81' target=\"_blank\">https://wandb.ai/abhijithvinod-indian-institue-of-technology-madras/RL_CartPole_QLearning/sweeps/kreeqo81</a>"
            ]
          },
          "metadata": {}
        },
        {
          "output_type": "display_data",
          "data": {
            "text/plain": [
              "<IPython.core.display.HTML object>"
            ],
            "text/html": [
              " View run at <a href='https://wandb.ai/abhijithvinod-indian-institue-of-technology-madras/RL_CartPole_QLearning/runs/wzm031j9' target=\"_blank\">https://wandb.ai/abhijithvinod-indian-institue-of-technology-madras/RL_CartPole_QLearning/runs/wzm031j9</a>"
            ]
          },
          "metadata": {}
        },
        {
          "output_type": "display_data",
          "data": {
            "text/plain": [
              "<IPython.core.display.HTML object>"
            ],
            "text/html": []
          },
          "metadata": {}
        },
        {
          "output_type": "display_data",
          "data": {
            "text/plain": [
              "<IPython.core.display.HTML object>"
            ],
            "text/html": [
              "<br>    <style><br>        .wandb-row {<br>            display: flex;<br>            flex-direction: row;<br>            flex-wrap: wrap;<br>            justify-content: flex-start;<br>            width: 100%;<br>        }<br>        .wandb-col {<br>            display: flex;<br>            flex-direction: column;<br>            flex-basis: 100%;<br>            flex: 1;<br>            padding: 10px;<br>        }<br>    </style><br><div class=\"wandb-row\"><div class=\"wandb-col\"><h3>Run history:</h3><br/><table class=\"wandb\"><tr><td>average_reward_across_seeds</td><td>▁</td></tr><tr><td>seed_101_episode</td><td>▁▁▁▂▂▂▂▂▂▃▃▃▄▄▄▄▄▅▅▆▆▆▆▆▆▇▇▇▇▇▇▇▇▇▇▇████</td></tr><tr><td>seed_101_reward</td><td>▁▁▂▂▂▅▄▃▄▅▆▆▅▅▆▅▆▇▅▆▄▅▆▅▄██▄▄▄▄▆█▄▇▄▅▅▇▆</td></tr><tr><td>seed_123_episode</td><td>▁▁▁▁▁▁▂▂▂▂▂▂▃▃▃▄▄▄▅▅▅▅▅▅▅▅▆▆▆▆▇▇▇▇▇▇▇███</td></tr><tr><td>seed_123_reward</td><td>▂▂▂▂▅▃▇▅▅▁█▅▅▆▅▆▆▆▆▆▅▄▅▅▅█▄▆▆▆▆▅█▄▆▆▆▅▅█</td></tr><tr><td>seed_42_episode</td><td>▁▁▁▁▁▁▂▂▂▂▃▃▃▄▄▅▅▅▅▅▆▆▆▆▆▆▆▇▇▇▇▇▇▇▇█████</td></tr><tr><td>seed_42_reward</td><td>▁▁▁▁▁▁▃▃▅▃▅▆▃▆▇█▅▃█▅██▂█▇▃██▂▄▄▆▄█▇▄▂▅▂▂</td></tr><tr><td>seed_456_episode</td><td>▁▁▁▁▁▂▂▂▂▂▂▃▃▃▃▃▃▃▄▄▄▄▅▅▅▅▅▆▆▆▆▆▇▇▇▇▇███</td></tr><tr><td>seed_456_reward</td><td>▁▁▁▁▁▁▁▃▃▁▇▄▃▆▃▃▆▆▃▄▄▄▆▃▅▅▅▄▅▃▄▅▇▆▅▃█▅▄▅</td></tr><tr><td>seed_789_episode</td><td>▁▁▂▂▂▂▂▃▃▃▃▃▃▃▄▄▄▄▅▅▅▅▅▆▆▆▇▇▇▇▇▇▇▇██████</td></tr><tr><td>seed_789_reward</td><td>▁▁▃▁▁▁▂▂▂▂▂▂▁▂█▂▂▂▂▁▁▁▃▁▃▂▁▃▃▃▅▂▂▂▃▂▃▃▃▂</td></tr></table><br/></div><div class=\"wandb-col\"><h3>Run summary:</h3><br/><table class=\"wandb\"><tr><td>average_reward_across_seeds</td><td>197.204</td></tr><tr><td>seed_101_episode</td><td>999</td></tr><tr><td>seed_101_reward</td><td>208</td></tr><tr><td>seed_123_episode</td><td>999</td></tr><tr><td>seed_123_reward</td><td>274</td></tr><tr><td>seed_42_episode</td><td>999</td></tr><tr><td>seed_42_reward</td><td>105</td></tr><tr><td>seed_456_episode</td><td>999</td></tr><tr><td>seed_456_reward</td><td>158</td></tr><tr><td>seed_789_episode</td><td>999</td></tr><tr><td>seed_789_reward</td><td>68</td></tr></table><br/></div></div>"
            ]
          },
          "metadata": {}
        },
        {
          "output_type": "display_data",
          "data": {
            "text/plain": [
              "<IPython.core.display.HTML object>"
            ],
            "text/html": [
              " View run <strong style=\"color:#cdcd00\">whole-sweep-23</strong> at: <a href='https://wandb.ai/abhijithvinod-indian-institue-of-technology-madras/RL_CartPole_QLearning/runs/wzm031j9' target=\"_blank\">https://wandb.ai/abhijithvinod-indian-institue-of-technology-madras/RL_CartPole_QLearning/runs/wzm031j9</a><br> View project at: <a href='https://wandb.ai/abhijithvinod-indian-institue-of-technology-madras/RL_CartPole_QLearning' target=\"_blank\">https://wandb.ai/abhijithvinod-indian-institue-of-technology-madras/RL_CartPole_QLearning</a><br>Synced 5 W&B file(s), 0 media file(s), 0 artifact file(s) and 0 other file(s)"
            ]
          },
          "metadata": {}
        },
        {
          "output_type": "display_data",
          "data": {
            "text/plain": [
              "<IPython.core.display.HTML object>"
            ],
            "text/html": [
              "Find logs at: <code>./wandb/run-20250331_153030-wzm031j9/logs</code>"
            ]
          },
          "metadata": {}
        },
        {
          "output_type": "stream",
          "name": "stderr",
          "text": [
            "\u001b[34m\u001b[1mwandb\u001b[0m: Agent Starting Run: j91mhop2 with config:\n",
            "\u001b[34m\u001b[1mwandb\u001b[0m: \talpha: 0.2229142362500994\n",
            "\u001b[34m\u001b[1mwandb\u001b[0m: \tgamma: 0.99\n",
            "\u001b[34m\u001b[1mwandb\u001b[0m: \tn_bins: 15\n",
            "\u001b[34m\u001b[1mwandb\u001b[0m: \tn_episodes: 1000\n",
            "\u001b[34m\u001b[1mwandb\u001b[0m: \tseed: 789\n",
            "\u001b[34m\u001b[1mwandb\u001b[0m: \ttemperature: 1.361179947089153\n"
          ]
        },
        {
          "output_type": "display_data",
          "data": {
            "text/plain": [
              "<IPython.core.display.HTML object>"
            ],
            "text/html": [
              "Tracking run with wandb version 0.19.8"
            ]
          },
          "metadata": {}
        },
        {
          "output_type": "display_data",
          "data": {
            "text/plain": [
              "<IPython.core.display.HTML object>"
            ],
            "text/html": [
              "Run data is saved locally in <code>/content/wandb/run-20250331_153248-j91mhop2</code>"
            ]
          },
          "metadata": {}
        },
        {
          "output_type": "display_data",
          "data": {
            "text/plain": [
              "<IPython.core.display.HTML object>"
            ],
            "text/html": [
              "Syncing run <strong><a href='https://wandb.ai/abhijithvinod-indian-institue-of-technology-madras/RL_CartPole_QLearning/runs/j91mhop2' target=\"_blank\">trim-sweep-24</a></strong> to <a href='https://wandb.ai/abhijithvinod-indian-institue-of-technology-madras/RL_CartPole_QLearning' target=\"_blank\">Weights & Biases</a> (<a href='https://wandb.me/developer-guide' target=\"_blank\">docs</a>)<br>Sweep page: <a href='https://wandb.ai/abhijithvinod-indian-institue-of-technology-madras/RL_CartPole_QLearning/sweeps/kreeqo81' target=\"_blank\">https://wandb.ai/abhijithvinod-indian-institue-of-technology-madras/RL_CartPole_QLearning/sweeps/kreeqo81</a>"
            ]
          },
          "metadata": {}
        },
        {
          "output_type": "display_data",
          "data": {
            "text/plain": [
              "<IPython.core.display.HTML object>"
            ],
            "text/html": [
              " View project at <a href='https://wandb.ai/abhijithvinod-indian-institue-of-technology-madras/RL_CartPole_QLearning' target=\"_blank\">https://wandb.ai/abhijithvinod-indian-institue-of-technology-madras/RL_CartPole_QLearning</a>"
            ]
          },
          "metadata": {}
        },
        {
          "output_type": "display_data",
          "data": {
            "text/plain": [
              "<IPython.core.display.HTML object>"
            ],
            "text/html": [
              " View sweep at <a href='https://wandb.ai/abhijithvinod-indian-institue-of-technology-madras/RL_CartPole_QLearning/sweeps/kreeqo81' target=\"_blank\">https://wandb.ai/abhijithvinod-indian-institue-of-technology-madras/RL_CartPole_QLearning/sweeps/kreeqo81</a>"
            ]
          },
          "metadata": {}
        },
        {
          "output_type": "display_data",
          "data": {
            "text/plain": [
              "<IPython.core.display.HTML object>"
            ],
            "text/html": [
              " View run at <a href='https://wandb.ai/abhijithvinod-indian-institue-of-technology-madras/RL_CartPole_QLearning/runs/j91mhop2' target=\"_blank\">https://wandb.ai/abhijithvinod-indian-institue-of-technology-madras/RL_CartPole_QLearning/runs/j91mhop2</a>"
            ]
          },
          "metadata": {}
        },
        {
          "output_type": "display_data",
          "data": {
            "text/plain": [
              "<IPython.core.display.HTML object>"
            ],
            "text/html": []
          },
          "metadata": {}
        },
        {
          "output_type": "display_data",
          "data": {
            "text/plain": [
              "<IPython.core.display.HTML object>"
            ],
            "text/html": [
              "<br>    <style><br>        .wandb-row {<br>            display: flex;<br>            flex-direction: row;<br>            flex-wrap: wrap;<br>            justify-content: flex-start;<br>            width: 100%;<br>        }<br>        .wandb-col {<br>            display: flex;<br>            flex-direction: column;<br>            flex-basis: 100%;<br>            flex: 1;<br>            padding: 10px;<br>        }<br>    </style><br><div class=\"wandb-row\"><div class=\"wandb-col\"><h3>Run history:</h3><br/><table class=\"wandb\"><tr><td>average_reward_across_seeds</td><td>▁</td></tr><tr><td>seed_101_episode</td><td>▁▁▁▁▁▂▂▂▂▂▂▃▃▃▄▄▄▅▅▅▅▅▅▆▆▆▆▆▆▆▆▆▇▇▇▇▇▇██</td></tr><tr><td>seed_101_reward</td><td>▁▁▁▁▁▁▁▁▂▃▁▂▂▂▂▃▂▂▂▅▂▂▂▂▃▂▂▂▃▁▂▂▃▃▃▂█▃▂▄</td></tr><tr><td>seed_123_episode</td><td>▁▁▁▁▁▂▂▂▂▂▃▃▃▄▄▄▄▄▄▄▄▅▅▅▅▆▆▆▆▆▆▆▇▇▇▇████</td></tr><tr><td>seed_123_reward</td><td>▅▁▁▁▁▅▅▂▂▄▂▇▂▆█▂▄▄▆▃▄▂▇▂▂▄▃▅▃█▃▄▃▃▂▂▆█▆▅</td></tr><tr><td>seed_42_episode</td><td>▁▁▁▁▂▂▂▂▂▂▂▃▃▃▃▃▃▄▄▄▄▅▅▅▅▅▅▆▆▆▆▆▇▇▇█████</td></tr><tr><td>seed_42_reward</td><td>▁▁▁▁▂▁▆▂▃▇▄█▇▄▇▇▄▄▄▄█▇▅▅▅▃█▄▄▅█▆▅▄▅▄▃▇▅▄</td></tr><tr><td>seed_456_episode</td><td>▁▁▁▁▂▂▂▂▂▂▃▃▃▃▃▃▃▄▄▄▄▄▄▄▅▅▅▅▆▆▆▆▇▇▇▇▇▇██</td></tr><tr><td>seed_456_reward</td><td>▁▁▁▁▁▁▃▁▁▃▃▄▄▄▄▁▅▁▄▃▂▄▄▃▄▂▅▄▄▂▃▂▆█▂▂▇▄▄▇</td></tr><tr><td>seed_789_episode</td><td>▁▁▁▁▁▂▂▂▂▂▃▃▃▃▃▃▄▄▄▄▄▄▅▅▅▆▆▆▆▆▆▆▇▇▇▇▇███</td></tr><tr><td>seed_789_reward</td><td>▁▂▁▁▁▁▃▁▃▃▂▂▂▆▂▁▂▅▃▂▃▃▂▁▃▁▆▅▁▃█▂▃▂▃▇▃▆▂▃</td></tr></table><br/></div><div class=\"wandb-col\"><h3>Run summary:</h3><br/><table class=\"wandb\"><tr><td>average_reward_across_seeds</td><td>192.5</td></tr><tr><td>seed_101_episode</td><td>999</td></tr><tr><td>seed_101_reward</td><td>278</td></tr><tr><td>seed_123_episode</td><td>999</td></tr><tr><td>seed_123_reward</td><td>299</td></tr><tr><td>seed_42_episode</td><td>999</td></tr><tr><td>seed_42_reward</td><td>500</td></tr><tr><td>seed_456_episode</td><td>999</td></tr><tr><td>seed_456_reward</td><td>108</td></tr><tr><td>seed_789_episode</td><td>999</td></tr><tr><td>seed_789_reward</td><td>36</td></tr></table><br/></div></div>"
            ]
          },
          "metadata": {}
        },
        {
          "output_type": "display_data",
          "data": {
            "text/plain": [
              "<IPython.core.display.HTML object>"
            ],
            "text/html": [
              " View run <strong style=\"color:#cdcd00\">trim-sweep-24</strong> at: <a href='https://wandb.ai/abhijithvinod-indian-institue-of-technology-madras/RL_CartPole_QLearning/runs/j91mhop2' target=\"_blank\">https://wandb.ai/abhijithvinod-indian-institue-of-technology-madras/RL_CartPole_QLearning/runs/j91mhop2</a><br> View project at: <a href='https://wandb.ai/abhijithvinod-indian-institue-of-technology-madras/RL_CartPole_QLearning' target=\"_blank\">https://wandb.ai/abhijithvinod-indian-institue-of-technology-madras/RL_CartPole_QLearning</a><br>Synced 5 W&B file(s), 0 media file(s), 0 artifact file(s) and 0 other file(s)"
            ]
          },
          "metadata": {}
        },
        {
          "output_type": "display_data",
          "data": {
            "text/plain": [
              "<IPython.core.display.HTML object>"
            ],
            "text/html": [
              "Find logs at: <code>./wandb/run-20250331_153248-j91mhop2/logs</code>"
            ]
          },
          "metadata": {}
        },
        {
          "output_type": "stream",
          "name": "stderr",
          "text": [
            "\u001b[34m\u001b[1mwandb\u001b[0m: Agent Starting Run: zzibgr7g with config:\n",
            "\u001b[34m\u001b[1mwandb\u001b[0m: \talpha: 0.3896125835857428\n",
            "\u001b[34m\u001b[1mwandb\u001b[0m: \tgamma: 0.99\n",
            "\u001b[34m\u001b[1mwandb\u001b[0m: \tn_bins: 15\n",
            "\u001b[34m\u001b[1mwandb\u001b[0m: \tn_episodes: 1000\n",
            "\u001b[34m\u001b[1mwandb\u001b[0m: \tseed: 101\n",
            "\u001b[34m\u001b[1mwandb\u001b[0m: \ttemperature: 0.8773297098601173\n"
          ]
        },
        {
          "output_type": "display_data",
          "data": {
            "text/plain": [
              "<IPython.core.display.HTML object>"
            ],
            "text/html": [
              "Tracking run with wandb version 0.19.8"
            ]
          },
          "metadata": {}
        },
        {
          "output_type": "display_data",
          "data": {
            "text/plain": [
              "<IPython.core.display.HTML object>"
            ],
            "text/html": [
              "Run data is saved locally in <code>/content/wandb/run-20250331_153459-zzibgr7g</code>"
            ]
          },
          "metadata": {}
        },
        {
          "output_type": "display_data",
          "data": {
            "text/plain": [
              "<IPython.core.display.HTML object>"
            ],
            "text/html": [
              "Syncing run <strong><a href='https://wandb.ai/abhijithvinod-indian-institue-of-technology-madras/RL_CartPole_QLearning/runs/zzibgr7g' target=\"_blank\">upbeat-sweep-25</a></strong> to <a href='https://wandb.ai/abhijithvinod-indian-institue-of-technology-madras/RL_CartPole_QLearning' target=\"_blank\">Weights & Biases</a> (<a href='https://wandb.me/developer-guide' target=\"_blank\">docs</a>)<br>Sweep page: <a href='https://wandb.ai/abhijithvinod-indian-institue-of-technology-madras/RL_CartPole_QLearning/sweeps/kreeqo81' target=\"_blank\">https://wandb.ai/abhijithvinod-indian-institue-of-technology-madras/RL_CartPole_QLearning/sweeps/kreeqo81</a>"
            ]
          },
          "metadata": {}
        },
        {
          "output_type": "display_data",
          "data": {
            "text/plain": [
              "<IPython.core.display.HTML object>"
            ],
            "text/html": [
              " View project at <a href='https://wandb.ai/abhijithvinod-indian-institue-of-technology-madras/RL_CartPole_QLearning' target=\"_blank\">https://wandb.ai/abhijithvinod-indian-institue-of-technology-madras/RL_CartPole_QLearning</a>"
            ]
          },
          "metadata": {}
        },
        {
          "output_type": "display_data",
          "data": {
            "text/plain": [
              "<IPython.core.display.HTML object>"
            ],
            "text/html": [
              " View sweep at <a href='https://wandb.ai/abhijithvinod-indian-institue-of-technology-madras/RL_CartPole_QLearning/sweeps/kreeqo81' target=\"_blank\">https://wandb.ai/abhijithvinod-indian-institue-of-technology-madras/RL_CartPole_QLearning/sweeps/kreeqo81</a>"
            ]
          },
          "metadata": {}
        },
        {
          "output_type": "display_data",
          "data": {
            "text/plain": [
              "<IPython.core.display.HTML object>"
            ],
            "text/html": [
              " View run at <a href='https://wandb.ai/abhijithvinod-indian-institue-of-technology-madras/RL_CartPole_QLearning/runs/zzibgr7g' target=\"_blank\">https://wandb.ai/abhijithvinod-indian-institue-of-technology-madras/RL_CartPole_QLearning/runs/zzibgr7g</a>"
            ]
          },
          "metadata": {}
        },
        {
          "output_type": "display_data",
          "data": {
            "text/plain": [
              "<IPython.core.display.HTML object>"
            ],
            "text/html": []
          },
          "metadata": {}
        },
        {
          "output_type": "display_data",
          "data": {
            "text/plain": [
              "<IPython.core.display.HTML object>"
            ],
            "text/html": [
              "<br>    <style><br>        .wandb-row {<br>            display: flex;<br>            flex-direction: row;<br>            flex-wrap: wrap;<br>            justify-content: flex-start;<br>            width: 100%;<br>        }<br>        .wandb-col {<br>            display: flex;<br>            flex-direction: column;<br>            flex-basis: 100%;<br>            flex: 1;<br>            padding: 10px;<br>        }<br>    </style><br><div class=\"wandb-row\"><div class=\"wandb-col\"><h3>Run history:</h3><br/><table class=\"wandb\"><tr><td>average_reward_across_seeds</td><td>▁</td></tr><tr><td>seed_101_episode</td><td>▁▁▁▁▁▁▂▂▂▂▂▂▂▂▃▃▃▃▃▃▄▄▄▄▄▅▅▅▅▅▆▆▆▆▆▇▇▇▇█</td></tr><tr><td>seed_101_reward</td><td>▃▁▇▅▇▅▇▃▄█▇▇▇▆▅▂▃▃▂▂▅▄█▆▅▆▂▄▅▂▂▃▇▃▆▅▄▅▃▄</td></tr><tr><td>seed_123_episode</td><td>▁▁▁▂▂▂▂▂▂▂▂▃▃▃▃▃▃▃▃▄▄▄▄▄▅▅▆▆▆▆▇▇▇▇▇▇▇███</td></tr><tr><td>seed_123_reward</td><td>▁▁▄▁▃▁▁▄▃▇▃▄▅▂▂▂▄▁▅▂▄▂▃▃▃▁▄▄█▄▂▂▁▄▇▃▄▄▅▁</td></tr><tr><td>seed_42_episode</td><td>▁▁▁▁▂▂▂▂▂▂▂▃▃▃▃▃▃▄▄▄▅▅▅▅▅▆▆▆▆▇▇▇▇▇▇▇████</td></tr><tr><td>seed_42_reward</td><td>▂▃▂▂▂▁▁▃▅▄▂▃▄▄▅██▄▃▅▅▆▇▂▇▃▄▄▅▂▅▄▂▅▅▅▆▂▃▆</td></tr><tr><td>seed_456_episode</td><td>▁▁▂▂▂▂▂▂▃▃▃▃▃▃▄▄▄▄▄▄▅▅▅▅▅▅▅▆▆▆▆▆▆▆▆▇▇███</td></tr><tr><td>seed_456_reward</td><td>▁▂▃▃▃▄▃▄▄▄▄▃▄▃▃▆▄▂▄▄▄▄▄▂▅▅▅▅▃▄▄▄▄▄▄█▄▅▄▃</td></tr><tr><td>seed_789_episode</td><td>▁▁▁▁▂▂▂▂▂▂▂▂▃▃▃▄▄▄▄▄▄▄▅▅▅▅▅▆▆▆▆▆▇▇▇▇████</td></tr><tr><td>seed_789_reward</td><td>▂▃▁▁▂▂▃▃▂▃▃▂▄▅▂▂▂▅▂▂█▂▂▃▄▄▂▃▄▄▃▅▃▄▃▂▃▅▃▃</td></tr></table><br/></div><div class=\"wandb-col\"><h3>Run summary:</h3><br/><table class=\"wandb\"><tr><td>average_reward_across_seeds</td><td>107.352</td></tr><tr><td>seed_101_episode</td><td>999</td></tr><tr><td>seed_101_reward</td><td>77</td></tr><tr><td>seed_123_episode</td><td>999</td></tr><tr><td>seed_123_reward</td><td>172</td></tr><tr><td>seed_42_episode</td><td>999</td></tr><tr><td>seed_42_reward</td><td>11</td></tr><tr><td>seed_456_episode</td><td>999</td></tr><tr><td>seed_456_reward</td><td>108</td></tr><tr><td>seed_789_episode</td><td>999</td></tr><tr><td>seed_789_reward</td><td>85</td></tr></table><br/></div></div>"
            ]
          },
          "metadata": {}
        },
        {
          "output_type": "display_data",
          "data": {
            "text/plain": [
              "<IPython.core.display.HTML object>"
            ],
            "text/html": [
              " View run <strong style=\"color:#cdcd00\">upbeat-sweep-25</strong> at: <a href='https://wandb.ai/abhijithvinod-indian-institue-of-technology-madras/RL_CartPole_QLearning/runs/zzibgr7g' target=\"_blank\">https://wandb.ai/abhijithvinod-indian-institue-of-technology-madras/RL_CartPole_QLearning/runs/zzibgr7g</a><br> View project at: <a href='https://wandb.ai/abhijithvinod-indian-institue-of-technology-madras/RL_CartPole_QLearning' target=\"_blank\">https://wandb.ai/abhijithvinod-indian-institue-of-technology-madras/RL_CartPole_QLearning</a><br>Synced 5 W&B file(s), 0 media file(s), 0 artifact file(s) and 0 other file(s)"
            ]
          },
          "metadata": {}
        },
        {
          "output_type": "display_data",
          "data": {
            "text/plain": [
              "<IPython.core.display.HTML object>"
            ],
            "text/html": [
              "Find logs at: <code>./wandb/run-20250331_153459-zzibgr7g/logs</code>"
            ]
          },
          "metadata": {}
        },
        {
          "output_type": "stream",
          "name": "stderr",
          "text": [
            "\u001b[34m\u001b[1mwandb\u001b[0m: Agent Starting Run: 36ohph4f with config:\n",
            "\u001b[34m\u001b[1mwandb\u001b[0m: \talpha: 0.2791261845092483\n",
            "\u001b[34m\u001b[1mwandb\u001b[0m: \tgamma: 0.99\n",
            "\u001b[34m\u001b[1mwandb\u001b[0m: \tn_bins: 10\n",
            "\u001b[34m\u001b[1mwandb\u001b[0m: \tn_episodes: 1000\n",
            "\u001b[34m\u001b[1mwandb\u001b[0m: \tseed: 789\n",
            "\u001b[34m\u001b[1mwandb\u001b[0m: \ttemperature: 1.9076240018838009\n"
          ]
        },
        {
          "output_type": "display_data",
          "data": {
            "text/plain": [
              "<IPython.core.display.HTML object>"
            ],
            "text/html": [
              "Tracking run with wandb version 0.19.8"
            ]
          },
          "metadata": {}
        },
        {
          "output_type": "display_data",
          "data": {
            "text/plain": [
              "<IPython.core.display.HTML object>"
            ],
            "text/html": [
              "Run data is saved locally in <code>/content/wandb/run-20250331_153628-36ohph4f</code>"
            ]
          },
          "metadata": {}
        },
        {
          "output_type": "display_data",
          "data": {
            "text/plain": [
              "<IPython.core.display.HTML object>"
            ],
            "text/html": [
              "Syncing run <strong><a href='https://wandb.ai/abhijithvinod-indian-institue-of-technology-madras/RL_CartPole_QLearning/runs/36ohph4f' target=\"_blank\">snowy-sweep-26</a></strong> to <a href='https://wandb.ai/abhijithvinod-indian-institue-of-technology-madras/RL_CartPole_QLearning' target=\"_blank\">Weights & Biases</a> (<a href='https://wandb.me/developer-guide' target=\"_blank\">docs</a>)<br>Sweep page: <a href='https://wandb.ai/abhijithvinod-indian-institue-of-technology-madras/RL_CartPole_QLearning/sweeps/kreeqo81' target=\"_blank\">https://wandb.ai/abhijithvinod-indian-institue-of-technology-madras/RL_CartPole_QLearning/sweeps/kreeqo81</a>"
            ]
          },
          "metadata": {}
        },
        {
          "output_type": "display_data",
          "data": {
            "text/plain": [
              "<IPython.core.display.HTML object>"
            ],
            "text/html": [
              " View project at <a href='https://wandb.ai/abhijithvinod-indian-institue-of-technology-madras/RL_CartPole_QLearning' target=\"_blank\">https://wandb.ai/abhijithvinod-indian-institue-of-technology-madras/RL_CartPole_QLearning</a>"
            ]
          },
          "metadata": {}
        },
        {
          "output_type": "display_data",
          "data": {
            "text/plain": [
              "<IPython.core.display.HTML object>"
            ],
            "text/html": [
              " View sweep at <a href='https://wandb.ai/abhijithvinod-indian-institue-of-technology-madras/RL_CartPole_QLearning/sweeps/kreeqo81' target=\"_blank\">https://wandb.ai/abhijithvinod-indian-institue-of-technology-madras/RL_CartPole_QLearning/sweeps/kreeqo81</a>"
            ]
          },
          "metadata": {}
        },
        {
          "output_type": "display_data",
          "data": {
            "text/plain": [
              "<IPython.core.display.HTML object>"
            ],
            "text/html": [
              " View run at <a href='https://wandb.ai/abhijithvinod-indian-institue-of-technology-madras/RL_CartPole_QLearning/runs/36ohph4f' target=\"_blank\">https://wandb.ai/abhijithvinod-indian-institue-of-technology-madras/RL_CartPole_QLearning/runs/36ohph4f</a>"
            ]
          },
          "metadata": {}
        },
        {
          "output_type": "display_data",
          "data": {
            "text/plain": [
              "<IPython.core.display.HTML object>"
            ],
            "text/html": []
          },
          "metadata": {}
        },
        {
          "output_type": "display_data",
          "data": {
            "text/plain": [
              "<IPython.core.display.HTML object>"
            ],
            "text/html": [
              "<br>    <style><br>        .wandb-row {<br>            display: flex;<br>            flex-direction: row;<br>            flex-wrap: wrap;<br>            justify-content: flex-start;<br>            width: 100%;<br>        }<br>        .wandb-col {<br>            display: flex;<br>            flex-direction: column;<br>            flex-basis: 100%;<br>            flex: 1;<br>            padding: 10px;<br>        }<br>    </style><br><div class=\"wandb-row\"><div class=\"wandb-col\"><h3>Run history:</h3><br/><table class=\"wandb\"><tr><td>average_reward_across_seeds</td><td>▁</td></tr><tr><td>seed_101_episode</td><td>▁▁▁▁▂▂▂▂▂▃▃▃▃▄▄▄▅▅▅▅▅▅▅▅▆▆▆▆▆▇▇▇▇▇▇▇▇▇▇█</td></tr><tr><td>seed_101_reward</td><td>▁▁▂▃▃▁▅▅▁▂▅▃▂▅▄▅▃▅▄▆▅▄▅▆▃▆▃▆▅▆▅█▇▅▄▅▆▇▃▆</td></tr><tr><td>seed_123_episode</td><td>▁▁▁▂▂▂▂▂▂▂▃▃▃▃▄▄▄▄▄▄▄▅▅▅▅▆▆▆▆▆▇▇▇▇▇▇▇▇██</td></tr><tr><td>seed_123_reward</td><td>▁▂▁▂▅▄▁▆▂▄▂▄▅▄▃▅▃▄▃█▂▅▄▅▃▄▆▇▇▅▇▅▂▆▆▆▇▇▆▆</td></tr><tr><td>seed_42_episode</td><td>▁▁▁▂▂▂▂▂▂▃▃▃▃▃▃▄▄▄▄▄▄▄▅▅▅▅▅▅▅▆▆▆▇▇▇▇▇▇██</td></tr><tr><td>seed_42_reward</td><td>▁▁▂▃▂▂▄▂▁▄▃█▅▄▆▇█▇▇██▆▆▇▆▇▆█▇▇▇██▇▇▇█▇█▇</td></tr><tr><td>seed_456_episode</td><td>▁▁▁▁▂▂▂▂▃▃▃▄▄▄▄▄▅▅▅▅▅▅▅▅▆▆▆▆▆▆▆▆▇▇▇▇▇▇▇█</td></tr><tr><td>seed_456_reward</td><td>▁▄▅▇▁▄▅▅▃▃▄▃▃▅▄▆▄▄▄▆▆▆▇▄▄▆▇█▅▅▆▄▅▆▅▅▆█▆▅</td></tr><tr><td>seed_789_episode</td><td>▁▁▂▂▂▂▂▃▃▃▃▃▃▄▄▄▅▅▅▅▅▅▅▅▅▅▆▆▆▆▆▇▇▇▇▇████</td></tr><tr><td>seed_789_reward</td><td>▂▁▁▁▁▃▂▃▁▃▃▅▃▃▄▄▆▆▃▄▃▅▄▆█▅▅▇█▅▆▆▆▅▅▅▄▆▆▅</td></tr></table><br/></div><div class=\"wandb-col\"><h3>Run summary:</h3><br/><table class=\"wandb\"><tr><td>average_reward_across_seeds</td><td>137.772</td></tr><tr><td>seed_101_episode</td><td>999</td></tr><tr><td>seed_101_reward</td><td>128</td></tr><tr><td>seed_123_episode</td><td>999</td></tr><tr><td>seed_123_reward</td><td>133</td></tr><tr><td>seed_42_episode</td><td>999</td></tr><tr><td>seed_42_reward</td><td>183</td></tr><tr><td>seed_456_episode</td><td>999</td></tr><tr><td>seed_456_reward</td><td>133</td></tr><tr><td>seed_789_episode</td><td>999</td></tr><tr><td>seed_789_reward</td><td>119</td></tr></table><br/></div></div>"
            ]
          },
          "metadata": {}
        },
        {
          "output_type": "display_data",
          "data": {
            "text/plain": [
              "<IPython.core.display.HTML object>"
            ],
            "text/html": [
              " View run <strong style=\"color:#cdcd00\">snowy-sweep-26</strong> at: <a href='https://wandb.ai/abhijithvinod-indian-institue-of-technology-madras/RL_CartPole_QLearning/runs/36ohph4f' target=\"_blank\">https://wandb.ai/abhijithvinod-indian-institue-of-technology-madras/RL_CartPole_QLearning/runs/36ohph4f</a><br> View project at: <a href='https://wandb.ai/abhijithvinod-indian-institue-of-technology-madras/RL_CartPole_QLearning' target=\"_blank\">https://wandb.ai/abhijithvinod-indian-institue-of-technology-madras/RL_CartPole_QLearning</a><br>Synced 5 W&B file(s), 0 media file(s), 0 artifact file(s) and 0 other file(s)"
            ]
          },
          "metadata": {}
        },
        {
          "output_type": "display_data",
          "data": {
            "text/plain": [
              "<IPython.core.display.HTML object>"
            ],
            "text/html": [
              "Find logs at: <code>./wandb/run-20250331_153628-36ohph4f/logs</code>"
            ]
          },
          "metadata": {}
        },
        {
          "output_type": "stream",
          "name": "stderr",
          "text": [
            "\u001b[34m\u001b[1mwandb\u001b[0m: Sweep Agent: Waiting for job.\n",
            "\u001b[34m\u001b[1mwandb\u001b[0m: Job received.\n",
            "\u001b[34m\u001b[1mwandb\u001b[0m: Agent Starting Run: yqbunrxg with config:\n",
            "\u001b[34m\u001b[1mwandb\u001b[0m: \talpha: 0.05199434545496757\n",
            "\u001b[34m\u001b[1mwandb\u001b[0m: \tgamma: 0.99\n",
            "\u001b[34m\u001b[1mwandb\u001b[0m: \tn_bins: 10\n",
            "\u001b[34m\u001b[1mwandb\u001b[0m: \tn_episodes: 1000\n",
            "\u001b[34m\u001b[1mwandb\u001b[0m: \tseed: 456\n",
            "\u001b[34m\u001b[1mwandb\u001b[0m: \ttemperature: 1.9993890270127976\n"
          ]
        },
        {
          "output_type": "display_data",
          "data": {
            "text/plain": [
              "<IPython.core.display.HTML object>"
            ],
            "text/html": [
              "Tracking run with wandb version 0.19.8"
            ]
          },
          "metadata": {}
        },
        {
          "output_type": "display_data",
          "data": {
            "text/plain": [
              "<IPython.core.display.HTML object>"
            ],
            "text/html": [
              "Run data is saved locally in <code>/content/wandb/run-20250331_153815-yqbunrxg</code>"
            ]
          },
          "metadata": {}
        },
        {
          "output_type": "display_data",
          "data": {
            "text/plain": [
              "<IPython.core.display.HTML object>"
            ],
            "text/html": [
              "Syncing run <strong><a href='https://wandb.ai/abhijithvinod-indian-institue-of-technology-madras/RL_CartPole_QLearning/runs/yqbunrxg' target=\"_blank\">easy-sweep-27</a></strong> to <a href='https://wandb.ai/abhijithvinod-indian-institue-of-technology-madras/RL_CartPole_QLearning' target=\"_blank\">Weights & Biases</a> (<a href='https://wandb.me/developer-guide' target=\"_blank\">docs</a>)<br>Sweep page: <a href='https://wandb.ai/abhijithvinod-indian-institue-of-technology-madras/RL_CartPole_QLearning/sweeps/kreeqo81' target=\"_blank\">https://wandb.ai/abhijithvinod-indian-institue-of-technology-madras/RL_CartPole_QLearning/sweeps/kreeqo81</a>"
            ]
          },
          "metadata": {}
        },
        {
          "output_type": "display_data",
          "data": {
            "text/plain": [
              "<IPython.core.display.HTML object>"
            ],
            "text/html": [
              " View project at <a href='https://wandb.ai/abhijithvinod-indian-institue-of-technology-madras/RL_CartPole_QLearning' target=\"_blank\">https://wandb.ai/abhijithvinod-indian-institue-of-technology-madras/RL_CartPole_QLearning</a>"
            ]
          },
          "metadata": {}
        },
        {
          "output_type": "display_data",
          "data": {
            "text/plain": [
              "<IPython.core.display.HTML object>"
            ],
            "text/html": [
              " View sweep at <a href='https://wandb.ai/abhijithvinod-indian-institue-of-technology-madras/RL_CartPole_QLearning/sweeps/kreeqo81' target=\"_blank\">https://wandb.ai/abhijithvinod-indian-institue-of-technology-madras/RL_CartPole_QLearning/sweeps/kreeqo81</a>"
            ]
          },
          "metadata": {}
        },
        {
          "output_type": "display_data",
          "data": {
            "text/plain": [
              "<IPython.core.display.HTML object>"
            ],
            "text/html": [
              " View run at <a href='https://wandb.ai/abhijithvinod-indian-institue-of-technology-madras/RL_CartPole_QLearning/runs/yqbunrxg' target=\"_blank\">https://wandb.ai/abhijithvinod-indian-institue-of-technology-madras/RL_CartPole_QLearning/runs/yqbunrxg</a>"
            ]
          },
          "metadata": {}
        },
        {
          "output_type": "display_data",
          "data": {
            "text/plain": [
              "<IPython.core.display.HTML object>"
            ],
            "text/html": []
          },
          "metadata": {}
        },
        {
          "output_type": "display_data",
          "data": {
            "text/plain": [
              "<IPython.core.display.HTML object>"
            ],
            "text/html": [
              "<br>    <style><br>        .wandb-row {<br>            display: flex;<br>            flex-direction: row;<br>            flex-wrap: wrap;<br>            justify-content: flex-start;<br>            width: 100%;<br>        }<br>        .wandb-col {<br>            display: flex;<br>            flex-direction: column;<br>            flex-basis: 100%;<br>            flex: 1;<br>            padding: 10px;<br>        }<br>    </style><br><div class=\"wandb-row\"><div class=\"wandb-col\"><h3>Run history:</h3><br/><table class=\"wandb\"><tr><td>average_reward_across_seeds</td><td>▁</td></tr><tr><td>seed_101_episode</td><td>▁▁▁▂▂▂▂▂▂▂▂▂▃▃▃▄▄▄▄▄▄▅▅▅▅▅▅▅▅▅▆▆▆▇▇▇▇▇▇█</td></tr><tr><td>seed_101_reward</td><td>▁▂▂▁▁▂▂▁▁▁▂▂▁▂▃▂▃▁▂▄▂▄▄▃▄▂▂▂▆▄█▄▄▄▃▇▇▃▄▄</td></tr><tr><td>seed_123_episode</td><td>▁▁▁▁▁▂▂▂▂▃▃▃▄▄▄▄▄▄▅▅▅▅▅▅▅▅▆▆▆▆▆▆▇▇▇▇▇▇██</td></tr><tr><td>seed_123_reward</td><td>▁▁▁▁▂▁▁▁▂▂▁▂▂▂▁▁▂▁▁▂▂▂▃▂▂▁▄▂▃▃▂▂▂▂▂▃▂▂▂█</td></tr><tr><td>seed_42_episode</td><td>▁▁▁▁▁▂▂▂▂▃▃▃▃▄▄▄▄▄▄▅▅▅▅▅▅▆▆▆▆▆▇▇▇▇▇▇▇███</td></tr><tr><td>seed_42_reward</td><td>▂▁▁▁▁▂▂▁▁▁▂▂▂▁▂▁▁▃▁▂▂▃▄▃▂▁▂▃▃▃▂▃▃▃▂█▂▃▂▂</td></tr><tr><td>seed_456_episode</td><td>▁▁▁▁▂▃▃▃▃▃▃▃▃▃▃▄▄▄▄▄▅▅▅▅▅▆▆▇▇▇▇▇▇▇██████</td></tr><tr><td>seed_456_reward</td><td>▁▁▁▁▁▂▂▂▂▂▃▂▂▂▂▃▃▁▃▂▅▂▂▃▂▅▂▂▃▂▄▅▂▃▅▄▄▃▄█</td></tr><tr><td>seed_789_episode</td><td>▁▁▁▂▂▂▃▃▃▃▃▃▃▃▃▄▄▅▅▅▅▅▆▆▆▆▆▆▆▆▇▇▇▇▇▇████</td></tr><tr><td>seed_789_reward</td><td>▁▁▂▁▂▁▂▁▃▃▂▃▁▂▂▁▂▁▄▃▃▂█▂▄▂▃▃▄▅▇▆▅▄▄▅█▄▅▆</td></tr></table><br/></div><div class=\"wandb-col\"><h3>Run summary:</h3><br/><table class=\"wandb\"><tr><td>average_reward_across_seeds</td><td>128.244</td></tr><tr><td>seed_101_episode</td><td>999</td></tr><tr><td>seed_101_reward</td><td>124</td></tr><tr><td>seed_123_episode</td><td>999</td></tr><tr><td>seed_123_reward</td><td>355</td></tr><tr><td>seed_42_episode</td><td>999</td></tr><tr><td>seed_42_reward</td><td>148</td></tr><tr><td>seed_456_episode</td><td>999</td></tr><tr><td>seed_456_reward</td><td>55</td></tr><tr><td>seed_789_episode</td><td>999</td></tr><tr><td>seed_789_reward</td><td>247</td></tr></table><br/></div></div>"
            ]
          },
          "metadata": {}
        },
        {
          "output_type": "display_data",
          "data": {
            "text/plain": [
              "<IPython.core.display.HTML object>"
            ],
            "text/html": [
              " View run <strong style=\"color:#cdcd00\">easy-sweep-27</strong> at: <a href='https://wandb.ai/abhijithvinod-indian-institue-of-technology-madras/RL_CartPole_QLearning/runs/yqbunrxg' target=\"_blank\">https://wandb.ai/abhijithvinod-indian-institue-of-technology-madras/RL_CartPole_QLearning/runs/yqbunrxg</a><br> View project at: <a href='https://wandb.ai/abhijithvinod-indian-institue-of-technology-madras/RL_CartPole_QLearning' target=\"_blank\">https://wandb.ai/abhijithvinod-indian-institue-of-technology-madras/RL_CartPole_QLearning</a><br>Synced 5 W&B file(s), 0 media file(s), 0 artifact file(s) and 0 other file(s)"
            ]
          },
          "metadata": {}
        },
        {
          "output_type": "display_data",
          "data": {
            "text/plain": [
              "<IPython.core.display.HTML object>"
            ],
            "text/html": [
              "Find logs at: <code>./wandb/run-20250331_153815-yqbunrxg/logs</code>"
            ]
          },
          "metadata": {}
        },
        {
          "output_type": "stream",
          "name": "stderr",
          "text": [
            "\u001b[34m\u001b[1mwandb\u001b[0m: Sweep Agent: Waiting for job.\n",
            "\u001b[34m\u001b[1mwandb\u001b[0m: Job received.\n",
            "\u001b[34m\u001b[1mwandb\u001b[0m: Agent Starting Run: g7y683h0 with config:\n",
            "\u001b[34m\u001b[1mwandb\u001b[0m: \talpha: 0.1392560577209923\n",
            "\u001b[34m\u001b[1mwandb\u001b[0m: \tgamma: 0.99\n",
            "\u001b[34m\u001b[1mwandb\u001b[0m: \tn_bins: 10\n",
            "\u001b[34m\u001b[1mwandb\u001b[0m: \tn_episodes: 1000\n",
            "\u001b[34m\u001b[1mwandb\u001b[0m: \tseed: 123\n",
            "\u001b[34m\u001b[1mwandb\u001b[0m: \ttemperature: 1.977586041920268\n"
          ]
        },
        {
          "output_type": "display_data",
          "data": {
            "text/plain": [
              "<IPython.core.display.HTML object>"
            ],
            "text/html": [
              "Tracking run with wandb version 0.19.8"
            ]
          },
          "metadata": {}
        },
        {
          "output_type": "display_data",
          "data": {
            "text/plain": [
              "<IPython.core.display.HTML object>"
            ],
            "text/html": [
              "Run data is saved locally in <code>/content/wandb/run-20250331_153926-g7y683h0</code>"
            ]
          },
          "metadata": {}
        },
        {
          "output_type": "display_data",
          "data": {
            "text/plain": [
              "<IPython.core.display.HTML object>"
            ],
            "text/html": [
              "Syncing run <strong><a href='https://wandb.ai/abhijithvinod-indian-institue-of-technology-madras/RL_CartPole_QLearning/runs/g7y683h0' target=\"_blank\">fearless-sweep-28</a></strong> to <a href='https://wandb.ai/abhijithvinod-indian-institue-of-technology-madras/RL_CartPole_QLearning' target=\"_blank\">Weights & Biases</a> (<a href='https://wandb.me/developer-guide' target=\"_blank\">docs</a>)<br>Sweep page: <a href='https://wandb.ai/abhijithvinod-indian-institue-of-technology-madras/RL_CartPole_QLearning/sweeps/kreeqo81' target=\"_blank\">https://wandb.ai/abhijithvinod-indian-institue-of-technology-madras/RL_CartPole_QLearning/sweeps/kreeqo81</a>"
            ]
          },
          "metadata": {}
        },
        {
          "output_type": "display_data",
          "data": {
            "text/plain": [
              "<IPython.core.display.HTML object>"
            ],
            "text/html": [
              " View project at <a href='https://wandb.ai/abhijithvinod-indian-institue-of-technology-madras/RL_CartPole_QLearning' target=\"_blank\">https://wandb.ai/abhijithvinod-indian-institue-of-technology-madras/RL_CartPole_QLearning</a>"
            ]
          },
          "metadata": {}
        },
        {
          "output_type": "display_data",
          "data": {
            "text/plain": [
              "<IPython.core.display.HTML object>"
            ],
            "text/html": [
              " View sweep at <a href='https://wandb.ai/abhijithvinod-indian-institue-of-technology-madras/RL_CartPole_QLearning/sweeps/kreeqo81' target=\"_blank\">https://wandb.ai/abhijithvinod-indian-institue-of-technology-madras/RL_CartPole_QLearning/sweeps/kreeqo81</a>"
            ]
          },
          "metadata": {}
        },
        {
          "output_type": "display_data",
          "data": {
            "text/plain": [
              "<IPython.core.display.HTML object>"
            ],
            "text/html": [
              " View run at <a href='https://wandb.ai/abhijithvinod-indian-institue-of-technology-madras/RL_CartPole_QLearning/runs/g7y683h0' target=\"_blank\">https://wandb.ai/abhijithvinod-indian-institue-of-technology-madras/RL_CartPole_QLearning/runs/g7y683h0</a>"
            ]
          },
          "metadata": {}
        },
        {
          "output_type": "display_data",
          "data": {
            "text/plain": [
              "<IPython.core.display.HTML object>"
            ],
            "text/html": []
          },
          "metadata": {}
        },
        {
          "output_type": "display_data",
          "data": {
            "text/plain": [
              "<IPython.core.display.HTML object>"
            ],
            "text/html": [
              "<br>    <style><br>        .wandb-row {<br>            display: flex;<br>            flex-direction: row;<br>            flex-wrap: wrap;<br>            justify-content: flex-start;<br>            width: 100%;<br>        }<br>        .wandb-col {<br>            display: flex;<br>            flex-direction: column;<br>            flex-basis: 100%;<br>            flex: 1;<br>            padding: 10px;<br>        }<br>    </style><br><div class=\"wandb-row\"><div class=\"wandb-col\"><h3>Run history:</h3><br/><table class=\"wandb\"><tr><td>average_reward_across_seeds</td><td>▁</td></tr><tr><td>seed_101_episode</td><td>▁▁▁▂▂▂▂▂▂▂▃▃▃▃▄▄▄▄▅▅▅▅▅▆▆▆▆▆▆▆▆▇▇▇▇▇▇███</td></tr><tr><td>seed_101_reward</td><td>▁▁▁▁▁▁▁▁▁▂▂▂▂▁▂▃▄▅▄▂▃▂▂▂▃█▂▂▃▄▂▂▇▃▅▄▃▃▂▂</td></tr><tr><td>seed_123_episode</td><td>▁▁▁▂▂▃▃▃▃▃▃▃▄▄▄▄▄▄▄▄▄▅▅▅▅▅▆▆▆▆▇▇▇▇██████</td></tr><tr><td>seed_123_reward</td><td>▁▂▁▁▃▂▁▁▁▂▃▁▂▃▃▃▃▄▄▆▄▅▄▄▃▄▅▆▃▆▆▅▅▅█▇▇▇▅▄</td></tr><tr><td>seed_42_episode</td><td>▁▁▁▁▁▂▂▃▃▃▃▃▄▄▄▄▄▄▄▄▅▅▅▅▅▆▆▆▆▆▆▆▇▇▇▇▇▇██</td></tr><tr><td>seed_42_reward</td><td>▁▁▁▁▁▁▁▁▂▂▄▂▄▂▂▂▄▃▃▂▄▄▃▃▅▃▅▂▅▄▃▄▃▃▇▄▄█▅▆</td></tr><tr><td>seed_456_episode</td><td>▁▁▁▂▂▃▃▃▃▃▃▄▄▄▄▄▄▄▄▄▄▅▅▅▅▆▆▆▆▆▇▇▇▇▇▇▇███</td></tr><tr><td>seed_456_reward</td><td>▁▁▂▂▁▂▆▆▃▅▃▃▃▃▃▄▂▂▃▆▃▂▂▃▄▃▂▇▆▄▄▄▃█▃▄▅▇▃▅</td></tr><tr><td>seed_789_episode</td><td>▁▁▁▂▂▃▃▃▃▃▃▄▄▄▄▄▄▅▅▅▅▅▅▆▆▆▆▆▆▆▇▇▇▇▇▇████</td></tr><tr><td>seed_789_reward</td><td>▁▁▁▁▁▂▁▅▃▂▃▂█▃▂▂▃▃▃▃▂▃▃▃▃▃▄▂▂▂▂▄▄▂▃▃▂▃▃▅</td></tr></table><br/></div><div class=\"wandb-col\"><h3>Run summary:</h3><br/><table class=\"wandb\"><tr><td>average_reward_across_seeds</td><td>170.6</td></tr><tr><td>seed_101_episode</td><td>999</td></tr><tr><td>seed_101_reward</td><td>199</td></tr><tr><td>seed_123_episode</td><td>999</td></tr><tr><td>seed_123_reward</td><td>180</td></tr><tr><td>seed_42_episode</td><td>999</td></tr><tr><td>seed_42_reward</td><td>188</td></tr><tr><td>seed_456_episode</td><td>999</td></tr><tr><td>seed_456_reward</td><td>120</td></tr><tr><td>seed_789_episode</td><td>999</td></tr><tr><td>seed_789_reward</td><td>122</td></tr></table><br/></div></div>"
            ]
          },
          "metadata": {}
        },
        {
          "output_type": "display_data",
          "data": {
            "text/plain": [
              "<IPython.core.display.HTML object>"
            ],
            "text/html": [
              " View run <strong style=\"color:#cdcd00\">fearless-sweep-28</strong> at: <a href='https://wandb.ai/abhijithvinod-indian-institue-of-technology-madras/RL_CartPole_QLearning/runs/g7y683h0' target=\"_blank\">https://wandb.ai/abhijithvinod-indian-institue-of-technology-madras/RL_CartPole_QLearning/runs/g7y683h0</a><br> View project at: <a href='https://wandb.ai/abhijithvinod-indian-institue-of-technology-madras/RL_CartPole_QLearning' target=\"_blank\">https://wandb.ai/abhijithvinod-indian-institue-of-technology-madras/RL_CartPole_QLearning</a><br>Synced 5 W&B file(s), 0 media file(s), 0 artifact file(s) and 0 other file(s)"
            ]
          },
          "metadata": {}
        },
        {
          "output_type": "display_data",
          "data": {
            "text/plain": [
              "<IPython.core.display.HTML object>"
            ],
            "text/html": [
              "Find logs at: <code>./wandb/run-20250331_153926-g7y683h0/logs</code>"
            ]
          },
          "metadata": {}
        },
        {
          "output_type": "stream",
          "name": "stderr",
          "text": [
            "\u001b[34m\u001b[1mwandb\u001b[0m: Agent Starting Run: mqd2un6f with config:\n",
            "\u001b[34m\u001b[1mwandb\u001b[0m: \talpha: 0.333579133119166\n",
            "\u001b[34m\u001b[1mwandb\u001b[0m: \tgamma: 0.99\n",
            "\u001b[34m\u001b[1mwandb\u001b[0m: \tn_bins: 15\n",
            "\u001b[34m\u001b[1mwandb\u001b[0m: \tn_episodes: 1000\n",
            "\u001b[34m\u001b[1mwandb\u001b[0m: \tseed: 101\n",
            "\u001b[34m\u001b[1mwandb\u001b[0m: \ttemperature: 1.551547752589765\n"
          ]
        },
        {
          "output_type": "display_data",
          "data": {
            "text/plain": [
              "<IPython.core.display.HTML object>"
            ],
            "text/html": [
              "Tracking run with wandb version 0.19.8"
            ]
          },
          "metadata": {}
        },
        {
          "output_type": "display_data",
          "data": {
            "text/plain": [
              "<IPython.core.display.HTML object>"
            ],
            "text/html": [
              "Run data is saved locally in <code>/content/wandb/run-20250331_154112-mqd2un6f</code>"
            ]
          },
          "metadata": {}
        },
        {
          "output_type": "display_data",
          "data": {
            "text/plain": [
              "<IPython.core.display.HTML object>"
            ],
            "text/html": [
              "Syncing run <strong><a href='https://wandb.ai/abhijithvinod-indian-institue-of-technology-madras/RL_CartPole_QLearning/runs/mqd2un6f' target=\"_blank\">gentle-sweep-29</a></strong> to <a href='https://wandb.ai/abhijithvinod-indian-institue-of-technology-madras/RL_CartPole_QLearning' target=\"_blank\">Weights & Biases</a> (<a href='https://wandb.me/developer-guide' target=\"_blank\">docs</a>)<br>Sweep page: <a href='https://wandb.ai/abhijithvinod-indian-institue-of-technology-madras/RL_CartPole_QLearning/sweeps/kreeqo81' target=\"_blank\">https://wandb.ai/abhijithvinod-indian-institue-of-technology-madras/RL_CartPole_QLearning/sweeps/kreeqo81</a>"
            ]
          },
          "metadata": {}
        },
        {
          "output_type": "display_data",
          "data": {
            "text/plain": [
              "<IPython.core.display.HTML object>"
            ],
            "text/html": [
              " View project at <a href='https://wandb.ai/abhijithvinod-indian-institue-of-technology-madras/RL_CartPole_QLearning' target=\"_blank\">https://wandb.ai/abhijithvinod-indian-institue-of-technology-madras/RL_CartPole_QLearning</a>"
            ]
          },
          "metadata": {}
        },
        {
          "output_type": "display_data",
          "data": {
            "text/plain": [
              "<IPython.core.display.HTML object>"
            ],
            "text/html": [
              " View sweep at <a href='https://wandb.ai/abhijithvinod-indian-institue-of-technology-madras/RL_CartPole_QLearning/sweeps/kreeqo81' target=\"_blank\">https://wandb.ai/abhijithvinod-indian-institue-of-technology-madras/RL_CartPole_QLearning/sweeps/kreeqo81</a>"
            ]
          },
          "metadata": {}
        },
        {
          "output_type": "display_data",
          "data": {
            "text/plain": [
              "<IPython.core.display.HTML object>"
            ],
            "text/html": [
              " View run at <a href='https://wandb.ai/abhijithvinod-indian-institue-of-technology-madras/RL_CartPole_QLearning/runs/mqd2un6f' target=\"_blank\">https://wandb.ai/abhijithvinod-indian-institue-of-technology-madras/RL_CartPole_QLearning/runs/mqd2un6f</a>"
            ]
          },
          "metadata": {}
        },
        {
          "output_type": "display_data",
          "data": {
            "text/plain": [
              "<IPython.core.display.HTML object>"
            ],
            "text/html": []
          },
          "metadata": {}
        },
        {
          "output_type": "display_data",
          "data": {
            "text/plain": [
              "<IPython.core.display.HTML object>"
            ],
            "text/html": [
              "<br>    <style><br>        .wandb-row {<br>            display: flex;<br>            flex-direction: row;<br>            flex-wrap: wrap;<br>            justify-content: flex-start;<br>            width: 100%;<br>        }<br>        .wandb-col {<br>            display: flex;<br>            flex-direction: column;<br>            flex-basis: 100%;<br>            flex: 1;<br>            padding: 10px;<br>        }<br>    </style><br><div class=\"wandb-row\"><div class=\"wandb-col\"><h3>Run history:</h3><br/><table class=\"wandb\"><tr><td>average_reward_across_seeds</td><td>▁</td></tr><tr><td>seed_101_episode</td><td>▁▁▁▁▁▂▂▂▂▂▃▃▃▃▃▄▄▄▄▄▄▅▅▅▅▅▆▆▆▆▆▇▇███████</td></tr><tr><td>seed_101_reward</td><td>▁▁▂▂▂▄▃▂▂▂▂▃▄▂█▄▂▂▂▃▄▃▂▂▂▂▂▄▄▃▃▅▃▄▂▄▂▆▃▄</td></tr><tr><td>seed_123_episode</td><td>▁▁▁▁▁▁▂▂▂▂▂▂▂▂▃▃▃▃▄▄▄▄▅▅▅▆▆▆▆▆▆▆▆▆▇▇▇▇██</td></tr><tr><td>seed_123_reward</td><td>▁▂▁▂▁▂▄▆▃▃▂▄▂▅▃▃▅▃▃▃▃▃█▃▂▃▃█▂▂▂▂▃▃▃▄█▄▂▇</td></tr><tr><td>seed_42_episode</td><td>▁▁▁▁▂▂▂▂▂▂▂▂▃▃▃▃▃▃▄▄▄▄▄▅▆▆▆▆▆▆▇▇▇▇▇▇▇▇██</td></tr><tr><td>seed_42_reward</td><td>▁▁▂▁▃▁▂▃▄▁▆▄▄▅▄▂▂▅▇▆▇▃▆▆▁▅▃▆▅▅▅▆▇▅▅▃▇▅▃█</td></tr><tr><td>seed_456_episode</td><td>▁▁▂▂▂▃▃▃▃▃▃▄▄▄▄▄▄▄▅▅▅▅▅▅▅▆▆▆▆▆▇▇▇▇▇█████</td></tr><tr><td>seed_456_reward</td><td>▂▁▁▁▄▄▃▄▂▄▂▄▁▄▂▄▄▄▅▃▆▁▅▄▅▄▅▃▅█▅▅▅▄▂▄▂▂▆▅</td></tr><tr><td>seed_789_episode</td><td>▁▁▁▁▁▂▂▂▂▂▂▂▂▃▃▃▄▄▄▄▅▅▅▅▅▅▅▅▆▆▆▆▆▆▇▇▇▇▇█</td></tr><tr><td>seed_789_reward</td><td>▂▁▁▂▁▁▂▄▃▃▇▂▅▄▅▃▃▃▁▂▄▁▂█▄▆▄▄▄▂▂▇▅█▄▇▅▆▂▆</td></tr></table><br/></div><div class=\"wandb-col\"><h3>Run summary:</h3><br/><table class=\"wandb\"><tr><td>average_reward_across_seeds</td><td>172.82</td></tr><tr><td>seed_101_episode</td><td>999</td></tr><tr><td>seed_101_reward</td><td>262</td></tr><tr><td>seed_123_episode</td><td>999</td></tr><tr><td>seed_123_reward</td><td>172</td></tr><tr><td>seed_42_episode</td><td>999</td></tr><tr><td>seed_42_reward</td><td>148</td></tr><tr><td>seed_456_episode</td><td>999</td></tr><tr><td>seed_456_reward</td><td>156</td></tr><tr><td>seed_789_episode</td><td>999</td></tr><tr><td>seed_789_reward</td><td>167</td></tr></table><br/></div></div>"
            ]
          },
          "metadata": {}
        },
        {
          "output_type": "display_data",
          "data": {
            "text/plain": [
              "<IPython.core.display.HTML object>"
            ],
            "text/html": [
              " View run <strong style=\"color:#cdcd00\">gentle-sweep-29</strong> at: <a href='https://wandb.ai/abhijithvinod-indian-institue-of-technology-madras/RL_CartPole_QLearning/runs/mqd2un6f' target=\"_blank\">https://wandb.ai/abhijithvinod-indian-institue-of-technology-madras/RL_CartPole_QLearning/runs/mqd2un6f</a><br> View project at: <a href='https://wandb.ai/abhijithvinod-indian-institue-of-technology-madras/RL_CartPole_QLearning' target=\"_blank\">https://wandb.ai/abhijithvinod-indian-institue-of-technology-madras/RL_CartPole_QLearning</a><br>Synced 5 W&B file(s), 0 media file(s), 0 artifact file(s) and 0 other file(s)"
            ]
          },
          "metadata": {}
        },
        {
          "output_type": "display_data",
          "data": {
            "text/plain": [
              "<IPython.core.display.HTML object>"
            ],
            "text/html": [
              "Find logs at: <code>./wandb/run-20250331_154112-mqd2un6f/logs</code>"
            ]
          },
          "metadata": {}
        },
        {
          "output_type": "stream",
          "name": "stderr",
          "text": [
            "\u001b[34m\u001b[1mwandb\u001b[0m: Agent Starting Run: 67ufsz7j with config:\n",
            "\u001b[34m\u001b[1mwandb\u001b[0m: \talpha: 0.386837466898987\n",
            "\u001b[34m\u001b[1mwandb\u001b[0m: \tgamma: 0.99\n",
            "\u001b[34m\u001b[1mwandb\u001b[0m: \tn_bins: 15\n",
            "\u001b[34m\u001b[1mwandb\u001b[0m: \tn_episodes: 1000\n",
            "\u001b[34m\u001b[1mwandb\u001b[0m: \tseed: 101\n",
            "\u001b[34m\u001b[1mwandb\u001b[0m: \ttemperature: 0.46609176174595435\n"
          ]
        },
        {
          "output_type": "display_data",
          "data": {
            "text/plain": [
              "<IPython.core.display.HTML object>"
            ],
            "text/html": [
              "Tracking run with wandb version 0.19.8"
            ]
          },
          "metadata": {}
        },
        {
          "output_type": "display_data",
          "data": {
            "text/plain": [
              "<IPython.core.display.HTML object>"
            ],
            "text/html": [
              "Run data is saved locally in <code>/content/wandb/run-20250331_154319-67ufsz7j</code>"
            ]
          },
          "metadata": {}
        },
        {
          "output_type": "display_data",
          "data": {
            "text/plain": [
              "<IPython.core.display.HTML object>"
            ],
            "text/html": [
              "Syncing run <strong><a href='https://wandb.ai/abhijithvinod-indian-institue-of-technology-madras/RL_CartPole_QLearning/runs/67ufsz7j' target=\"_blank\">legendary-sweep-30</a></strong> to <a href='https://wandb.ai/abhijithvinod-indian-institue-of-technology-madras/RL_CartPole_QLearning' target=\"_blank\">Weights & Biases</a> (<a href='https://wandb.me/developer-guide' target=\"_blank\">docs</a>)<br>Sweep page: <a href='https://wandb.ai/abhijithvinod-indian-institue-of-technology-madras/RL_CartPole_QLearning/sweeps/kreeqo81' target=\"_blank\">https://wandb.ai/abhijithvinod-indian-institue-of-technology-madras/RL_CartPole_QLearning/sweeps/kreeqo81</a>"
            ]
          },
          "metadata": {}
        },
        {
          "output_type": "display_data",
          "data": {
            "text/plain": [
              "<IPython.core.display.HTML object>"
            ],
            "text/html": [
              " View project at <a href='https://wandb.ai/abhijithvinod-indian-institue-of-technology-madras/RL_CartPole_QLearning' target=\"_blank\">https://wandb.ai/abhijithvinod-indian-institue-of-technology-madras/RL_CartPole_QLearning</a>"
            ]
          },
          "metadata": {}
        },
        {
          "output_type": "display_data",
          "data": {
            "text/plain": [
              "<IPython.core.display.HTML object>"
            ],
            "text/html": [
              " View sweep at <a href='https://wandb.ai/abhijithvinod-indian-institue-of-technology-madras/RL_CartPole_QLearning/sweeps/kreeqo81' target=\"_blank\">https://wandb.ai/abhijithvinod-indian-institue-of-technology-madras/RL_CartPole_QLearning/sweeps/kreeqo81</a>"
            ]
          },
          "metadata": {}
        },
        {
          "output_type": "display_data",
          "data": {
            "text/plain": [
              "<IPython.core.display.HTML object>"
            ],
            "text/html": [
              " View run at <a href='https://wandb.ai/abhijithvinod-indian-institue-of-technology-madras/RL_CartPole_QLearning/runs/67ufsz7j' target=\"_blank\">https://wandb.ai/abhijithvinod-indian-institue-of-technology-madras/RL_CartPole_QLearning/runs/67ufsz7j</a>"
            ]
          },
          "metadata": {}
        },
        {
          "output_type": "display_data",
          "data": {
            "text/plain": [
              "<IPython.core.display.HTML object>"
            ],
            "text/html": []
          },
          "metadata": {}
        },
        {
          "output_type": "display_data",
          "data": {
            "text/plain": [
              "<IPython.core.display.HTML object>"
            ],
            "text/html": [
              "<br>    <style><br>        .wandb-row {<br>            display: flex;<br>            flex-direction: row;<br>            flex-wrap: wrap;<br>            justify-content: flex-start;<br>            width: 100%;<br>        }<br>        .wandb-col {<br>            display: flex;<br>            flex-direction: column;<br>            flex-basis: 100%;<br>            flex: 1;<br>            padding: 10px;<br>        }<br>    </style><br><div class=\"wandb-row\"><div class=\"wandb-col\"><h3>Run history:</h3><br/><table class=\"wandb\"><tr><td>average_reward_across_seeds</td><td>▁</td></tr><tr><td>seed_101_episode</td><td>▁▁▁▁▁▂▂▂▂▂▃▃▃▃▃▄▄▄▄▄▅▅▅▅▅▆▆▆▆▆▇▇▇▇▇█████</td></tr><tr><td>seed_101_reward</td><td>▂▃▂▂▇▂▃▁▃▅▂▅▃▂▁▁▇█▂▂▁█▃▂▂▂▁▁▂▃▆▇▃▄▁▄▆▂▂▂</td></tr><tr><td>seed_123_episode</td><td>▁▁▁▁▂▂▂▂▂▂▃▃▃▃▄▄▄▄▄▄▅▅▅▅▅▆▆▆▆▆▇▇▇▇▇▇████</td></tr><tr><td>seed_123_reward</td><td>▁▁▁▁▂▂▁▅▁▁▂▁▃▁▄▂█▁▁▂▁█▁▁▁▆▁▁▁▁▁▁▁▁▇▁▁▁▁█</td></tr><tr><td>seed_42_episode</td><td>▁▁▁▁▂▂▂▂▂▂▃▃▃▃▃▄▄▄▄▄▄▅▅▅▅▅▅▆▆▆▆▆▆▆▆▇▇███</td></tr><tr><td>seed_42_reward</td><td>▁▄▁▅▁▄▄▄▃▄▁▃█▁▄▁▁▁▁▂▃▂▁▁▆▁▄▁▆▁▁▄▄▃▁▅▁▁▄▁</td></tr><tr><td>seed_456_episode</td><td>▁▁▁▁▁▂▂▂▂▂▂▂▃▃▃▃▃▄▄▄▄▄▄▅▅▅▅▆▆▆▆▆▇▇▇▇▇███</td></tr><tr><td>seed_456_reward</td><td>▂█▃▁▅▃▄▃▃▇▄█▁▂▃▂▂▅▂▂▂▃▄▄▃▃▃▆▄▂▄▃▄▁▄▂▁▂▄▃</td></tr><tr><td>seed_789_episode</td><td>▁▁▁▁▂▂▂▂▂▂▂▃▃▃▃▃▄▄▄▄▄▄▄▄▅▅▆▆▆▆▆▇▇▇▇▇▇███</td></tr><tr><td>seed_789_reward</td><td>▁▁▁▁▁▄▅▆▅▅▁▁▃▃▃▁▄▃▁▁▁▁█▆▁▁█▅▁▂▁▂▂▂▇▂▁▁▁▆</td></tr></table><br/></div><div class=\"wandb-col\"><h3>Run summary:</h3><br/><table class=\"wandb\"><tr><td>average_reward_across_seeds</td><td>54.78</td></tr><tr><td>seed_101_episode</td><td>999</td></tr><tr><td>seed_101_reward</td><td>69</td></tr><tr><td>seed_123_episode</td><td>999</td></tr><tr><td>seed_123_reward</td><td>31</td></tr><tr><td>seed_42_episode</td><td>999</td></tr><tr><td>seed_42_reward</td><td>67</td></tr><tr><td>seed_456_episode</td><td>999</td></tr><tr><td>seed_456_reward</td><td>34</td></tr><tr><td>seed_789_episode</td><td>999</td></tr><tr><td>seed_789_reward</td><td>16</td></tr></table><br/></div></div>"
            ]
          },
          "metadata": {}
        },
        {
          "output_type": "display_data",
          "data": {
            "text/plain": [
              "<IPython.core.display.HTML object>"
            ],
            "text/html": [
              " View run <strong style=\"color:#cdcd00\">legendary-sweep-30</strong> at: <a href='https://wandb.ai/abhijithvinod-indian-institue-of-technology-madras/RL_CartPole_QLearning/runs/67ufsz7j' target=\"_blank\">https://wandb.ai/abhijithvinod-indian-institue-of-technology-madras/RL_CartPole_QLearning/runs/67ufsz7j</a><br> View project at: <a href='https://wandb.ai/abhijithvinod-indian-institue-of-technology-madras/RL_CartPole_QLearning' target=\"_blank\">https://wandb.ai/abhijithvinod-indian-institue-of-technology-madras/RL_CartPole_QLearning</a><br>Synced 5 W&B file(s), 0 media file(s), 0 artifact file(s) and 0 other file(s)"
            ]
          },
          "metadata": {}
        },
        {
          "output_type": "display_data",
          "data": {
            "text/plain": [
              "<IPython.core.display.HTML object>"
            ],
            "text/html": [
              "Find logs at: <code>./wandb/run-20250331_154319-67ufsz7j/logs</code>"
            ]
          },
          "metadata": {}
        },
        {
          "output_type": "stream",
          "name": "stderr",
          "text": [
            "\u001b[34m\u001b[1mwandb\u001b[0m: Agent Starting Run: gq11esae with config:\n",
            "\u001b[34m\u001b[1mwandb\u001b[0m: \talpha: 0.16966668634830356\n",
            "\u001b[34m\u001b[1mwandb\u001b[0m: \tgamma: 0.99\n",
            "\u001b[34m\u001b[1mwandb\u001b[0m: \tn_bins: 20\n",
            "\u001b[34m\u001b[1mwandb\u001b[0m: \tn_episodes: 1000\n",
            "\u001b[34m\u001b[1mwandb\u001b[0m: \tseed: 42\n",
            "\u001b[34m\u001b[1mwandb\u001b[0m: \ttemperature: 0.9583772547918896\n"
          ]
        },
        {
          "output_type": "display_data",
          "data": {
            "text/plain": [
              "<IPython.core.display.HTML object>"
            ],
            "text/html": [
              "Tracking run with wandb version 0.19.8"
            ]
          },
          "metadata": {}
        },
        {
          "output_type": "display_data",
          "data": {
            "text/plain": [
              "<IPython.core.display.HTML object>"
            ],
            "text/html": [
              "Run data is saved locally in <code>/content/wandb/run-20250331_154410-gq11esae</code>"
            ]
          },
          "metadata": {}
        },
        {
          "output_type": "display_data",
          "data": {
            "text/plain": [
              "<IPython.core.display.HTML object>"
            ],
            "text/html": [
              "Syncing run <strong><a href='https://wandb.ai/abhijithvinod-indian-institue-of-technology-madras/RL_CartPole_QLearning/runs/gq11esae' target=\"_blank\">ruby-sweep-31</a></strong> to <a href='https://wandb.ai/abhijithvinod-indian-institue-of-technology-madras/RL_CartPole_QLearning' target=\"_blank\">Weights & Biases</a> (<a href='https://wandb.me/developer-guide' target=\"_blank\">docs</a>)<br>Sweep page: <a href='https://wandb.ai/abhijithvinod-indian-institue-of-technology-madras/RL_CartPole_QLearning/sweeps/kreeqo81' target=\"_blank\">https://wandb.ai/abhijithvinod-indian-institue-of-technology-madras/RL_CartPole_QLearning/sweeps/kreeqo81</a>"
            ]
          },
          "metadata": {}
        },
        {
          "output_type": "display_data",
          "data": {
            "text/plain": [
              "<IPython.core.display.HTML object>"
            ],
            "text/html": [
              " View project at <a href='https://wandb.ai/abhijithvinod-indian-institue-of-technology-madras/RL_CartPole_QLearning' target=\"_blank\">https://wandb.ai/abhijithvinod-indian-institue-of-technology-madras/RL_CartPole_QLearning</a>"
            ]
          },
          "metadata": {}
        },
        {
          "output_type": "display_data",
          "data": {
            "text/plain": [
              "<IPython.core.display.HTML object>"
            ],
            "text/html": [
              " View sweep at <a href='https://wandb.ai/abhijithvinod-indian-institue-of-technology-madras/RL_CartPole_QLearning/sweeps/kreeqo81' target=\"_blank\">https://wandb.ai/abhijithvinod-indian-institue-of-technology-madras/RL_CartPole_QLearning/sweeps/kreeqo81</a>"
            ]
          },
          "metadata": {}
        },
        {
          "output_type": "display_data",
          "data": {
            "text/plain": [
              "<IPython.core.display.HTML object>"
            ],
            "text/html": [
              " View run at <a href='https://wandb.ai/abhijithvinod-indian-institue-of-technology-madras/RL_CartPole_QLearning/runs/gq11esae' target=\"_blank\">https://wandb.ai/abhijithvinod-indian-institue-of-technology-madras/RL_CartPole_QLearning/runs/gq11esae</a>"
            ]
          },
          "metadata": {}
        },
        {
          "output_type": "display_data",
          "data": {
            "text/plain": [
              "<IPython.core.display.HTML object>"
            ],
            "text/html": []
          },
          "metadata": {}
        },
        {
          "output_type": "display_data",
          "data": {
            "text/plain": [
              "<IPython.core.display.HTML object>"
            ],
            "text/html": [
              "<br>    <style><br>        .wandb-row {<br>            display: flex;<br>            flex-direction: row;<br>            flex-wrap: wrap;<br>            justify-content: flex-start;<br>            width: 100%;<br>        }<br>        .wandb-col {<br>            display: flex;<br>            flex-direction: column;<br>            flex-basis: 100%;<br>            flex: 1;<br>            padding: 10px;<br>        }<br>    </style><br><div class=\"wandb-row\"><div class=\"wandb-col\"><h3>Run history:</h3><br/><table class=\"wandb\"><tr><td>average_reward_across_seeds</td><td>▁</td></tr><tr><td>seed_101_episode</td><td>▁▁▁▂▂▂▂▂▂▂▃▃▃▃▃▃▄▄▄▄▄▄▅▅▅▅▅▅▆▆▆▆▇▇▇▇▇▇██</td></tr><tr><td>seed_101_reward</td><td>▁▃▁▅▄▃▄▃▂▄▃▃▄▄▂▃▄▃▂▂▃▄▆▂▃▃▄▄▂▃▃▃▆▄▃▅▄▄█▄</td></tr><tr><td>seed_123_episode</td><td>▁▁▁▁▁▁▁▂▂▂▂▃▃▃▃▄▄▄▄▄▅▅▅▅▅▆▆▆▆▆▇▇▇▇▇█████</td></tr><tr><td>seed_123_reward</td><td>▃▁▃▃▂▃▂▃▄▅▄▂▆▄▃▆▇▆▅▄██▇▅▇▇▅▇▇▇▅▆▆▅▆▆█▆▆▅</td></tr><tr><td>seed_42_episode</td><td>▁▂▂▂▂▃▃▃▃▃▃▄▄▄▄▅▅▅▅▅▅▅▅▅▆▆▆▆▆▆▆▇▇▇▇▇▇███</td></tr><tr><td>seed_42_reward</td><td>▁▁▄▆▄▅▇▃▂▄▄▄▅▅▄▄▅▆▆▆▆▅▅▅▅▅▅▅▅▃▆█▅▆▆▅▅▅▆█</td></tr><tr><td>seed_456_episode</td><td>▁▁▁▁▁▂▂▂▂▂▂▂▂▃▃▃▃▃▃▃▄▄▄▄▄▅▅▅▅▆▆▆▆▆▇▇████</td></tr><tr><td>seed_456_reward</td><td>▁▁▂▂▁▁▂▃▂▂▃▄▅▂▃▂▃▂▄▂▄▄▄▄▂▄█▄▃▃▄▃▂▄▄▄▂▃▃▂</td></tr><tr><td>seed_789_episode</td><td>▁▁▁▁▂▂▂▂▂▂▃▃▃▃▃▃▃▃▄▄▄▄▄▄▅▅▅▅▅▆▆▆▆▆▇▇████</td></tr><tr><td>seed_789_reward</td><td>▂▁▂▃▁▅▆▃▅▄▂▅▂▂▅▂▅▃▅▅▆▅▃▂▃▃▃▃▃▅▂▅▂▄▆▆▂█▆▄</td></tr></table><br/></div><div class=\"wandb-col\"><h3>Run summary:</h3><br/><table class=\"wandb\"><tr><td>average_reward_across_seeds</td><td>85.136</td></tr><tr><td>seed_101_episode</td><td>999</td></tr><tr><td>seed_101_reward</td><td>73</td></tr><tr><td>seed_123_episode</td><td>999</td></tr><tr><td>seed_123_reward</td><td>94</td></tr><tr><td>seed_42_episode</td><td>999</td></tr><tr><td>seed_42_reward</td><td>83</td></tr><tr><td>seed_456_episode</td><td>999</td></tr><tr><td>seed_456_reward</td><td>73</td></tr><tr><td>seed_789_episode</td><td>999</td></tr><tr><td>seed_789_reward</td><td>38</td></tr></table><br/></div></div>"
            ]
          },
          "metadata": {}
        },
        {
          "output_type": "display_data",
          "data": {
            "text/plain": [
              "<IPython.core.display.HTML object>"
            ],
            "text/html": [
              " View run <strong style=\"color:#cdcd00\">ruby-sweep-31</strong> at: <a href='https://wandb.ai/abhijithvinod-indian-institue-of-technology-madras/RL_CartPole_QLearning/runs/gq11esae' target=\"_blank\">https://wandb.ai/abhijithvinod-indian-institue-of-technology-madras/RL_CartPole_QLearning/runs/gq11esae</a><br> View project at: <a href='https://wandb.ai/abhijithvinod-indian-institue-of-technology-madras/RL_CartPole_QLearning' target=\"_blank\">https://wandb.ai/abhijithvinod-indian-institue-of-technology-madras/RL_CartPole_QLearning</a><br>Synced 5 W&B file(s), 0 media file(s), 0 artifact file(s) and 0 other file(s)"
            ]
          },
          "metadata": {}
        },
        {
          "output_type": "display_data",
          "data": {
            "text/plain": [
              "<IPython.core.display.HTML object>"
            ],
            "text/html": [
              "Find logs at: <code>./wandb/run-20250331_154410-gq11esae/logs</code>"
            ]
          },
          "metadata": {}
        },
        {
          "output_type": "stream",
          "name": "stderr",
          "text": [
            "\u001b[34m\u001b[1mwandb\u001b[0m: Agent Starting Run: psrp1fnq with config:\n",
            "\u001b[34m\u001b[1mwandb\u001b[0m: \talpha: 0.49471549249337143\n",
            "\u001b[34m\u001b[1mwandb\u001b[0m: \tgamma: 0.99\n",
            "\u001b[34m\u001b[1mwandb\u001b[0m: \tn_bins: 10\n",
            "\u001b[34m\u001b[1mwandb\u001b[0m: \tn_episodes: 1000\n",
            "\u001b[34m\u001b[1mwandb\u001b[0m: \tseed: 42\n",
            "\u001b[34m\u001b[1mwandb\u001b[0m: \ttemperature: 0.5109684485299866\n"
          ]
        },
        {
          "output_type": "display_data",
          "data": {
            "text/plain": [
              "<IPython.core.display.HTML object>"
            ],
            "text/html": [
              "Tracking run with wandb version 0.19.8"
            ]
          },
          "metadata": {}
        },
        {
          "output_type": "display_data",
          "data": {
            "text/plain": [
              "<IPython.core.display.HTML object>"
            ],
            "text/html": [
              "Run data is saved locally in <code>/content/wandb/run-20250331_154511-psrp1fnq</code>"
            ]
          },
          "metadata": {}
        },
        {
          "output_type": "display_data",
          "data": {
            "text/plain": [
              "<IPython.core.display.HTML object>"
            ],
            "text/html": [
              "Syncing run <strong><a href='https://wandb.ai/abhijithvinod-indian-institue-of-technology-madras/RL_CartPole_QLearning/runs/psrp1fnq' target=\"_blank\">dauntless-sweep-32</a></strong> to <a href='https://wandb.ai/abhijithvinod-indian-institue-of-technology-madras/RL_CartPole_QLearning' target=\"_blank\">Weights & Biases</a> (<a href='https://wandb.me/developer-guide' target=\"_blank\">docs</a>)<br>Sweep page: <a href='https://wandb.ai/abhijithvinod-indian-institue-of-technology-madras/RL_CartPole_QLearning/sweeps/kreeqo81' target=\"_blank\">https://wandb.ai/abhijithvinod-indian-institue-of-technology-madras/RL_CartPole_QLearning/sweeps/kreeqo81</a>"
            ]
          },
          "metadata": {}
        },
        {
          "output_type": "display_data",
          "data": {
            "text/plain": [
              "<IPython.core.display.HTML object>"
            ],
            "text/html": [
              " View project at <a href='https://wandb.ai/abhijithvinod-indian-institue-of-technology-madras/RL_CartPole_QLearning' target=\"_blank\">https://wandb.ai/abhijithvinod-indian-institue-of-technology-madras/RL_CartPole_QLearning</a>"
            ]
          },
          "metadata": {}
        },
        {
          "output_type": "display_data",
          "data": {
            "text/plain": [
              "<IPython.core.display.HTML object>"
            ],
            "text/html": [
              " View sweep at <a href='https://wandb.ai/abhijithvinod-indian-institue-of-technology-madras/RL_CartPole_QLearning/sweeps/kreeqo81' target=\"_blank\">https://wandb.ai/abhijithvinod-indian-institue-of-technology-madras/RL_CartPole_QLearning/sweeps/kreeqo81</a>"
            ]
          },
          "metadata": {}
        },
        {
          "output_type": "display_data",
          "data": {
            "text/plain": [
              "<IPython.core.display.HTML object>"
            ],
            "text/html": [
              " View run at <a href='https://wandb.ai/abhijithvinod-indian-institue-of-technology-madras/RL_CartPole_QLearning/runs/psrp1fnq' target=\"_blank\">https://wandb.ai/abhijithvinod-indian-institue-of-technology-madras/RL_CartPole_QLearning/runs/psrp1fnq</a>"
            ]
          },
          "metadata": {}
        },
        {
          "output_type": "display_data",
          "data": {
            "text/plain": [
              "<IPython.core.display.HTML object>"
            ],
            "text/html": []
          },
          "metadata": {}
        },
        {
          "output_type": "display_data",
          "data": {
            "text/plain": [
              "<IPython.core.display.HTML object>"
            ],
            "text/html": [
              "<br>    <style><br>        .wandb-row {<br>            display: flex;<br>            flex-direction: row;<br>            flex-wrap: wrap;<br>            justify-content: flex-start;<br>            width: 100%;<br>        }<br>        .wandb-col {<br>            display: flex;<br>            flex-direction: column;<br>            flex-basis: 100%;<br>            flex: 1;<br>            padding: 10px;<br>        }<br>    </style><br><div class=\"wandb-row\"><div class=\"wandb-col\"><h3>Run history:</h3><br/><table class=\"wandb\"><tr><td>average_reward_across_seeds</td><td>▁</td></tr><tr><td>seed_101_episode</td><td>▁▁▁▁▂▂▂▂▂▂▃▃▃▄▄▄▄▄▅▅▅▅▅▅▅▆▆▆▆▆▆▆▆▇▇▇▇███</td></tr><tr><td>seed_101_reward</td><td>▂▁▁█▂▃▄▅█▃▂▅▂▅▂▂▅▄▄▂▃▂▃▁▅▃▃▃▃▃▃▄▁▂▂▁▃▂▄▁</td></tr><tr><td>seed_123_episode</td><td>▁▁▁▁▂▂▂▂▃▃▃▃▃▄▄▄▄▄▄▄▅▅▅▆▆▆▆▆▆▆▆▆▇▇▇▇▇▇██</td></tr><tr><td>seed_123_reward</td><td>▂▅▁▁▁▅█▁▄▁▁▅▄▅▅▄▅▁▄▅▄▁▄▄▁▅▁▁▄▄▄▄▁▁▁▁▁▄▄▄</td></tr><tr><td>seed_42_episode</td><td>▁▁▁▁▁▂▂▂▃▃▃▃▃▃▄▄▄▄▅▅▅▅▆▆▆▆▆▆▆▆▇▇▇▇▇▇████</td></tr><tr><td>seed_42_reward</td><td>▃▁▂▂▄▁▃▁▂▃▃▁▂▁▃▂▆▆▄▆▂▅▅▆███▇▇▅▇▄▇▅▄▅▆▄▆█</td></tr><tr><td>seed_456_episode</td><td>▁▁▁▁▁▁▁▁▁▁▂▂▂▂▂▃▃▃▃▄▄▅▅▅▅▅▅▅▆▆▇▇▇▇▇█████</td></tr><tr><td>seed_456_reward</td><td>▃▃▃▁▂▂▁▂▂▃▃▃▅▂▃█▃▂▃▄▃▃▃▃▂▃▆▂▇▅▃▃▁▃▂▆▃▆▆▁</td></tr><tr><td>seed_789_episode</td><td>▁▁▁▁▁▂▂▂▂▂▂▂▂▂▃▃▃▄▄▅▅▅▅▅▆▆▆▇▇▇▇▇▇▇▇█████</td></tr><tr><td>seed_789_reward</td><td>▅▇▅▁█▄▁▅▄▆▅▂▃▅▅▅▅▄▃▆▂▅▅▁▃▃▄▆▃▅█▄▃▁▇▅▁▂▄▆</td></tr></table><br/></div><div class=\"wandb-col\"><h3>Run summary:</h3><br/><table class=\"wandb\"><tr><td>average_reward_across_seeds</td><td>37.26</td></tr><tr><td>seed_101_episode</td><td>999</td></tr><tr><td>seed_101_reward</td><td>41</td></tr><tr><td>seed_123_episode</td><td>999</td></tr><tr><td>seed_123_reward</td><td>52</td></tr><tr><td>seed_42_episode</td><td>999</td></tr><tr><td>seed_42_reward</td><td>27</td></tr><tr><td>seed_456_episode</td><td>999</td></tr><tr><td>seed_456_reward</td><td>16</td></tr><tr><td>seed_789_episode</td><td>999</td></tr><tr><td>seed_789_reward</td><td>104</td></tr></table><br/></div></div>"
            ]
          },
          "metadata": {}
        },
        {
          "output_type": "display_data",
          "data": {
            "text/plain": [
              "<IPython.core.display.HTML object>"
            ],
            "text/html": [
              " View run <strong style=\"color:#cdcd00\">dauntless-sweep-32</strong> at: <a href='https://wandb.ai/abhijithvinod-indian-institue-of-technology-madras/RL_CartPole_QLearning/runs/psrp1fnq' target=\"_blank\">https://wandb.ai/abhijithvinod-indian-institue-of-technology-madras/RL_CartPole_QLearning/runs/psrp1fnq</a><br> View project at: <a href='https://wandb.ai/abhijithvinod-indian-institue-of-technology-madras/RL_CartPole_QLearning' target=\"_blank\">https://wandb.ai/abhijithvinod-indian-institue-of-technology-madras/RL_CartPole_QLearning</a><br>Synced 5 W&B file(s), 0 media file(s), 0 artifact file(s) and 0 other file(s)"
            ]
          },
          "metadata": {}
        },
        {
          "output_type": "display_data",
          "data": {
            "text/plain": [
              "<IPython.core.display.HTML object>"
            ],
            "text/html": [
              "Find logs at: <code>./wandb/run-20250331_154511-psrp1fnq/logs</code>"
            ]
          },
          "metadata": {}
        },
        {
          "output_type": "stream",
          "name": "stderr",
          "text": [
            "\u001b[34m\u001b[1mwandb\u001b[0m: Agent Starting Run: l70dlc0w with config:\n",
            "\u001b[34m\u001b[1mwandb\u001b[0m: \talpha: 0.06531826328093572\n",
            "\u001b[34m\u001b[1mwandb\u001b[0m: \tgamma: 0.99\n",
            "\u001b[34m\u001b[1mwandb\u001b[0m: \tn_bins: 15\n",
            "\u001b[34m\u001b[1mwandb\u001b[0m: \tn_episodes: 1000\n",
            "\u001b[34m\u001b[1mwandb\u001b[0m: \tseed: 456\n",
            "\u001b[34m\u001b[1mwandb\u001b[0m: \ttemperature: 1.4800694662112472\n"
          ]
        },
        {
          "output_type": "display_data",
          "data": {
            "text/plain": [
              "<IPython.core.display.HTML object>"
            ],
            "text/html": [
              "Tracking run with wandb version 0.19.8"
            ]
          },
          "metadata": {}
        },
        {
          "output_type": "display_data",
          "data": {
            "text/plain": [
              "<IPython.core.display.HTML object>"
            ],
            "text/html": [
              "Run data is saved locally in <code>/content/wandb/run-20250331_154548-l70dlc0w</code>"
            ]
          },
          "metadata": {}
        },
        {
          "output_type": "display_data",
          "data": {
            "text/plain": [
              "<IPython.core.display.HTML object>"
            ],
            "text/html": [
              "Syncing run <strong><a href='https://wandb.ai/abhijithvinod-indian-institue-of-technology-madras/RL_CartPole_QLearning/runs/l70dlc0w' target=\"_blank\">dazzling-sweep-33</a></strong> to <a href='https://wandb.ai/abhijithvinod-indian-institue-of-technology-madras/RL_CartPole_QLearning' target=\"_blank\">Weights & Biases</a> (<a href='https://wandb.me/developer-guide' target=\"_blank\">docs</a>)<br>Sweep page: <a href='https://wandb.ai/abhijithvinod-indian-institue-of-technology-madras/RL_CartPole_QLearning/sweeps/kreeqo81' target=\"_blank\">https://wandb.ai/abhijithvinod-indian-institue-of-technology-madras/RL_CartPole_QLearning/sweeps/kreeqo81</a>"
            ]
          },
          "metadata": {}
        },
        {
          "output_type": "display_data",
          "data": {
            "text/plain": [
              "<IPython.core.display.HTML object>"
            ],
            "text/html": [
              " View project at <a href='https://wandb.ai/abhijithvinod-indian-institue-of-technology-madras/RL_CartPole_QLearning' target=\"_blank\">https://wandb.ai/abhijithvinod-indian-institue-of-technology-madras/RL_CartPole_QLearning</a>"
            ]
          },
          "metadata": {}
        },
        {
          "output_type": "display_data",
          "data": {
            "text/plain": [
              "<IPython.core.display.HTML object>"
            ],
            "text/html": [
              " View sweep at <a href='https://wandb.ai/abhijithvinod-indian-institue-of-technology-madras/RL_CartPole_QLearning/sweeps/kreeqo81' target=\"_blank\">https://wandb.ai/abhijithvinod-indian-institue-of-technology-madras/RL_CartPole_QLearning/sweeps/kreeqo81</a>"
            ]
          },
          "metadata": {}
        },
        {
          "output_type": "display_data",
          "data": {
            "text/plain": [
              "<IPython.core.display.HTML object>"
            ],
            "text/html": [
              " View run at <a href='https://wandb.ai/abhijithvinod-indian-institue-of-technology-madras/RL_CartPole_QLearning/runs/l70dlc0w' target=\"_blank\">https://wandb.ai/abhijithvinod-indian-institue-of-technology-madras/RL_CartPole_QLearning/runs/l70dlc0w</a>"
            ]
          },
          "metadata": {}
        },
        {
          "output_type": "display_data",
          "data": {
            "text/plain": [
              "<IPython.core.display.HTML object>"
            ],
            "text/html": []
          },
          "metadata": {}
        },
        {
          "output_type": "display_data",
          "data": {
            "text/plain": [
              "<IPython.core.display.HTML object>"
            ],
            "text/html": [
              "<br>    <style><br>        .wandb-row {<br>            display: flex;<br>            flex-direction: row;<br>            flex-wrap: wrap;<br>            justify-content: flex-start;<br>            width: 100%;<br>        }<br>        .wandb-col {<br>            display: flex;<br>            flex-direction: column;<br>            flex-basis: 100%;<br>            flex: 1;<br>            padding: 10px;<br>        }<br>    </style><br><div class=\"wandb-row\"><div class=\"wandb-col\"><h3>Run history:</h3><br/><table class=\"wandb\"><tr><td>average_reward_across_seeds</td><td>▁</td></tr><tr><td>seed_101_episode</td><td>▁▁▂▂▂▂▂▂▂▂▃▃▃▃▃▄▄▄▄▄▄▄▄▄▅▅▅▅▅▆▆▆▆▇▇▇▇▇▇█</td></tr><tr><td>seed_101_reward</td><td>▁▁▁▁▁▁▁▂▁▁▁▁▁▁▁▂▂▁▂▂▂▁▂▂▂▂▂▃▂▃▃▃▂▂▃▄█▂▂▂</td></tr><tr><td>seed_123_episode</td><td>▁▁▁▁▂▂▂▂▃▃▃▃▃▃▃▄▄▄▄▄▄▅▅▅▅▆▆▆▆▆▆▇▇▇▇█████</td></tr><tr><td>seed_123_reward</td><td>▂▂▁▁▂▁▂▂▁▁▃▁▁▁▃▁▄▁▂▁▁▁▆▂▅█▅▆▂▂▆▄▇▆▂▆▆▅▃▇</td></tr><tr><td>seed_42_episode</td><td>▁▁▁▁▂▂▂▂▂▂▂▂▂▃▃▃▃▃▃▃▄▄▄▅▅▅▅▅▅▅▅▅▆▆▆▇▇███</td></tr><tr><td>seed_42_reward</td><td>▁▁▁▁▂▁▂▂▃▂▂▁▂▂▁▂▁▂▂▂▁▂▂▂▂▃▂▄▂▂▂▄▂▂▅▆█▅▃▄</td></tr><tr><td>seed_456_episode</td><td>▁▁▁▁▁▂▂▂▂▂▂▂▂▂▃▃▃▃▃▄▅▅▅▅▅▅▅▅▅▆▆▆▆▆▇▇▇███</td></tr><tr><td>seed_456_reward</td><td>▂▂▁▂▁▁▂▁▂▃▂▁▁▃▃▁▁█▂▁▅▂▃▆▂▇▆▁▃▃▃▆▂▂█▄▅▄▁▇</td></tr><tr><td>seed_789_episode</td><td>▁▁▁▁▂▂▂▂▂▃▃▄▄▄▄▄▄▄▄▄▄▄▅▅▅▅▅▅▅▆▆▆▆▇▇▇▇▇██</td></tr><tr><td>seed_789_reward</td><td>▁▁▁▁▁▁▁▁▂▂▃▁▁▁▁▁▁▃▂▂▃▅▂▂▁▂▃▄▁▃▄▄▄▃█▄▄▄▂▄</td></tr></table><br/></div><div class=\"wandb-col\"><h3>Run summary:</h3><br/><table class=\"wandb\"><tr><td>average_reward_across_seeds</td><td>120.896</td></tr><tr><td>seed_101_episode</td><td>999</td></tr><tr><td>seed_101_reward</td><td>214</td></tr><tr><td>seed_123_episode</td><td>999</td></tr><tr><td>seed_123_reward</td><td>77</td></tr><tr><td>seed_42_episode</td><td>999</td></tr><tr><td>seed_42_reward</td><td>120</td></tr><tr><td>seed_456_episode</td><td>999</td></tr><tr><td>seed_456_reward</td><td>500</td></tr><tr><td>seed_789_episode</td><td>999</td></tr><tr><td>seed_789_reward</td><td>187</td></tr></table><br/></div></div>"
            ]
          },
          "metadata": {}
        },
        {
          "output_type": "display_data",
          "data": {
            "text/plain": [
              "<IPython.core.display.HTML object>"
            ],
            "text/html": [
              " View run <strong style=\"color:#cdcd00\">dazzling-sweep-33</strong> at: <a href='https://wandb.ai/abhijithvinod-indian-institue-of-technology-madras/RL_CartPole_QLearning/runs/l70dlc0w' target=\"_blank\">https://wandb.ai/abhijithvinod-indian-institue-of-technology-madras/RL_CartPole_QLearning/runs/l70dlc0w</a><br> View project at: <a href='https://wandb.ai/abhijithvinod-indian-institue-of-technology-madras/RL_CartPole_QLearning' target=\"_blank\">https://wandb.ai/abhijithvinod-indian-institue-of-technology-madras/RL_CartPole_QLearning</a><br>Synced 5 W&B file(s), 0 media file(s), 0 artifact file(s) and 0 other file(s)"
            ]
          },
          "metadata": {}
        },
        {
          "output_type": "display_data",
          "data": {
            "text/plain": [
              "<IPython.core.display.HTML object>"
            ],
            "text/html": [
              "Find logs at: <code>./wandb/run-20250331_154548-l70dlc0w/logs</code>"
            ]
          },
          "metadata": {}
        },
        {
          "output_type": "stream",
          "name": "stderr",
          "text": [
            "\u001b[34m\u001b[1mwandb\u001b[0m: Agent Starting Run: 874ik242 with config:\n",
            "\u001b[34m\u001b[1mwandb\u001b[0m: \talpha: 0.3979447687895547\n",
            "\u001b[34m\u001b[1mwandb\u001b[0m: \tgamma: 0.99\n",
            "\u001b[34m\u001b[1mwandb\u001b[0m: \tn_bins: 20\n",
            "\u001b[34m\u001b[1mwandb\u001b[0m: \tn_episodes: 1000\n",
            "\u001b[34m\u001b[1mwandb\u001b[0m: \tseed: 42\n",
            "\u001b[34m\u001b[1mwandb\u001b[0m: \ttemperature: 1.4011001965489205\n"
          ]
        },
        {
          "output_type": "display_data",
          "data": {
            "text/plain": [
              "<IPython.core.display.HTML object>"
            ],
            "text/html": [
              "Tracking run with wandb version 0.19.8"
            ]
          },
          "metadata": {}
        },
        {
          "output_type": "display_data",
          "data": {
            "text/plain": [
              "<IPython.core.display.HTML object>"
            ],
            "text/html": [
              "Run data is saved locally in <code>/content/wandb/run-20250331_154648-874ik242</code>"
            ]
          },
          "metadata": {}
        },
        {
          "output_type": "display_data",
          "data": {
            "text/plain": [
              "<IPython.core.display.HTML object>"
            ],
            "text/html": [
              "Syncing run <strong><a href='https://wandb.ai/abhijithvinod-indian-institue-of-technology-madras/RL_CartPole_QLearning/runs/874ik242' target=\"_blank\">logical-sweep-34</a></strong> to <a href='https://wandb.ai/abhijithvinod-indian-institue-of-technology-madras/RL_CartPole_QLearning' target=\"_blank\">Weights & Biases</a> (<a href='https://wandb.me/developer-guide' target=\"_blank\">docs</a>)<br>Sweep page: <a href='https://wandb.ai/abhijithvinod-indian-institue-of-technology-madras/RL_CartPole_QLearning/sweeps/kreeqo81' target=\"_blank\">https://wandb.ai/abhijithvinod-indian-institue-of-technology-madras/RL_CartPole_QLearning/sweeps/kreeqo81</a>"
            ]
          },
          "metadata": {}
        },
        {
          "output_type": "display_data",
          "data": {
            "text/plain": [
              "<IPython.core.display.HTML object>"
            ],
            "text/html": [
              " View project at <a href='https://wandb.ai/abhijithvinod-indian-institue-of-technology-madras/RL_CartPole_QLearning' target=\"_blank\">https://wandb.ai/abhijithvinod-indian-institue-of-technology-madras/RL_CartPole_QLearning</a>"
            ]
          },
          "metadata": {}
        },
        {
          "output_type": "display_data",
          "data": {
            "text/plain": [
              "<IPython.core.display.HTML object>"
            ],
            "text/html": [
              " View sweep at <a href='https://wandb.ai/abhijithvinod-indian-institue-of-technology-madras/RL_CartPole_QLearning/sweeps/kreeqo81' target=\"_blank\">https://wandb.ai/abhijithvinod-indian-institue-of-technology-madras/RL_CartPole_QLearning/sweeps/kreeqo81</a>"
            ]
          },
          "metadata": {}
        },
        {
          "output_type": "display_data",
          "data": {
            "text/plain": [
              "<IPython.core.display.HTML object>"
            ],
            "text/html": [
              " View run at <a href='https://wandb.ai/abhijithvinod-indian-institue-of-technology-madras/RL_CartPole_QLearning/runs/874ik242' target=\"_blank\">https://wandb.ai/abhijithvinod-indian-institue-of-technology-madras/RL_CartPole_QLearning/runs/874ik242</a>"
            ]
          },
          "metadata": {}
        },
        {
          "output_type": "display_data",
          "data": {
            "text/plain": [
              "<IPython.core.display.HTML object>"
            ],
            "text/html": []
          },
          "metadata": {}
        },
        {
          "output_type": "display_data",
          "data": {
            "text/plain": [
              "<IPython.core.display.HTML object>"
            ],
            "text/html": [
              "<br>    <style><br>        .wandb-row {<br>            display: flex;<br>            flex-direction: row;<br>            flex-wrap: wrap;<br>            justify-content: flex-start;<br>            width: 100%;<br>        }<br>        .wandb-col {<br>            display: flex;<br>            flex-direction: column;<br>            flex-basis: 100%;<br>            flex: 1;<br>            padding: 10px;<br>        }<br>    </style><br><div class=\"wandb-row\"><div class=\"wandb-col\"><h3>Run history:</h3><br/><table class=\"wandb\"><tr><td>average_reward_across_seeds</td><td>▁</td></tr><tr><td>seed_101_episode</td><td>▁▂▂▂▂▂▂▂▃▃▃▃▃▃▄▄▅▅▅▅▆▆▆▆▆▆▆▆▆▆▆▇▇▇▇▇████</td></tr><tr><td>seed_101_reward</td><td>▄▃▅▅▄▅▄▅▆▆▃▄▅▁▆▄▃█▃▂▆▆▄▆▆▇▇▇▂▅▅▆▆▃▂▃▄▄▄▂</td></tr><tr><td>seed_123_episode</td><td>▁▁▁▂▂▃▃▃▃▃▄▄▄▄▄▄▄▅▅▅▅▅▆▆▆▆▆▆▆▆▇▇▇▇▇▇▇███</td></tr><tr><td>seed_123_reward</td><td>▁▁▂▂▂▂▅▃▃▃▃▂▄▂▃▃▂▃▂▂▃▃▆▄▃▂▆█▅▄▅▃▃▆▃▄▅▅▅▃</td></tr><tr><td>seed_42_episode</td><td>▁▁▁▁▁▂▂▃▃▃▃▃▃▃▃▄▄▄▄▄▅▅▅▅▅▅▅▆▆▆▇▇▇▇▇▇▇███</td></tr><tr><td>seed_42_reward</td><td>▁▂▁▃▃▁▄▃▂▄▅▄▁▄▂▅▅▅▄▇▅▄█▆▇▅▅▇▄▅▅▆▆▇▇▆█▇▄▆</td></tr><tr><td>seed_456_episode</td><td>▁▁▁▂▂▂▃▃▃▄▄▅▅▅▅▅▅▅▅▅▆▆▆▆▆▆▇▇▇▇▇▇▇▇██████</td></tr><tr><td>seed_456_reward</td><td>▁▃▁▄▄▃▃▅▃▃▃▃▄▂▄▃▅▄▃▃▆▂▆▇▂▃▇▃██▄▃▇█▄▃▇▇█▃</td></tr><tr><td>seed_789_episode</td><td>▁▁▁▁▂▂▂▂▂▂▃▃▃▃▃▃▄▄▄▄▅▅▅▅▅▅▅▅▆▆▆▆▆▆▇▇▇███</td></tr><tr><td>seed_789_reward</td><td>▁▂▁▁▁▁▄▄▄▄▅▄▄▄▅▆▆▅▆▅▆▅▆▆▆▇▇▇▇▇▇▇▄█▇▇▃▄█▄</td></tr></table><br/></div><div class=\"wandb-col\"><h3>Run summary:</h3><br/><table class=\"wandb\"><tr><td>average_reward_across_seeds</td><td>172.408</td></tr><tr><td>seed_101_episode</td><td>999</td></tr><tr><td>seed_101_reward</td><td>105</td></tr><tr><td>seed_123_episode</td><td>999</td></tr><tr><td>seed_123_reward</td><td>197</td></tr><tr><td>seed_42_episode</td><td>999</td></tr><tr><td>seed_42_reward</td><td>164</td></tr><tr><td>seed_456_episode</td><td>999</td></tr><tr><td>seed_456_reward</td><td>189</td></tr><tr><td>seed_789_episode</td><td>999</td></tr><tr><td>seed_789_reward</td><td>163</td></tr></table><br/></div></div>"
            ]
          },
          "metadata": {}
        },
        {
          "output_type": "display_data",
          "data": {
            "text/plain": [
              "<IPython.core.display.HTML object>"
            ],
            "text/html": [
              " View run <strong style=\"color:#cdcd00\">logical-sweep-34</strong> at: <a href='https://wandb.ai/abhijithvinod-indian-institue-of-technology-madras/RL_CartPole_QLearning/runs/874ik242' target=\"_blank\">https://wandb.ai/abhijithvinod-indian-institue-of-technology-madras/RL_CartPole_QLearning/runs/874ik242</a><br> View project at: <a href='https://wandb.ai/abhijithvinod-indian-institue-of-technology-madras/RL_CartPole_QLearning' target=\"_blank\">https://wandb.ai/abhijithvinod-indian-institue-of-technology-madras/RL_CartPole_QLearning</a><br>Synced 5 W&B file(s), 0 media file(s), 0 artifact file(s) and 0 other file(s)"
            ]
          },
          "metadata": {}
        },
        {
          "output_type": "display_data",
          "data": {
            "text/plain": [
              "<IPython.core.display.HTML object>"
            ],
            "text/html": [
              "Find logs at: <code>./wandb/run-20250331_154648-874ik242/logs</code>"
            ]
          },
          "metadata": {}
        },
        {
          "output_type": "stream",
          "name": "stderr",
          "text": [
            "\u001b[34m\u001b[1mwandb\u001b[0m: Agent Starting Run: 3p5rpn0z with config:\n",
            "\u001b[34m\u001b[1mwandb\u001b[0m: \talpha: 0.14601429753764594\n",
            "\u001b[34m\u001b[1mwandb\u001b[0m: \tgamma: 0.99\n",
            "\u001b[34m\u001b[1mwandb\u001b[0m: \tn_bins: 10\n",
            "\u001b[34m\u001b[1mwandb\u001b[0m: \tn_episodes: 1000\n",
            "\u001b[34m\u001b[1mwandb\u001b[0m: \tseed: 456\n",
            "\u001b[34m\u001b[1mwandb\u001b[0m: \ttemperature: 0.16017220106342803\n"
          ]
        },
        {
          "output_type": "display_data",
          "data": {
            "text/plain": [
              "<IPython.core.display.HTML object>"
            ],
            "text/html": [
              "Tracking run with wandb version 0.19.8"
            ]
          },
          "metadata": {}
        },
        {
          "output_type": "display_data",
          "data": {
            "text/plain": [
              "<IPython.core.display.HTML object>"
            ],
            "text/html": [
              "Run data is saved locally in <code>/content/wandb/run-20250331_154845-3p5rpn0z</code>"
            ]
          },
          "metadata": {}
        },
        {
          "output_type": "display_data",
          "data": {
            "text/plain": [
              "<IPython.core.display.HTML object>"
            ],
            "text/html": [
              "Syncing run <strong><a href='https://wandb.ai/abhijithvinod-indian-institue-of-technology-madras/RL_CartPole_QLearning/runs/3p5rpn0z' target=\"_blank\">exalted-sweep-35</a></strong> to <a href='https://wandb.ai/abhijithvinod-indian-institue-of-technology-madras/RL_CartPole_QLearning' target=\"_blank\">Weights & Biases</a> (<a href='https://wandb.me/developer-guide' target=\"_blank\">docs</a>)<br>Sweep page: <a href='https://wandb.ai/abhijithvinod-indian-institue-of-technology-madras/RL_CartPole_QLearning/sweeps/kreeqo81' target=\"_blank\">https://wandb.ai/abhijithvinod-indian-institue-of-technology-madras/RL_CartPole_QLearning/sweeps/kreeqo81</a>"
            ]
          },
          "metadata": {}
        },
        {
          "output_type": "display_data",
          "data": {
            "text/plain": [
              "<IPython.core.display.HTML object>"
            ],
            "text/html": [
              " View project at <a href='https://wandb.ai/abhijithvinod-indian-institue-of-technology-madras/RL_CartPole_QLearning' target=\"_blank\">https://wandb.ai/abhijithvinod-indian-institue-of-technology-madras/RL_CartPole_QLearning</a>"
            ]
          },
          "metadata": {}
        },
        {
          "output_type": "display_data",
          "data": {
            "text/plain": [
              "<IPython.core.display.HTML object>"
            ],
            "text/html": [
              " View sweep at <a href='https://wandb.ai/abhijithvinod-indian-institue-of-technology-madras/RL_CartPole_QLearning/sweeps/kreeqo81' target=\"_blank\">https://wandb.ai/abhijithvinod-indian-institue-of-technology-madras/RL_CartPole_QLearning/sweeps/kreeqo81</a>"
            ]
          },
          "metadata": {}
        },
        {
          "output_type": "display_data",
          "data": {
            "text/plain": [
              "<IPython.core.display.HTML object>"
            ],
            "text/html": [
              " View run at <a href='https://wandb.ai/abhijithvinod-indian-institue-of-technology-madras/RL_CartPole_QLearning/runs/3p5rpn0z' target=\"_blank\">https://wandb.ai/abhijithvinod-indian-institue-of-technology-madras/RL_CartPole_QLearning/runs/3p5rpn0z</a>"
            ]
          },
          "metadata": {}
        },
        {
          "output_type": "display_data",
          "data": {
            "text/plain": [
              "<IPython.core.display.HTML object>"
            ],
            "text/html": []
          },
          "metadata": {}
        },
        {
          "output_type": "display_data",
          "data": {
            "text/plain": [
              "<IPython.core.display.HTML object>"
            ],
            "text/html": [
              "<br>    <style><br>        .wandb-row {<br>            display: flex;<br>            flex-direction: row;<br>            flex-wrap: wrap;<br>            justify-content: flex-start;<br>            width: 100%;<br>        }<br>        .wandb-col {<br>            display: flex;<br>            flex-direction: column;<br>            flex-basis: 100%;<br>            flex: 1;<br>            padding: 10px;<br>        }<br>    </style><br><div class=\"wandb-row\"><div class=\"wandb-col\"><h3>Run history:</h3><br/><table class=\"wandb\"><tr><td>average_reward_across_seeds</td><td>▁</td></tr><tr><td>seed_101_episode</td><td>▁▁▁▁▂▂▂▂▂▃▃▃▃▃▄▄▄▄▄▄▅▅▅▅▅▅▆▆▆▆▇▇▇▇▇▇▇▇██</td></tr><tr><td>seed_101_reward</td><td>▃▄▁▃█▂▄▂▄▃▇▂▃▂▂▄▂▂▂▃▄▃▁▂▃▃▅▅▃▃▂▄▂▃▂▁▄▄▂▂</td></tr><tr><td>seed_123_episode</td><td>▁▁▁▁▂▂▂▃▃▃▃▃▄▄▄▄▄▄▄▄▅▅▅▆▆▆▆▆▇▇▇▇▇▇▇▇▇███</td></tr><tr><td>seed_123_reward</td><td>█▅▂▁▃▅▄▃▄▂▃▂▄▄▃▁▁▅▃▃▆▃▂▂▃▁▄▄▄▂▃▃▄▃▃▂▃▁▂▂</td></tr><tr><td>seed_42_episode</td><td>▁▁▁▁▂▂▂▂▂▂▃▃▃▃▃▃▄▄▄▅▅▅▅▅▆▆▆▆▆▇▇▇▇▇▇▇████</td></tr><tr><td>seed_42_reward</td><td>▁▁▂▃▃▃▂▃▁▂▃▅▂▁█▂▄▃▂▂▁▂▂▃▄▂▁▂▄▃▂▄▄▃▂▄▂▃▅▇</td></tr><tr><td>seed_456_episode</td><td>▁▁▁▁▂▂▂▂▂▂▃▃▃▃▃▃▃▄▄▄▅▅▅▅▅▅▅▆▆▆▆▇▇▇▇▇▇███</td></tr><tr><td>seed_456_reward</td><td>▆▁▆▄▅▇▃▇▃▃▅▄▃▂▆▂▇▂▂█▆█▆▅▃▂▃▃▆▇▃▁▂▂▃▁▂▅▂▆</td></tr><tr><td>seed_789_episode</td><td>▁▁▁▁▂▂▂▂▂▂▃▃▃▄▄▄▄▄▄▄▅▅▅▅▅▅▆▆▆▆▆▇▇▇▇▇▇███</td></tr><tr><td>seed_789_reward</td><td>▃▃▂▂▃▁▃▃▃▄▃▂█▂▂▂▃▄▃█▃▃▂▂▅▁▅▂▃▂▄▃▄▃▃▃▄▃▃▄</td></tr></table><br/></div><div class=\"wandb-col\"><h3>Run summary:</h3><br/><table class=\"wandb\"><tr><td>average_reward_across_seeds</td><td>25.868</td></tr><tr><td>seed_101_episode</td><td>999</td></tr><tr><td>seed_101_reward</td><td>41</td></tr><tr><td>seed_123_episode</td><td>999</td></tr><tr><td>seed_123_reward</td><td>10</td></tr><tr><td>seed_42_episode</td><td>999</td></tr><tr><td>seed_42_reward</td><td>20</td></tr><tr><td>seed_456_episode</td><td>999</td></tr><tr><td>seed_456_reward</td><td>17</td></tr><tr><td>seed_789_episode</td><td>999</td></tr><tr><td>seed_789_reward</td><td>96</td></tr></table><br/></div></div>"
            ]
          },
          "metadata": {}
        },
        {
          "output_type": "display_data",
          "data": {
            "text/plain": [
              "<IPython.core.display.HTML object>"
            ],
            "text/html": [
              " View run <strong style=\"color:#cdcd00\">exalted-sweep-35</strong> at: <a href='https://wandb.ai/abhijithvinod-indian-institue-of-technology-madras/RL_CartPole_QLearning/runs/3p5rpn0z' target=\"_blank\">https://wandb.ai/abhijithvinod-indian-institue-of-technology-madras/RL_CartPole_QLearning/runs/3p5rpn0z</a><br> View project at: <a href='https://wandb.ai/abhijithvinod-indian-institue-of-technology-madras/RL_CartPole_QLearning' target=\"_blank\">https://wandb.ai/abhijithvinod-indian-institue-of-technology-madras/RL_CartPole_QLearning</a><br>Synced 5 W&B file(s), 0 media file(s), 0 artifact file(s) and 0 other file(s)"
            ]
          },
          "metadata": {}
        },
        {
          "output_type": "display_data",
          "data": {
            "text/plain": [
              "<IPython.core.display.HTML object>"
            ],
            "text/html": [
              "Find logs at: <code>./wandb/run-20250331_154845-3p5rpn0z/logs</code>"
            ]
          },
          "metadata": {}
        },
        {
          "output_type": "stream",
          "name": "stderr",
          "text": [
            "\u001b[34m\u001b[1mwandb\u001b[0m: Agent Starting Run: 8vkq226x with config:\n",
            "\u001b[34m\u001b[1mwandb\u001b[0m: \talpha: 0.4109515037326622\n",
            "\u001b[34m\u001b[1mwandb\u001b[0m: \tgamma: 0.99\n",
            "\u001b[34m\u001b[1mwandb\u001b[0m: \tn_bins: 15\n",
            "\u001b[34m\u001b[1mwandb\u001b[0m: \tn_episodes: 1000\n",
            "\u001b[34m\u001b[1mwandb\u001b[0m: \tseed: 42\n",
            "\u001b[34m\u001b[1mwandb\u001b[0m: \ttemperature: 0.8215464949882635\n"
          ]
        },
        {
          "output_type": "display_data",
          "data": {
            "text/plain": [
              "<IPython.core.display.HTML object>"
            ],
            "text/html": [
              "Tracking run with wandb version 0.19.8"
            ]
          },
          "metadata": {}
        },
        {
          "output_type": "display_data",
          "data": {
            "text/plain": [
              "<IPython.core.display.HTML object>"
            ],
            "text/html": [
              "Run data is saved locally in <code>/content/wandb/run-20250331_154916-8vkq226x</code>"
            ]
          },
          "metadata": {}
        },
        {
          "output_type": "display_data",
          "data": {
            "text/plain": [
              "<IPython.core.display.HTML object>"
            ],
            "text/html": [
              "Syncing run <strong><a href='https://wandb.ai/abhijithvinod-indian-institue-of-technology-madras/RL_CartPole_QLearning/runs/8vkq226x' target=\"_blank\">jumping-sweep-36</a></strong> to <a href='https://wandb.ai/abhijithvinod-indian-institue-of-technology-madras/RL_CartPole_QLearning' target=\"_blank\">Weights & Biases</a> (<a href='https://wandb.me/developer-guide' target=\"_blank\">docs</a>)<br>Sweep page: <a href='https://wandb.ai/abhijithvinod-indian-institue-of-technology-madras/RL_CartPole_QLearning/sweeps/kreeqo81' target=\"_blank\">https://wandb.ai/abhijithvinod-indian-institue-of-technology-madras/RL_CartPole_QLearning/sweeps/kreeqo81</a>"
            ]
          },
          "metadata": {}
        },
        {
          "output_type": "display_data",
          "data": {
            "text/plain": [
              "<IPython.core.display.HTML object>"
            ],
            "text/html": [
              " View project at <a href='https://wandb.ai/abhijithvinod-indian-institue-of-technology-madras/RL_CartPole_QLearning' target=\"_blank\">https://wandb.ai/abhijithvinod-indian-institue-of-technology-madras/RL_CartPole_QLearning</a>"
            ]
          },
          "metadata": {}
        },
        {
          "output_type": "display_data",
          "data": {
            "text/plain": [
              "<IPython.core.display.HTML object>"
            ],
            "text/html": [
              " View sweep at <a href='https://wandb.ai/abhijithvinod-indian-institue-of-technology-madras/RL_CartPole_QLearning/sweeps/kreeqo81' target=\"_blank\">https://wandb.ai/abhijithvinod-indian-institue-of-technology-madras/RL_CartPole_QLearning/sweeps/kreeqo81</a>"
            ]
          },
          "metadata": {}
        },
        {
          "output_type": "display_data",
          "data": {
            "text/plain": [
              "<IPython.core.display.HTML object>"
            ],
            "text/html": [
              " View run at <a href='https://wandb.ai/abhijithvinod-indian-institue-of-technology-madras/RL_CartPole_QLearning/runs/8vkq226x' target=\"_blank\">https://wandb.ai/abhijithvinod-indian-institue-of-technology-madras/RL_CartPole_QLearning/runs/8vkq226x</a>"
            ]
          },
          "metadata": {}
        },
        {
          "output_type": "display_data",
          "data": {
            "text/plain": [
              "<IPython.core.display.HTML object>"
            ],
            "text/html": []
          },
          "metadata": {}
        },
        {
          "output_type": "display_data",
          "data": {
            "text/plain": [
              "<IPython.core.display.HTML object>"
            ],
            "text/html": [
              "<br>    <style><br>        .wandb-row {<br>            display: flex;<br>            flex-direction: row;<br>            flex-wrap: wrap;<br>            justify-content: flex-start;<br>            width: 100%;<br>        }<br>        .wandb-col {<br>            display: flex;<br>            flex-direction: column;<br>            flex-basis: 100%;<br>            flex: 1;<br>            padding: 10px;<br>        }<br>    </style><br><div class=\"wandb-row\"><div class=\"wandb-col\"><h3>Run history:</h3><br/><table class=\"wandb\"><tr><td>average_reward_across_seeds</td><td>▁</td></tr><tr><td>seed_101_episode</td><td>▁▁▁▂▂▂▂▂▂▂▃▃▃▃▃▄▄▄▄▄▅▅▅▅▅▆▆▆▆▆▆▆▇▇▇▇▇▇▇█</td></tr><tr><td>seed_101_reward</td><td>▁▁▅▂▅▂▆▁▂▅▂▆▃▆▁▂▁▁▁▅▆▂▆▁▇▁▂▄▂▅▁▂▅▂▄██▁▂█</td></tr><tr><td>seed_123_episode</td><td>▁▁▁▁▂▂▂▂▂▃▃▃▃▃▃▃▄▄▄▄▄▄▅▅▅▅▆▆▆▆▆▆▆▆▇▇▇▇██</td></tr><tr><td>seed_123_reward</td><td>▃▂▁▆▄▆▆▆▅▃▂▇▁▃▃▁▆▂▆▁▁▂▆▇▄▄▁▃▅█▂▂█▆▃▇▄▇▅▄</td></tr><tr><td>seed_42_episode</td><td>▁▁▁▁▁▂▂▂▂▂▂▂▃▃▃▃▃▄▄▄▅▅▅▅▅▅▆▆▆▆▇▇▇▇▇▇████</td></tr><tr><td>seed_42_reward</td><td>▁▁▁▁▆▁▃▄▅▅▂▄▄▃▆▂▁▂▅▁▂▂█▆▆▃▆▂▄▃▇▁▄▆▇▂▆▄▃▁</td></tr><tr><td>seed_456_episode</td><td>▁▁▁▁▂▂▂▂▃▃▃▃▃▃▃▃▄▄▄▄▅▅▅▅▆▆▆▆▆▆▇▇▇▇▇█████</td></tr><tr><td>seed_456_reward</td><td>▃▃▃▄▅▂▁▁▃▄▄▂▃▁▄▄▁▄▂▁▁▁▄▃▁▁▄▁▄▁▁▁▂▁▇▁▄▅▁█</td></tr><tr><td>seed_789_episode</td><td>▁▁▁▁▂▂▂▂▃▃▃▃▃▃▃▃▄▄▄▄▄▄▄▄▅▅▅▆▆▆▆▆▆▆▇▇▇███</td></tr><tr><td>seed_789_reward</td><td>▆▇▃▄▆▆▄▆▆▅▅▆▅▅▅▆▅▅▆▂▇█▂▅▆▃▅█▇▅▂▅▃▇▂▁▇▃▅▇</td></tr></table><br/></div><div class=\"wandb-col\"><h3>Run summary:</h3><br/><table class=\"wandb\"><tr><td>average_reward_across_seeds</td><td>99.02</td></tr><tr><td>seed_101_episode</td><td>999</td></tr><tr><td>seed_101_reward</td><td>36</td></tr><tr><td>seed_123_episode</td><td>999</td></tr><tr><td>seed_123_reward</td><td>57</td></tr><tr><td>seed_42_episode</td><td>999</td></tr><tr><td>seed_42_reward</td><td>97</td></tr><tr><td>seed_456_episode</td><td>999</td></tr><tr><td>seed_456_reward</td><td>29</td></tr><tr><td>seed_789_episode</td><td>999</td></tr><tr><td>seed_789_reward</td><td>126</td></tr></table><br/></div></div>"
            ]
          },
          "metadata": {}
        },
        {
          "output_type": "display_data",
          "data": {
            "text/plain": [
              "<IPython.core.display.HTML object>"
            ],
            "text/html": [
              " View run <strong style=\"color:#cdcd00\">jumping-sweep-36</strong> at: <a href='https://wandb.ai/abhijithvinod-indian-institue-of-technology-madras/RL_CartPole_QLearning/runs/8vkq226x' target=\"_blank\">https://wandb.ai/abhijithvinod-indian-institue-of-technology-madras/RL_CartPole_QLearning/runs/8vkq226x</a><br> View project at: <a href='https://wandb.ai/abhijithvinod-indian-institue-of-technology-madras/RL_CartPole_QLearning' target=\"_blank\">https://wandb.ai/abhijithvinod-indian-institue-of-technology-madras/RL_CartPole_QLearning</a><br>Synced 5 W&B file(s), 0 media file(s), 0 artifact file(s) and 0 other file(s)"
            ]
          },
          "metadata": {}
        },
        {
          "output_type": "display_data",
          "data": {
            "text/plain": [
              "<IPython.core.display.HTML object>"
            ],
            "text/html": [
              "Find logs at: <code>./wandb/run-20250331_154916-8vkq226x/logs</code>"
            ]
          },
          "metadata": {}
        },
        {
          "output_type": "stream",
          "name": "stderr",
          "text": [
            "\u001b[34m\u001b[1mwandb\u001b[0m: Sweep Agent: Waiting for job.\n",
            "\u001b[34m\u001b[1mwandb\u001b[0m: Job received.\n",
            "\u001b[34m\u001b[1mwandb\u001b[0m: Agent Starting Run: rx6i5qud with config:\n",
            "\u001b[34m\u001b[1mwandb\u001b[0m: \talpha: 0.3681456272848385\n",
            "\u001b[34m\u001b[1mwandb\u001b[0m: \tgamma: 0.99\n",
            "\u001b[34m\u001b[1mwandb\u001b[0m: \tn_bins: 20\n",
            "\u001b[34m\u001b[1mwandb\u001b[0m: \tn_episodes: 1000\n",
            "\u001b[34m\u001b[1mwandb\u001b[0m: \tseed: 789\n",
            "\u001b[34m\u001b[1mwandb\u001b[0m: \ttemperature: 0.5991713826663416\n"
          ]
        },
        {
          "output_type": "display_data",
          "data": {
            "text/plain": [
              "<IPython.core.display.HTML object>"
            ],
            "text/html": [
              "Tracking run with wandb version 0.19.8"
            ]
          },
          "metadata": {}
        },
        {
          "output_type": "display_data",
          "data": {
            "text/plain": [
              "<IPython.core.display.HTML object>"
            ],
            "text/html": [
              "Run data is saved locally in <code>/content/wandb/run-20250331_155043-rx6i5qud</code>"
            ]
          },
          "metadata": {}
        },
        {
          "output_type": "display_data",
          "data": {
            "text/plain": [
              "<IPython.core.display.HTML object>"
            ],
            "text/html": [
              "Syncing run <strong><a href='https://wandb.ai/abhijithvinod-indian-institue-of-technology-madras/RL_CartPole_QLearning/runs/rx6i5qud' target=\"_blank\">legendary-sweep-37</a></strong> to <a href='https://wandb.ai/abhijithvinod-indian-institue-of-technology-madras/RL_CartPole_QLearning' target=\"_blank\">Weights & Biases</a> (<a href='https://wandb.me/developer-guide' target=\"_blank\">docs</a>)<br>Sweep page: <a href='https://wandb.ai/abhijithvinod-indian-institue-of-technology-madras/RL_CartPole_QLearning/sweeps/kreeqo81' target=\"_blank\">https://wandb.ai/abhijithvinod-indian-institue-of-technology-madras/RL_CartPole_QLearning/sweeps/kreeqo81</a>"
            ]
          },
          "metadata": {}
        },
        {
          "output_type": "display_data",
          "data": {
            "text/plain": [
              "<IPython.core.display.HTML object>"
            ],
            "text/html": [
              " View project at <a href='https://wandb.ai/abhijithvinod-indian-institue-of-technology-madras/RL_CartPole_QLearning' target=\"_blank\">https://wandb.ai/abhijithvinod-indian-institue-of-technology-madras/RL_CartPole_QLearning</a>"
            ]
          },
          "metadata": {}
        },
        {
          "output_type": "display_data",
          "data": {
            "text/plain": [
              "<IPython.core.display.HTML object>"
            ],
            "text/html": [
              " View sweep at <a href='https://wandb.ai/abhijithvinod-indian-institue-of-technology-madras/RL_CartPole_QLearning/sweeps/kreeqo81' target=\"_blank\">https://wandb.ai/abhijithvinod-indian-institue-of-technology-madras/RL_CartPole_QLearning/sweeps/kreeqo81</a>"
            ]
          },
          "metadata": {}
        },
        {
          "output_type": "display_data",
          "data": {
            "text/plain": [
              "<IPython.core.display.HTML object>"
            ],
            "text/html": [
              " View run at <a href='https://wandb.ai/abhijithvinod-indian-institue-of-technology-madras/RL_CartPole_QLearning/runs/rx6i5qud' target=\"_blank\">https://wandb.ai/abhijithvinod-indian-institue-of-technology-madras/RL_CartPole_QLearning/runs/rx6i5qud</a>"
            ]
          },
          "metadata": {}
        },
        {
          "output_type": "display_data",
          "data": {
            "text/plain": [
              "<IPython.core.display.HTML object>"
            ],
            "text/html": []
          },
          "metadata": {}
        },
        {
          "output_type": "display_data",
          "data": {
            "text/plain": [
              "<IPython.core.display.HTML object>"
            ],
            "text/html": [
              "<br>    <style><br>        .wandb-row {<br>            display: flex;<br>            flex-direction: row;<br>            flex-wrap: wrap;<br>            justify-content: flex-start;<br>            width: 100%;<br>        }<br>        .wandb-col {<br>            display: flex;<br>            flex-direction: column;<br>            flex-basis: 100%;<br>            flex: 1;<br>            padding: 10px;<br>        }<br>    </style><br><div class=\"wandb-row\"><div class=\"wandb-col\"><h3>Run history:</h3><br/><table class=\"wandb\"><tr><td>average_reward_across_seeds</td><td>▁</td></tr><tr><td>seed_101_episode</td><td>▁▁▁▁▁▂▂▃▃▃▃▃▃▃▃▄▄▄▄▄▄▅▅▅▅▆▆▆▆▆▆▆▇▇▇▇▇███</td></tr><tr><td>seed_101_reward</td><td>▁▄▅▄▇▄▄▃▄▆▄▇▇▅▄▆▄▇▅▄▅▃▆▄▆▄▃█▆▄▅▄▇█▆▅▄▂▆▅</td></tr><tr><td>seed_123_episode</td><td>▁▁▁▁▂▂▂▂▂▃▃▃▃▃▄▄▄▄▄▄▅▆▆▆▆▆▆▆▇▇▇▇▇▇██████</td></tr><tr><td>seed_123_reward</td><td>▄▄▄▄▁▃▃▄▄▄█▇▄▅▄▆▇▄▃▇▄█▃▆▄▅▃▇▅▆▅▅▁▄▅▅▅▇▆▄</td></tr><tr><td>seed_42_episode</td><td>▁▁▁▁▁▂▂▂▂▂▂▃▃▃▄▄▄▄▄▄▅▅▅▅▅▆▆▆▆▆▆▇▇▇▇▇▇███</td></tr><tr><td>seed_42_reward</td><td>▂▄▄▅▅▅▅▅▄▅▅▅▄▅▅▅▅▄▅▆▅▅▅▇▆▅▃▅▅▅▁▇▆▅▆▆▂▇█▄</td></tr><tr><td>seed_456_episode</td><td>▁▁▁▁▁▂▂▂▂▂▂▃▃▃▄▄▄▄▄▅▅▅▅▅▅▆▆▆▆▆▇▇▇▇▇█████</td></tr><tr><td>seed_456_reward</td><td>▄▃▂▂▄▂▂▂▃▁▂▂▁▇▆▂▃▁▃▄▁▂▂▂▂▂▇▁▂▄▄▂▃▂▃█▂▂▂▂</td></tr><tr><td>seed_789_episode</td><td>▁▁▁▁▂▂▂▃▃▃▃▃▃▄▄▄▅▅▅▅▅▅▅▆▆▆▆▆▇▇▇▇▇▇▇▇▇███</td></tr><tr><td>seed_789_reward</td><td>▂█▁▃▂▃▂▂▂▄▅▄▃▂▁▆▄▂▄▁▁▁▂▃▂▄▃▁▂▃▁▄▅▃▃▅▁▁▄▂</td></tr></table><br/></div><div class=\"wandb-col\"><h3>Run summary:</h3><br/><table class=\"wandb\"><tr><td>average_reward_across_seeds</td><td>73.172</td></tr><tr><td>seed_101_episode</td><td>999</td></tr><tr><td>seed_101_reward</td><td>63</td></tr><tr><td>seed_123_episode</td><td>999</td></tr><tr><td>seed_123_reward</td><td>107</td></tr><tr><td>seed_42_episode</td><td>999</td></tr><tr><td>seed_42_reward</td><td>116</td></tr><tr><td>seed_456_episode</td><td>999</td></tr><tr><td>seed_456_reward</td><td>23</td></tr><tr><td>seed_789_episode</td><td>999</td></tr><tr><td>seed_789_reward</td><td>24</td></tr></table><br/></div></div>"
            ]
          },
          "metadata": {}
        },
        {
          "output_type": "display_data",
          "data": {
            "text/plain": [
              "<IPython.core.display.HTML object>"
            ],
            "text/html": [
              " View run <strong style=\"color:#cdcd00\">legendary-sweep-37</strong> at: <a href='https://wandb.ai/abhijithvinod-indian-institue-of-technology-madras/RL_CartPole_QLearning/runs/rx6i5qud' target=\"_blank\">https://wandb.ai/abhijithvinod-indian-institue-of-technology-madras/RL_CartPole_QLearning/runs/rx6i5qud</a><br> View project at: <a href='https://wandb.ai/abhijithvinod-indian-institue-of-technology-madras/RL_CartPole_QLearning' target=\"_blank\">https://wandb.ai/abhijithvinod-indian-institue-of-technology-madras/RL_CartPole_QLearning</a><br>Synced 5 W&B file(s), 0 media file(s), 0 artifact file(s) and 0 other file(s)"
            ]
          },
          "metadata": {}
        },
        {
          "output_type": "display_data",
          "data": {
            "text/plain": [
              "<IPython.core.display.HTML object>"
            ],
            "text/html": [
              "Find logs at: <code>./wandb/run-20250331_155043-rx6i5qud/logs</code>"
            ]
          },
          "metadata": {}
        },
        {
          "output_type": "stream",
          "name": "stderr",
          "text": [
            "\u001b[34m\u001b[1mwandb\u001b[0m: Agent Starting Run: 9fdbyi9q with config:\n",
            "\u001b[34m\u001b[1mwandb\u001b[0m: \talpha: 0.2517672419831519\n",
            "\u001b[34m\u001b[1mwandb\u001b[0m: \tgamma: 0.99\n",
            "\u001b[34m\u001b[1mwandb\u001b[0m: \tn_bins: 15\n",
            "\u001b[34m\u001b[1mwandb\u001b[0m: \tn_episodes: 1000\n",
            "\u001b[34m\u001b[1mwandb\u001b[0m: \tseed: 456\n",
            "\u001b[34m\u001b[1mwandb\u001b[0m: \ttemperature: 1.288219813610793\n"
          ]
        },
        {
          "output_type": "display_data",
          "data": {
            "text/plain": [
              "<IPython.core.display.HTML object>"
            ],
            "text/html": [
              "Tracking run with wandb version 0.19.8"
            ]
          },
          "metadata": {}
        },
        {
          "output_type": "display_data",
          "data": {
            "text/plain": [
              "<IPython.core.display.HTML object>"
            ],
            "text/html": [
              "Run data is saved locally in <code>/content/wandb/run-20250331_155149-9fdbyi9q</code>"
            ]
          },
          "metadata": {}
        },
        {
          "output_type": "display_data",
          "data": {
            "text/plain": [
              "<IPython.core.display.HTML object>"
            ],
            "text/html": [
              "Syncing run <strong><a href='https://wandb.ai/abhijithvinod-indian-institue-of-technology-madras/RL_CartPole_QLearning/runs/9fdbyi9q' target=\"_blank\">polished-sweep-38</a></strong> to <a href='https://wandb.ai/abhijithvinod-indian-institue-of-technology-madras/RL_CartPole_QLearning' target=\"_blank\">Weights & Biases</a> (<a href='https://wandb.me/developer-guide' target=\"_blank\">docs</a>)<br>Sweep page: <a href='https://wandb.ai/abhijithvinod-indian-institue-of-technology-madras/RL_CartPole_QLearning/sweeps/kreeqo81' target=\"_blank\">https://wandb.ai/abhijithvinod-indian-institue-of-technology-madras/RL_CartPole_QLearning/sweeps/kreeqo81</a>"
            ]
          },
          "metadata": {}
        },
        {
          "output_type": "display_data",
          "data": {
            "text/plain": [
              "<IPython.core.display.HTML object>"
            ],
            "text/html": [
              " View project at <a href='https://wandb.ai/abhijithvinod-indian-institue-of-technology-madras/RL_CartPole_QLearning' target=\"_blank\">https://wandb.ai/abhijithvinod-indian-institue-of-technology-madras/RL_CartPole_QLearning</a>"
            ]
          },
          "metadata": {}
        },
        {
          "output_type": "display_data",
          "data": {
            "text/plain": [
              "<IPython.core.display.HTML object>"
            ],
            "text/html": [
              " View sweep at <a href='https://wandb.ai/abhijithvinod-indian-institue-of-technology-madras/RL_CartPole_QLearning/sweeps/kreeqo81' target=\"_blank\">https://wandb.ai/abhijithvinod-indian-institue-of-technology-madras/RL_CartPole_QLearning/sweeps/kreeqo81</a>"
            ]
          },
          "metadata": {}
        },
        {
          "output_type": "display_data",
          "data": {
            "text/plain": [
              "<IPython.core.display.HTML object>"
            ],
            "text/html": [
              " View run at <a href='https://wandb.ai/abhijithvinod-indian-institue-of-technology-madras/RL_CartPole_QLearning/runs/9fdbyi9q' target=\"_blank\">https://wandb.ai/abhijithvinod-indian-institue-of-technology-madras/RL_CartPole_QLearning/runs/9fdbyi9q</a>"
            ]
          },
          "metadata": {}
        },
        {
          "output_type": "display_data",
          "data": {
            "text/plain": [
              "<IPython.core.display.HTML object>"
            ],
            "text/html": []
          },
          "metadata": {}
        },
        {
          "output_type": "display_data",
          "data": {
            "text/plain": [
              "<IPython.core.display.HTML object>"
            ],
            "text/html": [
              "<br>    <style><br>        .wandb-row {<br>            display: flex;<br>            flex-direction: row;<br>            flex-wrap: wrap;<br>            justify-content: flex-start;<br>            width: 100%;<br>        }<br>        .wandb-col {<br>            display: flex;<br>            flex-direction: column;<br>            flex-basis: 100%;<br>            flex: 1;<br>            padding: 10px;<br>        }<br>    </style><br><div class=\"wandb-row\"><div class=\"wandb-col\"><h3>Run history:</h3><br/><table class=\"wandb\"><tr><td>average_reward_across_seeds</td><td>▁</td></tr><tr><td>seed_101_episode</td><td>▁▁▁▁▂▂▂▂▂▂▃▃▃▄▄▄▄▄▄▄▅▅▅▆▆▆▆▆▆▆▆▇▇▇▇▇▇███</td></tr><tr><td>seed_101_reward</td><td>▁▁▁▂▄▅▄▄▄▅▆▇▅▃▄▅▆▆▆▆▅█▆▅▆▅▇▄▆▆▅▇▆▄▆▄▄▆▄▇</td></tr><tr><td>seed_123_episode</td><td>▁▁▁▁▁▂▂▂▂▂▃▃▃▃▃▃▄▄▄▅▅▅▅▅▅▆▆▆▆▆▆▆▇▇▇▇▇▇██</td></tr><tr><td>seed_123_reward</td><td>▁▁▁▁▃▂▂▃▃▃▂▃▃▃█▅▃▂▃▃▄▃▃▃▂▄▄▃▃▃▃▄▃▄▃▃▅▃▃▃</td></tr><tr><td>seed_42_episode</td><td>▁▁▁▁▁▂▂▂▂▂▂▂▂▂▂▂▂▂▃▃▃▃▃▄▄▄▄▄▅▅▅▆▆▆▆▆▆▇▇█</td></tr><tr><td>seed_42_reward</td><td>▁▂▁▂▁▁▂▁▄▁▅▇▁██▄█▁▁▅▁▁▁▇▂▄▃▅▂▃█▃▁▃▅▅▃▆▁▄</td></tr><tr><td>seed_456_episode</td><td>▁▁▁▁▁▂▂▂▂▂▂▂▂▃▃▃▄▄▄▄▅▅▅▆▆▆▆▆▆▆▇▇▇▇▇▇▇███</td></tr><tr><td>seed_456_reward</td><td>▁▁▂▂▃▄▃▆▂▂▂▆▃▃▃▃▄▃▄▄▃▃▆▂█▃▃▃▃▄▄▄▅▅▄▅▄▃▄▄</td></tr><tr><td>seed_789_episode</td><td>▁▁▁▁▁▂▂▂▂▂▂▂▂▃▃▃▃▃▃▃▄▄▄▄▅▅▅▅▅▆▇▇▇▇▇█████</td></tr><tr><td>seed_789_reward</td><td>▁▁▅▂▃▂▂▁▂▃▄▆▄▄▄▃▅▃▄▂▅▆▄▃▆▃▇█▅▃▆▄▅▅█▅▄▄▆▃</td></tr></table><br/></div><div class=\"wandb-col\"><h3>Run summary:</h3><br/><table class=\"wandb\"><tr><td>average_reward_across_seeds</td><td>148.248</td></tr><tr><td>seed_101_episode</td><td>999</td></tr><tr><td>seed_101_reward</td><td>151</td></tr><tr><td>seed_123_episode</td><td>999</td></tr><tr><td>seed_123_reward</td><td>130</td></tr><tr><td>seed_42_episode</td><td>999</td></tr><tr><td>seed_42_reward</td><td>148</td></tr><tr><td>seed_456_episode</td><td>999</td></tr><tr><td>seed_456_reward</td><td>137</td></tr><tr><td>seed_789_episode</td><td>999</td></tr><tr><td>seed_789_reward</td><td>139</td></tr></table><br/></div></div>"
            ]
          },
          "metadata": {}
        },
        {
          "output_type": "display_data",
          "data": {
            "text/plain": [
              "<IPython.core.display.HTML object>"
            ],
            "text/html": [
              " View run <strong style=\"color:#cdcd00\">polished-sweep-38</strong> at: <a href='https://wandb.ai/abhijithvinod-indian-institue-of-technology-madras/RL_CartPole_QLearning/runs/9fdbyi9q' target=\"_blank\">https://wandb.ai/abhijithvinod-indian-institue-of-technology-madras/RL_CartPole_QLearning/runs/9fdbyi9q</a><br> View project at: <a href='https://wandb.ai/abhijithvinod-indian-institue-of-technology-madras/RL_CartPole_QLearning' target=\"_blank\">https://wandb.ai/abhijithvinod-indian-institue-of-technology-madras/RL_CartPole_QLearning</a><br>Synced 5 W&B file(s), 0 media file(s), 0 artifact file(s) and 0 other file(s)"
            ]
          },
          "metadata": {}
        },
        {
          "output_type": "display_data",
          "data": {
            "text/plain": [
              "<IPython.core.display.HTML object>"
            ],
            "text/html": [
              "Find logs at: <code>./wandb/run-20250331_155149-9fdbyi9q/logs</code>"
            ]
          },
          "metadata": {}
        },
        {
          "output_type": "stream",
          "name": "stderr",
          "text": [
            "\u001b[34m\u001b[1mwandb\u001b[0m: Agent Starting Run: odzw5f3n with config:\n",
            "\u001b[34m\u001b[1mwandb\u001b[0m: \talpha: 0.4347247014688747\n",
            "\u001b[34m\u001b[1mwandb\u001b[0m: \tgamma: 0.99\n",
            "\u001b[34m\u001b[1mwandb\u001b[0m: \tn_bins: 20\n",
            "\u001b[34m\u001b[1mwandb\u001b[0m: \tn_episodes: 1000\n",
            "\u001b[34m\u001b[1mwandb\u001b[0m: \tseed: 101\n",
            "\u001b[34m\u001b[1mwandb\u001b[0m: \ttemperature: 1.3223136078270197\n"
          ]
        },
        {
          "output_type": "display_data",
          "data": {
            "text/plain": [
              "<IPython.core.display.HTML object>"
            ],
            "text/html": [
              "Tracking run with wandb version 0.19.8"
            ]
          },
          "metadata": {}
        },
        {
          "output_type": "display_data",
          "data": {
            "text/plain": [
              "<IPython.core.display.HTML object>"
            ],
            "text/html": [
              "Run data is saved locally in <code>/content/wandb/run-20250331_155336-odzw5f3n</code>"
            ]
          },
          "metadata": {}
        },
        {
          "output_type": "display_data",
          "data": {
            "text/plain": [
              "<IPython.core.display.HTML object>"
            ],
            "text/html": [
              "Syncing run <strong><a href='https://wandb.ai/abhijithvinod-indian-institue-of-technology-madras/RL_CartPole_QLearning/runs/odzw5f3n' target=\"_blank\">efficient-sweep-39</a></strong> to <a href='https://wandb.ai/abhijithvinod-indian-institue-of-technology-madras/RL_CartPole_QLearning' target=\"_blank\">Weights & Biases</a> (<a href='https://wandb.me/developer-guide' target=\"_blank\">docs</a>)<br>Sweep page: <a href='https://wandb.ai/abhijithvinod-indian-institue-of-technology-madras/RL_CartPole_QLearning/sweeps/kreeqo81' target=\"_blank\">https://wandb.ai/abhijithvinod-indian-institue-of-technology-madras/RL_CartPole_QLearning/sweeps/kreeqo81</a>"
            ]
          },
          "metadata": {}
        },
        {
          "output_type": "display_data",
          "data": {
            "text/plain": [
              "<IPython.core.display.HTML object>"
            ],
            "text/html": [
              " View project at <a href='https://wandb.ai/abhijithvinod-indian-institue-of-technology-madras/RL_CartPole_QLearning' target=\"_blank\">https://wandb.ai/abhijithvinod-indian-institue-of-technology-madras/RL_CartPole_QLearning</a>"
            ]
          },
          "metadata": {}
        },
        {
          "output_type": "display_data",
          "data": {
            "text/plain": [
              "<IPython.core.display.HTML object>"
            ],
            "text/html": [
              " View sweep at <a href='https://wandb.ai/abhijithvinod-indian-institue-of-technology-madras/RL_CartPole_QLearning/sweeps/kreeqo81' target=\"_blank\">https://wandb.ai/abhijithvinod-indian-institue-of-technology-madras/RL_CartPole_QLearning/sweeps/kreeqo81</a>"
            ]
          },
          "metadata": {}
        },
        {
          "output_type": "display_data",
          "data": {
            "text/plain": [
              "<IPython.core.display.HTML object>"
            ],
            "text/html": [
              " View run at <a href='https://wandb.ai/abhijithvinod-indian-institue-of-technology-madras/RL_CartPole_QLearning/runs/odzw5f3n' target=\"_blank\">https://wandb.ai/abhijithvinod-indian-institue-of-technology-madras/RL_CartPole_QLearning/runs/odzw5f3n</a>"
            ]
          },
          "metadata": {}
        },
        {
          "output_type": "display_data",
          "data": {
            "text/plain": [
              "<IPython.core.display.HTML object>"
            ],
            "text/html": []
          },
          "metadata": {}
        },
        {
          "output_type": "display_data",
          "data": {
            "text/plain": [
              "<IPython.core.display.HTML object>"
            ],
            "text/html": [
              "<br>    <style><br>        .wandb-row {<br>            display: flex;<br>            flex-direction: row;<br>            flex-wrap: wrap;<br>            justify-content: flex-start;<br>            width: 100%;<br>        }<br>        .wandb-col {<br>            display: flex;<br>            flex-direction: column;<br>            flex-basis: 100%;<br>            flex: 1;<br>            padding: 10px;<br>        }<br>    </style><br><div class=\"wandb-row\"><div class=\"wandb-col\"><h3>Run history:</h3><br/><table class=\"wandb\"><tr><td>average_reward_across_seeds</td><td>▁</td></tr><tr><td>seed_101_episode</td><td>▁▁▁▂▂▂▃▃▄▄▄▄▄▄▄▅▅▅▅▅▅▅▅▅▆▆▆▆▆▆▆▇▇▇▇▇▇▇▇█</td></tr><tr><td>seed_101_reward</td><td>▃▂▂▄▂▃▄▃▄▅▅▂▂▆▄▅▂▂▄▅▁▂▃▆▅▃▆▅▆▂▂▆▆▄▃█▇▄▆▆</td></tr><tr><td>seed_123_episode</td><td>▁▁▁▁▂▂▂▃▃▃▄▄▄▄▅▅▅▅▅▅▅▆▆▆▆▆▆▆▆▆▇▇▇▇▇▇████</td></tr><tr><td>seed_123_reward</td><td>▅▁▃▃▃▁▃▃▁▃▃▄▅▃▄▄▁▃▅▅▇▆▅▆▅▅▂▅▂▆▂▇▄▃█▅▅▇▄▇</td></tr><tr><td>seed_42_episode</td><td>▁▁▁▂▂▂▂▂▂▂▂▃▃▃▃▃▄▄▄▄▄▄▅▅▅▅▅▅▆▆▆▆▆▆▆▇▇███</td></tr><tr><td>seed_42_reward</td><td>▁▂▂▅▁▆▄▆▆▅▆▇▆▃▆▄▁▄▇▆▃▇▆▆▇▆▇█▄▆▅▆▂▇▆▅▄▂▇▅</td></tr><tr><td>seed_456_episode</td><td>▁▁▂▂▂▂▃▃▃▃▄▄▄▄▄▄▄▄▄▄▄▅▅▅▅▅▅▆▆▆▆▆▆▇▇▇▇▇▇█</td></tr><tr><td>seed_456_reward</td><td>▁▁▂▁▂▃▂▄▃▃▃▃▂▅▄▅▄▅▄▃▆▅▅▄▅▆▄▆▇▇▆▆▆▆▇█▆▆▆█</td></tr><tr><td>seed_789_episode</td><td>▁▁▁▁▁▂▂▂▂▃▃▃▃▃▄▄▄▄▄▅▅▅▅▅▆▆▆▆▆▆▇▇▇▇▇▇▇███</td></tr><tr><td>seed_789_reward</td><td>▁▁▅▁▆▅▅▅▅▆▆▅▆▆▃▄▅▁▆▆▆█▆▁█▇▆▁▆█▁▂▆▂▄▇▇▅█▆</td></tr></table><br/></div><div class=\"wandb-col\"><h3>Run summary:</h3><br/><table class=\"wandb\"><tr><td>average_reward_across_seeds</td><td>129.532</td></tr><tr><td>seed_101_episode</td><td>999</td></tr><tr><td>seed_101_reward</td><td>105</td></tr><tr><td>seed_123_episode</td><td>999</td></tr><tr><td>seed_123_reward</td><td>119</td></tr><tr><td>seed_42_episode</td><td>999</td></tr><tr><td>seed_42_reward</td><td>329</td></tr><tr><td>seed_456_episode</td><td>999</td></tr><tr><td>seed_456_reward</td><td>114</td></tr><tr><td>seed_789_episode</td><td>999</td></tr><tr><td>seed_789_reward</td><td>173</td></tr></table><br/></div></div>"
            ]
          },
          "metadata": {}
        },
        {
          "output_type": "display_data",
          "data": {
            "text/plain": [
              "<IPython.core.display.HTML object>"
            ],
            "text/html": [
              " View run <strong style=\"color:#cdcd00\">efficient-sweep-39</strong> at: <a href='https://wandb.ai/abhijithvinod-indian-institue-of-technology-madras/RL_CartPole_QLearning/runs/odzw5f3n' target=\"_blank\">https://wandb.ai/abhijithvinod-indian-institue-of-technology-madras/RL_CartPole_QLearning/runs/odzw5f3n</a><br> View project at: <a href='https://wandb.ai/abhijithvinod-indian-institue-of-technology-madras/RL_CartPole_QLearning' target=\"_blank\">https://wandb.ai/abhijithvinod-indian-institue-of-technology-madras/RL_CartPole_QLearning</a><br>Synced 5 W&B file(s), 0 media file(s), 0 artifact file(s) and 0 other file(s)"
            ]
          },
          "metadata": {}
        },
        {
          "output_type": "display_data",
          "data": {
            "text/plain": [
              "<IPython.core.display.HTML object>"
            ],
            "text/html": [
              "Find logs at: <code>./wandb/run-20250331_155336-odzw5f3n/logs</code>"
            ]
          },
          "metadata": {}
        },
        {
          "output_type": "stream",
          "name": "stderr",
          "text": [
            "\u001b[34m\u001b[1mwandb\u001b[0m: Agent Starting Run: t2djtvjq with config:\n",
            "\u001b[34m\u001b[1mwandb\u001b[0m: \talpha: 0.10139552335799638\n",
            "\u001b[34m\u001b[1mwandb\u001b[0m: \tgamma: 0.99\n",
            "\u001b[34m\u001b[1mwandb\u001b[0m: \tn_bins: 20\n",
            "\u001b[34m\u001b[1mwandb\u001b[0m: \tn_episodes: 1000\n",
            "\u001b[34m\u001b[1mwandb\u001b[0m: \tseed: 456\n",
            "\u001b[34m\u001b[1mwandb\u001b[0m: \ttemperature: 0.19818025379246215\n"
          ]
        },
        {
          "output_type": "display_data",
          "data": {
            "text/plain": [
              "<IPython.core.display.HTML object>"
            ],
            "text/html": [
              "Tracking run with wandb version 0.19.8"
            ]
          },
          "metadata": {}
        },
        {
          "output_type": "display_data",
          "data": {
            "text/plain": [
              "<IPython.core.display.HTML object>"
            ],
            "text/html": [
              "Run data is saved locally in <code>/content/wandb/run-20250331_155507-t2djtvjq</code>"
            ]
          },
          "metadata": {}
        },
        {
          "output_type": "display_data",
          "data": {
            "text/plain": [
              "<IPython.core.display.HTML object>"
            ],
            "text/html": [
              "Syncing run <strong><a href='https://wandb.ai/abhijithvinod-indian-institue-of-technology-madras/RL_CartPole_QLearning/runs/t2djtvjq' target=\"_blank\">youthful-sweep-40</a></strong> to <a href='https://wandb.ai/abhijithvinod-indian-institue-of-technology-madras/RL_CartPole_QLearning' target=\"_blank\">Weights & Biases</a> (<a href='https://wandb.me/developer-guide' target=\"_blank\">docs</a>)<br>Sweep page: <a href='https://wandb.ai/abhijithvinod-indian-institue-of-technology-madras/RL_CartPole_QLearning/sweeps/kreeqo81' target=\"_blank\">https://wandb.ai/abhijithvinod-indian-institue-of-technology-madras/RL_CartPole_QLearning/sweeps/kreeqo81</a>"
            ]
          },
          "metadata": {}
        },
        {
          "output_type": "display_data",
          "data": {
            "text/plain": [
              "<IPython.core.display.HTML object>"
            ],
            "text/html": [
              " View project at <a href='https://wandb.ai/abhijithvinod-indian-institue-of-technology-madras/RL_CartPole_QLearning' target=\"_blank\">https://wandb.ai/abhijithvinod-indian-institue-of-technology-madras/RL_CartPole_QLearning</a>"
            ]
          },
          "metadata": {}
        },
        {
          "output_type": "display_data",
          "data": {
            "text/plain": [
              "<IPython.core.display.HTML object>"
            ],
            "text/html": [
              " View sweep at <a href='https://wandb.ai/abhijithvinod-indian-institue-of-technology-madras/RL_CartPole_QLearning/sweeps/kreeqo81' target=\"_blank\">https://wandb.ai/abhijithvinod-indian-institue-of-technology-madras/RL_CartPole_QLearning/sweeps/kreeqo81</a>"
            ]
          },
          "metadata": {}
        },
        {
          "output_type": "display_data",
          "data": {
            "text/plain": [
              "<IPython.core.display.HTML object>"
            ],
            "text/html": [
              " View run at <a href='https://wandb.ai/abhijithvinod-indian-institue-of-technology-madras/RL_CartPole_QLearning/runs/t2djtvjq' target=\"_blank\">https://wandb.ai/abhijithvinod-indian-institue-of-technology-madras/RL_CartPole_QLearning/runs/t2djtvjq</a>"
            ]
          },
          "metadata": {}
        },
        {
          "output_type": "display_data",
          "data": {
            "text/plain": [
              "<IPython.core.display.HTML object>"
            ],
            "text/html": []
          },
          "metadata": {}
        },
        {
          "output_type": "display_data",
          "data": {
            "text/plain": [
              "<IPython.core.display.HTML object>"
            ],
            "text/html": [
              "<br>    <style><br>        .wandb-row {<br>            display: flex;<br>            flex-direction: row;<br>            flex-wrap: wrap;<br>            justify-content: flex-start;<br>            width: 100%;<br>        }<br>        .wandb-col {<br>            display: flex;<br>            flex-direction: column;<br>            flex-basis: 100%;<br>            flex: 1;<br>            padding: 10px;<br>        }<br>    </style><br><div class=\"wandb-row\"><div class=\"wandb-col\"><h3>Run history:</h3><br/><table class=\"wandb\"><tr><td>average_reward_across_seeds</td><td>▁</td></tr><tr><td>seed_101_episode</td><td>▁▁▁▁▁▂▂▂▂▂▂▃▃▄▄▄▄▄▄▄▅▅▅▅▅▆▆▆▆▆▆▆▇▇▇▇▇▇▇█</td></tr><tr><td>seed_101_reward</td><td>▇▆▃▃▁▂▅▄█▄▂▂▄▄▃▂▂▂▂▂▆▂▂▃▂▂▃▂▄▂▂▂▁▁▂▁▄▁▂▂</td></tr><tr><td>seed_123_episode</td><td>▁▁▁▂▂▂▃▃▃▃▃▄▄▄▄▄▄▄▄▄▅▅▅▅▅▆▆▆▆▆▇▇▇▇▇▇████</td></tr><tr><td>seed_123_reward</td><td>▁▁▄▁▁▁▄▁▆▁▃▅▄▁▅▁▁█▁▁▆▁▁█▅▄▄▄▅▁▃▁▄▂▄▅▁█▄▄</td></tr><tr><td>seed_42_episode</td><td>▁▁▁▁▁▂▂▂▂▂▂▂▂▃▃▃▃▄▅▅▅▅▆▆▆▆▆▆▆▆▆▆▆▆▆▇▇▇▇█</td></tr><tr><td>seed_42_reward</td><td>▄▁▅▃▆█▂▃▃▂▂▂▄▆▅▃▂▂▅▁▃▅▂▂▃▆▃▄▄▅▅▆▄▁▅▂▂▃▅▆</td></tr><tr><td>seed_456_episode</td><td>▁▁▂▂▂▂▂▂▂▃▃▃▃▃▃▃▃▃▃▄▄▅▅▆▆▆▆▆▇▇▇▇▇▇▇▇████</td></tr><tr><td>seed_456_reward</td><td>▄▂▄█▃▁▃▂▂▂▃█▁▃▂▁▂▁▂▄▂▄▅▂▂▂▂▁▂▇▁▂▂▂▁▃▁▄▂▆</td></tr><tr><td>seed_789_episode</td><td>▁▁▁▁▂▂▂▂▃▃▃▃▃▃▃▄▄▄▄▄▄▄▅▅▅▅▆▆▆▆▆▆▇▇▇▇▇███</td></tr><tr><td>seed_789_reward</td><td>▃▃▁█▅▃▄▂▅▆▄▄▅▂▃▄▄▄▆▃▄▂▁▄▂▃▆▂▂▂▅▂▇▂▂▆▃▆▃█</td></tr></table><br/></div><div class=\"wandb-col\"><h3>Run summary:</h3><br/><table class=\"wandb\"><tr><td>average_reward_across_seeds</td><td>47.068</td></tr><tr><td>seed_101_episode</td><td>999</td></tr><tr><td>seed_101_reward</td><td>21</td></tr><tr><td>seed_123_episode</td><td>999</td></tr><tr><td>seed_123_reward</td><td>13</td></tr><tr><td>seed_42_episode</td><td>999</td></tr><tr><td>seed_42_reward</td><td>117</td></tr><tr><td>seed_456_episode</td><td>999</td></tr><tr><td>seed_456_reward</td><td>25</td></tr><tr><td>seed_789_episode</td><td>999</td></tr><tr><td>seed_789_reward</td><td>24</td></tr></table><br/></div></div>"
            ]
          },
          "metadata": {}
        },
        {
          "output_type": "display_data",
          "data": {
            "text/plain": [
              "<IPython.core.display.HTML object>"
            ],
            "text/html": [
              " View run <strong style=\"color:#cdcd00\">youthful-sweep-40</strong> at: <a href='https://wandb.ai/abhijithvinod-indian-institue-of-technology-madras/RL_CartPole_QLearning/runs/t2djtvjq' target=\"_blank\">https://wandb.ai/abhijithvinod-indian-institue-of-technology-madras/RL_CartPole_QLearning/runs/t2djtvjq</a><br> View project at: <a href='https://wandb.ai/abhijithvinod-indian-institue-of-technology-madras/RL_CartPole_QLearning' target=\"_blank\">https://wandb.ai/abhijithvinod-indian-institue-of-technology-madras/RL_CartPole_QLearning</a><br>Synced 5 W&B file(s), 0 media file(s), 0 artifact file(s) and 0 other file(s)"
            ]
          },
          "metadata": {}
        },
        {
          "output_type": "display_data",
          "data": {
            "text/plain": [
              "<IPython.core.display.HTML object>"
            ],
            "text/html": [
              "Find logs at: <code>./wandb/run-20250331_155507-t2djtvjq/logs</code>"
            ]
          },
          "metadata": {}
        },
        {
          "output_type": "stream",
          "name": "stderr",
          "text": [
            "\u001b[34m\u001b[1mwandb\u001b[0m: Sweep Agent: Waiting for job.\n",
            "\u001b[34m\u001b[1mwandb\u001b[0m: Job received.\n",
            "\u001b[34m\u001b[1mwandb\u001b[0m: Agent Starting Run: luvqp10a with config:\n",
            "\u001b[34m\u001b[1mwandb\u001b[0m: \talpha: 0.3586636165420974\n",
            "\u001b[34m\u001b[1mwandb\u001b[0m: \tgamma: 0.99\n",
            "\u001b[34m\u001b[1mwandb\u001b[0m: \tn_bins: 15\n",
            "\u001b[34m\u001b[1mwandb\u001b[0m: \tn_episodes: 1000\n",
            "\u001b[34m\u001b[1mwandb\u001b[0m: \tseed: 456\n",
            "\u001b[34m\u001b[1mwandb\u001b[0m: \ttemperature: 1.4301473186110298\n"
          ]
        },
        {
          "output_type": "display_data",
          "data": {
            "text/plain": [
              "<IPython.core.display.HTML object>"
            ],
            "text/html": [
              "Tracking run with wandb version 0.19.8"
            ]
          },
          "metadata": {}
        },
        {
          "output_type": "display_data",
          "data": {
            "text/plain": [
              "<IPython.core.display.HTML object>"
            ],
            "text/html": [
              "Run data is saved locally in <code>/content/wandb/run-20250331_155558-luvqp10a</code>"
            ]
          },
          "metadata": {}
        },
        {
          "output_type": "display_data",
          "data": {
            "text/plain": [
              "<IPython.core.display.HTML object>"
            ],
            "text/html": [
              "Syncing run <strong><a href='https://wandb.ai/abhijithvinod-indian-institue-of-technology-madras/RL_CartPole_QLearning/runs/luvqp10a' target=\"_blank\">silver-sweep-41</a></strong> to <a href='https://wandb.ai/abhijithvinod-indian-institue-of-technology-madras/RL_CartPole_QLearning' target=\"_blank\">Weights & Biases</a> (<a href='https://wandb.me/developer-guide' target=\"_blank\">docs</a>)<br>Sweep page: <a href='https://wandb.ai/abhijithvinod-indian-institue-of-technology-madras/RL_CartPole_QLearning/sweeps/kreeqo81' target=\"_blank\">https://wandb.ai/abhijithvinod-indian-institue-of-technology-madras/RL_CartPole_QLearning/sweeps/kreeqo81</a>"
            ]
          },
          "metadata": {}
        },
        {
          "output_type": "display_data",
          "data": {
            "text/plain": [
              "<IPython.core.display.HTML object>"
            ],
            "text/html": [
              " View project at <a href='https://wandb.ai/abhijithvinod-indian-institue-of-technology-madras/RL_CartPole_QLearning' target=\"_blank\">https://wandb.ai/abhijithvinod-indian-institue-of-technology-madras/RL_CartPole_QLearning</a>"
            ]
          },
          "metadata": {}
        },
        {
          "output_type": "display_data",
          "data": {
            "text/plain": [
              "<IPython.core.display.HTML object>"
            ],
            "text/html": [
              " View sweep at <a href='https://wandb.ai/abhijithvinod-indian-institue-of-technology-madras/RL_CartPole_QLearning/sweeps/kreeqo81' target=\"_blank\">https://wandb.ai/abhijithvinod-indian-institue-of-technology-madras/RL_CartPole_QLearning/sweeps/kreeqo81</a>"
            ]
          },
          "metadata": {}
        },
        {
          "output_type": "display_data",
          "data": {
            "text/plain": [
              "<IPython.core.display.HTML object>"
            ],
            "text/html": [
              " View run at <a href='https://wandb.ai/abhijithvinod-indian-institue-of-technology-madras/RL_CartPole_QLearning/runs/luvqp10a' target=\"_blank\">https://wandb.ai/abhijithvinod-indian-institue-of-technology-madras/RL_CartPole_QLearning/runs/luvqp10a</a>"
            ]
          },
          "metadata": {}
        },
        {
          "output_type": "display_data",
          "data": {
            "text/plain": [
              "<IPython.core.display.HTML object>"
            ],
            "text/html": []
          },
          "metadata": {}
        },
        {
          "output_type": "display_data",
          "data": {
            "text/plain": [
              "<IPython.core.display.HTML object>"
            ],
            "text/html": [
              "<br>    <style><br>        .wandb-row {<br>            display: flex;<br>            flex-direction: row;<br>            flex-wrap: wrap;<br>            justify-content: flex-start;<br>            width: 100%;<br>        }<br>        .wandb-col {<br>            display: flex;<br>            flex-direction: column;<br>            flex-basis: 100%;<br>            flex: 1;<br>            padding: 10px;<br>        }<br>    </style><br><div class=\"wandb-row\"><div class=\"wandb-col\"><h3>Run history:</h3><br/><table class=\"wandb\"><tr><td>average_reward_across_seeds</td><td>▁</td></tr><tr><td>seed_101_episode</td><td>▁▁▁▂▂▂▂▂▂▂▃▃▃▃▃▄▄▄▄▄▄▅▅▅▅▅▅▅▅▅▅▆▆▆▆▇▇███</td></tr><tr><td>seed_101_reward</td><td>▂▁▁▂▂▃▄▄▅▆▇▅▆▇▆▇▆▆█▆██▆▆█▇▇▇█▆▆▇▇▆▇▇▇▇▇▇</td></tr><tr><td>seed_123_episode</td><td>▁▁▁▁▂▂▂▂▂▂▂▂▂▂▃▃▄▄▄▄▄▄▅▅▅▅▅▅▅▅▅▆▆▆▆▇████</td></tr><tr><td>seed_123_reward</td><td>▁▂▄▅▄▂▅▆▅▃▄▇▅▆▆▁▇▆▅▄▂▅█▄▅▄▅█▇▃▇▃▄▂▄▃▄▅▇▄</td></tr><tr><td>seed_42_episode</td><td>▁▁▂▂▂▂▂▂▂▃▃▃▃▃▃▃▃▃▃▃▄▄▄▄▄▅▅▅▅▅▆▆▇▇▇▇▇███</td></tr><tr><td>seed_42_reward</td><td>▁▁▁▁▁▁▁▂▁▁▂▂▃▃▄▃▂▃▄▄▂▄▂▃▂▄▃▃█▃▃▃▃▃▃▃▃▃▄▃</td></tr><tr><td>seed_456_episode</td><td>▁▁▁▁▁▂▂▂▂▃▃▃▃▄▄▄▄▄▄▄▄▅▅▅▅▅▅▆▆▆▆▆▆▆▆▇▇▇▇█</td></tr><tr><td>seed_456_reward</td><td>▁▁▂▂▅▁▂▁▁▅▁▂▂▁▆▄▂▅▄▅▂▃▃▇▃▃▄▃▃▅▄▇▃▅▃▄█▃█▆</td></tr><tr><td>seed_789_episode</td><td>▁▁▁▁▂▂▂▂▃▃▃▃▃▃▄▄▄▄▄▄▅▅▆▆▆▆▆▆▆▇▇▇▇▇▇█████</td></tr><tr><td>seed_789_reward</td><td>▁▁▁▂▃▄▅▃▄▄▂▅▆▄▃▄▄▃▅▃▇▃▃▃▅▄▄▄▃▄▄█▅▄▄▄▃▄▃▃</td></tr></table><br/></div><div class=\"wandb-col\"><h3>Run summary:</h3><br/><table class=\"wandb\"><tr><td>average_reward_across_seeds</td><td>163.228</td></tr><tr><td>seed_101_episode</td><td>999</td></tr><tr><td>seed_101_reward</td><td>129</td></tr><tr><td>seed_123_episode</td><td>999</td></tr><tr><td>seed_123_reward</td><td>404</td></tr><tr><td>seed_42_episode</td><td>999</td></tr><tr><td>seed_42_reward</td><td>180</td></tr><tr><td>seed_456_episode</td><td>999</td></tr><tr><td>seed_456_reward</td><td>130</td></tr><tr><td>seed_789_episode</td><td>999</td></tr><tr><td>seed_789_reward</td><td>64</td></tr></table><br/></div></div>"
            ]
          },
          "metadata": {}
        },
        {
          "output_type": "display_data",
          "data": {
            "text/plain": [
              "<IPython.core.display.HTML object>"
            ],
            "text/html": [
              " View run <strong style=\"color:#cdcd00\">silver-sweep-41</strong> at: <a href='https://wandb.ai/abhijithvinod-indian-institue-of-technology-madras/RL_CartPole_QLearning/runs/luvqp10a' target=\"_blank\">https://wandb.ai/abhijithvinod-indian-institue-of-technology-madras/RL_CartPole_QLearning/runs/luvqp10a</a><br> View project at: <a href='https://wandb.ai/abhijithvinod-indian-institue-of-technology-madras/RL_CartPole_QLearning' target=\"_blank\">https://wandb.ai/abhijithvinod-indian-institue-of-technology-madras/RL_CartPole_QLearning</a><br>Synced 5 W&B file(s), 0 media file(s), 0 artifact file(s) and 0 other file(s)"
            ]
          },
          "metadata": {}
        },
        {
          "output_type": "display_data",
          "data": {
            "text/plain": [
              "<IPython.core.display.HTML object>"
            ],
            "text/html": [
              "Find logs at: <code>./wandb/run-20250331_155558-luvqp10a/logs</code>"
            ]
          },
          "metadata": {}
        },
        {
          "output_type": "stream",
          "name": "stderr",
          "text": [
            "\u001b[34m\u001b[1mwandb\u001b[0m: Agent Starting Run: p1c93zua with config:\n",
            "\u001b[34m\u001b[1mwandb\u001b[0m: \talpha: 0.3493454251791392\n",
            "\u001b[34m\u001b[1mwandb\u001b[0m: \tgamma: 0.99\n",
            "\u001b[34m\u001b[1mwandb\u001b[0m: \tn_bins: 15\n",
            "\u001b[34m\u001b[1mwandb\u001b[0m: \tn_episodes: 1000\n",
            "\u001b[34m\u001b[1mwandb\u001b[0m: \tseed: 789\n",
            "\u001b[34m\u001b[1mwandb\u001b[0m: \ttemperature: 1.7197178294488076\n"
          ]
        },
        {
          "output_type": "display_data",
          "data": {
            "text/plain": [
              "<IPython.core.display.HTML object>"
            ],
            "text/html": [
              "Tracking run with wandb version 0.19.8"
            ]
          },
          "metadata": {}
        },
        {
          "output_type": "display_data",
          "data": {
            "text/plain": [
              "<IPython.core.display.HTML object>"
            ],
            "text/html": [
              "Run data is saved locally in <code>/content/wandb/run-20250331_155756-p1c93zua</code>"
            ]
          },
          "metadata": {}
        },
        {
          "output_type": "display_data",
          "data": {
            "text/plain": [
              "<IPython.core.display.HTML object>"
            ],
            "text/html": [
              "Syncing run <strong><a href='https://wandb.ai/abhijithvinod-indian-institue-of-technology-madras/RL_CartPole_QLearning/runs/p1c93zua' target=\"_blank\">fragrant-sweep-42</a></strong> to <a href='https://wandb.ai/abhijithvinod-indian-institue-of-technology-madras/RL_CartPole_QLearning' target=\"_blank\">Weights & Biases</a> (<a href='https://wandb.me/developer-guide' target=\"_blank\">docs</a>)<br>Sweep page: <a href='https://wandb.ai/abhijithvinod-indian-institue-of-technology-madras/RL_CartPole_QLearning/sweeps/kreeqo81' target=\"_blank\">https://wandb.ai/abhijithvinod-indian-institue-of-technology-madras/RL_CartPole_QLearning/sweeps/kreeqo81</a>"
            ]
          },
          "metadata": {}
        },
        {
          "output_type": "display_data",
          "data": {
            "text/plain": [
              "<IPython.core.display.HTML object>"
            ],
            "text/html": [
              " View project at <a href='https://wandb.ai/abhijithvinod-indian-institue-of-technology-madras/RL_CartPole_QLearning' target=\"_blank\">https://wandb.ai/abhijithvinod-indian-institue-of-technology-madras/RL_CartPole_QLearning</a>"
            ]
          },
          "metadata": {}
        },
        {
          "output_type": "display_data",
          "data": {
            "text/plain": [
              "<IPython.core.display.HTML object>"
            ],
            "text/html": [
              " View sweep at <a href='https://wandb.ai/abhijithvinod-indian-institue-of-technology-madras/RL_CartPole_QLearning/sweeps/kreeqo81' target=\"_blank\">https://wandb.ai/abhijithvinod-indian-institue-of-technology-madras/RL_CartPole_QLearning/sweeps/kreeqo81</a>"
            ]
          },
          "metadata": {}
        },
        {
          "output_type": "display_data",
          "data": {
            "text/plain": [
              "<IPython.core.display.HTML object>"
            ],
            "text/html": [
              " View run at <a href='https://wandb.ai/abhijithvinod-indian-institue-of-technology-madras/RL_CartPole_QLearning/runs/p1c93zua' target=\"_blank\">https://wandb.ai/abhijithvinod-indian-institue-of-technology-madras/RL_CartPole_QLearning/runs/p1c93zua</a>"
            ]
          },
          "metadata": {}
        },
        {
          "output_type": "display_data",
          "data": {
            "text/plain": [
              "<IPython.core.display.HTML object>"
            ],
            "text/html": []
          },
          "metadata": {}
        },
        {
          "output_type": "display_data",
          "data": {
            "text/plain": [
              "<IPython.core.display.HTML object>"
            ],
            "text/html": [
              "<br>    <style><br>        .wandb-row {<br>            display: flex;<br>            flex-direction: row;<br>            flex-wrap: wrap;<br>            justify-content: flex-start;<br>            width: 100%;<br>        }<br>        .wandb-col {<br>            display: flex;<br>            flex-direction: column;<br>            flex-basis: 100%;<br>            flex: 1;<br>            padding: 10px;<br>        }<br>    </style><br><div class=\"wandb-row\"><div class=\"wandb-col\"><h3>Run history:</h3><br/><table class=\"wandb\"><tr><td>average_reward_across_seeds</td><td>▁</td></tr><tr><td>seed_101_episode</td><td>▁▁▁▁▂▂▂▂▂▃▃▃▃▃▃▃▃▄▄▅▅▅▅▅▅▅▅▆▆▆▆▆▆▆▆▇▇▇▇█</td></tr><tr><td>seed_101_reward</td><td>▂▃▁▁▂▂▅▂▃▅▂▂▆▃▂▄▄▄▃▂▃▃█▄▄▄▄▃▅▄▃▃▄▄▃▅▃▃▃▄</td></tr><tr><td>seed_123_episode</td><td>▁▁▁▁▁▂▂▂▂▃▃▃▃▃▃▄▄▄▄▄▅▅▅▆▆▆▆▆▆▆▇▇▇▇▇▇████</td></tr><tr><td>seed_123_reward</td><td>▁▁▁▂▃█▃▆▃▂▃▄▃▂▄▅▃▆▃▄▇▄▃▂▂▅▅██▅▃█▃▄▅▄▇▅▄▄</td></tr><tr><td>seed_42_episode</td><td>▁▁▁▁▁▁▂▂▂▃▃▃▄▄▄▄▄▄▄▅▅▅▅▅▅▆▆▆▆▆▆▇▇▇▇▇████</td></tr><tr><td>seed_42_reward</td><td>▁▁▁▁▁▁▂▂▄▅▃▃▂█▃▁▃▃▃▅▃▄▄▃▄▃▂▂▂▃▄▃▄▄▂▇▆▃▁▁</td></tr><tr><td>seed_456_episode</td><td>▁▁▁▁▁▂▂▂▂▃▃▃▃▄▄▄▄▄▅▅▅▅▅▆▆▆▆▆▆▆▆▇▇▇▇▇▇▇▇█</td></tr><tr><td>seed_456_reward</td><td>▂▁▂▂▂▂▁▁▁▂▂▃▃▂▄▃▂▅▁▃▃▅▄▆▄▆▃▅▃█▆▅▆▅▆█▅▄▄▆</td></tr><tr><td>seed_789_episode</td><td>▁▁▁▂▂▂▂▃▃▃▃▃▃▄▄▄▄▄▄▅▅▅▅▆▆▆▆▆▆▆▇▇▇▇▇▇████</td></tr><tr><td>seed_789_reward</td><td>▁▁▁▂▁▃▃▃▄▄▆▄▄▅▄▅▅▄▄▆▂▄▄█▅▅▅▄▄▄▄▆▆▄▄▅▇▅▄▆</td></tr></table><br/></div><div class=\"wandb-col\"><h3>Run summary:</h3><br/><table class=\"wandb\"><tr><td>average_reward_across_seeds</td><td>170.156</td></tr><tr><td>seed_101_episode</td><td>999</td></tr><tr><td>seed_101_reward</td><td>145</td></tr><tr><td>seed_123_episode</td><td>999</td></tr><tr><td>seed_123_reward</td><td>493</td></tr><tr><td>seed_42_episode</td><td>999</td></tr><tr><td>seed_42_reward</td><td>169</td></tr><tr><td>seed_456_episode</td><td>999</td></tr><tr><td>seed_456_reward</td><td>115</td></tr><tr><td>seed_789_episode</td><td>999</td></tr><tr><td>seed_789_reward</td><td>234</td></tr></table><br/></div></div>"
            ]
          },
          "metadata": {}
        },
        {
          "output_type": "display_data",
          "data": {
            "text/plain": [
              "<IPython.core.display.HTML object>"
            ],
            "text/html": [
              " View run <strong style=\"color:#cdcd00\">fragrant-sweep-42</strong> at: <a href='https://wandb.ai/abhijithvinod-indian-institue-of-technology-madras/RL_CartPole_QLearning/runs/p1c93zua' target=\"_blank\">https://wandb.ai/abhijithvinod-indian-institue-of-technology-madras/RL_CartPole_QLearning/runs/p1c93zua</a><br> View project at: <a href='https://wandb.ai/abhijithvinod-indian-institue-of-technology-madras/RL_CartPole_QLearning' target=\"_blank\">https://wandb.ai/abhijithvinod-indian-institue-of-technology-madras/RL_CartPole_QLearning</a><br>Synced 5 W&B file(s), 0 media file(s), 0 artifact file(s) and 0 other file(s)"
            ]
          },
          "metadata": {}
        },
        {
          "output_type": "display_data",
          "data": {
            "text/plain": [
              "<IPython.core.display.HTML object>"
            ],
            "text/html": [
              "Find logs at: <code>./wandb/run-20250331_155756-p1c93zua/logs</code>"
            ]
          },
          "metadata": {}
        },
        {
          "output_type": "stream",
          "name": "stderr",
          "text": [
            "\u001b[34m\u001b[1mwandb\u001b[0m: Agent Starting Run: uhcxbbw8 with config:\n",
            "\u001b[34m\u001b[1mwandb\u001b[0m: \talpha: 0.4746949434304494\n",
            "\u001b[34m\u001b[1mwandb\u001b[0m: \tgamma: 0.99\n",
            "\u001b[34m\u001b[1mwandb\u001b[0m: \tn_bins: 20\n",
            "\u001b[34m\u001b[1mwandb\u001b[0m: \tn_episodes: 1000\n",
            "\u001b[34m\u001b[1mwandb\u001b[0m: \tseed: 456\n",
            "\u001b[34m\u001b[1mwandb\u001b[0m: \ttemperature: 1.9841778211432148\n"
          ]
        },
        {
          "output_type": "display_data",
          "data": {
            "text/plain": [
              "<IPython.core.display.HTML object>"
            ],
            "text/html": [
              "Tracking run with wandb version 0.19.8"
            ]
          },
          "metadata": {}
        },
        {
          "output_type": "display_data",
          "data": {
            "text/plain": [
              "<IPython.core.display.HTML object>"
            ],
            "text/html": [
              "Run data is saved locally in <code>/content/wandb/run-20250331_160003-uhcxbbw8</code>"
            ]
          },
          "metadata": {}
        },
        {
          "output_type": "display_data",
          "data": {
            "text/plain": [
              "<IPython.core.display.HTML object>"
            ],
            "text/html": [
              "Syncing run <strong><a href='https://wandb.ai/abhijithvinod-indian-institue-of-technology-madras/RL_CartPole_QLearning/runs/uhcxbbw8' target=\"_blank\">golden-sweep-43</a></strong> to <a href='https://wandb.ai/abhijithvinod-indian-institue-of-technology-madras/RL_CartPole_QLearning' target=\"_blank\">Weights & Biases</a> (<a href='https://wandb.me/developer-guide' target=\"_blank\">docs</a>)<br>Sweep page: <a href='https://wandb.ai/abhijithvinod-indian-institue-of-technology-madras/RL_CartPole_QLearning/sweeps/kreeqo81' target=\"_blank\">https://wandb.ai/abhijithvinod-indian-institue-of-technology-madras/RL_CartPole_QLearning/sweeps/kreeqo81</a>"
            ]
          },
          "metadata": {}
        },
        {
          "output_type": "display_data",
          "data": {
            "text/plain": [
              "<IPython.core.display.HTML object>"
            ],
            "text/html": [
              " View project at <a href='https://wandb.ai/abhijithvinod-indian-institue-of-technology-madras/RL_CartPole_QLearning' target=\"_blank\">https://wandb.ai/abhijithvinod-indian-institue-of-technology-madras/RL_CartPole_QLearning</a>"
            ]
          },
          "metadata": {}
        },
        {
          "output_type": "display_data",
          "data": {
            "text/plain": [
              "<IPython.core.display.HTML object>"
            ],
            "text/html": [
              " View sweep at <a href='https://wandb.ai/abhijithvinod-indian-institue-of-technology-madras/RL_CartPole_QLearning/sweeps/kreeqo81' target=\"_blank\">https://wandb.ai/abhijithvinod-indian-institue-of-technology-madras/RL_CartPole_QLearning/sweeps/kreeqo81</a>"
            ]
          },
          "metadata": {}
        },
        {
          "output_type": "display_data",
          "data": {
            "text/plain": [
              "<IPython.core.display.HTML object>"
            ],
            "text/html": [
              " View run at <a href='https://wandb.ai/abhijithvinod-indian-institue-of-technology-madras/RL_CartPole_QLearning/runs/uhcxbbw8' target=\"_blank\">https://wandb.ai/abhijithvinod-indian-institue-of-technology-madras/RL_CartPole_QLearning/runs/uhcxbbw8</a>"
            ]
          },
          "metadata": {}
        },
        {
          "output_type": "display_data",
          "data": {
            "text/plain": [
              "<IPython.core.display.HTML object>"
            ],
            "text/html": []
          },
          "metadata": {}
        },
        {
          "output_type": "display_data",
          "data": {
            "text/plain": [
              "<IPython.core.display.HTML object>"
            ],
            "text/html": [
              "<br>    <style><br>        .wandb-row {<br>            display: flex;<br>            flex-direction: row;<br>            flex-wrap: wrap;<br>            justify-content: flex-start;<br>            width: 100%;<br>        }<br>        .wandb-col {<br>            display: flex;<br>            flex-direction: column;<br>            flex-basis: 100%;<br>            flex: 1;<br>            padding: 10px;<br>        }<br>    </style><br><div class=\"wandb-row\"><div class=\"wandb-col\"><h3>Run history:</h3><br/><table class=\"wandb\"><tr><td>average_reward_across_seeds</td><td>▁</td></tr><tr><td>seed_101_episode</td><td>▁▁▁▂▂▂▂▂▂▂▃▃▃▃▃▃▃▄▄▄▄▄▄▄▄▄▄▅▅▅▅▅▆▆▆▇▇▇██</td></tr><tr><td>seed_101_reward</td><td>▂▂▂▄▁▃▄▃▅▄▅▆▅▆▆▅▆▇▆▆▇█▆▇▆▆▇▆▆▆▇▇▆█▇▇▆▃▇█</td></tr><tr><td>seed_123_episode</td><td>▁▁▁▂▂▂▂▂▂▂▃▃▃▃▃▃▃▃▃▃▄▄▅▅▅▆▆▆▆▆▆▇▇▇▇▇▇▇██</td></tr><tr><td>seed_123_reward</td><td>▁▂▁▃▂▅▅▅▆▆▆▆▃▆▇▇█▅▆▆▇▇▆▆▆▇▇▆▇▆▆▇██▇▅▇▇▇█</td></tr><tr><td>seed_42_episode</td><td>▁▁▁▁▁▂▂▂▂▃▃▃▃▃▃▄▄▄▄▄▅▅▅▅▅▅▆▆▆▆▆▆▆▇▇▇▇▇▇█</td></tr><tr><td>seed_42_reward</td><td>▁▁▃▃▆▂▄▆▅▇▂▇█▄▅█▅▅█▅▅█▇██▆█▇██▅▆█▅▆▆▅▅██</td></tr><tr><td>seed_456_episode</td><td>▁▁▂▂▂▂▂▂▂▂▃▃▃▃▃▃▃▄▄▄▄▅▅▅▅▅▆▆▆▆▆▆▇▇▇█████</td></tr><tr><td>seed_456_reward</td><td>▁▂▁▁▃▂▄▅▃▃▄▂▃▄▄▇▆▅▅▆▅▅▆▆▇▇▆▅▆▅▇▆▆▆█▇█▆▆▆</td></tr><tr><td>seed_789_episode</td><td>▁▁▁▁▁▂▂▂▂▂▃▃▃▃▃▄▄▄▄▄▄▄▄▅▅▅▅▅▅▅▆▆▆▆▇▇▇▇▇█</td></tr><tr><td>seed_789_reward</td><td>▁▃▃▃▂▅▇▅▆▆▃▇▇▆▆▇▅▇▇██▇▆▇█▇▇█▇▇▂▇▇▇▇█▇▇▇▇</td></tr></table><br/></div><div class=\"wandb-col\"><h3>Run summary:</h3><br/><table class=\"wandb\"><tr><td>average_reward_across_seeds</td><td>200.28</td></tr><tr><td>seed_101_episode</td><td>999</td></tr><tr><td>seed_101_reward</td><td>213</td></tr><tr><td>seed_123_episode</td><td>999</td></tr><tr><td>seed_123_reward</td><td>269</td></tr><tr><td>seed_42_episode</td><td>999</td></tr><tr><td>seed_42_reward</td><td>273</td></tr><tr><td>seed_456_episode</td><td>999</td></tr><tr><td>seed_456_reward</td><td>98</td></tr><tr><td>seed_789_episode</td><td>999</td></tr><tr><td>seed_789_reward</td><td>140</td></tr></table><br/></div></div>"
            ]
          },
          "metadata": {}
        },
        {
          "output_type": "display_data",
          "data": {
            "text/plain": [
              "<IPython.core.display.HTML object>"
            ],
            "text/html": [
              " View run <strong style=\"color:#cdcd00\">golden-sweep-43</strong> at: <a href='https://wandb.ai/abhijithvinod-indian-institue-of-technology-madras/RL_CartPole_QLearning/runs/uhcxbbw8' target=\"_blank\">https://wandb.ai/abhijithvinod-indian-institue-of-technology-madras/RL_CartPole_QLearning/runs/uhcxbbw8</a><br> View project at: <a href='https://wandb.ai/abhijithvinod-indian-institue-of-technology-madras/RL_CartPole_QLearning' target=\"_blank\">https://wandb.ai/abhijithvinod-indian-institue-of-technology-madras/RL_CartPole_QLearning</a><br>Synced 5 W&B file(s), 0 media file(s), 0 artifact file(s) and 0 other file(s)"
            ]
          },
          "metadata": {}
        },
        {
          "output_type": "display_data",
          "data": {
            "text/plain": [
              "<IPython.core.display.HTML object>"
            ],
            "text/html": [
              "Find logs at: <code>./wandb/run-20250331_160003-uhcxbbw8/logs</code>"
            ]
          },
          "metadata": {}
        },
        {
          "output_type": "stream",
          "name": "stderr",
          "text": [
            "\u001b[34m\u001b[1mwandb\u001b[0m: Agent Starting Run: 5g5mcjv8 with config:\n",
            "\u001b[34m\u001b[1mwandb\u001b[0m: \talpha: 0.17742515716252436\n",
            "\u001b[34m\u001b[1mwandb\u001b[0m: \tgamma: 0.99\n",
            "\u001b[34m\u001b[1mwandb\u001b[0m: \tn_bins: 15\n",
            "\u001b[34m\u001b[1mwandb\u001b[0m: \tn_episodes: 1000\n",
            "\u001b[34m\u001b[1mwandb\u001b[0m: \tseed: 123\n",
            "\u001b[34m\u001b[1mwandb\u001b[0m: \ttemperature: 0.8466098709084813\n"
          ]
        },
        {
          "output_type": "display_data",
          "data": {
            "text/plain": [
              "<IPython.core.display.HTML object>"
            ],
            "text/html": [
              "Tracking run with wandb version 0.19.8"
            ]
          },
          "metadata": {}
        },
        {
          "output_type": "display_data",
          "data": {
            "text/plain": [
              "<IPython.core.display.HTML object>"
            ],
            "text/html": [
              "Run data is saved locally in <code>/content/wandb/run-20250331_160221-5g5mcjv8</code>"
            ]
          },
          "metadata": {}
        },
        {
          "output_type": "display_data",
          "data": {
            "text/plain": [
              "<IPython.core.display.HTML object>"
            ],
            "text/html": [
              "Syncing run <strong><a href='https://wandb.ai/abhijithvinod-indian-institue-of-technology-madras/RL_CartPole_QLearning/runs/5g5mcjv8' target=\"_blank\">trim-sweep-44</a></strong> to <a href='https://wandb.ai/abhijithvinod-indian-institue-of-technology-madras/RL_CartPole_QLearning' target=\"_blank\">Weights & Biases</a> (<a href='https://wandb.me/developer-guide' target=\"_blank\">docs</a>)<br>Sweep page: <a href='https://wandb.ai/abhijithvinod-indian-institue-of-technology-madras/RL_CartPole_QLearning/sweeps/kreeqo81' target=\"_blank\">https://wandb.ai/abhijithvinod-indian-institue-of-technology-madras/RL_CartPole_QLearning/sweeps/kreeqo81</a>"
            ]
          },
          "metadata": {}
        },
        {
          "output_type": "display_data",
          "data": {
            "text/plain": [
              "<IPython.core.display.HTML object>"
            ],
            "text/html": [
              " View project at <a href='https://wandb.ai/abhijithvinod-indian-institue-of-technology-madras/RL_CartPole_QLearning' target=\"_blank\">https://wandb.ai/abhijithvinod-indian-institue-of-technology-madras/RL_CartPole_QLearning</a>"
            ]
          },
          "metadata": {}
        },
        {
          "output_type": "display_data",
          "data": {
            "text/plain": [
              "<IPython.core.display.HTML object>"
            ],
            "text/html": [
              " View sweep at <a href='https://wandb.ai/abhijithvinod-indian-institue-of-technology-madras/RL_CartPole_QLearning/sweeps/kreeqo81' target=\"_blank\">https://wandb.ai/abhijithvinod-indian-institue-of-technology-madras/RL_CartPole_QLearning/sweeps/kreeqo81</a>"
            ]
          },
          "metadata": {}
        },
        {
          "output_type": "display_data",
          "data": {
            "text/plain": [
              "<IPython.core.display.HTML object>"
            ],
            "text/html": [
              " View run at <a href='https://wandb.ai/abhijithvinod-indian-institue-of-technology-madras/RL_CartPole_QLearning/runs/5g5mcjv8' target=\"_blank\">https://wandb.ai/abhijithvinod-indian-institue-of-technology-madras/RL_CartPole_QLearning/runs/5g5mcjv8</a>"
            ]
          },
          "metadata": {}
        },
        {
          "output_type": "display_data",
          "data": {
            "text/plain": [
              "<IPython.core.display.HTML object>"
            ],
            "text/html": []
          },
          "metadata": {}
        },
        {
          "output_type": "display_data",
          "data": {
            "text/plain": [
              "<IPython.core.display.HTML object>"
            ],
            "text/html": [
              "<br>    <style><br>        .wandb-row {<br>            display: flex;<br>            flex-direction: row;<br>            flex-wrap: wrap;<br>            justify-content: flex-start;<br>            width: 100%;<br>        }<br>        .wandb-col {<br>            display: flex;<br>            flex-direction: column;<br>            flex-basis: 100%;<br>            flex: 1;<br>            padding: 10px;<br>        }<br>    </style><br><div class=\"wandb-row\"><div class=\"wandb-col\"><h3>Run history:</h3><br/><table class=\"wandb\"><tr><td>average_reward_across_seeds</td><td>▁</td></tr><tr><td>seed_101_episode</td><td>▁▂▂▂▂▃▃▃▃▃▃▃▃▄▄▄▄▄▅▅▆▆▆▆▇▇▇▇▇▇▇▇▇▇▇█████</td></tr><tr><td>seed_101_reward</td><td>▁▁▁▁▃▂▂▂▂▂▂▂▃▃▂▃▃▁▂▂▄▁▃▃▄▄▆▄█▃▃▂▃▂▃▅▄▆▃▄</td></tr><tr><td>seed_123_episode</td><td>▁▁▁▂▂▂▂▃▃▃▃▃▃▃▄▄▄▄▅▅▅▅▅▆▆▆▆▆▆▆▆▆▇▇▇█████</td></tr><tr><td>seed_123_reward</td><td>▃▇▄▅▁▆▄▃▅▃▄▄▄▇▇▂▃▇▇▃▁▇▃▄▆▃█▆▅▅▆▅▄▃▃▆▅▆▆▄</td></tr><tr><td>seed_42_episode</td><td>▁▁▁▁▁▂▂▂▂▂▂▃▄▄▄▄▄▅▅▅▅▅▅▆▆▆▆▆▆▆▆▆▇▇▇▇▇▇▇█</td></tr><tr><td>seed_42_reward</td><td>▂▂▁▁▁▁▄▁▁▂▃▁▅▁█▁▁▇▁▁▃▂▆▁▅▁▃▅▇▆▁▄▂▄▅▃▁▂▄▆</td></tr><tr><td>seed_456_episode</td><td>▁▁▁▁▂▂▂▂▃▃▃▃▄▄▄▄▄▄▅▅▅▅▅▅▅▆▆▆▆▆▆▆▇▇▇▇████</td></tr><tr><td>seed_456_reward</td><td>▁▂▂▂▃▁▃▄▁▆▂▄▂▁▃▂▁▆▃▄▂▂▄▁▁▂▂▁▃▆▄▃▆▃▃▄█▂▂▄</td></tr><tr><td>seed_789_episode</td><td>▁▁▁▂▂▂▂▂▂▂▃▃▃▃▃▃▃▃▄▄▄▄▄▄▄▄▅▅▅▅▆▆▆▆▆▇▇▇▇█</td></tr><tr><td>seed_789_reward</td><td>▁▁▁▂▄▃▄▄▅▄▂▃▄▄▆▄▃▃▄▆▅▂▃▃▄▄▃▃█▄▂▃▂▃▄▃▆▄▆▄</td></tr></table><br/></div><div class=\"wandb-col\"><h3>Run summary:</h3><br/><table class=\"wandb\"><tr><td>average_reward_across_seeds</td><td>118.404</td></tr><tr><td>seed_101_episode</td><td>999</td></tr><tr><td>seed_101_reward</td><td>20</td></tr><tr><td>seed_123_episode</td><td>999</td></tr><tr><td>seed_123_reward</td><td>172</td></tr><tr><td>seed_42_episode</td><td>999</td></tr><tr><td>seed_42_reward</td><td>178</td></tr><tr><td>seed_456_episode</td><td>999</td></tr><tr><td>seed_456_reward</td><td>81</td></tr><tr><td>seed_789_episode</td><td>999</td></tr><tr><td>seed_789_reward</td><td>45</td></tr></table><br/></div></div>"
            ]
          },
          "metadata": {}
        },
        {
          "output_type": "display_data",
          "data": {
            "text/plain": [
              "<IPython.core.display.HTML object>"
            ],
            "text/html": [
              " View run <strong style=\"color:#cdcd00\">trim-sweep-44</strong> at: <a href='https://wandb.ai/abhijithvinod-indian-institue-of-technology-madras/RL_CartPole_QLearning/runs/5g5mcjv8' target=\"_blank\">https://wandb.ai/abhijithvinod-indian-institue-of-technology-madras/RL_CartPole_QLearning/runs/5g5mcjv8</a><br> View project at: <a href='https://wandb.ai/abhijithvinod-indian-institue-of-technology-madras/RL_CartPole_QLearning' target=\"_blank\">https://wandb.ai/abhijithvinod-indian-institue-of-technology-madras/RL_CartPole_QLearning</a><br>Synced 5 W&B file(s), 0 media file(s), 0 artifact file(s) and 0 other file(s)"
            ]
          },
          "metadata": {}
        },
        {
          "output_type": "display_data",
          "data": {
            "text/plain": [
              "<IPython.core.display.HTML object>"
            ],
            "text/html": [
              "Find logs at: <code>./wandb/run-20250331_160221-5g5mcjv8/logs</code>"
            ]
          },
          "metadata": {}
        },
        {
          "output_type": "stream",
          "name": "stderr",
          "text": [
            "\u001b[34m\u001b[1mwandb\u001b[0m: Agent Starting Run: cjhqtihe with config:\n",
            "\u001b[34m\u001b[1mwandb\u001b[0m: \talpha: 0.3619731583428314\n",
            "\u001b[34m\u001b[1mwandb\u001b[0m: \tgamma: 0.99\n",
            "\u001b[34m\u001b[1mwandb\u001b[0m: \tn_bins: 20\n",
            "\u001b[34m\u001b[1mwandb\u001b[0m: \tn_episodes: 1000\n",
            "\u001b[34m\u001b[1mwandb\u001b[0m: \tseed: 123\n",
            "\u001b[34m\u001b[1mwandb\u001b[0m: \ttemperature: 0.4774758655597322\n"
          ]
        },
        {
          "output_type": "display_data",
          "data": {
            "text/plain": [
              "<IPython.core.display.HTML object>"
            ],
            "text/html": [
              "Tracking run with wandb version 0.19.8"
            ]
          },
          "metadata": {}
        },
        {
          "output_type": "display_data",
          "data": {
            "text/plain": [
              "<IPython.core.display.HTML object>"
            ],
            "text/html": [
              "Run data is saved locally in <code>/content/wandb/run-20250331_160352-cjhqtihe</code>"
            ]
          },
          "metadata": {}
        },
        {
          "output_type": "display_data",
          "data": {
            "text/plain": [
              "<IPython.core.display.HTML object>"
            ],
            "text/html": [
              "Syncing run <strong><a href='https://wandb.ai/abhijithvinod-indian-institue-of-technology-madras/RL_CartPole_QLearning/runs/cjhqtihe' target=\"_blank\">fresh-sweep-45</a></strong> to <a href='https://wandb.ai/abhijithvinod-indian-institue-of-technology-madras/RL_CartPole_QLearning' target=\"_blank\">Weights & Biases</a> (<a href='https://wandb.me/developer-guide' target=\"_blank\">docs</a>)<br>Sweep page: <a href='https://wandb.ai/abhijithvinod-indian-institue-of-technology-madras/RL_CartPole_QLearning/sweeps/kreeqo81' target=\"_blank\">https://wandb.ai/abhijithvinod-indian-institue-of-technology-madras/RL_CartPole_QLearning/sweeps/kreeqo81</a>"
            ]
          },
          "metadata": {}
        },
        {
          "output_type": "display_data",
          "data": {
            "text/plain": [
              "<IPython.core.display.HTML object>"
            ],
            "text/html": [
              " View project at <a href='https://wandb.ai/abhijithvinod-indian-institue-of-technology-madras/RL_CartPole_QLearning' target=\"_blank\">https://wandb.ai/abhijithvinod-indian-institue-of-technology-madras/RL_CartPole_QLearning</a>"
            ]
          },
          "metadata": {}
        },
        {
          "output_type": "display_data",
          "data": {
            "text/plain": [
              "<IPython.core.display.HTML object>"
            ],
            "text/html": [
              " View sweep at <a href='https://wandb.ai/abhijithvinod-indian-institue-of-technology-madras/RL_CartPole_QLearning/sweeps/kreeqo81' target=\"_blank\">https://wandb.ai/abhijithvinod-indian-institue-of-technology-madras/RL_CartPole_QLearning/sweeps/kreeqo81</a>"
            ]
          },
          "metadata": {}
        },
        {
          "output_type": "display_data",
          "data": {
            "text/plain": [
              "<IPython.core.display.HTML object>"
            ],
            "text/html": [
              " View run at <a href='https://wandb.ai/abhijithvinod-indian-institue-of-technology-madras/RL_CartPole_QLearning/runs/cjhqtihe' target=\"_blank\">https://wandb.ai/abhijithvinod-indian-institue-of-technology-madras/RL_CartPole_QLearning/runs/cjhqtihe</a>"
            ]
          },
          "metadata": {}
        },
        {
          "output_type": "display_data",
          "data": {
            "text/plain": [
              "<IPython.core.display.HTML object>"
            ],
            "text/html": []
          },
          "metadata": {}
        },
        {
          "output_type": "display_data",
          "data": {
            "text/plain": [
              "<IPython.core.display.HTML object>"
            ],
            "text/html": [
              "<br>    <style><br>        .wandb-row {<br>            display: flex;<br>            flex-direction: row;<br>            flex-wrap: wrap;<br>            justify-content: flex-start;<br>            width: 100%;<br>        }<br>        .wandb-col {<br>            display: flex;<br>            flex-direction: column;<br>            flex-basis: 100%;<br>            flex: 1;<br>            padding: 10px;<br>        }<br>    </style><br><div class=\"wandb-row\"><div class=\"wandb-col\"><h3>Run history:</h3><br/><table class=\"wandb\"><tr><td>average_reward_across_seeds</td><td>▁</td></tr><tr><td>seed_101_episode</td><td>▁▁▁▁▁▁▂▂▂▂▂▂▂▃▃▃▃▄▄▄▄▄▄▄▅▅▅▅▅▆▆▆▆▆▆▇▇███</td></tr><tr><td>seed_101_reward</td><td>▂▂▁▄▃▇▂▂▂▅▅▅▁▂▁▁▁▂▁█▁▁▁▂▂█▁▃▁▅▂▄▂▄▄▅▃▁▂▇</td></tr><tr><td>seed_123_episode</td><td>▁▁▁▁▁▁▂▂▂▂▂▂▂▃▃▃▃▄▄▄▄▄▄▄▄▅▆▆▆▆▆▇▇▇▇▇████</td></tr><tr><td>seed_123_reward</td><td>█▄█▄▁▂▂▂▄▄▄▂▅▅▅▆▃▃▅▄▄▁▁▄▄▄▄▆▆▄▃▄▅▄▅▅▄▁▅▆</td></tr><tr><td>seed_42_episode</td><td>▁▁▁▁▁▂▂▂▂▂▃▃▃▃▃▄▄▄▄▄▄▄▄▅▅▅▆▆▆▆▇▇▇▇▇▇████</td></tr><tr><td>seed_42_reward</td><td>▂▂▄▆▃▅▅▅█▃▃▇█▅▅▄▇▄▆▆▆▄▄▅▅▆▆▆▄▆▃▅▁▄█▂▇▂▃▄</td></tr><tr><td>seed_456_episode</td><td>▁▁▁▁▁▂▂▂▂▂▂▃▃▃▃▃▃▃▄▄▄▄▄▅▅▆▆▆▆▆▇▇▇▇▇▇▇▇▇█</td></tr><tr><td>seed_456_reward</td><td>▂█▁▃▁▃▂▂▇▂▅▄▁▁▇▂▇▆▅▄▆▂▄▄▃▅▇▂▂▃▁▃▆▂▁▇▁▃▂▂</td></tr><tr><td>seed_789_episode</td><td>▁▁▁▁▁▁▂▂▂▂▃▃▃▃▄▄▄▄▄▄▅▅▅▅▅▅▅▅▅▆▆▆▇▇▇▇▇▇██</td></tr><tr><td>seed_789_reward</td><td>▁▂▂▁▅▅▃▄▁▄▂▄▅▄▃▃▁▃▁▁▅▁▄▃▃▃▁▅▂▁▃▁▂▃▃▄█▃▃▄</td></tr></table><br/></div><div class=\"wandb-col\"><h3>Run summary:</h3><br/><table class=\"wandb\"><tr><td>average_reward_across_seeds</td><td>50.392</td></tr><tr><td>seed_101_episode</td><td>999</td></tr><tr><td>seed_101_reward</td><td>37</td></tr><tr><td>seed_123_episode</td><td>999</td></tr><tr><td>seed_123_reward</td><td>98</td></tr><tr><td>seed_42_episode</td><td>999</td></tr><tr><td>seed_42_reward</td><td>67</td></tr><tr><td>seed_456_episode</td><td>999</td></tr><tr><td>seed_456_reward</td><td>192</td></tr><tr><td>seed_789_episode</td><td>999</td></tr><tr><td>seed_789_reward</td><td>21</td></tr></table><br/></div></div>"
            ]
          },
          "metadata": {}
        },
        {
          "output_type": "display_data",
          "data": {
            "text/plain": [
              "<IPython.core.display.HTML object>"
            ],
            "text/html": [
              " View run <strong style=\"color:#cdcd00\">fresh-sweep-45</strong> at: <a href='https://wandb.ai/abhijithvinod-indian-institue-of-technology-madras/RL_CartPole_QLearning/runs/cjhqtihe' target=\"_blank\">https://wandb.ai/abhijithvinod-indian-institue-of-technology-madras/RL_CartPole_QLearning/runs/cjhqtihe</a><br> View project at: <a href='https://wandb.ai/abhijithvinod-indian-institue-of-technology-madras/RL_CartPole_QLearning' target=\"_blank\">https://wandb.ai/abhijithvinod-indian-institue-of-technology-madras/RL_CartPole_QLearning</a><br>Synced 5 W&B file(s), 0 media file(s), 0 artifact file(s) and 0 other file(s)"
            ]
          },
          "metadata": {}
        },
        {
          "output_type": "display_data",
          "data": {
            "text/plain": [
              "<IPython.core.display.HTML object>"
            ],
            "text/html": [
              "Find logs at: <code>./wandb/run-20250331_160352-cjhqtihe/logs</code>"
            ]
          },
          "metadata": {}
        },
        {
          "output_type": "stream",
          "name": "stderr",
          "text": [
            "\u001b[34m\u001b[1mwandb\u001b[0m: Sweep Agent: Waiting for job.\n",
            "\u001b[34m\u001b[1mwandb\u001b[0m: Job received.\n",
            "\u001b[34m\u001b[1mwandb\u001b[0m: Agent Starting Run: 3yt1q14v with config:\n",
            "\u001b[34m\u001b[1mwandb\u001b[0m: \talpha: 0.05480955983534928\n",
            "\u001b[34m\u001b[1mwandb\u001b[0m: \tgamma: 0.99\n",
            "\u001b[34m\u001b[1mwandb\u001b[0m: \tn_bins: 20\n",
            "\u001b[34m\u001b[1mwandb\u001b[0m: \tn_episodes: 1000\n",
            "\u001b[34m\u001b[1mwandb\u001b[0m: \tseed: 456\n",
            "\u001b[34m\u001b[1mwandb\u001b[0m: \ttemperature: 1.5803053735590715\n"
          ]
        },
        {
          "output_type": "display_data",
          "data": {
            "text/plain": [
              "<IPython.core.display.HTML object>"
            ],
            "text/html": [
              "Tracking run with wandb version 0.19.8"
            ]
          },
          "metadata": {}
        },
        {
          "output_type": "display_data",
          "data": {
            "text/plain": [
              "<IPython.core.display.HTML object>"
            ],
            "text/html": [
              "Run data is saved locally in <code>/content/wandb/run-20250331_160450-3yt1q14v</code>"
            ]
          },
          "metadata": {}
        },
        {
          "output_type": "display_data",
          "data": {
            "text/plain": [
              "<IPython.core.display.HTML object>"
            ],
            "text/html": [
              "Syncing run <strong><a href='https://wandb.ai/abhijithvinod-indian-institue-of-technology-madras/RL_CartPole_QLearning/runs/3yt1q14v' target=\"_blank\">skilled-sweep-46</a></strong> to <a href='https://wandb.ai/abhijithvinod-indian-institue-of-technology-madras/RL_CartPole_QLearning' target=\"_blank\">Weights & Biases</a> (<a href='https://wandb.me/developer-guide' target=\"_blank\">docs</a>)<br>Sweep page: <a href='https://wandb.ai/abhijithvinod-indian-institue-of-technology-madras/RL_CartPole_QLearning/sweeps/kreeqo81' target=\"_blank\">https://wandb.ai/abhijithvinod-indian-institue-of-technology-madras/RL_CartPole_QLearning/sweeps/kreeqo81</a>"
            ]
          },
          "metadata": {}
        },
        {
          "output_type": "display_data",
          "data": {
            "text/plain": [
              "<IPython.core.display.HTML object>"
            ],
            "text/html": [
              " View project at <a href='https://wandb.ai/abhijithvinod-indian-institue-of-technology-madras/RL_CartPole_QLearning' target=\"_blank\">https://wandb.ai/abhijithvinod-indian-institue-of-technology-madras/RL_CartPole_QLearning</a>"
            ]
          },
          "metadata": {}
        },
        {
          "output_type": "display_data",
          "data": {
            "text/plain": [
              "<IPython.core.display.HTML object>"
            ],
            "text/html": [
              " View sweep at <a href='https://wandb.ai/abhijithvinod-indian-institue-of-technology-madras/RL_CartPole_QLearning/sweeps/kreeqo81' target=\"_blank\">https://wandb.ai/abhijithvinod-indian-institue-of-technology-madras/RL_CartPole_QLearning/sweeps/kreeqo81</a>"
            ]
          },
          "metadata": {}
        },
        {
          "output_type": "display_data",
          "data": {
            "text/plain": [
              "<IPython.core.display.HTML object>"
            ],
            "text/html": [
              " View run at <a href='https://wandb.ai/abhijithvinod-indian-institue-of-technology-madras/RL_CartPole_QLearning/runs/3yt1q14v' target=\"_blank\">https://wandb.ai/abhijithvinod-indian-institue-of-technology-madras/RL_CartPole_QLearning/runs/3yt1q14v</a>"
            ]
          },
          "metadata": {}
        },
        {
          "output_type": "display_data",
          "data": {
            "text/plain": [
              "<IPython.core.display.HTML object>"
            ],
            "text/html": []
          },
          "metadata": {}
        },
        {
          "output_type": "display_data",
          "data": {
            "text/plain": [
              "<IPython.core.display.HTML object>"
            ],
            "text/html": [
              "<br>    <style><br>        .wandb-row {<br>            display: flex;<br>            flex-direction: row;<br>            flex-wrap: wrap;<br>            justify-content: flex-start;<br>            width: 100%;<br>        }<br>        .wandb-col {<br>            display: flex;<br>            flex-direction: column;<br>            flex-basis: 100%;<br>            flex: 1;<br>            padding: 10px;<br>        }<br>    </style><br><div class=\"wandb-row\"><div class=\"wandb-col\"><h3>Run history:</h3><br/><table class=\"wandb\"><tr><td>average_reward_across_seeds</td><td>▁</td></tr><tr><td>seed_101_episode</td><td>▁▁▁▂▂▂▂▃▃▃▃▃▃▄▄▄▄▄▄▄▅▅▅▅▅▅▅▅▆▆▆▆▆▆▇▇▇███</td></tr><tr><td>seed_101_reward</td><td>▁▁▁▁▁▂▂▁▁▁▂▂▂▂▁▁▂▅▇▂▅▃▄▃▆▁▄▃▂▂▃▅▄▆▄▅▄▅█▄</td></tr><tr><td>seed_123_episode</td><td>▁▁▁▁▁▂▂▂▂▂▂▂▂▂▃▃▃▃▃▃▄▄▅▅▅▅▅▆▆▆▇▇▇▇▇▇▇███</td></tr><tr><td>seed_123_reward</td><td>▃▁▂▁▂▃▂▂▃▂▂▁▁▁▁▂▁▁▂▂▄▃▁▄▄▃▇▄▇▆▅▄▆█▃▂▃▃▄▃</td></tr><tr><td>seed_42_episode</td><td>▁▁▁▁▁▁▂▂▂▂▂▂▂▃▃▃▄▄▄▄▄▄▄▄▄▄▄▄▅▅▅▆▆▆▇▇▇███</td></tr><tr><td>seed_42_reward</td><td>▂▂▄▁▁▃▂▁▁▂▅▃▃▂█▂▁▂▃▂▃▂▁▃▄▃▆▄▄▅▅▃▄▄▃▃▄▆▇▇</td></tr><tr><td>seed_456_episode</td><td>▁▁▁▁▂▂▂▂▃▃▃▃▃▃▃▄▄▄▄▄▄▄▅▅▅▅▅▅▆▆▆▇▇▇▇▇████</td></tr><tr><td>seed_456_reward</td><td>▁▁▁▁▁▁▁▁▂▁▃▂▂▃▄▁▃▂▂▃▄▃▂▂▃▃▄▄▃▄▄▆▃▅█▅▄▄▄▆</td></tr><tr><td>seed_789_episode</td><td>▁▁▁▁▂▂▂▂▂▂▃▃▃▃▃▃▃▃▃▃▄▄▄▄▄▅▅▆▆▆▆▆▇▇▇▇▇▇▇█</td></tr><tr><td>seed_789_reward</td><td>▁▁▁▂▃▁▂▁▁▁▂▂▁▂▂▂▁▂▂▁▂▂▄▂▂█▃▂▁▁▅▄▄▃▅▄▅▄▃▅</td></tr></table><br/></div><div class=\"wandb-col\"><h3>Run summary:</h3><br/><table class=\"wandb\"><tr><td>average_reward_across_seeds</td><td>123.34</td></tr><tr><td>seed_101_episode</td><td>999</td></tr><tr><td>seed_101_reward</td><td>233</td></tr><tr><td>seed_123_episode</td><td>999</td></tr><tr><td>seed_123_reward</td><td>69</td></tr><tr><td>seed_42_episode</td><td>999</td></tr><tr><td>seed_42_reward</td><td>74</td></tr><tr><td>seed_456_episode</td><td>999</td></tr><tr><td>seed_456_reward</td><td>92</td></tr><tr><td>seed_789_episode</td><td>999</td></tr><tr><td>seed_789_reward</td><td>61</td></tr></table><br/></div></div>"
            ]
          },
          "metadata": {}
        },
        {
          "output_type": "display_data",
          "data": {
            "text/plain": [
              "<IPython.core.display.HTML object>"
            ],
            "text/html": [
              " View run <strong style=\"color:#cdcd00\">skilled-sweep-46</strong> at: <a href='https://wandb.ai/abhijithvinod-indian-institue-of-technology-madras/RL_CartPole_QLearning/runs/3yt1q14v' target=\"_blank\">https://wandb.ai/abhijithvinod-indian-institue-of-technology-madras/RL_CartPole_QLearning/runs/3yt1q14v</a><br> View project at: <a href='https://wandb.ai/abhijithvinod-indian-institue-of-technology-madras/RL_CartPole_QLearning' target=\"_blank\">https://wandb.ai/abhijithvinod-indian-institue-of-technology-madras/RL_CartPole_QLearning</a><br>Synced 5 W&B file(s), 0 media file(s), 0 artifact file(s) and 0 other file(s)"
            ]
          },
          "metadata": {}
        },
        {
          "output_type": "display_data",
          "data": {
            "text/plain": [
              "<IPython.core.display.HTML object>"
            ],
            "text/html": [
              "Find logs at: <code>./wandb/run-20250331_160450-3yt1q14v/logs</code>"
            ]
          },
          "metadata": {}
        },
        {
          "output_type": "stream",
          "name": "stderr",
          "text": [
            "\u001b[34m\u001b[1mwandb\u001b[0m: Agent Starting Run: czb1o41o with config:\n",
            "\u001b[34m\u001b[1mwandb\u001b[0m: \talpha: 0.1421610230719271\n",
            "\u001b[34m\u001b[1mwandb\u001b[0m: \tgamma: 0.99\n",
            "\u001b[34m\u001b[1mwandb\u001b[0m: \tn_bins: 15\n",
            "\u001b[34m\u001b[1mwandb\u001b[0m: \tn_episodes: 1000\n",
            "\u001b[34m\u001b[1mwandb\u001b[0m: \tseed: 42\n",
            "\u001b[34m\u001b[1mwandb\u001b[0m: \ttemperature: 1.3598303560901457\n"
          ]
        },
        {
          "output_type": "display_data",
          "data": {
            "text/plain": [
              "<IPython.core.display.HTML object>"
            ],
            "text/html": [
              "Tracking run with wandb version 0.19.8"
            ]
          },
          "metadata": {}
        },
        {
          "output_type": "display_data",
          "data": {
            "text/plain": [
              "<IPython.core.display.HTML object>"
            ],
            "text/html": [
              "Run data is saved locally in <code>/content/wandb/run-20250331_160550-czb1o41o</code>"
            ]
          },
          "metadata": {}
        },
        {
          "output_type": "display_data",
          "data": {
            "text/plain": [
              "<IPython.core.display.HTML object>"
            ],
            "text/html": [
              "Syncing run <strong><a href='https://wandb.ai/abhijithvinod-indian-institue-of-technology-madras/RL_CartPole_QLearning/runs/czb1o41o' target=\"_blank\">usual-sweep-47</a></strong> to <a href='https://wandb.ai/abhijithvinod-indian-institue-of-technology-madras/RL_CartPole_QLearning' target=\"_blank\">Weights & Biases</a> (<a href='https://wandb.me/developer-guide' target=\"_blank\">docs</a>)<br>Sweep page: <a href='https://wandb.ai/abhijithvinod-indian-institue-of-technology-madras/RL_CartPole_QLearning/sweeps/kreeqo81' target=\"_blank\">https://wandb.ai/abhijithvinod-indian-institue-of-technology-madras/RL_CartPole_QLearning/sweeps/kreeqo81</a>"
            ]
          },
          "metadata": {}
        },
        {
          "output_type": "display_data",
          "data": {
            "text/plain": [
              "<IPython.core.display.HTML object>"
            ],
            "text/html": [
              " View project at <a href='https://wandb.ai/abhijithvinod-indian-institue-of-technology-madras/RL_CartPole_QLearning' target=\"_blank\">https://wandb.ai/abhijithvinod-indian-institue-of-technology-madras/RL_CartPole_QLearning</a>"
            ]
          },
          "metadata": {}
        },
        {
          "output_type": "display_data",
          "data": {
            "text/plain": [
              "<IPython.core.display.HTML object>"
            ],
            "text/html": [
              " View sweep at <a href='https://wandb.ai/abhijithvinod-indian-institue-of-technology-madras/RL_CartPole_QLearning/sweeps/kreeqo81' target=\"_blank\">https://wandb.ai/abhijithvinod-indian-institue-of-technology-madras/RL_CartPole_QLearning/sweeps/kreeqo81</a>"
            ]
          },
          "metadata": {}
        },
        {
          "output_type": "display_data",
          "data": {
            "text/plain": [
              "<IPython.core.display.HTML object>"
            ],
            "text/html": [
              " View run at <a href='https://wandb.ai/abhijithvinod-indian-institue-of-technology-madras/RL_CartPole_QLearning/runs/czb1o41o' target=\"_blank\">https://wandb.ai/abhijithvinod-indian-institue-of-technology-madras/RL_CartPole_QLearning/runs/czb1o41o</a>"
            ]
          },
          "metadata": {}
        },
        {
          "output_type": "display_data",
          "data": {
            "text/plain": [
              "<IPython.core.display.HTML object>"
            ],
            "text/html": []
          },
          "metadata": {}
        },
        {
          "output_type": "display_data",
          "data": {
            "text/plain": [
              "<IPython.core.display.HTML object>"
            ],
            "text/html": [
              "<br>    <style><br>        .wandb-row {<br>            display: flex;<br>            flex-direction: row;<br>            flex-wrap: wrap;<br>            justify-content: flex-start;<br>            width: 100%;<br>        }<br>        .wandb-col {<br>            display: flex;<br>            flex-direction: column;<br>            flex-basis: 100%;<br>            flex: 1;<br>            padding: 10px;<br>        }<br>    </style><br><div class=\"wandb-row\"><div class=\"wandb-col\"><h3>Run history:</h3><br/><table class=\"wandb\"><tr><td>average_reward_across_seeds</td><td>▁</td></tr><tr><td>seed_101_episode</td><td>▁▁▁▁▁▂▂▂▂▃▃▃▄▄▄▅▅▅▅▅▅▅▆▆▆▆▆▆▆▆▇▇▇▇▇▇████</td></tr><tr><td>seed_101_reward</td><td>▁▁▁▁▁▁▁▁▂▂▁▂▁▂▃▄▄▃▃▃▁▃▃▃▄▄▁▆█▅▅▅▅▃▅▅▆▅▇▂</td></tr><tr><td>seed_123_episode</td><td>▁▁▁▂▂▃▃▃▃▃▃▄▄▄▄▄▅▅▅▅▅▅▆▆▆▆▆▆▆▆▆▇▇▇▇▇▇▇██</td></tr><tr><td>seed_123_reward</td><td>▂▁▁▃▂▁▃▁▄▄▅▁▆▃▁▄▅▃▁▅▂▅▁▂▅▇▅▂▇▅▅█▅▅▅▅▅▆▂▅</td></tr><tr><td>seed_42_episode</td><td>▁▁▁▁▂▂▂▂▂▂▂▂▃▃▃▃▃▄▄▄▄▄▄▅▅▆▆▆▆▆▇▇▇▇▇█████</td></tr><tr><td>seed_42_reward</td><td>▁▁▂▁▂▃▁▂▃▂▅▆▃▅▆▄▅▄▄▅▆▄▄█▅▇▄▆▅▄▅▅▅▅▅▅▆▄▄▅</td></tr><tr><td>seed_456_episode</td><td>▁▁▁▁▁▂▂▂▂▂▃▃▃▃▃▄▄▄▄▄▄▅▅▅▅▅▅▆▆▆▆▆▆▇▇▇▇▇▇█</td></tr><tr><td>seed_456_reward</td><td>▁▁▂▁▁▂▄▂▃▂▄▂▂▃▃▄▃▅▂▃▃▅▁█▄▄▇▅▅▇▅▄▅▇▃▂▇▅▅▆</td></tr><tr><td>seed_789_episode</td><td>▁▁▁▁▁▂▂▂▂▂▂▂▃▃▃▃▃▄▄▄▅▅▅▅▅▆▆▆▆▆▆▇▇▇▇█████</td></tr><tr><td>seed_789_reward</td><td>▁▁▁▁▁▁▂▅▁▄▃▅▁▅█▃▂▃▃▃▄▃█▄▆▂▅▃▅▃▃█▆▄▅▆▂▄▃▃</td></tr></table><br/></div><div class=\"wandb-col\"><h3>Run summary:</h3><br/><table class=\"wandb\"><tr><td>average_reward_across_seeds</td><td>150.644</td></tr><tr><td>seed_101_episode</td><td>999</td></tr><tr><td>seed_101_reward</td><td>193</td></tr><tr><td>seed_123_episode</td><td>999</td></tr><tr><td>seed_123_reward</td><td>138</td></tr><tr><td>seed_42_episode</td><td>999</td></tr><tr><td>seed_42_reward</td><td>131</td></tr><tr><td>seed_456_episode</td><td>999</td></tr><tr><td>seed_456_reward</td><td>96</td></tr><tr><td>seed_789_episode</td><td>999</td></tr><tr><td>seed_789_reward</td><td>106</td></tr></table><br/></div></div>"
            ]
          },
          "metadata": {}
        },
        {
          "output_type": "display_data",
          "data": {
            "text/plain": [
              "<IPython.core.display.HTML object>"
            ],
            "text/html": [
              " View run <strong style=\"color:#cdcd00\">usual-sweep-47</strong> at: <a href='https://wandb.ai/abhijithvinod-indian-institue-of-technology-madras/RL_CartPole_QLearning/runs/czb1o41o' target=\"_blank\">https://wandb.ai/abhijithvinod-indian-institue-of-technology-madras/RL_CartPole_QLearning/runs/czb1o41o</a><br> View project at: <a href='https://wandb.ai/abhijithvinod-indian-institue-of-technology-madras/RL_CartPole_QLearning' target=\"_blank\">https://wandb.ai/abhijithvinod-indian-institue-of-technology-madras/RL_CartPole_QLearning</a><br>Synced 5 W&B file(s), 0 media file(s), 0 artifact file(s) and 0 other file(s)"
            ]
          },
          "metadata": {}
        },
        {
          "output_type": "display_data",
          "data": {
            "text/plain": [
              "<IPython.core.display.HTML object>"
            ],
            "text/html": [
              "Find logs at: <code>./wandb/run-20250331_160550-czb1o41o/logs</code>"
            ]
          },
          "metadata": {}
        },
        {
          "output_type": "stream",
          "name": "stderr",
          "text": [
            "\u001b[34m\u001b[1mwandb\u001b[0m: Sweep Agent: Waiting for job.\n",
            "\u001b[34m\u001b[1mwandb\u001b[0m: Job received.\n",
            "\u001b[34m\u001b[1mwandb\u001b[0m: Agent Starting Run: qukqjiz7 with config:\n",
            "\u001b[34m\u001b[1mwandb\u001b[0m: \talpha: 0.1787291538126319\n",
            "\u001b[34m\u001b[1mwandb\u001b[0m: \tgamma: 0.99\n",
            "\u001b[34m\u001b[1mwandb\u001b[0m: \tn_bins: 20\n",
            "\u001b[34m\u001b[1mwandb\u001b[0m: \tn_episodes: 1000\n",
            "\u001b[34m\u001b[1mwandb\u001b[0m: \tseed: 123\n",
            "\u001b[34m\u001b[1mwandb\u001b[0m: \ttemperature: 1.0103187716528836\n"
          ]
        },
        {
          "output_type": "display_data",
          "data": {
            "text/plain": [
              "<IPython.core.display.HTML object>"
            ],
            "text/html": [
              "Tracking run with wandb version 0.19.8"
            ]
          },
          "metadata": {}
        },
        {
          "output_type": "display_data",
          "data": {
            "text/plain": [
              "<IPython.core.display.HTML object>"
            ],
            "text/html": [
              "Run data is saved locally in <code>/content/wandb/run-20250331_160733-qukqjiz7</code>"
            ]
          },
          "metadata": {}
        },
        {
          "output_type": "display_data",
          "data": {
            "text/plain": [
              "<IPython.core.display.HTML object>"
            ],
            "text/html": [
              "Syncing run <strong><a href='https://wandb.ai/abhijithvinod-indian-institue-of-technology-madras/RL_CartPole_QLearning/runs/qukqjiz7' target=\"_blank\">scarlet-sweep-48</a></strong> to <a href='https://wandb.ai/abhijithvinod-indian-institue-of-technology-madras/RL_CartPole_QLearning' target=\"_blank\">Weights & Biases</a> (<a href='https://wandb.me/developer-guide' target=\"_blank\">docs</a>)<br>Sweep page: <a href='https://wandb.ai/abhijithvinod-indian-institue-of-technology-madras/RL_CartPole_QLearning/sweeps/kreeqo81' target=\"_blank\">https://wandb.ai/abhijithvinod-indian-institue-of-technology-madras/RL_CartPole_QLearning/sweeps/kreeqo81</a>"
            ]
          },
          "metadata": {}
        },
        {
          "output_type": "display_data",
          "data": {
            "text/plain": [
              "<IPython.core.display.HTML object>"
            ],
            "text/html": [
              " View project at <a href='https://wandb.ai/abhijithvinod-indian-institue-of-technology-madras/RL_CartPole_QLearning' target=\"_blank\">https://wandb.ai/abhijithvinod-indian-institue-of-technology-madras/RL_CartPole_QLearning</a>"
            ]
          },
          "metadata": {}
        },
        {
          "output_type": "display_data",
          "data": {
            "text/plain": [
              "<IPython.core.display.HTML object>"
            ],
            "text/html": [
              " View sweep at <a href='https://wandb.ai/abhijithvinod-indian-institue-of-technology-madras/RL_CartPole_QLearning/sweeps/kreeqo81' target=\"_blank\">https://wandb.ai/abhijithvinod-indian-institue-of-technology-madras/RL_CartPole_QLearning/sweeps/kreeqo81</a>"
            ]
          },
          "metadata": {}
        },
        {
          "output_type": "display_data",
          "data": {
            "text/plain": [
              "<IPython.core.display.HTML object>"
            ],
            "text/html": [
              " View run at <a href='https://wandb.ai/abhijithvinod-indian-institue-of-technology-madras/RL_CartPole_QLearning/runs/qukqjiz7' target=\"_blank\">https://wandb.ai/abhijithvinod-indian-institue-of-technology-madras/RL_CartPole_QLearning/runs/qukqjiz7</a>"
            ]
          },
          "metadata": {}
        },
        {
          "output_type": "display_data",
          "data": {
            "text/plain": [
              "<IPython.core.display.HTML object>"
            ],
            "text/html": []
          },
          "metadata": {}
        },
        {
          "output_type": "display_data",
          "data": {
            "text/plain": [
              "<IPython.core.display.HTML object>"
            ],
            "text/html": [
              "<br>    <style><br>        .wandb-row {<br>            display: flex;<br>            flex-direction: row;<br>            flex-wrap: wrap;<br>            justify-content: flex-start;<br>            width: 100%;<br>        }<br>        .wandb-col {<br>            display: flex;<br>            flex-direction: column;<br>            flex-basis: 100%;<br>            flex: 1;<br>            padding: 10px;<br>        }<br>    </style><br><div class=\"wandb-row\"><div class=\"wandb-col\"><h3>Run history:</h3><br/><table class=\"wandb\"><tr><td>average_reward_across_seeds</td><td>▁</td></tr><tr><td>seed_101_episode</td><td>▁▁▂▂▂▃▃▃▃▃▄▄▅▅▅▅▅▅▅▅▅▅▆▆▆▆▆▆▇▇▇▇▇▇▇▇▇███</td></tr><tr><td>seed_101_reward</td><td>▁▁▂▂▄▅▅▅▆▆▅▆▇▅▇▇▅▆▅▇▆▅▇▆▇▆▇▆▇▇▆▆▇▇▆█▇▇▇█</td></tr><tr><td>seed_123_episode</td><td>▁▁▁▁▂▂▂▂▂▂▃▃▄▄▄▄▅▅▅▅▅▅▆▆▆▆▆▆▆▇▇▇▇▇▇▇▇▇██</td></tr><tr><td>seed_123_reward</td><td>▁▁▄▄▄▅▄▇▅▅█▇▆▆▅▅▅▆▃▇▆▅▄▇▇▅▅▃█▆▅▇▆▇▇▄▆▆▇▆</td></tr><tr><td>seed_42_episode</td><td>▁▁▁▁▁▂▂▂▂▃▃▃▃▃▃▃▄▄▄▄▅▅▆▆▆▆▆▆▆▇▇▇▇▇▇█████</td></tr><tr><td>seed_42_reward</td><td>▂▃▁▁▁▅▁▁▁▂▆█▂▅▁▁▂█▁▆▆▂▆▇▂▂▁▆▆█▆▂▂▂█▂▂▇▂▂</td></tr><tr><td>seed_456_episode</td><td>▁▁▂▂▂▂▂▂▂▂▃▃▃▃▃▃▃▃▄▄▄▄▄▄▄▅▅▅▅▅▅▅▆▆▇▇████</td></tr><tr><td>seed_456_reward</td><td>▁▁▁▂▄▁▁▄▆▄▄▃▄▆▆▅▇▅▆▅▅▆█▅▇▆▅▆▆▅▇▆▇▆█▇▇▇▅▇</td></tr><tr><td>seed_789_episode</td><td>▁▁▁▁▂▂▂▂▂▂▂▂▃▃▃▄▄▄▄▄▄▅▅▅▅▅▆▆▆▆▇▇▇▇▇▇▇▇██</td></tr><tr><td>seed_789_reward</td><td>▂▁▃▁▂▁▁▁▃▆▅▅▆▆▇▆▆▅▅▅▆▅▆█▅▅▅▅▆▇▇▇█▅▅▅▅▅▅▅</td></tr></table><br/></div><div class=\"wandb-col\"><h3>Run summary:</h3><br/><table class=\"wandb\"><tr><td>average_reward_across_seeds</td><td>105.068</td></tr><tr><td>seed_101_episode</td><td>999</td></tr><tr><td>seed_101_reward</td><td>110</td></tr><tr><td>seed_123_episode</td><td>999</td></tr><tr><td>seed_123_reward</td><td>92</td></tr><tr><td>seed_42_episode</td><td>999</td></tr><tr><td>seed_42_reward</td><td>48</td></tr><tr><td>seed_456_episode</td><td>999</td></tr><tr><td>seed_456_reward</td><td>100</td></tr><tr><td>seed_789_episode</td><td>999</td></tr><tr><td>seed_789_reward</td><td>90</td></tr></table><br/></div></div>"
            ]
          },
          "metadata": {}
        },
        {
          "output_type": "display_data",
          "data": {
            "text/plain": [
              "<IPython.core.display.HTML object>"
            ],
            "text/html": [
              " View run <strong style=\"color:#cdcd00\">scarlet-sweep-48</strong> at: <a href='https://wandb.ai/abhijithvinod-indian-institue-of-technology-madras/RL_CartPole_QLearning/runs/qukqjiz7' target=\"_blank\">https://wandb.ai/abhijithvinod-indian-institue-of-technology-madras/RL_CartPole_QLearning/runs/qukqjiz7</a><br> View project at: <a href='https://wandb.ai/abhijithvinod-indian-institue-of-technology-madras/RL_CartPole_QLearning' target=\"_blank\">https://wandb.ai/abhijithvinod-indian-institue-of-technology-madras/RL_CartPole_QLearning</a><br>Synced 5 W&B file(s), 0 media file(s), 0 artifact file(s) and 0 other file(s)"
            ]
          },
          "metadata": {}
        },
        {
          "output_type": "display_data",
          "data": {
            "text/plain": [
              "<IPython.core.display.HTML object>"
            ],
            "text/html": [
              "Find logs at: <code>./wandb/run-20250331_160733-qukqjiz7/logs</code>"
            ]
          },
          "metadata": {}
        },
        {
          "output_type": "stream",
          "name": "stderr",
          "text": [
            "\u001b[34m\u001b[1mwandb\u001b[0m: Agent Starting Run: 1dd40162 with config:\n",
            "\u001b[34m\u001b[1mwandb\u001b[0m: \talpha: 0.0584845642617268\n",
            "\u001b[34m\u001b[1mwandb\u001b[0m: \tgamma: 0.99\n",
            "\u001b[34m\u001b[1mwandb\u001b[0m: \tn_bins: 20\n",
            "\u001b[34m\u001b[1mwandb\u001b[0m: \tn_episodes: 1000\n",
            "\u001b[34m\u001b[1mwandb\u001b[0m: \tseed: 789\n",
            "\u001b[34m\u001b[1mwandb\u001b[0m: \ttemperature: 0.877312972800229\n"
          ]
        },
        {
          "output_type": "display_data",
          "data": {
            "text/plain": [
              "<IPython.core.display.HTML object>"
            ],
            "text/html": [
              "Tracking run with wandb version 0.19.8"
            ]
          },
          "metadata": {}
        },
        {
          "output_type": "display_data",
          "data": {
            "text/plain": [
              "<IPython.core.display.HTML object>"
            ],
            "text/html": [
              "Run data is saved locally in <code>/content/wandb/run-20250331_160857-1dd40162</code>"
            ]
          },
          "metadata": {}
        },
        {
          "output_type": "display_data",
          "data": {
            "text/plain": [
              "<IPython.core.display.HTML object>"
            ],
            "text/html": [
              "Syncing run <strong><a href='https://wandb.ai/abhijithvinod-indian-institue-of-technology-madras/RL_CartPole_QLearning/runs/1dd40162' target=\"_blank\">worldly-sweep-49</a></strong> to <a href='https://wandb.ai/abhijithvinod-indian-institue-of-technology-madras/RL_CartPole_QLearning' target=\"_blank\">Weights & Biases</a> (<a href='https://wandb.me/developer-guide' target=\"_blank\">docs</a>)<br>Sweep page: <a href='https://wandb.ai/abhijithvinod-indian-institue-of-technology-madras/RL_CartPole_QLearning/sweeps/kreeqo81' target=\"_blank\">https://wandb.ai/abhijithvinod-indian-institue-of-technology-madras/RL_CartPole_QLearning/sweeps/kreeqo81</a>"
            ]
          },
          "metadata": {}
        },
        {
          "output_type": "display_data",
          "data": {
            "text/plain": [
              "<IPython.core.display.HTML object>"
            ],
            "text/html": [
              " View project at <a href='https://wandb.ai/abhijithvinod-indian-institue-of-technology-madras/RL_CartPole_QLearning' target=\"_blank\">https://wandb.ai/abhijithvinod-indian-institue-of-technology-madras/RL_CartPole_QLearning</a>"
            ]
          },
          "metadata": {}
        },
        {
          "output_type": "display_data",
          "data": {
            "text/plain": [
              "<IPython.core.display.HTML object>"
            ],
            "text/html": [
              " View sweep at <a href='https://wandb.ai/abhijithvinod-indian-institue-of-technology-madras/RL_CartPole_QLearning/sweeps/kreeqo81' target=\"_blank\">https://wandb.ai/abhijithvinod-indian-institue-of-technology-madras/RL_CartPole_QLearning/sweeps/kreeqo81</a>"
            ]
          },
          "metadata": {}
        },
        {
          "output_type": "display_data",
          "data": {
            "text/plain": [
              "<IPython.core.display.HTML object>"
            ],
            "text/html": [
              " View run at <a href='https://wandb.ai/abhijithvinod-indian-institue-of-technology-madras/RL_CartPole_QLearning/runs/1dd40162' target=\"_blank\">https://wandb.ai/abhijithvinod-indian-institue-of-technology-madras/RL_CartPole_QLearning/runs/1dd40162</a>"
            ]
          },
          "metadata": {}
        },
        {
          "output_type": "display_data",
          "data": {
            "text/plain": [
              "<IPython.core.display.HTML object>"
            ],
            "text/html": []
          },
          "metadata": {}
        },
        {
          "output_type": "display_data",
          "data": {
            "text/plain": [
              "<IPython.core.display.HTML object>"
            ],
            "text/html": [
              "<br>    <style><br>        .wandb-row {<br>            display: flex;<br>            flex-direction: row;<br>            flex-wrap: wrap;<br>            justify-content: flex-start;<br>            width: 100%;<br>        }<br>        .wandb-col {<br>            display: flex;<br>            flex-direction: column;<br>            flex-basis: 100%;<br>            flex: 1;<br>            padding: 10px;<br>        }<br>    </style><br><div class=\"wandb-row\"><div class=\"wandb-col\"><h3>Run history:</h3><br/><table class=\"wandb\"><tr><td>average_reward_across_seeds</td><td>▁</td></tr><tr><td>seed_101_episode</td><td>▁▁▁▁▂▂▂▂▂▂▂▂▂▃▃▃▃▃▃▄▄▄▄▄▅▅▅▅▅▆▆▆▇▇▇▇████</td></tr><tr><td>seed_101_reward</td><td>▆▂▅▃▁▂▆▂▃▂▁▂▃▄▄▅▅▆▅▇▇▄▅▅▆█▃▇▇▃▄▆▄▅▅▅▄▆▄▆</td></tr><tr><td>seed_123_episode</td><td>▁▁▁▁▁▂▂▂▂▂▂▂▂▃▃▄▄▄▅▅▅▅▅▅▅▅▅▅▅▆▆▆▆▆▆█████</td></tr><tr><td>seed_123_reward</td><td>▂▁▁█▁▄▂▁▃▂▃▄▂▂▂▂▄▂▃▇▂▂▃▂▃▃▃▄▃▃▃▅▅▄▃▃▄▅▃▄</td></tr><tr><td>seed_42_episode</td><td>▁▁▂▂▂▂▂▂▂▂▃▃▃▃▃▄▄▄▄▄▄▄▄▅▅▅▅▅▅▅▆▆▆▆▇▇▇▇██</td></tr><tr><td>seed_42_reward</td><td>▁▁▃▄▂▁▄▃▅▁▁▅▆▄▅▆▃▃▇▇▃▆▃▆▁▅▇▇██▇▇▁▂▇▂▇█▂█</td></tr><tr><td>seed_456_episode</td><td>▁▁▁▁▁▂▂▂▂▂▃▃▃▃▃▄▄▄▄▄▄▄▄▄▅▅▅▅▆▆▆▆▇▇▇▇▇▇▇█</td></tr><tr><td>seed_456_reward</td><td>▃▁▁▁▁▁▁▁▁▂▁▂▂▁▂▂▁▁▂▁▁▂▃▃▃▁▃▂▂▂▅▂▂▂▆▅▂▂▇█</td></tr><tr><td>seed_789_episode</td><td>▁▂▂▂▂▂▂▂▂▃▃▃▃▃▃▃▄▄▄▄▅▅▅▅▆▆▆▆▇▇▇▇▇▇▇▇████</td></tr><tr><td>seed_789_reward</td><td>▁▂▁▂▁▄▂▂▃▂▂▃▄▅▂▄▆▅▂▅▆▆▄▃█▅▂▁▅▅▂█▃▇▂▃▅▃▆▂</td></tr></table><br/></div><div class=\"wandb-col\"><h3>Run summary:</h3><br/><table class=\"wandb\"><tr><td>average_reward_across_seeds</td><td>76.476</td></tr><tr><td>seed_101_episode</td><td>999</td></tr><tr><td>seed_101_reward</td><td>67</td></tr><tr><td>seed_123_episode</td><td>999</td></tr><tr><td>seed_123_reward</td><td>45</td></tr><tr><td>seed_42_episode</td><td>999</td></tr><tr><td>seed_42_reward</td><td>37</td></tr><tr><td>seed_456_episode</td><td>999</td></tr><tr><td>seed_456_reward</td><td>204</td></tr><tr><td>seed_789_episode</td><td>999</td></tr><tr><td>seed_789_reward</td><td>40</td></tr></table><br/></div></div>"
            ]
          },
          "metadata": {}
        },
        {
          "output_type": "display_data",
          "data": {
            "text/plain": [
              "<IPython.core.display.HTML object>"
            ],
            "text/html": [
              " View run <strong style=\"color:#cdcd00\">worldly-sweep-49</strong> at: <a href='https://wandb.ai/abhijithvinod-indian-institue-of-technology-madras/RL_CartPole_QLearning/runs/1dd40162' target=\"_blank\">https://wandb.ai/abhijithvinod-indian-institue-of-technology-madras/RL_CartPole_QLearning/runs/1dd40162</a><br> View project at: <a href='https://wandb.ai/abhijithvinod-indian-institue-of-technology-madras/RL_CartPole_QLearning' target=\"_blank\">https://wandb.ai/abhijithvinod-indian-institue-of-technology-madras/RL_CartPole_QLearning</a><br>Synced 5 W&B file(s), 0 media file(s), 0 artifact file(s) and 0 other file(s)"
            ]
          },
          "metadata": {}
        },
        {
          "output_type": "display_data",
          "data": {
            "text/plain": [
              "<IPython.core.display.HTML object>"
            ],
            "text/html": [
              "Find logs at: <code>./wandb/run-20250331_160857-1dd40162/logs</code>"
            ]
          },
          "metadata": {}
        },
        {
          "output_type": "stream",
          "name": "stderr",
          "text": [
            "\u001b[34m\u001b[1mwandb\u001b[0m: Sweep Agent: Waiting for job.\n",
            "\u001b[34m\u001b[1mwandb\u001b[0m: Job received.\n",
            "\u001b[34m\u001b[1mwandb\u001b[0m: Agent Starting Run: 6ruirnka with config:\n",
            "\u001b[34m\u001b[1mwandb\u001b[0m: \talpha: 0.3382421726811943\n",
            "\u001b[34m\u001b[1mwandb\u001b[0m: \tgamma: 0.99\n",
            "\u001b[34m\u001b[1mwandb\u001b[0m: \tn_bins: 20\n",
            "\u001b[34m\u001b[1mwandb\u001b[0m: \tn_episodes: 1000\n",
            "\u001b[34m\u001b[1mwandb\u001b[0m: \tseed: 456\n",
            "\u001b[34m\u001b[1mwandb\u001b[0m: \ttemperature: 1.5236135300583142\n"
          ]
        },
        {
          "output_type": "display_data",
          "data": {
            "text/plain": [
              "<IPython.core.display.HTML object>"
            ],
            "text/html": [
              "Tracking run with wandb version 0.19.8"
            ]
          },
          "metadata": {}
        },
        {
          "output_type": "display_data",
          "data": {
            "text/plain": [
              "<IPython.core.display.HTML object>"
            ],
            "text/html": [
              "Run data is saved locally in <code>/content/wandb/run-20250331_160954-6ruirnka</code>"
            ]
          },
          "metadata": {}
        },
        {
          "output_type": "display_data",
          "data": {
            "text/plain": [
              "<IPython.core.display.HTML object>"
            ],
            "text/html": [
              "Syncing run <strong><a href='https://wandb.ai/abhijithvinod-indian-institue-of-technology-madras/RL_CartPole_QLearning/runs/6ruirnka' target=\"_blank\">earnest-sweep-50</a></strong> to <a href='https://wandb.ai/abhijithvinod-indian-institue-of-technology-madras/RL_CartPole_QLearning' target=\"_blank\">Weights & Biases</a> (<a href='https://wandb.me/developer-guide' target=\"_blank\">docs</a>)<br>Sweep page: <a href='https://wandb.ai/abhijithvinod-indian-institue-of-technology-madras/RL_CartPole_QLearning/sweeps/kreeqo81' target=\"_blank\">https://wandb.ai/abhijithvinod-indian-institue-of-technology-madras/RL_CartPole_QLearning/sweeps/kreeqo81</a>"
            ]
          },
          "metadata": {}
        },
        {
          "output_type": "display_data",
          "data": {
            "text/plain": [
              "<IPython.core.display.HTML object>"
            ],
            "text/html": [
              " View project at <a href='https://wandb.ai/abhijithvinod-indian-institue-of-technology-madras/RL_CartPole_QLearning' target=\"_blank\">https://wandb.ai/abhijithvinod-indian-institue-of-technology-madras/RL_CartPole_QLearning</a>"
            ]
          },
          "metadata": {}
        },
        {
          "output_type": "display_data",
          "data": {
            "text/plain": [
              "<IPython.core.display.HTML object>"
            ],
            "text/html": [
              " View sweep at <a href='https://wandb.ai/abhijithvinod-indian-institue-of-technology-madras/RL_CartPole_QLearning/sweeps/kreeqo81' target=\"_blank\">https://wandb.ai/abhijithvinod-indian-institue-of-technology-madras/RL_CartPole_QLearning/sweeps/kreeqo81</a>"
            ]
          },
          "metadata": {}
        },
        {
          "output_type": "display_data",
          "data": {
            "text/plain": [
              "<IPython.core.display.HTML object>"
            ],
            "text/html": [
              " View run at <a href='https://wandb.ai/abhijithvinod-indian-institue-of-technology-madras/RL_CartPole_QLearning/runs/6ruirnka' target=\"_blank\">https://wandb.ai/abhijithvinod-indian-institue-of-technology-madras/RL_CartPole_QLearning/runs/6ruirnka</a>"
            ]
          },
          "metadata": {}
        },
        {
          "output_type": "display_data",
          "data": {
            "text/plain": [
              "<IPython.core.display.HTML object>"
            ],
            "text/html": []
          },
          "metadata": {}
        },
        {
          "output_type": "display_data",
          "data": {
            "text/plain": [
              "<IPython.core.display.HTML object>"
            ],
            "text/html": [
              "<br>    <style><br>        .wandb-row {<br>            display: flex;<br>            flex-direction: row;<br>            flex-wrap: wrap;<br>            justify-content: flex-start;<br>            width: 100%;<br>        }<br>        .wandb-col {<br>            display: flex;<br>            flex-direction: column;<br>            flex-basis: 100%;<br>            flex: 1;<br>            padding: 10px;<br>        }<br>    </style><br><div class=\"wandb-row\"><div class=\"wandb-col\"><h3>Run history:</h3><br/><table class=\"wandb\"><tr><td>average_reward_across_seeds</td><td>▁</td></tr><tr><td>seed_101_episode</td><td>▁▁▁▁▂▂▂▂▂▃▃▃▃▃▃▄▄▄▄▄▅▅▅▅▅▅▆▆▆▆▆▆▆▇▇▇▇▇██</td></tr><tr><td>seed_101_reward</td><td>▁▁▁▁▅▃▅▅▃▅▅▄▆▅▆▆▆▆▄▆▆▇▆▆▆▆▆▇▆▆▆▇▇▄▆▇█▆▇▆</td></tr><tr><td>seed_123_episode</td><td>▁▁▁▁▁▁▂▂▂▃▃▃▃▄▄▄▄▄▅▅▅▅▅▆▆▆▆▆▇▇▇▇▇▇▇▇████</td></tr><tr><td>seed_123_reward</td><td>▄▁▂▃▅▅▇▅▅▅▅▄▄▆▆▄▅▅▆▆▅▇█▆▇▆▇█▆▆▆▇█▇▇▇▆▇▇█</td></tr><tr><td>seed_42_episode</td><td>▁▁▁▁▁▁▂▂▂▂▃▃▃▃▃▄▄▄▄▄▄▄▄▅▅▅▅▆▆▆▆▆▇▇▇▇████</td></tr><tr><td>seed_42_reward</td><td>▁▄▄▅▅▂▆▅▆▅▆▆▃▆▆▇▆▆▆▅▃▂▇▇▂▃▂▇▇▇▇▃▂█▇▇▇▇▂▂</td></tr><tr><td>seed_456_episode</td><td>▁▁▁▁▁▁▂▂▂▂▃▃▃▃▃▄▄▄▄▅▅▅▅▆▆▆▆▇▇▇▇▇▇▇██████</td></tr><tr><td>seed_456_reward</td><td>▁▁▄▅▃▃▃▄▃▃▂▂▃▂▄▄▄▄▄▄▅▃▅▆▆▆▄▃▅▆▄▄▆▇█▆▆▃▆▃</td></tr><tr><td>seed_789_episode</td><td>▁▁▁▁▁▂▂▂▂▂▂▂▃▃▃▃▃▃▃▄▄▄▄▅▅▅▅▆▆▆▆▇▇▇▇▇▇▇██</td></tr><tr><td>seed_789_reward</td><td>▂▁▄▅▅▄▆▄▄▇▆▅▅▅▅▆▇▆▅▆▅▄▆▅▅▇▅█▆▇▆▆▇▃▄▆▂█▇█</td></tr></table><br/></div><div class=\"wandb-col\"><h3>Run summary:</h3><br/><table class=\"wandb\"><tr><td>average_reward_across_seeds</td><td>167.928</td></tr><tr><td>seed_101_episode</td><td>999</td></tr><tr><td>seed_101_reward</td><td>152</td></tr><tr><td>seed_123_episode</td><td>999</td></tr><tr><td>seed_123_reward</td><td>139</td></tr><tr><td>seed_42_episode</td><td>999</td></tr><tr><td>seed_42_reward</td><td>338</td></tr><tr><td>seed_456_episode</td><td>999</td></tr><tr><td>seed_456_reward</td><td>43</td></tr><tr><td>seed_789_episode</td><td>999</td></tr><tr><td>seed_789_reward</td><td>263</td></tr></table><br/></div></div>"
            ]
          },
          "metadata": {}
        },
        {
          "output_type": "display_data",
          "data": {
            "text/plain": [
              "<IPython.core.display.HTML object>"
            ],
            "text/html": [
              " View run <strong style=\"color:#cdcd00\">earnest-sweep-50</strong> at: <a href='https://wandb.ai/abhijithvinod-indian-institue-of-technology-madras/RL_CartPole_QLearning/runs/6ruirnka' target=\"_blank\">https://wandb.ai/abhijithvinod-indian-institue-of-technology-madras/RL_CartPole_QLearning/runs/6ruirnka</a><br> View project at: <a href='https://wandb.ai/abhijithvinod-indian-institue-of-technology-madras/RL_CartPole_QLearning' target=\"_blank\">https://wandb.ai/abhijithvinod-indian-institue-of-technology-madras/RL_CartPole_QLearning</a><br>Synced 5 W&B file(s), 0 media file(s), 0 artifact file(s) and 0 other file(s)"
            ]
          },
          "metadata": {}
        },
        {
          "output_type": "display_data",
          "data": {
            "text/plain": [
              "<IPython.core.display.HTML object>"
            ],
            "text/html": [
              "Find logs at: <code>./wandb/run-20250331_160954-6ruirnka/logs</code>"
            ]
          },
          "metadata": {}
        }
      ]
    },
    {
      "cell_type": "code",
      "source": [
        "import numpy as np\n",
        "import matplotlib.pyplot as plt\n",
        "import os\n",
        "import gymnasium as gym\n",
        "\n",
        "# Function to run SARSA for n_episodes using the existing agent classes\n",
        "def run_sarsa(env, n_episodes, seeds, alpha, gamma, epsilon, n_bins):\n",
        "    all_rewards = []\n",
        "\n",
        "    for seed in seeds:\n",
        "        np.random.seed(seed)\n",
        "        env.reset(seed=seed)\n",
        "\n",
        "        # Initialize agent with the given hyperparameters\n",
        "        state_discretizer = StateDiscretizer(n_bins=n_bins)\n",
        "        agent = SARSAAgent(\n",
        "            state_discretizer=state_discretizer,\n",
        "            action_space=env.action_space,\n",
        "            alpha=alpha,\n",
        "            gamma=gamma,\n",
        "            epsilon=epsilon\n",
        "        )\n",
        "\n",
        "        episode_rewards = []\n",
        "\n",
        "        for episode in range(n_episodes):\n",
        "            state, _ = env.reset(seed=seed+episode)\n",
        "            action = agent.select_action(state)\n",
        "            done = False\n",
        "            total_reward = 0\n",
        "\n",
        "            while not done:\n",
        "                next_state, reward, terminated, truncated, _ = env.step(action)\n",
        "                done = terminated or truncated\n",
        "                total_reward += reward\n",
        "\n",
        "                next_action = agent.select_action(next_state)\n",
        "                agent.update(state, action, reward, next_state, next_action, done)\n",
        "\n",
        "                state = next_state\n",
        "                action = next_action\n",
        "\n",
        "            episode_rewards.append(total_reward)\n",
        "\n",
        "            # Print progress every 1000 episodes\n",
        "            if (episode + 1) % 1000 == 0:\n",
        "                print(f\"SARSA - Seed {seed}, Episode {episode + 1}/{n_episodes}, Reward: {total_reward}\")\n",
        "\n",
        "        all_rewards.append(episode_rewards)\n",
        "\n",
        "    return np.array(all_rewards)\n",
        "\n",
        "# Function to run Q-Learning for n_episodes using the existing agent classes\n",
        "def run_qlearning(env, n_episodes, seeds, alpha, gamma, temperature, n_bins):\n",
        "    all_rewards = []\n",
        "\n",
        "    for seed in seeds:\n",
        "        np.random.seed(seed)\n",
        "        env.reset(seed=seed)\n",
        "\n",
        "        # Initialize agent with the given hyperparameters\n",
        "        state_discretizer = StateDiscretizer(n_bins=n_bins)\n",
        "        agent = QLearningAgent(\n",
        "            state_discretizer=state_discretizer,\n",
        "            action_space=env.action_space,\n",
        "            alpha=alpha,\n",
        "            gamma=gamma,\n",
        "            temperature=temperature\n",
        "        )\n",
        "\n",
        "        episode_rewards = []\n",
        "\n",
        "        for episode in range(n_episodes):\n",
        "            state, _ = env.reset(seed=seed+episode)\n",
        "            done = False\n",
        "            total_reward = 0\n",
        "\n",
        "            while not done:\n",
        "                action = agent.select_action(state)\n",
        "                next_state, reward, terminated, truncated, _ = env.step(action)\n",
        "                done = terminated or truncated\n",
        "                total_reward += reward\n",
        "\n",
        "                agent.update(state, action, reward, next_state, done)\n",
        "\n",
        "                state = next_state\n",
        "\n",
        "            episode_rewards.append(total_reward)\n",
        "\n",
        "            # Print progress every 1000 episodes\n",
        "            if (episode + 1) % 1000 == 0:\n",
        "                print(f\"Q-Learning - Seed {seed}, Episode {episode + 1}/{n_episodes}, Reward: {total_reward}\")\n",
        "\n",
        "        all_rewards.append(episode_rewards)\n",
        "\n",
        "    return np.array(all_rewards)\n",
        "\n",
        "# Functions for plotting\n",
        "def plot_results(rewards, title, filename):\n",
        "    mean_rewards = np.mean(rewards, axis=0)\n",
        "    std_rewards = np.std(rewards, axis=0)\n",
        "    episodes = np.arange(1, len(mean_rewards) + 1)\n",
        "\n",
        "    plt.figure(figsize=(10, 6))\n",
        "    plt.plot(episodes, mean_rewards, label='Mean Reward')\n",
        "    plt.fill_between(episodes, mean_rewards - std_rewards, mean_rewards + std_rewards, alpha=0.3, label='Standard Deviation')\n",
        "\n",
        "    plt.title(title)\n",
        "    plt.xlabel('Episode')\n",
        "    plt.ylabel('Reward')\n",
        "    plt.legend()\n",
        "    plt.grid(True, linestyle='--', alpha=0.7)\n",
        "    plt.savefig(filename)\n",
        "    plt.close()\n",
        "\n",
        "def plot_comparative_results(sarsa_rewards, qlearning_rewards, filename):\n",
        "    sarsa_mean = np.mean(sarsa_rewards, axis=0)\n",
        "    sarsa_std = np.std(sarsa_rewards, axis=0)\n",
        "    qlearning_mean = np.mean(qlearning_rewards, axis=0)\n",
        "    qlearning_std = np.std(qlearning_rewards, axis=0)\n",
        "    episodes = np.arange(1, len(sarsa_mean) + 1)\n",
        "\n",
        "    plt.figure(figsize=(12, 7))\n",
        "    plt.plot(episodes, sarsa_mean, label='SARSA Mean', color='blue')\n",
        "    plt.fill_between(episodes, sarsa_mean - sarsa_std, sarsa_mean + sarsa_std, alpha=0.2, color='blue')\n",
        "    plt.plot(episodes, qlearning_mean, label='Q-Learning Mean', color='red')\n",
        "    plt.fill_between(episodes, qlearning_mean - qlearning_std, qlearning_mean + qlearning_std, alpha=0.2, color='red')\n",
        "\n",
        "    plt.title('SARSA vs Q-Learning in CartPole-v1')\n",
        "    plt.xlabel('Episode')\n",
        "    plt.ylabel('Reward')\n",
        "    plt.legend()\n",
        "    plt.grid(True, linestyle='--', alpha=0.7)\n",
        "    plt.savefig(filename)\n",
        "    plt.close()\n",
        "\n",
        "# Main function\n",
        "def main():\n",
        "    # Create directory for results\n",
        "    os.makedirs('results', exist_ok=True)\n",
        "\n",
        "    # Initialize environment\n",
        "    env = gym.make(\"CartPole-v1\")\n",
        "\n",
        "    # Set parameters\n",
        "    n_episodes = 10000\n",
        "    seeds = [42, 123, 456, 789, 101]  # 5 random seeds\n",
        "\n",
        "    # Set best hyperparameters from wandb sweeps\n",
        "    sarsa_params = {\n",
        "        'alpha': 0.38074,  # Replace with your best value\n",
        "        'gamma': 0.99,\n",
        "        'epsilon': 0.15554,  # Replace with your best value\n",
        "        'n_bins': 10 # Replace with your best value\n",
        "    }\n",
        "\n",
        "    qlearning_params = {\n",
        "        'alpha': 0.2363,  # Replace with best value\n",
        "        'gamma': 0.99,\n",
        "        'temperature': 1.89753,  # Replace with best value\n",
        "        'n_bins': 20  # Replace with best value\n",
        "    }\n",
        "\n",
        "    print(\"Starting SARSA training...\")\n",
        "    sarsa_rewards = run_sarsa(env, n_episodes, seeds, **sarsa_params)\n",
        "    np.save(\"results/sarsa_rewards.npy\", sarsa_rewards)\n",
        "\n",
        "    print(\"Starting Q-Learning training...\")\n",
        "    qlearning_rewards = run_qlearning(env, n_episodes, seeds, **qlearning_params)\n",
        "    np.save(\"results/qlearning_rewards.npy\", qlearning_rewards)\n",
        "\n",
        "    # Generate plots\n",
        "    print(\"Generating plots...\")\n",
        "    plot_results(sarsa_rewards, 'SARSA in CartPole-v1', 'results/sarsa_plot.png')\n",
        "    plot_results(qlearning_rewards, 'Q-Learning in CartPole-v1', 'results/qlearning_plot.png')\n",
        "    plot_comparative_results(sarsa_rewards, qlearning_rewards, 'results/comparative_plot.png')\n",
        "\n",
        "    print(\"Done! Results saved in the 'results' directory.\")\n",
        "\n",
        "if __name__ == \"__main__\":\n",
        "    main()\n"
      ],
      "metadata": {
        "colab": {
          "base_uri": "https://localhost:8080/"
        },
        "id": "9_ooK0D4-cX0",
        "outputId": "95b3ceef-7016-40db-921e-fe109849df98"
      },
      "execution_count": 5,
      "outputs": [
        {
          "output_type": "stream",
          "name": "stdout",
          "text": [
            "Starting SARSA training...\n",
            "SARSA - Seed 42, Episode 1000/10000, Reward: 27.0\n",
            "SARSA - Seed 42, Episode 2000/10000, Reward: 114.0\n",
            "SARSA - Seed 42, Episode 3000/10000, Reward: 174.0\n",
            "SARSA - Seed 42, Episode 4000/10000, Reward: 185.0\n",
            "SARSA - Seed 42, Episode 5000/10000, Reward: 13.0\n",
            "SARSA - Seed 42, Episode 6000/10000, Reward: 47.0\n",
            "SARSA - Seed 42, Episode 7000/10000, Reward: 182.0\n",
            "SARSA - Seed 42, Episode 8000/10000, Reward: 121.0\n",
            "SARSA - Seed 42, Episode 9000/10000, Reward: 184.0\n",
            "SARSA - Seed 42, Episode 10000/10000, Reward: 208.0\n",
            "SARSA - Seed 123, Episode 1000/10000, Reward: 174.0\n",
            "SARSA - Seed 123, Episode 2000/10000, Reward: 119.0\n",
            "SARSA - Seed 123, Episode 3000/10000, Reward: 45.0\n",
            "SARSA - Seed 123, Episode 4000/10000, Reward: 112.0\n",
            "SARSA - Seed 123, Episode 5000/10000, Reward: 66.0\n",
            "SARSA - Seed 123, Episode 6000/10000, Reward: 225.0\n",
            "SARSA - Seed 123, Episode 7000/10000, Reward: 261.0\n",
            "SARSA - Seed 123, Episode 8000/10000, Reward: 203.0\n",
            "SARSA - Seed 123, Episode 9000/10000, Reward: 170.0\n",
            "SARSA - Seed 123, Episode 10000/10000, Reward: 158.0\n",
            "SARSA - Seed 456, Episode 1000/10000, Reward: 12.0\n",
            "SARSA - Seed 456, Episode 2000/10000, Reward: 169.0\n",
            "SARSA - Seed 456, Episode 3000/10000, Reward: 150.0\n",
            "SARSA - Seed 456, Episode 4000/10000, Reward: 186.0\n",
            "SARSA - Seed 456, Episode 5000/10000, Reward: 245.0\n",
            "SARSA - Seed 456, Episode 6000/10000, Reward: 162.0\n",
            "SARSA - Seed 456, Episode 7000/10000, Reward: 92.0\n",
            "SARSA - Seed 456, Episode 8000/10000, Reward: 126.0\n",
            "SARSA - Seed 456, Episode 9000/10000, Reward: 194.0\n",
            "SARSA - Seed 456, Episode 10000/10000, Reward: 151.0\n",
            "SARSA - Seed 789, Episode 1000/10000, Reward: 115.0\n",
            "SARSA - Seed 789, Episode 2000/10000, Reward: 58.0\n",
            "SARSA - Seed 789, Episode 3000/10000, Reward: 43.0\n",
            "SARSA - Seed 789, Episode 4000/10000, Reward: 106.0\n",
            "SARSA - Seed 789, Episode 5000/10000, Reward: 129.0\n",
            "SARSA - Seed 789, Episode 6000/10000, Reward: 158.0\n",
            "SARSA - Seed 789, Episode 7000/10000, Reward: 121.0\n",
            "SARSA - Seed 789, Episode 8000/10000, Reward: 130.0\n",
            "SARSA - Seed 789, Episode 9000/10000, Reward: 414.0\n",
            "SARSA - Seed 789, Episode 10000/10000, Reward: 236.0\n",
            "SARSA - Seed 101, Episode 1000/10000, Reward: 64.0\n",
            "SARSA - Seed 101, Episode 2000/10000, Reward: 46.0\n",
            "SARSA - Seed 101, Episode 3000/10000, Reward: 186.0\n",
            "SARSA - Seed 101, Episode 4000/10000, Reward: 182.0\n",
            "SARSA - Seed 101, Episode 5000/10000, Reward: 189.0\n",
            "SARSA - Seed 101, Episode 6000/10000, Reward: 56.0\n",
            "SARSA - Seed 101, Episode 7000/10000, Reward: 277.0\n",
            "SARSA - Seed 101, Episode 8000/10000, Reward: 68.0\n",
            "SARSA - Seed 101, Episode 9000/10000, Reward: 165.0\n",
            "SARSA - Seed 101, Episode 10000/10000, Reward: 285.0\n",
            "Starting Q-Learning training...\n",
            "Q-Learning - Seed 42, Episode 1000/10000, Reward: 420.0\n",
            "Q-Learning - Seed 42, Episode 2000/10000, Reward: 486.0\n",
            "Q-Learning - Seed 42, Episode 3000/10000, Reward: 491.0\n",
            "Q-Learning - Seed 42, Episode 4000/10000, Reward: 500.0\n",
            "Q-Learning - Seed 42, Episode 5000/10000, Reward: 365.0\n",
            "Q-Learning - Seed 42, Episode 6000/10000, Reward: 500.0\n",
            "Q-Learning - Seed 42, Episode 7000/10000, Reward: 500.0\n",
            "Q-Learning - Seed 42, Episode 8000/10000, Reward: 500.0\n",
            "Q-Learning - Seed 42, Episode 9000/10000, Reward: 344.0\n",
            "Q-Learning - Seed 42, Episode 10000/10000, Reward: 322.0\n",
            "Q-Learning - Seed 123, Episode 1000/10000, Reward: 304.0\n",
            "Q-Learning - Seed 123, Episode 2000/10000, Reward: 260.0\n",
            "Q-Learning - Seed 123, Episode 3000/10000, Reward: 297.0\n",
            "Q-Learning - Seed 123, Episode 4000/10000, Reward: 66.0\n",
            "Q-Learning - Seed 123, Episode 5000/10000, Reward: 270.0\n",
            "Q-Learning - Seed 123, Episode 6000/10000, Reward: 258.0\n",
            "Q-Learning - Seed 123, Episode 7000/10000, Reward: 290.0\n",
            "Q-Learning - Seed 123, Episode 8000/10000, Reward: 284.0\n",
            "Q-Learning - Seed 123, Episode 9000/10000, Reward: 265.0\n",
            "Q-Learning - Seed 123, Episode 10000/10000, Reward: 282.0\n",
            "Q-Learning - Seed 456, Episode 1000/10000, Reward: 321.0\n",
            "Q-Learning - Seed 456, Episode 2000/10000, Reward: 335.0\n",
            "Q-Learning - Seed 456, Episode 3000/10000, Reward: 500.0\n",
            "Q-Learning - Seed 456, Episode 4000/10000, Reward: 391.0\n",
            "Q-Learning - Seed 456, Episode 5000/10000, Reward: 309.0\n",
            "Q-Learning - Seed 456, Episode 6000/10000, Reward: 351.0\n",
            "Q-Learning - Seed 456, Episode 7000/10000, Reward: 500.0\n",
            "Q-Learning - Seed 456, Episode 8000/10000, Reward: 500.0\n",
            "Q-Learning - Seed 456, Episode 9000/10000, Reward: 500.0\n",
            "Q-Learning - Seed 456, Episode 10000/10000, Reward: 500.0\n",
            "Q-Learning - Seed 789, Episode 1000/10000, Reward: 148.0\n",
            "Q-Learning - Seed 789, Episode 2000/10000, Reward: 135.0\n",
            "Q-Learning - Seed 789, Episode 3000/10000, Reward: 119.0\n",
            "Q-Learning - Seed 789, Episode 4000/10000, Reward: 125.0\n",
            "Q-Learning - Seed 789, Episode 5000/10000, Reward: 156.0\n",
            "Q-Learning - Seed 789, Episode 6000/10000, Reward: 135.0\n",
            "Q-Learning - Seed 789, Episode 7000/10000, Reward: 128.0\n",
            "Q-Learning - Seed 789, Episode 8000/10000, Reward: 153.0\n",
            "Q-Learning - Seed 789, Episode 9000/10000, Reward: 122.0\n",
            "Q-Learning - Seed 789, Episode 10000/10000, Reward: 97.0\n",
            "Q-Learning - Seed 101, Episode 1000/10000, Reward: 170.0\n",
            "Q-Learning - Seed 101, Episode 2000/10000, Reward: 229.0\n",
            "Q-Learning - Seed 101, Episode 3000/10000, Reward: 248.0\n",
            "Q-Learning - Seed 101, Episode 4000/10000, Reward: 254.0\n",
            "Q-Learning - Seed 101, Episode 5000/10000, Reward: 278.0\n",
            "Q-Learning - Seed 101, Episode 6000/10000, Reward: 239.0\n",
            "Q-Learning - Seed 101, Episode 7000/10000, Reward: 211.0\n",
            "Q-Learning - Seed 101, Episode 8000/10000, Reward: 209.0\n",
            "Q-Learning - Seed 101, Episode 9000/10000, Reward: 263.0\n",
            "Q-Learning - Seed 101, Episode 10000/10000, Reward: 160.0\n",
            "Generating plots...\n",
            "Done! Results saved in the 'results' directory.\n"
          ]
        }
      ]
    }
  ]
}
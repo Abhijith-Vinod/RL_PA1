{
  "nbformat": 4,
  "nbformat_minor": 0,
  "metadata": {
    "colab": {
      "provenance": []
    },
    "kernelspec": {
      "name": "python3",
      "display_name": "Python 3"
    },
    "language_info": {
      "name": "python"
    }
  },
  "cells": [
    {
      "cell_type": "code",
      "execution_count": 1,
      "metadata": {
        "colab": {
          "base_uri": "https://localhost:8080/"
        },
        "id": "kBorsDvZNUVQ",
        "outputId": "095429ac-82ad-4745-fdce-608d3954a32f"
      },
      "outputs": [
        {
          "output_type": "stream",
          "name": "stdout",
          "text": [
            "Requirement already satisfied: numpy in /usr/local/lib/python3.11/dist-packages (2.0.2)\n",
            "Requirement already satisfied: gymnasium in /usr/local/lib/python3.11/dist-packages (1.1.1)\n",
            "Requirement already satisfied: wandb in /usr/local/lib/python3.11/dist-packages (0.19.8)\n",
            "Requirement already satisfied: matplotlib in /usr/local/lib/python3.11/dist-packages (3.10.0)\n",
            "Requirement already satisfied: cloudpickle>=1.2.0 in /usr/local/lib/python3.11/dist-packages (from gymnasium) (3.1.1)\n",
            "Requirement already satisfied: typing-extensions>=4.3.0 in /usr/local/lib/python3.11/dist-packages (from gymnasium) (4.13.0)\n",
            "Requirement already satisfied: farama-notifications>=0.0.1 in /usr/local/lib/python3.11/dist-packages (from gymnasium) (0.0.4)\n",
            "Requirement already satisfied: click!=8.0.0,>=7.1 in /usr/local/lib/python3.11/dist-packages (from wandb) (8.1.8)\n",
            "Requirement already satisfied: docker-pycreds>=0.4.0 in /usr/local/lib/python3.11/dist-packages (from wandb) (0.4.0)\n",
            "Requirement already satisfied: gitpython!=3.1.29,>=1.0.0 in /usr/local/lib/python3.11/dist-packages (from wandb) (3.1.44)\n",
            "Requirement already satisfied: platformdirs in /usr/local/lib/python3.11/dist-packages (from wandb) (4.3.7)\n",
            "Requirement already satisfied: protobuf!=4.21.0,!=5.28.0,<6,>=3.19.0 in /usr/local/lib/python3.11/dist-packages (from wandb) (5.29.4)\n",
            "Requirement already satisfied: psutil>=5.0.0 in /usr/local/lib/python3.11/dist-packages (from wandb) (5.9.5)\n",
            "Requirement already satisfied: pydantic<3,>=2.6 in /usr/local/lib/python3.11/dist-packages (from wandb) (2.11.0)\n",
            "Requirement already satisfied: pyyaml in /usr/local/lib/python3.11/dist-packages (from wandb) (6.0.2)\n",
            "Requirement already satisfied: requests<3,>=2.0.0 in /usr/local/lib/python3.11/dist-packages (from wandb) (2.32.3)\n",
            "Requirement already satisfied: sentry-sdk>=2.0.0 in /usr/local/lib/python3.11/dist-packages (from wandb) (2.24.1)\n",
            "Requirement already satisfied: setproctitle in /usr/local/lib/python3.11/dist-packages (from wandb) (1.3.5)\n",
            "Requirement already satisfied: setuptools in /usr/local/lib/python3.11/dist-packages (from wandb) (75.2.0)\n",
            "Requirement already satisfied: contourpy>=1.0.1 in /usr/local/lib/python3.11/dist-packages (from matplotlib) (1.3.1)\n",
            "Requirement already satisfied: cycler>=0.10 in /usr/local/lib/python3.11/dist-packages (from matplotlib) (0.12.1)\n",
            "Requirement already satisfied: fonttools>=4.22.0 in /usr/local/lib/python3.11/dist-packages (from matplotlib) (4.56.0)\n",
            "Requirement already satisfied: kiwisolver>=1.3.1 in /usr/local/lib/python3.11/dist-packages (from matplotlib) (1.4.8)\n",
            "Requirement already satisfied: packaging>=20.0 in /usr/local/lib/python3.11/dist-packages (from matplotlib) (24.2)\n",
            "Requirement already satisfied: pillow>=8 in /usr/local/lib/python3.11/dist-packages (from matplotlib) (11.1.0)\n",
            "Requirement already satisfied: pyparsing>=2.3.1 in /usr/local/lib/python3.11/dist-packages (from matplotlib) (3.2.3)\n",
            "Requirement already satisfied: python-dateutil>=2.7 in /usr/local/lib/python3.11/dist-packages (from matplotlib) (2.8.2)\n",
            "Requirement already satisfied: six>=1.4.0 in /usr/local/lib/python3.11/dist-packages (from docker-pycreds>=0.4.0->wandb) (1.17.0)\n",
            "Requirement already satisfied: gitdb<5,>=4.0.1 in /usr/local/lib/python3.11/dist-packages (from gitpython!=3.1.29,>=1.0.0->wandb) (4.0.12)\n",
            "Requirement already satisfied: annotated-types>=0.6.0 in /usr/local/lib/python3.11/dist-packages (from pydantic<3,>=2.6->wandb) (0.7.0)\n",
            "Requirement already satisfied: pydantic-core==2.33.0 in /usr/local/lib/python3.11/dist-packages (from pydantic<3,>=2.6->wandb) (2.33.0)\n",
            "Requirement already satisfied: typing-inspection>=0.4.0 in /usr/local/lib/python3.11/dist-packages (from pydantic<3,>=2.6->wandb) (0.4.0)\n",
            "Requirement already satisfied: charset-normalizer<4,>=2 in /usr/local/lib/python3.11/dist-packages (from requests<3,>=2.0.0->wandb) (3.4.1)\n",
            "Requirement already satisfied: idna<4,>=2.5 in /usr/local/lib/python3.11/dist-packages (from requests<3,>=2.0.0->wandb) (3.10)\n",
            "Requirement already satisfied: urllib3<3,>=1.21.1 in /usr/local/lib/python3.11/dist-packages (from requests<3,>=2.0.0->wandb) (2.3.0)\n",
            "Requirement already satisfied: certifi>=2017.4.17 in /usr/local/lib/python3.11/dist-packages (from requests<3,>=2.0.0->wandb) (2025.1.31)\n",
            "Requirement already satisfied: smmap<6,>=3.0.1 in /usr/local/lib/python3.11/dist-packages (from gitdb<5,>=4.0.1->gitpython!=3.1.29,>=1.0.0->wandb) (5.0.2)\n"
          ]
        }
      ],
      "source": [
        "!pip install numpy gymnasium wandb matplotlib\n",
        "import numpy as np\n",
        "import gymnasium as gym\n",
        "import wandb\n",
        "import random\n",
        "from collections import defaultdict\n",
        "\n",
        "# Set random seed for reproducibility\n",
        "def set_seed(seed):\n",
        "    random.seed(seed)\n",
        "    np.random.seed(seed)\n",
        "    return seed\n",
        "\n",
        "# Discretize the continuous state space for MountainCar\n",
        "class StateDiscretizer:\n",
        "    def __init__(self, n_bins=25):  # Increased from 20 to 25 bins\n",
        "        self.n_bins = n_bins\n",
        "        # MountainCar-v0 state space bounds\n",
        "        self.position_bins = np.linspace(-1.2, 0.6, n_bins)\n",
        "        self.velocity_bins = np.linspace(-0.07, 0.07, n_bins)\n",
        "\n",
        "    def discretize(self, state):\n",
        "        position, velocity = state\n",
        "\n",
        "        # Discretize each dimension\n",
        "        position_bin = np.digitize(position, self.position_bins)\n",
        "        velocity_bin = np.digitize(velocity, self.velocity_bins)\n",
        "\n",
        "        # Combine into a single discrete state\n",
        "        return (position_bin, velocity_bin)\n",
        "\n",
        "# SARSA Agent with epsilon-greedy exploration\n",
        "class SARSAAgent:\n",
        "    def __init__(self, state_discretizer, action_space, alpha=0.2, gamma=0.99, epsilon=0.1):  # Changed alpha from 0.1 to 0.2\n",
        "        self.state_discretizer = state_discretizer\n",
        "        self.action_space = action_space\n",
        "        self.alpha = alpha\n",
        "        self.gamma = gamma\n",
        "        self.epsilon = epsilon\n",
        "        self.q_table = defaultdict(lambda: np.zeros(action_space.n))\n",
        "\n",
        "    def select_action(self, state):\n",
        "        state = self.state_discretizer.discretize(state)\n",
        "\n",
        "        # Epsilon-greedy policy\n",
        "        if np.random.random() < self.epsilon:\n",
        "            return self.action_space.sample()  # Explore\n",
        "        else:\n",
        "            return np.argmax(self.q_table[state])  # Exploit\n",
        "\n",
        "    def update(self, state, action, reward, next_state, next_action, done):\n",
        "        state = self.state_discretizer.discretize(state)\n",
        "        next_state = self.state_discretizer.discretize(next_state)\n",
        "\n",
        "        # SARSA update rule\n",
        "        current_q = self.q_table[state][action]\n",
        "\n",
        "        if done:\n",
        "            target_q = reward\n",
        "        else:\n",
        "            target_q = reward + self.gamma * self.q_table[next_state][next_action]\n",
        "\n",
        "        # Update Q-value\n",
        "        self.q_table[state][action] += self.alpha * (target_q - current_q)\n",
        "\n",
        "# Q-Learning Agent with Softmax exploration\n",
        "class QLearningAgent:\n",
        "    def __init__(self, state_discretizer, action_space, alpha=0.2, gamma=0.99, temperature=0.8):  # Changed alpha from 0.1 to 0.2, temperature from 1.0 to 0.8\n",
        "        self.state_discretizer = state_discretizer\n",
        "        self.action_space = action_space\n",
        "        self.alpha = alpha\n",
        "        self.gamma = gamma\n",
        "        self.temperature = temperature\n",
        "        self.q_table = defaultdict(lambda: np.zeros(action_space.n))\n",
        "\n",
        "    def select_action(self, state):\n",
        "        state = self.state_discretizer.discretize(state)\n",
        "\n",
        "        # Softmax exploration\n",
        "        q_values = self.q_table[state]\n",
        "        exp_q = np.exp(q_values / self.temperature)\n",
        "        probabilities = exp_q / np.sum(exp_q)\n",
        "\n",
        "        # Sample action based on probabilities\n",
        "        return np.random.choice(self.action_space.n, p=probabilities)\n",
        "\n",
        "    def update(self, state, action, reward, next_state, done):\n",
        "        state = self.state_discretizer.discretize(state)\n",
        "        next_state = self.state_discretizer.discretize(next_state)\n",
        "\n",
        "        # Q-Learning update rule\n",
        "        current_q = self.q_table[state][action]\n",
        "\n",
        "        if done:\n",
        "            target_q = reward\n",
        "        else:\n",
        "            target_q = reward + self.gamma * np.max(self.q_table[next_state])\n",
        "\n",
        "        # Update Q-value\n",
        "        self.q_table[state][action] += self.alpha * (target_q - current_q)\n",
        "\n",
        "# Training function for SARSA\n",
        "def train_sarsa(config=None):\n",
        "    with wandb.init(config=config):\n",
        "        config = wandb.config\n",
        "\n",
        "        # Fixed seeds\n",
        "        seeds = [42, 123, 456, 789, 101]\n",
        "        all_final_rewards = []\n",
        "\n",
        "        for seed in seeds:\n",
        "            # Set environment\n",
        "            env = gym.make(\"MountainCar-v0\")\n",
        "\n",
        "            # Set random seed\n",
        "            set_seed(seed)\n",
        "\n",
        "            # Initialize state discretizer\n",
        "            state_discretizer = StateDiscretizer(n_bins=config.n_bins)\n",
        "\n",
        "            # Initialize SARSA agent\n",
        "            agent = SARSAAgent(\n",
        "                state_discretizer=state_discretizer,\n",
        "                action_space=env.action_space,\n",
        "                alpha=config.alpha,\n",
        "                gamma=config.gamma,\n",
        "                epsilon=config.epsilon\n",
        "            )\n",
        "\n",
        "            # Training loop\n",
        "            episode_rewards = []\n",
        "\n",
        "            for episode in range(config.n_episodes):\n",
        "                state, _ = env.reset(seed=seed + episode)\n",
        "                action = agent.select_action(state)\n",
        "                done = False\n",
        "                episode_reward = 0\n",
        "\n",
        "                while not done:\n",
        "                    next_state, reward, terminated, truncated, _ = env.step(action)\n",
        "                    done = terminated or truncated\n",
        "\n",
        "                    # Apply enhanced reward shaping\n",
        "                    shaped_reward = reward\n",
        "                    if config.use_reward_shaping:\n",
        "                        position, velocity = next_state\n",
        "\n",
        "                        # Reward for moving toward the goal (right side)\n",
        "                        shaped_reward = reward\n",
        "\n",
        "                        # Reward for gaining momentum (either direction)\n",
        "                        shaped_reward += 0.1 * abs(velocity)\n",
        "\n",
        "                        # Reward for position improvement\n",
        "                        shaped_reward += 0.1 * position\n",
        "\n",
        "                        # Additional reward for coordinated actions (moving right and pushing right)\n",
        "                        if velocity > 0 and action == 2:\n",
        "                            shaped_reward += 0.2\n",
        "\n",
        "                        # Additional reward for coordinated actions (moving left and pushing left)\n",
        "                        if velocity < 0 and action == 0:\n",
        "                            shaped_reward += 0.2\n",
        "\n",
        "                        # Bonus for reaching the goal\n",
        "                        if terminated and position >= 0.5:\n",
        "                            shaped_reward += 10\n",
        "\n",
        "                    episode_reward += shaped_reward\n",
        "\n",
        "                    # Select next action using current policy\n",
        "                    next_action = agent.select_action(next_state)\n",
        "\n",
        "                    # Update Q-values\n",
        "                    agent.update(state, action, shaped_reward, next_state, next_action, done)\n",
        "\n",
        "                    # Move to next state and action\n",
        "                    state = next_state\n",
        "                    action = next_action\n",
        "\n",
        "                episode_rewards.append(episode_reward)\n",
        "\n",
        "                # Log individual seed performance\n",
        "                wandb.log({\n",
        "                    f\"seed_{seed}_episode\": episode,\n",
        "                    f\"seed_{seed}_reward\": episode_reward,\n",
        "                })\n",
        "\n",
        "            # Store final performance (avg of last 50 episodes)\n",
        "            final_reward = np.mean(episode_rewards[-50:])\n",
        "            all_final_rewards.append(final_reward)\n",
        "            env.close()\n",
        "\n",
        "        # Calculate average performance across all seeds\n",
        "        avg_final_reward = np.mean(all_final_rewards)\n",
        "\n",
        "        # Log the average performance\n",
        "        wandb.log({\n",
        "            \"average_reward_across_seeds\": avg_final_reward\n",
        "        })\n",
        "\n",
        "        return avg_final_reward\n",
        "\n",
        "# Training function for Q-Learning\n",
        "def train_qlearning(config=None):\n",
        "    with wandb.init(config=config):\n",
        "        config = wandb.config\n",
        "\n",
        "        # Fixed seeds\n",
        "        seeds = [42, 123, 456, 789, 101]\n",
        "        all_final_rewards = []\n",
        "\n",
        "        for seed in seeds:\n",
        "            # Set environment\n",
        "            env = gym.make(\"MountainCar-v0\")\n",
        "\n",
        "            # Set random seed\n",
        "            set_seed(seed)\n",
        "\n",
        "            # Initialize state discretizer\n",
        "            state_discretizer = StateDiscretizer(n_bins=config.n_bins)\n",
        "\n",
        "            # Initialize Q-Learning agent\n",
        "            agent = QLearningAgent(\n",
        "                state_discretizer=state_discretizer,\n",
        "                action_space=env.action_space,\n",
        "                alpha=config.alpha,\n",
        "                gamma=config.gamma,\n",
        "                temperature=config.temperature\n",
        "            )\n",
        "\n",
        "            # Training loop\n",
        "            episode_rewards = []\n",
        "\n",
        "            for episode in range(config.n_episodes):\n",
        "                state, _ = env.reset(seed=seed + episode)\n",
        "                done = False\n",
        "                episode_reward = 0\n",
        "\n",
        "                while not done:\n",
        "                    action = agent.select_action(state)\n",
        "                    next_state, reward, terminated, truncated, _ = env.step(action)\n",
        "                    done = terminated or truncated\n",
        "\n",
        "                    # Apply enhanced reward shaping\n",
        "                    shaped_reward = reward\n",
        "                    if config.use_reward_shaping:\n",
        "                        position, velocity = next_state\n",
        "\n",
        "                        # Reward for moving toward the goal (right side)\n",
        "                        shaped_reward = reward\n",
        "\n",
        "                        # Reward for gaining momentum (either direction)\n",
        "                        shaped_reward += 0.1 * abs(velocity)\n",
        "\n",
        "                        # Reward for position improvement\n",
        "                        shaped_reward += 0.1 * position\n",
        "\n",
        "                        # Additional reward for coordinated actions (moving right and pushing right)\n",
        "                        if velocity > 0 and action == 2:\n",
        "                            shaped_reward += 0.2\n",
        "\n",
        "                        # Additional reward for coordinated actions (moving left and pushing left)\n",
        "                        if velocity < 0 and action == 0:\n",
        "                            shaped_reward += 0.2\n",
        "\n",
        "                        # Bonus for reaching the goal\n",
        "                        if terminated and position >= 0.5:\n",
        "                            shaped_reward += 10\n",
        "\n",
        "                    episode_reward += shaped_reward\n",
        "\n",
        "                    # Update Q-values\n",
        "                    agent.update(state, action, shaped_reward, next_state, done)\n",
        "\n",
        "                    # Move to next state\n",
        "                    state = next_state\n",
        "\n",
        "                episode_rewards.append(episode_reward)\n",
        "\n",
        "                # Log individual seed performance\n",
        "                wandb.log({\n",
        "                    f\"seed_{seed}_episode\": episode,\n",
        "                    f\"seed_{seed}_reward\": episode_reward,\n",
        "                })\n",
        "\n",
        "            # Store final performance (avg of last 50 episodes)\n",
        "            final_reward = np.mean(episode_rewards[-50:])\n",
        "            all_final_rewards.append(final_reward)\n",
        "            env.close()\n",
        "\n",
        "        # Calculate average performance across all seeds\n",
        "        avg_final_reward = np.mean(all_final_rewards)\n",
        "\n",
        "        # Log the average performance\n",
        "        wandb.log({\n",
        "            \"average_reward_across_seeds\": avg_final_reward\n",
        "        })\n",
        "\n",
        "        return avg_final_reward\n",
        "\n",
        "# Sweep configuration for SARSA\n",
        "sarsa_sweep_config = {\n",
        "    'method': 'bayes',  # Bayesian optimization\n",
        "    'metric': {\n",
        "        'name': 'average_reward_across_seeds',\n",
        "        'goal': 'maximize'\n",
        "    },\n",
        "    'parameters': {\n",
        "        'alpha': {\n",
        "            'min': 0.1,\n",
        "            'max': 0.2\n",
        "        },\n",
        "        'gamma': {\n",
        "            'value': 0.99  # Fixed as recommended\n",
        "        },\n",
        "        'epsilon': {\n",
        "            'min': 0.05,\n",
        "            'max': 0.2\n",
        "        },\n",
        "        'n_bins': {\n",
        "            'values': [20, 25, 30]\n",
        "        },\n",
        "        'n_episodes': {\n",
        "            'value': 3000\n",
        "        },\n",
        "        'use_reward_shaping': {\n",
        "            'value': True\n",
        "        }\n",
        "    }\n",
        "}\n",
        "\n",
        "# Sweep configuration for Q-Learning\n",
        "qlearning_sweep_config = {\n",
        "    'method': 'bayes',  # Bayesian optimization\n",
        "    'metric': {\n",
        "        'name': 'average_reward_across_seeds',\n",
        "        'goal': 'maximize'\n",
        "    },\n",
        "    'parameters': {\n",
        "        'alpha': {\n",
        "            'min': 0.1,\n",
        "            'max': 0.3\n",
        "        },\n",
        "        'gamma': {\n",
        "            'value': 0.99  # Fixed as recommended\n",
        "        },\n",
        "        'temperature': {\n",
        "            'min': 0.5,\n",
        "            'max': 1.0\n",
        "        },\n",
        "        'n_bins': {\n",
        "            'values': [20, 25, 30]\n",
        "        },\n",
        "        'n_episodes': {\n",
        "            'value': 3000\n",
        "        },\n",
        "        'use_reward_shaping': {\n",
        "            'value': True\n",
        "        }\n",
        "    }\n",
        "}\n",
        "\n",
        "\n",
        "# Initialize and run the SARSA sweep\n",
        "def run_sarsa_sweep():\n",
        "    sweep_id = wandb.sweep(sarsa_sweep_config, project=\"RL_MountainCar_SARSA\")\n",
        "    wandb.agent(sweep_id, function=train_sarsa, count=20)\n",
        "\n",
        "# Initialize and run the Q-Learning sweep\n",
        "def run_qlearning_sweep():\n",
        "    sweep_id = wandb.sweep(qlearning_sweep_config, project=\"RL_MountainCar_QLearning\")\n",
        "    wandb.agent(sweep_id, function=train_qlearning, count=20)\n",
        "\n",
        "\n"
      ]
    },
    {
      "cell_type": "code",
      "source": [
        "import wandb\n",
        "wandb.login()\n"
      ],
      "metadata": {
        "colab": {
          "base_uri": "https://localhost:8080/",
          "height": 208
        },
        "id": "NGkOWotxu1mz",
        "outputId": "587d2a59-3b87-4866-9c64-e9571cb9d15c"
      },
      "execution_count": 2,
      "outputs": [
        {
          "output_type": "stream",
          "name": "stderr",
          "text": [
            "\u001b[34m\u001b[1mwandb\u001b[0m: Using wandb-core as the SDK backend.  Please refer to https://wandb.me/wandb-core for more information.\n"
          ]
        },
        {
          "output_type": "display_data",
          "data": {
            "text/plain": [
              "<IPython.core.display.Javascript object>"
            ],
            "application/javascript": [
              "\n",
              "        window._wandbApiKey = new Promise((resolve, reject) => {\n",
              "            function loadScript(url) {\n",
              "            return new Promise(function(resolve, reject) {\n",
              "                let newScript = document.createElement(\"script\");\n",
              "                newScript.onerror = reject;\n",
              "                newScript.onload = resolve;\n",
              "                document.body.appendChild(newScript);\n",
              "                newScript.src = url;\n",
              "            });\n",
              "            }\n",
              "            loadScript(\"https://cdn.jsdelivr.net/npm/postmate/build/postmate.min.js\").then(() => {\n",
              "            const iframe = document.createElement('iframe')\n",
              "            iframe.style.cssText = \"width:0;height:0;border:none\"\n",
              "            document.body.appendChild(iframe)\n",
              "            const handshake = new Postmate({\n",
              "                container: iframe,\n",
              "                url: 'https://wandb.ai/authorize'\n",
              "            });\n",
              "            const timeout = setTimeout(() => reject(\"Couldn't auto authenticate\"), 5000)\n",
              "            handshake.then(function(child) {\n",
              "                child.on('authorize', data => {\n",
              "                    clearTimeout(timeout)\n",
              "                    resolve(data)\n",
              "                });\n",
              "            });\n",
              "            })\n",
              "        });\n",
              "    "
            ]
          },
          "metadata": {}
        },
        {
          "output_type": "stream",
          "name": "stderr",
          "text": [
            "\u001b[34m\u001b[1mwandb\u001b[0m: Logging into wandb.ai. (Learn how to deploy a W&B server locally: https://wandb.me/wandb-server)\n",
            "\u001b[34m\u001b[1mwandb\u001b[0m: You can find your API key in your browser here: https://wandb.ai/authorize\n",
            "wandb: Paste an API key from your profile and hit enter:"
          ]
        },
        {
          "name": "stdout",
          "output_type": "stream",
          "text": [
            " ··········\n"
          ]
        },
        {
          "output_type": "stream",
          "name": "stderr",
          "text": [
            "\u001b[34m\u001b[1mwandb\u001b[0m: \u001b[33mWARNING\u001b[0m If you're specifying your api key in code, ensure this code is not shared publicly.\n",
            "\u001b[34m\u001b[1mwandb\u001b[0m: \u001b[33mWARNING\u001b[0m Consider setting the WANDB_API_KEY environment variable, or running `wandb login` from the command line.\n",
            "\u001b[34m\u001b[1mwandb\u001b[0m: No netrc file found, creating one.\n",
            "\u001b[34m\u001b[1mwandb\u001b[0m: Appending key for api.wandb.ai to your netrc file: /root/.netrc\n",
            "\u001b[34m\u001b[1mwandb\u001b[0m: Currently logged in as: \u001b[33mabhijithvinod\u001b[0m (\u001b[33mabhijithvinod-indian-institue-of-technology-madras\u001b[0m) to \u001b[32mhttps://api.wandb.ai\u001b[0m. Use \u001b[1m`wandb login --relogin`\u001b[0m to force relogin\n"
          ]
        },
        {
          "output_type": "execute_result",
          "data": {
            "text/plain": [
              "True"
            ]
          },
          "metadata": {},
          "execution_count": 2
        }
      ]
    },
    {
      "cell_type": "code",
      "source": [
        "# Run the sweeps\n",
        "if __name__ == \"__main__\":\n",
        "    run_sarsa_sweep()\n",
        ""
      ],
      "metadata": {
        "colab": {
          "base_uri": "https://localhost:8080/",
          "height": 1000
        },
        "id": "NZf3TWsRvCLW",
        "outputId": "2a610d92-eb23-447a-eefa-936ddbcc8fa3"
      },
      "execution_count": 6,
      "outputs": [
        {
          "output_type": "stream",
          "name": "stdout",
          "text": [
            "Create sweep with ID: bfmad29r\n",
            "Sweep URL: https://wandb.ai/abhijithvinod-indian-institue-of-technology-madras/RL_MountainCar_SARSA/sweeps/bfmad29r\n"
          ]
        },
        {
          "output_type": "stream",
          "name": "stderr",
          "text": [
            "\u001b[34m\u001b[1mwandb\u001b[0m: Agent Starting Run: ynyv82j2 with config:\n",
            "\u001b[34m\u001b[1mwandb\u001b[0m: \talpha: 0.24096302498757816\n",
            "\u001b[34m\u001b[1mwandb\u001b[0m: \tepsilon: 0.09608690670112062\n",
            "\u001b[34m\u001b[1mwandb\u001b[0m: \tgamma: 0.99\n",
            "\u001b[34m\u001b[1mwandb\u001b[0m: \tn_bins: 20\n",
            "\u001b[34m\u001b[1mwandb\u001b[0m: \tn_episodes: 3000\n",
            "\u001b[34m\u001b[1mwandb\u001b[0m: \tuse_reward_shaping: True\n"
          ]
        },
        {
          "output_type": "display_data",
          "data": {
            "text/plain": [
              "<IPython.core.display.HTML object>"
            ],
            "text/html": [
              "Tracking run with wandb version 0.19.8"
            ]
          },
          "metadata": {}
        },
        {
          "output_type": "display_data",
          "data": {
            "text/plain": [
              "<IPython.core.display.HTML object>"
            ],
            "text/html": [
              "Run data is saved locally in <code>/content/wandb/run-20250401_094418-ynyv82j2</code>"
            ]
          },
          "metadata": {}
        },
        {
          "output_type": "display_data",
          "data": {
            "text/plain": [
              "<IPython.core.display.HTML object>"
            ],
            "text/html": [
              "Syncing run <strong><a href='https://wandb.ai/abhijithvinod-indian-institue-of-technology-madras/RL_MountainCar_SARSA/runs/ynyv82j2' target=\"_blank\">major-sweep-1</a></strong> to <a href='https://wandb.ai/abhijithvinod-indian-institue-of-technology-madras/RL_MountainCar_SARSA' target=\"_blank\">Weights & Biases</a> (<a href='https://wandb.me/developer-guide' target=\"_blank\">docs</a>)<br>Sweep page: <a href='https://wandb.ai/abhijithvinod-indian-institue-of-technology-madras/RL_MountainCar_SARSA/sweeps/bfmad29r' target=\"_blank\">https://wandb.ai/abhijithvinod-indian-institue-of-technology-madras/RL_MountainCar_SARSA/sweeps/bfmad29r</a>"
            ]
          },
          "metadata": {}
        },
        {
          "output_type": "display_data",
          "data": {
            "text/plain": [
              "<IPython.core.display.HTML object>"
            ],
            "text/html": [
              " View project at <a href='https://wandb.ai/abhijithvinod-indian-institue-of-technology-madras/RL_MountainCar_SARSA' target=\"_blank\">https://wandb.ai/abhijithvinod-indian-institue-of-technology-madras/RL_MountainCar_SARSA</a>"
            ]
          },
          "metadata": {}
        },
        {
          "output_type": "display_data",
          "data": {
            "text/plain": [
              "<IPython.core.display.HTML object>"
            ],
            "text/html": [
              " View sweep at <a href='https://wandb.ai/abhijithvinod-indian-institue-of-technology-madras/RL_MountainCar_SARSA/sweeps/bfmad29r' target=\"_blank\">https://wandb.ai/abhijithvinod-indian-institue-of-technology-madras/RL_MountainCar_SARSA/sweeps/bfmad29r</a>"
            ]
          },
          "metadata": {}
        },
        {
          "output_type": "display_data",
          "data": {
            "text/plain": [
              "<IPython.core.display.HTML object>"
            ],
            "text/html": [
              " View run at <a href='https://wandb.ai/abhijithvinod-indian-institue-of-technology-madras/RL_MountainCar_SARSA/runs/ynyv82j2' target=\"_blank\">https://wandb.ai/abhijithvinod-indian-institue-of-technology-madras/RL_MountainCar_SARSA/runs/ynyv82j2</a>"
            ]
          },
          "metadata": {}
        },
        {
          "output_type": "display_data",
          "data": {
            "text/plain": [
              "<IPython.core.display.HTML object>"
            ],
            "text/html": []
          },
          "metadata": {}
        },
        {
          "output_type": "display_data",
          "data": {
            "text/plain": [
              "<IPython.core.display.HTML object>"
            ],
            "text/html": [
              "<br>    <style><br>        .wandb-row {<br>            display: flex;<br>            flex-direction: row;<br>            flex-wrap: wrap;<br>            justify-content: flex-start;<br>            width: 100%;<br>        }<br>        .wandb-col {<br>            display: flex;<br>            flex-direction: column;<br>            flex-basis: 100%;<br>            flex: 1;<br>            padding: 10px;<br>        }<br>    </style><br><div class=\"wandb-row\"><div class=\"wandb-col\"><h3>Run history:</h3><br/><table class=\"wandb\"><tr><td>average_reward_across_seeds</td><td>▁</td></tr><tr><td>seed_101_episode</td><td>▁▁▁▁▁▂▂▂▂▂▃▃▃▃▄▄▅▅▅▅▅▅▅▅▅▅▆▆▆▆▆▇▇▇▇▇▇▇▇█</td></tr><tr><td>seed_101_reward</td><td>▁▁▁▁▁▅▄▆▄▆▇▃▅▄▂▂█▆▆▅▃▆█▆▅▅▃▄▄█▃█▆▅▃▄▂▄▂█</td></tr><tr><td>seed_123_episode</td><td>▁▁▂▂▂▂▂▃▃▃▃▃▃▄▄▄▄▅▅▅▅▅▅▅▅▅▅▆▆▆▆▆▇▇▇▇▇▇▇█</td></tr><tr><td>seed_123_reward</td><td>▁▁▁▁▁▅▂▂▂▁▃▁▆▁▇▅▂▂▅▂▆▅▅▃▅▂▂▃▅▃▆▅▅▅█▅▅▆▅▆</td></tr><tr><td>seed_42_episode</td><td>▁▁▁▂▂▂▂▂▂▃▃▃▃▃▃▄▄▄▄▄▅▅▅▅▅▅▅▆▆▆▇▇▇▇██████</td></tr><tr><td>seed_42_reward</td><td>▁▁▁▁▁▄▁▁▁▂▁▂▂▁▃▄▆▂▁▁▄▆▃▅▆▅▁▂▂▆▃▄▂▅▆▃▁▆▅█</td></tr><tr><td>seed_456_episode</td><td>▁▁▁▁▂▂▂▂▂▂▂▂▂▃▃▃▄▄▄▄▄▄▄▅▅▅▆▆▆▇▇▇▇▇██████</td></tr><tr><td>seed_456_reward</td><td>▁▁▁▁▁▁▁▂▃▂▅▃▁▃▅█▂▅▆▃▂▄▆▆▂▆▆▃▃▂▄▆▆▃▅█▅█▂▅</td></tr><tr><td>seed_789_episode</td><td>▁▁▁▁▁▂▂▂▂▂▃▃▃▃▃▃▃▃▄▄▅▅▅▅▅▅▅▅▆▆▆▆▆▆▇▇▇███</td></tr><tr><td>seed_789_reward</td><td>▁▅▁▁▁▁▁▁▂▅▁▆▄▂▅▆▃▃▂▂▇▆▇█▃▂▆▂█▆▇▂▇▃▂▁▅█▄▂</td></tr></table><br/></div><div class=\"wandb-col\"><h3>Run summary:</h3><br/><table class=\"wandb\"><tr><td>average_reward_across_seeds</td><td>-141.9373</td></tr><tr><td>seed_101_episode</td><td>2999</td></tr><tr><td>seed_101_reward</td><td>-133.63274</td></tr><tr><td>seed_123_episode</td><td>2999</td></tr><tr><td>seed_123_reward</td><td>-180.67542</td></tr><tr><td>seed_42_episode</td><td>2999</td></tr><tr><td>seed_42_reward</td><td>-183.44214</td></tr><tr><td>seed_456_episode</td><td>2999</td></tr><tr><td>seed_456_reward</td><td>-144.98109</td></tr><tr><td>seed_789_episode</td><td>2999</td></tr><tr><td>seed_789_reward</td><td>-119.84928</td></tr></table><br/></div></div>"
            ]
          },
          "metadata": {}
        },
        {
          "output_type": "display_data",
          "data": {
            "text/plain": [
              "<IPython.core.display.HTML object>"
            ],
            "text/html": [
              " View run <strong style=\"color:#cdcd00\">major-sweep-1</strong> at: <a href='https://wandb.ai/abhijithvinod-indian-institue-of-technology-madras/RL_MountainCar_SARSA/runs/ynyv82j2' target=\"_blank\">https://wandb.ai/abhijithvinod-indian-institue-of-technology-madras/RL_MountainCar_SARSA/runs/ynyv82j2</a><br> View project at: <a href='https://wandb.ai/abhijithvinod-indian-institue-of-technology-madras/RL_MountainCar_SARSA' target=\"_blank\">https://wandb.ai/abhijithvinod-indian-institue-of-technology-madras/RL_MountainCar_SARSA</a><br>Synced 5 W&B file(s), 0 media file(s), 0 artifact file(s) and 0 other file(s)"
            ]
          },
          "metadata": {}
        },
        {
          "output_type": "display_data",
          "data": {
            "text/plain": [
              "<IPython.core.display.HTML object>"
            ],
            "text/html": [
              "Find logs at: <code>./wandb/run-20250401_094418-ynyv82j2/logs</code>"
            ]
          },
          "metadata": {}
        },
        {
          "output_type": "stream",
          "name": "stderr",
          "text": [
            "\u001b[34m\u001b[1mwandb\u001b[0m: Sweep Agent: Waiting for job.\n",
            "\u001b[34m\u001b[1mwandb\u001b[0m: Job received.\n",
            "\u001b[34m\u001b[1mwandb\u001b[0m: Agent Starting Run: ldzehu5y with config:\n",
            "\u001b[34m\u001b[1mwandb\u001b[0m: \talpha: 0.2516841428628418\n",
            "\u001b[34m\u001b[1mwandb\u001b[0m: \tepsilon: 0.1179327679593104\n",
            "\u001b[34m\u001b[1mwandb\u001b[0m: \tgamma: 0.99\n",
            "\u001b[34m\u001b[1mwandb\u001b[0m: \tn_bins: 30\n",
            "\u001b[34m\u001b[1mwandb\u001b[0m: \tn_episodes: 3000\n",
            "\u001b[34m\u001b[1mwandb\u001b[0m: \tuse_reward_shaping: True\n"
          ]
        },
        {
          "output_type": "display_data",
          "data": {
            "text/plain": [
              "<IPython.core.display.HTML object>"
            ],
            "text/html": [
              "Tracking run with wandb version 0.19.8"
            ]
          },
          "metadata": {}
        },
        {
          "output_type": "display_data",
          "data": {
            "text/plain": [
              "<IPython.core.display.HTML object>"
            ],
            "text/html": [
              "Run data is saved locally in <code>/content/wandb/run-20250401_094821-ldzehu5y</code>"
            ]
          },
          "metadata": {}
        },
        {
          "output_type": "display_data",
          "data": {
            "text/plain": [
              "<IPython.core.display.HTML object>"
            ],
            "text/html": [
              "Syncing run <strong><a href='https://wandb.ai/abhijithvinod-indian-institue-of-technology-madras/RL_MountainCar_SARSA/runs/ldzehu5y' target=\"_blank\">snowy-sweep-2</a></strong> to <a href='https://wandb.ai/abhijithvinod-indian-institue-of-technology-madras/RL_MountainCar_SARSA' target=\"_blank\">Weights & Biases</a> (<a href='https://wandb.me/developer-guide' target=\"_blank\">docs</a>)<br>Sweep page: <a href='https://wandb.ai/abhijithvinod-indian-institue-of-technology-madras/RL_MountainCar_SARSA/sweeps/bfmad29r' target=\"_blank\">https://wandb.ai/abhijithvinod-indian-institue-of-technology-madras/RL_MountainCar_SARSA/sweeps/bfmad29r</a>"
            ]
          },
          "metadata": {}
        },
        {
          "output_type": "display_data",
          "data": {
            "text/plain": [
              "<IPython.core.display.HTML object>"
            ],
            "text/html": [
              " View project at <a href='https://wandb.ai/abhijithvinod-indian-institue-of-technology-madras/RL_MountainCar_SARSA' target=\"_blank\">https://wandb.ai/abhijithvinod-indian-institue-of-technology-madras/RL_MountainCar_SARSA</a>"
            ]
          },
          "metadata": {}
        },
        {
          "output_type": "display_data",
          "data": {
            "text/plain": [
              "<IPython.core.display.HTML object>"
            ],
            "text/html": [
              " View sweep at <a href='https://wandb.ai/abhijithvinod-indian-institue-of-technology-madras/RL_MountainCar_SARSA/sweeps/bfmad29r' target=\"_blank\">https://wandb.ai/abhijithvinod-indian-institue-of-technology-madras/RL_MountainCar_SARSA/sweeps/bfmad29r</a>"
            ]
          },
          "metadata": {}
        },
        {
          "output_type": "display_data",
          "data": {
            "text/plain": [
              "<IPython.core.display.HTML object>"
            ],
            "text/html": [
              " View run at <a href='https://wandb.ai/abhijithvinod-indian-institue-of-technology-madras/RL_MountainCar_SARSA/runs/ldzehu5y' target=\"_blank\">https://wandb.ai/abhijithvinod-indian-institue-of-technology-madras/RL_MountainCar_SARSA/runs/ldzehu5y</a>"
            ]
          },
          "metadata": {}
        },
        {
          "output_type": "display_data",
          "data": {
            "text/plain": [
              "<IPython.core.display.HTML object>"
            ],
            "text/html": []
          },
          "metadata": {}
        },
        {
          "output_type": "display_data",
          "data": {
            "text/plain": [
              "<IPython.core.display.HTML object>"
            ],
            "text/html": [
              "<br>    <style><br>        .wandb-row {<br>            display: flex;<br>            flex-direction: row;<br>            flex-wrap: wrap;<br>            justify-content: flex-start;<br>            width: 100%;<br>        }<br>        .wandb-col {<br>            display: flex;<br>            flex-direction: column;<br>            flex-basis: 100%;<br>            flex: 1;<br>            padding: 10px;<br>        }<br>    </style><br><div class=\"wandb-row\"><div class=\"wandb-col\"><h3>Run history:</h3><br/><table class=\"wandb\"><tr><td>average_reward_across_seeds</td><td>▁</td></tr><tr><td>seed_101_episode</td><td>▁▁▂▂▂▂▂▂▃▃▃▄▄▄▄▄▄▄▄▅▅▅▅▅▅▅▅▆▆▆▆▆▆▆▆▇▇▇██</td></tr><tr><td>seed_101_reward</td><td>▁▁▁▁▁▁▂▁▃▁▃▁▃▁▅▅▂▃▁▃▃▆▆▁█▂▃▅▅▆▆▆▆▁▃▃▇▂▅▃</td></tr><tr><td>seed_123_episode</td><td>▁▁▁▁▁▂▂▂▂▂▂▃▃▃▃▃▃▄▄▄▄▅▅▆▆▆▆▇▇▇▇▇▇███████</td></tr><tr><td>seed_123_reward</td><td>▁▁▁▁▁▁▁▁▁▂▂▂▁▁▅▅▁▅▆▆▁▅▁▅▄▂▆▅▆▅▃▆▄▄▆▁▆█▂▅</td></tr><tr><td>seed_42_episode</td><td>▁▁▂▂▂▂▂▂▂▃▃▃▄▄▄▄▅▅▅▅▅▅▅▆▆▆▆▆▆▆▇▇▇▇▇▇▇▇▇█</td></tr><tr><td>seed_42_reward</td><td>▁▁▁▁▁▁▁▁▁▁▁▁▁▁▂▅▁▂▃▃▄▆▄▅▂▇▅▄▅▃▃▆▃▅▅▅▆█▅▅</td></tr><tr><td>seed_456_episode</td><td>▁▁▁▁▂▂▂▂▂▂▃▃▃▃▃▄▄▄▄▄▅▅▅▅▅▅▆▆▆▆▆▆▆▇▇▇▇▇▇█</td></tr><tr><td>seed_456_reward</td><td>▁▁▁▄▁▄▄▄▁▁▂▂▅▅▅▅▅▅▅▅▅▅▅▅▁▃▆▃▅█▅▅▁▅▅▆█▆▆▅</td></tr><tr><td>seed_789_episode</td><td>▁▁▁▁▁▁▂▂▃▃▃▃▃▃▄▄▄▄▅▅▅▅▅▅▅▆▆▆▆▆▆▆▇▇▇▇▇▇██</td></tr><tr><td>seed_789_reward</td><td>▁▁▁▂▂▆▂▂▂▆▃▂▆▂▄▇▂▃▂▆▇▆▆▆▇▂▄▃▇▂▃▂█▆▃▂▂▃▄▄</td></tr></table><br/></div><div class=\"wandb-col\"><h3>Run summary:</h3><br/><table class=\"wandb\"><tr><td>average_reward_across_seeds</td><td>-138.61905</td></tr><tr><td>seed_101_episode</td><td>2999</td></tr><tr><td>seed_101_reward</td><td>-119.80157</td></tr><tr><td>seed_123_episode</td><td>2999</td></tr><tr><td>seed_123_reward</td><td>-171.1465</td></tr><tr><td>seed_42_episode</td><td>2999</td></tr><tr><td>seed_42_reward</td><td>-153.59383</td></tr><tr><td>seed_456_episode</td><td>2999</td></tr><tr><td>seed_456_reward</td><td>-129.95084</td></tr><tr><td>seed_789_episode</td><td>2999</td></tr><tr><td>seed_789_reward</td><td>-124.657</td></tr></table><br/></div></div>"
            ]
          },
          "metadata": {}
        },
        {
          "output_type": "display_data",
          "data": {
            "text/plain": [
              "<IPython.core.display.HTML object>"
            ],
            "text/html": [
              " View run <strong style=\"color:#cdcd00\">snowy-sweep-2</strong> at: <a href='https://wandb.ai/abhijithvinod-indian-institue-of-technology-madras/RL_MountainCar_SARSA/runs/ldzehu5y' target=\"_blank\">https://wandb.ai/abhijithvinod-indian-institue-of-technology-madras/RL_MountainCar_SARSA/runs/ldzehu5y</a><br> View project at: <a href='https://wandb.ai/abhijithvinod-indian-institue-of-technology-madras/RL_MountainCar_SARSA' target=\"_blank\">https://wandb.ai/abhijithvinod-indian-institue-of-technology-madras/RL_MountainCar_SARSA</a><br>Synced 5 W&B file(s), 0 media file(s), 0 artifact file(s) and 0 other file(s)"
            ]
          },
          "metadata": {}
        },
        {
          "output_type": "display_data",
          "data": {
            "text/plain": [
              "<IPython.core.display.HTML object>"
            ],
            "text/html": [
              "Find logs at: <code>./wandb/run-20250401_094821-ldzehu5y/logs</code>"
            ]
          },
          "metadata": {}
        },
        {
          "output_type": "stream",
          "name": "stderr",
          "text": [
            "\u001b[34m\u001b[1mwandb\u001b[0m: Agent Starting Run: 5xh6gpru with config:\n",
            "\u001b[34m\u001b[1mwandb\u001b[0m: \talpha: 0.10940523159888071\n",
            "\u001b[34m\u001b[1mwandb\u001b[0m: \tepsilon: 0.1645143805222924\n",
            "\u001b[34m\u001b[1mwandb\u001b[0m: \tgamma: 0.99\n",
            "\u001b[34m\u001b[1mwandb\u001b[0m: \tn_bins: 20\n",
            "\u001b[34m\u001b[1mwandb\u001b[0m: \tn_episodes: 3000\n",
            "\u001b[34m\u001b[1mwandb\u001b[0m: \tuse_reward_shaping: True\n"
          ]
        },
        {
          "output_type": "display_data",
          "data": {
            "text/plain": [
              "<IPython.core.display.HTML object>"
            ],
            "text/html": [
              "Tracking run with wandb version 0.19.8"
            ]
          },
          "metadata": {}
        },
        {
          "output_type": "display_data",
          "data": {
            "text/plain": [
              "<IPython.core.display.HTML object>"
            ],
            "text/html": [
              "Run data is saved locally in <code>/content/wandb/run-20250401_095215-5xh6gpru</code>"
            ]
          },
          "metadata": {}
        },
        {
          "output_type": "display_data",
          "data": {
            "text/plain": [
              "<IPython.core.display.HTML object>"
            ],
            "text/html": [
              "Syncing run <strong><a href='https://wandb.ai/abhijithvinod-indian-institue-of-technology-madras/RL_MountainCar_SARSA/runs/5xh6gpru' target=\"_blank\">balmy-sweep-3</a></strong> to <a href='https://wandb.ai/abhijithvinod-indian-institue-of-technology-madras/RL_MountainCar_SARSA' target=\"_blank\">Weights & Biases</a> (<a href='https://wandb.me/developer-guide' target=\"_blank\">docs</a>)<br>Sweep page: <a href='https://wandb.ai/abhijithvinod-indian-institue-of-technology-madras/RL_MountainCar_SARSA/sweeps/bfmad29r' target=\"_blank\">https://wandb.ai/abhijithvinod-indian-institue-of-technology-madras/RL_MountainCar_SARSA/sweeps/bfmad29r</a>"
            ]
          },
          "metadata": {}
        },
        {
          "output_type": "display_data",
          "data": {
            "text/plain": [
              "<IPython.core.display.HTML object>"
            ],
            "text/html": [
              " View project at <a href='https://wandb.ai/abhijithvinod-indian-institue-of-technology-madras/RL_MountainCar_SARSA' target=\"_blank\">https://wandb.ai/abhijithvinod-indian-institue-of-technology-madras/RL_MountainCar_SARSA</a>"
            ]
          },
          "metadata": {}
        },
        {
          "output_type": "display_data",
          "data": {
            "text/plain": [
              "<IPython.core.display.HTML object>"
            ],
            "text/html": [
              " View sweep at <a href='https://wandb.ai/abhijithvinod-indian-institue-of-technology-madras/RL_MountainCar_SARSA/sweeps/bfmad29r' target=\"_blank\">https://wandb.ai/abhijithvinod-indian-institue-of-technology-madras/RL_MountainCar_SARSA/sweeps/bfmad29r</a>"
            ]
          },
          "metadata": {}
        },
        {
          "output_type": "display_data",
          "data": {
            "text/plain": [
              "<IPython.core.display.HTML object>"
            ],
            "text/html": [
              " View run at <a href='https://wandb.ai/abhijithvinod-indian-institue-of-technology-madras/RL_MountainCar_SARSA/runs/5xh6gpru' target=\"_blank\">https://wandb.ai/abhijithvinod-indian-institue-of-technology-madras/RL_MountainCar_SARSA/runs/5xh6gpru</a>"
            ]
          },
          "metadata": {}
        },
        {
          "output_type": "display_data",
          "data": {
            "text/plain": [
              "<IPython.core.display.HTML object>"
            ],
            "text/html": []
          },
          "metadata": {}
        },
        {
          "output_type": "display_data",
          "data": {
            "text/plain": [
              "<IPython.core.display.HTML object>"
            ],
            "text/html": [
              "<br>    <style><br>        .wandb-row {<br>            display: flex;<br>            flex-direction: row;<br>            flex-wrap: wrap;<br>            justify-content: flex-start;<br>            width: 100%;<br>        }<br>        .wandb-col {<br>            display: flex;<br>            flex-direction: column;<br>            flex-basis: 100%;<br>            flex: 1;<br>            padding: 10px;<br>        }<br>    </style><br><div class=\"wandb-row\"><div class=\"wandb-col\"><h3>Run history:</h3><br/><table class=\"wandb\"><tr><td>average_reward_across_seeds</td><td>▁</td></tr><tr><td>seed_101_episode</td><td>▁▁▁▁▁▁▁▂▂▂▂▂▂▂▃▃▃▃▃▃▄▅▅▅▅▅▅▅▆▆▆▆▆▇▇▇▇▇▇█</td></tr><tr><td>seed_101_reward</td><td>▁▁▁▁▁▅▂▂▁▂▁▃▁▁▃▆▅▂▂▂▂▅▅▂▃▆▆▅▅▄▆▆▆▅▂██▂▅▃</td></tr><tr><td>seed_123_episode</td><td>▁▁▁▂▂▂▂▃▃▃▃▃▃▃▃▃▄▄▄▄▄▅▅▅▅▅▅▆▆▆▆▇▇▇▇▇▇▇▇█</td></tr><tr><td>seed_123_reward</td><td>▁▁▁▅▁▅▄▁▂▂▂▅▅▇▃▂▁▃▂▆▁▅▅▃▁▅▅▅▅█▆▅▅▂▃▅▃▅▇▇</td></tr><tr><td>seed_42_episode</td><td>▁▁▁▁▂▂▂▂▂▂▂▂▃▃▃▃▃▄▄▄▄▅▅▅▅▅▆▆▆▇▇▇▇▇▇█████</td></tr><tr><td>seed_42_reward</td><td>▁▁▁▁▁▁▁▁▇▄▅▂▅▂▅▄▁▂▂▁▅▅▅█▅▃▁▅▂▃▄▃▁▁▂▂▂▅▁▆</td></tr><tr><td>seed_456_episode</td><td>▁▁▁▂▂▂▂▂▂▃▃▃▃▃▃▄▄▄▄▄▅▅▅▆▆▆▆▆▆▆▇▇▇▇▇▇▇███</td></tr><tr><td>seed_456_reward</td><td>▁▁▁▁▁▁▅▁▁▁▄▂▁▁▁▂▁▃▅▂▂▄▃▂▅█▁▁▆▂▄▁▂▅▁▆▅▁▅▁</td></tr><tr><td>seed_789_episode</td><td>▁▁▁▁▁▁▁▂▂▂▂▂▂▂▂▂▂▃▃▃▃▃▃▄▄▄▅▅▅▅▅▅▆▆▆▇▇▇▇█</td></tr><tr><td>seed_789_reward</td><td>▁▁▁▁▁▁▂▁▂▂▁▂▆▅▂▆▆▄▂▂▂▅▂▆▂▂▂▅▇▄▇█▇█▃▄▂█▇▇</td></tr></table><br/></div><div class=\"wandb-col\"><h3>Run summary:</h3><br/><table class=\"wandb\"><tr><td>average_reward_across_seeds</td><td>-139.77011</td></tr><tr><td>seed_101_episode</td><td>2999</td></tr><tr><td>seed_101_reward</td><td>-121.43155</td></tr><tr><td>seed_123_episode</td><td>2999</td></tr><tr><td>seed_123_reward</td><td>-100.40613</td></tr><tr><td>seed_42_episode</td><td>2999</td></tr><tr><td>seed_42_reward</td><td>-143.27089</td></tr><tr><td>seed_456_episode</td><td>2999</td></tr><tr><td>seed_456_reward</td><td>-119.98315</td></tr><tr><td>seed_789_episode</td><td>2999</td></tr><tr><td>seed_789_reward</td><td>-128.77573</td></tr></table><br/></div></div>"
            ]
          },
          "metadata": {}
        },
        {
          "output_type": "display_data",
          "data": {
            "text/plain": [
              "<IPython.core.display.HTML object>"
            ],
            "text/html": [
              " View run <strong style=\"color:#cdcd00\">balmy-sweep-3</strong> at: <a href='https://wandb.ai/abhijithvinod-indian-institue-of-technology-madras/RL_MountainCar_SARSA/runs/5xh6gpru' target=\"_blank\">https://wandb.ai/abhijithvinod-indian-institue-of-technology-madras/RL_MountainCar_SARSA/runs/5xh6gpru</a><br> View project at: <a href='https://wandb.ai/abhijithvinod-indian-institue-of-technology-madras/RL_MountainCar_SARSA' target=\"_blank\">https://wandb.ai/abhijithvinod-indian-institue-of-technology-madras/RL_MountainCar_SARSA</a><br>Synced 5 W&B file(s), 0 media file(s), 0 artifact file(s) and 0 other file(s)"
            ]
          },
          "metadata": {}
        },
        {
          "output_type": "display_data",
          "data": {
            "text/plain": [
              "<IPython.core.display.HTML object>"
            ],
            "text/html": [
              "Find logs at: <code>./wandb/run-20250401_095215-5xh6gpru/logs</code>"
            ]
          },
          "metadata": {}
        },
        {
          "output_type": "stream",
          "name": "stderr",
          "text": [
            "\u001b[34m\u001b[1mwandb\u001b[0m: Agent Starting Run: 8hxudrfd with config:\n",
            "\u001b[34m\u001b[1mwandb\u001b[0m: \talpha: 0.11220784761878116\n",
            "\u001b[34m\u001b[1mwandb\u001b[0m: \tepsilon: 0.1695384826890194\n",
            "\u001b[34m\u001b[1mwandb\u001b[0m: \tgamma: 0.99\n",
            "\u001b[34m\u001b[1mwandb\u001b[0m: \tn_bins: 25\n",
            "\u001b[34m\u001b[1mwandb\u001b[0m: \tn_episodes: 3000\n",
            "\u001b[34m\u001b[1mwandb\u001b[0m: \tuse_reward_shaping: True\n"
          ]
        },
        {
          "output_type": "display_data",
          "data": {
            "text/plain": [
              "<IPython.core.display.HTML object>"
            ],
            "text/html": [
              "Tracking run with wandb version 0.19.8"
            ]
          },
          "metadata": {}
        },
        {
          "output_type": "display_data",
          "data": {
            "text/plain": [
              "<IPython.core.display.HTML object>"
            ],
            "text/html": [
              "Run data is saved locally in <code>/content/wandb/run-20250401_095606-8hxudrfd</code>"
            ]
          },
          "metadata": {}
        },
        {
          "output_type": "display_data",
          "data": {
            "text/plain": [
              "<IPython.core.display.HTML object>"
            ],
            "text/html": [
              "Syncing run <strong><a href='https://wandb.ai/abhijithvinod-indian-institue-of-technology-madras/RL_MountainCar_SARSA/runs/8hxudrfd' target=\"_blank\">vibrant-sweep-4</a></strong> to <a href='https://wandb.ai/abhijithvinod-indian-institue-of-technology-madras/RL_MountainCar_SARSA' target=\"_blank\">Weights & Biases</a> (<a href='https://wandb.me/developer-guide' target=\"_blank\">docs</a>)<br>Sweep page: <a href='https://wandb.ai/abhijithvinod-indian-institue-of-technology-madras/RL_MountainCar_SARSA/sweeps/bfmad29r' target=\"_blank\">https://wandb.ai/abhijithvinod-indian-institue-of-technology-madras/RL_MountainCar_SARSA/sweeps/bfmad29r</a>"
            ]
          },
          "metadata": {}
        },
        {
          "output_type": "display_data",
          "data": {
            "text/plain": [
              "<IPython.core.display.HTML object>"
            ],
            "text/html": [
              " View project at <a href='https://wandb.ai/abhijithvinod-indian-institue-of-technology-madras/RL_MountainCar_SARSA' target=\"_blank\">https://wandb.ai/abhijithvinod-indian-institue-of-technology-madras/RL_MountainCar_SARSA</a>"
            ]
          },
          "metadata": {}
        },
        {
          "output_type": "display_data",
          "data": {
            "text/plain": [
              "<IPython.core.display.HTML object>"
            ],
            "text/html": [
              " View sweep at <a href='https://wandb.ai/abhijithvinod-indian-institue-of-technology-madras/RL_MountainCar_SARSA/sweeps/bfmad29r' target=\"_blank\">https://wandb.ai/abhijithvinod-indian-institue-of-technology-madras/RL_MountainCar_SARSA/sweeps/bfmad29r</a>"
            ]
          },
          "metadata": {}
        },
        {
          "output_type": "display_data",
          "data": {
            "text/plain": [
              "<IPython.core.display.HTML object>"
            ],
            "text/html": [
              " View run at <a href='https://wandb.ai/abhijithvinod-indian-institue-of-technology-madras/RL_MountainCar_SARSA/runs/8hxudrfd' target=\"_blank\">https://wandb.ai/abhijithvinod-indian-institue-of-technology-madras/RL_MountainCar_SARSA/runs/8hxudrfd</a>"
            ]
          },
          "metadata": {}
        },
        {
          "output_type": "display_data",
          "data": {
            "text/plain": [
              "<IPython.core.display.HTML object>"
            ],
            "text/html": []
          },
          "metadata": {}
        },
        {
          "output_type": "display_data",
          "data": {
            "text/plain": [
              "<IPython.core.display.HTML object>"
            ],
            "text/html": [
              "<br>    <style><br>        .wandb-row {<br>            display: flex;<br>            flex-direction: row;<br>            flex-wrap: wrap;<br>            justify-content: flex-start;<br>            width: 100%;<br>        }<br>        .wandb-col {<br>            display: flex;<br>            flex-direction: column;<br>            flex-basis: 100%;<br>            flex: 1;<br>            padding: 10px;<br>        }<br>    </style><br><div class=\"wandb-row\"><div class=\"wandb-col\"><h3>Run history:</h3><br/><table class=\"wandb\"><tr><td>average_reward_across_seeds</td><td>▁</td></tr><tr><td>seed_101_episode</td><td>▁▁▁▁▁▁▂▂▂▃▃▃▃▃▃▄▄▄▄▅▅▅▅▅▅▆▆▆▆▆▆▇▇▇▇▇▇▇▇█</td></tr><tr><td>seed_101_reward</td><td>▁▁▁▁▁▁▁▅▁▁▁▁▁▅▇▁▃▆▁▃▆▃▆▆▇▁▂▂▁▂▆▇▆▇█▇▇▇▇▁</td></tr><tr><td>seed_123_episode</td><td>▁▁▁▁▁▂▂▂▂▂▂▂▂▃▃▃▄▄▄▄▅▅▅▅▅▆▆▆▆▆▆▆▇▇▇▇▇███</td></tr><tr><td>seed_123_reward</td><td>▁▁▁▁▁▁▂▁▁▂▁▁▄▂▃▂▄▁▆▅▅▁▅▅▂▁▅▆▂▂▃▅▅▄▅▃█▅▅▃</td></tr><tr><td>seed_42_episode</td><td>▁▁▁▁▁▁▂▂▂▂▂▂▂▂▂▃▃▃▃▃▄▄▄▅▅▅▅▅▅▆▇▇▇▇▇▇████</td></tr><tr><td>seed_42_reward</td><td>▁▁▁▁▂▂▁▃▆▂▄▄▇▄▃▁▇▃▆▃▇▃█▂▆▇▆▆▆▇▂▃▂█▃▂▆▅▃█</td></tr><tr><td>seed_456_episode</td><td>▁▁▁▂▂▂▂▂▂▂▃▃▃▃▃▃▃▃▃▄▄▄▄▄▅▅▅▅▅▅▆▆▆▆▇▇▇▇▇█</td></tr><tr><td>seed_456_reward</td><td>▁▁▁▁▁▁▁▁▂▃▁▁▁▁▆▂▂▆▂▆▄▆▃▆▆▅▆▅█▂▄▁▆▅▂▂▃▅▆▇</td></tr><tr><td>seed_789_episode</td><td>▁▁▁▁▂▂▂▂▂▂▃▃▃▃▃▄▄▄▄▄▄▅▅▅▅▅▆▆▆▆▆▇▇▇▇▇▇███</td></tr><tr><td>seed_789_reward</td><td>▁▁▁▁▁▁▁▁▃▁▁▁▂▂▂▁▁▅▂▂▁▂▂▅▂▅▃▃▅▁▆█▅▂▅▅▅▅▅▇</td></tr></table><br/></div><div class=\"wandb-col\"><h3>Run summary:</h3><br/><table class=\"wandb\"><tr><td>average_reward_across_seeds</td><td>-141.46658</td></tr><tr><td>seed_101_episode</td><td>2999</td></tr><tr><td>seed_101_reward</td><td>-133.73888</td></tr><tr><td>seed_123_episode</td><td>2999</td></tr><tr><td>seed_123_reward</td><td>-185.35513</td></tr><tr><td>seed_42_episode</td><td>2999</td></tr><tr><td>seed_42_reward</td><td>-185.99976</td></tr><tr><td>seed_456_episode</td><td>2999</td></tr><tr><td>seed_456_reward</td><td>-137.81836</td></tr><tr><td>seed_789_episode</td><td>2999</td></tr><tr><td>seed_789_reward</td><td>-121.37669</td></tr></table><br/></div></div>"
            ]
          },
          "metadata": {}
        },
        {
          "output_type": "display_data",
          "data": {
            "text/plain": [
              "<IPython.core.display.HTML object>"
            ],
            "text/html": [
              " View run <strong style=\"color:#cdcd00\">vibrant-sweep-4</strong> at: <a href='https://wandb.ai/abhijithvinod-indian-institue-of-technology-madras/RL_MountainCar_SARSA/runs/8hxudrfd' target=\"_blank\">https://wandb.ai/abhijithvinod-indian-institue-of-technology-madras/RL_MountainCar_SARSA/runs/8hxudrfd</a><br> View project at: <a href='https://wandb.ai/abhijithvinod-indian-institue-of-technology-madras/RL_MountainCar_SARSA' target=\"_blank\">https://wandb.ai/abhijithvinod-indian-institue-of-technology-madras/RL_MountainCar_SARSA</a><br>Synced 5 W&B file(s), 0 media file(s), 0 artifact file(s) and 0 other file(s)"
            ]
          },
          "metadata": {}
        },
        {
          "output_type": "display_data",
          "data": {
            "text/plain": [
              "<IPython.core.display.HTML object>"
            ],
            "text/html": [
              "Find logs at: <code>./wandb/run-20250401_095606-8hxudrfd/logs</code>"
            ]
          },
          "metadata": {}
        },
        {
          "output_type": "stream",
          "name": "stderr",
          "text": [
            "\u001b[34m\u001b[1mwandb\u001b[0m: Agent Starting Run: 4lt7vefk with config:\n",
            "\u001b[34m\u001b[1mwandb\u001b[0m: \talpha: 0.1770432407523055\n",
            "\u001b[34m\u001b[1mwandb\u001b[0m: \tepsilon: 0.13981970577079\n",
            "\u001b[34m\u001b[1mwandb\u001b[0m: \tgamma: 0.99\n",
            "\u001b[34m\u001b[1mwandb\u001b[0m: \tn_bins: 30\n",
            "\u001b[34m\u001b[1mwandb\u001b[0m: \tn_episodes: 3000\n",
            "\u001b[34m\u001b[1mwandb\u001b[0m: \tuse_reward_shaping: True\n"
          ]
        },
        {
          "output_type": "display_data",
          "data": {
            "text/plain": [
              "<IPython.core.display.HTML object>"
            ],
            "text/html": [
              "Tracking run with wandb version 0.19.8"
            ]
          },
          "metadata": {}
        },
        {
          "output_type": "display_data",
          "data": {
            "text/plain": [
              "<IPython.core.display.HTML object>"
            ],
            "text/html": [
              "Run data is saved locally in <code>/content/wandb/run-20250401_100004-4lt7vefk</code>"
            ]
          },
          "metadata": {}
        },
        {
          "output_type": "display_data",
          "data": {
            "text/plain": [
              "<IPython.core.display.HTML object>"
            ],
            "text/html": [
              "Syncing run <strong><a href='https://wandb.ai/abhijithvinod-indian-institue-of-technology-madras/RL_MountainCar_SARSA/runs/4lt7vefk' target=\"_blank\">revived-sweep-5</a></strong> to <a href='https://wandb.ai/abhijithvinod-indian-institue-of-technology-madras/RL_MountainCar_SARSA' target=\"_blank\">Weights & Biases</a> (<a href='https://wandb.me/developer-guide' target=\"_blank\">docs</a>)<br>Sweep page: <a href='https://wandb.ai/abhijithvinod-indian-institue-of-technology-madras/RL_MountainCar_SARSA/sweeps/bfmad29r' target=\"_blank\">https://wandb.ai/abhijithvinod-indian-institue-of-technology-madras/RL_MountainCar_SARSA/sweeps/bfmad29r</a>"
            ]
          },
          "metadata": {}
        },
        {
          "output_type": "display_data",
          "data": {
            "text/plain": [
              "<IPython.core.display.HTML object>"
            ],
            "text/html": [
              " View project at <a href='https://wandb.ai/abhijithvinod-indian-institue-of-technology-madras/RL_MountainCar_SARSA' target=\"_blank\">https://wandb.ai/abhijithvinod-indian-institue-of-technology-madras/RL_MountainCar_SARSA</a>"
            ]
          },
          "metadata": {}
        },
        {
          "output_type": "display_data",
          "data": {
            "text/plain": [
              "<IPython.core.display.HTML object>"
            ],
            "text/html": [
              " View sweep at <a href='https://wandb.ai/abhijithvinod-indian-institue-of-technology-madras/RL_MountainCar_SARSA/sweeps/bfmad29r' target=\"_blank\">https://wandb.ai/abhijithvinod-indian-institue-of-technology-madras/RL_MountainCar_SARSA/sweeps/bfmad29r</a>"
            ]
          },
          "metadata": {}
        },
        {
          "output_type": "display_data",
          "data": {
            "text/plain": [
              "<IPython.core.display.HTML object>"
            ],
            "text/html": [
              " View run at <a href='https://wandb.ai/abhijithvinod-indian-institue-of-technology-madras/RL_MountainCar_SARSA/runs/4lt7vefk' target=\"_blank\">https://wandb.ai/abhijithvinod-indian-institue-of-technology-madras/RL_MountainCar_SARSA/runs/4lt7vefk</a>"
            ]
          },
          "metadata": {}
        },
        {
          "output_type": "display_data",
          "data": {
            "text/plain": [
              "<IPython.core.display.HTML object>"
            ],
            "text/html": []
          },
          "metadata": {}
        },
        {
          "output_type": "display_data",
          "data": {
            "text/plain": [
              "<IPython.core.display.HTML object>"
            ],
            "text/html": [
              "<br>    <style><br>        .wandb-row {<br>            display: flex;<br>            flex-direction: row;<br>            flex-wrap: wrap;<br>            justify-content: flex-start;<br>            width: 100%;<br>        }<br>        .wandb-col {<br>            display: flex;<br>            flex-direction: column;<br>            flex-basis: 100%;<br>            flex: 1;<br>            padding: 10px;<br>        }<br>    </style><br><div class=\"wandb-row\"><div class=\"wandb-col\"><h3>Run history:</h3><br/><table class=\"wandb\"><tr><td>average_reward_across_seeds</td><td>▁</td></tr><tr><td>seed_101_episode</td><td>▁▁▁▁▁▂▂▂▂▂▃▃▃▃▃▄▄▄▄▅▅▅▅▅▅▆▆▆▆▆▇▇▇▇▇█████</td></tr><tr><td>seed_101_reward</td><td>▁▁▁▁▁▁▁▂▁▁▁▂▂▂▃▂▂▃▃▁▅▂▄▃▂▂▆▅▆▆▃▄▃▄▅▄██▂▆</td></tr><tr><td>seed_123_episode</td><td>▁▁▂▂▂▂▂▃▃▃▄▄▄▄▅▅▅▅▅▆▆▆▆▆▆▆▇▇▇▇▇▇▇███████</td></tr><tr><td>seed_123_reward</td><td>▁▁▁▁▁▂▂▂▇▂▂▄▁▂▂▂▄▇▃▂▂█▂▃▂▂██▄▇▆▄▄▅▄▂▄███</td></tr><tr><td>seed_42_episode</td><td>▁▁▂▂▂▃▃▃▃▃▃▃▃▃▄▄▄▄▄▄▄▄▄▅▅▅▆▆▆▆▆▇▇▇▇▇▇███</td></tr><tr><td>seed_42_reward</td><td>▁▁▁▁▁▁▁▁▂▁▂▂▁▅▂▃▂▂▁▄▆▃▂▅▆▆█▂▆▂▂▆▂▃▆▂▅▆▆▃</td></tr><tr><td>seed_456_episode</td><td>▁▁▁▂▂▂▂▂▃▃▃▄▄▄▄▄▄▄▅▅▆▆▆▆▆▆▆▇▇▇▇▇▇▇▇█████</td></tr><tr><td>seed_456_reward</td><td>▁▁▁▂▁▁▁▁▂▁▁▂▅▂▁▂▅▆█▂▅▅▂▆▅▁▃▅▆▂▅▆▆▆█▂▅▂▄▂</td></tr><tr><td>seed_789_episode</td><td>▁▁▂▂▂▂▂▃▃▃▃▃▃▃▃▃▃▃▃▃▄▄▄▄▅▅▅▅▆▆▆▇▇▇▇▇▇▇██</td></tr><tr><td>seed_789_reward</td><td>▁▁▁▁▁▁▁▁▂▁▁▃▁▂▂▅▁▅▇█▆▅▆▅▃▆▅▃▅▆▂▅▅▅▃▆▃▂▃▅</td></tr></table><br/></div><div class=\"wandb-col\"><h3>Run summary:</h3><br/><table class=\"wandb\"><tr><td>average_reward_across_seeds</td><td>-142.58047</td></tr><tr><td>seed_101_episode</td><td>2999</td></tr><tr><td>seed_101_reward</td><td>-128.12421</td></tr><tr><td>seed_123_episode</td><td>2999</td></tr><tr><td>seed_123_reward</td><td>-184.17198</td></tr><tr><td>seed_42_episode</td><td>2999</td></tr><tr><td>seed_42_reward</td><td>-123.29177</td></tr><tr><td>seed_456_episode</td><td>2999</td></tr><tr><td>seed_456_reward</td><td>-133.59448</td></tr><tr><td>seed_789_episode</td><td>2999</td></tr><tr><td>seed_789_reward</td><td>-130.10347</td></tr></table><br/></div></div>"
            ]
          },
          "metadata": {}
        },
        {
          "output_type": "display_data",
          "data": {
            "text/plain": [
              "<IPython.core.display.HTML object>"
            ],
            "text/html": [
              " View run <strong style=\"color:#cdcd00\">revived-sweep-5</strong> at: <a href='https://wandb.ai/abhijithvinod-indian-institue-of-technology-madras/RL_MountainCar_SARSA/runs/4lt7vefk' target=\"_blank\">https://wandb.ai/abhijithvinod-indian-institue-of-technology-madras/RL_MountainCar_SARSA/runs/4lt7vefk</a><br> View project at: <a href='https://wandb.ai/abhijithvinod-indian-institue-of-technology-madras/RL_MountainCar_SARSA' target=\"_blank\">https://wandb.ai/abhijithvinod-indian-institue-of-technology-madras/RL_MountainCar_SARSA</a><br>Synced 5 W&B file(s), 0 media file(s), 0 artifact file(s) and 0 other file(s)"
            ]
          },
          "metadata": {}
        },
        {
          "output_type": "display_data",
          "data": {
            "text/plain": [
              "<IPython.core.display.HTML object>"
            ],
            "text/html": [
              "Find logs at: <code>./wandb/run-20250401_100004-4lt7vefk/logs</code>"
            ]
          },
          "metadata": {}
        },
        {
          "output_type": "stream",
          "name": "stderr",
          "text": [
            "\u001b[34m\u001b[1mwandb\u001b[0m: Sweep Agent: Waiting for job.\n",
            "\u001b[34m\u001b[1mwandb\u001b[0m: Job received.\n",
            "\u001b[34m\u001b[1mwandb\u001b[0m: Agent Starting Run: byzgmzlq with config:\n",
            "\u001b[34m\u001b[1mwandb\u001b[0m: \talpha: 0.10163218874966327\n",
            "\u001b[34m\u001b[1mwandb\u001b[0m: \tepsilon: 0.08575587229444466\n",
            "\u001b[34m\u001b[1mwandb\u001b[0m: \tgamma: 0.99\n",
            "\u001b[34m\u001b[1mwandb\u001b[0m: \tn_bins: 20\n",
            "\u001b[34m\u001b[1mwandb\u001b[0m: \tn_episodes: 3000\n",
            "\u001b[34m\u001b[1mwandb\u001b[0m: \tuse_reward_shaping: True\n"
          ]
        },
        {
          "output_type": "display_data",
          "data": {
            "text/plain": [
              "<IPython.core.display.HTML object>"
            ],
            "text/html": [
              "Tracking run with wandb version 0.19.8"
            ]
          },
          "metadata": {}
        },
        {
          "output_type": "display_data",
          "data": {
            "text/plain": [
              "<IPython.core.display.HTML object>"
            ],
            "text/html": [
              "Run data is saved locally in <code>/content/wandb/run-20250401_100410-byzgmzlq</code>"
            ]
          },
          "metadata": {}
        },
        {
          "output_type": "display_data",
          "data": {
            "text/plain": [
              "<IPython.core.display.HTML object>"
            ],
            "text/html": [
              "Syncing run <strong><a href='https://wandb.ai/abhijithvinod-indian-institue-of-technology-madras/RL_MountainCar_SARSA/runs/byzgmzlq' target=\"_blank\">gentle-sweep-6</a></strong> to <a href='https://wandb.ai/abhijithvinod-indian-institue-of-technology-madras/RL_MountainCar_SARSA' target=\"_blank\">Weights & Biases</a> (<a href='https://wandb.me/developer-guide' target=\"_blank\">docs</a>)<br>Sweep page: <a href='https://wandb.ai/abhijithvinod-indian-institue-of-technology-madras/RL_MountainCar_SARSA/sweeps/bfmad29r' target=\"_blank\">https://wandb.ai/abhijithvinod-indian-institue-of-technology-madras/RL_MountainCar_SARSA/sweeps/bfmad29r</a>"
            ]
          },
          "metadata": {}
        },
        {
          "output_type": "display_data",
          "data": {
            "text/plain": [
              "<IPython.core.display.HTML object>"
            ],
            "text/html": [
              " View project at <a href='https://wandb.ai/abhijithvinod-indian-institue-of-technology-madras/RL_MountainCar_SARSA' target=\"_blank\">https://wandb.ai/abhijithvinod-indian-institue-of-technology-madras/RL_MountainCar_SARSA</a>"
            ]
          },
          "metadata": {}
        },
        {
          "output_type": "display_data",
          "data": {
            "text/plain": [
              "<IPython.core.display.HTML object>"
            ],
            "text/html": [
              " View sweep at <a href='https://wandb.ai/abhijithvinod-indian-institue-of-technology-madras/RL_MountainCar_SARSA/sweeps/bfmad29r' target=\"_blank\">https://wandb.ai/abhijithvinod-indian-institue-of-technology-madras/RL_MountainCar_SARSA/sweeps/bfmad29r</a>"
            ]
          },
          "metadata": {}
        },
        {
          "output_type": "display_data",
          "data": {
            "text/plain": [
              "<IPython.core.display.HTML object>"
            ],
            "text/html": [
              " View run at <a href='https://wandb.ai/abhijithvinod-indian-institue-of-technology-madras/RL_MountainCar_SARSA/runs/byzgmzlq' target=\"_blank\">https://wandb.ai/abhijithvinod-indian-institue-of-technology-madras/RL_MountainCar_SARSA/runs/byzgmzlq</a>"
            ]
          },
          "metadata": {}
        },
        {
          "output_type": "display_data",
          "data": {
            "text/plain": [
              "<IPython.core.display.HTML object>"
            ],
            "text/html": []
          },
          "metadata": {}
        },
        {
          "output_type": "display_data",
          "data": {
            "text/plain": [
              "<IPython.core.display.HTML object>"
            ],
            "text/html": [
              "<br>    <style><br>        .wandb-row {<br>            display: flex;<br>            flex-direction: row;<br>            flex-wrap: wrap;<br>            justify-content: flex-start;<br>            width: 100%;<br>        }<br>        .wandb-col {<br>            display: flex;<br>            flex-direction: column;<br>            flex-basis: 100%;<br>            flex: 1;<br>            padding: 10px;<br>        }<br>    </style><br><div class=\"wandb-row\"><div class=\"wandb-col\"><h3>Run history:</h3><br/><table class=\"wandb\"><tr><td>average_reward_across_seeds</td><td>▁</td></tr><tr><td>seed_101_episode</td><td>▁▁▁▁▁▂▂▂▂▂▃▃▃▃▃▃▄▄▄▄▄▄▅▅▅▅▆▆▆▆▆▆▇▇▇█████</td></tr><tr><td>seed_101_reward</td><td>▁▁▁▁▁▁▁▄▁▁▄▅▂▂▂▃▅▃▅▂▅▅█▅▂▁▅▆▂▅▆▃▃▆▁█▇▂▇▂</td></tr><tr><td>seed_123_episode</td><td>▁▁▁▂▂▂▂▂▂▂▃▃▃▃▃▄▄▄▄▅▅▅▅▅▅▆▆▆▆▆▇▇▇▇▇▇████</td></tr><tr><td>seed_123_reward</td><td>▁▁▁▁▁▁▁▁▂▂▅▂▅▅▅█▂▄▆▅▃▃█▃▂▁▆▂▅▅▆▅▆▃▆▄▂▆▆▆</td></tr><tr><td>seed_42_episode</td><td>▁▁▁▁▁▂▂▂▂▂▃▃▃▄▄▄▄▄▅▅▅▅▅▆▆▆▆▆▆▇▇▇▇▇▇█████</td></tr><tr><td>seed_42_reward</td><td>▁▁▁▁▁▁▁▁▁▁▁▁▃█▂▆▅▃▅▅▆▃█▃▇▅▅▆▁▆▂▆▂▃▃▆▇▆▃▂</td></tr><tr><td>seed_456_episode</td><td>▁▁▁▂▂▂▂▂▂▂▃▃▃▄▄▄▄▄▄▄▄▄▄▅▅▅▅▅▅▆▇▇▇▇▇▇▇███</td></tr><tr><td>seed_456_reward</td><td>▁▁▁▁▁▁▁▁▁▁▁▂▁▁▅▁▃▂▆▂▄▅▅▂▆▅▂▂▂▄▃▆█▇█▆▄▄▆▃</td></tr><tr><td>seed_789_episode</td><td>▁▁▂▂▂▃▃▃▃▃▃▄▄▄▄▄▄▄▄▄▄▅▅▆▆▆▆▆▆▆▆▆▇▇▇█████</td></tr><tr><td>seed_789_reward</td><td>▁▁▁▂▁▃▁▄▁▂▂▆▂▂▂▂▅▅▃▇▄█▇▇█▇▂▄▇▂▆█▇▇▂▇█▇▂█</td></tr></table><br/></div><div class=\"wandb-col\"><h3>Run summary:</h3><br/><table class=\"wandb\"><tr><td>average_reward_across_seeds</td><td>-136.12111</td></tr><tr><td>seed_101_episode</td><td>2999</td></tr><tr><td>seed_101_reward</td><td>-127.77621</td></tr><tr><td>seed_123_episode</td><td>2999</td></tr><tr><td>seed_123_reward</td><td>-171.57748</td></tr><tr><td>seed_42_episode</td><td>2999</td></tr><tr><td>seed_42_reward</td><td>-153.1601</td></tr><tr><td>seed_456_episode</td><td>2999</td></tr><tr><td>seed_456_reward</td><td>-129.94926</td></tr><tr><td>seed_789_episode</td><td>2999</td></tr><tr><td>seed_789_reward</td><td>-160.1636</td></tr></table><br/></div></div>"
            ]
          },
          "metadata": {}
        },
        {
          "output_type": "display_data",
          "data": {
            "text/plain": [
              "<IPython.core.display.HTML object>"
            ],
            "text/html": [
              " View run <strong style=\"color:#cdcd00\">gentle-sweep-6</strong> at: <a href='https://wandb.ai/abhijithvinod-indian-institue-of-technology-madras/RL_MountainCar_SARSA/runs/byzgmzlq' target=\"_blank\">https://wandb.ai/abhijithvinod-indian-institue-of-technology-madras/RL_MountainCar_SARSA/runs/byzgmzlq</a><br> View project at: <a href='https://wandb.ai/abhijithvinod-indian-institue-of-technology-madras/RL_MountainCar_SARSA' target=\"_blank\">https://wandb.ai/abhijithvinod-indian-institue-of-technology-madras/RL_MountainCar_SARSA</a><br>Synced 5 W&B file(s), 0 media file(s), 0 artifact file(s) and 0 other file(s)"
            ]
          },
          "metadata": {}
        },
        {
          "output_type": "display_data",
          "data": {
            "text/plain": [
              "<IPython.core.display.HTML object>"
            ],
            "text/html": [
              "Find logs at: <code>./wandb/run-20250401_100410-byzgmzlq/logs</code>"
            ]
          },
          "metadata": {}
        },
        {
          "output_type": "stream",
          "name": "stderr",
          "text": [
            "\u001b[34m\u001b[1mwandb\u001b[0m: Agent Starting Run: gesmvirl with config:\n",
            "\u001b[34m\u001b[1mwandb\u001b[0m: \talpha: 0.15128481317662185\n",
            "\u001b[34m\u001b[1mwandb\u001b[0m: \tepsilon: 0.1147818633015786\n",
            "\u001b[34m\u001b[1mwandb\u001b[0m: \tgamma: 0.99\n",
            "\u001b[34m\u001b[1mwandb\u001b[0m: \tn_bins: 30\n",
            "\u001b[34m\u001b[1mwandb\u001b[0m: \tn_episodes: 3000\n",
            "\u001b[34m\u001b[1mwandb\u001b[0m: \tuse_reward_shaping: True\n"
          ]
        },
        {
          "output_type": "display_data",
          "data": {
            "text/plain": [
              "<IPython.core.display.HTML object>"
            ],
            "text/html": [
              "Tracking run with wandb version 0.19.8"
            ]
          },
          "metadata": {}
        },
        {
          "output_type": "display_data",
          "data": {
            "text/plain": [
              "<IPython.core.display.HTML object>"
            ],
            "text/html": [
              "Run data is saved locally in <code>/content/wandb/run-20250401_100752-gesmvirl</code>"
            ]
          },
          "metadata": {}
        },
        {
          "output_type": "display_data",
          "data": {
            "text/plain": [
              "<IPython.core.display.HTML object>"
            ],
            "text/html": [
              "Syncing run <strong><a href='https://wandb.ai/abhijithvinod-indian-institue-of-technology-madras/RL_MountainCar_SARSA/runs/gesmvirl' target=\"_blank\">ruby-sweep-7</a></strong> to <a href='https://wandb.ai/abhijithvinod-indian-institue-of-technology-madras/RL_MountainCar_SARSA' target=\"_blank\">Weights & Biases</a> (<a href='https://wandb.me/developer-guide' target=\"_blank\">docs</a>)<br>Sweep page: <a href='https://wandb.ai/abhijithvinod-indian-institue-of-technology-madras/RL_MountainCar_SARSA/sweeps/bfmad29r' target=\"_blank\">https://wandb.ai/abhijithvinod-indian-institue-of-technology-madras/RL_MountainCar_SARSA/sweeps/bfmad29r</a>"
            ]
          },
          "metadata": {}
        },
        {
          "output_type": "display_data",
          "data": {
            "text/plain": [
              "<IPython.core.display.HTML object>"
            ],
            "text/html": [
              " View project at <a href='https://wandb.ai/abhijithvinod-indian-institue-of-technology-madras/RL_MountainCar_SARSA' target=\"_blank\">https://wandb.ai/abhijithvinod-indian-institue-of-technology-madras/RL_MountainCar_SARSA</a>"
            ]
          },
          "metadata": {}
        },
        {
          "output_type": "display_data",
          "data": {
            "text/plain": [
              "<IPython.core.display.HTML object>"
            ],
            "text/html": [
              " View sweep at <a href='https://wandb.ai/abhijithvinod-indian-institue-of-technology-madras/RL_MountainCar_SARSA/sweeps/bfmad29r' target=\"_blank\">https://wandb.ai/abhijithvinod-indian-institue-of-technology-madras/RL_MountainCar_SARSA/sweeps/bfmad29r</a>"
            ]
          },
          "metadata": {}
        },
        {
          "output_type": "display_data",
          "data": {
            "text/plain": [
              "<IPython.core.display.HTML object>"
            ],
            "text/html": [
              " View run at <a href='https://wandb.ai/abhijithvinod-indian-institue-of-technology-madras/RL_MountainCar_SARSA/runs/gesmvirl' target=\"_blank\">https://wandb.ai/abhijithvinod-indian-institue-of-technology-madras/RL_MountainCar_SARSA/runs/gesmvirl</a>"
            ]
          },
          "metadata": {}
        },
        {
          "output_type": "display_data",
          "data": {
            "text/plain": [
              "<IPython.core.display.HTML object>"
            ],
            "text/html": []
          },
          "metadata": {}
        },
        {
          "output_type": "display_data",
          "data": {
            "text/plain": [
              "<IPython.core.display.HTML object>"
            ],
            "text/html": [
              "<br>    <style><br>        .wandb-row {<br>            display: flex;<br>            flex-direction: row;<br>            flex-wrap: wrap;<br>            justify-content: flex-start;<br>            width: 100%;<br>        }<br>        .wandb-col {<br>            display: flex;<br>            flex-direction: column;<br>            flex-basis: 100%;<br>            flex: 1;<br>            padding: 10px;<br>        }<br>    </style><br><div class=\"wandb-row\"><div class=\"wandb-col\"><h3>Run history:</h3><br/><table class=\"wandb\"><tr><td>average_reward_across_seeds</td><td>▁</td></tr><tr><td>seed_101_episode</td><td>▁▁▁▁▁▂▂▂▂▂▂▃▃▃▃▃▄▄▄▄▄▄▄▄▅▅▅▅▅▆▆▆▆▆▆▇████</td></tr><tr><td>seed_101_reward</td><td>▁▁▂▁▂▁▁▂▁▁▂▂▃▃▅▂▅▁▂▃▂▃▃▅▃▃▅▂▂▃▅▅█▇▆▅▇▅▅▅</td></tr><tr><td>seed_123_episode</td><td>▁▁▁▁▁▂▂▂▂▂▃▃▃▃▃▄▄▄▄▄▅▅▅▅▅▅▅▅▅▅▆▆▇▇▇█████</td></tr><tr><td>seed_123_reward</td><td>▁▁▁▁▁▁▁▁▁▁▁▁▁▂▂▂▃▂▂▂▄▂▂█▅▆▆▂▂▅▂▆▄▅▆▂▆▆▅▃</td></tr><tr><td>seed_42_episode</td><td>▁▁▁▁▁▂▂▂▂▂▂▂▂▃▃▃▃▃▃▃▃▄▄▄▄▅▅▅▅▅▆▆▆▆▆▆▇███</td></tr><tr><td>seed_42_reward</td><td>▁▁▁▁▁▂▁▂▁▁▁▂▂▁▂▁▁▅▃▂▂▃▂▃▂▂▅▃▅▆█▆▆▂▅▂▄▃▄▆</td></tr><tr><td>seed_456_episode</td><td>▁▁▁▁▁▂▂▂▂▃▃▃▄▄▄▄▄▄▅▅▅▅▅▅▅▅▅▆▆▆▆▆▇▇▇▇▇███</td></tr><tr><td>seed_456_reward</td><td>▁▁▁▁▁▁▁▁▁▁▁▂▁▁▂▂▅▂▂▃▂▄▁▃▅▃▁▃▅▆▂▂▄▄▃▃▆█▄▆</td></tr><tr><td>seed_789_episode</td><td>▁▁▁▁▂▂▂▂▂▂▂▂▂▃▃▃▃▃▄▅▅▅▆▆▆▇▇▇▇▇▇▇████████</td></tr><tr><td>seed_789_reward</td><td>▁▁▁▁▁▁▁▁▁▁▂▁▁▂▂▂▅▅▂▃▂▂▆▂▂▃▅▅▅▅▅▆▄▄▆▂▃▆▂█</td></tr></table><br/></div><div class=\"wandb-col\"><h3>Run summary:</h3><br/><table class=\"wandb\"><tr><td>average_reward_across_seeds</td><td>-140.1716</td></tr><tr><td>seed_101_episode</td><td>2999</td></tr><tr><td>seed_101_reward</td><td>-122.71031</td></tr><tr><td>seed_123_episode</td><td>2999</td></tr><tr><td>seed_123_reward</td><td>-185.3398</td></tr><tr><td>seed_42_episode</td><td>2999</td></tr><tr><td>seed_42_reward</td><td>-115.16272</td></tr><tr><td>seed_456_episode</td><td>2999</td></tr><tr><td>seed_456_reward</td><td>-129.29198</td></tr><tr><td>seed_789_episode</td><td>2999</td></tr><tr><td>seed_789_reward</td><td>-181.77509</td></tr></table><br/></div></div>"
            ]
          },
          "metadata": {}
        },
        {
          "output_type": "display_data",
          "data": {
            "text/plain": [
              "<IPython.core.display.HTML object>"
            ],
            "text/html": [
              " View run <strong style=\"color:#cdcd00\">ruby-sweep-7</strong> at: <a href='https://wandb.ai/abhijithvinod-indian-institue-of-technology-madras/RL_MountainCar_SARSA/runs/gesmvirl' target=\"_blank\">https://wandb.ai/abhijithvinod-indian-institue-of-technology-madras/RL_MountainCar_SARSA/runs/gesmvirl</a><br> View project at: <a href='https://wandb.ai/abhijithvinod-indian-institue-of-technology-madras/RL_MountainCar_SARSA' target=\"_blank\">https://wandb.ai/abhijithvinod-indian-institue-of-technology-madras/RL_MountainCar_SARSA</a><br>Synced 5 W&B file(s), 0 media file(s), 0 artifact file(s) and 0 other file(s)"
            ]
          },
          "metadata": {}
        },
        {
          "output_type": "display_data",
          "data": {
            "text/plain": [
              "<IPython.core.display.HTML object>"
            ],
            "text/html": [
              "Find logs at: <code>./wandb/run-20250401_100752-gesmvirl/logs</code>"
            ]
          },
          "metadata": {}
        },
        {
          "output_type": "stream",
          "name": "stderr",
          "text": [
            "\u001b[34m\u001b[1mwandb\u001b[0m: Agent Starting Run: 0eeleyu3 with config:\n",
            "\u001b[34m\u001b[1mwandb\u001b[0m: \talpha: 0.10488543342524066\n",
            "\u001b[34m\u001b[1mwandb\u001b[0m: \tepsilon: 0.08840683178064657\n",
            "\u001b[34m\u001b[1mwandb\u001b[0m: \tgamma: 0.99\n",
            "\u001b[34m\u001b[1mwandb\u001b[0m: \tn_bins: 25\n",
            "\u001b[34m\u001b[1mwandb\u001b[0m: \tn_episodes: 3000\n",
            "\u001b[34m\u001b[1mwandb\u001b[0m: \tuse_reward_shaping: True\n"
          ]
        },
        {
          "output_type": "display_data",
          "data": {
            "text/plain": [
              "<IPython.core.display.HTML object>"
            ],
            "text/html": [
              "Tracking run with wandb version 0.19.8"
            ]
          },
          "metadata": {}
        },
        {
          "output_type": "display_data",
          "data": {
            "text/plain": [
              "<IPython.core.display.HTML object>"
            ],
            "text/html": [
              "Run data is saved locally in <code>/content/wandb/run-20250401_101146-0eeleyu3</code>"
            ]
          },
          "metadata": {}
        },
        {
          "output_type": "display_data",
          "data": {
            "text/plain": [
              "<IPython.core.display.HTML object>"
            ],
            "text/html": [
              "Syncing run <strong><a href='https://wandb.ai/abhijithvinod-indian-institue-of-technology-madras/RL_MountainCar_SARSA/runs/0eeleyu3' target=\"_blank\">decent-sweep-8</a></strong> to <a href='https://wandb.ai/abhijithvinod-indian-institue-of-technology-madras/RL_MountainCar_SARSA' target=\"_blank\">Weights & Biases</a> (<a href='https://wandb.me/developer-guide' target=\"_blank\">docs</a>)<br>Sweep page: <a href='https://wandb.ai/abhijithvinod-indian-institue-of-technology-madras/RL_MountainCar_SARSA/sweeps/bfmad29r' target=\"_blank\">https://wandb.ai/abhijithvinod-indian-institue-of-technology-madras/RL_MountainCar_SARSA/sweeps/bfmad29r</a>"
            ]
          },
          "metadata": {}
        },
        {
          "output_type": "display_data",
          "data": {
            "text/plain": [
              "<IPython.core.display.HTML object>"
            ],
            "text/html": [
              " View project at <a href='https://wandb.ai/abhijithvinod-indian-institue-of-technology-madras/RL_MountainCar_SARSA' target=\"_blank\">https://wandb.ai/abhijithvinod-indian-institue-of-technology-madras/RL_MountainCar_SARSA</a>"
            ]
          },
          "metadata": {}
        },
        {
          "output_type": "display_data",
          "data": {
            "text/plain": [
              "<IPython.core.display.HTML object>"
            ],
            "text/html": [
              " View sweep at <a href='https://wandb.ai/abhijithvinod-indian-institue-of-technology-madras/RL_MountainCar_SARSA/sweeps/bfmad29r' target=\"_blank\">https://wandb.ai/abhijithvinod-indian-institue-of-technology-madras/RL_MountainCar_SARSA/sweeps/bfmad29r</a>"
            ]
          },
          "metadata": {}
        },
        {
          "output_type": "display_data",
          "data": {
            "text/plain": [
              "<IPython.core.display.HTML object>"
            ],
            "text/html": [
              " View run at <a href='https://wandb.ai/abhijithvinod-indian-institue-of-technology-madras/RL_MountainCar_SARSA/runs/0eeleyu3' target=\"_blank\">https://wandb.ai/abhijithvinod-indian-institue-of-technology-madras/RL_MountainCar_SARSA/runs/0eeleyu3</a>"
            ]
          },
          "metadata": {}
        },
        {
          "output_type": "display_data",
          "data": {
            "text/plain": [
              "<IPython.core.display.HTML object>"
            ],
            "text/html": []
          },
          "metadata": {}
        },
        {
          "output_type": "display_data",
          "data": {
            "text/plain": [
              "<IPython.core.display.HTML object>"
            ],
            "text/html": [
              "<br>    <style><br>        .wandb-row {<br>            display: flex;<br>            flex-direction: row;<br>            flex-wrap: wrap;<br>            justify-content: flex-start;<br>            width: 100%;<br>        }<br>        .wandb-col {<br>            display: flex;<br>            flex-direction: column;<br>            flex-basis: 100%;<br>            flex: 1;<br>            padding: 10px;<br>        }<br>    </style><br><div class=\"wandb-row\"><div class=\"wandb-col\"><h3>Run history:</h3><br/><table class=\"wandb\"><tr><td>average_reward_across_seeds</td><td>▁</td></tr><tr><td>seed_101_episode</td><td>▁▁▁▁▁▂▂▂▂▃▃▃▃▄▄▄▅▅▅▅▅▅▆▆▆▆▆▆▆▆▇▇▇▇▇▇████</td></tr><tr><td>seed_101_reward</td><td>▁▁▁▁▁▁▅▂▁▂▂▂▁▅▁▃▃▁▅▅▂▂▃▃█▂▆▅█▅▅▃▄▃▆▂▂█▂▃</td></tr><tr><td>seed_123_episode</td><td>▁▂▂▂▂▂▂▂▂▂▂▂▃▃▃▃▃▄▄▄▄▄▄▅▅▅▅▅▆▆▆▆▆▇▇▇▇▇██</td></tr><tr><td>seed_123_reward</td><td>▁▁▂▁▁▁▁▂▂▂▂▂▃▃▂▇▂▂▄▂▄▇▆█▇▆▇▇▆▅▅▄▄▂█▆▇▇▄█</td></tr><tr><td>seed_42_episode</td><td>▁▁▂▂▂▂▂▂▃▃▃▃▃▃▃▄▄▄▄▄▅▅▅▅▅▆▆▆▆▆▆▆▇▇▇▇████</td></tr><tr><td>seed_42_reward</td><td>▁▁▁▁▁▁▄▁▁▂▁▅▁▂▁▂▁▂▁▂▅▃▃▆▅▄▆▁▂█▂▆▁▆▆▆▇▅█▁</td></tr><tr><td>seed_456_episode</td><td>▁▁▂▂▂▃▃▃▃▃▄▄▄▄▄▄▄▄▄▅▅▅▅▅▅▅▆▆▆▆▆▇▇▇▇█████</td></tr><tr><td>seed_456_reward</td><td>▁▁▁▁▁▁▁▁▁▁▁▁▁▁▁▁▄▁▄▅▂▅▃▄▅▂▄▆▃▃▆▅▅█▅▇▄▂▃▃</td></tr><tr><td>seed_789_episode</td><td>▁▁▁▁▁▂▂▂▂▂▃▃▃▃▄▄▄▄▄▄▅▅▅▅▅▆▆▆▆▆▆▆▇▇▇▇▇▇██</td></tr><tr><td>seed_789_reward</td><td>▁▁▁▁▁▁▁▂▂▂▂▂▂▂▂▅▆▂▅▇▂▂▂▂▅▂▅▅▃█▅▃▅▃▂▅▅▂▂▆</td></tr></table><br/></div><div class=\"wandb-col\"><h3>Run summary:</h3><br/><table class=\"wandb\"><tr><td>average_reward_across_seeds</td><td>-142.63943</td></tr><tr><td>seed_101_episode</td><td>2999</td></tr><tr><td>seed_101_reward</td><td>-125.79268</td></tr><tr><td>seed_123_episode</td><td>2999</td></tr><tr><td>seed_123_reward</td><td>-105.25335</td></tr><tr><td>seed_42_episode</td><td>2999</td></tr><tr><td>seed_42_reward</td><td>-163.22974</td></tr><tr><td>seed_456_episode</td><td>2999</td></tr><tr><td>seed_456_reward</td><td>-128.40443</td></tr><tr><td>seed_789_episode</td><td>2999</td></tr><tr><td>seed_789_reward</td><td>-150.57263</td></tr></table><br/></div></div>"
            ]
          },
          "metadata": {}
        },
        {
          "output_type": "display_data",
          "data": {
            "text/plain": [
              "<IPython.core.display.HTML object>"
            ],
            "text/html": [
              " View run <strong style=\"color:#cdcd00\">decent-sweep-8</strong> at: <a href='https://wandb.ai/abhijithvinod-indian-institue-of-technology-madras/RL_MountainCar_SARSA/runs/0eeleyu3' target=\"_blank\">https://wandb.ai/abhijithvinod-indian-institue-of-technology-madras/RL_MountainCar_SARSA/runs/0eeleyu3</a><br> View project at: <a href='https://wandb.ai/abhijithvinod-indian-institue-of-technology-madras/RL_MountainCar_SARSA' target=\"_blank\">https://wandb.ai/abhijithvinod-indian-institue-of-technology-madras/RL_MountainCar_SARSA</a><br>Synced 5 W&B file(s), 0 media file(s), 0 artifact file(s) and 0 other file(s)"
            ]
          },
          "metadata": {}
        },
        {
          "output_type": "display_data",
          "data": {
            "text/plain": [
              "<IPython.core.display.HTML object>"
            ],
            "text/html": [
              "Find logs at: <code>./wandb/run-20250401_101146-0eeleyu3/logs</code>"
            ]
          },
          "metadata": {}
        },
        {
          "output_type": "stream",
          "name": "stderr",
          "text": [
            "\u001b[34m\u001b[1mwandb\u001b[0m: Sweep Agent: Waiting for job.\n",
            "\u001b[34m\u001b[1mwandb\u001b[0m: Job received.\n",
            "\u001b[34m\u001b[1mwandb\u001b[0m: Agent Starting Run: cx4cw3g3 with config:\n",
            "\u001b[34m\u001b[1mwandb\u001b[0m: \talpha: 0.16915218727971876\n",
            "\u001b[34m\u001b[1mwandb\u001b[0m: \tepsilon: 0.18707818438154208\n",
            "\u001b[34m\u001b[1mwandb\u001b[0m: \tgamma: 0.99\n",
            "\u001b[34m\u001b[1mwandb\u001b[0m: \tn_bins: 25\n",
            "\u001b[34m\u001b[1mwandb\u001b[0m: \tn_episodes: 3000\n",
            "\u001b[34m\u001b[1mwandb\u001b[0m: \tuse_reward_shaping: True\n"
          ]
        },
        {
          "output_type": "display_data",
          "data": {
            "text/plain": [
              "<IPython.core.display.HTML object>"
            ],
            "text/html": [
              "Tracking run with wandb version 0.19.8"
            ]
          },
          "metadata": {}
        },
        {
          "output_type": "display_data",
          "data": {
            "text/plain": [
              "<IPython.core.display.HTML object>"
            ],
            "text/html": [
              "Run data is saved locally in <code>/content/wandb/run-20250401_101549-cx4cw3g3</code>"
            ]
          },
          "metadata": {}
        },
        {
          "output_type": "display_data",
          "data": {
            "text/plain": [
              "<IPython.core.display.HTML object>"
            ],
            "text/html": [
              "Syncing run <strong><a href='https://wandb.ai/abhijithvinod-indian-institue-of-technology-madras/RL_MountainCar_SARSA/runs/cx4cw3g3' target=\"_blank\">stoic-sweep-9</a></strong> to <a href='https://wandb.ai/abhijithvinod-indian-institue-of-technology-madras/RL_MountainCar_SARSA' target=\"_blank\">Weights & Biases</a> (<a href='https://wandb.me/developer-guide' target=\"_blank\">docs</a>)<br>Sweep page: <a href='https://wandb.ai/abhijithvinod-indian-institue-of-technology-madras/RL_MountainCar_SARSA/sweeps/bfmad29r' target=\"_blank\">https://wandb.ai/abhijithvinod-indian-institue-of-technology-madras/RL_MountainCar_SARSA/sweeps/bfmad29r</a>"
            ]
          },
          "metadata": {}
        },
        {
          "output_type": "display_data",
          "data": {
            "text/plain": [
              "<IPython.core.display.HTML object>"
            ],
            "text/html": [
              " View project at <a href='https://wandb.ai/abhijithvinod-indian-institue-of-technology-madras/RL_MountainCar_SARSA' target=\"_blank\">https://wandb.ai/abhijithvinod-indian-institue-of-technology-madras/RL_MountainCar_SARSA</a>"
            ]
          },
          "metadata": {}
        },
        {
          "output_type": "display_data",
          "data": {
            "text/plain": [
              "<IPython.core.display.HTML object>"
            ],
            "text/html": [
              " View sweep at <a href='https://wandb.ai/abhijithvinod-indian-institue-of-technology-madras/RL_MountainCar_SARSA/sweeps/bfmad29r' target=\"_blank\">https://wandb.ai/abhijithvinod-indian-institue-of-technology-madras/RL_MountainCar_SARSA/sweeps/bfmad29r</a>"
            ]
          },
          "metadata": {}
        },
        {
          "output_type": "display_data",
          "data": {
            "text/plain": [
              "<IPython.core.display.HTML object>"
            ],
            "text/html": [
              " View run at <a href='https://wandb.ai/abhijithvinod-indian-institue-of-technology-madras/RL_MountainCar_SARSA/runs/cx4cw3g3' target=\"_blank\">https://wandb.ai/abhijithvinod-indian-institue-of-technology-madras/RL_MountainCar_SARSA/runs/cx4cw3g3</a>"
            ]
          },
          "metadata": {}
        },
        {
          "output_type": "display_data",
          "data": {
            "text/plain": [
              "<IPython.core.display.HTML object>"
            ],
            "text/html": []
          },
          "metadata": {}
        },
        {
          "output_type": "display_data",
          "data": {
            "text/plain": [
              "<IPython.core.display.HTML object>"
            ],
            "text/html": [
              "<br>    <style><br>        .wandb-row {<br>            display: flex;<br>            flex-direction: row;<br>            flex-wrap: wrap;<br>            justify-content: flex-start;<br>            width: 100%;<br>        }<br>        .wandb-col {<br>            display: flex;<br>            flex-direction: column;<br>            flex-basis: 100%;<br>            flex: 1;<br>            padding: 10px;<br>        }<br>    </style><br><div class=\"wandb-row\"><div class=\"wandb-col\"><h3>Run history:</h3><br/><table class=\"wandb\"><tr><td>average_reward_across_seeds</td><td>▁</td></tr><tr><td>seed_101_episode</td><td>▁▂▂▂▂▂▃▃▃▃▄▄▄▄▅▅▅▅▅▅▅▆▆▆▆▇▇▇▇▇▇▇▇▇▇▇▇███</td></tr><tr><td>seed_101_reward</td><td>▁▁▁▁▁▁▂▂▅▂▂▂▂▂▂▆▂▂▇▄▇▆▅▂▂▂▄▄▂▂▇▃▇▇▃█▂▇▆▇</td></tr><tr><td>seed_123_episode</td><td>▁▂▂▂▂▂▂▂▃▃▃▃▃▃▃▄▄▄▄▄▄▄▄▄▄▅▅▅▅▅▆▆▆▆▆▇▇▇▇█</td></tr><tr><td>seed_123_reward</td><td>▁▁▂▁▂▁▃▃▆▂▂▂▂▂▂▂▂▂▂▃▂▂▂▆▇█▄▄█▇▄█▃▂▅▇▂▆▂▃</td></tr><tr><td>seed_42_episode</td><td>▁▁▁▂▂▂▂▂▂▂▃▃▃▃▃▄▄▄▄▅▅▆▆▆▆▆▆▆▆▆▇▇▇▇▇█████</td></tr><tr><td>seed_42_reward</td><td>▁▁▁▁▁▂▅▂▄▆▄▆▂▆▁▁▃▃▃▄▆▂▃▄▆▃█▆▆▇▇▂▂▂▇▃▆▅▂▃</td></tr><tr><td>seed_456_episode</td><td>▁▁▁▁▁▂▂▂▂▂▃▃▃▃▃▄▄▄▄▅▅▅▅▅▅▆▆▆▆▆▆▇▇▇▇▇▇███</td></tr><tr><td>seed_456_reward</td><td>▁▁▁▁▁▂▁▂▂▁▁▃▁▃▄▃▅▄▂▃█▆▃▆▅▁▆▅▃▆▅▅▆▆▃▆▃▃▇▆</td></tr><tr><td>seed_789_episode</td><td>▁▁▁▁▁▂▂▂▂▂▃▃▃▃▄▄▄▄▄▄▅▅▅▅▅▆▆▆▆▆▇▇▇▇▇▇████</td></tr><tr><td>seed_789_reward</td><td>▁▁▁▁▁▁▁▁▁▂▃▃▃▃▃▂▂▂▂▅▅▃▅▇▄▂▂▂▆▅▆▆▅▃█▅▅▂▃▂</td></tr></table><br/></div><div class=\"wandb-col\"><h3>Run summary:</h3><br/><table class=\"wandb\"><tr><td>average_reward_across_seeds</td><td>-141.27885</td></tr><tr><td>seed_101_episode</td><td>2999</td></tr><tr><td>seed_101_reward</td><td>-128.07826</td></tr><tr><td>seed_123_episode</td><td>2999</td></tr><tr><td>seed_123_reward</td><td>-174.31856</td></tr><tr><td>seed_42_episode</td><td>2999</td></tr><tr><td>seed_42_reward</td><td>-166.33568</td></tr><tr><td>seed_456_episode</td><td>2999</td></tr><tr><td>seed_456_reward</td><td>-126.59322</td></tr><tr><td>seed_789_episode</td><td>2999</td></tr><tr><td>seed_789_reward</td><td>-129.56108</td></tr></table><br/></div></div>"
            ]
          },
          "metadata": {}
        },
        {
          "output_type": "display_data",
          "data": {
            "text/plain": [
              "<IPython.core.display.HTML object>"
            ],
            "text/html": [
              " View run <strong style=\"color:#cdcd00\">stoic-sweep-9</strong> at: <a href='https://wandb.ai/abhijithvinod-indian-institue-of-technology-madras/RL_MountainCar_SARSA/runs/cx4cw3g3' target=\"_blank\">https://wandb.ai/abhijithvinod-indian-institue-of-technology-madras/RL_MountainCar_SARSA/runs/cx4cw3g3</a><br> View project at: <a href='https://wandb.ai/abhijithvinod-indian-institue-of-technology-madras/RL_MountainCar_SARSA' target=\"_blank\">https://wandb.ai/abhijithvinod-indian-institue-of-technology-madras/RL_MountainCar_SARSA</a><br>Synced 5 W&B file(s), 0 media file(s), 0 artifact file(s) and 0 other file(s)"
            ]
          },
          "metadata": {}
        },
        {
          "output_type": "display_data",
          "data": {
            "text/plain": [
              "<IPython.core.display.HTML object>"
            ],
            "text/html": [
              "Find logs at: <code>./wandb/run-20250401_101549-cx4cw3g3/logs</code>"
            ]
          },
          "metadata": {}
        },
        {
          "output_type": "stream",
          "name": "stderr",
          "text": [
            "\u001b[34m\u001b[1mwandb\u001b[0m: Agent Starting Run: 4p4y9cun with config:\n",
            "\u001b[34m\u001b[1mwandb\u001b[0m: \talpha: 0.23220019398313332\n",
            "\u001b[34m\u001b[1mwandb\u001b[0m: \tepsilon: 0.09204928934834576\n",
            "\u001b[34m\u001b[1mwandb\u001b[0m: \tgamma: 0.99\n",
            "\u001b[34m\u001b[1mwandb\u001b[0m: \tn_bins: 25\n",
            "\u001b[34m\u001b[1mwandb\u001b[0m: \tn_episodes: 3000\n",
            "\u001b[34m\u001b[1mwandb\u001b[0m: \tuse_reward_shaping: True\n"
          ]
        },
        {
          "output_type": "display_data",
          "data": {
            "text/plain": [
              "<IPython.core.display.HTML object>"
            ],
            "text/html": [
              "Tracking run with wandb version 0.19.8"
            ]
          },
          "metadata": {}
        },
        {
          "output_type": "display_data",
          "data": {
            "text/plain": [
              "<IPython.core.display.HTML object>"
            ],
            "text/html": [
              "Run data is saved locally in <code>/content/wandb/run-20250401_101948-4p4y9cun</code>"
            ]
          },
          "metadata": {}
        },
        {
          "output_type": "display_data",
          "data": {
            "text/plain": [
              "<IPython.core.display.HTML object>"
            ],
            "text/html": [
              "Syncing run <strong><a href='https://wandb.ai/abhijithvinod-indian-institue-of-technology-madras/RL_MountainCar_SARSA/runs/4p4y9cun' target=\"_blank\">generous-sweep-10</a></strong> to <a href='https://wandb.ai/abhijithvinod-indian-institue-of-technology-madras/RL_MountainCar_SARSA' target=\"_blank\">Weights & Biases</a> (<a href='https://wandb.me/developer-guide' target=\"_blank\">docs</a>)<br>Sweep page: <a href='https://wandb.ai/abhijithvinod-indian-institue-of-technology-madras/RL_MountainCar_SARSA/sweeps/bfmad29r' target=\"_blank\">https://wandb.ai/abhijithvinod-indian-institue-of-technology-madras/RL_MountainCar_SARSA/sweeps/bfmad29r</a>"
            ]
          },
          "metadata": {}
        },
        {
          "output_type": "display_data",
          "data": {
            "text/plain": [
              "<IPython.core.display.HTML object>"
            ],
            "text/html": [
              " View project at <a href='https://wandb.ai/abhijithvinod-indian-institue-of-technology-madras/RL_MountainCar_SARSA' target=\"_blank\">https://wandb.ai/abhijithvinod-indian-institue-of-technology-madras/RL_MountainCar_SARSA</a>"
            ]
          },
          "metadata": {}
        },
        {
          "output_type": "display_data",
          "data": {
            "text/plain": [
              "<IPython.core.display.HTML object>"
            ],
            "text/html": [
              " View sweep at <a href='https://wandb.ai/abhijithvinod-indian-institue-of-technology-madras/RL_MountainCar_SARSA/sweeps/bfmad29r' target=\"_blank\">https://wandb.ai/abhijithvinod-indian-institue-of-technology-madras/RL_MountainCar_SARSA/sweeps/bfmad29r</a>"
            ]
          },
          "metadata": {}
        },
        {
          "output_type": "display_data",
          "data": {
            "text/plain": [
              "<IPython.core.display.HTML object>"
            ],
            "text/html": [
              " View run at <a href='https://wandb.ai/abhijithvinod-indian-institue-of-technology-madras/RL_MountainCar_SARSA/runs/4p4y9cun' target=\"_blank\">https://wandb.ai/abhijithvinod-indian-institue-of-technology-madras/RL_MountainCar_SARSA/runs/4p4y9cun</a>"
            ]
          },
          "metadata": {}
        },
        {
          "output_type": "display_data",
          "data": {
            "text/plain": [
              "<IPython.core.display.HTML object>"
            ],
            "text/html": []
          },
          "metadata": {}
        },
        {
          "output_type": "display_data",
          "data": {
            "text/plain": [
              "<IPython.core.display.HTML object>"
            ],
            "text/html": [
              "<br>    <style><br>        .wandb-row {<br>            display: flex;<br>            flex-direction: row;<br>            flex-wrap: wrap;<br>            justify-content: flex-start;<br>            width: 100%;<br>        }<br>        .wandb-col {<br>            display: flex;<br>            flex-direction: column;<br>            flex-basis: 100%;<br>            flex: 1;<br>            padding: 10px;<br>        }<br>    </style><br><div class=\"wandb-row\"><div class=\"wandb-col\"><h3>Run history:</h3><br/><table class=\"wandb\"><tr><td>average_reward_across_seeds</td><td>▁</td></tr><tr><td>seed_101_episode</td><td>▁▁▁▁▂▂▂▂▃▃▃▃▃▃▃▄▄▄▄▄▄▄▅▅▅▅▅▅▆▆▆▆▆▆▆▇▇▇▇█</td></tr><tr><td>seed_101_reward</td><td>▁▁▁▅▂▂▂▂▆▅▅▃▄▃▅▅▅█▅▆▂▅▅▆▇▄▅▃▆▅▅▆▆▇▆▇▆▂▂▅</td></tr><tr><td>seed_123_episode</td><td>▁▁▁▁▁▂▂▂▂▂▃▃▃▃▃▃▃▃▄▄▅▅▅▅▆▆▆▆▆▆▇▇▇▇▇▇▇███</td></tr><tr><td>seed_123_reward</td><td>▁▁▁▁▁▁▄▁▂▁▁▁▅▁▄▁▃▆▂▂█▆▆▁▅▄▅█▅▅▃▆▆▇▃▇▅▅▅▅</td></tr><tr><td>seed_42_episode</td><td>▁▁▂▂▂▂▃▃▃▄▄▄▄▄▄▅▅▅▅▅▅▅▅▅▅▆▆▆▆▆▆▆▇▇▇▇▇▇▇█</td></tr><tr><td>seed_42_reward</td><td>▁▁▁▂▁▁▂▁▁▁▆▅▃▂▄▅▁▃▅▅▅▃▄▅▃▇▆▆▆▆█▂▅▂▃▃▅▆▅█</td></tr><tr><td>seed_456_episode</td><td>▁▁▁▂▂▂▂▂▂▂▂▃▃▃▃▄▄▄▄▄▄▅▅▅▅▅▆▆▆▆▆▇▇▇▇▇▇▇██</td></tr><tr><td>seed_456_reward</td><td>▁▁▁▁▁▂▁▂▁▂▂▁▂▅▂▃▆▅▆▆▅█▆▃▆▆█▇▂▆▅▁▆▆▇▆▃▆▅▃</td></tr><tr><td>seed_789_episode</td><td>▁▁▁▁▁▁▂▂▃▃▃▃▃▄▄▄▄▄▅▅▅▅▅▅▆▆▆▆▆▆▇▇▇▇▇▇████</td></tr><tr><td>seed_789_reward</td><td>▁▁▁▁▁▁▇▃▂▃▄▄▂▂▆▁▃▄▇▇▇▄▄▄▂▆▇▇▆▇██▇▂▇▄███▄</td></tr></table><br/></div><div class=\"wandb-col\"><h3>Run summary:</h3><br/><table class=\"wandb\"><tr><td>average_reward_across_seeds</td><td>-134.66859</td></tr><tr><td>seed_101_episode</td><td>2999</td></tr><tr><td>seed_101_reward</td><td>-133.83936</td></tr><tr><td>seed_123_episode</td><td>2999</td></tr><tr><td>seed_123_reward</td><td>-105.95714</td></tr><tr><td>seed_42_episode</td><td>2999</td></tr><tr><td>seed_42_reward</td><td>-98.48641</td></tr><tr><td>seed_456_episode</td><td>2999</td></tr><tr><td>seed_456_reward</td><td>-124.87433</td></tr><tr><td>seed_789_episode</td><td>2999</td></tr><tr><td>seed_789_reward</td><td>-133.88228</td></tr></table><br/></div></div>"
            ]
          },
          "metadata": {}
        },
        {
          "output_type": "display_data",
          "data": {
            "text/plain": [
              "<IPython.core.display.HTML object>"
            ],
            "text/html": [
              " View run <strong style=\"color:#cdcd00\">generous-sweep-10</strong> at: <a href='https://wandb.ai/abhijithvinod-indian-institue-of-technology-madras/RL_MountainCar_SARSA/runs/4p4y9cun' target=\"_blank\">https://wandb.ai/abhijithvinod-indian-institue-of-technology-madras/RL_MountainCar_SARSA/runs/4p4y9cun</a><br> View project at: <a href='https://wandb.ai/abhijithvinod-indian-institue-of-technology-madras/RL_MountainCar_SARSA' target=\"_blank\">https://wandb.ai/abhijithvinod-indian-institue-of-technology-madras/RL_MountainCar_SARSA</a><br>Synced 5 W&B file(s), 0 media file(s), 0 artifact file(s) and 0 other file(s)"
            ]
          },
          "metadata": {}
        },
        {
          "output_type": "display_data",
          "data": {
            "text/plain": [
              "<IPython.core.display.HTML object>"
            ],
            "text/html": [
              "Find logs at: <code>./wandb/run-20250401_101948-4p4y9cun/logs</code>"
            ]
          },
          "metadata": {}
        },
        {
          "output_type": "stream",
          "name": "stderr",
          "text": [
            "\u001b[34m\u001b[1mwandb\u001b[0m: Agent Starting Run: yabf0vrs with config:\n",
            "\u001b[34m\u001b[1mwandb\u001b[0m: \talpha: 0.2736010225774256\n",
            "\u001b[34m\u001b[1mwandb\u001b[0m: \tepsilon: 0.06533923491402369\n",
            "\u001b[34m\u001b[1mwandb\u001b[0m: \tgamma: 0.99\n",
            "\u001b[34m\u001b[1mwandb\u001b[0m: \tn_bins: 30\n",
            "\u001b[34m\u001b[1mwandb\u001b[0m: \tn_episodes: 3000\n",
            "\u001b[34m\u001b[1mwandb\u001b[0m: \tuse_reward_shaping: True\n"
          ]
        },
        {
          "output_type": "display_data",
          "data": {
            "text/plain": [
              "<IPython.core.display.HTML object>"
            ],
            "text/html": [
              "Tracking run with wandb version 0.19.8"
            ]
          },
          "metadata": {}
        },
        {
          "output_type": "display_data",
          "data": {
            "text/plain": [
              "<IPython.core.display.HTML object>"
            ],
            "text/html": [
              "Run data is saved locally in <code>/content/wandb/run-20250401_102332-yabf0vrs</code>"
            ]
          },
          "metadata": {}
        },
        {
          "output_type": "display_data",
          "data": {
            "text/plain": [
              "<IPython.core.display.HTML object>"
            ],
            "text/html": [
              "Syncing run <strong><a href='https://wandb.ai/abhijithvinod-indian-institue-of-technology-madras/RL_MountainCar_SARSA/runs/yabf0vrs' target=\"_blank\">jolly-sweep-11</a></strong> to <a href='https://wandb.ai/abhijithvinod-indian-institue-of-technology-madras/RL_MountainCar_SARSA' target=\"_blank\">Weights & Biases</a> (<a href='https://wandb.me/developer-guide' target=\"_blank\">docs</a>)<br>Sweep page: <a href='https://wandb.ai/abhijithvinod-indian-institue-of-technology-madras/RL_MountainCar_SARSA/sweeps/bfmad29r' target=\"_blank\">https://wandb.ai/abhijithvinod-indian-institue-of-technology-madras/RL_MountainCar_SARSA/sweeps/bfmad29r</a>"
            ]
          },
          "metadata": {}
        },
        {
          "output_type": "display_data",
          "data": {
            "text/plain": [
              "<IPython.core.display.HTML object>"
            ],
            "text/html": [
              " View project at <a href='https://wandb.ai/abhijithvinod-indian-institue-of-technology-madras/RL_MountainCar_SARSA' target=\"_blank\">https://wandb.ai/abhijithvinod-indian-institue-of-technology-madras/RL_MountainCar_SARSA</a>"
            ]
          },
          "metadata": {}
        },
        {
          "output_type": "display_data",
          "data": {
            "text/plain": [
              "<IPython.core.display.HTML object>"
            ],
            "text/html": [
              " View sweep at <a href='https://wandb.ai/abhijithvinod-indian-institue-of-technology-madras/RL_MountainCar_SARSA/sweeps/bfmad29r' target=\"_blank\">https://wandb.ai/abhijithvinod-indian-institue-of-technology-madras/RL_MountainCar_SARSA/sweeps/bfmad29r</a>"
            ]
          },
          "metadata": {}
        },
        {
          "output_type": "display_data",
          "data": {
            "text/plain": [
              "<IPython.core.display.HTML object>"
            ],
            "text/html": [
              " View run at <a href='https://wandb.ai/abhijithvinod-indian-institue-of-technology-madras/RL_MountainCar_SARSA/runs/yabf0vrs' target=\"_blank\">https://wandb.ai/abhijithvinod-indian-institue-of-technology-madras/RL_MountainCar_SARSA/runs/yabf0vrs</a>"
            ]
          },
          "metadata": {}
        },
        {
          "output_type": "display_data",
          "data": {
            "text/plain": [
              "<IPython.core.display.HTML object>"
            ],
            "text/html": []
          },
          "metadata": {}
        },
        {
          "output_type": "display_data",
          "data": {
            "text/plain": [
              "<IPython.core.display.HTML object>"
            ],
            "text/html": [
              "<br>    <style><br>        .wandb-row {<br>            display: flex;<br>            flex-direction: row;<br>            flex-wrap: wrap;<br>            justify-content: flex-start;<br>            width: 100%;<br>        }<br>        .wandb-col {<br>            display: flex;<br>            flex-direction: column;<br>            flex-basis: 100%;<br>            flex: 1;<br>            padding: 10px;<br>        }<br>    </style><br><div class=\"wandb-row\"><div class=\"wandb-col\"><h3>Run history:</h3><br/><table class=\"wandb\"><tr><td>average_reward_across_seeds</td><td>▁</td></tr><tr><td>seed_101_episode</td><td>▁▁▂▂▂▃▃▃▃▃▃▃▄▄▄▄▄▄▄▄▅▅▅▅▅▆▆▆▆▆▆▇▇▇▇▇████</td></tr><tr><td>seed_101_reward</td><td>▁▁▁▁▂▂▂▂▃▂▂▆▆▂▂▆▆▆▂▂█▆▆▆▂▆▆▂▄▃▆▄▆▂▆▇▇▃▆▆</td></tr><tr><td>seed_123_episode</td><td>▁▁▁▂▂▂▂▂▂▂▃▃▃▃▃▃▃▄▄▄▄▄▄▅▅▅▅▆▆▆▆▆▆▆▇▇▇▇██</td></tr><tr><td>seed_123_reward</td><td>▁▁▁▁▁▁▂▂▁▄▂▅▂▂▃▄▅▃▂▆▂▆██▆▄▃▂▂▄▅▄▃▂▃▄▂▆▆▆</td></tr><tr><td>seed_42_episode</td><td>▁▁▁▁▂▂▂▂▂▂▃▃▃▃▃▄▄▄▄▄▅▅▅▅▅▅▆▆▆▆▇▇▇▇▇▇████</td></tr><tr><td>seed_42_reward</td><td>▁▁▁▁▂▁▂▂▂▃▃▁▂▇▄▃▂▆▄▂▄▄█▃▄▂▂▂▅▇▂▄▄█▆▅▆█▇█</td></tr><tr><td>seed_456_episode</td><td>▁▁▂▂▂▂▂▂▃▃▃▃▃▃▃▄▄▅▅▅▅▅▅▅▆▆▆▆▆▆▇▇▇▇▇█████</td></tr><tr><td>seed_456_reward</td><td>▁▁▁▁▆▆▁▃▂▁▄▄▂▇▂▂▇▆▇▅▆▇▂▆▇█▂▅█▇▇▅▇▂▂▅█▂▂▃</td></tr><tr><td>seed_789_episode</td><td>▁▁▁▁▂▂▂▂▂▂▂▃▃▃▃▃▃▃▃▃▄▄▄▄▄▅▅▅▅▅▆▆▆▆▆▇▇▇██</td></tr><tr><td>seed_789_reward</td><td>▁▁▁▁▁▁▅▂▅▂▁▂▂▁▅█▅▄▅▆▅▃▃▆▆▅▂▆▃▅█▆▄▂▆▅▆▄▃▆</td></tr></table><br/></div><div class=\"wandb-col\"><h3>Run summary:</h3><br/><table class=\"wandb\"><tr><td>average_reward_across_seeds</td><td>-136.60843</td></tr><tr><td>seed_101_episode</td><td>2999</td></tr><tr><td>seed_101_reward</td><td>-124.40042</td></tr><tr><td>seed_123_episode</td><td>2999</td></tr><tr><td>seed_123_reward</td><td>-143.4783</td></tr><tr><td>seed_42_episode</td><td>2999</td></tr><tr><td>seed_42_reward</td><td>-164.36186</td></tr><tr><td>seed_456_episode</td><td>2999</td></tr><tr><td>seed_456_reward</td><td>-130.69432</td></tr><tr><td>seed_789_episode</td><td>2999</td></tr><tr><td>seed_789_reward</td><td>-118.03593</td></tr></table><br/></div></div>"
            ]
          },
          "metadata": {}
        },
        {
          "output_type": "display_data",
          "data": {
            "text/plain": [
              "<IPython.core.display.HTML object>"
            ],
            "text/html": [
              " View run <strong style=\"color:#cdcd00\">jolly-sweep-11</strong> at: <a href='https://wandb.ai/abhijithvinod-indian-institue-of-technology-madras/RL_MountainCar_SARSA/runs/yabf0vrs' target=\"_blank\">https://wandb.ai/abhijithvinod-indian-institue-of-technology-madras/RL_MountainCar_SARSA/runs/yabf0vrs</a><br> View project at: <a href='https://wandb.ai/abhijithvinod-indian-institue-of-technology-madras/RL_MountainCar_SARSA' target=\"_blank\">https://wandb.ai/abhijithvinod-indian-institue-of-technology-madras/RL_MountainCar_SARSA</a><br>Synced 5 W&B file(s), 0 media file(s), 0 artifact file(s) and 0 other file(s)"
            ]
          },
          "metadata": {}
        },
        {
          "output_type": "display_data",
          "data": {
            "text/plain": [
              "<IPython.core.display.HTML object>"
            ],
            "text/html": [
              "Find logs at: <code>./wandb/run-20250401_102332-yabf0vrs/logs</code>"
            ]
          },
          "metadata": {}
        },
        {
          "output_type": "stream",
          "name": "stderr",
          "text": [
            "\u001b[34m\u001b[1mwandb\u001b[0m: Agent Starting Run: h7ea6gle with config:\n",
            "\u001b[34m\u001b[1mwandb\u001b[0m: \talpha: 0.23753070281473576\n",
            "\u001b[34m\u001b[1mwandb\u001b[0m: \tepsilon: 0.0955443311785133\n",
            "\u001b[34m\u001b[1mwandb\u001b[0m: \tgamma: 0.99\n",
            "\u001b[34m\u001b[1mwandb\u001b[0m: \tn_bins: 25\n",
            "\u001b[34m\u001b[1mwandb\u001b[0m: \tn_episodes: 3000\n",
            "\u001b[34m\u001b[1mwandb\u001b[0m: \tuse_reward_shaping: True\n"
          ]
        },
        {
          "output_type": "display_data",
          "data": {
            "text/plain": [
              "<IPython.core.display.HTML object>"
            ],
            "text/html": [
              "Tracking run with wandb version 0.19.8"
            ]
          },
          "metadata": {}
        },
        {
          "output_type": "display_data",
          "data": {
            "text/plain": [
              "<IPython.core.display.HTML object>"
            ],
            "text/html": [
              "Run data is saved locally in <code>/content/wandb/run-20250401_102720-h7ea6gle</code>"
            ]
          },
          "metadata": {}
        },
        {
          "output_type": "display_data",
          "data": {
            "text/plain": [
              "<IPython.core.display.HTML object>"
            ],
            "text/html": [
              "Syncing run <strong><a href='https://wandb.ai/abhijithvinod-indian-institue-of-technology-madras/RL_MountainCar_SARSA/runs/h7ea6gle' target=\"_blank\">misty-sweep-12</a></strong> to <a href='https://wandb.ai/abhijithvinod-indian-institue-of-technology-madras/RL_MountainCar_SARSA' target=\"_blank\">Weights & Biases</a> (<a href='https://wandb.me/developer-guide' target=\"_blank\">docs</a>)<br>Sweep page: <a href='https://wandb.ai/abhijithvinod-indian-institue-of-technology-madras/RL_MountainCar_SARSA/sweeps/bfmad29r' target=\"_blank\">https://wandb.ai/abhijithvinod-indian-institue-of-technology-madras/RL_MountainCar_SARSA/sweeps/bfmad29r</a>"
            ]
          },
          "metadata": {}
        },
        {
          "output_type": "display_data",
          "data": {
            "text/plain": [
              "<IPython.core.display.HTML object>"
            ],
            "text/html": [
              " View project at <a href='https://wandb.ai/abhijithvinod-indian-institue-of-technology-madras/RL_MountainCar_SARSA' target=\"_blank\">https://wandb.ai/abhijithvinod-indian-institue-of-technology-madras/RL_MountainCar_SARSA</a>"
            ]
          },
          "metadata": {}
        },
        {
          "output_type": "display_data",
          "data": {
            "text/plain": [
              "<IPython.core.display.HTML object>"
            ],
            "text/html": [
              " View sweep at <a href='https://wandb.ai/abhijithvinod-indian-institue-of-technology-madras/RL_MountainCar_SARSA/sweeps/bfmad29r' target=\"_blank\">https://wandb.ai/abhijithvinod-indian-institue-of-technology-madras/RL_MountainCar_SARSA/sweeps/bfmad29r</a>"
            ]
          },
          "metadata": {}
        },
        {
          "output_type": "display_data",
          "data": {
            "text/plain": [
              "<IPython.core.display.HTML object>"
            ],
            "text/html": [
              " View run at <a href='https://wandb.ai/abhijithvinod-indian-institue-of-technology-madras/RL_MountainCar_SARSA/runs/h7ea6gle' target=\"_blank\">https://wandb.ai/abhijithvinod-indian-institue-of-technology-madras/RL_MountainCar_SARSA/runs/h7ea6gle</a>"
            ]
          },
          "metadata": {}
        },
        {
          "output_type": "display_data",
          "data": {
            "text/plain": [
              "<IPython.core.display.HTML object>"
            ],
            "text/html": []
          },
          "metadata": {}
        },
        {
          "output_type": "display_data",
          "data": {
            "text/plain": [
              "<IPython.core.display.HTML object>"
            ],
            "text/html": [
              "<br>    <style><br>        .wandb-row {<br>            display: flex;<br>            flex-direction: row;<br>            flex-wrap: wrap;<br>            justify-content: flex-start;<br>            width: 100%;<br>        }<br>        .wandb-col {<br>            display: flex;<br>            flex-direction: column;<br>            flex-basis: 100%;<br>            flex: 1;<br>            padding: 10px;<br>        }<br>    </style><br><div class=\"wandb-row\"><div class=\"wandb-col\"><h3>Run history:</h3><br/><table class=\"wandb\"><tr><td>average_reward_across_seeds</td><td>▁</td></tr><tr><td>seed_101_episode</td><td>▁▁▁▁▁▂▂▂▂▃▃▃▃▃▃▄▄▄▄▄▄▄▅▅▅▅▅▅▅▆▆▆▆▇▇▇▇▇▇█</td></tr><tr><td>seed_101_reward</td><td>▁▁▂▂▁▁▁▄▂▃▃▅▅▅▁▅▅▅▄▅▃▅▆█▆▅▆▅▁▆▃▆▅▃▅▃▆▂▅▂</td></tr><tr><td>seed_123_episode</td><td>▁▁▁▁▁▁▂▂▂▃▃▃▃▃▄▄▄▄▅▅▅▅▅▅▆▆▆▆▆▇▇▇▇▇▇▇████</td></tr><tr><td>seed_123_reward</td><td>▁▁▃▁▁▂▁▅▅▁▅▃▅▅▆▄▄▂▆▂▅▆▄▂▄▆▂▂▆▆▆▁▆▂▃▃▆█▆▆</td></tr><tr><td>seed_42_episode</td><td>▁▁▁▂▂▂▂▂▂▃▃▃▃▃▃▄▄▄▅▅▅▅▅▅▆▆▆▇▇▇▇▇▇▇▇█████</td></tr><tr><td>seed_42_reward</td><td>▁▁▁▁▁▁▂▁▄▃▂▂▃▅▅▅█▄▄▅▃▃▅▅▄▆▄▃▅▅▆▆▆▅▅▅▇▆▆█</td></tr><tr><td>seed_456_episode</td><td>▁▁▁▁▁▂▂▂▂▂▃▃▃▃▃▄▄▄▄▅▅▅▅▅▅▅▅▆▆▆▆▆▆▇▇▇▇▇▇█</td></tr><tr><td>seed_456_reward</td><td>▁▁▁▁▁▁▁▁▂▅▅▂▄▇▇▁▅▆▅▃▃▄▇▇▂▅▄▇▆▂▇▇▇▇▄▃▄▂▅█</td></tr><tr><td>seed_789_episode</td><td>▁▁▂▂▂▂▂▃▃▃▃▃▃▄▄▄▄▄▄▄▅▅▅▅▅▅▅▆▆▆▆▆▇▇▇▇▇███</td></tr><tr><td>seed_789_reward</td><td>▁▁▁▁▂▂▄▁▁▃▁▄▃▄▁▅▅▆▅▂▂▅█▄▅▆▅▅▅▂▁▅▆▄▄▁▅▅▅▆</td></tr></table><br/></div><div class=\"wandb-col\"><h3>Run summary:</h3><br/><table class=\"wandb\"><tr><td>average_reward_across_seeds</td><td>-130.56062</td></tr><tr><td>seed_101_episode</td><td>2999</td></tr><tr><td>seed_101_reward</td><td>-127.12124</td></tr><tr><td>seed_123_episode</td><td>2999</td></tr><tr><td>seed_123_reward</td><td>-159.64503</td></tr><tr><td>seed_42_episode</td><td>2999</td></tr><tr><td>seed_42_reward</td><td>-159.21107</td></tr><tr><td>seed_456_episode</td><td>2999</td></tr><tr><td>seed_456_reward</td><td>-120.64177</td></tr><tr><td>seed_789_episode</td><td>2999</td></tr><tr><td>seed_789_reward</td><td>-125.9322</td></tr></table><br/></div></div>"
            ]
          },
          "metadata": {}
        },
        {
          "output_type": "display_data",
          "data": {
            "text/plain": [
              "<IPython.core.display.HTML object>"
            ],
            "text/html": [
              " View run <strong style=\"color:#cdcd00\">misty-sweep-12</strong> at: <a href='https://wandb.ai/abhijithvinod-indian-institue-of-technology-madras/RL_MountainCar_SARSA/runs/h7ea6gle' target=\"_blank\">https://wandb.ai/abhijithvinod-indian-institue-of-technology-madras/RL_MountainCar_SARSA/runs/h7ea6gle</a><br> View project at: <a href='https://wandb.ai/abhijithvinod-indian-institue-of-technology-madras/RL_MountainCar_SARSA' target=\"_blank\">https://wandb.ai/abhijithvinod-indian-institue-of-technology-madras/RL_MountainCar_SARSA</a><br>Synced 5 W&B file(s), 0 media file(s), 0 artifact file(s) and 0 other file(s)"
            ]
          },
          "metadata": {}
        },
        {
          "output_type": "display_data",
          "data": {
            "text/plain": [
              "<IPython.core.display.HTML object>"
            ],
            "text/html": [
              "Find logs at: <code>./wandb/run-20250401_102720-h7ea6gle/logs</code>"
            ]
          },
          "metadata": {}
        },
        {
          "output_type": "stream",
          "name": "stderr",
          "text": [
            "\u001b[34m\u001b[1mwandb\u001b[0m: Agent Starting Run: diqaibln with config:\n",
            "\u001b[34m\u001b[1mwandb\u001b[0m: \talpha: 0.10724286563046775\n",
            "\u001b[34m\u001b[1mwandb\u001b[0m: \tepsilon: 0.13396238245908232\n",
            "\u001b[34m\u001b[1mwandb\u001b[0m: \tgamma: 0.99\n",
            "\u001b[34m\u001b[1mwandb\u001b[0m: \tn_bins: 20\n",
            "\u001b[34m\u001b[1mwandb\u001b[0m: \tn_episodes: 3000\n",
            "\u001b[34m\u001b[1mwandb\u001b[0m: \tuse_reward_shaping: True\n"
          ]
        },
        {
          "output_type": "display_data",
          "data": {
            "text/plain": [
              "<IPython.core.display.HTML object>"
            ],
            "text/html": [
              "Tracking run with wandb version 0.19.8"
            ]
          },
          "metadata": {}
        },
        {
          "output_type": "display_data",
          "data": {
            "text/plain": [
              "<IPython.core.display.HTML object>"
            ],
            "text/html": [
              "Run data is saved locally in <code>/content/wandb/run-20250401_103107-diqaibln</code>"
            ]
          },
          "metadata": {}
        },
        {
          "output_type": "display_data",
          "data": {
            "text/plain": [
              "<IPython.core.display.HTML object>"
            ],
            "text/html": [
              "Syncing run <strong><a href='https://wandb.ai/abhijithvinod-indian-institue-of-technology-madras/RL_MountainCar_SARSA/runs/diqaibln' target=\"_blank\">fresh-sweep-13</a></strong> to <a href='https://wandb.ai/abhijithvinod-indian-institue-of-technology-madras/RL_MountainCar_SARSA' target=\"_blank\">Weights & Biases</a> (<a href='https://wandb.me/developer-guide' target=\"_blank\">docs</a>)<br>Sweep page: <a href='https://wandb.ai/abhijithvinod-indian-institue-of-technology-madras/RL_MountainCar_SARSA/sweeps/bfmad29r' target=\"_blank\">https://wandb.ai/abhijithvinod-indian-institue-of-technology-madras/RL_MountainCar_SARSA/sweeps/bfmad29r</a>"
            ]
          },
          "metadata": {}
        },
        {
          "output_type": "display_data",
          "data": {
            "text/plain": [
              "<IPython.core.display.HTML object>"
            ],
            "text/html": [
              " View project at <a href='https://wandb.ai/abhijithvinod-indian-institue-of-technology-madras/RL_MountainCar_SARSA' target=\"_blank\">https://wandb.ai/abhijithvinod-indian-institue-of-technology-madras/RL_MountainCar_SARSA</a>"
            ]
          },
          "metadata": {}
        },
        {
          "output_type": "display_data",
          "data": {
            "text/plain": [
              "<IPython.core.display.HTML object>"
            ],
            "text/html": [
              " View sweep at <a href='https://wandb.ai/abhijithvinod-indian-institue-of-technology-madras/RL_MountainCar_SARSA/sweeps/bfmad29r' target=\"_blank\">https://wandb.ai/abhijithvinod-indian-institue-of-technology-madras/RL_MountainCar_SARSA/sweeps/bfmad29r</a>"
            ]
          },
          "metadata": {}
        },
        {
          "output_type": "display_data",
          "data": {
            "text/plain": [
              "<IPython.core.display.HTML object>"
            ],
            "text/html": [
              " View run at <a href='https://wandb.ai/abhijithvinod-indian-institue-of-technology-madras/RL_MountainCar_SARSA/runs/diqaibln' target=\"_blank\">https://wandb.ai/abhijithvinod-indian-institue-of-technology-madras/RL_MountainCar_SARSA/runs/diqaibln</a>"
            ]
          },
          "metadata": {}
        },
        {
          "output_type": "display_data",
          "data": {
            "text/plain": [
              "<IPython.core.display.HTML object>"
            ],
            "text/html": []
          },
          "metadata": {}
        },
        {
          "output_type": "display_data",
          "data": {
            "text/plain": [
              "<IPython.core.display.HTML object>"
            ],
            "text/html": [
              "<br>    <style><br>        .wandb-row {<br>            display: flex;<br>            flex-direction: row;<br>            flex-wrap: wrap;<br>            justify-content: flex-start;<br>            width: 100%;<br>        }<br>        .wandb-col {<br>            display: flex;<br>            flex-direction: column;<br>            flex-basis: 100%;<br>            flex: 1;<br>            padding: 10px;<br>        }<br>    </style><br><div class=\"wandb-row\"><div class=\"wandb-col\"><h3>Run history:</h3><br/><table class=\"wandb\"><tr><td>average_reward_across_seeds</td><td>▁</td></tr><tr><td>seed_101_episode</td><td>▁▁▁▁▁▂▂▂▂▂▂▃▃▃▃▃▃▃▃▃▄▄▄▄▄▅▅▅▅▅▆▆▇▇▇▇▇▇██</td></tr><tr><td>seed_101_reward</td><td>▁▁▁▁▁▂▂▁▇▆▂▃▂▆▂▄▆▆▂█▆▇▃▂▂▂▅▅▇▆█▃▇▇▃█▇▄▄▂</td></tr><tr><td>seed_123_episode</td><td>▁▁▁▁▁▂▂▂▂▂▃▃▃▄▄▄▅▅▅▅▅▅▅▅▆▆▆▆▆▆▆▆▇▇▇▇▇███</td></tr><tr><td>seed_123_reward</td><td>▁▁▁▁▁▅▁▁▁▁▅▇▅▅▅▂▆▃▆▁▃▂▂▆▂▂▃▆▆▆▆▆▂█▅▃▂▆▃▆</td></tr><tr><td>seed_42_episode</td><td>▁▁▁▂▂▂▂▂▃▃▃▄▄▄▄▄▄▄▄▄▅▅▅▅▅▅▅▅▅▆▆▆▆▇▇▇▇▇██</td></tr><tr><td>seed_42_reward</td><td>▁▁▁▁▁▁▁▁▁▁▁▂▁▁▂▂▃▃▅█▃▅▁▂▃▃▂▆▂▆█▁▆▆▅▆▅▅▆▆</td></tr><tr><td>seed_456_episode</td><td>▁▁▁▁▂▂▂▂▂▃▃▃▃▃▃▃▃▃▄▄▄▄▄▅▅▅▅▅▅▆▆▆▆▆▇▇▇▇██</td></tr><tr><td>seed_456_reward</td><td>▁▁▂▁▁▁▁▁▂▂▁▂▁▂▂▂▂▃▂▂█▆▆▆▆▇▇▂▂▅▆▆▆▆▆▇▇▇▅▂</td></tr><tr><td>seed_789_episode</td><td>▁▁▂▂▂▃▃▃▃▃▃▃▄▄▄▄▄▄▅▅▅▅▅▅▅▆▆▆▆▆▇▇▇███████</td></tr><tr><td>seed_789_reward</td><td>▁▁▁▂▄▁▅▅▆▃▆▅▁▃▆▆▅▆▅▅█▆▆▄▁▇▆▇▃▆▃▅▆█▃▅▂▆▂▆</td></tr></table><br/></div><div class=\"wandb-col\"><h3>Run summary:</h3><br/><table class=\"wandb\"><tr><td>average_reward_across_seeds</td><td>-137.15451</td></tr><tr><td>seed_101_episode</td><td>2999</td></tr><tr><td>seed_101_reward</td><td>-123.12309</td></tr><tr><td>seed_123_episode</td><td>2999</td></tr><tr><td>seed_123_reward</td><td>-111.52135</td></tr><tr><td>seed_42_episode</td><td>2999</td></tr><tr><td>seed_42_reward</td><td>-155.5479</td></tr><tr><td>seed_456_episode</td><td>2999</td></tr><tr><td>seed_456_reward</td><td>-129.2059</td></tr><tr><td>seed_789_episode</td><td>2999</td></tr><tr><td>seed_789_reward</td><td>-147.6273</td></tr></table><br/></div></div>"
            ]
          },
          "metadata": {}
        },
        {
          "output_type": "display_data",
          "data": {
            "text/plain": [
              "<IPython.core.display.HTML object>"
            ],
            "text/html": [
              " View run <strong style=\"color:#cdcd00\">fresh-sweep-13</strong> at: <a href='https://wandb.ai/abhijithvinod-indian-institue-of-technology-madras/RL_MountainCar_SARSA/runs/diqaibln' target=\"_blank\">https://wandb.ai/abhijithvinod-indian-institue-of-technology-madras/RL_MountainCar_SARSA/runs/diqaibln</a><br> View project at: <a href='https://wandb.ai/abhijithvinod-indian-institue-of-technology-madras/RL_MountainCar_SARSA' target=\"_blank\">https://wandb.ai/abhijithvinod-indian-institue-of-technology-madras/RL_MountainCar_SARSA</a><br>Synced 5 W&B file(s), 0 media file(s), 0 artifact file(s) and 0 other file(s)"
            ]
          },
          "metadata": {}
        },
        {
          "output_type": "display_data",
          "data": {
            "text/plain": [
              "<IPython.core.display.HTML object>"
            ],
            "text/html": [
              "Find logs at: <code>./wandb/run-20250401_103107-diqaibln/logs</code>"
            ]
          },
          "metadata": {}
        },
        {
          "output_type": "stream",
          "name": "stderr",
          "text": [
            "\u001b[34m\u001b[1mwandb\u001b[0m: Agent Starting Run: 4fg85mn2 with config:\n",
            "\u001b[34m\u001b[1mwandb\u001b[0m: \talpha: 0.10773974626425133\n",
            "\u001b[34m\u001b[1mwandb\u001b[0m: \tepsilon: 0.13758889023694987\n",
            "\u001b[34m\u001b[1mwandb\u001b[0m: \tgamma: 0.99\n",
            "\u001b[34m\u001b[1mwandb\u001b[0m: \tn_bins: 30\n",
            "\u001b[34m\u001b[1mwandb\u001b[0m: \tn_episodes: 3000\n",
            "\u001b[34m\u001b[1mwandb\u001b[0m: \tuse_reward_shaping: True\n"
          ]
        },
        {
          "output_type": "display_data",
          "data": {
            "text/plain": [
              "<IPython.core.display.HTML object>"
            ],
            "text/html": [
              "Tracking run with wandb version 0.19.8"
            ]
          },
          "metadata": {}
        },
        {
          "output_type": "display_data",
          "data": {
            "text/plain": [
              "<IPython.core.display.HTML object>"
            ],
            "text/html": [
              "Run data is saved locally in <code>/content/wandb/run-20250401_103502-4fg85mn2</code>"
            ]
          },
          "metadata": {}
        },
        {
          "output_type": "display_data",
          "data": {
            "text/plain": [
              "<IPython.core.display.HTML object>"
            ],
            "text/html": [
              "Syncing run <strong><a href='https://wandb.ai/abhijithvinod-indian-institue-of-technology-madras/RL_MountainCar_SARSA/runs/4fg85mn2' target=\"_blank\">dark-sweep-14</a></strong> to <a href='https://wandb.ai/abhijithvinod-indian-institue-of-technology-madras/RL_MountainCar_SARSA' target=\"_blank\">Weights & Biases</a> (<a href='https://wandb.me/developer-guide' target=\"_blank\">docs</a>)<br>Sweep page: <a href='https://wandb.ai/abhijithvinod-indian-institue-of-technology-madras/RL_MountainCar_SARSA/sweeps/bfmad29r' target=\"_blank\">https://wandb.ai/abhijithvinod-indian-institue-of-technology-madras/RL_MountainCar_SARSA/sweeps/bfmad29r</a>"
            ]
          },
          "metadata": {}
        },
        {
          "output_type": "display_data",
          "data": {
            "text/plain": [
              "<IPython.core.display.HTML object>"
            ],
            "text/html": [
              " View project at <a href='https://wandb.ai/abhijithvinod-indian-institue-of-technology-madras/RL_MountainCar_SARSA' target=\"_blank\">https://wandb.ai/abhijithvinod-indian-institue-of-technology-madras/RL_MountainCar_SARSA</a>"
            ]
          },
          "metadata": {}
        },
        {
          "output_type": "display_data",
          "data": {
            "text/plain": [
              "<IPython.core.display.HTML object>"
            ],
            "text/html": [
              " View sweep at <a href='https://wandb.ai/abhijithvinod-indian-institue-of-technology-madras/RL_MountainCar_SARSA/sweeps/bfmad29r' target=\"_blank\">https://wandb.ai/abhijithvinod-indian-institue-of-technology-madras/RL_MountainCar_SARSA/sweeps/bfmad29r</a>"
            ]
          },
          "metadata": {}
        },
        {
          "output_type": "display_data",
          "data": {
            "text/plain": [
              "<IPython.core.display.HTML object>"
            ],
            "text/html": [
              " View run at <a href='https://wandb.ai/abhijithvinod-indian-institue-of-technology-madras/RL_MountainCar_SARSA/runs/4fg85mn2' target=\"_blank\">https://wandb.ai/abhijithvinod-indian-institue-of-technology-madras/RL_MountainCar_SARSA/runs/4fg85mn2</a>"
            ]
          },
          "metadata": {}
        },
        {
          "output_type": "display_data",
          "data": {
            "text/plain": [
              "<IPython.core.display.HTML object>"
            ],
            "text/html": []
          },
          "metadata": {}
        },
        {
          "output_type": "display_data",
          "data": {
            "text/plain": [
              "<IPython.core.display.HTML object>"
            ],
            "text/html": [
              "<br>    <style><br>        .wandb-row {<br>            display: flex;<br>            flex-direction: row;<br>            flex-wrap: wrap;<br>            justify-content: flex-start;<br>            width: 100%;<br>        }<br>        .wandb-col {<br>            display: flex;<br>            flex-direction: column;<br>            flex-basis: 100%;<br>            flex: 1;<br>            padding: 10px;<br>        }<br>    </style><br><div class=\"wandb-row\"><div class=\"wandb-col\"><h3>Run history:</h3><br/><table class=\"wandb\"><tr><td>average_reward_across_seeds</td><td>▁</td></tr><tr><td>seed_101_episode</td><td>▁▁▁▁▂▂▂▂▃▃▃▄▄▄▄▅▅▅▅▅▅▅▅▅▆▆▆▆▆▆▇▇▇▇▇▇▇███</td></tr><tr><td>seed_101_reward</td><td>▁▁▂▂▂▂▂▁▂▂▂▂▁▂▂▂▆▂▃▇▂▂▇▂▂▂▄▇█▂▆▇▇▇▄▇▇▇█▂</td></tr><tr><td>seed_123_episode</td><td>▁▁▁▂▃▃▃▄▄▄▄▅▅▅▅▅▅▅▅▅▅▅▅▅▆▆▆▆▇▇▇▇▇▇▇▇▇███</td></tr><tr><td>seed_123_reward</td><td>▁▁▁▁▁▁▁▁▁▁▂▁▁▂▂▂▂▁▁▂▂▄▂▂▂▂▂▂▇▂▄▄█▂█▇▇▂█▄</td></tr><tr><td>seed_42_episode</td><td>▁▁▁▂▂▂▂▂▃▃▃▃▃▄▄▄▄▄▄▄▅▅▅▅▅▅▅▆▆▆▆▆▆▇▇▇▇▇▇█</td></tr><tr><td>seed_42_reward</td><td>▁▁▁▁▁▂▁▁▁▁▂▂▂▁▂▁▂▁▃▂▂▇▂▆▁▁▁▇▃▂▆▂█▂▂▅▁▂█▇</td></tr><tr><td>seed_456_episode</td><td>▁▁▁▁▂▂▂▂▂▃▃▃▃▃▃▃▃▄▄▄▅▅▅▅▅▆▆▆▆▆▆▇▇▇▇█████</td></tr><tr><td>seed_456_reward</td><td>▁▁▁▁▁▁▁▂▁▃▁▁▁▂▂▁▂▃▆▁▃▂▃▂▅▃▃▆▅▁▃▂█▂▆▃▂▄▆█</td></tr><tr><td>seed_789_episode</td><td>▁▁▁▂▂▂▂▂▂▂▃▃▃▃▃▄▄▅▅▅▅▅▆▆▆▆▆▆▆▇▇▇▇▇▇█████</td></tr><tr><td>seed_789_reward</td><td>▁▁▁▁▁▁▁▂▁▁▂▅▂▁▂▂▄▃▂▅▂▂▃▂▅▅▂▂▂▅▁▃▆▂▅▂▅▆▆█</td></tr></table><br/></div><div class=\"wandb-col\"><h3>Run summary:</h3><br/><table class=\"wandb\"><tr><td>average_reward_across_seeds</td><td>-149.18942</td></tr><tr><td>seed_101_episode</td><td>2999</td></tr><tr><td>seed_101_reward</td><td>-123.44953</td></tr><tr><td>seed_123_episode</td><td>2999</td></tr><tr><td>seed_123_reward</td><td>-163.64021</td></tr><tr><td>seed_42_episode</td><td>2999</td></tr><tr><td>seed_42_reward</td><td>-185.51402</td></tr><tr><td>seed_456_episode</td><td>2999</td></tr><tr><td>seed_456_reward</td><td>-129.38853</td></tr><tr><td>seed_789_episode</td><td>2999</td></tr><tr><td>seed_789_reward</td><td>-181.58534</td></tr></table><br/></div></div>"
            ]
          },
          "metadata": {}
        },
        {
          "output_type": "display_data",
          "data": {
            "text/plain": [
              "<IPython.core.display.HTML object>"
            ],
            "text/html": [
              " View run <strong style=\"color:#cdcd00\">dark-sweep-14</strong> at: <a href='https://wandb.ai/abhijithvinod-indian-institue-of-technology-madras/RL_MountainCar_SARSA/runs/4fg85mn2' target=\"_blank\">https://wandb.ai/abhijithvinod-indian-institue-of-technology-madras/RL_MountainCar_SARSA/runs/4fg85mn2</a><br> View project at: <a href='https://wandb.ai/abhijithvinod-indian-institue-of-technology-madras/RL_MountainCar_SARSA' target=\"_blank\">https://wandb.ai/abhijithvinod-indian-institue-of-technology-madras/RL_MountainCar_SARSA</a><br>Synced 5 W&B file(s), 0 media file(s), 0 artifact file(s) and 0 other file(s)"
            ]
          },
          "metadata": {}
        },
        {
          "output_type": "display_data",
          "data": {
            "text/plain": [
              "<IPython.core.display.HTML object>"
            ],
            "text/html": [
              "Find logs at: <code>./wandb/run-20250401_103502-4fg85mn2/logs</code>"
            ]
          },
          "metadata": {}
        },
        {
          "output_type": "stream",
          "name": "stderr",
          "text": [
            "\u001b[34m\u001b[1mwandb\u001b[0m: Agent Starting Run: echmcq4a with config:\n",
            "\u001b[34m\u001b[1mwandb\u001b[0m: \talpha: 0.2613776318613942\n",
            "\u001b[34m\u001b[1mwandb\u001b[0m: \tepsilon: 0.05141384278362447\n",
            "\u001b[34m\u001b[1mwandb\u001b[0m: \tgamma: 0.99\n",
            "\u001b[34m\u001b[1mwandb\u001b[0m: \tn_bins: 30\n",
            "\u001b[34m\u001b[1mwandb\u001b[0m: \tn_episodes: 3000\n",
            "\u001b[34m\u001b[1mwandb\u001b[0m: \tuse_reward_shaping: True\n"
          ]
        },
        {
          "output_type": "display_data",
          "data": {
            "text/plain": [
              "<IPython.core.display.HTML object>"
            ],
            "text/html": [
              "Tracking run with wandb version 0.19.8"
            ]
          },
          "metadata": {}
        },
        {
          "output_type": "display_data",
          "data": {
            "text/plain": [
              "<IPython.core.display.HTML object>"
            ],
            "text/html": [
              "Run data is saved locally in <code>/content/wandb/run-20250401_103910-echmcq4a</code>"
            ]
          },
          "metadata": {}
        },
        {
          "output_type": "display_data",
          "data": {
            "text/plain": [
              "<IPython.core.display.HTML object>"
            ],
            "text/html": [
              "Syncing run <strong><a href='https://wandb.ai/abhijithvinod-indian-institue-of-technology-madras/RL_MountainCar_SARSA/runs/echmcq4a' target=\"_blank\">feasible-sweep-15</a></strong> to <a href='https://wandb.ai/abhijithvinod-indian-institue-of-technology-madras/RL_MountainCar_SARSA' target=\"_blank\">Weights & Biases</a> (<a href='https://wandb.me/developer-guide' target=\"_blank\">docs</a>)<br>Sweep page: <a href='https://wandb.ai/abhijithvinod-indian-institue-of-technology-madras/RL_MountainCar_SARSA/sweeps/bfmad29r' target=\"_blank\">https://wandb.ai/abhijithvinod-indian-institue-of-technology-madras/RL_MountainCar_SARSA/sweeps/bfmad29r</a>"
            ]
          },
          "metadata": {}
        },
        {
          "output_type": "display_data",
          "data": {
            "text/plain": [
              "<IPython.core.display.HTML object>"
            ],
            "text/html": [
              " View project at <a href='https://wandb.ai/abhijithvinod-indian-institue-of-technology-madras/RL_MountainCar_SARSA' target=\"_blank\">https://wandb.ai/abhijithvinod-indian-institue-of-technology-madras/RL_MountainCar_SARSA</a>"
            ]
          },
          "metadata": {}
        },
        {
          "output_type": "display_data",
          "data": {
            "text/plain": [
              "<IPython.core.display.HTML object>"
            ],
            "text/html": [
              " View sweep at <a href='https://wandb.ai/abhijithvinod-indian-institue-of-technology-madras/RL_MountainCar_SARSA/sweeps/bfmad29r' target=\"_blank\">https://wandb.ai/abhijithvinod-indian-institue-of-technology-madras/RL_MountainCar_SARSA/sweeps/bfmad29r</a>"
            ]
          },
          "metadata": {}
        },
        {
          "output_type": "display_data",
          "data": {
            "text/plain": [
              "<IPython.core.display.HTML object>"
            ],
            "text/html": [
              " View run at <a href='https://wandb.ai/abhijithvinod-indian-institue-of-technology-madras/RL_MountainCar_SARSA/runs/echmcq4a' target=\"_blank\">https://wandb.ai/abhijithvinod-indian-institue-of-technology-madras/RL_MountainCar_SARSA/runs/echmcq4a</a>"
            ]
          },
          "metadata": {}
        },
        {
          "output_type": "display_data",
          "data": {
            "text/plain": [
              "<IPython.core.display.HTML object>"
            ],
            "text/html": []
          },
          "metadata": {}
        },
        {
          "output_type": "display_data",
          "data": {
            "text/plain": [
              "<IPython.core.display.HTML object>"
            ],
            "text/html": [
              "<br>    <style><br>        .wandb-row {<br>            display: flex;<br>            flex-direction: row;<br>            flex-wrap: wrap;<br>            justify-content: flex-start;<br>            width: 100%;<br>        }<br>        .wandb-col {<br>            display: flex;<br>            flex-direction: column;<br>            flex-basis: 100%;<br>            flex: 1;<br>            padding: 10px;<br>        }<br>    </style><br><div class=\"wandb-row\"><div class=\"wandb-col\"><h3>Run history:</h3><br/><table class=\"wandb\"><tr><td>average_reward_across_seeds</td><td>▁</td></tr><tr><td>seed_101_episode</td><td>▁▁▁▁▁▂▃▃▃▃▃▃▄▄▄▄▄▄▄▄▅▅▅▅▅▅▅▅▅▆▆▆▆▆▇▇▇▇▇█</td></tr><tr><td>seed_101_reward</td><td>▁▁▁▁▁▂▁▁▃▅▂▂▁▂▂▃▅▃▄▆▄▅▆▆▆▆▆▄▆▅▆▆▇▆▃▆█▂▆▇</td></tr><tr><td>seed_123_episode</td><td>▁▁▁▁▁▂▂▂▂▂▃▃▄▄▄▅▅▅▅▅▆▆▆▆▆▆▆▇▇▇▇▇▇▇▇▇▇███</td></tr><tr><td>seed_123_reward</td><td>▁▁▁▁▁▁▁▁▁▁▂▃▅▂▂▂▅▃▃▅▃█▅▃▅▂█▅▅▅█▅▄▆▆▆█▆▆▆</td></tr><tr><td>seed_42_episode</td><td>▁▁▁▂▂▂▂▃▃▃▃▃▄▄▄▄▄▄▄▄▅▅▅▅▅▅▅▆▆▆▆▆▆▇▇▇▇▇██</td></tr><tr><td>seed_42_reward</td><td>▁▁▁▁▂▁▅▃▂▁▁▂▂▂▃▁▃▅▂▂▆▄▆▆▁▅▅▄▅▅█▇█▆▅▆▃▄▅▆</td></tr><tr><td>seed_456_episode</td><td>▁▁▁▁▁▁▂▂▂▂▂▃▃▃▄▄▄▅▅▅▅▅▅▆▆▆▆▆▆▇▇▇▇▇▇▇████</td></tr><tr><td>seed_456_reward</td><td>▁▁▁▁▁▁▁▁▁▂▃▂▂▆▂▄▆▅▃▆▅█▃▄▆▅▆▄▃▆▇▅▄▆▆▇▃▆▆▇</td></tr><tr><td>seed_789_episode</td><td>▁▁▁▂▂▂▂▂▂▂▃▃▃▄▄▄▄▄▄▄▄▅▅▅▅▅▆▆▆▆▇▇▇▇▇█████</td></tr><tr><td>seed_789_reward</td><td>▁▁▁▁▂▂▂▂▁▁▂▅▅▃▂█▆▆▆▆▄▅▆▆▄▂▆▃▆▆█▆▃▅▅▇▆▃▃▃</td></tr></table><br/></div><div class=\"wandb-col\"><h3>Run summary:</h3><br/><table class=\"wandb\"><tr><td>average_reward_across_seeds</td><td>-129.57056</td></tr><tr><td>seed_101_episode</td><td>2999</td></tr><tr><td>seed_101_reward</td><td>-129.64424</td></tr><tr><td>seed_123_episode</td><td>2999</td></tr><tr><td>seed_123_reward</td><td>-101.20174</td></tr><tr><td>seed_42_episode</td><td>2999</td></tr><tr><td>seed_42_reward</td><td>-154.15674</td></tr><tr><td>seed_456_episode</td><td>2999</td></tr><tr><td>seed_456_reward</td><td>-129.32353</td></tr><tr><td>seed_789_episode</td><td>2999</td></tr><tr><td>seed_789_reward</td><td>-127.0266</td></tr></table><br/></div></div>"
            ]
          },
          "metadata": {}
        },
        {
          "output_type": "display_data",
          "data": {
            "text/plain": [
              "<IPython.core.display.HTML object>"
            ],
            "text/html": [
              " View run <strong style=\"color:#cdcd00\">feasible-sweep-15</strong> at: <a href='https://wandb.ai/abhijithvinod-indian-institue-of-technology-madras/RL_MountainCar_SARSA/runs/echmcq4a' target=\"_blank\">https://wandb.ai/abhijithvinod-indian-institue-of-technology-madras/RL_MountainCar_SARSA/runs/echmcq4a</a><br> View project at: <a href='https://wandb.ai/abhijithvinod-indian-institue-of-technology-madras/RL_MountainCar_SARSA' target=\"_blank\">https://wandb.ai/abhijithvinod-indian-institue-of-technology-madras/RL_MountainCar_SARSA</a><br>Synced 5 W&B file(s), 0 media file(s), 0 artifact file(s) and 0 other file(s)"
            ]
          },
          "metadata": {}
        },
        {
          "output_type": "display_data",
          "data": {
            "text/plain": [
              "<IPython.core.display.HTML object>"
            ],
            "text/html": [
              "Find logs at: <code>./wandb/run-20250401_103910-echmcq4a/logs</code>"
            ]
          },
          "metadata": {}
        },
        {
          "output_type": "stream",
          "name": "stderr",
          "text": [
            "\u001b[34m\u001b[1mwandb\u001b[0m: Agent Starting Run: wc7vua5w with config:\n",
            "\u001b[34m\u001b[1mwandb\u001b[0m: \talpha: 0.197528871493594\n",
            "\u001b[34m\u001b[1mwandb\u001b[0m: \tepsilon: 0.11888402553828648\n",
            "\u001b[34m\u001b[1mwandb\u001b[0m: \tgamma: 0.99\n",
            "\u001b[34m\u001b[1mwandb\u001b[0m: \tn_bins: 25\n",
            "\u001b[34m\u001b[1mwandb\u001b[0m: \tn_episodes: 3000\n",
            "\u001b[34m\u001b[1mwandb\u001b[0m: \tuse_reward_shaping: True\n"
          ]
        },
        {
          "output_type": "display_data",
          "data": {
            "text/plain": [
              "<IPython.core.display.HTML object>"
            ],
            "text/html": [
              "Tracking run with wandb version 0.19.8"
            ]
          },
          "metadata": {}
        },
        {
          "output_type": "display_data",
          "data": {
            "text/plain": [
              "<IPython.core.display.HTML object>"
            ],
            "text/html": [
              "Run data is saved locally in <code>/content/wandb/run-20250401_104254-wc7vua5w</code>"
            ]
          },
          "metadata": {}
        },
        {
          "output_type": "display_data",
          "data": {
            "text/plain": [
              "<IPython.core.display.HTML object>"
            ],
            "text/html": [
              "Syncing run <strong><a href='https://wandb.ai/abhijithvinod-indian-institue-of-technology-madras/RL_MountainCar_SARSA/runs/wc7vua5w' target=\"_blank\">wandering-sweep-16</a></strong> to <a href='https://wandb.ai/abhijithvinod-indian-institue-of-technology-madras/RL_MountainCar_SARSA' target=\"_blank\">Weights & Biases</a> (<a href='https://wandb.me/developer-guide' target=\"_blank\">docs</a>)<br>Sweep page: <a href='https://wandb.ai/abhijithvinod-indian-institue-of-technology-madras/RL_MountainCar_SARSA/sweeps/bfmad29r' target=\"_blank\">https://wandb.ai/abhijithvinod-indian-institue-of-technology-madras/RL_MountainCar_SARSA/sweeps/bfmad29r</a>"
            ]
          },
          "metadata": {}
        },
        {
          "output_type": "display_data",
          "data": {
            "text/plain": [
              "<IPython.core.display.HTML object>"
            ],
            "text/html": [
              " View project at <a href='https://wandb.ai/abhijithvinod-indian-institue-of-technology-madras/RL_MountainCar_SARSA' target=\"_blank\">https://wandb.ai/abhijithvinod-indian-institue-of-technology-madras/RL_MountainCar_SARSA</a>"
            ]
          },
          "metadata": {}
        },
        {
          "output_type": "display_data",
          "data": {
            "text/plain": [
              "<IPython.core.display.HTML object>"
            ],
            "text/html": [
              " View sweep at <a href='https://wandb.ai/abhijithvinod-indian-institue-of-technology-madras/RL_MountainCar_SARSA/sweeps/bfmad29r' target=\"_blank\">https://wandb.ai/abhijithvinod-indian-institue-of-technology-madras/RL_MountainCar_SARSA/sweeps/bfmad29r</a>"
            ]
          },
          "metadata": {}
        },
        {
          "output_type": "display_data",
          "data": {
            "text/plain": [
              "<IPython.core.display.HTML object>"
            ],
            "text/html": [
              " View run at <a href='https://wandb.ai/abhijithvinod-indian-institue-of-technology-madras/RL_MountainCar_SARSA/runs/wc7vua5w' target=\"_blank\">https://wandb.ai/abhijithvinod-indian-institue-of-technology-madras/RL_MountainCar_SARSA/runs/wc7vua5w</a>"
            ]
          },
          "metadata": {}
        },
        {
          "output_type": "display_data",
          "data": {
            "text/plain": [
              "<IPython.core.display.HTML object>"
            ],
            "text/html": []
          },
          "metadata": {}
        },
        {
          "output_type": "display_data",
          "data": {
            "text/plain": [
              "<IPython.core.display.HTML object>"
            ],
            "text/html": [
              "<br>    <style><br>        .wandb-row {<br>            display: flex;<br>            flex-direction: row;<br>            flex-wrap: wrap;<br>            justify-content: flex-start;<br>            width: 100%;<br>        }<br>        .wandb-col {<br>            display: flex;<br>            flex-direction: column;<br>            flex-basis: 100%;<br>            flex: 1;<br>            padding: 10px;<br>        }<br>    </style><br><div class=\"wandb-row\"><div class=\"wandb-col\"><h3>Run history:</h3><br/><table class=\"wandb\"><tr><td>average_reward_across_seeds</td><td>▁</td></tr><tr><td>seed_101_episode</td><td>▁▁▁▁▁▂▂▂▂▂▃▃▃▃▃▃▃▃▃▄▄▄▄▄▄▅▅▅▅▅▅▆▆▆▆▇▇███</td></tr><tr><td>seed_101_reward</td><td>▁▁▁▂▁▃▁▂▁▂▁▅▁▂▃▆▄▅▂▅▄▅▆▄▃▁▃▄▅▂▆▃▃▆▅▆▇█▆▃</td></tr><tr><td>seed_123_episode</td><td>▁▁▁▂▂▂▂▃▃▃▄▄▄▄▄▄▄▅▅▅▆▆▆▆▆▆▇▇▇▇▇▇▇▇▇▇████</td></tr><tr><td>seed_123_reward</td><td>▁▁▁▁▄▂▁▁▃▅▂▄▅▅▂▃▃▁▃▂▂▅█▅▅▆▂▂▆▅▃▅▅█▅▅▂▆▄▃</td></tr><tr><td>seed_42_episode</td><td>▁▁▁▂▂▂▂▂▂▂▂▃▃▃▃▄▄▄▄▄▅▅▅▅▅▅▅▅▅▆▆▆▇▇▇▇▇███</td></tr><tr><td>seed_42_reward</td><td>▁▁▁▁▁▁▁▄▄▁▁▅▅▆▂▅▄▁▅▅▂▆▂▄▆▄▅▇▅▄▆▄▅▆▃▃▆▆▆█</td></tr><tr><td>seed_456_episode</td><td>▁▁▁▂▂▂▂▂▂▃▃▃▃▃▃▄▄▄▄▄▅▅▅▅▅▆▆▆▆▇▇▇▇▇▇▇▇▇▇█</td></tr><tr><td>seed_456_reward</td><td>▁▁▁▅▁▁▁▁▁▁▃▁▅▁█▆▆▆▅▁▁▃▆▃▁▆▁▄▃▁▆▄▆▃▆▆▆▅▆▆</td></tr><tr><td>seed_789_episode</td><td>▁▁▁▂▂▂▃▃▃▃▃▃▃▃▄▄▄▄▄▄▅▅▅▅▆▆▆▆▆▇▇▇▇▇▇▇▇███</td></tr><tr><td>seed_789_reward</td><td>▁▁▁▁▁▃▂▁▅▁▁▆▁▃▂▆▆▆▆▇▆▇▆▂▆▁▂▅▂▅▃▅▃▆▂▇▆▇▆█</td></tr></table><br/></div><div class=\"wandb-col\"><h3>Run summary:</h3><br/><table class=\"wandb\"><tr><td>average_reward_across_seeds</td><td>-133.03545</td></tr><tr><td>seed_101_episode</td><td>2999</td></tr><tr><td>seed_101_reward</td><td>-130.92886</td></tr><tr><td>seed_123_episode</td><td>2999</td></tr><tr><td>seed_123_reward</td><td>-163.13181</td></tr><tr><td>seed_42_episode</td><td>2999</td></tr><tr><td>seed_42_reward</td><td>-98.10359</td></tr><tr><td>seed_456_episode</td><td>2999</td></tr><tr><td>seed_456_reward</td><td>-133.63509</td></tr><tr><td>seed_789_episode</td><td>2999</td></tr><tr><td>seed_789_reward</td><td>-127.2408</td></tr></table><br/></div></div>"
            ]
          },
          "metadata": {}
        },
        {
          "output_type": "display_data",
          "data": {
            "text/plain": [
              "<IPython.core.display.HTML object>"
            ],
            "text/html": [
              " View run <strong style=\"color:#cdcd00\">wandering-sweep-16</strong> at: <a href='https://wandb.ai/abhijithvinod-indian-institue-of-technology-madras/RL_MountainCar_SARSA/runs/wc7vua5w' target=\"_blank\">https://wandb.ai/abhijithvinod-indian-institue-of-technology-madras/RL_MountainCar_SARSA/runs/wc7vua5w</a><br> View project at: <a href='https://wandb.ai/abhijithvinod-indian-institue-of-technology-madras/RL_MountainCar_SARSA' target=\"_blank\">https://wandb.ai/abhijithvinod-indian-institue-of-technology-madras/RL_MountainCar_SARSA</a><br>Synced 5 W&B file(s), 0 media file(s), 0 artifact file(s) and 0 other file(s)"
            ]
          },
          "metadata": {}
        },
        {
          "output_type": "display_data",
          "data": {
            "text/plain": [
              "<IPython.core.display.HTML object>"
            ],
            "text/html": [
              "Find logs at: <code>./wandb/run-20250401_104254-wc7vua5w/logs</code>"
            ]
          },
          "metadata": {}
        },
        {
          "output_type": "stream",
          "name": "stderr",
          "text": [
            "\u001b[34m\u001b[1mwandb\u001b[0m: Agent Starting Run: 109wnxzf with config:\n",
            "\u001b[34m\u001b[1mwandb\u001b[0m: \talpha: 0.13134262473312688\n",
            "\u001b[34m\u001b[1mwandb\u001b[0m: \tepsilon: 0.10655818709684128\n",
            "\u001b[34m\u001b[1mwandb\u001b[0m: \tgamma: 0.99\n",
            "\u001b[34m\u001b[1mwandb\u001b[0m: \tn_bins: 25\n",
            "\u001b[34m\u001b[1mwandb\u001b[0m: \tn_episodes: 3000\n",
            "\u001b[34m\u001b[1mwandb\u001b[0m: \tuse_reward_shaping: True\n"
          ]
        },
        {
          "output_type": "display_data",
          "data": {
            "text/plain": [
              "<IPython.core.display.HTML object>"
            ],
            "text/html": [
              "Tracking run with wandb version 0.19.8"
            ]
          },
          "metadata": {}
        },
        {
          "output_type": "display_data",
          "data": {
            "text/plain": [
              "<IPython.core.display.HTML object>"
            ],
            "text/html": [
              "Run data is saved locally in <code>/content/wandb/run-20250401_104642-109wnxzf</code>"
            ]
          },
          "metadata": {}
        },
        {
          "output_type": "display_data",
          "data": {
            "text/plain": [
              "<IPython.core.display.HTML object>"
            ],
            "text/html": [
              "Syncing run <strong><a href='https://wandb.ai/abhijithvinod-indian-institue-of-technology-madras/RL_MountainCar_SARSA/runs/109wnxzf' target=\"_blank\">comic-sweep-17</a></strong> to <a href='https://wandb.ai/abhijithvinod-indian-institue-of-technology-madras/RL_MountainCar_SARSA' target=\"_blank\">Weights & Biases</a> (<a href='https://wandb.me/developer-guide' target=\"_blank\">docs</a>)<br>Sweep page: <a href='https://wandb.ai/abhijithvinod-indian-institue-of-technology-madras/RL_MountainCar_SARSA/sweeps/bfmad29r' target=\"_blank\">https://wandb.ai/abhijithvinod-indian-institue-of-technology-madras/RL_MountainCar_SARSA/sweeps/bfmad29r</a>"
            ]
          },
          "metadata": {}
        },
        {
          "output_type": "display_data",
          "data": {
            "text/plain": [
              "<IPython.core.display.HTML object>"
            ],
            "text/html": [
              " View project at <a href='https://wandb.ai/abhijithvinod-indian-institue-of-technology-madras/RL_MountainCar_SARSA' target=\"_blank\">https://wandb.ai/abhijithvinod-indian-institue-of-technology-madras/RL_MountainCar_SARSA</a>"
            ]
          },
          "metadata": {}
        },
        {
          "output_type": "display_data",
          "data": {
            "text/plain": [
              "<IPython.core.display.HTML object>"
            ],
            "text/html": [
              " View sweep at <a href='https://wandb.ai/abhijithvinod-indian-institue-of-technology-madras/RL_MountainCar_SARSA/sweeps/bfmad29r' target=\"_blank\">https://wandb.ai/abhijithvinod-indian-institue-of-technology-madras/RL_MountainCar_SARSA/sweeps/bfmad29r</a>"
            ]
          },
          "metadata": {}
        },
        {
          "output_type": "display_data",
          "data": {
            "text/plain": [
              "<IPython.core.display.HTML object>"
            ],
            "text/html": [
              " View run at <a href='https://wandb.ai/abhijithvinod-indian-institue-of-technology-madras/RL_MountainCar_SARSA/runs/109wnxzf' target=\"_blank\">https://wandb.ai/abhijithvinod-indian-institue-of-technology-madras/RL_MountainCar_SARSA/runs/109wnxzf</a>"
            ]
          },
          "metadata": {}
        },
        {
          "output_type": "display_data",
          "data": {
            "text/plain": [
              "<IPython.core.display.HTML object>"
            ],
            "text/html": []
          },
          "metadata": {}
        },
        {
          "output_type": "display_data",
          "data": {
            "text/plain": [
              "<IPython.core.display.HTML object>"
            ],
            "text/html": [
              "<br>    <style><br>        .wandb-row {<br>            display: flex;<br>            flex-direction: row;<br>            flex-wrap: wrap;<br>            justify-content: flex-start;<br>            width: 100%;<br>        }<br>        .wandb-col {<br>            display: flex;<br>            flex-direction: column;<br>            flex-basis: 100%;<br>            flex: 1;<br>            padding: 10px;<br>        }<br>    </style><br><div class=\"wandb-row\"><div class=\"wandb-col\"><h3>Run history:</h3><br/><table class=\"wandb\"><tr><td>average_reward_across_seeds</td><td>▁</td></tr><tr><td>seed_101_episode</td><td>▁▁▁▁▂▂▂▂▂▂▂▂▂▃▃▃▃▃▃▄▄▄▄▄▄▅▅▅▅▆▆▆▆▆▇█████</td></tr><tr><td>seed_101_reward</td><td>▁▁▁▁▁▁▁▁▂▄▁▂▅▂▂▂▃▂▂▁▃▃▂▂▅▄▅▂▆█▂▅▆▅▆▆▅▃▆▆</td></tr><tr><td>seed_123_episode</td><td>▁▁▁▁▁▂▂▂▂▃▃▃▃▄▄▄▄▄▄▅▅▅▅▅▅▆▆▆▆▆▆▆▆▇▇▇▇▇▇█</td></tr><tr><td>seed_123_reward</td><td>▁▁▁▁▁▁▁▂▂▁▁▅▄▂▁▆▂▅▄▅▂▆█▇▂▃▃▆▅▁▄▅▅▄▃▆▂▂██</td></tr><tr><td>seed_42_episode</td><td>▁▁▁▁▁▂▂▂▂▂▃▃▃▄▄▄▄▄▄▄▄▄▅▅▅▅▅▆▆▆▆▇▇▇▇▇▇▇██</td></tr><tr><td>seed_42_reward</td><td>▁▁▁▁▁▁▅▂▄▁▁▂▁▂▆▁▂▃▆▂▁▅▆█▆▅▄▃▂▆▆▃▄▆▆▄▂▁▆▆</td></tr><tr><td>seed_456_episode</td><td>▁▁▁▁▁▂▂▂▂▂▃▃▃▃▄▄▄▄▄▅▅▅▅▅▆▆▆▆▆▆▆▇▇▇▇█████</td></tr><tr><td>seed_456_reward</td><td>▁▁▁▂▁▁▂▂▂▂▂▂▂▂▄▃▂▂▃▄▂▅▆▂▂▂▆▃▄▄▅▆▂█▃▂▆█▅▆</td></tr><tr><td>seed_789_episode</td><td>▁▁▁▁▁▂▂▂▂▂▂▂▃▃▃▃▄▄▅▅▅▅▅▅▅▅▆▆▆▆▆▇▇▇▇▇▇███</td></tr><tr><td>seed_789_reward</td><td>▁▁▁▁▁▁▁▁▂▁▁▁▁▂▃▂▂▂▃▂▄▃▃▄▂▅▆█▄▆▅▆▆▆▆▇▆▃▆▃</td></tr></table><br/></div><div class=\"wandb-col\"><h3>Run summary:</h3><br/><table class=\"wandb\"><tr><td>average_reward_across_seeds</td><td>-132.03505</td></tr><tr><td>seed_101_episode</td><td>2999</td></tr><tr><td>seed_101_reward</td><td>-133.9832</td></tr><tr><td>seed_123_episode</td><td>2999</td></tr><tr><td>seed_123_reward</td><td>-113.00816</td></tr><tr><td>seed_42_episode</td><td>2999</td></tr><tr><td>seed_42_reward</td><td>-187.83751</td></tr><tr><td>seed_456_episode</td><td>2999</td></tr><tr><td>seed_456_reward</td><td>-139.15158</td></tr><tr><td>seed_789_episode</td><td>2999</td></tr><tr><td>seed_789_reward</td><td>-110.08413</td></tr></table><br/></div></div>"
            ]
          },
          "metadata": {}
        },
        {
          "output_type": "display_data",
          "data": {
            "text/plain": [
              "<IPython.core.display.HTML object>"
            ],
            "text/html": [
              " View run <strong style=\"color:#cdcd00\">comic-sweep-17</strong> at: <a href='https://wandb.ai/abhijithvinod-indian-institue-of-technology-madras/RL_MountainCar_SARSA/runs/109wnxzf' target=\"_blank\">https://wandb.ai/abhijithvinod-indian-institue-of-technology-madras/RL_MountainCar_SARSA/runs/109wnxzf</a><br> View project at: <a href='https://wandb.ai/abhijithvinod-indian-institue-of-technology-madras/RL_MountainCar_SARSA' target=\"_blank\">https://wandb.ai/abhijithvinod-indian-institue-of-technology-madras/RL_MountainCar_SARSA</a><br>Synced 5 W&B file(s), 0 media file(s), 0 artifact file(s) and 0 other file(s)"
            ]
          },
          "metadata": {}
        },
        {
          "output_type": "display_data",
          "data": {
            "text/plain": [
              "<IPython.core.display.HTML object>"
            ],
            "text/html": [
              "Find logs at: <code>./wandb/run-20250401_104642-109wnxzf/logs</code>"
            ]
          },
          "metadata": {}
        },
        {
          "output_type": "stream",
          "name": "stderr",
          "text": [
            "\u001b[34m\u001b[1mwandb\u001b[0m: Agent Starting Run: dwjdh510 with config:\n",
            "\u001b[34m\u001b[1mwandb\u001b[0m: \talpha: 0.2334901405748856\n",
            "\u001b[34m\u001b[1mwandb\u001b[0m: \tepsilon: 0.184068910289126\n",
            "\u001b[34m\u001b[1mwandb\u001b[0m: \tgamma: 0.99\n",
            "\u001b[34m\u001b[1mwandb\u001b[0m: \tn_bins: 25\n",
            "\u001b[34m\u001b[1mwandb\u001b[0m: \tn_episodes: 3000\n",
            "\u001b[34m\u001b[1mwandb\u001b[0m: \tuse_reward_shaping: True\n"
          ]
        },
        {
          "output_type": "display_data",
          "data": {
            "text/plain": [
              "<IPython.core.display.HTML object>"
            ],
            "text/html": [
              "Tracking run with wandb version 0.19.8"
            ]
          },
          "metadata": {}
        },
        {
          "output_type": "display_data",
          "data": {
            "text/plain": [
              "<IPython.core.display.HTML object>"
            ],
            "text/html": [
              "Run data is saved locally in <code>/content/wandb/run-20250401_105035-dwjdh510</code>"
            ]
          },
          "metadata": {}
        },
        {
          "output_type": "display_data",
          "data": {
            "text/plain": [
              "<IPython.core.display.HTML object>"
            ],
            "text/html": [
              "Syncing run <strong><a href='https://wandb.ai/abhijithvinod-indian-institue-of-technology-madras/RL_MountainCar_SARSA/runs/dwjdh510' target=\"_blank\">treasured-sweep-18</a></strong> to <a href='https://wandb.ai/abhijithvinod-indian-institue-of-technology-madras/RL_MountainCar_SARSA' target=\"_blank\">Weights & Biases</a> (<a href='https://wandb.me/developer-guide' target=\"_blank\">docs</a>)<br>Sweep page: <a href='https://wandb.ai/abhijithvinod-indian-institue-of-technology-madras/RL_MountainCar_SARSA/sweeps/bfmad29r' target=\"_blank\">https://wandb.ai/abhijithvinod-indian-institue-of-technology-madras/RL_MountainCar_SARSA/sweeps/bfmad29r</a>"
            ]
          },
          "metadata": {}
        },
        {
          "output_type": "display_data",
          "data": {
            "text/plain": [
              "<IPython.core.display.HTML object>"
            ],
            "text/html": [
              " View project at <a href='https://wandb.ai/abhijithvinod-indian-institue-of-technology-madras/RL_MountainCar_SARSA' target=\"_blank\">https://wandb.ai/abhijithvinod-indian-institue-of-technology-madras/RL_MountainCar_SARSA</a>"
            ]
          },
          "metadata": {}
        },
        {
          "output_type": "display_data",
          "data": {
            "text/plain": [
              "<IPython.core.display.HTML object>"
            ],
            "text/html": [
              " View sweep at <a href='https://wandb.ai/abhijithvinod-indian-institue-of-technology-madras/RL_MountainCar_SARSA/sweeps/bfmad29r' target=\"_blank\">https://wandb.ai/abhijithvinod-indian-institue-of-technology-madras/RL_MountainCar_SARSA/sweeps/bfmad29r</a>"
            ]
          },
          "metadata": {}
        },
        {
          "output_type": "display_data",
          "data": {
            "text/plain": [
              "<IPython.core.display.HTML object>"
            ],
            "text/html": [
              " View run at <a href='https://wandb.ai/abhijithvinod-indian-institue-of-technology-madras/RL_MountainCar_SARSA/runs/dwjdh510' target=\"_blank\">https://wandb.ai/abhijithvinod-indian-institue-of-technology-madras/RL_MountainCar_SARSA/runs/dwjdh510</a>"
            ]
          },
          "metadata": {}
        },
        {
          "output_type": "display_data",
          "data": {
            "text/plain": [
              "<IPython.core.display.HTML object>"
            ],
            "text/html": []
          },
          "metadata": {}
        },
        {
          "output_type": "display_data",
          "data": {
            "text/plain": [
              "<IPython.core.display.HTML object>"
            ],
            "text/html": [
              "<br>    <style><br>        .wandb-row {<br>            display: flex;<br>            flex-direction: row;<br>            flex-wrap: wrap;<br>            justify-content: flex-start;<br>            width: 100%;<br>        }<br>        .wandb-col {<br>            display: flex;<br>            flex-direction: column;<br>            flex-basis: 100%;<br>            flex: 1;<br>            padding: 10px;<br>        }<br>    </style><br><div class=\"wandb-row\"><div class=\"wandb-col\"><h3>Run history:</h3><br/><table class=\"wandb\"><tr><td>average_reward_across_seeds</td><td>▁</td></tr><tr><td>seed_101_episode</td><td>▁▁▁▁▂▂▂▂▂▂▃▃▃▃▃▃▃▄▄▄▄▄▄▄▄▄▄▅▅▅▅▆▆▆▇▇████</td></tr><tr><td>seed_101_reward</td><td>▁▁▁▁▁▁▁▁▂▂▁▁▇▂▁▆▄▇▁▇▂▇▂▇▁▇▃▄▇▁▄▁▇█▇▇██▂▆</td></tr><tr><td>seed_123_episode</td><td>▁▁▁▁▁▁▁▂▂▂▃▃▃▃▃▃▃▃▃▄▄▅▅▅▅▆▆▆▆▆▆▆▆▆▇▇▇▇██</td></tr><tr><td>seed_123_reward</td><td>▁▂▁▂▂▂▃▁▁▂▆▆▇▂▂▄▂▇▅▄▄▂▆▂▆▇▆▆▂█▂▇▇▆▂▅▂▅▆█</td></tr><tr><td>seed_42_episode</td><td>▁▁▁▁▁▁▂▂▂▂▃▃▃▃▄▄▄▄▄▅▅▆▆▆▆▆▆▇▇▇▇▇▇▇▇█████</td></tr><tr><td>seed_42_reward</td><td>▁▂▂▁▂▂▇▇▆█▂▆▂▆▇▄▄▄▂▂▇▄▆▂▇▇▂▂▆█▂▂▆▆▂▂▄▇▃▆</td></tr><tr><td>seed_456_episode</td><td>▁▁▁▁▁▂▂▂▂▂▃▃▃▃▄▄▄▄▄▅▅▆▆▆▆▆▇▇▇▇▇▇▇███████</td></tr><tr><td>seed_456_reward</td><td>▁▁▂▁▁▂▄▃▁▁▄█▁█▃▂▆▇▇▇█▂▇▁██▇▂▇█▇▃▃▅▆▃▂█▇▇</td></tr><tr><td>seed_789_episode</td><td>▁▁▁▁▁▂▂▂▂▂▃▃▃▄▄▄▄▄▄▄▄▄▄▄▅▅▅▅▅▅▆▆▆▆▆▇▇▇██</td></tr><tr><td>seed_789_reward</td><td>▁▁▁▁▁▂▁▂▂▁▅▁▂▂▂▂▃▃▆▆▅█▇▇█▄█▇▇▂█▇▂▂▄█▄▂▃▇</td></tr></table><br/></div><div class=\"wandb-col\"><h3>Run summary:</h3><br/><table class=\"wandb\"><tr><td>average_reward_across_seeds</td><td>-147.45735</td></tr><tr><td>seed_101_episode</td><td>2999</td></tr><tr><td>seed_101_reward</td><td>-134.06256</td></tr><tr><td>seed_123_episode</td><td>2999</td></tr><tr><td>seed_123_reward</td><td>-110.41179</td></tr><tr><td>seed_42_episode</td><td>2999</td></tr><tr><td>seed_42_reward</td><td>-186.37363</td></tr><tr><td>seed_456_episode</td><td>2999</td></tr><tr><td>seed_456_reward</td><td>-140.18164</td></tr><tr><td>seed_789_episode</td><td>2999</td></tr><tr><td>seed_789_reward</td><td>-158.45609</td></tr></table><br/></div></div>"
            ]
          },
          "metadata": {}
        },
        {
          "output_type": "display_data",
          "data": {
            "text/plain": [
              "<IPython.core.display.HTML object>"
            ],
            "text/html": [
              " View run <strong style=\"color:#cdcd00\">treasured-sweep-18</strong> at: <a href='https://wandb.ai/abhijithvinod-indian-institue-of-technology-madras/RL_MountainCar_SARSA/runs/dwjdh510' target=\"_blank\">https://wandb.ai/abhijithvinod-indian-institue-of-technology-madras/RL_MountainCar_SARSA/runs/dwjdh510</a><br> View project at: <a href='https://wandb.ai/abhijithvinod-indian-institue-of-technology-madras/RL_MountainCar_SARSA' target=\"_blank\">https://wandb.ai/abhijithvinod-indian-institue-of-technology-madras/RL_MountainCar_SARSA</a><br>Synced 5 W&B file(s), 0 media file(s), 0 artifact file(s) and 0 other file(s)"
            ]
          },
          "metadata": {}
        },
        {
          "output_type": "display_data",
          "data": {
            "text/plain": [
              "<IPython.core.display.HTML object>"
            ],
            "text/html": [
              "Find logs at: <code>./wandb/run-20250401_105035-dwjdh510/logs</code>"
            ]
          },
          "metadata": {}
        },
        {
          "output_type": "stream",
          "name": "stderr",
          "text": [
            "\u001b[34m\u001b[1mwandb\u001b[0m: Agent Starting Run: b3s5z59n with config:\n",
            "\u001b[34m\u001b[1mwandb\u001b[0m: \talpha: 0.1272430246152541\n",
            "\u001b[34m\u001b[1mwandb\u001b[0m: \tepsilon: 0.10419610563803168\n",
            "\u001b[34m\u001b[1mwandb\u001b[0m: \tgamma: 0.99\n",
            "\u001b[34m\u001b[1mwandb\u001b[0m: \tn_bins: 30\n",
            "\u001b[34m\u001b[1mwandb\u001b[0m: \tn_episodes: 3000\n",
            "\u001b[34m\u001b[1mwandb\u001b[0m: \tuse_reward_shaping: True\n"
          ]
        },
        {
          "output_type": "display_data",
          "data": {
            "text/plain": [
              "<IPython.core.display.HTML object>"
            ],
            "text/html": [
              "Tracking run with wandb version 0.19.8"
            ]
          },
          "metadata": {}
        },
        {
          "output_type": "display_data",
          "data": {
            "text/plain": [
              "<IPython.core.display.HTML object>"
            ],
            "text/html": [
              "Run data is saved locally in <code>/content/wandb/run-20250401_105434-b3s5z59n</code>"
            ]
          },
          "metadata": {}
        },
        {
          "output_type": "display_data",
          "data": {
            "text/plain": [
              "<IPython.core.display.HTML object>"
            ],
            "text/html": [
              "Syncing run <strong><a href='https://wandb.ai/abhijithvinod-indian-institue-of-technology-madras/RL_MountainCar_SARSA/runs/b3s5z59n' target=\"_blank\">driven-sweep-19</a></strong> to <a href='https://wandb.ai/abhijithvinod-indian-institue-of-technology-madras/RL_MountainCar_SARSA' target=\"_blank\">Weights & Biases</a> (<a href='https://wandb.me/developer-guide' target=\"_blank\">docs</a>)<br>Sweep page: <a href='https://wandb.ai/abhijithvinod-indian-institue-of-technology-madras/RL_MountainCar_SARSA/sweeps/bfmad29r' target=\"_blank\">https://wandb.ai/abhijithvinod-indian-institue-of-technology-madras/RL_MountainCar_SARSA/sweeps/bfmad29r</a>"
            ]
          },
          "metadata": {}
        },
        {
          "output_type": "display_data",
          "data": {
            "text/plain": [
              "<IPython.core.display.HTML object>"
            ],
            "text/html": [
              " View project at <a href='https://wandb.ai/abhijithvinod-indian-institue-of-technology-madras/RL_MountainCar_SARSA' target=\"_blank\">https://wandb.ai/abhijithvinod-indian-institue-of-technology-madras/RL_MountainCar_SARSA</a>"
            ]
          },
          "metadata": {}
        },
        {
          "output_type": "display_data",
          "data": {
            "text/plain": [
              "<IPython.core.display.HTML object>"
            ],
            "text/html": [
              " View sweep at <a href='https://wandb.ai/abhijithvinod-indian-institue-of-technology-madras/RL_MountainCar_SARSA/sweeps/bfmad29r' target=\"_blank\">https://wandb.ai/abhijithvinod-indian-institue-of-technology-madras/RL_MountainCar_SARSA/sweeps/bfmad29r</a>"
            ]
          },
          "metadata": {}
        },
        {
          "output_type": "display_data",
          "data": {
            "text/plain": [
              "<IPython.core.display.HTML object>"
            ],
            "text/html": [
              " View run at <a href='https://wandb.ai/abhijithvinod-indian-institue-of-technology-madras/RL_MountainCar_SARSA/runs/b3s5z59n' target=\"_blank\">https://wandb.ai/abhijithvinod-indian-institue-of-technology-madras/RL_MountainCar_SARSA/runs/b3s5z59n</a>"
            ]
          },
          "metadata": {}
        },
        {
          "output_type": "display_data",
          "data": {
            "text/plain": [
              "<IPython.core.display.HTML object>"
            ],
            "text/html": []
          },
          "metadata": {}
        },
        {
          "output_type": "display_data",
          "data": {
            "text/plain": [
              "<IPython.core.display.HTML object>"
            ],
            "text/html": [
              "<br>    <style><br>        .wandb-row {<br>            display: flex;<br>            flex-direction: row;<br>            flex-wrap: wrap;<br>            justify-content: flex-start;<br>            width: 100%;<br>        }<br>        .wandb-col {<br>            display: flex;<br>            flex-direction: column;<br>            flex-basis: 100%;<br>            flex: 1;<br>            padding: 10px;<br>        }<br>    </style><br><div class=\"wandb-row\"><div class=\"wandb-col\"><h3>Run history:</h3><br/><table class=\"wandb\"><tr><td>average_reward_across_seeds</td><td>▁</td></tr><tr><td>seed_101_episode</td><td>▁▁▁▁▁▂▂▂▂▂▃▃▃▃▃▄▄▄▄▄▄▄▄▄▅▅▆▆▆▆▆▇▇▇▇▇▇███</td></tr><tr><td>seed_101_reward</td><td>▁▁▁▁▁▁▁▂▁▁▁▂▂▂▂▂▄▁▂▂▁▆▂▃▆▁▅▂▆▆▂▆▆▅▆▃▆█▅▇</td></tr><tr><td>seed_123_episode</td><td>▁▁▁▁▁▂▂▂▂▂▄▄▄▄▄▄▄▄▄▄▅▅▅▅▅▆▆▆▆▆▇▇▇▇▇▇████</td></tr><tr><td>seed_123_reward</td><td>▁▁▁▁▁▁▁▁▁▁▁▁▁▃▂▁▁▁▃▁▁▂▁▃▂▅█▄▇▅▅▄▅▂▆▆▆▂▃▁</td></tr><tr><td>seed_42_episode</td><td>▁▁▁▁▁▂▂▂▂▂▃▃▃▃▃▄▄▄▄▄▅▅▅▅▅▅▅▅▆▆▆▆▆▆▆▇▇▇▇█</td></tr><tr><td>seed_42_reward</td><td>▁▁▁▁▁▂▂▁▂▅▁▃▅▁▂▂▃▁▃▅▂▃▂▂▂▆▂▃▃▂▄█▂▆▄▇▆▆▁▆</td></tr><tr><td>seed_456_episode</td><td>▁▂▂▂▂▃▃▃▃▃▃▄▄▄▄▄▄▄▅▅▅▅▅▆▆▆▆▆▆▆▆▇▇▇▇▇▇▇▇█</td></tr><tr><td>seed_456_reward</td><td>▁▁▁▁▁▁▂▁▂▁▅▂▂▁▆▂▆▄▇▇▂▂▇▂▇▆▂▂▆█▂▆▇▁▄▇▇█▃▇</td></tr><tr><td>seed_789_episode</td><td>▁▁▁▁▁▂▂▂▂▂▂▂▂▃▃▃▃▃▃▄▄▅▅▅▅▆▆▆▆▆▇▇▇▇▇▇████</td></tr><tr><td>seed_789_reward</td><td>▁▁▁▁▂▂▂▂▁▂▂▂▂▁▂▇▂▂▂▂▃▂▂▂▅▂▂▆▂▆▇▄▄▇▇▃██▆▇</td></tr></table><br/></div><div class=\"wandb-col\"><h3>Run summary:</h3><br/><table class=\"wandb\"><tr><td>average_reward_across_seeds</td><td>-141.53024</td></tr><tr><td>seed_101_episode</td><td>2999</td></tr><tr><td>seed_101_reward</td><td>-126.28004</td></tr><tr><td>seed_123_episode</td><td>2999</td></tr><tr><td>seed_123_reward</td><td>-169.76686</td></tr><tr><td>seed_42_episode</td><td>2999</td></tr><tr><td>seed_42_reward</td><td>-162.69299</td></tr><tr><td>seed_456_episode</td><td>2999</td></tr><tr><td>seed_456_reward</td><td>-130.93576</td></tr><tr><td>seed_789_episode</td><td>2999</td></tr><tr><td>seed_789_reward</td><td>-125.46748</td></tr></table><br/></div></div>"
            ]
          },
          "metadata": {}
        },
        {
          "output_type": "display_data",
          "data": {
            "text/plain": [
              "<IPython.core.display.HTML object>"
            ],
            "text/html": [
              " View run <strong style=\"color:#cdcd00\">driven-sweep-19</strong> at: <a href='https://wandb.ai/abhijithvinod-indian-institue-of-technology-madras/RL_MountainCar_SARSA/runs/b3s5z59n' target=\"_blank\">https://wandb.ai/abhijithvinod-indian-institue-of-technology-madras/RL_MountainCar_SARSA/runs/b3s5z59n</a><br> View project at: <a href='https://wandb.ai/abhijithvinod-indian-institue-of-technology-madras/RL_MountainCar_SARSA' target=\"_blank\">https://wandb.ai/abhijithvinod-indian-institue-of-technology-madras/RL_MountainCar_SARSA</a><br>Synced 5 W&B file(s), 0 media file(s), 0 artifact file(s) and 0 other file(s)"
            ]
          },
          "metadata": {}
        },
        {
          "output_type": "display_data",
          "data": {
            "text/plain": [
              "<IPython.core.display.HTML object>"
            ],
            "text/html": [
              "Find logs at: <code>./wandb/run-20250401_105434-b3s5z59n/logs</code>"
            ]
          },
          "metadata": {}
        },
        {
          "output_type": "stream",
          "name": "stderr",
          "text": [
            "\u001b[34m\u001b[1mwandb\u001b[0m: Agent Starting Run: entjc35y with config:\n",
            "\u001b[34m\u001b[1mwandb\u001b[0m: \talpha: 0.22987421252257487\n",
            "\u001b[34m\u001b[1mwandb\u001b[0m: \tepsilon: 0.17233237594285167\n",
            "\u001b[34m\u001b[1mwandb\u001b[0m: \tgamma: 0.99\n",
            "\u001b[34m\u001b[1mwandb\u001b[0m: \tn_bins: 30\n",
            "\u001b[34m\u001b[1mwandb\u001b[0m: \tn_episodes: 3000\n",
            "\u001b[34m\u001b[1mwandb\u001b[0m: \tuse_reward_shaping: True\n"
          ]
        },
        {
          "output_type": "display_data",
          "data": {
            "text/plain": [
              "<IPython.core.display.HTML object>"
            ],
            "text/html": [
              "Tracking run with wandb version 0.19.8"
            ]
          },
          "metadata": {}
        },
        {
          "output_type": "display_data",
          "data": {
            "text/plain": [
              "<IPython.core.display.HTML object>"
            ],
            "text/html": [
              "Run data is saved locally in <code>/content/wandb/run-20250401_105835-entjc35y</code>"
            ]
          },
          "metadata": {}
        },
        {
          "output_type": "display_data",
          "data": {
            "text/plain": [
              "<IPython.core.display.HTML object>"
            ],
            "text/html": [
              "Syncing run <strong><a href='https://wandb.ai/abhijithvinod-indian-institue-of-technology-madras/RL_MountainCar_SARSA/runs/entjc35y' target=\"_blank\">lunar-sweep-20</a></strong> to <a href='https://wandb.ai/abhijithvinod-indian-institue-of-technology-madras/RL_MountainCar_SARSA' target=\"_blank\">Weights & Biases</a> (<a href='https://wandb.me/developer-guide' target=\"_blank\">docs</a>)<br>Sweep page: <a href='https://wandb.ai/abhijithvinod-indian-institue-of-technology-madras/RL_MountainCar_SARSA/sweeps/bfmad29r' target=\"_blank\">https://wandb.ai/abhijithvinod-indian-institue-of-technology-madras/RL_MountainCar_SARSA/sweeps/bfmad29r</a>"
            ]
          },
          "metadata": {}
        },
        {
          "output_type": "display_data",
          "data": {
            "text/plain": [
              "<IPython.core.display.HTML object>"
            ],
            "text/html": [
              " View project at <a href='https://wandb.ai/abhijithvinod-indian-institue-of-technology-madras/RL_MountainCar_SARSA' target=\"_blank\">https://wandb.ai/abhijithvinod-indian-institue-of-technology-madras/RL_MountainCar_SARSA</a>"
            ]
          },
          "metadata": {}
        },
        {
          "output_type": "display_data",
          "data": {
            "text/plain": [
              "<IPython.core.display.HTML object>"
            ],
            "text/html": [
              " View sweep at <a href='https://wandb.ai/abhijithvinod-indian-institue-of-technology-madras/RL_MountainCar_SARSA/sweeps/bfmad29r' target=\"_blank\">https://wandb.ai/abhijithvinod-indian-institue-of-technology-madras/RL_MountainCar_SARSA/sweeps/bfmad29r</a>"
            ]
          },
          "metadata": {}
        },
        {
          "output_type": "display_data",
          "data": {
            "text/plain": [
              "<IPython.core.display.HTML object>"
            ],
            "text/html": [
              " View run at <a href='https://wandb.ai/abhijithvinod-indian-institue-of-technology-madras/RL_MountainCar_SARSA/runs/entjc35y' target=\"_blank\">https://wandb.ai/abhijithvinod-indian-institue-of-technology-madras/RL_MountainCar_SARSA/runs/entjc35y</a>"
            ]
          },
          "metadata": {}
        },
        {
          "output_type": "stream",
          "name": "stderr",
          "text": [
            "\u001b[34m\u001b[1mwandb\u001b[0m: Ctrl + C detected. Stopping sweep.\n"
          ]
        }
      ]
    },
    {
      "cell_type": "code",
      "source": [
        "run_qlearning_sweep()"
      ],
      "metadata": {
        "colab": {
          "base_uri": "https://localhost:8080/",
          "height": 1000
        },
        "id": "z8bHhPMWvKjZ",
        "outputId": "fb1b7123-ad06-4a0c-f0e7-683ab38c735f"
      },
      "execution_count": 3,
      "outputs": [
        {
          "output_type": "stream",
          "name": "stdout",
          "text": [
            "Create sweep with ID: wb4w3b61\n",
            "Sweep URL: https://wandb.ai/abhijithvinod-indian-institue-of-technology-madras/RL_MountainCar_QLearning/sweeps/wb4w3b61\n"
          ]
        },
        {
          "output_type": "stream",
          "name": "stderr",
          "text": [
            "\u001b[34m\u001b[1mwandb\u001b[0m: Agent Starting Run: y76yn2sc with config:\n",
            "\u001b[34m\u001b[1mwandb\u001b[0m: \talpha: 0.23373089002431255\n",
            "\u001b[34m\u001b[1mwandb\u001b[0m: \tgamma: 0.99\n",
            "\u001b[34m\u001b[1mwandb\u001b[0m: \tn_bins: 20\n",
            "\u001b[34m\u001b[1mwandb\u001b[0m: \tn_episodes: 3000\n",
            "\u001b[34m\u001b[1mwandb\u001b[0m: \ttemperature: 0.7427537964588857\n",
            "\u001b[34m\u001b[1mwandb\u001b[0m: \tuse_reward_shaping: True\n"
          ]
        },
        {
          "output_type": "display_data",
          "data": {
            "text/plain": [
              "<IPython.core.display.HTML object>"
            ],
            "text/html": [
              "Tracking run with wandb version 0.19.8"
            ]
          },
          "metadata": {}
        },
        {
          "output_type": "display_data",
          "data": {
            "text/plain": [
              "<IPython.core.display.HTML object>"
            ],
            "text/html": [
              "Run data is saved locally in <code>/content/wandb/run-20250401_110426-y76yn2sc</code>"
            ]
          },
          "metadata": {}
        },
        {
          "output_type": "display_data",
          "data": {
            "text/plain": [
              "<IPython.core.display.HTML object>"
            ],
            "text/html": [
              "Syncing run <strong><a href='https://wandb.ai/abhijithvinod-indian-institue-of-technology-madras/RL_MountainCar_QLearning/runs/y76yn2sc' target=\"_blank\">firm-sweep-1</a></strong> to <a href='https://wandb.ai/abhijithvinod-indian-institue-of-technology-madras/RL_MountainCar_QLearning' target=\"_blank\">Weights & Biases</a> (<a href='https://wandb.me/developer-guide' target=\"_blank\">docs</a>)<br>Sweep page: <a href='https://wandb.ai/abhijithvinod-indian-institue-of-technology-madras/RL_MountainCar_QLearning/sweeps/wb4w3b61' target=\"_blank\">https://wandb.ai/abhijithvinod-indian-institue-of-technology-madras/RL_MountainCar_QLearning/sweeps/wb4w3b61</a>"
            ]
          },
          "metadata": {}
        },
        {
          "output_type": "display_data",
          "data": {
            "text/plain": [
              "<IPython.core.display.HTML object>"
            ],
            "text/html": [
              " View project at <a href='https://wandb.ai/abhijithvinod-indian-institue-of-technology-madras/RL_MountainCar_QLearning' target=\"_blank\">https://wandb.ai/abhijithvinod-indian-institue-of-technology-madras/RL_MountainCar_QLearning</a>"
            ]
          },
          "metadata": {}
        },
        {
          "output_type": "display_data",
          "data": {
            "text/plain": [
              "<IPython.core.display.HTML object>"
            ],
            "text/html": [
              " View sweep at <a href='https://wandb.ai/abhijithvinod-indian-institue-of-technology-madras/RL_MountainCar_QLearning/sweeps/wb4w3b61' target=\"_blank\">https://wandb.ai/abhijithvinod-indian-institue-of-technology-madras/RL_MountainCar_QLearning/sweeps/wb4w3b61</a>"
            ]
          },
          "metadata": {}
        },
        {
          "output_type": "display_data",
          "data": {
            "text/plain": [
              "<IPython.core.display.HTML object>"
            ],
            "text/html": [
              " View run at <a href='https://wandb.ai/abhijithvinod-indian-institue-of-technology-madras/RL_MountainCar_QLearning/runs/y76yn2sc' target=\"_blank\">https://wandb.ai/abhijithvinod-indian-institue-of-technology-madras/RL_MountainCar_QLearning/runs/y76yn2sc</a>"
            ]
          },
          "metadata": {}
        },
        {
          "output_type": "display_data",
          "data": {
            "text/plain": [
              "<IPython.core.display.HTML object>"
            ],
            "text/html": []
          },
          "metadata": {}
        },
        {
          "output_type": "display_data",
          "data": {
            "text/plain": [
              "<IPython.core.display.HTML object>"
            ],
            "text/html": [
              "<br>    <style><br>        .wandb-row {<br>            display: flex;<br>            flex-direction: row;<br>            flex-wrap: wrap;<br>            justify-content: flex-start;<br>            width: 100%;<br>        }<br>        .wandb-col {<br>            display: flex;<br>            flex-direction: column;<br>            flex-basis: 100%;<br>            flex: 1;<br>            padding: 10px;<br>        }<br>    </style><br><div class=\"wandb-row\"><div class=\"wandb-col\"><h3>Run history:</h3><br/><table class=\"wandb\"><tr><td>average_reward_across_seeds</td><td>▁</td></tr><tr><td>seed_101_episode</td><td>▁▁▂▂▂▂▂▂▂▂▃▃▃▃▃▃▄▄▄▄▄▅▅▅▅▅▆▆▆▆▇▇▇▇▇▇▇▇██</td></tr><tr><td>seed_101_reward</td><td>▁▁▁▁▁▁▁▁▁▁▁▁▁▄▁▂▁▁▁▁▁▁▁▁▁▄▁▁▁▁▃▃▆█▄▄▂▄▄▁</td></tr><tr><td>seed_123_episode</td><td>▁▁▂▂▂▂▂▃▃▃▃▄▄▄▄▅▅▅▅▅▆▆▆▆▆▆▆▆▆▇▇▇▇▇▇█████</td></tr><tr><td>seed_123_reward</td><td>▁▁▁▁▁▁▂▂▂▂▂▂▇▂▁▂▂▂▂▂▂▄▃▂▇▇█▄▃▂▂▂▂▂▇▇▇▅▁▇</td></tr><tr><td>seed_42_episode</td><td>▁▁▁▁▁▂▂▂▃▃▃▃▃▃▃▃▃▄▄▄▄▄▄▄▄▅▅▅▅▅▆▆▆▇▇▇▇▇██</td></tr><tr><td>seed_42_reward</td><td>▁▁▁▁▁▁▁▁▂▂▁▂▂▂▂▁▁▂▁▁▂▂▁▁▂▆▂▂▇▆▇▅▁▁▁▃▁▁██</td></tr><tr><td>seed_456_episode</td><td>▁▁▁▂▂▂▂▃▃▃▃▄▄▄▄▄▄▅▅▅▅▅▆▆▆▆▆▆▇▇▇▇▇▇▇▇████</td></tr><tr><td>seed_456_reward</td><td>▁▁▂▁▁▁▁▄▂▂▁▂▂▁▆▂▂▃▃▇▂▇▂▃▂▂▁█▂▂▆▂▇▂▂▁▂▆▇▁</td></tr><tr><td>seed_789_episode</td><td>▁▁▁▁▁▂▂▂▂▂▂▂▃▃▃▃▄▄▄▄▄▄▅▅▅▅▆▆▆▆▆▇▇▇▇█████</td></tr><tr><td>seed_789_reward</td><td>▁▁▁▁▂▁▂▁▂▁▂▂▂▂▂▁▂▁▂▂▂▇▂▁▂▆▂▆▆█▆▆▁▁▆▃▄▂▅▅</td></tr></table><br/></div><div class=\"wandb-col\"><h3>Run summary:</h3><br/><table class=\"wandb\"><tr><td>average_reward_across_seeds</td><td>-155.50421</td></tr><tr><td>seed_101_episode</td><td>2999</td></tr><tr><td>seed_101_reward</td><td>-151.46712</td></tr><tr><td>seed_123_episode</td><td>2999</td></tr><tr><td>seed_123_reward</td><td>-168.97028</td></tr><tr><td>seed_42_episode</td><td>2999</td></tr><tr><td>seed_42_reward</td><td>-181.70451</td></tr><tr><td>seed_456_episode</td><td>2999</td></tr><tr><td>seed_456_reward</td><td>-191.08955</td></tr><tr><td>seed_789_episode</td><td>2999</td></tr><tr><td>seed_789_reward</td><td>-186.8902</td></tr></table><br/></div></div>"
            ]
          },
          "metadata": {}
        },
        {
          "output_type": "display_data",
          "data": {
            "text/plain": [
              "<IPython.core.display.HTML object>"
            ],
            "text/html": [
              " View run <strong style=\"color:#cdcd00\">firm-sweep-1</strong> at: <a href='https://wandb.ai/abhijithvinod-indian-institue-of-technology-madras/RL_MountainCar_QLearning/runs/y76yn2sc' target=\"_blank\">https://wandb.ai/abhijithvinod-indian-institue-of-technology-madras/RL_MountainCar_QLearning/runs/y76yn2sc</a><br> View project at: <a href='https://wandb.ai/abhijithvinod-indian-institue-of-technology-madras/RL_MountainCar_QLearning' target=\"_blank\">https://wandb.ai/abhijithvinod-indian-institue-of-technology-madras/RL_MountainCar_QLearning</a><br>Synced 5 W&B file(s), 0 media file(s), 0 artifact file(s) and 0 other file(s)"
            ]
          },
          "metadata": {}
        },
        {
          "output_type": "display_data",
          "data": {
            "text/plain": [
              "<IPython.core.display.HTML object>"
            ],
            "text/html": [
              "Find logs at: <code>./wandb/run-20250401_110426-y76yn2sc/logs</code>"
            ]
          },
          "metadata": {}
        },
        {
          "output_type": "stream",
          "name": "stderr",
          "text": [
            "\u001b[34m\u001b[1mwandb\u001b[0m: Agent Starting Run: mam0er28 with config:\n",
            "\u001b[34m\u001b[1mwandb\u001b[0m: \talpha: 0.23607474651530305\n",
            "\u001b[34m\u001b[1mwandb\u001b[0m: \tgamma: 0.99\n",
            "\u001b[34m\u001b[1mwandb\u001b[0m: \tn_bins: 30\n",
            "\u001b[34m\u001b[1mwandb\u001b[0m: \tn_episodes: 3000\n",
            "\u001b[34m\u001b[1mwandb\u001b[0m: \ttemperature: 0.9977774493236796\n",
            "\u001b[34m\u001b[1mwandb\u001b[0m: \tuse_reward_shaping: True\n"
          ]
        },
        {
          "output_type": "display_data",
          "data": {
            "text/plain": [
              "<IPython.core.display.HTML object>"
            ],
            "text/html": [
              "Tracking run with wandb version 0.19.8"
            ]
          },
          "metadata": {}
        },
        {
          "output_type": "display_data",
          "data": {
            "text/plain": [
              "<IPython.core.display.HTML object>"
            ],
            "text/html": [
              "Run data is saved locally in <code>/content/wandb/run-20250401_111030-mam0er28</code>"
            ]
          },
          "metadata": {}
        },
        {
          "output_type": "display_data",
          "data": {
            "text/plain": [
              "<IPython.core.display.HTML object>"
            ],
            "text/html": [
              "Syncing run <strong><a href='https://wandb.ai/abhijithvinod-indian-institue-of-technology-madras/RL_MountainCar_QLearning/runs/mam0er28' target=\"_blank\">cool-sweep-2</a></strong> to <a href='https://wandb.ai/abhijithvinod-indian-institue-of-technology-madras/RL_MountainCar_QLearning' target=\"_blank\">Weights & Biases</a> (<a href='https://wandb.me/developer-guide' target=\"_blank\">docs</a>)<br>Sweep page: <a href='https://wandb.ai/abhijithvinod-indian-institue-of-technology-madras/RL_MountainCar_QLearning/sweeps/wb4w3b61' target=\"_blank\">https://wandb.ai/abhijithvinod-indian-institue-of-technology-madras/RL_MountainCar_QLearning/sweeps/wb4w3b61</a>"
            ]
          },
          "metadata": {}
        },
        {
          "output_type": "display_data",
          "data": {
            "text/plain": [
              "<IPython.core.display.HTML object>"
            ],
            "text/html": [
              " View project at <a href='https://wandb.ai/abhijithvinod-indian-institue-of-technology-madras/RL_MountainCar_QLearning' target=\"_blank\">https://wandb.ai/abhijithvinod-indian-institue-of-technology-madras/RL_MountainCar_QLearning</a>"
            ]
          },
          "metadata": {}
        },
        {
          "output_type": "display_data",
          "data": {
            "text/plain": [
              "<IPython.core.display.HTML object>"
            ],
            "text/html": [
              " View sweep at <a href='https://wandb.ai/abhijithvinod-indian-institue-of-technology-madras/RL_MountainCar_QLearning/sweeps/wb4w3b61' target=\"_blank\">https://wandb.ai/abhijithvinod-indian-institue-of-technology-madras/RL_MountainCar_QLearning/sweeps/wb4w3b61</a>"
            ]
          },
          "metadata": {}
        },
        {
          "output_type": "display_data",
          "data": {
            "text/plain": [
              "<IPython.core.display.HTML object>"
            ],
            "text/html": [
              " View run at <a href='https://wandb.ai/abhijithvinod-indian-institue-of-technology-madras/RL_MountainCar_QLearning/runs/mam0er28' target=\"_blank\">https://wandb.ai/abhijithvinod-indian-institue-of-technology-madras/RL_MountainCar_QLearning/runs/mam0er28</a>"
            ]
          },
          "metadata": {}
        },
        {
          "output_type": "display_data",
          "data": {
            "text/plain": [
              "<IPython.core.display.HTML object>"
            ],
            "text/html": []
          },
          "metadata": {}
        },
        {
          "output_type": "display_data",
          "data": {
            "text/plain": [
              "<IPython.core.display.HTML object>"
            ],
            "text/html": [
              "<br>    <style><br>        .wandb-row {<br>            display: flex;<br>            flex-direction: row;<br>            flex-wrap: wrap;<br>            justify-content: flex-start;<br>            width: 100%;<br>        }<br>        .wandb-col {<br>            display: flex;<br>            flex-direction: column;<br>            flex-basis: 100%;<br>            flex: 1;<br>            padding: 10px;<br>        }<br>    </style><br><div class=\"wandb-row\"><div class=\"wandb-col\"><h3>Run history:</h3><br/><table class=\"wandb\"><tr><td>average_reward_across_seeds</td><td>▁</td></tr><tr><td>seed_101_episode</td><td>▁▁▁▁▁▂▂▂▂▂▃▃▃▃▃▄▄▄▄▄▅▅▅▅▅▅▅▆▆▆▇▇▇▇▇▇████</td></tr><tr><td>seed_101_reward</td><td>▃▁▃▄▅▄▃▆▃▄▆▄▃▇▆▅▅▅▄▅▇▆▂▆▅▄▇█▄▆▄▆▇▆▅▄▆▄▅▆</td></tr><tr><td>seed_123_episode</td><td>▁▁▁▂▂▂▂▂▂▂▃▃▃▃▃▄▄▄▅▅▅▅▅▅▅▅▅▅▆▆▆▇▇▇▇▇▇███</td></tr><tr><td>seed_123_reward</td><td>▁▂▁▂▂▂▂▂▂▂▂▂▂▂▂▂▂▂▂▂▂▂▂▂▂▂▂▂▂▂█▁▂▅▂▂▂▂▂▁</td></tr><tr><td>seed_42_episode</td><td>▁▁▂▂▂▂▂▂▃▃▃▃▃▃▃▃▃▄▄▄▄▄▄▅▅▅▅▆▆▆▆▆▆▆▇▇▇▇▇█</td></tr><tr><td>seed_42_reward</td><td>▃▃▃▃▁▃▄▅▄▄▄▅▅▃▃▅▃▅▆▅▅▄▃▆▆▄▅▆▇▄▇▅█▇▇▆▇█▄█</td></tr><tr><td>seed_456_episode</td><td>▁▁▁▁▁▂▂▂▂▂▃▃▃▃▃▄▄▄▄▄▄▅▅▅▅▆▆▆▆▆▇▇▇▇▇▇████</td></tr><tr><td>seed_456_reward</td><td>▃▂▁▃▃▅▅▇▅▄▄▅▄▄▃▅▄▄▄▆▄▅▆▆▁▇▇▅▅▇▅▅▅▅▄▆▆▆█▅</td></tr><tr><td>seed_789_episode</td><td>▁▁▁▁▂▂▂▂▂▂▃▃▃▃▄▄▄▄▄▄▅▅▅▅▅▅▅▅▆▆▆▆▆▆▇▇▇▇▇█</td></tr><tr><td>seed_789_reward</td><td>▁▁▂▁▂▁▁▂▂▂▂▁▂▂▂▁▂▃▂▁▁▂▂▂▂▁▂▂▂▁▂▂▂▁▁▁▂▃▁█</td></tr></table><br/></div><div class=\"wandb-col\"><h3>Run summary:</h3><br/><table class=\"wandb\"><tr><td>average_reward_across_seeds</td><td>-185.55943</td></tr><tr><td>seed_101_episode</td><td>2999</td></tr><tr><td>seed_101_reward</td><td>-185.50206</td></tr><tr><td>seed_123_episode</td><td>2999</td></tr><tr><td>seed_123_reward</td><td>-174.32005</td></tr><tr><td>seed_42_episode</td><td>2999</td></tr><tr><td>seed_42_reward</td><td>-189.85252</td></tr><tr><td>seed_456_episode</td><td>2999</td></tr><tr><td>seed_456_reward</td><td>-185.6219</td></tr><tr><td>seed_789_episode</td><td>2999</td></tr><tr><td>seed_789_reward</td><td>-189.36382</td></tr></table><br/></div></div>"
            ]
          },
          "metadata": {}
        },
        {
          "output_type": "display_data",
          "data": {
            "text/plain": [
              "<IPython.core.display.HTML object>"
            ],
            "text/html": [
              " View run <strong style=\"color:#cdcd00\">cool-sweep-2</strong> at: <a href='https://wandb.ai/abhijithvinod-indian-institue-of-technology-madras/RL_MountainCar_QLearning/runs/mam0er28' target=\"_blank\">https://wandb.ai/abhijithvinod-indian-institue-of-technology-madras/RL_MountainCar_QLearning/runs/mam0er28</a><br> View project at: <a href='https://wandb.ai/abhijithvinod-indian-institue-of-technology-madras/RL_MountainCar_QLearning' target=\"_blank\">https://wandb.ai/abhijithvinod-indian-institue-of-technology-madras/RL_MountainCar_QLearning</a><br>Synced 5 W&B file(s), 0 media file(s), 0 artifact file(s) and 0 other file(s)"
            ]
          },
          "metadata": {}
        },
        {
          "output_type": "display_data",
          "data": {
            "text/plain": [
              "<IPython.core.display.HTML object>"
            ],
            "text/html": [
              "Find logs at: <code>./wandb/run-20250401_111030-mam0er28/logs</code>"
            ]
          },
          "metadata": {}
        },
        {
          "output_type": "stream",
          "name": "stderr",
          "text": [
            "\u001b[34m\u001b[1mwandb\u001b[0m: Agent Starting Run: vb60p2nj with config:\n",
            "\u001b[34m\u001b[1mwandb\u001b[0m: \talpha: 0.11255877118170146\n",
            "\u001b[34m\u001b[1mwandb\u001b[0m: \tgamma: 0.99\n",
            "\u001b[34m\u001b[1mwandb\u001b[0m: \tn_bins: 25\n",
            "\u001b[34m\u001b[1mwandb\u001b[0m: \tn_episodes: 3000\n",
            "\u001b[34m\u001b[1mwandb\u001b[0m: \ttemperature: 0.6303667032026474\n",
            "\u001b[34m\u001b[1mwandb\u001b[0m: \tuse_reward_shaping: True\n"
          ]
        },
        {
          "output_type": "display_data",
          "data": {
            "text/plain": [
              "<IPython.core.display.HTML object>"
            ],
            "text/html": [
              "Tracking run with wandb version 0.19.8"
            ]
          },
          "metadata": {}
        },
        {
          "output_type": "display_data",
          "data": {
            "text/plain": [
              "<IPython.core.display.HTML object>"
            ],
            "text/html": [
              "Run data is saved locally in <code>/content/wandb/run-20250401_111650-vb60p2nj</code>"
            ]
          },
          "metadata": {}
        },
        {
          "output_type": "display_data",
          "data": {
            "text/plain": [
              "<IPython.core.display.HTML object>"
            ],
            "text/html": [
              "Syncing run <strong><a href='https://wandb.ai/abhijithvinod-indian-institue-of-technology-madras/RL_MountainCar_QLearning/runs/vb60p2nj' target=\"_blank\">scarlet-sweep-3</a></strong> to <a href='https://wandb.ai/abhijithvinod-indian-institue-of-technology-madras/RL_MountainCar_QLearning' target=\"_blank\">Weights & Biases</a> (<a href='https://wandb.me/developer-guide' target=\"_blank\">docs</a>)<br>Sweep page: <a href='https://wandb.ai/abhijithvinod-indian-institue-of-technology-madras/RL_MountainCar_QLearning/sweeps/wb4w3b61' target=\"_blank\">https://wandb.ai/abhijithvinod-indian-institue-of-technology-madras/RL_MountainCar_QLearning/sweeps/wb4w3b61</a>"
            ]
          },
          "metadata": {}
        },
        {
          "output_type": "display_data",
          "data": {
            "text/plain": [
              "<IPython.core.display.HTML object>"
            ],
            "text/html": [
              " View project at <a href='https://wandb.ai/abhijithvinod-indian-institue-of-technology-madras/RL_MountainCar_QLearning' target=\"_blank\">https://wandb.ai/abhijithvinod-indian-institue-of-technology-madras/RL_MountainCar_QLearning</a>"
            ]
          },
          "metadata": {}
        },
        {
          "output_type": "display_data",
          "data": {
            "text/plain": [
              "<IPython.core.display.HTML object>"
            ],
            "text/html": [
              " View sweep at <a href='https://wandb.ai/abhijithvinod-indian-institue-of-technology-madras/RL_MountainCar_QLearning/sweeps/wb4w3b61' target=\"_blank\">https://wandb.ai/abhijithvinod-indian-institue-of-technology-madras/RL_MountainCar_QLearning/sweeps/wb4w3b61</a>"
            ]
          },
          "metadata": {}
        },
        {
          "output_type": "display_data",
          "data": {
            "text/plain": [
              "<IPython.core.display.HTML object>"
            ],
            "text/html": [
              " View run at <a href='https://wandb.ai/abhijithvinod-indian-institue-of-technology-madras/RL_MountainCar_QLearning/runs/vb60p2nj' target=\"_blank\">https://wandb.ai/abhijithvinod-indian-institue-of-technology-madras/RL_MountainCar_QLearning/runs/vb60p2nj</a>"
            ]
          },
          "metadata": {}
        },
        {
          "output_type": "display_data",
          "data": {
            "text/plain": [
              "<IPython.core.display.HTML object>"
            ],
            "text/html": []
          },
          "metadata": {}
        },
        {
          "output_type": "display_data",
          "data": {
            "text/plain": [
              "<IPython.core.display.HTML object>"
            ],
            "text/html": [
              "<br>    <style><br>        .wandb-row {<br>            display: flex;<br>            flex-direction: row;<br>            flex-wrap: wrap;<br>            justify-content: flex-start;<br>            width: 100%;<br>        }<br>        .wandb-col {<br>            display: flex;<br>            flex-direction: column;<br>            flex-basis: 100%;<br>            flex: 1;<br>            padding: 10px;<br>        }<br>    </style><br><div class=\"wandb-row\"><div class=\"wandb-col\"><h3>Run history:</h3><br/><table class=\"wandb\"><tr><td>average_reward_across_seeds</td><td>▁</td></tr><tr><td>seed_101_episode</td><td>▁▁▁▁▁▂▂▂▂▂▂▂▃▃▃▃▄▄▄▄▄▄▅▅▅▆▆▆▆▆▇▇▇▇▇▇▇███</td></tr><tr><td>seed_101_reward</td><td>▁▂▁▁▂▂▂▂▂▁▂▂▁▂▂▂▂▂▂▂▂▂▂▂▂▁▂▂▂▂▂▂▂▂▂█▃▂▂▇</td></tr><tr><td>seed_123_episode</td><td>▁▁▁▁▂▂▂▂▂▃▃▃▃▃▃▃▃▃▄▄▄▄▅▅▅▅▆▆▆▆▇▇▇▇▇█████</td></tr><tr><td>seed_123_reward</td><td>▁▁▁▁▁▁▁▁▁▁▁▂▂▂▂▁▂▄▂▂▁▇▁▂▃█▂▂▂▂▂▂▁▂▂▂▅▄▆▂</td></tr><tr><td>seed_42_episode</td><td>▁▁▁▁▁▂▂▂▂▂▃▃▃▃▃▄▄▄▄▄▄▅▅▅▅▅▆▆▆▆▆▆▆▇▇▇████</td></tr><tr><td>seed_42_reward</td><td>▁▁▁▁▁▁▁▁▂▂▂▂▂▂▂▂▂▂▂▁▂▂▂▂▂█▂▂▂▁█▂▂▂▂▂▃▂▂▂</td></tr><tr><td>seed_456_episode</td><td>▁▁▁▁▂▂▂▂▂▂▂▃▃▃▃▃▃▃▄▄▄▄▄▅▅▅▅▆▆▆▆▆▇▇▇▇████</td></tr><tr><td>seed_456_reward</td><td>▁▁▁▁▂▂▂▁▂▂▃▁▂▂▂▂▁▇▂▂▂█▂▂▂▁▂▂▂▁▁▁▂▂▂▂▄▂▂▂</td></tr><tr><td>seed_789_episode</td><td>▁▁▁▁▂▂▂▂▃▃▃▃▃▄▄▄▄▄▄▄▄▅▅▅▅▅▆▆▆▆▇▇▇▇▇▇████</td></tr><tr><td>seed_789_reward</td><td>▁▁▁▂▁▁▂▂▁▁▁▁▂▂▁▂▂▂█▁▂▂▁▂▂▂▂▇▂▃▆▂▂▂▂▇▂▂▄▄</td></tr></table><br/></div><div class=\"wandb-col\"><h3>Run summary:</h3><br/><table class=\"wandb\"><tr><td>average_reward_across_seeds</td><td>-169.47314</td></tr><tr><td>seed_101_episode</td><td>2999</td></tr><tr><td>seed_101_reward</td><td>-151.30969</td></tr><tr><td>seed_123_episode</td><td>2999</td></tr><tr><td>seed_123_reward</td><td>-184.95816</td></tr><tr><td>seed_42_episode</td><td>2999</td></tr><tr><td>seed_42_reward</td><td>-185.86134</td></tr><tr><td>seed_456_episode</td><td>2999</td></tr><tr><td>seed_456_reward</td><td>-135.45293</td></tr><tr><td>seed_789_episode</td><td>2999</td></tr><tr><td>seed_789_reward</td><td>-188.79684</td></tr></table><br/></div></div>"
            ]
          },
          "metadata": {}
        },
        {
          "output_type": "display_data",
          "data": {
            "text/plain": [
              "<IPython.core.display.HTML object>"
            ],
            "text/html": [
              " View run <strong style=\"color:#cdcd00\">scarlet-sweep-3</strong> at: <a href='https://wandb.ai/abhijithvinod-indian-institue-of-technology-madras/RL_MountainCar_QLearning/runs/vb60p2nj' target=\"_blank\">https://wandb.ai/abhijithvinod-indian-institue-of-technology-madras/RL_MountainCar_QLearning/runs/vb60p2nj</a><br> View project at: <a href='https://wandb.ai/abhijithvinod-indian-institue-of-technology-madras/RL_MountainCar_QLearning' target=\"_blank\">https://wandb.ai/abhijithvinod-indian-institue-of-technology-madras/RL_MountainCar_QLearning</a><br>Synced 5 W&B file(s), 0 media file(s), 0 artifact file(s) and 0 other file(s)"
            ]
          },
          "metadata": {}
        },
        {
          "output_type": "display_data",
          "data": {
            "text/plain": [
              "<IPython.core.display.HTML object>"
            ],
            "text/html": [
              "Find logs at: <code>./wandb/run-20250401_111650-vb60p2nj/logs</code>"
            ]
          },
          "metadata": {}
        },
        {
          "output_type": "stream",
          "name": "stderr",
          "text": [
            "\u001b[34m\u001b[1mwandb\u001b[0m: Agent Starting Run: 8hq8ugua with config:\n",
            "\u001b[34m\u001b[1mwandb\u001b[0m: \talpha: 0.22310522420450996\n",
            "\u001b[34m\u001b[1mwandb\u001b[0m: \tgamma: 0.99\n",
            "\u001b[34m\u001b[1mwandb\u001b[0m: \tn_bins: 20\n",
            "\u001b[34m\u001b[1mwandb\u001b[0m: \tn_episodes: 3000\n",
            "\u001b[34m\u001b[1mwandb\u001b[0m: \ttemperature: 0.7487458789309913\n",
            "\u001b[34m\u001b[1mwandb\u001b[0m: \tuse_reward_shaping: True\n"
          ]
        },
        {
          "output_type": "display_data",
          "data": {
            "text/plain": [
              "<IPython.core.display.HTML object>"
            ],
            "text/html": [
              "Tracking run with wandb version 0.19.8"
            ]
          },
          "metadata": {}
        },
        {
          "output_type": "display_data",
          "data": {
            "text/plain": [
              "<IPython.core.display.HTML object>"
            ],
            "text/html": [
              "Run data is saved locally in <code>/content/wandb/run-20250401_112310-8hq8ugua</code>"
            ]
          },
          "metadata": {}
        },
        {
          "output_type": "display_data",
          "data": {
            "text/plain": [
              "<IPython.core.display.HTML object>"
            ],
            "text/html": [
              "Syncing run <strong><a href='https://wandb.ai/abhijithvinod-indian-institue-of-technology-madras/RL_MountainCar_QLearning/runs/8hq8ugua' target=\"_blank\">sage-sweep-4</a></strong> to <a href='https://wandb.ai/abhijithvinod-indian-institue-of-technology-madras/RL_MountainCar_QLearning' target=\"_blank\">Weights & Biases</a> (<a href='https://wandb.me/developer-guide' target=\"_blank\">docs</a>)<br>Sweep page: <a href='https://wandb.ai/abhijithvinod-indian-institue-of-technology-madras/RL_MountainCar_QLearning/sweeps/wb4w3b61' target=\"_blank\">https://wandb.ai/abhijithvinod-indian-institue-of-technology-madras/RL_MountainCar_QLearning/sweeps/wb4w3b61</a>"
            ]
          },
          "metadata": {}
        },
        {
          "output_type": "display_data",
          "data": {
            "text/plain": [
              "<IPython.core.display.HTML object>"
            ],
            "text/html": [
              " View project at <a href='https://wandb.ai/abhijithvinod-indian-institue-of-technology-madras/RL_MountainCar_QLearning' target=\"_blank\">https://wandb.ai/abhijithvinod-indian-institue-of-technology-madras/RL_MountainCar_QLearning</a>"
            ]
          },
          "metadata": {}
        },
        {
          "output_type": "display_data",
          "data": {
            "text/plain": [
              "<IPython.core.display.HTML object>"
            ],
            "text/html": [
              " View sweep at <a href='https://wandb.ai/abhijithvinod-indian-institue-of-technology-madras/RL_MountainCar_QLearning/sweeps/wb4w3b61' target=\"_blank\">https://wandb.ai/abhijithvinod-indian-institue-of-technology-madras/RL_MountainCar_QLearning/sweeps/wb4w3b61</a>"
            ]
          },
          "metadata": {}
        },
        {
          "output_type": "display_data",
          "data": {
            "text/plain": [
              "<IPython.core.display.HTML object>"
            ],
            "text/html": [
              " View run at <a href='https://wandb.ai/abhijithvinod-indian-institue-of-technology-madras/RL_MountainCar_QLearning/runs/8hq8ugua' target=\"_blank\">https://wandb.ai/abhijithvinod-indian-institue-of-technology-madras/RL_MountainCar_QLearning/runs/8hq8ugua</a>"
            ]
          },
          "metadata": {}
        },
        {
          "output_type": "display_data",
          "data": {
            "text/plain": [
              "<IPython.core.display.HTML object>"
            ],
            "text/html": []
          },
          "metadata": {}
        },
        {
          "output_type": "display_data",
          "data": {
            "text/plain": [
              "<IPython.core.display.HTML object>"
            ],
            "text/html": [
              "<br>    <style><br>        .wandb-row {<br>            display: flex;<br>            flex-direction: row;<br>            flex-wrap: wrap;<br>            justify-content: flex-start;<br>            width: 100%;<br>        }<br>        .wandb-col {<br>            display: flex;<br>            flex-direction: column;<br>            flex-basis: 100%;<br>            flex: 1;<br>            padding: 10px;<br>        }<br>    </style><br><div class=\"wandb-row\"><div class=\"wandb-col\"><h3>Run history:</h3><br/><table class=\"wandb\"><tr><td>average_reward_across_seeds</td><td>▁</td></tr><tr><td>seed_101_episode</td><td>▁▁▂▂▂▂▂▂▂▂▃▃▃▃▃▃▄▄▄▄▄▅▅▅▅▅▅▅▅▆▇▇▇▇▇█████</td></tr><tr><td>seed_101_reward</td><td>▁▁▁▂▁▁▁▂▁▁▂▂▂▂▆▂▂▂▂▂▁▇▁▂█▂▅▁▂█▂▂▂▂▂▅▆▂▇▂</td></tr><tr><td>seed_123_episode</td><td>▁▁▁▁▁▁▂▂▂▂▂▂▂▂▂▃▃▃▃▄▄▄▄▄▄▅▅▅▅▅▆▆▆▆▆▇▇███</td></tr><tr><td>seed_123_reward</td><td>▁▁▁▁▂▁▂▁▁▁▁▁▂▁▁▁▁▁▁▁▁▁▅▃▃▄▂▁▅▂▁▂▂▁▇█▄▄▅▃</td></tr><tr><td>seed_42_episode</td><td>▁▁▁▁▁▁▂▂▂▂▃▃▃▄▄▄▄▄▄▄▅▅▅▅▅▅▆▆▆▆▇▇▇▇▇█████</td></tr><tr><td>seed_42_reward</td><td>▁▁▁▁▁▁▁▁▁▁▁▁▁▁▁▃▅▁▁▂▅▁▅▁▁▁█▅▁▃▂▃▁▂▅▅▁▅█▁</td></tr><tr><td>seed_456_episode</td><td>▁▁▁▁▁▁▁▂▃▃▃▃▃▄▄▄▄▄▄▄▄▄▅▅▅▆▆▆▆▆▇▇▇▇▇▇████</td></tr><tr><td>seed_456_reward</td><td>▁▁▁▂▂▁▂▂▂▂▂▂▂▂▂▄▆▂▇▂▃▂▂█▇▅▂▂▂▂▂▂▁▂▇▇▆▂▂▂</td></tr><tr><td>seed_789_episode</td><td>▁▁▁▁▁▂▂▂▂▂▃▃▃▃▄▄▄▄▄▄▅▅▅▅▆▆▆▆▇▇▇▇▇▇▇▇▇▇██</td></tr><tr><td>seed_789_reward</td><td>▁▁▂▂▂▁▂▂▂▆▂▂▇▂▇▂▂▂▂▂▂▂▇▇▇██▇▂▆▆▂▂▃▃▂▆▇█▇</td></tr></table><br/></div><div class=\"wandb-col\"><h3>Run summary:</h3><br/><table class=\"wandb\"><tr><td>average_reward_across_seeds</td><td>-152.19536</td></tr><tr><td>seed_101_episode</td><td>2999</td></tr><tr><td>seed_101_reward</td><td>-186.69412</td></tr><tr><td>seed_123_episode</td><td>2999</td></tr><tr><td>seed_123_reward</td><td>-161.15036</td></tr><tr><td>seed_42_episode</td><td>2999</td></tr><tr><td>seed_42_reward</td><td>-184.13115</td></tr><tr><td>seed_456_episode</td><td>2999</td></tr><tr><td>seed_456_reward</td><td>-136.24933</td></tr><tr><td>seed_789_episode</td><td>2999</td></tr><tr><td>seed_789_reward</td><td>-122.9349</td></tr></table><br/></div></div>"
            ]
          },
          "metadata": {}
        },
        {
          "output_type": "display_data",
          "data": {
            "text/plain": [
              "<IPython.core.display.HTML object>"
            ],
            "text/html": [
              " View run <strong style=\"color:#cdcd00\">sage-sweep-4</strong> at: <a href='https://wandb.ai/abhijithvinod-indian-institue-of-technology-madras/RL_MountainCar_QLearning/runs/8hq8ugua' target=\"_blank\">https://wandb.ai/abhijithvinod-indian-institue-of-technology-madras/RL_MountainCar_QLearning/runs/8hq8ugua</a><br> View project at: <a href='https://wandb.ai/abhijithvinod-indian-institue-of-technology-madras/RL_MountainCar_QLearning' target=\"_blank\">https://wandb.ai/abhijithvinod-indian-institue-of-technology-madras/RL_MountainCar_QLearning</a><br>Synced 5 W&B file(s), 0 media file(s), 0 artifact file(s) and 0 other file(s)"
            ]
          },
          "metadata": {}
        },
        {
          "output_type": "display_data",
          "data": {
            "text/plain": [
              "<IPython.core.display.HTML object>"
            ],
            "text/html": [
              "Find logs at: <code>./wandb/run-20250401_112310-8hq8ugua/logs</code>"
            ]
          },
          "metadata": {}
        },
        {
          "output_type": "stream",
          "name": "stderr",
          "text": [
            "\u001b[34m\u001b[1mwandb\u001b[0m: Agent Starting Run: i4hyaoi5 with config:\n",
            "\u001b[34m\u001b[1mwandb\u001b[0m: \talpha: 0.19705235292945783\n",
            "\u001b[34m\u001b[1mwandb\u001b[0m: \tgamma: 0.99\n",
            "\u001b[34m\u001b[1mwandb\u001b[0m: \tn_bins: 20\n",
            "\u001b[34m\u001b[1mwandb\u001b[0m: \tn_episodes: 3000\n",
            "\u001b[34m\u001b[1mwandb\u001b[0m: \ttemperature: 0.7926276171425877\n",
            "\u001b[34m\u001b[1mwandb\u001b[0m: \tuse_reward_shaping: True\n"
          ]
        },
        {
          "output_type": "display_data",
          "data": {
            "text/plain": [
              "<IPython.core.display.HTML object>"
            ],
            "text/html": [
              "Tracking run with wandb version 0.19.8"
            ]
          },
          "metadata": {}
        },
        {
          "output_type": "display_data",
          "data": {
            "text/plain": [
              "<IPython.core.display.HTML object>"
            ],
            "text/html": [
              "Run data is saved locally in <code>/content/wandb/run-20250401_112915-i4hyaoi5</code>"
            ]
          },
          "metadata": {}
        },
        {
          "output_type": "display_data",
          "data": {
            "text/plain": [
              "<IPython.core.display.HTML object>"
            ],
            "text/html": [
              "Syncing run <strong><a href='https://wandb.ai/abhijithvinod-indian-institue-of-technology-madras/RL_MountainCar_QLearning/runs/i4hyaoi5' target=\"_blank\">good-sweep-5</a></strong> to <a href='https://wandb.ai/abhijithvinod-indian-institue-of-technology-madras/RL_MountainCar_QLearning' target=\"_blank\">Weights & Biases</a> (<a href='https://wandb.me/developer-guide' target=\"_blank\">docs</a>)<br>Sweep page: <a href='https://wandb.ai/abhijithvinod-indian-institue-of-technology-madras/RL_MountainCar_QLearning/sweeps/wb4w3b61' target=\"_blank\">https://wandb.ai/abhijithvinod-indian-institue-of-technology-madras/RL_MountainCar_QLearning/sweeps/wb4w3b61</a>"
            ]
          },
          "metadata": {}
        },
        {
          "output_type": "display_data",
          "data": {
            "text/plain": [
              "<IPython.core.display.HTML object>"
            ],
            "text/html": [
              " View project at <a href='https://wandb.ai/abhijithvinod-indian-institue-of-technology-madras/RL_MountainCar_QLearning' target=\"_blank\">https://wandb.ai/abhijithvinod-indian-institue-of-technology-madras/RL_MountainCar_QLearning</a>"
            ]
          },
          "metadata": {}
        },
        {
          "output_type": "display_data",
          "data": {
            "text/plain": [
              "<IPython.core.display.HTML object>"
            ],
            "text/html": [
              " View sweep at <a href='https://wandb.ai/abhijithvinod-indian-institue-of-technology-madras/RL_MountainCar_QLearning/sweeps/wb4w3b61' target=\"_blank\">https://wandb.ai/abhijithvinod-indian-institue-of-technology-madras/RL_MountainCar_QLearning/sweeps/wb4w3b61</a>"
            ]
          },
          "metadata": {}
        },
        {
          "output_type": "display_data",
          "data": {
            "text/plain": [
              "<IPython.core.display.HTML object>"
            ],
            "text/html": [
              " View run at <a href='https://wandb.ai/abhijithvinod-indian-institue-of-technology-madras/RL_MountainCar_QLearning/runs/i4hyaoi5' target=\"_blank\">https://wandb.ai/abhijithvinod-indian-institue-of-technology-madras/RL_MountainCar_QLearning/runs/i4hyaoi5</a>"
            ]
          },
          "metadata": {}
        },
        {
          "output_type": "display_data",
          "data": {
            "text/plain": [
              "<IPython.core.display.HTML object>"
            ],
            "text/html": []
          },
          "metadata": {}
        },
        {
          "output_type": "display_data",
          "data": {
            "text/plain": [
              "<IPython.core.display.HTML object>"
            ],
            "text/html": [
              "<br>    <style><br>        .wandb-row {<br>            display: flex;<br>            flex-direction: row;<br>            flex-wrap: wrap;<br>            justify-content: flex-start;<br>            width: 100%;<br>        }<br>        .wandb-col {<br>            display: flex;<br>            flex-direction: column;<br>            flex-basis: 100%;<br>            flex: 1;<br>            padding: 10px;<br>        }<br>    </style><br><div class=\"wandb-row\"><div class=\"wandb-col\"><h3>Run history:</h3><br/><table class=\"wandb\"><tr><td>average_reward_across_seeds</td><td>▁</td></tr><tr><td>seed_101_episode</td><td>▁▁▁▁▂▂▂▂▂▃▃▄▄▄▄▄▄▄▄▅▅▅▅▆▆▆▆▇▇▇▇▇▇▇██████</td></tr><tr><td>seed_101_reward</td><td>▁▁▁▁▁▁▁▁▁▁▁▁▁▂▁▆▇▁▁▁▂▂▂▁▁▄██▁▂▁▁▁▆▆█▇▁▂▄</td></tr><tr><td>seed_123_episode</td><td>▁▁▁▂▂▂▂▂▂▂▂▃▃▃▃▄▄▄▄▄▄▄▅▅▅▅▅▅▆▆▆▆▆▇▇▇████</td></tr><tr><td>seed_123_reward</td><td>▁▁▁▂▁▁▂▁▂▂▂▂▂▂▃▁▂▂▂▂▁▄▂▄▂▁▂▄▂▂▂▂▂▂▄▅█▂▆▅</td></tr><tr><td>seed_42_episode</td><td>▁▁▁▁▁▂▂▂▂▃▃▃▃▃▃▄▄▄▄▄▅▅▅▅▆▆▆▆▆▆▆▆▆▇▇▇▇▇██</td></tr><tr><td>seed_42_reward</td><td>▁▂▂▁▂▁▂▁▂▂▂▂▂▂▂▂█▂▂▂▂▂▁█▁▂▂▃▂▂▂▄▂▄▂▇▂▂▆▁</td></tr><tr><td>seed_456_episode</td><td>▁▁▁▁▂▂▂▂▂▂▃▃▃▃▃▃▄▄▄▄▄▅▅▅▅▅▅▅▆▆▆▆▆▆▇▇▇███</td></tr><tr><td>seed_456_reward</td><td>▁▁▂▁▁▂▂▂▂▁▂▂▁▂▁▁▂▂▂▂▆▂▂▂▂█▆▁▂▁▆▅▂▆▂▇▁▆█▁</td></tr><tr><td>seed_789_episode</td><td>▁▁▁▁▁▂▂▂▃▃▃▃▃▄▄▄▄▄▄▅▅▅▅▅▅▅▆▆▇▇▇▇▇▇▇▇▇███</td></tr><tr><td>seed_789_reward</td><td>▁▁▁▁▁▁▂▂▂▁▁▂▁▃▂▁▂▂▂▁▂▄▁▅▂█▂▂▁▁█▂▂▂▄▆▂█▂▄</td></tr></table><br/></div><div class=\"wandb-col\"><h3>Run summary:</h3><br/><table class=\"wandb\"><tr><td>average_reward_across_seeds</td><td>-163.57179</td></tr><tr><td>seed_101_episode</td><td>2999</td></tr><tr><td>seed_101_reward</td><td>-147.13307</td></tr><tr><td>seed_123_episode</td><td>2999</td></tr><tr><td>seed_123_reward</td><td>-187.15614</td></tr><tr><td>seed_42_episode</td><td>2999</td></tr><tr><td>seed_42_reward</td><td>-187.39069</td></tr><tr><td>seed_456_episode</td><td>2999</td></tr><tr><td>seed_456_reward</td><td>-144.20435</td></tr><tr><td>seed_789_episode</td><td>2999</td></tr><tr><td>seed_789_reward</td><td>-189.7627</td></tr></table><br/></div></div>"
            ]
          },
          "metadata": {}
        },
        {
          "output_type": "display_data",
          "data": {
            "text/plain": [
              "<IPython.core.display.HTML object>"
            ],
            "text/html": [
              " View run <strong style=\"color:#cdcd00\">good-sweep-5</strong> at: <a href='https://wandb.ai/abhijithvinod-indian-institue-of-technology-madras/RL_MountainCar_QLearning/runs/i4hyaoi5' target=\"_blank\">https://wandb.ai/abhijithvinod-indian-institue-of-technology-madras/RL_MountainCar_QLearning/runs/i4hyaoi5</a><br> View project at: <a href='https://wandb.ai/abhijithvinod-indian-institue-of-technology-madras/RL_MountainCar_QLearning' target=\"_blank\">https://wandb.ai/abhijithvinod-indian-institue-of-technology-madras/RL_MountainCar_QLearning</a><br>Synced 5 W&B file(s), 0 media file(s), 0 artifact file(s) and 0 other file(s)"
            ]
          },
          "metadata": {}
        },
        {
          "output_type": "display_data",
          "data": {
            "text/plain": [
              "<IPython.core.display.HTML object>"
            ],
            "text/html": [
              "Find logs at: <code>./wandb/run-20250401_112915-i4hyaoi5/logs</code>"
            ]
          },
          "metadata": {}
        },
        {
          "output_type": "stream",
          "name": "stderr",
          "text": [
            "\u001b[34m\u001b[1mwandb\u001b[0m: Sweep Agent: Waiting for job.\n",
            "\u001b[34m\u001b[1mwandb\u001b[0m: Job received.\n",
            "\u001b[34m\u001b[1mwandb\u001b[0m: Agent Starting Run: fjg8d9ft with config:\n",
            "\u001b[34m\u001b[1mwandb\u001b[0m: \talpha: 0.21764270044638645\n",
            "\u001b[34m\u001b[1mwandb\u001b[0m: \tgamma: 0.99\n",
            "\u001b[34m\u001b[1mwandb\u001b[0m: \tn_bins: 25\n",
            "\u001b[34m\u001b[1mwandb\u001b[0m: \tn_episodes: 3000\n",
            "\u001b[34m\u001b[1mwandb\u001b[0m: \ttemperature: 0.6835527819737157\n",
            "\u001b[34m\u001b[1mwandb\u001b[0m: \tuse_reward_shaping: True\n"
          ]
        },
        {
          "output_type": "display_data",
          "data": {
            "text/plain": [
              "<IPython.core.display.HTML object>"
            ],
            "text/html": [
              "Tracking run with wandb version 0.19.8"
            ]
          },
          "metadata": {}
        },
        {
          "output_type": "display_data",
          "data": {
            "text/plain": [
              "<IPython.core.display.HTML object>"
            ],
            "text/html": [
              "Run data is saved locally in <code>/content/wandb/run-20250401_113535-fjg8d9ft</code>"
            ]
          },
          "metadata": {}
        },
        {
          "output_type": "display_data",
          "data": {
            "text/plain": [
              "<IPython.core.display.HTML object>"
            ],
            "text/html": [
              "Syncing run <strong><a href='https://wandb.ai/abhijithvinod-indian-institue-of-technology-madras/RL_MountainCar_QLearning/runs/fjg8d9ft' target=\"_blank\">decent-sweep-6</a></strong> to <a href='https://wandb.ai/abhijithvinod-indian-institue-of-technology-madras/RL_MountainCar_QLearning' target=\"_blank\">Weights & Biases</a> (<a href='https://wandb.me/developer-guide' target=\"_blank\">docs</a>)<br>Sweep page: <a href='https://wandb.ai/abhijithvinod-indian-institue-of-technology-madras/RL_MountainCar_QLearning/sweeps/wb4w3b61' target=\"_blank\">https://wandb.ai/abhijithvinod-indian-institue-of-technology-madras/RL_MountainCar_QLearning/sweeps/wb4w3b61</a>"
            ]
          },
          "metadata": {}
        },
        {
          "output_type": "display_data",
          "data": {
            "text/plain": [
              "<IPython.core.display.HTML object>"
            ],
            "text/html": [
              " View project at <a href='https://wandb.ai/abhijithvinod-indian-institue-of-technology-madras/RL_MountainCar_QLearning' target=\"_blank\">https://wandb.ai/abhijithvinod-indian-institue-of-technology-madras/RL_MountainCar_QLearning</a>"
            ]
          },
          "metadata": {}
        },
        {
          "output_type": "display_data",
          "data": {
            "text/plain": [
              "<IPython.core.display.HTML object>"
            ],
            "text/html": [
              " View sweep at <a href='https://wandb.ai/abhijithvinod-indian-institue-of-technology-madras/RL_MountainCar_QLearning/sweeps/wb4w3b61' target=\"_blank\">https://wandb.ai/abhijithvinod-indian-institue-of-technology-madras/RL_MountainCar_QLearning/sweeps/wb4w3b61</a>"
            ]
          },
          "metadata": {}
        },
        {
          "output_type": "display_data",
          "data": {
            "text/plain": [
              "<IPython.core.display.HTML object>"
            ],
            "text/html": [
              " View run at <a href='https://wandb.ai/abhijithvinod-indian-institue-of-technology-madras/RL_MountainCar_QLearning/runs/fjg8d9ft' target=\"_blank\">https://wandb.ai/abhijithvinod-indian-institue-of-technology-madras/RL_MountainCar_QLearning/runs/fjg8d9ft</a>"
            ]
          },
          "metadata": {}
        },
        {
          "output_type": "display_data",
          "data": {
            "text/plain": [
              "<IPython.core.display.HTML object>"
            ],
            "text/html": []
          },
          "metadata": {}
        },
        {
          "output_type": "display_data",
          "data": {
            "text/plain": [
              "<IPython.core.display.HTML object>"
            ],
            "text/html": [
              "<br>    <style><br>        .wandb-row {<br>            display: flex;<br>            flex-direction: row;<br>            flex-wrap: wrap;<br>            justify-content: flex-start;<br>            width: 100%;<br>        }<br>        .wandb-col {<br>            display: flex;<br>            flex-direction: column;<br>            flex-basis: 100%;<br>            flex: 1;<br>            padding: 10px;<br>        }<br>    </style><br><div class=\"wandb-row\"><div class=\"wandb-col\"><h3>Run history:</h3><br/><table class=\"wandb\"><tr><td>average_reward_across_seeds</td><td>▁</td></tr><tr><td>seed_101_episode</td><td>▁▁▁▁▂▂▂▂▂▂▃▃▃▃▃▃▄▄▄▄▄▄▄▅▅▅▆▆▆▇▇▇▇▇▇█████</td></tr><tr><td>seed_101_reward</td><td>▁▁▁▁▁▁▂▂▁▂▂▁▂▂▂▂▂▁▆▂▂▂▂▂▁▂▃▂▄▆▂▁█▂▂▂▂▂▂▆</td></tr><tr><td>seed_123_episode</td><td>▁▁▁▁▁▂▂▂▃▃▃▃▃▃▄▄▅▅▅▅▅▅▅▅▅▆▆▆▆▆▆▇▇▇▇▇▇▇██</td></tr><tr><td>seed_123_reward</td><td>▁▁▁▁▁▁▁▁▁▁▁▁▂▁▁▂▂▂▁▁▃▄▂▂▂▃▂▁▁▁▁▄▆▃▁█▆▁▅▁</td></tr><tr><td>seed_42_episode</td><td>▁▁▁▁▁▁▂▂▂▂▂▃▃▃▃▄▄▄▄▅▅▅▅▅▅▅▅▆▆▆▆▇▇▇▇▇▇▇▇█</td></tr><tr><td>seed_42_reward</td><td>▁▁▁▁▂▁▂▂▂▂▂▂▇▄▂▃▇█▂▇▁▂▇▁▂▂▁▂▂▇▂▂▂▁▂▂▆▃▇█</td></tr><tr><td>seed_456_episode</td><td>▁▁▁▁▂▂▂▂▂▂▂▃▃▃▃▃▄▄▄▄▄▅▅▅▅▅▆▆▆▆▇▇▇▇▇█████</td></tr><tr><td>seed_456_reward</td><td>▁▁▁▁▁▁▁▂▂▁▂▂▂▂▂▂▁▆▂▂▂▂▂▂▁▂▂▂▂▂▂▂█▆▁▁▂▂▂▂</td></tr><tr><td>seed_789_episode</td><td>▁▁▁▁▁▁▁▂▂▂▂▃▃▃▃▄▄▄▄▅▅▅▅▆▆▆▆▆▆▆▇▇▇▇██████</td></tr><tr><td>seed_789_reward</td><td>▁▂▁▁▁▂▂▁▁▁▁▁▆▁▂▁▂▂▁▂▂▁▂▂▂▂▄▁▂▁▄▁▁▂▂▂▄▁▇█</td></tr></table><br/></div><div class=\"wandb-col\"><h3>Run summary:</h3><br/><table class=\"wandb\"><tr><td>average_reward_across_seeds</td><td>-167.42599</td></tr><tr><td>seed_101_episode</td><td>2999</td></tr><tr><td>seed_101_reward</td><td>-138.50171</td></tr><tr><td>seed_123_episode</td><td>2999</td></tr><tr><td>seed_123_reward</td><td>-167.45201</td></tr><tr><td>seed_42_episode</td><td>2999</td></tr><tr><td>seed_42_reward</td><td>-163.46753</td></tr><tr><td>seed_456_episode</td><td>2999</td></tr><tr><td>seed_456_reward</td><td>-137.70158</td></tr><tr><td>seed_789_episode</td><td>2999</td></tr><tr><td>seed_789_reward</td><td>-186.19505</td></tr></table><br/></div></div>"
            ]
          },
          "metadata": {}
        },
        {
          "output_type": "display_data",
          "data": {
            "text/plain": [
              "<IPython.core.display.HTML object>"
            ],
            "text/html": [
              " View run <strong style=\"color:#cdcd00\">decent-sweep-6</strong> at: <a href='https://wandb.ai/abhijithvinod-indian-institue-of-technology-madras/RL_MountainCar_QLearning/runs/fjg8d9ft' target=\"_blank\">https://wandb.ai/abhijithvinod-indian-institue-of-technology-madras/RL_MountainCar_QLearning/runs/fjg8d9ft</a><br> View project at: <a href='https://wandb.ai/abhijithvinod-indian-institue-of-technology-madras/RL_MountainCar_QLearning' target=\"_blank\">https://wandb.ai/abhijithvinod-indian-institue-of-technology-madras/RL_MountainCar_QLearning</a><br>Synced 5 W&B file(s), 0 media file(s), 0 artifact file(s) and 0 other file(s)"
            ]
          },
          "metadata": {}
        },
        {
          "output_type": "display_data",
          "data": {
            "text/plain": [
              "<IPython.core.display.HTML object>"
            ],
            "text/html": [
              "Find logs at: <code>./wandb/run-20250401_113535-fjg8d9ft/logs</code>"
            ]
          },
          "metadata": {}
        },
        {
          "output_type": "stream",
          "name": "stderr",
          "text": [
            "\u001b[34m\u001b[1mwandb\u001b[0m: Agent Starting Run: xtk77zto with config:\n",
            "\u001b[34m\u001b[1mwandb\u001b[0m: \talpha: 0.2257769094971626\n",
            "\u001b[34m\u001b[1mwandb\u001b[0m: \tgamma: 0.99\n",
            "\u001b[34m\u001b[1mwandb\u001b[0m: \tn_bins: 20\n",
            "\u001b[34m\u001b[1mwandb\u001b[0m: \tn_episodes: 3000\n",
            "\u001b[34m\u001b[1mwandb\u001b[0m: \ttemperature: 0.7210248944341484\n",
            "\u001b[34m\u001b[1mwandb\u001b[0m: \tuse_reward_shaping: True\n"
          ]
        },
        {
          "output_type": "display_data",
          "data": {
            "text/plain": [
              "<IPython.core.display.HTML object>"
            ],
            "text/html": [
              "Tracking run with wandb version 0.19.8"
            ]
          },
          "metadata": {}
        },
        {
          "output_type": "display_data",
          "data": {
            "text/plain": [
              "<IPython.core.display.HTML object>"
            ],
            "text/html": [
              "Run data is saved locally in <code>/content/wandb/run-20250401_114144-xtk77zto</code>"
            ]
          },
          "metadata": {}
        },
        {
          "output_type": "display_data",
          "data": {
            "text/plain": [
              "<IPython.core.display.HTML object>"
            ],
            "text/html": [
              "Syncing run <strong><a href='https://wandb.ai/abhijithvinod-indian-institue-of-technology-madras/RL_MountainCar_QLearning/runs/xtk77zto' target=\"_blank\">fresh-sweep-7</a></strong> to <a href='https://wandb.ai/abhijithvinod-indian-institue-of-technology-madras/RL_MountainCar_QLearning' target=\"_blank\">Weights & Biases</a> (<a href='https://wandb.me/developer-guide' target=\"_blank\">docs</a>)<br>Sweep page: <a href='https://wandb.ai/abhijithvinod-indian-institue-of-technology-madras/RL_MountainCar_QLearning/sweeps/wb4w3b61' target=\"_blank\">https://wandb.ai/abhijithvinod-indian-institue-of-technology-madras/RL_MountainCar_QLearning/sweeps/wb4w3b61</a>"
            ]
          },
          "metadata": {}
        },
        {
          "output_type": "display_data",
          "data": {
            "text/plain": [
              "<IPython.core.display.HTML object>"
            ],
            "text/html": [
              " View project at <a href='https://wandb.ai/abhijithvinod-indian-institue-of-technology-madras/RL_MountainCar_QLearning' target=\"_blank\">https://wandb.ai/abhijithvinod-indian-institue-of-technology-madras/RL_MountainCar_QLearning</a>"
            ]
          },
          "metadata": {}
        },
        {
          "output_type": "display_data",
          "data": {
            "text/plain": [
              "<IPython.core.display.HTML object>"
            ],
            "text/html": [
              " View sweep at <a href='https://wandb.ai/abhijithvinod-indian-institue-of-technology-madras/RL_MountainCar_QLearning/sweeps/wb4w3b61' target=\"_blank\">https://wandb.ai/abhijithvinod-indian-institue-of-technology-madras/RL_MountainCar_QLearning/sweeps/wb4w3b61</a>"
            ]
          },
          "metadata": {}
        },
        {
          "output_type": "display_data",
          "data": {
            "text/plain": [
              "<IPython.core.display.HTML object>"
            ],
            "text/html": [
              " View run at <a href='https://wandb.ai/abhijithvinod-indian-institue-of-technology-madras/RL_MountainCar_QLearning/runs/xtk77zto' target=\"_blank\">https://wandb.ai/abhijithvinod-indian-institue-of-technology-madras/RL_MountainCar_QLearning/runs/xtk77zto</a>"
            ]
          },
          "metadata": {}
        },
        {
          "output_type": "display_data",
          "data": {
            "text/plain": [
              "<IPython.core.display.HTML object>"
            ],
            "text/html": []
          },
          "metadata": {}
        },
        {
          "output_type": "display_data",
          "data": {
            "text/plain": [
              "<IPython.core.display.HTML object>"
            ],
            "text/html": [
              "<br>    <style><br>        .wandb-row {<br>            display: flex;<br>            flex-direction: row;<br>            flex-wrap: wrap;<br>            justify-content: flex-start;<br>            width: 100%;<br>        }<br>        .wandb-col {<br>            display: flex;<br>            flex-direction: column;<br>            flex-basis: 100%;<br>            flex: 1;<br>            padding: 10px;<br>        }<br>    </style><br><div class=\"wandb-row\"><div class=\"wandb-col\"><h3>Run history:</h3><br/><table class=\"wandb\"><tr><td>average_reward_across_seeds</td><td>▁</td></tr><tr><td>seed_101_episode</td><td>▁▁▁▁▁▁▁▁▁▂▂▂▂▂▂▃▃▃▃▄▄▄▄▄▅▅▅▅▅▆▆▆▆▆▆▇▇▇▇█</td></tr><tr><td>seed_101_reward</td><td>▁▁▁▂▁▁▁▂▁▁▂▂▆▂▂▂▄▆▁▄▄▇▇▆▂▆▇▂▇▆▂▂▅▆▇█▇█▇▂</td></tr><tr><td>seed_123_episode</td><td>▁▁▁▂▂▂▂▃▃▃▃▃▃▄▄▄▄▅▅▅▅▅▅▅▆▆▆▆▆▆▇▇▇▇▇▇▇▇▇█</td></tr><tr><td>seed_123_reward</td><td>▁▁▁▂▂▁▂▁▂▁▂▂▆▂▂▂█▂▄▆▂▇▇▂▇▇▂▄▂▃▂▂▇▇▂▂▂▇▂▇</td></tr><tr><td>seed_42_episode</td><td>▁▁▁▁▂▂▂▂▂▂▃▃▃▃▃▃▃▄▄▄▄▄▄▅▅▅▅▅▅▅▆▆▆▆▆▆▆▇▇█</td></tr><tr><td>seed_42_reward</td><td>▁▁▁▁▁▁▁▁▁▁▁▁▁▁▁▄▁▅▂▄▃▁▄▁▂▆█▅▆▇▆▅▆▆▆▆▄▂▄▄</td></tr><tr><td>seed_456_episode</td><td>▁▁▁▂▂▂▂▂▃▃▃▃▃▃▃▄▄▄▄▄▄▅▅▅▅▅▆▆▆▆▆▆▆▆▆▇▇▇▇█</td></tr><tr><td>seed_456_reward</td><td>▁▁▁▁▁▁▁▁▁▁▁▁▂▂▃▁▆▂▂▂▁▃▆█▂▆▇▁▄▇▁▂▂▃▃█▂▇▂▄</td></tr><tr><td>seed_789_episode</td><td>▁▁▁▁▁▂▂▂▂▂▂▂▃▃▃▄▄▄▄▄▄▄▄▅▅▅▅▅▅▅▆▆▆▆▇▇▇███</td></tr><tr><td>seed_789_reward</td><td>▁▁▁▁▁▁▁▁▁▂▁▃▂▂▁▁▁▂▅▅▄▁▂▂▁▁▁▁▂▆▁▅▃▃▂▂▄█▅▅</td></tr></table><br/></div><div class=\"wandb-col\"><h3>Run summary:</h3><br/><table class=\"wandb\"><tr><td>average_reward_across_seeds</td><td>-156.03796</td></tr><tr><td>seed_101_episode</td><td>2999</td></tr><tr><td>seed_101_reward</td><td>-137.2766</td></tr><tr><td>seed_123_episode</td><td>2999</td></tr><tr><td>seed_123_reward</td><td>-182.44272</td></tr><tr><td>seed_42_episode</td><td>2999</td></tr><tr><td>seed_42_reward</td><td>-150.92383</td></tr><tr><td>seed_456_episode</td><td>2999</td></tr><tr><td>seed_456_reward</td><td>-136.87044</td></tr><tr><td>seed_789_episode</td><td>2999</td></tr><tr><td>seed_789_reward</td><td>-153.62515</td></tr></table><br/></div></div>"
            ]
          },
          "metadata": {}
        },
        {
          "output_type": "display_data",
          "data": {
            "text/plain": [
              "<IPython.core.display.HTML object>"
            ],
            "text/html": [
              " View run <strong style=\"color:#cdcd00\">fresh-sweep-7</strong> at: <a href='https://wandb.ai/abhijithvinod-indian-institue-of-technology-madras/RL_MountainCar_QLearning/runs/xtk77zto' target=\"_blank\">https://wandb.ai/abhijithvinod-indian-institue-of-technology-madras/RL_MountainCar_QLearning/runs/xtk77zto</a><br> View project at: <a href='https://wandb.ai/abhijithvinod-indian-institue-of-technology-madras/RL_MountainCar_QLearning' target=\"_blank\">https://wandb.ai/abhijithvinod-indian-institue-of-technology-madras/RL_MountainCar_QLearning</a><br>Synced 5 W&B file(s), 0 media file(s), 0 artifact file(s) and 0 other file(s)"
            ]
          },
          "metadata": {}
        },
        {
          "output_type": "display_data",
          "data": {
            "text/plain": [
              "<IPython.core.display.HTML object>"
            ],
            "text/html": [
              "Find logs at: <code>./wandb/run-20250401_114144-xtk77zto/logs</code>"
            ]
          },
          "metadata": {}
        },
        {
          "output_type": "stream",
          "name": "stderr",
          "text": [
            "\u001b[34m\u001b[1mwandb\u001b[0m: Agent Starting Run: kv93xim6 with config:\n",
            "\u001b[34m\u001b[1mwandb\u001b[0m: \talpha: 0.2241875848102633\n",
            "\u001b[34m\u001b[1mwandb\u001b[0m: \tgamma: 0.99\n",
            "\u001b[34m\u001b[1mwandb\u001b[0m: \tn_bins: 20\n",
            "\u001b[34m\u001b[1mwandb\u001b[0m: \tn_episodes: 3000\n",
            "\u001b[34m\u001b[1mwandb\u001b[0m: \ttemperature: 0.7752747230449084\n",
            "\u001b[34m\u001b[1mwandb\u001b[0m: \tuse_reward_shaping: True\n"
          ]
        },
        {
          "output_type": "display_data",
          "data": {
            "text/plain": [
              "<IPython.core.display.HTML object>"
            ],
            "text/html": [
              "Tracking run with wandb version 0.19.8"
            ]
          },
          "metadata": {}
        },
        {
          "output_type": "display_data",
          "data": {
            "text/plain": [
              "<IPython.core.display.HTML object>"
            ],
            "text/html": [
              "Run data is saved locally in <code>/content/wandb/run-20250401_114745-kv93xim6</code>"
            ]
          },
          "metadata": {}
        },
        {
          "output_type": "display_data",
          "data": {
            "text/plain": [
              "<IPython.core.display.HTML object>"
            ],
            "text/html": [
              "Syncing run <strong><a href='https://wandb.ai/abhijithvinod-indian-institue-of-technology-madras/RL_MountainCar_QLearning/runs/kv93xim6' target=\"_blank\">copper-sweep-8</a></strong> to <a href='https://wandb.ai/abhijithvinod-indian-institue-of-technology-madras/RL_MountainCar_QLearning' target=\"_blank\">Weights & Biases</a> (<a href='https://wandb.me/developer-guide' target=\"_blank\">docs</a>)<br>Sweep page: <a href='https://wandb.ai/abhijithvinod-indian-institue-of-technology-madras/RL_MountainCar_QLearning/sweeps/wb4w3b61' target=\"_blank\">https://wandb.ai/abhijithvinod-indian-institue-of-technology-madras/RL_MountainCar_QLearning/sweeps/wb4w3b61</a>"
            ]
          },
          "metadata": {}
        },
        {
          "output_type": "display_data",
          "data": {
            "text/plain": [
              "<IPython.core.display.HTML object>"
            ],
            "text/html": [
              " View project at <a href='https://wandb.ai/abhijithvinod-indian-institue-of-technology-madras/RL_MountainCar_QLearning' target=\"_blank\">https://wandb.ai/abhijithvinod-indian-institue-of-technology-madras/RL_MountainCar_QLearning</a>"
            ]
          },
          "metadata": {}
        },
        {
          "output_type": "display_data",
          "data": {
            "text/plain": [
              "<IPython.core.display.HTML object>"
            ],
            "text/html": [
              " View sweep at <a href='https://wandb.ai/abhijithvinod-indian-institue-of-technology-madras/RL_MountainCar_QLearning/sweeps/wb4w3b61' target=\"_blank\">https://wandb.ai/abhijithvinod-indian-institue-of-technology-madras/RL_MountainCar_QLearning/sweeps/wb4w3b61</a>"
            ]
          },
          "metadata": {}
        },
        {
          "output_type": "display_data",
          "data": {
            "text/plain": [
              "<IPython.core.display.HTML object>"
            ],
            "text/html": [
              " View run at <a href='https://wandb.ai/abhijithvinod-indian-institue-of-technology-madras/RL_MountainCar_QLearning/runs/kv93xim6' target=\"_blank\">https://wandb.ai/abhijithvinod-indian-institue-of-technology-madras/RL_MountainCar_QLearning/runs/kv93xim6</a>"
            ]
          },
          "metadata": {}
        },
        {
          "output_type": "display_data",
          "data": {
            "text/plain": [
              "<IPython.core.display.HTML object>"
            ],
            "text/html": []
          },
          "metadata": {}
        },
        {
          "output_type": "display_data",
          "data": {
            "text/plain": [
              "<IPython.core.display.HTML object>"
            ],
            "text/html": [
              "<br>    <style><br>        .wandb-row {<br>            display: flex;<br>            flex-direction: row;<br>            flex-wrap: wrap;<br>            justify-content: flex-start;<br>            width: 100%;<br>        }<br>        .wandb-col {<br>            display: flex;<br>            flex-direction: column;<br>            flex-basis: 100%;<br>            flex: 1;<br>            padding: 10px;<br>        }<br>    </style><br><div class=\"wandb-row\"><div class=\"wandb-col\"><h3>Run history:</h3><br/><table class=\"wandb\"><tr><td>average_reward_across_seeds</td><td>▁</td></tr><tr><td>seed_101_episode</td><td>▁▁▁▁▁▂▂▃▃▃▃▃▃▃▄▄▅▅▅▅▅▅▆▆▆▆▆▆▆▆▇▇▇▇▇█████</td></tr><tr><td>seed_101_reward</td><td>▁▁▁▁▁▁▁▁▁▂▁▁▁▂▁▄▁▃▅▂▁▂▅▃▅▁▆▁█▆▂▆▆▁▃▂▃▅▃▂</td></tr><tr><td>seed_123_episode</td><td>▁▁▁▂▂▂▃▃▃▃▃▃▄▄▄▄▄▄▄▅▅▅▅▅▅▅▆▆▆▆▆▆▇▇▇▇▇▇██</td></tr><tr><td>seed_123_reward</td><td>▁▁▁▁▁▁▁▁▂▁▁▂▁▂▆▁▂▁▂▁▂▂▁▁▁█▁▃▂▇▂█▁▂▅▂█▆▃▁</td></tr><tr><td>seed_42_episode</td><td>▁▁▂▂▂▂▃▃▃▃▃▃▃▃▄▄▄▄▄▄▅▅▆▆▆▆▆▇▇▇▇▇▇▇▇█████</td></tr><tr><td>seed_42_reward</td><td>▁▁▁▁▁▁▁▁▂▂▂▂▂▁▂▂▆▂▆▁▂▂▁▂▄▇▁▁▆▂▃▄▂█▂▇▆█▂▆</td></tr><tr><td>seed_456_episode</td><td>▁▁▁▁▂▂▂▂▂▂▂▃▃▃▃▃▃▃▃▃▄▄▄▄▄▄▅▅▅▆▆▆▆▇▇▇▇▇██</td></tr><tr><td>seed_456_reward</td><td>▁▁▂▁▁▁▁▂▂▆▁▂▁▂▂▁▁▇▂▂▆▂▂▃█▁▂▄▁▁▆▂▁▃▁█▁▂▇▆</td></tr><tr><td>seed_789_episode</td><td>▁▁▁▁▁▁▁▂▂▂▂▃▃▃▃▃▃▄▄▄▄▄▅▅▅▅▅▅▅▅▆▆▆▆▇▇▇▇▇█</td></tr><tr><td>seed_789_reward</td><td>▁▁▁▁▁▁▂▁▁▁▂▁▁▂▅▃▁▁▁▃▁▂▁▁▅▂▆▃▁▁▁▅▁▂▅▁▄▁██</td></tr></table><br/></div><div class=\"wandb-col\"><h3>Run summary:</h3><br/><table class=\"wandb\"><tr><td>average_reward_across_seeds</td><td>-165.61955</td></tr><tr><td>seed_101_episode</td><td>2999</td></tr><tr><td>seed_101_reward</td><td>-180.71687</td></tr><tr><td>seed_123_episode</td><td>2999</td></tr><tr><td>seed_123_reward</td><td>-100.21451</td></tr><tr><td>seed_42_episode</td><td>2999</td></tr><tr><td>seed_42_reward</td><td>-127.08868</td></tr><tr><td>seed_456_episode</td><td>2999</td></tr><tr><td>seed_456_reward</td><td>-144.65356</td></tr><tr><td>seed_789_episode</td><td>2999</td></tr><tr><td>seed_789_reward</td><td>-185.54753</td></tr></table><br/></div></div>"
            ]
          },
          "metadata": {}
        },
        {
          "output_type": "display_data",
          "data": {
            "text/plain": [
              "<IPython.core.display.HTML object>"
            ],
            "text/html": [
              " View run <strong style=\"color:#cdcd00\">copper-sweep-8</strong> at: <a href='https://wandb.ai/abhijithvinod-indian-institue-of-technology-madras/RL_MountainCar_QLearning/runs/kv93xim6' target=\"_blank\">https://wandb.ai/abhijithvinod-indian-institue-of-technology-madras/RL_MountainCar_QLearning/runs/kv93xim6</a><br> View project at: <a href='https://wandb.ai/abhijithvinod-indian-institue-of-technology-madras/RL_MountainCar_QLearning' target=\"_blank\">https://wandb.ai/abhijithvinod-indian-institue-of-technology-madras/RL_MountainCar_QLearning</a><br>Synced 5 W&B file(s), 0 media file(s), 0 artifact file(s) and 0 other file(s)"
            ]
          },
          "metadata": {}
        },
        {
          "output_type": "display_data",
          "data": {
            "text/plain": [
              "<IPython.core.display.HTML object>"
            ],
            "text/html": [
              "Find logs at: <code>./wandb/run-20250401_114745-kv93xim6/logs</code>"
            ]
          },
          "metadata": {}
        },
        {
          "output_type": "stream",
          "name": "stderr",
          "text": [
            "\u001b[34m\u001b[1mwandb\u001b[0m: Agent Starting Run: pubhemas with config:\n",
            "\u001b[34m\u001b[1mwandb\u001b[0m: \talpha: 0.11939984165003986\n",
            "\u001b[34m\u001b[1mwandb\u001b[0m: \tgamma: 0.99\n",
            "\u001b[34m\u001b[1mwandb\u001b[0m: \tn_bins: 30\n",
            "\u001b[34m\u001b[1mwandb\u001b[0m: \tn_episodes: 3000\n",
            "\u001b[34m\u001b[1mwandb\u001b[0m: \ttemperature: 0.9879421197028568\n",
            "\u001b[34m\u001b[1mwandb\u001b[0m: \tuse_reward_shaping: True\n"
          ]
        },
        {
          "output_type": "display_data",
          "data": {
            "text/plain": [
              "<IPython.core.display.HTML object>"
            ],
            "text/html": [
              "Tracking run with wandb version 0.19.8"
            ]
          },
          "metadata": {}
        },
        {
          "output_type": "display_data",
          "data": {
            "text/plain": [
              "<IPython.core.display.HTML object>"
            ],
            "text/html": [
              "Run data is saved locally in <code>/content/wandb/run-20250401_115354-pubhemas</code>"
            ]
          },
          "metadata": {}
        },
        {
          "output_type": "display_data",
          "data": {
            "text/plain": [
              "<IPython.core.display.HTML object>"
            ],
            "text/html": [
              "Syncing run <strong><a href='https://wandb.ai/abhijithvinod-indian-institue-of-technology-madras/RL_MountainCar_QLearning/runs/pubhemas' target=\"_blank\">classic-sweep-9</a></strong> to <a href='https://wandb.ai/abhijithvinod-indian-institue-of-technology-madras/RL_MountainCar_QLearning' target=\"_blank\">Weights & Biases</a> (<a href='https://wandb.me/developer-guide' target=\"_blank\">docs</a>)<br>Sweep page: <a href='https://wandb.ai/abhijithvinod-indian-institue-of-technology-madras/RL_MountainCar_QLearning/sweeps/wb4w3b61' target=\"_blank\">https://wandb.ai/abhijithvinod-indian-institue-of-technology-madras/RL_MountainCar_QLearning/sweeps/wb4w3b61</a>"
            ]
          },
          "metadata": {}
        },
        {
          "output_type": "display_data",
          "data": {
            "text/plain": [
              "<IPython.core.display.HTML object>"
            ],
            "text/html": [
              " View project at <a href='https://wandb.ai/abhijithvinod-indian-institue-of-technology-madras/RL_MountainCar_QLearning' target=\"_blank\">https://wandb.ai/abhijithvinod-indian-institue-of-technology-madras/RL_MountainCar_QLearning</a>"
            ]
          },
          "metadata": {}
        },
        {
          "output_type": "display_data",
          "data": {
            "text/plain": [
              "<IPython.core.display.HTML object>"
            ],
            "text/html": [
              " View sweep at <a href='https://wandb.ai/abhijithvinod-indian-institue-of-technology-madras/RL_MountainCar_QLearning/sweeps/wb4w3b61' target=\"_blank\">https://wandb.ai/abhijithvinod-indian-institue-of-technology-madras/RL_MountainCar_QLearning/sweeps/wb4w3b61</a>"
            ]
          },
          "metadata": {}
        },
        {
          "output_type": "display_data",
          "data": {
            "text/plain": [
              "<IPython.core.display.HTML object>"
            ],
            "text/html": [
              " View run at <a href='https://wandb.ai/abhijithvinod-indian-institue-of-technology-madras/RL_MountainCar_QLearning/runs/pubhemas' target=\"_blank\">https://wandb.ai/abhijithvinod-indian-institue-of-technology-madras/RL_MountainCar_QLearning/runs/pubhemas</a>"
            ]
          },
          "metadata": {}
        },
        {
          "output_type": "display_data",
          "data": {
            "text/plain": [
              "<IPython.core.display.HTML object>"
            ],
            "text/html": []
          },
          "metadata": {}
        },
        {
          "output_type": "display_data",
          "data": {
            "text/plain": [
              "<IPython.core.display.HTML object>"
            ],
            "text/html": [
              "<br>    <style><br>        .wandb-row {<br>            display: flex;<br>            flex-direction: row;<br>            flex-wrap: wrap;<br>            justify-content: flex-start;<br>            width: 100%;<br>        }<br>        .wandb-col {<br>            display: flex;<br>            flex-direction: column;<br>            flex-basis: 100%;<br>            flex: 1;<br>            padding: 10px;<br>        }<br>    </style><br><div class=\"wandb-row\"><div class=\"wandb-col\"><h3>Run history:</h3><br/><table class=\"wandb\"><tr><td>average_reward_across_seeds</td><td>▁</td></tr><tr><td>seed_101_episode</td><td>▁▁▁▁▂▂▂▂▂▂▃▃▃▃▃▄▄▄▄▄▅▅▅▅▅▆▆▆▇▇▇▇▇▇▇█████</td></tr><tr><td>seed_101_reward</td><td>▁▃▄▃▄▄▆▃▆▅▂▄▄▄▅▅▃▄▅▆▄▄▅▆▄▆▅▅▇▆▅▇▅▆▄▆▆▇█▅</td></tr><tr><td>seed_123_episode</td><td>▁▂▂▂▂▂▃▃▃▃▃▃▄▄▄▄▄▄▄▄▅▅▅▅▅▆▆▆▆▆▆▆▇▇▇▇▇███</td></tr><tr><td>seed_123_reward</td><td>▁▂▁▂▁▃▂▂▁▂▂▃▂▂▃▂▃▁▂▂▂▂▃▂▂▁▂▃▂▂▂▂▂█▂▃▁▄▂▁</td></tr><tr><td>seed_42_episode</td><td>▁▁▁▁▂▂▂▂▂▂▃▃▄▄▄▄▄▄▅▅▆▆▆▆▆▆▆▇▇▇▇▇▇▇▇█████</td></tr><tr><td>seed_42_reward</td><td>▃▂▃▅▂▁▂▃▂▄▄▅▄▆▄▆▅▇▆▅▄▃▇▆▄▄▅▃▅▃▆▁▂▄▇▆▅▆▅█</td></tr><tr><td>seed_456_episode</td><td>▁▁▁▁▁▁▁▁▁▂▂▂▃▃▃▃▃▄▄▄▄▅▅▅▅▆▆▆▆▆▆▆▆▇▇▇▇███</td></tr><tr><td>seed_456_reward</td><td>▂▃▂▃▃▃▄▃▁▅▃▂▅▅▂▄▅▄▃▅▅▆▄▄▃▆▃▄▃▆▅▂▄▅▅▄█▄▄█</td></tr><tr><td>seed_789_episode</td><td>▁▁▁▁▂▂▂▂▂▂▂▃▃▃▃▃▃▃▃▃▄▄▄▄▄▄▄▄▅▅▆▆▆▇▇█████</td></tr><tr><td>seed_789_reward</td><td>▃▁▅▄▄▂▄▃▆▄▃▄▅▃▄▃▂▂▅▄▇▄▅▃▃▃█▅▂▅▄▂▃▃▆▅▄▅▄▅</td></tr></table><br/></div><div class=\"wandb-col\"><h3>Run summary:</h3><br/><table class=\"wandb\"><tr><td>average_reward_across_seeds</td><td>-189.12045</td></tr><tr><td>seed_101_episode</td><td>2999</td></tr><tr><td>seed_101_reward</td><td>-187.83714</td></tr><tr><td>seed_123_episode</td><td>2999</td></tr><tr><td>seed_123_reward</td><td>-187.77448</td></tr><tr><td>seed_42_episode</td><td>2999</td></tr><tr><td>seed_42_reward</td><td>-191.52562</td></tr><tr><td>seed_456_episode</td><td>2999</td></tr><tr><td>seed_456_reward</td><td>-188.41916</td></tr><tr><td>seed_789_episode</td><td>2999</td></tr><tr><td>seed_789_reward</td><td>-191.13126</td></tr></table><br/></div></div>"
            ]
          },
          "metadata": {}
        },
        {
          "output_type": "display_data",
          "data": {
            "text/plain": [
              "<IPython.core.display.HTML object>"
            ],
            "text/html": [
              " View run <strong style=\"color:#cdcd00\">classic-sweep-9</strong> at: <a href='https://wandb.ai/abhijithvinod-indian-institue-of-technology-madras/RL_MountainCar_QLearning/runs/pubhemas' target=\"_blank\">https://wandb.ai/abhijithvinod-indian-institue-of-technology-madras/RL_MountainCar_QLearning/runs/pubhemas</a><br> View project at: <a href='https://wandb.ai/abhijithvinod-indian-institue-of-technology-madras/RL_MountainCar_QLearning' target=\"_blank\">https://wandb.ai/abhijithvinod-indian-institue-of-technology-madras/RL_MountainCar_QLearning</a><br>Synced 5 W&B file(s), 0 media file(s), 0 artifact file(s) and 0 other file(s)"
            ]
          },
          "metadata": {}
        },
        {
          "output_type": "display_data",
          "data": {
            "text/plain": [
              "<IPython.core.display.HTML object>"
            ],
            "text/html": [
              "Find logs at: <code>./wandb/run-20250401_115354-pubhemas/logs</code>"
            ]
          },
          "metadata": {}
        },
        {
          "output_type": "stream",
          "name": "stderr",
          "text": [
            "\u001b[34m\u001b[1mwandb\u001b[0m: Agent Starting Run: 9yupxhub with config:\n",
            "\u001b[34m\u001b[1mwandb\u001b[0m: \talpha: 0.12379267453821426\n",
            "\u001b[34m\u001b[1mwandb\u001b[0m: \tgamma: 0.99\n",
            "\u001b[34m\u001b[1mwandb\u001b[0m: \tn_bins: 30\n",
            "\u001b[34m\u001b[1mwandb\u001b[0m: \tn_episodes: 3000\n",
            "\u001b[34m\u001b[1mwandb\u001b[0m: \ttemperature: 0.7430490862006938\n",
            "\u001b[34m\u001b[1mwandb\u001b[0m: \tuse_reward_shaping: True\n"
          ]
        },
        {
          "output_type": "display_data",
          "data": {
            "text/plain": [
              "<IPython.core.display.HTML object>"
            ],
            "text/html": [
              "Tracking run with wandb version 0.19.8"
            ]
          },
          "metadata": {}
        },
        {
          "output_type": "display_data",
          "data": {
            "text/plain": [
              "<IPython.core.display.HTML object>"
            ],
            "text/html": [
              "Run data is saved locally in <code>/content/wandb/run-20250401_120020-9yupxhub</code>"
            ]
          },
          "metadata": {}
        },
        {
          "output_type": "display_data",
          "data": {
            "text/plain": [
              "<IPython.core.display.HTML object>"
            ],
            "text/html": [
              "Syncing run <strong><a href='https://wandb.ai/abhijithvinod-indian-institue-of-technology-madras/RL_MountainCar_QLearning/runs/9yupxhub' target=\"_blank\">distinctive-sweep-10</a></strong> to <a href='https://wandb.ai/abhijithvinod-indian-institue-of-technology-madras/RL_MountainCar_QLearning' target=\"_blank\">Weights & Biases</a> (<a href='https://wandb.me/developer-guide' target=\"_blank\">docs</a>)<br>Sweep page: <a href='https://wandb.ai/abhijithvinod-indian-institue-of-technology-madras/RL_MountainCar_QLearning/sweeps/wb4w3b61' target=\"_blank\">https://wandb.ai/abhijithvinod-indian-institue-of-technology-madras/RL_MountainCar_QLearning/sweeps/wb4w3b61</a>"
            ]
          },
          "metadata": {}
        },
        {
          "output_type": "display_data",
          "data": {
            "text/plain": [
              "<IPython.core.display.HTML object>"
            ],
            "text/html": [
              " View project at <a href='https://wandb.ai/abhijithvinod-indian-institue-of-technology-madras/RL_MountainCar_QLearning' target=\"_blank\">https://wandb.ai/abhijithvinod-indian-institue-of-technology-madras/RL_MountainCar_QLearning</a>"
            ]
          },
          "metadata": {}
        },
        {
          "output_type": "display_data",
          "data": {
            "text/plain": [
              "<IPython.core.display.HTML object>"
            ],
            "text/html": [
              " View sweep at <a href='https://wandb.ai/abhijithvinod-indian-institue-of-technology-madras/RL_MountainCar_QLearning/sweeps/wb4w3b61' target=\"_blank\">https://wandb.ai/abhijithvinod-indian-institue-of-technology-madras/RL_MountainCar_QLearning/sweeps/wb4w3b61</a>"
            ]
          },
          "metadata": {}
        },
        {
          "output_type": "display_data",
          "data": {
            "text/plain": [
              "<IPython.core.display.HTML object>"
            ],
            "text/html": [
              " View run at <a href='https://wandb.ai/abhijithvinod-indian-institue-of-technology-madras/RL_MountainCar_QLearning/runs/9yupxhub' target=\"_blank\">https://wandb.ai/abhijithvinod-indian-institue-of-technology-madras/RL_MountainCar_QLearning/runs/9yupxhub</a>"
            ]
          },
          "metadata": {}
        },
        {
          "output_type": "display_data",
          "data": {
            "text/plain": [
              "<IPython.core.display.HTML object>"
            ],
            "text/html": []
          },
          "metadata": {}
        },
        {
          "output_type": "display_data",
          "data": {
            "text/plain": [
              "<IPython.core.display.HTML object>"
            ],
            "text/html": [
              "<br>    <style><br>        .wandb-row {<br>            display: flex;<br>            flex-direction: row;<br>            flex-wrap: wrap;<br>            justify-content: flex-start;<br>            width: 100%;<br>        }<br>        .wandb-col {<br>            display: flex;<br>            flex-direction: column;<br>            flex-basis: 100%;<br>            flex: 1;<br>            padding: 10px;<br>        }<br>    </style><br><div class=\"wandb-row\"><div class=\"wandb-col\"><h3>Run history:</h3><br/><table class=\"wandb\"><tr><td>average_reward_across_seeds</td><td>▁</td></tr><tr><td>seed_101_episode</td><td>▁▁▁▁▂▂▃▃▃▃▃▃▃▃▃▄▄▄▄▄▅▅▅▅▅▆▆▆▆▆▆▆▇▇▇▇████</td></tr><tr><td>seed_101_reward</td><td>▁▁▁▂▁▁▂▂▁▂▂▂▂▁▁▂▂▁▂▂▂▂▂▂▁▂▁▂▁▂▂▂▂▁▂▂▂▂█▂</td></tr><tr><td>seed_123_episode</td><td>▁▁▁▂▂▂▃▃▃▃▃▃▃▃▃▄▄▄▄▄▅▅▅▆▆▆▆▆▆▇▇▇▇▇██████</td></tr><tr><td>seed_123_reward</td><td>▁▂▁▁▂▂▂▂▂▁▂▂▂▂▂▂▂▃▂▂▂▂▂▃▂▂▃▂▃▂▂▂▂▂█▃▆▂▃▂</td></tr><tr><td>seed_42_episode</td><td>▁▁▁▁▂▂▂▃▃▄▄▄▄▄▄▄▄▅▅▅▅▅▅▆▆▆▆▆▆▆▇▇▇▇▇▇▇███</td></tr><tr><td>seed_42_reward</td><td>▁▁▂▁▂▂▂▂▂▅▅▄▄▃▂▅▄▄▄▄▄▆▄▄▃▅▄▃▃▃▂▇█▅▅▄▅▄▆▆</td></tr><tr><td>seed_456_episode</td><td>▁▁▁▁▁▁▁▂▂▂▃▃▃▃▃▄▄▄▄▄▅▅▅▅▅▅▅▅▅▅▆▆▆▇▇▇████</td></tr><tr><td>seed_456_reward</td><td>▁▁▁▁▁▁▂▁▂▁▂▁▁▁▁▂▁▂▂▂▂▁▂▂▂▂▁▂▂▂▁█▂▂▂▁▄▂▂▂</td></tr><tr><td>seed_789_episode</td><td>▁▁▁▁▂▂▂▂▃▃▃▃▃▃▃▄▄▄▅▅▅▆▆▆▆▆▆▆▆▇▇▇▇▇▇▇▇███</td></tr><tr><td>seed_789_reward</td><td>▁▂▁▁▁▂▁▃▁▁▂▃▂▂▂▂▂▃▄▂▂▄▃▂▃▁▁▃▂▃▄▂▃█▃▃▂▅▁▂</td></tr></table><br/></div><div class=\"wandb-col\"><h3>Run summary:</h3><br/><table class=\"wandb\"><tr><td>average_reward_across_seeds</td><td>-187.68634</td></tr><tr><td>seed_101_episode</td><td>2999</td></tr><tr><td>seed_101_reward</td><td>-187.7851</td></tr><tr><td>seed_123_episode</td><td>2999</td></tr><tr><td>seed_123_reward</td><td>-190.69305</td></tr><tr><td>seed_42_episode</td><td>2999</td></tr><tr><td>seed_42_reward</td><td>-189.62813</td></tr><tr><td>seed_456_episode</td><td>2999</td></tr><tr><td>seed_456_reward</td><td>-187.17801</td></tr><tr><td>seed_789_episode</td><td>2999</td></tr><tr><td>seed_789_reward</td><td>-184.48808</td></tr></table><br/></div></div>"
            ]
          },
          "metadata": {}
        },
        {
          "output_type": "display_data",
          "data": {
            "text/plain": [
              "<IPython.core.display.HTML object>"
            ],
            "text/html": [
              " View run <strong style=\"color:#cdcd00\">distinctive-sweep-10</strong> at: <a href='https://wandb.ai/abhijithvinod-indian-institue-of-technology-madras/RL_MountainCar_QLearning/runs/9yupxhub' target=\"_blank\">https://wandb.ai/abhijithvinod-indian-institue-of-technology-madras/RL_MountainCar_QLearning/runs/9yupxhub</a><br> View project at: <a href='https://wandb.ai/abhijithvinod-indian-institue-of-technology-madras/RL_MountainCar_QLearning' target=\"_blank\">https://wandb.ai/abhijithvinod-indian-institue-of-technology-madras/RL_MountainCar_QLearning</a><br>Synced 5 W&B file(s), 0 media file(s), 0 artifact file(s) and 0 other file(s)"
            ]
          },
          "metadata": {}
        },
        {
          "output_type": "display_data",
          "data": {
            "text/plain": [
              "<IPython.core.display.HTML object>"
            ],
            "text/html": [
              "Find logs at: <code>./wandb/run-20250401_120020-9yupxhub/logs</code>"
            ]
          },
          "metadata": {}
        },
        {
          "output_type": "stream",
          "name": "stderr",
          "text": [
            "\u001b[34m\u001b[1mwandb\u001b[0m: Agent Starting Run: lu16boaz with config:\n",
            "\u001b[34m\u001b[1mwandb\u001b[0m: \talpha: 0.14411556159122704\n",
            "\u001b[34m\u001b[1mwandb\u001b[0m: \tgamma: 0.99\n",
            "\u001b[34m\u001b[1mwandb\u001b[0m: \tn_bins: 25\n",
            "\u001b[34m\u001b[1mwandb\u001b[0m: \tn_episodes: 3000\n",
            "\u001b[34m\u001b[1mwandb\u001b[0m: \ttemperature: 0.779021055769714\n",
            "\u001b[34m\u001b[1mwandb\u001b[0m: \tuse_reward_shaping: True\n"
          ]
        },
        {
          "output_type": "display_data",
          "data": {
            "text/plain": [
              "<IPython.core.display.HTML object>"
            ],
            "text/html": [
              "Tracking run with wandb version 0.19.8"
            ]
          },
          "metadata": {}
        },
        {
          "output_type": "display_data",
          "data": {
            "text/plain": [
              "<IPython.core.display.HTML object>"
            ],
            "text/html": [
              "Run data is saved locally in <code>/content/wandb/run-20250401_120645-lu16boaz</code>"
            ]
          },
          "metadata": {}
        },
        {
          "output_type": "display_data",
          "data": {
            "text/plain": [
              "<IPython.core.display.HTML object>"
            ],
            "text/html": [
              "Syncing run <strong><a href='https://wandb.ai/abhijithvinod-indian-institue-of-technology-madras/RL_MountainCar_QLearning/runs/lu16boaz' target=\"_blank\">honest-sweep-11</a></strong> to <a href='https://wandb.ai/abhijithvinod-indian-institue-of-technology-madras/RL_MountainCar_QLearning' target=\"_blank\">Weights & Biases</a> (<a href='https://wandb.me/developer-guide' target=\"_blank\">docs</a>)<br>Sweep page: <a href='https://wandb.ai/abhijithvinod-indian-institue-of-technology-madras/RL_MountainCar_QLearning/sweeps/wb4w3b61' target=\"_blank\">https://wandb.ai/abhijithvinod-indian-institue-of-technology-madras/RL_MountainCar_QLearning/sweeps/wb4w3b61</a>"
            ]
          },
          "metadata": {}
        },
        {
          "output_type": "display_data",
          "data": {
            "text/plain": [
              "<IPython.core.display.HTML object>"
            ],
            "text/html": [
              " View project at <a href='https://wandb.ai/abhijithvinod-indian-institue-of-technology-madras/RL_MountainCar_QLearning' target=\"_blank\">https://wandb.ai/abhijithvinod-indian-institue-of-technology-madras/RL_MountainCar_QLearning</a>"
            ]
          },
          "metadata": {}
        },
        {
          "output_type": "display_data",
          "data": {
            "text/plain": [
              "<IPython.core.display.HTML object>"
            ],
            "text/html": [
              " View sweep at <a href='https://wandb.ai/abhijithvinod-indian-institue-of-technology-madras/RL_MountainCar_QLearning/sweeps/wb4w3b61' target=\"_blank\">https://wandb.ai/abhijithvinod-indian-institue-of-technology-madras/RL_MountainCar_QLearning/sweeps/wb4w3b61</a>"
            ]
          },
          "metadata": {}
        },
        {
          "output_type": "display_data",
          "data": {
            "text/plain": [
              "<IPython.core.display.HTML object>"
            ],
            "text/html": [
              " View run at <a href='https://wandb.ai/abhijithvinod-indian-institue-of-technology-madras/RL_MountainCar_QLearning/runs/lu16boaz' target=\"_blank\">https://wandb.ai/abhijithvinod-indian-institue-of-technology-madras/RL_MountainCar_QLearning/runs/lu16boaz</a>"
            ]
          },
          "metadata": {}
        },
        {
          "output_type": "display_data",
          "data": {
            "text/plain": [
              "<IPython.core.display.HTML object>"
            ],
            "text/html": []
          },
          "metadata": {}
        },
        {
          "output_type": "display_data",
          "data": {
            "text/plain": [
              "<IPython.core.display.HTML object>"
            ],
            "text/html": [
              "<br>    <style><br>        .wandb-row {<br>            display: flex;<br>            flex-direction: row;<br>            flex-wrap: wrap;<br>            justify-content: flex-start;<br>            width: 100%;<br>        }<br>        .wandb-col {<br>            display: flex;<br>            flex-direction: column;<br>            flex-basis: 100%;<br>            flex: 1;<br>            padding: 10px;<br>        }<br>    </style><br><div class=\"wandb-row\"><div class=\"wandb-col\"><h3>Run history:</h3><br/><table class=\"wandb\"><tr><td>average_reward_across_seeds</td><td>▁</td></tr><tr><td>seed_101_episode</td><td>▁▁▁▁▁▁▂▂▂▂▂▂▂▂▂▃▃▃▃▃▄▄▅▅▅▅▆▆▆▆▆▆▆▆▆▇████</td></tr><tr><td>seed_101_reward</td><td>▁▂▁▁▂▂▁▁▂▂▂▂▂▂▂▂▂▂▂▂▂▂▄▂▂▂▂▂▂█▂▂▂▂▂▂▂▁▂▂</td></tr><tr><td>seed_123_episode</td><td>▁▁▁▁▁▁▂▂▂▂▃▃▃▃▃▃▃▃▄▄▅▅▅▅▅▅▆▆▆▆▇▇▇▇▇█████</td></tr><tr><td>seed_123_reward</td><td>▂▁▁▁▂▁▁▂▂▂▂▂▂▁▂▂▂▂▁▂▂▂▂▂▂▂▁▂▂▂▄▂▂▂█▂▂▂▂▂</td></tr><tr><td>seed_42_episode</td><td>▁▁▁▁▂▂▂▂▂▂▃▃▃▃▃▄▄▄▄▄▄▅▅▅▅▅▅▆▆▆▇▇▇▇▇▇▇▇▇█</td></tr><tr><td>seed_42_reward</td><td>▁▁▁▁▁▁▁▂▁▂▁▂▁▁▁▂▁▂▁▁▁▂▂▁▁▁▂█▁▂▂▂▂▂█▂▁▂▂▂</td></tr><tr><td>seed_456_episode</td><td>▁▁▁▁▁▂▂▂▂▃▃▃▃▃▄▄▄▄▄▅▅▆▆▆▆▆▆▆▇▇▇▇▇▇▇▇▇███</td></tr><tr><td>seed_456_reward</td><td>▁▂▂▂▂▁▂▁▁▁▂▂▂▂▂▁▁▂▂▂▂▁▁▂▂▁▂▂▁▂▁▁▂▂▂▂▂▂█▁</td></tr><tr><td>seed_789_episode</td><td>▁▁▁▁▁▂▂▂▂▂▄▄▄▄▄▄▅▅▅▅▅▅▅▆▆▆▆▆▆▆▆▆▆▆▇▇▇███</td></tr><tr><td>seed_789_reward</td><td>▁▁▁▁▁▁▁▁▁▁▁▁▁▂▂▁▂▂▁▂▁▂▁▂▂▅▂▂▁▁▂▂▂▂▂▂▁▂▂█</td></tr></table><br/></div><div class=\"wandb-col\"><h3>Run summary:</h3><br/><table class=\"wandb\"><tr><td>average_reward_across_seeds</td><td>-178.36674</td></tr><tr><td>seed_101_episode</td><td>2999</td></tr><tr><td>seed_101_reward</td><td>-189.35258</td></tr><tr><td>seed_123_episode</td><td>2999</td></tr><tr><td>seed_123_reward</td><td>-174.83543</td></tr><tr><td>seed_42_episode</td><td>2999</td></tr><tr><td>seed_42_reward</td><td>-188.78795</td></tr><tr><td>seed_456_episode</td><td>2999</td></tr><tr><td>seed_456_reward</td><td>-190.84627</td></tr><tr><td>seed_789_episode</td><td>2999</td></tr><tr><td>seed_789_reward</td><td>-186.90996</td></tr></table><br/></div></div>"
            ]
          },
          "metadata": {}
        },
        {
          "output_type": "display_data",
          "data": {
            "text/plain": [
              "<IPython.core.display.HTML object>"
            ],
            "text/html": [
              " View run <strong style=\"color:#cdcd00\">honest-sweep-11</strong> at: <a href='https://wandb.ai/abhijithvinod-indian-institue-of-technology-madras/RL_MountainCar_QLearning/runs/lu16boaz' target=\"_blank\">https://wandb.ai/abhijithvinod-indian-institue-of-technology-madras/RL_MountainCar_QLearning/runs/lu16boaz</a><br> View project at: <a href='https://wandb.ai/abhijithvinod-indian-institue-of-technology-madras/RL_MountainCar_QLearning' target=\"_blank\">https://wandb.ai/abhijithvinod-indian-institue-of-technology-madras/RL_MountainCar_QLearning</a><br>Synced 5 W&B file(s), 0 media file(s), 0 artifact file(s) and 0 other file(s)"
            ]
          },
          "metadata": {}
        },
        {
          "output_type": "display_data",
          "data": {
            "text/plain": [
              "<IPython.core.display.HTML object>"
            ],
            "text/html": [
              "Find logs at: <code>./wandb/run-20250401_120645-lu16boaz/logs</code>"
            ]
          },
          "metadata": {}
        },
        {
          "output_type": "stream",
          "name": "stderr",
          "text": [
            "\u001b[34m\u001b[1mwandb\u001b[0m: Agent Starting Run: rr10picy with config:\n",
            "\u001b[34m\u001b[1mwandb\u001b[0m: \talpha: 0.18370855924455656\n",
            "\u001b[34m\u001b[1mwandb\u001b[0m: \tgamma: 0.99\n",
            "\u001b[34m\u001b[1mwandb\u001b[0m: \tn_bins: 25\n",
            "\u001b[34m\u001b[1mwandb\u001b[0m: \tn_episodes: 3000\n",
            "\u001b[34m\u001b[1mwandb\u001b[0m: \ttemperature: 0.8846607760280466\n",
            "\u001b[34m\u001b[1mwandb\u001b[0m: \tuse_reward_shaping: True\n"
          ]
        },
        {
          "output_type": "display_data",
          "data": {
            "text/plain": [
              "<IPython.core.display.HTML object>"
            ],
            "text/html": [
              "Tracking run with wandb version 0.19.8"
            ]
          },
          "metadata": {}
        },
        {
          "output_type": "display_data",
          "data": {
            "text/plain": [
              "<IPython.core.display.HTML object>"
            ],
            "text/html": [
              "Run data is saved locally in <code>/content/wandb/run-20250401_121311-rr10picy</code>"
            ]
          },
          "metadata": {}
        },
        {
          "output_type": "display_data",
          "data": {
            "text/plain": [
              "<IPython.core.display.HTML object>"
            ],
            "text/html": [
              "Syncing run <strong><a href='https://wandb.ai/abhijithvinod-indian-institue-of-technology-madras/RL_MountainCar_QLearning/runs/rr10picy' target=\"_blank\">frosty-sweep-12</a></strong> to <a href='https://wandb.ai/abhijithvinod-indian-institue-of-technology-madras/RL_MountainCar_QLearning' target=\"_blank\">Weights & Biases</a> (<a href='https://wandb.me/developer-guide' target=\"_blank\">docs</a>)<br>Sweep page: <a href='https://wandb.ai/abhijithvinod-indian-institue-of-technology-madras/RL_MountainCar_QLearning/sweeps/wb4w3b61' target=\"_blank\">https://wandb.ai/abhijithvinod-indian-institue-of-technology-madras/RL_MountainCar_QLearning/sweeps/wb4w3b61</a>"
            ]
          },
          "metadata": {}
        },
        {
          "output_type": "display_data",
          "data": {
            "text/plain": [
              "<IPython.core.display.HTML object>"
            ],
            "text/html": [
              " View project at <a href='https://wandb.ai/abhijithvinod-indian-institue-of-technology-madras/RL_MountainCar_QLearning' target=\"_blank\">https://wandb.ai/abhijithvinod-indian-institue-of-technology-madras/RL_MountainCar_QLearning</a>"
            ]
          },
          "metadata": {}
        },
        {
          "output_type": "display_data",
          "data": {
            "text/plain": [
              "<IPython.core.display.HTML object>"
            ],
            "text/html": [
              " View sweep at <a href='https://wandb.ai/abhijithvinod-indian-institue-of-technology-madras/RL_MountainCar_QLearning/sweeps/wb4w3b61' target=\"_blank\">https://wandb.ai/abhijithvinod-indian-institue-of-technology-madras/RL_MountainCar_QLearning/sweeps/wb4w3b61</a>"
            ]
          },
          "metadata": {}
        },
        {
          "output_type": "display_data",
          "data": {
            "text/plain": [
              "<IPython.core.display.HTML object>"
            ],
            "text/html": [
              " View run at <a href='https://wandb.ai/abhijithvinod-indian-institue-of-technology-madras/RL_MountainCar_QLearning/runs/rr10picy' target=\"_blank\">https://wandb.ai/abhijithvinod-indian-institue-of-technology-madras/RL_MountainCar_QLearning/runs/rr10picy</a>"
            ]
          },
          "metadata": {}
        },
        {
          "output_type": "display_data",
          "data": {
            "text/plain": [
              "<IPython.core.display.HTML object>"
            ],
            "text/html": []
          },
          "metadata": {}
        },
        {
          "output_type": "display_data",
          "data": {
            "text/plain": [
              "<IPython.core.display.HTML object>"
            ],
            "text/html": [
              "<br>    <style><br>        .wandb-row {<br>            display: flex;<br>            flex-direction: row;<br>            flex-wrap: wrap;<br>            justify-content: flex-start;<br>            width: 100%;<br>        }<br>        .wandb-col {<br>            display: flex;<br>            flex-direction: column;<br>            flex-basis: 100%;<br>            flex: 1;<br>            padding: 10px;<br>        }<br>    </style><br><div class=\"wandb-row\"><div class=\"wandb-col\"><h3>Run history:</h3><br/><table class=\"wandb\"><tr><td>average_reward_across_seeds</td><td>▁</td></tr><tr><td>seed_101_episode</td><td>▁▁▂▂▂▂▃▃▃▃▃▄▄▄▄▄▅▅▅▅▅▅▅▆▆▆▆▆▆▆▆▆▇▇▇▇▇▇██</td></tr><tr><td>seed_101_reward</td><td>▁▁▁▁▁▂▁▁▂▁▁▂▁▂▁▁▁▁▂▂▁▂▂▂▁▂▂▂▂▆▂▂▁▂▁▂██▂▁</td></tr><tr><td>seed_123_episode</td><td>▁▁▁▁▁▁▂▂▂▂▂▂▂▃▃▃▃▃▃▃▄▄▄▄▄▅▅▅▆▆▆▆▆▆▆▇▇▇██</td></tr><tr><td>seed_123_reward</td><td>▁▁▁▁▁▁▁▁▁▁▁▁▁▁▁▂▂▁▁▁▂▁▂▂▁▂▁▂▂▁▂▂▁▁▂█▂▁▂▂</td></tr><tr><td>seed_42_episode</td><td>▁▁▁▁▁▂▂▂▂▃▃▃▃▃▄▄▄▄▄▄▅▅▆▆▆▆▇▇▇▇▇▇▇▇▇█████</td></tr><tr><td>seed_42_reward</td><td>▃▂▁▄▃▃▅▇▄▄▄▅▄▂▄▇▄▃▆▄▃▅▄▄▃▆▃▁█▅▅▅▃▄▃▅▆▆▅▄</td></tr><tr><td>seed_456_episode</td><td>▁▁▁▁▁▂▂▂▂▂▂▂▂▃▃▃▄▄▅▅▅▅▅▅▆▆▇▇▇▇▇▇▇███████</td></tr><tr><td>seed_456_reward</td><td>▁▁▁▁▁▁▁▁▁▁▂▁▁▁▂▂▆▆▂▂▁▁▂▁▂▂▁▂▁▂▂▂▁▂█▂▂▁▅▁</td></tr><tr><td>seed_789_episode</td><td>▁▁▁▁▁▁▁▂▂▂▂▃▃▃▃▃▃▃▄▄▄▄▄▄▅▅▅▅▅▆▆▆▆▇▇▇▇▇██</td></tr><tr><td>seed_789_reward</td><td>▁▁▁▁▁▂▂▂▂▂▂▂▂▂▂▂▂▂▁▁▂▂▂▂▂▂▂▂▂▂▂▁▂▂▂▃▂█▁▃</td></tr></table><br/></div><div class=\"wandb-col\"><h3>Run summary:</h3><br/><table class=\"wandb\"><tr><td>average_reward_across_seeds</td><td>-179.76895</td></tr><tr><td>seed_101_episode</td><td>2999</td></tr><tr><td>seed_101_reward</td><td>-187.46393</td></tr><tr><td>seed_123_episode</td><td>2999</td></tr><tr><td>seed_123_reward</td><td>-190.65945</td></tr><tr><td>seed_42_episode</td><td>2999</td></tr><tr><td>seed_42_reward</td><td>-188.68495</td></tr><tr><td>seed_456_episode</td><td>2999</td></tr><tr><td>seed_456_reward</td><td>-138.28412</td></tr><tr><td>seed_789_episode</td><td>2999</td></tr><tr><td>seed_789_reward</td><td>-186.57008</td></tr></table><br/></div></div>"
            ]
          },
          "metadata": {}
        },
        {
          "output_type": "display_data",
          "data": {
            "text/plain": [
              "<IPython.core.display.HTML object>"
            ],
            "text/html": [
              " View run <strong style=\"color:#cdcd00\">frosty-sweep-12</strong> at: <a href='https://wandb.ai/abhijithvinod-indian-institue-of-technology-madras/RL_MountainCar_QLearning/runs/rr10picy' target=\"_blank\">https://wandb.ai/abhijithvinod-indian-institue-of-technology-madras/RL_MountainCar_QLearning/runs/rr10picy</a><br> View project at: <a href='https://wandb.ai/abhijithvinod-indian-institue-of-technology-madras/RL_MountainCar_QLearning' target=\"_blank\">https://wandb.ai/abhijithvinod-indian-institue-of-technology-madras/RL_MountainCar_QLearning</a><br>Synced 5 W&B file(s), 0 media file(s), 0 artifact file(s) and 0 other file(s)"
            ]
          },
          "metadata": {}
        },
        {
          "output_type": "display_data",
          "data": {
            "text/plain": [
              "<IPython.core.display.HTML object>"
            ],
            "text/html": [
              "Find logs at: <code>./wandb/run-20250401_121311-rr10picy/logs</code>"
            ]
          },
          "metadata": {}
        },
        {
          "output_type": "stream",
          "name": "stderr",
          "text": [
            "\u001b[34m\u001b[1mwandb\u001b[0m: Agent Starting Run: 9lqixlkd with config:\n",
            "\u001b[34m\u001b[1mwandb\u001b[0m: \talpha: 0.18118996578145305\n",
            "\u001b[34m\u001b[1mwandb\u001b[0m: \tgamma: 0.99\n",
            "\u001b[34m\u001b[1mwandb\u001b[0m: \tn_bins: 25\n",
            "\u001b[34m\u001b[1mwandb\u001b[0m: \tn_episodes: 3000\n",
            "\u001b[34m\u001b[1mwandb\u001b[0m: \ttemperature: 0.7250893681959143\n",
            "\u001b[34m\u001b[1mwandb\u001b[0m: \tuse_reward_shaping: True\n"
          ]
        },
        {
          "output_type": "display_data",
          "data": {
            "text/plain": [
              "<IPython.core.display.HTML object>"
            ],
            "text/html": [
              "Tracking run with wandb version 0.19.8"
            ]
          },
          "metadata": {}
        },
        {
          "output_type": "display_data",
          "data": {
            "text/plain": [
              "<IPython.core.display.HTML object>"
            ],
            "text/html": [
              "Run data is saved locally in <code>/content/wandb/run-20250401_121934-9lqixlkd</code>"
            ]
          },
          "metadata": {}
        },
        {
          "output_type": "display_data",
          "data": {
            "text/plain": [
              "<IPython.core.display.HTML object>"
            ],
            "text/html": [
              "Syncing run <strong><a href='https://wandb.ai/abhijithvinod-indian-institue-of-technology-madras/RL_MountainCar_QLearning/runs/9lqixlkd' target=\"_blank\">rose-sweep-13</a></strong> to <a href='https://wandb.ai/abhijithvinod-indian-institue-of-technology-madras/RL_MountainCar_QLearning' target=\"_blank\">Weights & Biases</a> (<a href='https://wandb.me/developer-guide' target=\"_blank\">docs</a>)<br>Sweep page: <a href='https://wandb.ai/abhijithvinod-indian-institue-of-technology-madras/RL_MountainCar_QLearning/sweeps/wb4w3b61' target=\"_blank\">https://wandb.ai/abhijithvinod-indian-institue-of-technology-madras/RL_MountainCar_QLearning/sweeps/wb4w3b61</a>"
            ]
          },
          "metadata": {}
        },
        {
          "output_type": "display_data",
          "data": {
            "text/plain": [
              "<IPython.core.display.HTML object>"
            ],
            "text/html": [
              " View project at <a href='https://wandb.ai/abhijithvinod-indian-institue-of-technology-madras/RL_MountainCar_QLearning' target=\"_blank\">https://wandb.ai/abhijithvinod-indian-institue-of-technology-madras/RL_MountainCar_QLearning</a>"
            ]
          },
          "metadata": {}
        },
        {
          "output_type": "display_data",
          "data": {
            "text/plain": [
              "<IPython.core.display.HTML object>"
            ],
            "text/html": [
              " View sweep at <a href='https://wandb.ai/abhijithvinod-indian-institue-of-technology-madras/RL_MountainCar_QLearning/sweeps/wb4w3b61' target=\"_blank\">https://wandb.ai/abhijithvinod-indian-institue-of-technology-madras/RL_MountainCar_QLearning/sweeps/wb4w3b61</a>"
            ]
          },
          "metadata": {}
        },
        {
          "output_type": "display_data",
          "data": {
            "text/plain": [
              "<IPython.core.display.HTML object>"
            ],
            "text/html": [
              " View run at <a href='https://wandb.ai/abhijithvinod-indian-institue-of-technology-madras/RL_MountainCar_QLearning/runs/9lqixlkd' target=\"_blank\">https://wandb.ai/abhijithvinod-indian-institue-of-technology-madras/RL_MountainCar_QLearning/runs/9lqixlkd</a>"
            ]
          },
          "metadata": {}
        },
        {
          "output_type": "display_data",
          "data": {
            "text/plain": [
              "<IPython.core.display.HTML object>"
            ],
            "text/html": []
          },
          "metadata": {}
        },
        {
          "output_type": "display_data",
          "data": {
            "text/plain": [
              "<IPython.core.display.HTML object>"
            ],
            "text/html": [
              "<br>    <style><br>        .wandb-row {<br>            display: flex;<br>            flex-direction: row;<br>            flex-wrap: wrap;<br>            justify-content: flex-start;<br>            width: 100%;<br>        }<br>        .wandb-col {<br>            display: flex;<br>            flex-direction: column;<br>            flex-basis: 100%;<br>            flex: 1;<br>            padding: 10px;<br>        }<br>    </style><br><div class=\"wandb-row\"><div class=\"wandb-col\"><h3>Run history:</h3><br/><table class=\"wandb\"><tr><td>average_reward_across_seeds</td><td>▁</td></tr><tr><td>seed_101_episode</td><td>▁▁▂▂▂▂▂▂▃▃▃▃▄▄▄▄▄▅▅▅▅▅▅▅▆▆▆▆▆▆▇▇▇▇▇█████</td></tr><tr><td>seed_101_reward</td><td>▁▁▁▁▁▁▁▁▁▂▁▁▁▁▁▂▁▁▁▂▂▂▂▁▂▁▁▂▂▆█▂▂▂▂▁▅▅▂▂</td></tr><tr><td>seed_123_episode</td><td>▁▁▁▁▁▁▂▂▂▂▃▃▃▃▃▄▄▄▄▄▅▅▅▅▅▆▆▆▆▆▆▇▇▇▇▇████</td></tr><tr><td>seed_123_reward</td><td>▁▁▁▁▁▂▂▁▂▂▂▂▂▂▂▁▂▁▂▁▂▂▂▂▂▂▂▂▂▂▂▇▆▇█▄▅▂▂▂</td></tr><tr><td>seed_42_episode</td><td>▁▁▁▁▁▂▂▂▂▂▂▂▂▃▃▃▄▄▄▄▄▄▄▄▄▅▅▅▅▆▆▆▆▇▇█████</td></tr><tr><td>seed_42_reward</td><td>▁▁▂▂▁▂▂▂▂▂▂▂▂▂▂▂▂▂▂▂▂▂▂▂▅▄▂▇█▃▂▂▂▂▇▇▂█▇▂</td></tr><tr><td>seed_456_episode</td><td>▁▁▁▂▂▂▂▂▂▂▂▂▃▃▃▃▄▄▄▄▅▅▅▅▅▆▆▆▆▆▇▇▇▇▇▇▇███</td></tr><tr><td>seed_456_reward</td><td>▁▁▁▂▁▂▂▂▁▂▁▂▂▂▂▂▂▂▁▁▆▂▂▂▂▁▇▂▁▂▂▇▂▂▂▂▂▄▂█</td></tr><tr><td>seed_789_episode</td><td>▁▁▁▁▁▁▂▂▂▂▂▂▃▃▃▃▃▃▄▄▄▄▄▄▄▅▅▅▆▆▆▇▇▇▇█████</td></tr><tr><td>seed_789_reward</td><td>▁▁▂▁▂▁▂▁▂▁▁▂▂▂▂▂▂▂▂▂▂▂▂▅▂▄▂▄▂▂▁▆▂█▇▂▄▁▄▇</td></tr></table><br/></div><div class=\"wandb-col\"><h3>Run summary:</h3><br/><table class=\"wandb\"><tr><td>average_reward_across_seeds</td><td>-169.09315</td></tr><tr><td>seed_101_episode</td><td>2999</td></tr><tr><td>seed_101_reward</td><td>-142.15945</td></tr><tr><td>seed_123_episode</td><td>2999</td></tr><tr><td>seed_123_reward</td><td>-190.31107</td></tr><tr><td>seed_42_episode</td><td>2999</td></tr><tr><td>seed_42_reward</td><td>-186.0219</td></tr><tr><td>seed_456_episode</td><td>2999</td></tr><tr><td>seed_456_reward</td><td>-132.97937</td></tr><tr><td>seed_789_episode</td><td>2999</td></tr><tr><td>seed_789_reward</td><td>-183.95813</td></tr></table><br/></div></div>"
            ]
          },
          "metadata": {}
        },
        {
          "output_type": "display_data",
          "data": {
            "text/plain": [
              "<IPython.core.display.HTML object>"
            ],
            "text/html": [
              " View run <strong style=\"color:#cdcd00\">rose-sweep-13</strong> at: <a href='https://wandb.ai/abhijithvinod-indian-institue-of-technology-madras/RL_MountainCar_QLearning/runs/9lqixlkd' target=\"_blank\">https://wandb.ai/abhijithvinod-indian-institue-of-technology-madras/RL_MountainCar_QLearning/runs/9lqixlkd</a><br> View project at: <a href='https://wandb.ai/abhijithvinod-indian-institue-of-technology-madras/RL_MountainCar_QLearning' target=\"_blank\">https://wandb.ai/abhijithvinod-indian-institue-of-technology-madras/RL_MountainCar_QLearning</a><br>Synced 5 W&B file(s), 0 media file(s), 0 artifact file(s) and 0 other file(s)"
            ]
          },
          "metadata": {}
        },
        {
          "output_type": "display_data",
          "data": {
            "text/plain": [
              "<IPython.core.display.HTML object>"
            ],
            "text/html": [
              "Find logs at: <code>./wandb/run-20250401_121934-9lqixlkd/logs</code>"
            ]
          },
          "metadata": {}
        },
        {
          "output_type": "stream",
          "name": "stderr",
          "text": [
            "\u001b[34m\u001b[1mwandb\u001b[0m: Agent Starting Run: iteonrhu with config:\n",
            "\u001b[34m\u001b[1mwandb\u001b[0m: \talpha: 0.15746599320173366\n",
            "\u001b[34m\u001b[1mwandb\u001b[0m: \tgamma: 0.99\n",
            "\u001b[34m\u001b[1mwandb\u001b[0m: \tn_bins: 20\n",
            "\u001b[34m\u001b[1mwandb\u001b[0m: \tn_episodes: 3000\n",
            "\u001b[34m\u001b[1mwandb\u001b[0m: \ttemperature: 0.823584056121438\n",
            "\u001b[34m\u001b[1mwandb\u001b[0m: \tuse_reward_shaping: True\n"
          ]
        },
        {
          "output_type": "display_data",
          "data": {
            "text/plain": [
              "<IPython.core.display.HTML object>"
            ],
            "text/html": [
              "Tracking run with wandb version 0.19.8"
            ]
          },
          "metadata": {}
        },
        {
          "output_type": "display_data",
          "data": {
            "text/plain": [
              "<IPython.core.display.HTML object>"
            ],
            "text/html": [
              "Run data is saved locally in <code>/content/wandb/run-20250401_122554-iteonrhu</code>"
            ]
          },
          "metadata": {}
        },
        {
          "output_type": "display_data",
          "data": {
            "text/plain": [
              "<IPython.core.display.HTML object>"
            ],
            "text/html": [
              "Syncing run <strong><a href='https://wandb.ai/abhijithvinod-indian-institue-of-technology-madras/RL_MountainCar_QLearning/runs/iteonrhu' target=\"_blank\">treasured-sweep-14</a></strong> to <a href='https://wandb.ai/abhijithvinod-indian-institue-of-technology-madras/RL_MountainCar_QLearning' target=\"_blank\">Weights & Biases</a> (<a href='https://wandb.me/developer-guide' target=\"_blank\">docs</a>)<br>Sweep page: <a href='https://wandb.ai/abhijithvinod-indian-institue-of-technology-madras/RL_MountainCar_QLearning/sweeps/wb4w3b61' target=\"_blank\">https://wandb.ai/abhijithvinod-indian-institue-of-technology-madras/RL_MountainCar_QLearning/sweeps/wb4w3b61</a>"
            ]
          },
          "metadata": {}
        },
        {
          "output_type": "display_data",
          "data": {
            "text/plain": [
              "<IPython.core.display.HTML object>"
            ],
            "text/html": [
              " View project at <a href='https://wandb.ai/abhijithvinod-indian-institue-of-technology-madras/RL_MountainCar_QLearning' target=\"_blank\">https://wandb.ai/abhijithvinod-indian-institue-of-technology-madras/RL_MountainCar_QLearning</a>"
            ]
          },
          "metadata": {}
        },
        {
          "output_type": "display_data",
          "data": {
            "text/plain": [
              "<IPython.core.display.HTML object>"
            ],
            "text/html": [
              " View sweep at <a href='https://wandb.ai/abhijithvinod-indian-institue-of-technology-madras/RL_MountainCar_QLearning/sweeps/wb4w3b61' target=\"_blank\">https://wandb.ai/abhijithvinod-indian-institue-of-technology-madras/RL_MountainCar_QLearning/sweeps/wb4w3b61</a>"
            ]
          },
          "metadata": {}
        },
        {
          "output_type": "display_data",
          "data": {
            "text/plain": [
              "<IPython.core.display.HTML object>"
            ],
            "text/html": [
              " View run at <a href='https://wandb.ai/abhijithvinod-indian-institue-of-technology-madras/RL_MountainCar_QLearning/runs/iteonrhu' target=\"_blank\">https://wandb.ai/abhijithvinod-indian-institue-of-technology-madras/RL_MountainCar_QLearning/runs/iteonrhu</a>"
            ]
          },
          "metadata": {}
        },
        {
          "output_type": "display_data",
          "data": {
            "text/plain": [
              "<IPython.core.display.HTML object>"
            ],
            "text/html": []
          },
          "metadata": {}
        },
        {
          "output_type": "display_data",
          "data": {
            "text/plain": [
              "<IPython.core.display.HTML object>"
            ],
            "text/html": [
              "<br>    <style><br>        .wandb-row {<br>            display: flex;<br>            flex-direction: row;<br>            flex-wrap: wrap;<br>            justify-content: flex-start;<br>            width: 100%;<br>        }<br>        .wandb-col {<br>            display: flex;<br>            flex-direction: column;<br>            flex-basis: 100%;<br>            flex: 1;<br>            padding: 10px;<br>        }<br>    </style><br><div class=\"wandb-row\"><div class=\"wandb-col\"><h3>Run history:</h3><br/><table class=\"wandb\"><tr><td>average_reward_across_seeds</td><td>▁</td></tr><tr><td>seed_101_episode</td><td>▁▁▁▁▂▂▂▂▂▂▃▃▃▃▃▃▃▄▄▄▄▄▄▄▄▅▅▅▆▆▆▇▇▇▇▇▇███</td></tr><tr><td>seed_101_reward</td><td>▁▁▁▁▁▁▁▁▁▁▁▁▁▁▁▁▁▁▂▁▁▁▁▁▁▁▁▁▃▁▂▅▁█▇▁▃▂▁█</td></tr><tr><td>seed_123_episode</td><td>▁▁▁▁▁▂▂▂▂▂▃▃▃▃▃▄▄▄▄▄▅▅▅▅▅▅▅▆▆▆▇▇▇▇▇█████</td></tr><tr><td>seed_123_reward</td><td>▁▁▁▁▁▂▁▁▁▁▂▁▁▂▁▁▂▂▄▂▂▂▂▂▂▁▂▇▂▇█▆▆▆▇▂▂▆▇▂</td></tr><tr><td>seed_42_episode</td><td>▁▁▁▁▂▂▂▂▂▂▃▃▃▃▃▃▃▄▄▄▄▅▅▅▅▅▅▆▆▆▆▆▆▇▇▇▇▇██</td></tr><tr><td>seed_42_reward</td><td>▁▁▂▂▁▁▁▁▁▂▂▁▁▂▂▁▁▂▂▂▂█▇▁▃▂▂▂▂▇▃▂▂▅█▂▂▂▄▁</td></tr><tr><td>seed_456_episode</td><td>▁▁▁▁▂▂▂▂▂▂▂▂▃▃▃▄▄▄▄▄▅▅▅▅▅▆▆▆▆▆▆▆▆▇▇█████</td></tr><tr><td>seed_456_reward</td><td>▁▁▁▁▂▂▂▂▂▂▂▂▂▁▂▁▂▂▂█▂▆▁▆▂▂▂▂▆▂▂▂▇▂▂▂▄▄▇▂</td></tr><tr><td>seed_789_episode</td><td>▁▁▁▂▂▂▂▂▂▃▃▃▃▄▄▄▅▅▅▅▆▆▆▆▆▆▆▆▆▆▇▇▇▇▇▇▇▇██</td></tr><tr><td>seed_789_reward</td><td>▁▁▁▁▁▁▂▁▁▂▁▁▂▁▁▂▂▁▁▂▂▂▂▂▂▅▂▂▂▂▂▂▃▂▁▇▂▂▇█</td></tr></table><br/></div><div class=\"wandb-col\"><h3>Run summary:</h3><br/><table class=\"wandb\"><tr><td>average_reward_across_seeds</td><td>-169.02831</td></tr><tr><td>seed_101_episode</td><td>2999</td></tr><tr><td>seed_101_reward</td><td>-137.27701</td></tr><tr><td>seed_123_episode</td><td>2999</td></tr><tr><td>seed_123_reward</td><td>-175.80394</td></tr><tr><td>seed_42_episode</td><td>2999</td></tr><tr><td>seed_42_reward</td><td>-189.17053</td></tr><tr><td>seed_456_episode</td><td>2999</td></tr><tr><td>seed_456_reward</td><td>-150.54092</td></tr><tr><td>seed_789_episode</td><td>2999</td></tr><tr><td>seed_789_reward</td><td>-189.69855</td></tr></table><br/></div></div>"
            ]
          },
          "metadata": {}
        },
        {
          "output_type": "display_data",
          "data": {
            "text/plain": [
              "<IPython.core.display.HTML object>"
            ],
            "text/html": [
              " View run <strong style=\"color:#cdcd00\">treasured-sweep-14</strong> at: <a href='https://wandb.ai/abhijithvinod-indian-institue-of-technology-madras/RL_MountainCar_QLearning/runs/iteonrhu' target=\"_blank\">https://wandb.ai/abhijithvinod-indian-institue-of-technology-madras/RL_MountainCar_QLearning/runs/iteonrhu</a><br> View project at: <a href='https://wandb.ai/abhijithvinod-indian-institue-of-technology-madras/RL_MountainCar_QLearning' target=\"_blank\">https://wandb.ai/abhijithvinod-indian-institue-of-technology-madras/RL_MountainCar_QLearning</a><br>Synced 5 W&B file(s), 0 media file(s), 0 artifact file(s) and 0 other file(s)"
            ]
          },
          "metadata": {}
        },
        {
          "output_type": "display_data",
          "data": {
            "text/plain": [
              "<IPython.core.display.HTML object>"
            ],
            "text/html": [
              "Find logs at: <code>./wandb/run-20250401_122554-iteonrhu/logs</code>"
            ]
          },
          "metadata": {}
        },
        {
          "output_type": "stream",
          "name": "stderr",
          "text": [
            "\u001b[34m\u001b[1mwandb\u001b[0m: Agent Starting Run: i2rz4u8j with config:\n",
            "\u001b[34m\u001b[1mwandb\u001b[0m: \talpha: 0.1398525885264274\n",
            "\u001b[34m\u001b[1mwandb\u001b[0m: \tgamma: 0.99\n",
            "\u001b[34m\u001b[1mwandb\u001b[0m: \tn_bins: 20\n",
            "\u001b[34m\u001b[1mwandb\u001b[0m: \tn_episodes: 3000\n",
            "\u001b[34m\u001b[1mwandb\u001b[0m: \ttemperature: 0.7080004146348284\n",
            "\u001b[34m\u001b[1mwandb\u001b[0m: \tuse_reward_shaping: True\n"
          ]
        },
        {
          "output_type": "display_data",
          "data": {
            "text/plain": [
              "<IPython.core.display.HTML object>"
            ],
            "text/html": [
              "Tracking run with wandb version 0.19.8"
            ]
          },
          "metadata": {}
        },
        {
          "output_type": "display_data",
          "data": {
            "text/plain": [
              "<IPython.core.display.HTML object>"
            ],
            "text/html": [
              "Run data is saved locally in <code>/content/wandb/run-20250401_123209-i2rz4u8j</code>"
            ]
          },
          "metadata": {}
        },
        {
          "output_type": "display_data",
          "data": {
            "text/plain": [
              "<IPython.core.display.HTML object>"
            ],
            "text/html": [
              "Syncing run <strong><a href='https://wandb.ai/abhijithvinod-indian-institue-of-technology-madras/RL_MountainCar_QLearning/runs/i2rz4u8j' target=\"_blank\">logical-sweep-15</a></strong> to <a href='https://wandb.ai/abhijithvinod-indian-institue-of-technology-madras/RL_MountainCar_QLearning' target=\"_blank\">Weights & Biases</a> (<a href='https://wandb.me/developer-guide' target=\"_blank\">docs</a>)<br>Sweep page: <a href='https://wandb.ai/abhijithvinod-indian-institue-of-technology-madras/RL_MountainCar_QLearning/sweeps/wb4w3b61' target=\"_blank\">https://wandb.ai/abhijithvinod-indian-institue-of-technology-madras/RL_MountainCar_QLearning/sweeps/wb4w3b61</a>"
            ]
          },
          "metadata": {}
        },
        {
          "output_type": "display_data",
          "data": {
            "text/plain": [
              "<IPython.core.display.HTML object>"
            ],
            "text/html": [
              " View project at <a href='https://wandb.ai/abhijithvinod-indian-institue-of-technology-madras/RL_MountainCar_QLearning' target=\"_blank\">https://wandb.ai/abhijithvinod-indian-institue-of-technology-madras/RL_MountainCar_QLearning</a>"
            ]
          },
          "metadata": {}
        },
        {
          "output_type": "display_data",
          "data": {
            "text/plain": [
              "<IPython.core.display.HTML object>"
            ],
            "text/html": [
              " View sweep at <a href='https://wandb.ai/abhijithvinod-indian-institue-of-technology-madras/RL_MountainCar_QLearning/sweeps/wb4w3b61' target=\"_blank\">https://wandb.ai/abhijithvinod-indian-institue-of-technology-madras/RL_MountainCar_QLearning/sweeps/wb4w3b61</a>"
            ]
          },
          "metadata": {}
        },
        {
          "output_type": "display_data",
          "data": {
            "text/plain": [
              "<IPython.core.display.HTML object>"
            ],
            "text/html": [
              " View run at <a href='https://wandb.ai/abhijithvinod-indian-institue-of-technology-madras/RL_MountainCar_QLearning/runs/i2rz4u8j' target=\"_blank\">https://wandb.ai/abhijithvinod-indian-institue-of-technology-madras/RL_MountainCar_QLearning/runs/i2rz4u8j</a>"
            ]
          },
          "metadata": {}
        },
        {
          "output_type": "display_data",
          "data": {
            "text/plain": [
              "<IPython.core.display.HTML object>"
            ],
            "text/html": []
          },
          "metadata": {}
        },
        {
          "output_type": "display_data",
          "data": {
            "text/plain": [
              "<IPython.core.display.HTML object>"
            ],
            "text/html": [
              "<br>    <style><br>        .wandb-row {<br>            display: flex;<br>            flex-direction: row;<br>            flex-wrap: wrap;<br>            justify-content: flex-start;<br>            width: 100%;<br>        }<br>        .wandb-col {<br>            display: flex;<br>            flex-direction: column;<br>            flex-basis: 100%;<br>            flex: 1;<br>            padding: 10px;<br>        }<br>    </style><br><div class=\"wandb-row\"><div class=\"wandb-col\"><h3>Run history:</h3><br/><table class=\"wandb\"><tr><td>average_reward_across_seeds</td><td>▁</td></tr><tr><td>seed_101_episode</td><td>▁▁▁▂▂▂▂▂▂▂▃▃▃▄▄▄▄▄▄▄▅▅▅▅▅▆▆▆▆▆▇▇▇▇▇▇████</td></tr><tr><td>seed_101_reward</td><td>▁▂▁▁▁▂▂▂▂▂▁▂▂▁▂▂▂▂▂▂▂▂▂▂▂█▂▅▂▇██▂▂▂▂▇▂▆▄</td></tr><tr><td>seed_123_episode</td><td>▁▂▂▂▂▂▂▂▂▃▃▃▃▃▃▃▄▄▄▄▄▄▄▄▅▅▅▅▆▆▆▆▆▇▇█████</td></tr><tr><td>seed_123_reward</td><td>▁▁▁▁▁▁▁▁▁▁▁█▁▁▁▁▁▂▁▄▁▇▁▁▁▆▁▁▂▁▂▂▃▂▆▂█▇▂▂</td></tr><tr><td>seed_42_episode</td><td>▁▁▁▂▂▂▂▂▂▂▃▃▃▃▃▃▃▄▄▄▄▄▄▄▅▆▆▆▆▆▆▇▇▇▇▇████</td></tr><tr><td>seed_42_reward</td><td>▁▁▂▁▂▁▁▂▂▂▂▂▂▂▇▂▂▂▂▂▂▂▂▇▂▇▄█▇▅▂▆▇▂▂▄█▄▁▄</td></tr><tr><td>seed_456_episode</td><td>▁▁▁▂▂▂▂▂▂▂▂▂▂▂▃▃▃▄▄▄▄▄▄▄▄▄▄▅▅▅▆▆▆▆▆▇▇▇▇█</td></tr><tr><td>seed_456_reward</td><td>▂▁▁▁▂▂▂▁▂▂▂▂▂▂▂▂▂▂▄▂▂▂▄▂▂▇█▂▂█▂▂▂▂▂▂▂▄▂▂</td></tr><tr><td>seed_789_episode</td><td>▁▁▁▁▁▁▂▂▂▂▂▂▃▃▃▃▃▄▄▄▄▄▄▄▄▅▅▅▅▅▆▆▆▆▆▇████</td></tr><tr><td>seed_789_reward</td><td>▁▁▁▁▁▁▁▁▁▂▁▂▂▁▁▁▁▁▁▅▂▁▂▁▁▁▁▁▁▅▂▆▂▃▁▂▁▁▁█</td></tr></table><br/></div><div class=\"wandb-col\"><h3>Run summary:</h3><br/><table class=\"wandb\"><tr><td>average_reward_across_seeds</td><td>-167.61058</td></tr><tr><td>seed_101_episode</td><td>2999</td></tr><tr><td>seed_101_reward</td><td>-141.98346</td></tr><tr><td>seed_123_episode</td><td>2999</td></tr><tr><td>seed_123_reward</td><td>-171.88148</td></tr><tr><td>seed_42_episode</td><td>2999</td></tr><tr><td>seed_42_reward</td><td>-171.82866</td></tr><tr><td>seed_456_episode</td><td>2999</td></tr><tr><td>seed_456_reward</td><td>-185.03856</td></tr><tr><td>seed_789_episode</td><td>2999</td></tr><tr><td>seed_789_reward</td><td>-120.30074</td></tr></table><br/></div></div>"
            ]
          },
          "metadata": {}
        },
        {
          "output_type": "display_data",
          "data": {
            "text/plain": [
              "<IPython.core.display.HTML object>"
            ],
            "text/html": [
              " View run <strong style=\"color:#cdcd00\">logical-sweep-15</strong> at: <a href='https://wandb.ai/abhijithvinod-indian-institue-of-technology-madras/RL_MountainCar_QLearning/runs/i2rz4u8j' target=\"_blank\">https://wandb.ai/abhijithvinod-indian-institue-of-technology-madras/RL_MountainCar_QLearning/runs/i2rz4u8j</a><br> View project at: <a href='https://wandb.ai/abhijithvinod-indian-institue-of-technology-madras/RL_MountainCar_QLearning' target=\"_blank\">https://wandb.ai/abhijithvinod-indian-institue-of-technology-madras/RL_MountainCar_QLearning</a><br>Synced 5 W&B file(s), 0 media file(s), 0 artifact file(s) and 0 other file(s)"
            ]
          },
          "metadata": {}
        },
        {
          "output_type": "display_data",
          "data": {
            "text/plain": [
              "<IPython.core.display.HTML object>"
            ],
            "text/html": [
              "Find logs at: <code>./wandb/run-20250401_123209-i2rz4u8j/logs</code>"
            ]
          },
          "metadata": {}
        },
        {
          "output_type": "stream",
          "name": "stderr",
          "text": [
            "\u001b[34m\u001b[1mwandb\u001b[0m: Agent Starting Run: vbzzevtq with config:\n",
            "\u001b[34m\u001b[1mwandb\u001b[0m: \talpha: 0.1369075748771881\n",
            "\u001b[34m\u001b[1mwandb\u001b[0m: \tgamma: 0.99\n",
            "\u001b[34m\u001b[1mwandb\u001b[0m: \tn_bins: 30\n",
            "\u001b[34m\u001b[1mwandb\u001b[0m: \tn_episodes: 3000\n",
            "\u001b[34m\u001b[1mwandb\u001b[0m: \ttemperature: 0.7515082733987537\n",
            "\u001b[34m\u001b[1mwandb\u001b[0m: \tuse_reward_shaping: True\n"
          ]
        },
        {
          "output_type": "display_data",
          "data": {
            "text/plain": [
              "<IPython.core.display.HTML object>"
            ],
            "text/html": [
              "Tracking run with wandb version 0.19.8"
            ]
          },
          "metadata": {}
        },
        {
          "output_type": "display_data",
          "data": {
            "text/plain": [
              "<IPython.core.display.HTML object>"
            ],
            "text/html": [
              "Run data is saved locally in <code>/content/wandb/run-20250401_123820-vbzzevtq</code>"
            ]
          },
          "metadata": {}
        },
        {
          "output_type": "display_data",
          "data": {
            "text/plain": [
              "<IPython.core.display.HTML object>"
            ],
            "text/html": [
              "Syncing run <strong><a href='https://wandb.ai/abhijithvinod-indian-institue-of-technology-madras/RL_MountainCar_QLearning/runs/vbzzevtq' target=\"_blank\">gentle-sweep-16</a></strong> to <a href='https://wandb.ai/abhijithvinod-indian-institue-of-technology-madras/RL_MountainCar_QLearning' target=\"_blank\">Weights & Biases</a> (<a href='https://wandb.me/developer-guide' target=\"_blank\">docs</a>)<br>Sweep page: <a href='https://wandb.ai/abhijithvinod-indian-institue-of-technology-madras/RL_MountainCar_QLearning/sweeps/wb4w3b61' target=\"_blank\">https://wandb.ai/abhijithvinod-indian-institue-of-technology-madras/RL_MountainCar_QLearning/sweeps/wb4w3b61</a>"
            ]
          },
          "metadata": {}
        },
        {
          "output_type": "display_data",
          "data": {
            "text/plain": [
              "<IPython.core.display.HTML object>"
            ],
            "text/html": [
              " View project at <a href='https://wandb.ai/abhijithvinod-indian-institue-of-technology-madras/RL_MountainCar_QLearning' target=\"_blank\">https://wandb.ai/abhijithvinod-indian-institue-of-technology-madras/RL_MountainCar_QLearning</a>"
            ]
          },
          "metadata": {}
        },
        {
          "output_type": "display_data",
          "data": {
            "text/plain": [
              "<IPython.core.display.HTML object>"
            ],
            "text/html": [
              " View sweep at <a href='https://wandb.ai/abhijithvinod-indian-institue-of-technology-madras/RL_MountainCar_QLearning/sweeps/wb4w3b61' target=\"_blank\">https://wandb.ai/abhijithvinod-indian-institue-of-technology-madras/RL_MountainCar_QLearning/sweeps/wb4w3b61</a>"
            ]
          },
          "metadata": {}
        },
        {
          "output_type": "display_data",
          "data": {
            "text/plain": [
              "<IPython.core.display.HTML object>"
            ],
            "text/html": [
              " View run at <a href='https://wandb.ai/abhijithvinod-indian-institue-of-technology-madras/RL_MountainCar_QLearning/runs/vbzzevtq' target=\"_blank\">https://wandb.ai/abhijithvinod-indian-institue-of-technology-madras/RL_MountainCar_QLearning/runs/vbzzevtq</a>"
            ]
          },
          "metadata": {}
        },
        {
          "output_type": "display_data",
          "data": {
            "text/plain": [
              "<IPython.core.display.HTML object>"
            ],
            "text/html": []
          },
          "metadata": {}
        },
        {
          "output_type": "display_data",
          "data": {
            "text/plain": [
              "<IPython.core.display.HTML object>"
            ],
            "text/html": [
              "<br>    <style><br>        .wandb-row {<br>            display: flex;<br>            flex-direction: row;<br>            flex-wrap: wrap;<br>            justify-content: flex-start;<br>            width: 100%;<br>        }<br>        .wandb-col {<br>            display: flex;<br>            flex-direction: column;<br>            flex-basis: 100%;<br>            flex: 1;<br>            padding: 10px;<br>        }<br>    </style><br><div class=\"wandb-row\"><div class=\"wandb-col\"><h3>Run history:</h3><br/><table class=\"wandb\"><tr><td>average_reward_across_seeds</td><td>▁</td></tr><tr><td>seed_101_episode</td><td>▁▁▁▁▁▂▂▂▂▂▃▃▃▃▃▄▄▄▄▄▄▄▄▄▅▅▅▅▅▆▆▆▇▇▇▇▇███</td></tr><tr><td>seed_101_reward</td><td>▁▁▂▁▁▂▂▁▂▁▁▁▂▁▂▂▂▂▁▂▂▂▁▂▂▂▂▁█▂▂▂▂▁▂▃▂▂▂▃</td></tr><tr><td>seed_123_episode</td><td>▁▁▁▁▁▁▁▂▂▂▂▂▃▃▃▃▄▄▄▄▅▅▅▅▅▅▅▅▆▆▇▇▇▇▇█████</td></tr><tr><td>seed_123_reward</td><td>▁▃▃▄▃▅▃▂▃▃▅▆▆▄▃█▄▇▆▇▅▃▆▆▆▃▄▇▇▅▇▇█▆▅▇▆▆▄▆</td></tr><tr><td>seed_42_episode</td><td>▁▁▁▁▁▂▂▂▂▂▂▂▂▃▃▃▃▃▄▄▄▄▄▅▅▅▅▅▅▅▆▆▆▆▇▇▇▇██</td></tr><tr><td>seed_42_reward</td><td>▁▁▁▁▁▂▁▂▁▁▂▂▂▂▁▂▂▂▂▂▂▂▂▁▂▂▂▂▂▁▁█▃▂▂▂▂▂▂▂</td></tr><tr><td>seed_456_episode</td><td>▁▁▁▁▁▁▂▂▂▃▃▃▃▄▄▄▄▄▄▄▅▅▅▅▅▅▅▆▆▆▆▇▇▇▇▇████</td></tr><tr><td>seed_456_reward</td><td>▁▁▁▁▂▂▂▁▂▂▂▂▂▃▂▂▂▂▂▃▂▂▂▂▂▂▃▃▃▂▄▂▃▂▂▃▂▂█▃</td></tr><tr><td>seed_789_episode</td><td>▁▁▁▁▂▂▂▂▃▃▃▃▃▄▄▄▄▄▄▄▄▄▅▅▅▅▅▅▆▆▆▇▇▇▇▇▇███</td></tr><tr><td>seed_789_reward</td><td>▁▂▁▁▂▂▂▂▂▂▂▂▂▂▂▂▁▂▂▂▂▂▂▂▂▂▂▂▂▂▂▂▂▂▂█▂▂▂▂</td></tr></table><br/></div><div class=\"wandb-col\"><h3>Run summary:</h3><br/><table class=\"wandb\"><tr><td>average_reward_across_seeds</td><td>-185.38237</td></tr><tr><td>seed_101_episode</td><td>2999</td></tr><tr><td>seed_101_reward</td><td>-189.55093</td></tr><tr><td>seed_123_episode</td><td>2999</td></tr><tr><td>seed_123_reward</td><td>-187.18474</td></tr><tr><td>seed_42_episode</td><td>2999</td></tr><tr><td>seed_42_reward</td><td>-185.6779</td></tr><tr><td>seed_456_episode</td><td>2999</td></tr><tr><td>seed_456_reward</td><td>-184.968</td></tr><tr><td>seed_789_episode</td><td>2999</td></tr><tr><td>seed_789_reward</td><td>-185.10487</td></tr></table><br/></div></div>"
            ]
          },
          "metadata": {}
        },
        {
          "output_type": "display_data",
          "data": {
            "text/plain": [
              "<IPython.core.display.HTML object>"
            ],
            "text/html": [
              " View run <strong style=\"color:#cdcd00\">gentle-sweep-16</strong> at: <a href='https://wandb.ai/abhijithvinod-indian-institue-of-technology-madras/RL_MountainCar_QLearning/runs/vbzzevtq' target=\"_blank\">https://wandb.ai/abhijithvinod-indian-institue-of-technology-madras/RL_MountainCar_QLearning/runs/vbzzevtq</a><br> View project at: <a href='https://wandb.ai/abhijithvinod-indian-institue-of-technology-madras/RL_MountainCar_QLearning' target=\"_blank\">https://wandb.ai/abhijithvinod-indian-institue-of-technology-madras/RL_MountainCar_QLearning</a><br>Synced 5 W&B file(s), 0 media file(s), 0 artifact file(s) and 0 other file(s)"
            ]
          },
          "metadata": {}
        },
        {
          "output_type": "display_data",
          "data": {
            "text/plain": [
              "<IPython.core.display.HTML object>"
            ],
            "text/html": [
              "Find logs at: <code>./wandb/run-20250401_123820-vbzzevtq/logs</code>"
            ]
          },
          "metadata": {}
        },
        {
          "output_type": "stream",
          "name": "stderr",
          "text": [
            "\u001b[34m\u001b[1mwandb\u001b[0m: Agent Starting Run: cqabywr7 with config:\n",
            "\u001b[34m\u001b[1mwandb\u001b[0m: \talpha: 0.20205661833809369\n",
            "\u001b[34m\u001b[1mwandb\u001b[0m: \tgamma: 0.99\n",
            "\u001b[34m\u001b[1mwandb\u001b[0m: \tn_bins: 20\n",
            "\u001b[34m\u001b[1mwandb\u001b[0m: \tn_episodes: 3000\n",
            "\u001b[34m\u001b[1mwandb\u001b[0m: \ttemperature: 0.7294499275609987\n",
            "\u001b[34m\u001b[1mwandb\u001b[0m: \tuse_reward_shaping: True\n"
          ]
        },
        {
          "output_type": "display_data",
          "data": {
            "text/plain": [
              "<IPython.core.display.HTML object>"
            ],
            "text/html": [
              "Tracking run with wandb version 0.19.8"
            ]
          },
          "metadata": {}
        },
        {
          "output_type": "display_data",
          "data": {
            "text/plain": [
              "<IPython.core.display.HTML object>"
            ],
            "text/html": [
              "Run data is saved locally in <code>/content/wandb/run-20250401_124444-cqabywr7</code>"
            ]
          },
          "metadata": {}
        },
        {
          "output_type": "display_data",
          "data": {
            "text/plain": [
              "<IPython.core.display.HTML object>"
            ],
            "text/html": [
              "Syncing run <strong><a href='https://wandb.ai/abhijithvinod-indian-institue-of-technology-madras/RL_MountainCar_QLearning/runs/cqabywr7' target=\"_blank\">pleasant-sweep-17</a></strong> to <a href='https://wandb.ai/abhijithvinod-indian-institue-of-technology-madras/RL_MountainCar_QLearning' target=\"_blank\">Weights & Biases</a> (<a href='https://wandb.me/developer-guide' target=\"_blank\">docs</a>)<br>Sweep page: <a href='https://wandb.ai/abhijithvinod-indian-institue-of-technology-madras/RL_MountainCar_QLearning/sweeps/wb4w3b61' target=\"_blank\">https://wandb.ai/abhijithvinod-indian-institue-of-technology-madras/RL_MountainCar_QLearning/sweeps/wb4w3b61</a>"
            ]
          },
          "metadata": {}
        },
        {
          "output_type": "display_data",
          "data": {
            "text/plain": [
              "<IPython.core.display.HTML object>"
            ],
            "text/html": [
              " View project at <a href='https://wandb.ai/abhijithvinod-indian-institue-of-technology-madras/RL_MountainCar_QLearning' target=\"_blank\">https://wandb.ai/abhijithvinod-indian-institue-of-technology-madras/RL_MountainCar_QLearning</a>"
            ]
          },
          "metadata": {}
        },
        {
          "output_type": "display_data",
          "data": {
            "text/plain": [
              "<IPython.core.display.HTML object>"
            ],
            "text/html": [
              " View sweep at <a href='https://wandb.ai/abhijithvinod-indian-institue-of-technology-madras/RL_MountainCar_QLearning/sweeps/wb4w3b61' target=\"_blank\">https://wandb.ai/abhijithvinod-indian-institue-of-technology-madras/RL_MountainCar_QLearning/sweeps/wb4w3b61</a>"
            ]
          },
          "metadata": {}
        },
        {
          "output_type": "display_data",
          "data": {
            "text/plain": [
              "<IPython.core.display.HTML object>"
            ],
            "text/html": [
              " View run at <a href='https://wandb.ai/abhijithvinod-indian-institue-of-technology-madras/RL_MountainCar_QLearning/runs/cqabywr7' target=\"_blank\">https://wandb.ai/abhijithvinod-indian-institue-of-technology-madras/RL_MountainCar_QLearning/runs/cqabywr7</a>"
            ]
          },
          "metadata": {}
        },
        {
          "output_type": "display_data",
          "data": {
            "text/plain": [
              "<IPython.core.display.HTML object>"
            ],
            "text/html": []
          },
          "metadata": {}
        },
        {
          "output_type": "display_data",
          "data": {
            "text/plain": [
              "<IPython.core.display.HTML object>"
            ],
            "text/html": [
              "<br>    <style><br>        .wandb-row {<br>            display: flex;<br>            flex-direction: row;<br>            flex-wrap: wrap;<br>            justify-content: flex-start;<br>            width: 100%;<br>        }<br>        .wandb-col {<br>            display: flex;<br>            flex-direction: column;<br>            flex-basis: 100%;<br>            flex: 1;<br>            padding: 10px;<br>        }<br>    </style><br><div class=\"wandb-row\"><div class=\"wandb-col\"><h3>Run history:</h3><br/><table class=\"wandb\"><tr><td>average_reward_across_seeds</td><td>▁</td></tr><tr><td>seed_101_episode</td><td>▁▁▁▁▂▂▂▂▂▂▂▃▃▃▄▄▄▄▄▄▄▅▅▅▅▅▅▅▆▆▆▇▇▇▇▇▇▇██</td></tr><tr><td>seed_101_reward</td><td>▁▁▁▁▂▁▂▁▂▂▂▁▁▂▁▁▂▂▇▇▃▄▂▂▆▂▁▂▁▂▂▂▂▄█▂▄▂▅▁</td></tr><tr><td>seed_123_episode</td><td>▁▁▂▂▂▂▂▂▃▃▃▃▃▃▃▄▄▄▄▄▄▅▅▅▅▆▆▆▆▆▆▆▆▇▇▇▇▇▇█</td></tr><tr><td>seed_123_reward</td><td>▁▁▁▁▁▁▁▂▂▁▁▃▂▁▂▂▂▁▂▁▂▂▁▂▂▃▃▆▂▄▂▇█▁▂▇▆▁▁█</td></tr><tr><td>seed_42_episode</td><td>▁▁▁▁▂▂▃▃▃▃▃▄▄▄▄▄▄▅▅▅▅▅▅▅▅▅▅▅▆▆▆▆▆▆▆▇▇▇▇█</td></tr><tr><td>seed_42_reward</td><td>▁▁▁▂▁▁▁▂▁▁▁▁▁▄▁▁▂▄▇▂▂▂▇▃▁▂▁▄▁▁▁▁▇▄▁▁▁█▂▇</td></tr><tr><td>seed_456_episode</td><td>▁▁▁▁▁▂▂▃▃▃▃▄▄▄▄▄▄▄▄▄▅▅▅▅▅▆▆▆▆▆▇▇▇▇▇▇▇▇██</td></tr><tr><td>seed_456_reward</td><td>▁▁▁▁▁▁▁▁▂▂▂▁▁▂▁▁▂▂▂▂█▂▂▂▁▂▂▂▂▂▄▇▂▄▇▂█▂▂█</td></tr><tr><td>seed_789_episode</td><td>▁▁▁▁▁▂▂▂▂▂▂▂▃▃▃▄▄▄▄▄▅▅▅▅▅▅▅▅▆▆▆▇▇▇▇█████</td></tr><tr><td>seed_789_reward</td><td>▁▁▁▁▁▁▁▁▁▁▂▁▂▂▂▂█▁▂▄▂▂▂▂▂▃▇▇▂▇▅▁▂▂▂▄▁▂▂▃</td></tr></table><br/></div><div class=\"wandb-col\"><h3>Run summary:</h3><br/><table class=\"wandb\"><tr><td>average_reward_across_seeds</td><td>-164.79504</td></tr><tr><td>seed_101_episode</td><td>2999</td></tr><tr><td>seed_101_reward</td><td>-129.75363</td></tr><tr><td>seed_123_episode</td><td>2999</td></tr><tr><td>seed_123_reward</td><td>-168.87331</td></tr><tr><td>seed_42_episode</td><td>2999</td></tr><tr><td>seed_42_reward</td><td>-188.95531</td></tr><tr><td>seed_456_episode</td><td>2999</td></tr><tr><td>seed_456_reward</td><td>-177.46257</td></tr><tr><td>seed_789_episode</td><td>2999</td></tr><tr><td>seed_789_reward</td><td>-185.49397</td></tr></table><br/></div></div>"
            ]
          },
          "metadata": {}
        },
        {
          "output_type": "display_data",
          "data": {
            "text/plain": [
              "<IPython.core.display.HTML object>"
            ],
            "text/html": [
              " View run <strong style=\"color:#cdcd00\">pleasant-sweep-17</strong> at: <a href='https://wandb.ai/abhijithvinod-indian-institue-of-technology-madras/RL_MountainCar_QLearning/runs/cqabywr7' target=\"_blank\">https://wandb.ai/abhijithvinod-indian-institue-of-technology-madras/RL_MountainCar_QLearning/runs/cqabywr7</a><br> View project at: <a href='https://wandb.ai/abhijithvinod-indian-institue-of-technology-madras/RL_MountainCar_QLearning' target=\"_blank\">https://wandb.ai/abhijithvinod-indian-institue-of-technology-madras/RL_MountainCar_QLearning</a><br>Synced 5 W&B file(s), 0 media file(s), 0 artifact file(s) and 0 other file(s)"
            ]
          },
          "metadata": {}
        },
        {
          "output_type": "display_data",
          "data": {
            "text/plain": [
              "<IPython.core.display.HTML object>"
            ],
            "text/html": [
              "Find logs at: <code>./wandb/run-20250401_124444-cqabywr7/logs</code>"
            ]
          },
          "metadata": {}
        },
        {
          "output_type": "stream",
          "name": "stderr",
          "text": [
            "\u001b[34m\u001b[1mwandb\u001b[0m: Agent Starting Run: nv3c2nx8 with config:\n",
            "\u001b[34m\u001b[1mwandb\u001b[0m: \talpha: 0.12063941020764576\n",
            "\u001b[34m\u001b[1mwandb\u001b[0m: \tgamma: 0.99\n",
            "\u001b[34m\u001b[1mwandb\u001b[0m: \tn_bins: 20\n",
            "\u001b[34m\u001b[1mwandb\u001b[0m: \tn_episodes: 3000\n",
            "\u001b[34m\u001b[1mwandb\u001b[0m: \ttemperature: 0.6353684881235291\n",
            "\u001b[34m\u001b[1mwandb\u001b[0m: \tuse_reward_shaping: True\n"
          ]
        },
        {
          "output_type": "display_data",
          "data": {
            "text/plain": [
              "<IPython.core.display.HTML object>"
            ],
            "text/html": [
              "Tracking run with wandb version 0.19.8"
            ]
          },
          "metadata": {}
        },
        {
          "output_type": "display_data",
          "data": {
            "text/plain": [
              "<IPython.core.display.HTML object>"
            ],
            "text/html": [
              "Run data is saved locally in <code>/content/wandb/run-20250401_125054-nv3c2nx8</code>"
            ]
          },
          "metadata": {}
        },
        {
          "output_type": "display_data",
          "data": {
            "text/plain": [
              "<IPython.core.display.HTML object>"
            ],
            "text/html": [
              "Syncing run <strong><a href='https://wandb.ai/abhijithvinod-indian-institue-of-technology-madras/RL_MountainCar_QLearning/runs/nv3c2nx8' target=\"_blank\">iconic-sweep-18</a></strong> to <a href='https://wandb.ai/abhijithvinod-indian-institue-of-technology-madras/RL_MountainCar_QLearning' target=\"_blank\">Weights & Biases</a> (<a href='https://wandb.me/developer-guide' target=\"_blank\">docs</a>)<br>Sweep page: <a href='https://wandb.ai/abhijithvinod-indian-institue-of-technology-madras/RL_MountainCar_QLearning/sweeps/wb4w3b61' target=\"_blank\">https://wandb.ai/abhijithvinod-indian-institue-of-technology-madras/RL_MountainCar_QLearning/sweeps/wb4w3b61</a>"
            ]
          },
          "metadata": {}
        },
        {
          "output_type": "display_data",
          "data": {
            "text/plain": [
              "<IPython.core.display.HTML object>"
            ],
            "text/html": [
              " View project at <a href='https://wandb.ai/abhijithvinod-indian-institue-of-technology-madras/RL_MountainCar_QLearning' target=\"_blank\">https://wandb.ai/abhijithvinod-indian-institue-of-technology-madras/RL_MountainCar_QLearning</a>"
            ]
          },
          "metadata": {}
        },
        {
          "output_type": "display_data",
          "data": {
            "text/plain": [
              "<IPython.core.display.HTML object>"
            ],
            "text/html": [
              " View sweep at <a href='https://wandb.ai/abhijithvinod-indian-institue-of-technology-madras/RL_MountainCar_QLearning/sweeps/wb4w3b61' target=\"_blank\">https://wandb.ai/abhijithvinod-indian-institue-of-technology-madras/RL_MountainCar_QLearning/sweeps/wb4w3b61</a>"
            ]
          },
          "metadata": {}
        },
        {
          "output_type": "display_data",
          "data": {
            "text/plain": [
              "<IPython.core.display.HTML object>"
            ],
            "text/html": [
              " View run at <a href='https://wandb.ai/abhijithvinod-indian-institue-of-technology-madras/RL_MountainCar_QLearning/runs/nv3c2nx8' target=\"_blank\">https://wandb.ai/abhijithvinod-indian-institue-of-technology-madras/RL_MountainCar_QLearning/runs/nv3c2nx8</a>"
            ]
          },
          "metadata": {}
        },
        {
          "output_type": "display_data",
          "data": {
            "text/plain": [
              "<IPython.core.display.HTML object>"
            ],
            "text/html": []
          },
          "metadata": {}
        },
        {
          "output_type": "display_data",
          "data": {
            "text/plain": [
              "<IPython.core.display.HTML object>"
            ],
            "text/html": [
              "<br>    <style><br>        .wandb-row {<br>            display: flex;<br>            flex-direction: row;<br>            flex-wrap: wrap;<br>            justify-content: flex-start;<br>            width: 100%;<br>        }<br>        .wandb-col {<br>            display: flex;<br>            flex-direction: column;<br>            flex-basis: 100%;<br>            flex: 1;<br>            padding: 10px;<br>        }<br>    </style><br><div class=\"wandb-row\"><div class=\"wandb-col\"><h3>Run history:</h3><br/><table class=\"wandb\"><tr><td>average_reward_across_seeds</td><td>▁</td></tr><tr><td>seed_101_episode</td><td>▁▁▁▁▁▁▁▂▂▂▃▃▃▃▃▄▄▄▄▄▅▅▅▅▅▅▆▆▆▆▆▇▇▇▇▇████</td></tr><tr><td>seed_101_reward</td><td>▁▁▁▁▁▁▁▁▁▁▂▁▂▂▁▁▃▁▁▁▂▂▂▂▂▇▁▁▂▂▄▂██▆▅▇▆▃▇</td></tr><tr><td>seed_123_episode</td><td>▁▁▁▁▂▃▃▃▃▃▄▄▄▄▄▅▅▅▅▅▆▆▆▆▆▆▆▆▆▆▇▇▇▇▇▇▇███</td></tr><tr><td>seed_123_reward</td><td>▁▁▂▁▂▁▂▂▂▁▂▁▂▂▂▁▂▂▂▂▂▂▂▂▂▂▂▂▂▂▂▂▇▂█▇▂▂▂▅</td></tr><tr><td>seed_42_episode</td><td>▁▁▁▂▂▂▂▂▂▂▃▃▃▃▃▄▄▄▄▄▅▅▅▅▅▆▆▆▇▇▇▇▇▇▇▇████</td></tr><tr><td>seed_42_reward</td><td>▁▁▁▁▁▁▁▁▁▁▁▂▂▂▁▂▁▂▂▂▃▁▆▆▁█▂▄▅▇▁▂▂▂▁▂▁▇▁█</td></tr><tr><td>seed_456_episode</td><td>▁▁▁▁▁▁▁▁▁▁▂▂▂▂▂▃▃▃▃▃▄▄▄▄▄▄▅▅▅▅▆▆▆▆▇▇▇███</td></tr><tr><td>seed_456_reward</td><td>▁▁▁▁▁▁▂▁▁▁▁▂▂▂▁▂▁▁▂▂▂▂▁▂█▂▁▇█▅▁▆▅▇▂▇▇▂▂▇</td></tr><tr><td>seed_789_episode</td><td>▁▁▁▁▁▂▂▂▂▂▃▃▃▃▃▄▄▄▄▄▅▅▅▅▅▅▅▆▆▆▆▆▆▆▇▇▇▇██</td></tr><tr><td>seed_789_reward</td><td>▁▁▁▁▁▂▁▁▁▁▁▁▁▂▂▂▂▂▂▂▄▂▂▂▂▂▂▂█▂▂▇▂▁█▇▂▃▂▇</td></tr></table><br/></div><div class=\"wandb-col\"><h3>Run summary:</h3><br/><table class=\"wandb\"><tr><td>average_reward_across_seeds</td><td>-152.56354</td></tr><tr><td>seed_101_episode</td><td>2999</td></tr><tr><td>seed_101_reward</td><td>-138.33832</td></tr><tr><td>seed_123_episode</td><td>2999</td></tr><tr><td>seed_123_reward</td><td>-165.23473</td></tr><tr><td>seed_42_episode</td><td>2999</td></tr><tr><td>seed_42_reward</td><td>-169.60097</td></tr><tr><td>seed_456_episode</td><td>2999</td></tr><tr><td>seed_456_reward</td><td>-139.05267</td></tr><tr><td>seed_789_episode</td><td>2999</td></tr><tr><td>seed_789_reward</td><td>-186.8456</td></tr></table><br/></div></div>"
            ]
          },
          "metadata": {}
        },
        {
          "output_type": "display_data",
          "data": {
            "text/plain": [
              "<IPython.core.display.HTML object>"
            ],
            "text/html": [
              " View run <strong style=\"color:#cdcd00\">iconic-sweep-18</strong> at: <a href='https://wandb.ai/abhijithvinod-indian-institue-of-technology-madras/RL_MountainCar_QLearning/runs/nv3c2nx8' target=\"_blank\">https://wandb.ai/abhijithvinod-indian-institue-of-technology-madras/RL_MountainCar_QLearning/runs/nv3c2nx8</a><br> View project at: <a href='https://wandb.ai/abhijithvinod-indian-institue-of-technology-madras/RL_MountainCar_QLearning' target=\"_blank\">https://wandb.ai/abhijithvinod-indian-institue-of-technology-madras/RL_MountainCar_QLearning</a><br>Synced 5 W&B file(s), 0 media file(s), 0 artifact file(s) and 0 other file(s)"
            ]
          },
          "metadata": {}
        },
        {
          "output_type": "display_data",
          "data": {
            "text/plain": [
              "<IPython.core.display.HTML object>"
            ],
            "text/html": [
              "Find logs at: <code>./wandb/run-20250401_125054-nv3c2nx8/logs</code>"
            ]
          },
          "metadata": {}
        },
        {
          "output_type": "stream",
          "name": "stderr",
          "text": [
            "\u001b[34m\u001b[1mwandb\u001b[0m: Agent Starting Run: i6271yzc with config:\n",
            "\u001b[34m\u001b[1mwandb\u001b[0m: \talpha: 0.25638138180808245\n",
            "\u001b[34m\u001b[1mwandb\u001b[0m: \tgamma: 0.99\n",
            "\u001b[34m\u001b[1mwandb\u001b[0m: \tn_bins: 20\n",
            "\u001b[34m\u001b[1mwandb\u001b[0m: \tn_episodes: 3000\n",
            "\u001b[34m\u001b[1mwandb\u001b[0m: \ttemperature: 0.7533880329578058\n",
            "\u001b[34m\u001b[1mwandb\u001b[0m: \tuse_reward_shaping: True\n"
          ]
        },
        {
          "output_type": "display_data",
          "data": {
            "text/plain": [
              "<IPython.core.display.HTML object>"
            ],
            "text/html": [
              "Tracking run with wandb version 0.19.8"
            ]
          },
          "metadata": {}
        },
        {
          "output_type": "display_data",
          "data": {
            "text/plain": [
              "<IPython.core.display.HTML object>"
            ],
            "text/html": [
              "Run data is saved locally in <code>/content/wandb/run-20250401_125703-i6271yzc</code>"
            ]
          },
          "metadata": {}
        },
        {
          "output_type": "display_data",
          "data": {
            "text/plain": [
              "<IPython.core.display.HTML object>"
            ],
            "text/html": [
              "Syncing run <strong><a href='https://wandb.ai/abhijithvinod-indian-institue-of-technology-madras/RL_MountainCar_QLearning/runs/i6271yzc' target=\"_blank\">icy-sweep-19</a></strong> to <a href='https://wandb.ai/abhijithvinod-indian-institue-of-technology-madras/RL_MountainCar_QLearning' target=\"_blank\">Weights & Biases</a> (<a href='https://wandb.me/developer-guide' target=\"_blank\">docs</a>)<br>Sweep page: <a href='https://wandb.ai/abhijithvinod-indian-institue-of-technology-madras/RL_MountainCar_QLearning/sweeps/wb4w3b61' target=\"_blank\">https://wandb.ai/abhijithvinod-indian-institue-of-technology-madras/RL_MountainCar_QLearning/sweeps/wb4w3b61</a>"
            ]
          },
          "metadata": {}
        },
        {
          "output_type": "display_data",
          "data": {
            "text/plain": [
              "<IPython.core.display.HTML object>"
            ],
            "text/html": [
              " View project at <a href='https://wandb.ai/abhijithvinod-indian-institue-of-technology-madras/RL_MountainCar_QLearning' target=\"_blank\">https://wandb.ai/abhijithvinod-indian-institue-of-technology-madras/RL_MountainCar_QLearning</a>"
            ]
          },
          "metadata": {}
        },
        {
          "output_type": "display_data",
          "data": {
            "text/plain": [
              "<IPython.core.display.HTML object>"
            ],
            "text/html": [
              " View sweep at <a href='https://wandb.ai/abhijithvinod-indian-institue-of-technology-madras/RL_MountainCar_QLearning/sweeps/wb4w3b61' target=\"_blank\">https://wandb.ai/abhijithvinod-indian-institue-of-technology-madras/RL_MountainCar_QLearning/sweeps/wb4w3b61</a>"
            ]
          },
          "metadata": {}
        },
        {
          "output_type": "display_data",
          "data": {
            "text/plain": [
              "<IPython.core.display.HTML object>"
            ],
            "text/html": [
              " View run at <a href='https://wandb.ai/abhijithvinod-indian-institue-of-technology-madras/RL_MountainCar_QLearning/runs/i6271yzc' target=\"_blank\">https://wandb.ai/abhijithvinod-indian-institue-of-technology-madras/RL_MountainCar_QLearning/runs/i6271yzc</a>"
            ]
          },
          "metadata": {}
        },
        {
          "output_type": "display_data",
          "data": {
            "text/plain": [
              "<IPython.core.display.HTML object>"
            ],
            "text/html": []
          },
          "metadata": {}
        },
        {
          "output_type": "display_data",
          "data": {
            "text/plain": [
              "<IPython.core.display.HTML object>"
            ],
            "text/html": [
              "<br>    <style><br>        .wandb-row {<br>            display: flex;<br>            flex-direction: row;<br>            flex-wrap: wrap;<br>            justify-content: flex-start;<br>            width: 100%;<br>        }<br>        .wandb-col {<br>            display: flex;<br>            flex-direction: column;<br>            flex-basis: 100%;<br>            flex: 1;<br>            padding: 10px;<br>        }<br>    </style><br><div class=\"wandb-row\"><div class=\"wandb-col\"><h3>Run history:</h3><br/><table class=\"wandb\"><tr><td>average_reward_across_seeds</td><td>▁</td></tr><tr><td>seed_101_episode</td><td>▁▁▁▂▂▃▃▃▃▃▃▃▃▃▄▄▄▄▄▄▅▅▅▅▅▅▅▆▆▆▆▇▇▇▇▇▇███</td></tr><tr><td>seed_101_reward</td><td>▁▁▁▁▁▃▁▁▁▁▂▁▁▁▂▇▁▁▁▂▇▂▁▁▄▁▁▁█▁▄▂▂▅▂▇▆██▄</td></tr><tr><td>seed_123_episode</td><td>▁▁▁▁▂▂▂▂▂▃▃▃▃▃▃▃▃▃▄▄▄▄▄▄▄▅▅▅▅▅▆▆▇▇██████</td></tr><tr><td>seed_123_reward</td><td>▁▁▁▁▁▂▂▂▃▁▂▂▂▂▂▃█▇▂▂▆█▂▂▇▂▇▆▂▂▂▂▇█▇▆▇▇▄▅</td></tr><tr><td>seed_42_episode</td><td>▁▁▁▁▂▂▂▂▂▂▂▂▃▃▃▃▃▄▄▄▄▄▄▅▅▅▅▆▆▆▆▆▆▆▇▇▇███</td></tr><tr><td>seed_42_reward</td><td>▁▁▁▁▂▁▁▂▂▂▁▁▁▁▂▁▂▁▃▁▄▇▁▁▁▂▁▂▁▇▂█▃▁▄▆▂▂▇▇</td></tr><tr><td>seed_456_episode</td><td>▁▁▁▁▁▁▂▂▂▂▂▂▂▃▃▃▃▃▄▄▅▅▅▅▅▆▆▆▆▆▆▆▇▇▇█████</td></tr><tr><td>seed_456_reward</td><td>▁▁▂▂▁▂▂▂▁▁▂▂▁▂▂▇▁▆▁▄▇▆▇▆▇▂█▇█▃▁▂▇▂▂▆▅▇▂▁</td></tr><tr><td>seed_789_episode</td><td>▁▁▁▁▂▂▂▂▂▂▂▃▃▃▃▄▄▄▄▄▄▄▄▅▅▅▅▆▆▆▆▆▇▇▇▇▇███</td></tr><tr><td>seed_789_reward</td><td>▁▁▁▁▁▂▁▁▂▁▂▁▂▂█▂▅▃▂▄▂▆▇▄▁▂▂▇▆▆▂█▂▃▂▂▂▂▂▁</td></tr></table><br/></div><div class=\"wandb-col\"><h3>Run summary:</h3><br/><table class=\"wandb\"><tr><td>average_reward_across_seeds</td><td>-145.94278</td></tr><tr><td>seed_101_episode</td><td>2999</td></tr><tr><td>seed_101_reward</td><td>-74.47345</td></tr><tr><td>seed_123_episode</td><td>2999</td></tr><tr><td>seed_123_reward</td><td>-98.62279</td></tr><tr><td>seed_42_episode</td><td>2999</td></tr><tr><td>seed_42_reward</td><td>-190.23157</td></tr><tr><td>seed_456_episode</td><td>2999</td></tr><tr><td>seed_456_reward</td><td>-142.45996</td></tr><tr><td>seed_789_episode</td><td>2999</td></tr><tr><td>seed_789_reward</td><td>-188.62766</td></tr></table><br/></div></div>"
            ]
          },
          "metadata": {}
        },
        {
          "output_type": "display_data",
          "data": {
            "text/plain": [
              "<IPython.core.display.HTML object>"
            ],
            "text/html": [
              " View run <strong style=\"color:#cdcd00\">icy-sweep-19</strong> at: <a href='https://wandb.ai/abhijithvinod-indian-institue-of-technology-madras/RL_MountainCar_QLearning/runs/i6271yzc' target=\"_blank\">https://wandb.ai/abhijithvinod-indian-institue-of-technology-madras/RL_MountainCar_QLearning/runs/i6271yzc</a><br> View project at: <a href='https://wandb.ai/abhijithvinod-indian-institue-of-technology-madras/RL_MountainCar_QLearning' target=\"_blank\">https://wandb.ai/abhijithvinod-indian-institue-of-technology-madras/RL_MountainCar_QLearning</a><br>Synced 5 W&B file(s), 0 media file(s), 0 artifact file(s) and 0 other file(s)"
            ]
          },
          "metadata": {}
        },
        {
          "output_type": "display_data",
          "data": {
            "text/plain": [
              "<IPython.core.display.HTML object>"
            ],
            "text/html": [
              "Find logs at: <code>./wandb/run-20250401_125703-i6271yzc/logs</code>"
            ]
          },
          "metadata": {}
        },
        {
          "output_type": "stream",
          "name": "stderr",
          "text": [
            "\u001b[34m\u001b[1mwandb\u001b[0m: Agent Starting Run: 9pjw12qm with config:\n",
            "\u001b[34m\u001b[1mwandb\u001b[0m: \talpha: 0.108753375325889\n",
            "\u001b[34m\u001b[1mwandb\u001b[0m: \tgamma: 0.99\n",
            "\u001b[34m\u001b[1mwandb\u001b[0m: \tn_bins: 25\n",
            "\u001b[34m\u001b[1mwandb\u001b[0m: \tn_episodes: 3000\n",
            "\u001b[34m\u001b[1mwandb\u001b[0m: \ttemperature: 0.9824614650231536\n",
            "\u001b[34m\u001b[1mwandb\u001b[0m: \tuse_reward_shaping: True\n"
          ]
        },
        {
          "output_type": "display_data",
          "data": {
            "text/plain": [
              "<IPython.core.display.HTML object>"
            ],
            "text/html": [
              "Tracking run with wandb version 0.19.8"
            ]
          },
          "metadata": {}
        },
        {
          "output_type": "display_data",
          "data": {
            "text/plain": [
              "<IPython.core.display.HTML object>"
            ],
            "text/html": [
              "Run data is saved locally in <code>/content/wandb/run-20250401_130304-9pjw12qm</code>"
            ]
          },
          "metadata": {}
        },
        {
          "output_type": "display_data",
          "data": {
            "text/plain": [
              "<IPython.core.display.HTML object>"
            ],
            "text/html": [
              "Syncing run <strong><a href='https://wandb.ai/abhijithvinod-indian-institue-of-technology-madras/RL_MountainCar_QLearning/runs/9pjw12qm' target=\"_blank\">wobbly-sweep-20</a></strong> to <a href='https://wandb.ai/abhijithvinod-indian-institue-of-technology-madras/RL_MountainCar_QLearning' target=\"_blank\">Weights & Biases</a> (<a href='https://wandb.me/developer-guide' target=\"_blank\">docs</a>)<br>Sweep page: <a href='https://wandb.ai/abhijithvinod-indian-institue-of-technology-madras/RL_MountainCar_QLearning/sweeps/wb4w3b61' target=\"_blank\">https://wandb.ai/abhijithvinod-indian-institue-of-technology-madras/RL_MountainCar_QLearning/sweeps/wb4w3b61</a>"
            ]
          },
          "metadata": {}
        },
        {
          "output_type": "display_data",
          "data": {
            "text/plain": [
              "<IPython.core.display.HTML object>"
            ],
            "text/html": [
              " View project at <a href='https://wandb.ai/abhijithvinod-indian-institue-of-technology-madras/RL_MountainCar_QLearning' target=\"_blank\">https://wandb.ai/abhijithvinod-indian-institue-of-technology-madras/RL_MountainCar_QLearning</a>"
            ]
          },
          "metadata": {}
        },
        {
          "output_type": "display_data",
          "data": {
            "text/plain": [
              "<IPython.core.display.HTML object>"
            ],
            "text/html": [
              " View sweep at <a href='https://wandb.ai/abhijithvinod-indian-institue-of-technology-madras/RL_MountainCar_QLearning/sweeps/wb4w3b61' target=\"_blank\">https://wandb.ai/abhijithvinod-indian-institue-of-technology-madras/RL_MountainCar_QLearning/sweeps/wb4w3b61</a>"
            ]
          },
          "metadata": {}
        },
        {
          "output_type": "display_data",
          "data": {
            "text/plain": [
              "<IPython.core.display.HTML object>"
            ],
            "text/html": [
              " View run at <a href='https://wandb.ai/abhijithvinod-indian-institue-of-technology-madras/RL_MountainCar_QLearning/runs/9pjw12qm' target=\"_blank\">https://wandb.ai/abhijithvinod-indian-institue-of-technology-madras/RL_MountainCar_QLearning/runs/9pjw12qm</a>"
            ]
          },
          "metadata": {}
        },
        {
          "output_type": "display_data",
          "data": {
            "text/plain": [
              "<IPython.core.display.HTML object>"
            ],
            "text/html": []
          },
          "metadata": {}
        },
        {
          "output_type": "display_data",
          "data": {
            "text/plain": [
              "<IPython.core.display.HTML object>"
            ],
            "text/html": [
              "<br>    <style><br>        .wandb-row {<br>            display: flex;<br>            flex-direction: row;<br>            flex-wrap: wrap;<br>            justify-content: flex-start;<br>            width: 100%;<br>        }<br>        .wandb-col {<br>            display: flex;<br>            flex-direction: column;<br>            flex-basis: 100%;<br>            flex: 1;<br>            padding: 10px;<br>        }<br>    </style><br><div class=\"wandb-row\"><div class=\"wandb-col\"><h3>Run history:</h3><br/><table class=\"wandb\"><tr><td>average_reward_across_seeds</td><td>▁</td></tr><tr><td>seed_101_episode</td><td>▁▁▁▁▂▂▂▂▂▂▂▂▃▃▃▃▃▄▄▄▅▅▅▅▆▆▆▆▆▆▇▇▇▇▇█████</td></tr><tr><td>seed_101_reward</td><td>▁▄▄▄▃▄▁▃▅▃▅▆▅▄▃▄▄▆▆▄▄▄▅▇▇▅▅▇▅▄▅▅▇█▆▃█▆▆▅</td></tr><tr><td>seed_123_episode</td><td>▁▁▂▂▂▃▃▃▃▃▄▄▄▄▄▄▄▄▄▄▅▅▅▅▅▆▆▆▆▆▇▇▇▇▇▇▇███</td></tr><tr><td>seed_123_reward</td><td>▁▅▇▂▃▅▄▅▄▁▃▄▃▃▄▅▆▅▄▆▅▅▇▅▄▅▄█▃▅▄▃▃▅▄▅▄█▇▄</td></tr><tr><td>seed_42_episode</td><td>▁▁▁▁▁▂▂▂▂▃▃▄▄▄▄▄▅▅▅▅▅▅▅▅▆▆▆▆▆▇▇▇▇▇▇▇▇▇██</td></tr><tr><td>seed_42_reward</td><td>▁▁▁▁▁▁▂▂▁▂▂▂▁▂▂▂▂▁▂▁▂▁▂▂▂▂▂▂▁▂▂▂▂▂█▁▂▂▂▂</td></tr><tr><td>seed_456_episode</td><td>▁▁▁▁▂▂▃▃▃▃▃▃▃▃▄▄▄▄▄▅▅▅▅▅▅▅▅▆▆▆▆▆▆▇▇▇████</td></tr><tr><td>seed_456_reward</td><td>▂▁▂▃▂▄▄▂▅▅▂▄▄▄▃▅▇▃▅▆▂▄▂▅▅▄▄█▃▅▂▆▅█▄▅▃▅▄▅</td></tr><tr><td>seed_789_episode</td><td>▁▁▁▂▃▃▃▃▃▃▃▃▃▄▄▄▄▄▄▄▄▄▆▆▆▆▆▆▇▇▇▇▇▇▇▇████</td></tr><tr><td>seed_789_reward</td><td>▂▁▁▄▄▆▄█▄▆▄▇▄▂▆▇▄▅▄▄▇▇▅█▂▇▃▆▅▇▇▅▃▄█▆▆▄▄▅</td></tr></table><br/></div><div class=\"wandb-col\"><h3>Run summary:</h3><br/><table class=\"wandb\"><tr><td>average_reward_across_seeds</td><td>-188.02713</td></tr><tr><td>seed_101_episode</td><td>2999</td></tr><tr><td>seed_101_reward</td><td>-140.08852</td></tr><tr><td>seed_123_episode</td><td>2999</td></tr><tr><td>seed_123_reward</td><td>-189.73851</td></tr><tr><td>seed_42_episode</td><td>2999</td></tr><tr><td>seed_42_reward</td><td>-188.31134</td></tr><tr><td>seed_456_episode</td><td>2999</td></tr><tr><td>seed_456_reward</td><td>-189.51492</td></tr><tr><td>seed_789_episode</td><td>2999</td></tr><tr><td>seed_789_reward</td><td>-190.49542</td></tr></table><br/></div></div>"
            ]
          },
          "metadata": {}
        },
        {
          "output_type": "display_data",
          "data": {
            "text/plain": [
              "<IPython.core.display.HTML object>"
            ],
            "text/html": [
              " View run <strong style=\"color:#cdcd00\">wobbly-sweep-20</strong> at: <a href='https://wandb.ai/abhijithvinod-indian-institue-of-technology-madras/RL_MountainCar_QLearning/runs/9pjw12qm' target=\"_blank\">https://wandb.ai/abhijithvinod-indian-institue-of-technology-madras/RL_MountainCar_QLearning/runs/9pjw12qm</a><br> View project at: <a href='https://wandb.ai/abhijithvinod-indian-institue-of-technology-madras/RL_MountainCar_QLearning' target=\"_blank\">https://wandb.ai/abhijithvinod-indian-institue-of-technology-madras/RL_MountainCar_QLearning</a><br>Synced 5 W&B file(s), 0 media file(s), 0 artifact file(s) and 0 other file(s)"
            ]
          },
          "metadata": {}
        },
        {
          "output_type": "display_data",
          "data": {
            "text/plain": [
              "<IPython.core.display.HTML object>"
            ],
            "text/html": [
              "Find logs at: <code>./wandb/run-20250401_130304-9pjw12qm/logs</code>"
            ]
          },
          "metadata": {}
        }
      ]
    },
    {
      "cell_type": "code",
      "source": [
        "import numpy as np\n",
        "import gymnasium as gym\n",
        "import matplotlib.pyplot as plt\n",
        "import random\n",
        "from collections import defaultdict\n",
        "import pandas as pd\n",
        "from tqdm import tqdm\n",
        "\n",
        "# Set random seed for reproducibility\n",
        "def set_seed(seed):\n",
        "    random.seed(seed)\n",
        "    np.random.seed(seed)\n",
        "    return seed\n",
        "\n",
        "# Discretize the continuous state space for MountainCar\n",
        "class StateDiscretizer:\n",
        "    def __init__(self, n_bins=25):\n",
        "        self.n_bins = n_bins\n",
        "        # MountainCar-v0 state space bounds\n",
        "        self.position_bins = np.linspace(-1.2, 0.6, n_bins)\n",
        "        self.velocity_bins = np.linspace(-0.07, 0.07, n_bins)\n",
        "\n",
        "    def discretize(self, state):\n",
        "        position, velocity = state\n",
        "\n",
        "        # Discretize each dimension\n",
        "        position_bin = np.digitize(position, self.position_bins)\n",
        "        velocity_bin = np.digitize(velocity, self.velocity_bins)\n",
        "\n",
        "        # Combine into a single discrete state\n",
        "        return (position_bin, velocity_bin)\n",
        "\n",
        "# SARSA Agent with epsilon-greedy exploration\n",
        "class SARSAAgent:\n",
        "    def __init__(self, state_discretizer, action_space, alpha=0.2, gamma=0.99, epsilon=0.1):\n",
        "        self.state_discretizer = state_discretizer\n",
        "        self.action_space = action_space\n",
        "        self.alpha = alpha\n",
        "        self.gamma = gamma\n",
        "        self.epsilon = epsilon\n",
        "        self.q_table = defaultdict(lambda: np.zeros(action_space.n))\n",
        "\n",
        "    def select_action(self, state):\n",
        "        state = self.state_discretizer.discretize(state)\n",
        "\n",
        "        # Epsilon-greedy policy\n",
        "        if np.random.random() < self.epsilon:\n",
        "            return self.action_space.sample()  # Explore\n",
        "        else:\n",
        "            return np.argmax(self.q_table[state])  # Exploit\n",
        "\n",
        "    def update(self, state, action, reward, next_state, next_action, done):\n",
        "        state = self.state_discretizer.discretize(state)\n",
        "        next_state = self.state_discretizer.discretize(next_state)\n",
        "\n",
        "        # SARSA update rule\n",
        "        current_q = self.q_table[state][action]\n",
        "\n",
        "        if done:\n",
        "            target_q = reward\n",
        "        else:\n",
        "            target_q = reward + self.gamma * self.q_table[next_state][next_action]\n",
        "\n",
        "        # Update Q-value\n",
        "        self.q_table[state][action] += self.alpha * (target_q - current_q)\n",
        "\n",
        "# Q-Learning Agent with Softmax exploration\n",
        "class QLearningAgent:\n",
        "    def __init__(self, state_discretizer, action_space, alpha=0.2, gamma=0.99, temperature=0.8):\n",
        "        self.state_discretizer = state_discretizer\n",
        "        self.action_space = action_space\n",
        "        self.alpha = alpha\n",
        "        self.gamma = gamma\n",
        "        self.temperature = temperature\n",
        "        self.q_table = defaultdict(lambda: np.zeros(action_space.n))\n",
        "\n",
        "    def select_action(self, state):\n",
        "        state = self.state_discretizer.discretize(state)\n",
        "\n",
        "        # Softmax exploration\n",
        "        q_values = self.q_table[state]\n",
        "        exp_q = np.exp(q_values / self.temperature)\n",
        "        probabilities = exp_q / np.sum(exp_q)\n",
        "\n",
        "        # Sample action based on probabilities\n",
        "        return np.random.choice(self.action_space.n, p=probabilities)\n",
        "\n",
        "    def update(self, state, action, reward, next_state, done):\n",
        "        state = self.state_discretizer.discretize(state)\n",
        "        next_state = self.state_discretizer.discretize(next_state)\n",
        "\n",
        "        # Q-Learning update rule\n",
        "        current_q = self.q_table[state][action]\n",
        "\n",
        "        if done:\n",
        "            target_q = reward\n",
        "        else:\n",
        "            target_q = reward + self.gamma * np.max(self.q_table[next_state])\n",
        "\n",
        "        # Update Q-value\n",
        "        self.q_table[state][action] += self.alpha * (target_q - current_q)\n",
        "\n",
        "# Evaluation function for SARSA\n",
        "def evaluate_sarsa(best_params):\n",
        "    # Fixed seeds\n",
        "    seeds = [0, 1, 2, 3, 4]\n",
        "    n_episodes = 10000\n",
        "    all_rewards = []\n",
        "\n",
        "    print(\"SARSA (Best):\")\n",
        "\n",
        "    for seed_idx, seed in enumerate(seeds):\n",
        "        # Set environment\n",
        "        env = gym.make(\"MountainCar-v0\")\n",
        "\n",
        "        # Set random seed\n",
        "        set_seed(seed)\n",
        "\n",
        "        # Initialize state discretizer\n",
        "        state_discretizer = StateDiscretizer(n_bins=best_params['n_bins'])\n",
        "\n",
        "        # Initialize SARSA agent\n",
        "        agent = SARSAAgent(\n",
        "            state_discretizer=state_discretizer,\n",
        "            action_space=env.action_space,\n",
        "            alpha=best_params['alpha'],\n",
        "            gamma=best_params['gamma'],\n",
        "            epsilon=best_params['epsilon']\n",
        "        )\n",
        "\n",
        "        # Training loop\n",
        "        episode_rewards = []\n",
        "\n",
        "        for episode in tqdm(range(n_episodes), desc=f\"SARSA Seed {seed}\"):\n",
        "            state, _ = env.reset(seed=seed + episode)\n",
        "            action = agent.select_action(state)\n",
        "            done = False\n",
        "            episode_reward = 0\n",
        "\n",
        "            while not done:\n",
        "                next_state, reward, terminated, truncated, _ = env.step(action)\n",
        "                done = terminated or truncated\n",
        "\n",
        "                # Apply enhanced reward shaping\n",
        "                shaped_reward = reward\n",
        "                if best_params['use_reward_shaping']:\n",
        "                    position, velocity = next_state\n",
        "\n",
        "                    # Reward for moving toward the goal (right side)\n",
        "                    shaped_reward = reward\n",
        "\n",
        "                    # Reward for gaining momentum (either direction)\n",
        "                    shaped_reward += 0.1 * abs(velocity)\n",
        "\n",
        "                    # Reward for position improvement\n",
        "                    shaped_reward += 0.1 * position\n",
        "\n",
        "                    # Additional reward for coordinated actions (moving right and pushing right)\n",
        "                    if velocity > 0 and action == 2:\n",
        "                        shaped_reward += 0.2\n",
        "\n",
        "                    # Additional reward for coordinated actions (moving left and pushing left)\n",
        "                    if velocity < 0 and action == 0:\n",
        "                        shaped_reward += 0.2\n",
        "\n",
        "                    # Bonus for reaching the goal\n",
        "                    if terminated and position >= 0.5:\n",
        "                        shaped_reward += 10\n",
        "\n",
        "                episode_reward += shaped_reward\n",
        "\n",
        "                # Select next action using current policy\n",
        "                next_action = agent.select_action(next_state)\n",
        "\n",
        "                # Update Q-values\n",
        "                agent.update(state, action, shaped_reward, next_state, next_action, done)\n",
        "\n",
        "                # Move to next state and action\n",
        "                state = next_state\n",
        "                action = next_action\n",
        "\n",
        "            episode_rewards.append(episode_reward)\n",
        "\n",
        "        # Calculate statistics\n",
        "        mean_reward = np.mean(episode_rewards)\n",
        "        reward_variance = np.var(episode_rewards)\n",
        "        mean_regret = mean_reward  # In this case, regret is the same as reward\n",
        "        regret_variance = reward_variance\n",
        "\n",
        "        # Print statistics for this seed\n",
        "        print(f\"• Seed {seed}: {n_episodes}/{n_episodes} episodes, Mean Reward = {mean_reward:.2f}, \"\n",
        "              f\"Reward Variance = {reward_variance:.2f}, Mean Regret = {mean_regret:.2f}, \"\n",
        "              f\"Regret Variance = {regret_variance:.2f}.\")\n",
        "\n",
        "        all_rewards.append(episode_rewards)\n",
        "        env.close()\n",
        "\n",
        "    # Calculate final performance (mean of last 100 episodes across all seeds)\n",
        "    final_rewards = [rewards[-100:] for rewards in all_rewards]\n",
        "    mean_final_reward = np.mean([np.mean(rewards) for rewards in final_rewards])\n",
        "\n",
        "    print(f\"Final Performance Summary (SARSA): Mean Reward (last 100 episodes): {mean_final_reward:.2f}, \"\n",
        "          f\"Mean Regret: {mean_final_reward:.2f}.\")\n",
        "\n",
        "    return all_rewards\n",
        "\n",
        "# Evaluation function for Q-Learning\n",
        "def evaluate_qlearning(best_params):\n",
        "    # Fixed seeds\n",
        "    seeds = [0, 1, 2, 3, 4]\n",
        "    n_episodes = 10000\n",
        "    all_rewards = []\n",
        "\n",
        "    print(\"Q-Learning (Best):\")\n",
        "\n",
        "    for seed_idx, seed in enumerate(seeds):\n",
        "        # Set environment\n",
        "        env = gym.make(\"MountainCar-v0\")\n",
        "\n",
        "        # Set random seed\n",
        "        set_seed(seed)\n",
        "\n",
        "        # Initialize state discretizer\n",
        "        state_discretizer = StateDiscretizer(n_bins=best_params['n_bins'])\n",
        "\n",
        "        # Initialize Q-Learning agent\n",
        "        agent = QLearningAgent(\n",
        "            state_discretizer=state_discretizer,\n",
        "            action_space=env.action_space,\n",
        "            alpha=best_params['alpha'],\n",
        "            gamma=best_params['gamma'],\n",
        "            temperature=best_params['temperature']\n",
        "        )\n",
        "\n",
        "        # Training loop\n",
        "        episode_rewards = []\n",
        "\n",
        "        for episode in tqdm(range(n_episodes), desc=f\"Q-Learning Seed {seed}\"):\n",
        "            state, _ = env.reset(seed=seed + episode)\n",
        "            done = False\n",
        "            episode_reward = 0\n",
        "\n",
        "            while not done:\n",
        "                action = agent.select_action(state)\n",
        "                next_state, reward, terminated, truncated, _ = env.step(action)\n",
        "                done = terminated or truncated\n",
        "\n",
        "                # Apply enhanced reward shaping\n",
        "                shaped_reward = reward\n",
        "                if best_params['use_reward_shaping']:\n",
        "                    position, velocity = next_state\n",
        "\n",
        "                    # Reward for moving toward the goal (right side)\n",
        "                    shaped_reward = reward\n",
        "\n",
        "                    # Reward for gaining momentum (either direction)\n",
        "                    shaped_reward += 0.1 * abs(velocity)\n",
        "\n",
        "                    # Reward for position improvement\n",
        "                    shaped_reward += 0.1 * position\n",
        "\n",
        "                    # Additional reward for coordinated actions (moving right and pushing right)\n",
        "                    if velocity > 0 and action == 2:\n",
        "                        shaped_reward += 0.2\n",
        "\n",
        "                    # Additional reward for coordinated actions (moving left and pushing left)\n",
        "                    if velocity < 0 and action == 0:\n",
        "                        shaped_reward += 0.2\n",
        "\n",
        "                    # Bonus for reaching the goal\n",
        "                    if terminated and position >= 0.5:\n",
        "                        shaped_reward += 10\n",
        "\n",
        "                episode_reward += shaped_reward\n",
        "\n",
        "                # Update Q-values\n",
        "                agent.update(state, action, shaped_reward, next_state, done)\n",
        "\n",
        "                # Move to next state\n",
        "                state = next_state\n",
        "\n",
        "            episode_rewards.append(episode_reward)\n",
        "\n",
        "        # Calculate statistics\n",
        "        mean_reward = np.mean(episode_rewards)\n",
        "        reward_variance = np.var(episode_rewards)\n",
        "        mean_regret = mean_reward  # In this case, regret is the same as reward\n",
        "        regret_variance = reward_variance\n",
        "\n",
        "        # Print statistics for this seed\n",
        "        print(f\"• Seed {seed}: {n_episodes}/{n_episodes} episodes, Mean Reward = {mean_reward:.2f}, \"\n",
        "              f\"Reward Variance = {reward_variance:.2f}, Mean Regret = {mean_regret:.2f}, \"\n",
        "              f\"Regret Variance = {regret_variance:.2f}.\")\n",
        "\n",
        "        all_rewards.append(episode_rewards)\n",
        "        env.close()\n",
        "\n",
        "    # Calculate final performance (mean of last 100 episodes across all seeds)\n",
        "    final_rewards = [rewards[-100:] for rewards in all_rewards]\n",
        "    mean_final_reward = np.mean([np.mean(rewards) for rewards in final_rewards])\n",
        "\n",
        "    print(f\"Final Performance Summary (Q-Learning): Mean Reward (last 100 episodes): {mean_final_reward:.2f}, \"\n",
        "          f\"Mean Regret: {mean_final_reward:.2f}.\")\n",
        "\n",
        "    return all_rewards\n",
        "\n",
        "# Plot results\n",
        "def plot_results(sarsa_rewards, qlearning_rewards):\n",
        "    n_episodes = len(sarsa_rewards[0])\n",
        "\n",
        "    # Create figure with two subplots\n",
        "    fig, (ax1, ax2, ax3) = plt.subplots(3, 1, figsize=(12, 18))\n",
        "\n",
        "    # Plot SARSA results\n",
        "    sarsa_mean = np.mean(sarsa_rewards, axis=0)\n",
        "    sarsa_std = np.std(sarsa_rewards, axis=0)\n",
        "\n",
        "    # Smooth the curves using a rolling window\n",
        "    window_size = 100\n",
        "    sarsa_mean_smoothed = pd.Series(sarsa_mean).rolling(window=window_size, min_periods=1).mean().values\n",
        "    sarsa_std_smoothed = pd.Series(sarsa_std).rolling(window=window_size, min_periods=1).mean().values\n",
        "\n",
        "    episodes = np.arange(n_episodes)\n",
        "    ax1.plot(episodes, sarsa_mean_smoothed, label='SARSA Mean Reward', color='blue')\n",
        "    ax1.fill_between(episodes,\n",
        "                    sarsa_mean_smoothed - sarsa_std_smoothed,\n",
        "                    sarsa_mean_smoothed + sarsa_std_smoothed,\n",
        "                    alpha=0.3, color='blue')\n",
        "    ax1.set_title('SARSA Performance over Episodes')\n",
        "    ax1.set_xlabel('Episode')\n",
        "    ax1.set_ylabel('Reward')\n",
        "    ax1.legend()\n",
        "    ax1.grid(True)\n",
        "\n",
        "    # Plot Q-Learning results\n",
        "    qlearning_mean = np.mean(qlearning_rewards, axis=0)\n",
        "    qlearning_std = np.std(qlearning_rewards, axis=0)\n",
        "\n",
        "    # Smooth the curves\n",
        "    qlearning_mean_smoothed = pd.Series(qlearning_mean).rolling(window=window_size, min_periods=1).mean().values\n",
        "    qlearning_std_smoothed = pd.Series(qlearning_std).rolling(window=window_size, min_periods=1).mean().values\n",
        "\n",
        "    ax2.plot(episodes, qlearning_mean_smoothed, label='Q-Learning Mean Reward', color='green')\n",
        "    ax2.fill_between(episodes,\n",
        "                    qlearning_mean_smoothed - qlearning_std_smoothed,\n",
        "                    qlearning_mean_smoothed + qlearning_std_smoothed,\n",
        "                    alpha=0.3, color='green')\n",
        "    ax2.set_title('Q-Learning Performance over Episodes')\n",
        "    ax2.set_xlabel('Episode')\n",
        "    ax2.set_ylabel('Reward')\n",
        "    ax2.legend()\n",
        "    ax2.grid(True)\n",
        "\n",
        "    # Comparative plot\n",
        "    ax3.plot(episodes, sarsa_mean_smoothed, label='SARSA', color='blue')\n",
        "    ax3.plot(episodes, qlearning_mean_smoothed, label='Q-Learning', color='green')\n",
        "    ax3.set_title('SARSA vs Q-Learning Performance Comparison')\n",
        "    ax3.set_xlabel('Episode')\n",
        "    ax3.set_ylabel('Reward')\n",
        "    ax3.legend()\n",
        "    ax3.grid(True)\n",
        "\n",
        "    plt.tight_layout()\n",
        "    plt.savefig('mountain_car_comparison.png')\n",
        "    plt.show()\n",
        "\n",
        "# Main evaluation function\n",
        "def run_evaluation():\n",
        "    # Best parameters from hyperparameter tuning (replace with your actual best parameters)\n",
        "    sarsa_best_params = {\n",
        "        'alpha': 0.26138,\n",
        "        'gamma': 0.99,\n",
        "        'epsilon': 0.051414,\n",
        "        'n_bins': 25,\n",
        "        'use_reward_shaping': True\n",
        "    }\n",
        "\n",
        "    qlearning_best_params = {\n",
        "        'alpha': 0.25638,\n",
        "        'gamma': 0.99,\n",
        "        'temperature': 0.75339,\n",
        "        'n_bins': 25,\n",
        "        'use_reward_shaping': True\n",
        "    }\n",
        "\n",
        "    # Evaluate SARSA\n",
        "    print(\"Evaluating SARSA...\")\n",
        "    sarsa_rewards = evaluate_sarsa(sarsa_best_params)\n",
        "\n",
        "    # Evaluate Q-Learning\n",
        "    print(\"\\nEvaluating Q-Learning...\")\n",
        "    qlearning_rewards = evaluate_qlearning(qlearning_best_params)\n",
        "\n",
        "    # Plot results\n",
        "    print(\"\\nPlotting results...\")\n",
        "    plot_results(sarsa_rewards, qlearning_rewards)\n",
        "\n",
        "# Run the evaluation\n",
        "if __name__ == \"__main__\":\n",
        "    run_evaluation()\n"
      ],
      "metadata": {
        "colab": {
          "base_uri": "https://localhost:8080/",
          "height": 1000
        },
        "id": "vzKit6dEjdTK",
        "outputId": "4ed7219b-da0e-4217-d010-f87d94d19055"
      },
      "execution_count": 15,
      "outputs": [
        {
          "output_type": "stream",
          "name": "stdout",
          "text": [
            "Evaluating SARSA...\n",
            "SARSA (Best):\n"
          ]
        },
        {
          "output_type": "stream",
          "name": "stderr",
          "text": [
            "SARSA Seed 0: 100%|██████████| 10000/10000 [02:06<00:00, 79.03it/s]\n"
          ]
        },
        {
          "output_type": "stream",
          "name": "stdout",
          "text": [
            "• Seed 0: 10000/10000 episodes, Mean Reward = -130.82, Reward Variance = 720.67, Mean Regret = -130.82, Regret Variance = 720.67.\n"
          ]
        },
        {
          "output_type": "stream",
          "name": "stderr",
          "text": [
            "SARSA Seed 1: 100%|██████████| 10000/10000 [02:04<00:00, 80.43it/s]\n"
          ]
        },
        {
          "output_type": "stream",
          "name": "stdout",
          "text": [
            "• Seed 1: 10000/10000 episodes, Mean Reward = -130.92, Reward Variance = 691.50, Mean Regret = -130.92, Regret Variance = 691.50.\n"
          ]
        },
        {
          "output_type": "stream",
          "name": "stderr",
          "text": [
            "SARSA Seed 2: 100%|██████████| 10000/10000 [02:05<00:00, 79.68it/s]\n"
          ]
        },
        {
          "output_type": "stream",
          "name": "stdout",
          "text": [
            "• Seed 2: 10000/10000 episodes, Mean Reward = -131.90, Reward Variance = 665.21, Mean Regret = -131.90, Regret Variance = 665.21.\n"
          ]
        },
        {
          "output_type": "stream",
          "name": "stderr",
          "text": [
            "SARSA Seed 3: 100%|██████████| 10000/10000 [02:07<00:00, 78.36it/s]\n"
          ]
        },
        {
          "output_type": "stream",
          "name": "stdout",
          "text": [
            "• Seed 3: 10000/10000 episodes, Mean Reward = -134.37, Reward Variance = 682.56, Mean Regret = -134.37, Regret Variance = 682.56.\n"
          ]
        },
        {
          "output_type": "stream",
          "name": "stderr",
          "text": [
            "SARSA Seed 4: 100%|██████████| 10000/10000 [02:04<00:00, 80.60it/s]\n"
          ]
        },
        {
          "output_type": "stream",
          "name": "stdout",
          "text": [
            "• Seed 4: 10000/10000 episodes, Mean Reward = -131.50, Reward Variance = 709.34, Mean Regret = -131.50, Regret Variance = 709.34.\n",
            "Final Performance Summary (SARSA): Mean Reward (last 100 episodes): -127.45, Mean Regret: -127.45.\n",
            "\n",
            "Evaluating Q-Learning...\n",
            "Q-Learning (Best):\n"
          ]
        },
        {
          "output_type": "stream",
          "name": "stderr",
          "text": [
            "Q-Learning Seed 0: 100%|██████████| 10000/10000 [04:00<00:00, 41.59it/s]\n"
          ]
        },
        {
          "output_type": "stream",
          "name": "stdout",
          "text": [
            "• Seed 0: 10000/10000 episodes, Mean Reward = -163.03, Reward Variance = 761.38, Mean Regret = -163.03, Regret Variance = 761.38.\n"
          ]
        },
        {
          "output_type": "stream",
          "name": "stderr",
          "text": [
            "Q-Learning Seed 1: 100%|██████████| 10000/10000 [04:03<00:00, 41.14it/s]\n"
          ]
        },
        {
          "output_type": "stream",
          "name": "stdout",
          "text": [
            "• Seed 1: 10000/10000 episodes, Mean Reward = -164.89, Reward Variance = 671.32, Mean Regret = -164.89, Regret Variance = 671.32.\n"
          ]
        },
        {
          "output_type": "stream",
          "name": "stderr",
          "text": [
            "Q-Learning Seed 2: 100%|██████████| 10000/10000 [04:01<00:00, 41.45it/s]\n"
          ]
        },
        {
          "output_type": "stream",
          "name": "stdout",
          "text": [
            "• Seed 2: 10000/10000 episodes, Mean Reward = -162.14, Reward Variance = 733.29, Mean Regret = -162.14, Regret Variance = 733.29.\n"
          ]
        },
        {
          "output_type": "stream",
          "name": "stderr",
          "text": [
            "Q-Learning Seed 3: 100%|██████████| 10000/10000 [04:02<00:00, 41.21it/s]\n"
          ]
        },
        {
          "output_type": "stream",
          "name": "stdout",
          "text": [
            "• Seed 3: 10000/10000 episodes, Mean Reward = -162.28, Reward Variance = 738.05, Mean Regret = -162.28, Regret Variance = 738.05.\n"
          ]
        },
        {
          "output_type": "stream",
          "name": "stderr",
          "text": [
            "Q-Learning Seed 4: 100%|██████████| 10000/10000 [04:06<00:00, 40.52it/s]\n"
          ]
        },
        {
          "output_type": "stream",
          "name": "stdout",
          "text": [
            "• Seed 4: 10000/10000 episodes, Mean Reward = -164.97, Reward Variance = 647.50, Mean Regret = -164.97, Regret Variance = 647.50.\n",
            "Final Performance Summary (Q-Learning): Mean Reward (last 100 episodes): -148.69, Mean Regret: -148.69.\n",
            "\n",
            "Plotting results...\n"
          ]
        },
        {
          "output_type": "display_data",
          "data": {
            "text/plain": [
              "<Figure size 1200x1800 with 3 Axes>"
            ],
            "image/png": "[encoded data removed]"
          },
          "metadata": {}
        }
      ]
    },
    {
      "cell_type": "code",
      "source": [
        "def create_comparative_plot(sarsa_rewards, qlearning_rewards):\n",
        "    n_episodes = len(sarsa_rewards[0])\n",
        "    episodes = np.arange(n_episodes)\n",
        "    window_size = 100\n",
        "\n",
        "    # Calculate statistics for SARSA\n",
        "    sarsa_mean = np.mean(sarsa_rewards, axis=0)\n",
        "    sarsa_std = np.std(sarsa_rewards, axis=0)\n",
        "    sarsa_mean_smoothed = pd.Series(sarsa_mean).rolling(window=window_size, min_periods=1).mean().values\n",
        "    sarsa_std_smoothed = pd.Series(sarsa_std).rolling(window=window_size, min_periods=1).mean().values\n",
        "\n",
        "    # Calculate statistics for Q-Learning\n",
        "    qlearning_mean = np.mean(qlearning_rewards, axis=0)\n",
        "    qlearning_std = np.std(qlearning_rewards, axis=0)\n",
        "    qlearning_mean_smoothed = pd.Series(qlearning_mean).rolling(window=window_size, min_periods=1).mean().values\n",
        "    qlearning_std_smoothed = pd.Series(qlearning_std).rolling(window=window_size, min_periods=1).mean().values\n",
        "\n",
        "    # Create the comparative plot\n",
        "    plt.figure(figsize=(12, 8))\n",
        "\n",
        "    # Plot SARSA with variance\n",
        "    plt.plot(episodes, sarsa_mean_smoothed, label='SARSA', color='blue')\n",
        "    plt.fill_between(episodes,\n",
        "                    sarsa_mean_smoothed - sarsa_std_smoothed,\n",
        "                    sarsa_mean_smoothed + sarsa_std_smoothed,\n",
        "                    alpha=0.2, color='blue')\n",
        "\n",
        "    # Plot Q-Learning with variance\n",
        "    plt.plot(episodes, qlearning_mean_smoothed, label='Q-Learning', color='green')\n",
        "    plt.fill_between(episodes,\n",
        "                    qlearning_mean_smoothed - qlearning_std_smoothed,\n",
        "                    qlearning_mean_smoothed + qlearning_std_smoothed,\n",
        "                    alpha=0.2, color='green')\n",
        "\n",
        "    plt.title('SARSA vs Q-Learning Performance Comparison')\n",
        "    plt.xlabel('Episode')\n",
        "    plt.ylabel('Reward')\n",
        "    plt.legend()\n",
        "    plt.grid(True)\n",
        "\n",
        "    plt.savefig('sarsa_vs_qlearning_comparison.png')\n",
        "    plt.show()\n",
        "\n",
        "# After running the evaluation, add this line:\n",
        "create_comparative_plot(sarsa_rewards, qlearning_rewards)\n"
      ],
      "metadata": {
        "colab": {
          "base_uri": "https://localhost:8080/",
          "height": 718
        },
        "id": "byAe1iNdStTY",
        "outputId": "613c98c3-8fde-4b97-d530-b4d0721be2f6"
      },
      "execution_count": 16,
      "outputs": [
        {
          "output_type": "display_data",
          "data": {
            "text/plain": [
              "<Figure size 1200x800 with 1 Axes>"
            ],
            "image/png": "[encoded data removed]"
          },
          "metadata": {}
        }
      ]
    },
    {
      "cell_type": "markdown",
      "source": [
        "import wandb\n",
        "wandb.login()\n"
      ],
      "metadata": {
        "id": "xNWJfw2sNZTe"
      }
    }
  ]
}
